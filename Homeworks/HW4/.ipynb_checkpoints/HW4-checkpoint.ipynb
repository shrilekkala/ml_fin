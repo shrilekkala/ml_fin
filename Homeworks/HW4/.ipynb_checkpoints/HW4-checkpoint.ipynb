{
 "cells": [
  {
   "cell_type": "code",
   "execution_count": 1,
   "metadata": {
    "ExecuteTime": {
     "end_time": "2020-03-03T02:04:18.675044Z",
     "start_time": "2020-03-03T02:04:15.120387Z"
    }
   },
   "outputs": [
    {
     "name": "stderr",
     "output_type": "stream",
     "text": [
      "/var/folders/sp/wlr6xm2979l8vx6kjh2z1dk00000gn/T/ipykernel_74400/796912209.py:9: FutureWarning: use_inf_as_na option is deprecated and will be removed in a future version. Convert inf values to NaN before operating instead.\n",
      "  pd.set_option('use_inf_as_na', True)\n"
     ]
    }
   ],
   "source": [
    "import pandas as pd\n",
    "import numpy as np\n",
    "import matplotlib.pyplot as plt\n",
    "%matplotlib inline\n",
    "from sklearn.metrics import accuracy_score, confusion_matrix\n",
    "from sklearn.tree import DecisionTreeClassifier\n",
    "from sklearn.ensemble import RandomForestClassifier\n",
    "import sklearn\n",
    "pd.set_option('use_inf_as_na', True)\n",
    "from collections import Counter\n",
    "import _pickle as cPickle\n",
    "\n",
    "from tqdm import tqdm # to measure progress of for loops"
   ]
  },
  {
   "cell_type": "code",
   "execution_count": 2,
   "metadata": {
    "ExecuteTime": {
     "end_time": "2020-03-03T02:04:21.903526Z",
     "start_time": "2020-03-03T02:04:19.923963Z"
    }
   },
   "outputs": [],
   "source": [
    "raw_data = pd.read_pickle(r'dataset.pkl')\n",
    "data = raw_data[raw_data['market_cap'] > 1000.0]\n",
    "data = data.copy()\n",
    "data.fillna(0.0,inplace=True)"
   ]
  },
  {
   "cell_type": "code",
   "execution_count": 3,
   "metadata": {
    "ExecuteTime": {
     "end_time": "2020-03-03T02:04:24.516696Z",
     "start_time": "2020-03-03T02:04:24.512695Z"
    }
   },
   "outputs": [],
   "source": [
    "def f(x):\n",
    "    if x > 0.01:\n",
    "        return 1\n",
    "    elif x < -0.025:\n",
    "        return -1\n",
    "    else:\n",
    "        return 0"
   ]
  },
  {
   "cell_type": "code",
   "execution_count": 4,
   "metadata": {
    "ExecuteTime": {
     "end_time": "2020-03-03T02:04:30.421746Z",
     "start_time": "2020-03-03T02:04:30.370536Z"
    }
   },
   "outputs": [],
   "source": [
    "data['rel_performance'] = data['pred_rel_return'].apply(f)\n",
    "data.reset_index(inplace=True)\n",
    "data.set_index('date',inplace=True)"
   ]
  },
  {
   "cell_type": "code",
   "execution_count": 5,
   "metadata": {},
   "outputs": [],
   "source": [
    "from sklearn.preprocessing import MinMaxScaler,StandardScaler\n",
    "scaler = StandardScaler()"
   ]
  },
  {
   "cell_type": "markdown",
   "metadata": {},
   "source": [
    "# Problem 1. Random Forest"
   ]
  },
  {
   "cell_type": "markdown",
   "metadata": {},
   "source": [
    "## Long term performance with Random Forest Classifier, optimal hyper-parameters, and optimal features"
   ]
  },
  {
   "cell_type": "code",
   "execution_count": 6,
   "metadata": {
    "ExecuteTime": {
     "end_time": "2020-02-11T00:59:21.882803Z",
     "start_time": "2020-02-11T00:59:21.859799Z"
    }
   },
   "outputs": [],
   "source": [
    "start_dates = [pd.to_datetime('2001-01-01') + pd.DateOffset(months = 3*i) for i in range(57)]\n",
    "end_dates = [d + pd.DateOffset(months = 36) for d in start_dates]"
   ]
  },
  {
   "cell_type": "code",
   "execution_count": 7,
   "metadata": {
    "ExecuteTime": {
     "end_time": "2020-02-11T01:00:06.107690Z",
     "start_time": "2020-02-11T01:00:06.050640Z"
    }
   },
   "outputs": [],
   "source": [
    "training_frames = [data.loc[d:d+pd.DateOffset(months = 36)] for d in start_dates]\n",
    "valid_frames = [data.loc[d:d+pd.DateOffset(months = 3)] for d in end_dates]\n",
    "test_frames = [data.loc[d+pd.DateOffset(months = 6):d+pd.DateOffset(months = 9)] for d in end_dates]"
   ]
  },
  {
   "cell_type": "code",
   "execution_count": 8,
   "metadata": {
    "ExecuteTime": {
     "end_time": "2020-02-11T01:00:20.984116Z",
     "start_time": "2020-02-11T01:00:11.072616Z"
    }
   },
   "outputs": [],
   "source": [
    "training_data = [d.reset_index().drop\n",
    "                                 (['ticker','date',\n",
    "                                   'next_period_return',\n",
    "                                   'spy_next_period_return',\n",
    "                                   'rel_performance','pred_rel_return',\n",
    "                                  'return', 'cum_ret', 'spy_cum_ret'],axis=1) for d in training_frames]"
   ]
  },
  {
   "cell_type": "code",
   "execution_count": 9,
   "metadata": {},
   "outputs": [],
   "source": [
    "valid_data = [d.reset_index().drop\n",
    "                                 (['ticker','date',\n",
    "                                   'next_period_return',\n",
    "                                   'spy_next_period_return',\n",
    "                                   'rel_performance','pred_rel_return',\n",
    "                                  'return', 'cum_ret', 'spy_cum_ret'],axis=1) for d in valid_frames]"
   ]
  },
  {
   "cell_type": "code",
   "execution_count": 10,
   "metadata": {
    "ExecuteTime": {
     "end_time": "2020-02-11T01:00:22.138142Z",
     "start_time": "2020-02-11T01:00:20.986086Z"
    }
   },
   "outputs": [],
   "source": [
    "test_data = [d.reset_index().drop(['ticker','date',\n",
    "                                   'next_period_return',\n",
    "                                   'spy_next_period_return',\n",
    "                                   'rel_performance','pred_rel_return',\n",
    "                                  'return', 'cum_ret', 'spy_cum_ret'],axis=1) for d in test_frames]"
   ]
  },
  {
   "cell_type": "code",
   "execution_count": 11,
   "metadata": {
    "ExecuteTime": {
     "end_time": "2020-02-11T01:00:28.172336Z",
     "start_time": "2020-02-11T01:00:28.162322Z"
    }
   },
   "outputs": [],
   "source": [
    "training_labels = [d['rel_performance'].values for d in training_frames]\n",
    "valid_labels = [d['rel_performance'].values for d in valid_frames] "
   ]
  },
  {
   "cell_type": "code",
   "execution_count": 12,
   "metadata": {},
   "outputs": [],
   "source": [
    "for i in range(len(start_dates)-1):\n",
    "    float_vars = [x for x in training_data[i].columns if data[x].dtype == 'float64']\n",
    "\n",
    "    scaler = StandardScaler()\n",
    "    training_data[i] = training_data[i].copy()\n",
    "    valid_data[i] = valid_data[i].copy()\n",
    "    test_data[i] = test_data[i].copy()\n",
    "    training_data[i][float_vars] = scaler.fit_transform(training_data[i][float_vars])\n",
    "    valid_data[i][float_vars] = scaler.transform(valid_data[i][float_vars])\n",
    "    test_data[i][float_vars] = scaler.transform(test_data[i][float_vars])"
   ]
  },
  {
   "cell_type": "markdown",
   "metadata": {},
   "source": [
    "### Open and read the shap features over the holding period 2003 - 2018"
   ]
  },
  {
   "cell_type": "code",
   "execution_count": 13,
   "metadata": {},
   "outputs": [],
   "source": [
    "with open(r'Random Forest Parameters/shap_features.pkl','rb') as f:\n",
    "    shap_rf = cPickle.load(f)\n",
    "with open(r'Random Forest Parameters/optimal_hyperparameters.pkl','rb') as f:\n",
    "    opt_hyper_params_rf = cPickle.load(f)"
   ]
  },
  {
   "cell_type": "code",
   "execution_count": 14,
   "metadata": {},
   "outputs": [
    {
     "data": {
      "text/plain": [
       "[('fcf_yield', 42),\n",
       " ('cf_yield', 41),\n",
       " ('oancfy', 41),\n",
       " ('oancfy_q', 39),\n",
       " ('fcf_csfhdq', 37),\n",
       " ('lt_ppentq', 37),\n",
       " ('evmq', 36),\n",
       " ('dprq', 36),\n",
       " ('oepsxy', 35),\n",
       " ('dvpspq', 35)]"
      ]
     },
     "execution_count": 14,
     "metadata": {},
     "output_type": "execute_result"
    }
   ],
   "source": [
    "# Convert shap_rf to a list of features\n",
    "shap_rf_list = []\n",
    "for feats in shap_rf:\n",
    "    shap_rf_list.extend(list(feats))\n",
    "\n",
    "# Find the 10 most common features\n",
    "c = Counter(shap_rf_list)\n",
    "c.most_common(10)"
   ]
  },
  {
   "cell_type": "code",
   "execution_count": 15,
   "metadata": {},
   "outputs": [],
   "source": [
    "# Choose 10 most common shap features to be the optimal features\n",
    "opt_rf_feats = [val[0] for val in c.most_common(10)]"
   ]
  },
  {
   "cell_type": "code",
   "execution_count": 16,
   "metadata": {},
   "outputs": [],
   "source": []
  },
  {
   "cell_type": "code",
   "execution_count": 17,
   "metadata": {},
   "outputs": [],
   "source": [
    "# Initialize the list of classifiers with the optimal hyperparameters\n",
    "rf_classifiers = []\n",
    "\n",
    "for hyp_par in opt_hyper_params_rf:\n",
    "    rf_clf = RandomForestClassifier(**hyp_par)\n",
    "    rf_classifiers.append(rf_clf)"
   ]
  },
  {
   "cell_type": "code",
   "execution_count": 18,
   "metadata": {},
   "outputs": [],
   "source": [
    "# for i in tqdm(range(len(start_dates)-1)):\n",
    "#     rf_classifiers[i].fit(training_data[i],training_labels[i])"
   ]
  },
  {
   "cell_type": "code",
   "execution_count": 19,
   "metadata": {},
   "outputs": [],
   "source": [
    "# new_training_data = []\n",
    "# new_valid_data = []\n",
    "# new_test_data = []"
   ]
  },
  {
   "cell_type": "code",
   "execution_count": 20,
   "metadata": {},
   "outputs": [],
   "source": [
    "# for i in range(len(start_dates)-1): \n",
    "#     new_training_data.append(training_data[i][opt_rf_feats])\n",
    "#     new_valid_data.append(valid_data[i][opt_rf_feats])\n",
    "#     new_test_data.append(test_data[i][opt_rf_feats])"
   ]
  },
  {
   "cell_type": "code",
   "execution_count": 21,
   "metadata": {},
   "outputs": [],
   "source": [
    "# new_valid_data[1].columns"
   ]
  },
  {
   "cell_type": "code",
   "execution_count": 22,
   "metadata": {},
   "outputs": [],
   "source": [
    "# for i in range(len(start_dates)-1):\n",
    "#     float_vars = [x for x in new_training_data[i].columns if data[x].dtype == 'float64']\n",
    "\n",
    "#     scaler = StandardScaler()\n",
    "#     new_training_data[i] = new_training_data[i].copy()\n",
    "#     new_valid_data[i] = new_valid_data[i].copy()\n",
    "#     new_test_data[i] = new_test_data[i].copy()\n",
    "#     new_training_data[i][float_vars] = scaler.fit_transform(new_training_data[i][float_vars])\n",
    "#     new_valid_data[i][float_vars] = scaler.transform(new_valid_data[i][float_vars])\n",
    "#     new_test_data[i][float_vars] = scaler.transform(new_test_data[i][float_vars])"
   ]
  },
  {
   "cell_type": "code",
   "execution_count": 23,
   "metadata": {},
   "outputs": [],
   "source": [
    "# for i in tqdm(range(len(start_dates)-1)):\n",
    "#     rf_classifiers[i].fit(new_training_data[i],training_labels[i])"
   ]
  },
  {
   "cell_type": "code",
   "execution_count": 24,
   "metadata": {},
   "outputs": [],
   "source": [
    "start_dates = [pd.to_datetime('2001-01-01') + pd.DateOffset(months = 3*i) for i in range(57)]\n",
    "end_dates = [d + pd.DateOffset(months = 39) for d in start_dates]"
   ]
  },
  {
   "cell_type": "code",
   "execution_count": 25,
   "metadata": {},
   "outputs": [],
   "source": [
    "training_frames = [data.loc[d:d+pd.DateOffset(months = 39)] for d in start_dates]\n",
    "test_frames = [data.loc[d+pd.DateOffset(months = 3):d+pd.DateOffset(months = 6)] for d in end_dates]"
   ]
  },
  {
   "cell_type": "code",
   "execution_count": 26,
   "metadata": {},
   "outputs": [],
   "source": [
    "training_labels = [d['rel_performance'].values for d in training_frames]"
   ]
  },
  {
   "cell_type": "code",
   "execution_count": 27,
   "metadata": {
    "ExecuteTime": {
     "end_time": "2020-02-11T01:00:33.994294Z",
     "start_time": "2020-02-11T01:00:33.869286Z"
    }
   },
   "outputs": [],
   "source": [
    "scalers = [StandardScaler() for i in range(len(start_dates)-1)]\n",
    "           \n",
    "opt_training_data = [pd.DataFrame(scalers[i].fit_transform(training_frames[i][opt_rf_feats].values),columns=opt_rf_feats) for i in range(len(start_dates)-1)]\n",
    "opt_test_data = [pd.DataFrame(scalers[i].transform(test_frames[i][opt_rf_feats].values),columns=opt_rf_feats) for i in range(len(start_dates)-1)]"
   ]
  },
  {
   "cell_type": "code",
   "execution_count": 28,
   "metadata": {},
   "outputs": [
    {
     "data": {
      "text/html": [
       "<div>\n",
       "<style scoped>\n",
       "    .dataframe tbody tr th:only-of-type {\n",
       "        vertical-align: middle;\n",
       "    }\n",
       "\n",
       "    .dataframe tbody tr th {\n",
       "        vertical-align: top;\n",
       "    }\n",
       "\n",
       "    .dataframe thead th {\n",
       "        text-align: right;\n",
       "    }\n",
       "</style>\n",
       "<table border=\"1\" class=\"dataframe\">\n",
       "  <thead>\n",
       "    <tr style=\"text-align: right;\">\n",
       "      <th></th>\n",
       "      <th>fcf_yield</th>\n",
       "      <th>cf_yield</th>\n",
       "      <th>oancfy</th>\n",
       "      <th>oancfy_q</th>\n",
       "      <th>fcf_csfhdq</th>\n",
       "      <th>lt_ppentq</th>\n",
       "      <th>evmq</th>\n",
       "      <th>dprq</th>\n",
       "      <th>oepsxy</th>\n",
       "      <th>dvpspq</th>\n",
       "    </tr>\n",
       "  </thead>\n",
       "  <tbody>\n",
       "    <tr>\n",
       "      <th>0</th>\n",
       "      <td>-0.206398</td>\n",
       "      <td>-0.645950</td>\n",
       "      <td>-0.171431</td>\n",
       "      <td>-0.142220</td>\n",
       "      <td>-0.222443</td>\n",
       "      <td>-0.138036</td>\n",
       "      <td>0.080339</td>\n",
       "      <td>-0.042204</td>\n",
       "      <td>-0.093053</td>\n",
       "      <td>-0.595682</td>\n",
       "    </tr>\n",
       "    <tr>\n",
       "      <th>1</th>\n",
       "      <td>-0.420684</td>\n",
       "      <td>2.792597</td>\n",
       "      <td>0.852188</td>\n",
       "      <td>0.210787</td>\n",
       "      <td>-0.359797</td>\n",
       "      <td>-0.137840</td>\n",
       "      <td>-1.060025</td>\n",
       "      <td>-0.112661</td>\n",
       "      <td>-0.578317</td>\n",
       "      <td>-0.408904</td>\n",
       "    </tr>\n",
       "    <tr>\n",
       "      <th>2</th>\n",
       "      <td>-0.020692</td>\n",
       "      <td>-0.102749</td>\n",
       "      <td>-0.051488</td>\n",
       "      <td>-0.110094</td>\n",
       "      <td>-0.118421</td>\n",
       "      <td>-0.143237</td>\n",
       "      <td>0.013442</td>\n",
       "      <td>-0.006715</td>\n",
       "      <td>0.215752</td>\n",
       "      <td>-0.198778</td>\n",
       "    </tr>\n",
       "    <tr>\n",
       "      <th>3</th>\n",
       "      <td>0.049269</td>\n",
       "      <td>-0.199209</td>\n",
       "      <td>-0.200669</td>\n",
       "      <td>-0.110826</td>\n",
       "      <td>0.041014</td>\n",
       "      <td>-0.126797</td>\n",
       "      <td>0.011170</td>\n",
       "      <td>-0.030968</td>\n",
       "      <td>0.107470</td>\n",
       "      <td>-0.595682</td>\n",
       "    </tr>\n",
       "    <tr>\n",
       "      <th>4</th>\n",
       "      <td>0.006049</td>\n",
       "      <td>-0.332625</td>\n",
       "      <td>1.494588</td>\n",
       "      <td>1.340345</td>\n",
       "      <td>0.089421</td>\n",
       "      <td>-0.136787</td>\n",
       "      <td>0.018215</td>\n",
       "      <td>0.007137</td>\n",
       "      <td>0.307992</td>\n",
       "      <td>0.478292</td>\n",
       "    </tr>\n",
       "    <tr>\n",
       "      <th>...</th>\n",
       "      <td>...</td>\n",
       "      <td>...</td>\n",
       "      <td>...</td>\n",
       "      <td>...</td>\n",
       "      <td>...</td>\n",
       "      <td>...</td>\n",
       "      <td>...</td>\n",
       "      <td>...</td>\n",
       "      <td>...</td>\n",
       "      <td>...</td>\n",
       "    </tr>\n",
       "    <tr>\n",
       "      <th>1131</th>\n",
       "      <td>-0.062845</td>\n",
       "      <td>-0.275955</td>\n",
       "      <td>-0.011859</td>\n",
       "      <td>0.030989</td>\n",
       "      <td>-0.150327</td>\n",
       "      <td>-0.125497</td>\n",
       "      <td>-0.007114</td>\n",
       "      <td>0.091678</td>\n",
       "      <td>-0.133157</td>\n",
       "      <td>0.618376</td>\n",
       "    </tr>\n",
       "    <tr>\n",
       "      <th>1132</th>\n",
       "      <td>-0.036429</td>\n",
       "      <td>-0.386222</td>\n",
       "      <td>-0.195607</td>\n",
       "      <td>-0.156680</td>\n",
       "      <td>0.068950</td>\n",
       "      <td>-0.122519</td>\n",
       "      <td>0.014597</td>\n",
       "      <td>-0.023044</td>\n",
       "      <td>0.099449</td>\n",
       "      <td>-0.408904</td>\n",
       "    </tr>\n",
       "    <tr>\n",
       "      <th>1133</th>\n",
       "      <td>-0.242139</td>\n",
       "      <td>0.414694</td>\n",
       "      <td>-0.090863</td>\n",
       "      <td>0.021878</td>\n",
       "      <td>-0.311895</td>\n",
       "      <td>-0.146362</td>\n",
       "      <td>0.002207</td>\n",
       "      <td>-0.042204</td>\n",
       "      <td>-0.297586</td>\n",
       "      <td>-0.595682</td>\n",
       "    </tr>\n",
       "    <tr>\n",
       "      <th>1134</th>\n",
       "      <td>-0.032373</td>\n",
       "      <td>-0.453909</td>\n",
       "      <td>-0.213380</td>\n",
       "      <td>-0.163768</td>\n",
       "      <td>0.006329</td>\n",
       "      <td>-0.099544</td>\n",
       "      <td>0.015523</td>\n",
       "      <td>-0.042204</td>\n",
       "      <td>0.051323</td>\n",
       "      <td>-0.595682</td>\n",
       "    </tr>\n",
       "    <tr>\n",
       "      <th>1135</th>\n",
       "      <td>-0.081537</td>\n",
       "      <td>-0.517354</td>\n",
       "      <td>-0.191139</td>\n",
       "      <td>-0.168606</td>\n",
       "      <td>-0.252757</td>\n",
       "      <td>-0.135636</td>\n",
       "      <td>0.044254</td>\n",
       "      <td>-0.042204</td>\n",
       "      <td>-0.301596</td>\n",
       "      <td>-0.595682</td>\n",
       "    </tr>\n",
       "  </tbody>\n",
       "</table>\n",
       "<p>1136 rows × 10 columns</p>\n",
       "</div>"
      ],
      "text/plain": [
       "      fcf_yield  cf_yield    oancfy  oancfy_q  fcf_csfhdq  lt_ppentq  \\\n",
       "0     -0.206398 -0.645950 -0.171431 -0.142220   -0.222443  -0.138036   \n",
       "1     -0.420684  2.792597  0.852188  0.210787   -0.359797  -0.137840   \n",
       "2     -0.020692 -0.102749 -0.051488 -0.110094   -0.118421  -0.143237   \n",
       "3      0.049269 -0.199209 -0.200669 -0.110826    0.041014  -0.126797   \n",
       "4      0.006049 -0.332625  1.494588  1.340345    0.089421  -0.136787   \n",
       "...         ...       ...       ...       ...         ...        ...   \n",
       "1131  -0.062845 -0.275955 -0.011859  0.030989   -0.150327  -0.125497   \n",
       "1132  -0.036429 -0.386222 -0.195607 -0.156680    0.068950  -0.122519   \n",
       "1133  -0.242139  0.414694 -0.090863  0.021878   -0.311895  -0.146362   \n",
       "1134  -0.032373 -0.453909 -0.213380 -0.163768    0.006329  -0.099544   \n",
       "1135  -0.081537 -0.517354 -0.191139 -0.168606   -0.252757  -0.135636   \n",
       "\n",
       "          evmq      dprq    oepsxy    dvpspq  \n",
       "0     0.080339 -0.042204 -0.093053 -0.595682  \n",
       "1    -1.060025 -0.112661 -0.578317 -0.408904  \n",
       "2     0.013442 -0.006715  0.215752 -0.198778  \n",
       "3     0.011170 -0.030968  0.107470 -0.595682  \n",
       "4     0.018215  0.007137  0.307992  0.478292  \n",
       "...        ...       ...       ...       ...  \n",
       "1131 -0.007114  0.091678 -0.133157  0.618376  \n",
       "1132  0.014597 -0.023044  0.099449 -0.408904  \n",
       "1133  0.002207 -0.042204 -0.297586 -0.595682  \n",
       "1134  0.015523 -0.042204  0.051323 -0.595682  \n",
       "1135  0.044254 -0.042204 -0.301596 -0.595682  \n",
       "\n",
       "[1136 rows x 10 columns]"
      ]
     },
     "execution_count": 28,
     "metadata": {},
     "output_type": "execute_result"
    }
   ],
   "source": [
    "opt_test_data[1]"
   ]
  },
  {
   "cell_type": "code",
   "execution_count": 29,
   "metadata": {
    "ExecuteTime": {
     "end_time": "2020-02-11T01:01:15.387898Z",
     "start_time": "2020-02-11T01:00:58.271824Z"
    }
   },
   "outputs": [
    {
     "name": "stderr",
     "output_type": "stream",
     "text": [
      "100%|███████████████████████████████████████████| 56/56 [00:16<00:00,  3.39it/s]\n"
     ]
    }
   ],
   "source": [
    "x_rf = [1]\n",
    "ret_rf = []\n",
    "\n",
    "for i in tqdm(range(len(start_dates)-1)):\n",
    "        rf_classifiers[i].fit(opt_training_data[i],training_labels[i])\n",
    "        preds = rf_classifiers[i].predict(opt_test_data[i])\n",
    "        profit_i = (preds*test_frames[i]['next_period_return']).sum()\n",
    "        ret_rf.append(profit_i)\n",
    "        num_names = len(opt_test_data[i])\n",
    "        x_rf.append(x_rf[i] + (x_rf[i]/num_names)*profit_i)"
   ]
  },
  {
   "cell_type": "code",
   "execution_count": 30,
   "metadata": {},
   "outputs": [
    {
     "data": {
      "text/html": [
       "<div>\n",
       "<style scoped>\n",
       "    .dataframe tbody tr th:only-of-type {\n",
       "        vertical-align: middle;\n",
       "    }\n",
       "\n",
       "    .dataframe tbody tr th {\n",
       "        vertical-align: top;\n",
       "    }\n",
       "\n",
       "    .dataframe thead th {\n",
       "        text-align: right;\n",
       "    }\n",
       "</style>\n",
       "<table border=\"1\" class=\"dataframe\">\n",
       "  <thead>\n",
       "    <tr style=\"text-align: right;\">\n",
       "      <th></th>\n",
       "      <th>fcf_yield</th>\n",
       "      <th>cf_yield</th>\n",
       "      <th>oancfy</th>\n",
       "      <th>oancfy_q</th>\n",
       "      <th>fcf_csfhdq</th>\n",
       "      <th>lt_ppentq</th>\n",
       "      <th>evmq</th>\n",
       "      <th>dprq</th>\n",
       "      <th>oepsxy</th>\n",
       "      <th>dvpspq</th>\n",
       "    </tr>\n",
       "  </thead>\n",
       "  <tbody>\n",
       "    <tr>\n",
       "      <th>0</th>\n",
       "      <td>-0.364674</td>\n",
       "      <td>-0.373115</td>\n",
       "      <td>-0.254676</td>\n",
       "      <td>-0.210633</td>\n",
       "      <td>-0.387421</td>\n",
       "      <td>-0.149403</td>\n",
       "      <td>0.011737</td>\n",
       "      <td>0.000913</td>\n",
       "      <td>-0.303291</td>\n",
       "      <td>-0.342313</td>\n",
       "    </tr>\n",
       "    <tr>\n",
       "      <th>1</th>\n",
       "      <td>0.197588</td>\n",
       "      <td>0.141487</td>\n",
       "      <td>-0.241345</td>\n",
       "      <td>-0.190014</td>\n",
       "      <td>0.179362</td>\n",
       "      <td>-0.156643</td>\n",
       "      <td>-0.005808</td>\n",
       "      <td>-0.042189</td>\n",
       "      <td>0.137554</td>\n",
       "      <td>-0.100479</td>\n",
       "    </tr>\n",
       "    <tr>\n",
       "      <th>2</th>\n",
       "      <td>-0.245033</td>\n",
       "      <td>-0.713570</td>\n",
       "      <td>-0.241345</td>\n",
       "      <td>-0.190014</td>\n",
       "      <td>-0.310581</td>\n",
       "      <td>-0.156643</td>\n",
       "      <td>-0.005808</td>\n",
       "      <td>-0.042189</td>\n",
       "      <td>0.029276</td>\n",
       "      <td>-0.608331</td>\n",
       "    </tr>\n",
       "    <tr>\n",
       "      <th>3</th>\n",
       "      <td>-0.029521</td>\n",
       "      <td>-0.416773</td>\n",
       "      <td>0.786906</td>\n",
       "      <td>12.731855</td>\n",
       "      <td>0.653886</td>\n",
       "      <td>-0.156643</td>\n",
       "      <td>-0.005808</td>\n",
       "      <td>-0.042189</td>\n",
       "      <td>3.157725</td>\n",
       "      <td>-0.608331</td>\n",
       "    </tr>\n",
       "    <tr>\n",
       "      <th>4</th>\n",
       "      <td>0.106482</td>\n",
       "      <td>0.132656</td>\n",
       "      <td>0.093656</td>\n",
       "      <td>0.134457</td>\n",
       "      <td>0.183774</td>\n",
       "      <td>-0.144333</td>\n",
       "      <td>0.007720</td>\n",
       "      <td>-0.042189</td>\n",
       "      <td>-0.001660</td>\n",
       "      <td>-0.608331</td>\n",
       "    </tr>\n",
       "    <tr>\n",
       "      <th>...</th>\n",
       "      <td>...</td>\n",
       "      <td>...</td>\n",
       "      <td>...</td>\n",
       "      <td>...</td>\n",
       "      <td>...</td>\n",
       "      <td>...</td>\n",
       "      <td>...</td>\n",
       "      <td>...</td>\n",
       "      <td>...</td>\n",
       "      <td>...</td>\n",
       "    </tr>\n",
       "    <tr>\n",
       "      <th>11948</th>\n",
       "      <td>-0.015125</td>\n",
       "      <td>-0.391696</td>\n",
       "      <td>0.012074</td>\n",
       "      <td>-0.013080</td>\n",
       "      <td>0.000351</td>\n",
       "      <td>-0.141993</td>\n",
       "      <td>0.021511</td>\n",
       "      <td>-0.042189</td>\n",
       "      <td>0.110484</td>\n",
       "      <td>-0.608331</td>\n",
       "    </tr>\n",
       "    <tr>\n",
       "      <th>11949</th>\n",
       "      <td>0.062716</td>\n",
       "      <td>-0.143016</td>\n",
       "      <td>0.387533</td>\n",
       "      <td>0.543976</td>\n",
       "      <td>0.230902</td>\n",
       "      <td>-0.137175</td>\n",
       "      <td>0.010447</td>\n",
       "      <td>-0.014956</td>\n",
       "      <td>0.547462</td>\n",
       "      <td>1.326343</td>\n",
       "    </tr>\n",
       "    <tr>\n",
       "      <th>11950</th>\n",
       "      <td>0.117617</td>\n",
       "      <td>1.706237</td>\n",
       "      <td>2.376090</td>\n",
       "      <td>3.858418</td>\n",
       "      <td>0.178434</td>\n",
       "      <td>-0.156643</td>\n",
       "      <td>-0.005808</td>\n",
       "      <td>-0.042189</td>\n",
       "      <td>1.127520</td>\n",
       "      <td>-0.608331</td>\n",
       "    </tr>\n",
       "    <tr>\n",
       "      <th>11951</th>\n",
       "      <td>0.527356</td>\n",
       "      <td>0.401059</td>\n",
       "      <td>-0.141076</td>\n",
       "      <td>-0.507338</td>\n",
       "      <td>0.532646</td>\n",
       "      <td>-0.156643</td>\n",
       "      <td>-0.005808</td>\n",
       "      <td>-0.042189</td>\n",
       "      <td>-0.102204</td>\n",
       "      <td>0.020438</td>\n",
       "    </tr>\n",
       "    <tr>\n",
       "      <th>11952</th>\n",
       "      <td>-0.101508</td>\n",
       "      <td>-0.445734</td>\n",
       "      <td>1.028789</td>\n",
       "      <td>-2.545124</td>\n",
       "      <td>0.011854</td>\n",
       "      <td>1.213926</td>\n",
       "      <td>0.016344</td>\n",
       "      <td>0.019538</td>\n",
       "      <td>1.286070</td>\n",
       "      <td>-0.608331</td>\n",
       "    </tr>\n",
       "  </tbody>\n",
       "</table>\n",
       "<p>11953 rows × 10 columns</p>\n",
       "</div>"
      ],
      "text/plain": [
       "       fcf_yield  cf_yield    oancfy   oancfy_q  fcf_csfhdq  lt_ppentq  \\\n",
       "0      -0.364674 -0.373115 -0.254676  -0.210633   -0.387421  -0.149403   \n",
       "1       0.197588  0.141487 -0.241345  -0.190014    0.179362  -0.156643   \n",
       "2      -0.245033 -0.713570 -0.241345  -0.190014   -0.310581  -0.156643   \n",
       "3      -0.029521 -0.416773  0.786906  12.731855    0.653886  -0.156643   \n",
       "4       0.106482  0.132656  0.093656   0.134457    0.183774  -0.144333   \n",
       "...          ...       ...       ...        ...         ...        ...   \n",
       "11948  -0.015125 -0.391696  0.012074  -0.013080    0.000351  -0.141993   \n",
       "11949   0.062716 -0.143016  0.387533   0.543976    0.230902  -0.137175   \n",
       "11950   0.117617  1.706237  2.376090   3.858418    0.178434  -0.156643   \n",
       "11951   0.527356  0.401059 -0.141076  -0.507338    0.532646  -0.156643   \n",
       "11952  -0.101508 -0.445734  1.028789  -2.545124    0.011854   1.213926   \n",
       "\n",
       "           evmq      dprq    oepsxy    dvpspq  \n",
       "0      0.011737  0.000913 -0.303291 -0.342313  \n",
       "1     -0.005808 -0.042189  0.137554 -0.100479  \n",
       "2     -0.005808 -0.042189  0.029276 -0.608331  \n",
       "3     -0.005808 -0.042189  3.157725 -0.608331  \n",
       "4      0.007720 -0.042189 -0.001660 -0.608331  \n",
       "...         ...       ...       ...       ...  \n",
       "11948  0.021511 -0.042189  0.110484 -0.608331  \n",
       "11949  0.010447 -0.014956  0.547462  1.326343  \n",
       "11950 -0.005808 -0.042189  1.127520 -0.608331  \n",
       "11951 -0.005808 -0.042189 -0.102204  0.020438  \n",
       "11952  0.016344  0.019538  1.286070 -0.608331  \n",
       "\n",
       "[11953 rows x 10 columns]"
      ]
     },
     "execution_count": 30,
     "metadata": {},
     "output_type": "execute_result"
    }
   ],
   "source": [
    "opt_training_data[0]"
   ]
  },
  {
   "cell_type": "code",
   "execution_count": 32,
   "metadata": {
    "ExecuteTime": {
     "end_time": "2020-02-11T01:01:37.494042Z",
     "start_time": "2020-02-11T01:01:37.445007Z"
    }
   },
   "outputs": [
    {
     "name": "stderr",
     "output_type": "stream",
     "text": [
      "/var/folders/sp/wlr6xm2979l8vx6kjh2z1dk00000gn/T/ipykernel_74400/828307751.py:4: FutureWarning: Series.__getitem__ treating keys as positions is deprecated. In a future version, integer keys will always be treated as labels (consistent with DataFrame behavior). To access a value by position, use `ser.iloc[pos]`\n",
      "  SPY['spy_cum_ret'] = (SPY['spy_cum_ret'] - SPY['spy_cum_ret'][0] + 1)\n"
     ]
    }
   ],
   "source": [
    "SPY = pd.read_pickle(r'SPY_cum_ret.pkl')\n",
    "SPY = SPY.loc['2004-07-01':'2018-09-30']\n",
    "SPY = SPY.resample('Q').ffill()\n",
    "SPY['spy_cum_ret'] = (SPY['spy_cum_ret'] - SPY['spy_cum_ret'][0] + 1)\n",
    "SPY['random forest strategy'] = x_rf"
   ]
  },
  {
   "cell_type": "markdown",
   "metadata": {},
   "source": [
    "### Plot the P/L curves and compute the Sharpe Ratio"
   ]
  },
  {
   "cell_type": "code",
   "execution_count": 33,
   "metadata": {
    "ExecuteTime": {
     "end_time": "2020-02-11T01:01:41.397432Z",
     "start_time": "2020-02-11T01:01:41.198433Z"
    }
   },
   "outputs": [
    {
     "data": {
      "image/png": "[encoded data removed]",
      "text/plain": [
       "<Figure size 640x480 with 1 Axes>"
      ]
     },
     "metadata": {},
     "output_type": "display_data"
    }
   ],
   "source": [
    "SPY.plot();"
   ]
  },
  {
   "cell_type": "code",
   "execution_count": 34,
   "metadata": {},
   "outputs": [
    {
     "name": "stdout",
     "output_type": "stream",
     "text": [
      "Strategy Sharpe Ratio:  0.47419724271363933\n"
     ]
    }
   ],
   "source": [
    "strategy_mean_ret = (SPY['random forest strategy'] - 1).diff().mean()\n",
    "strategy_std = (SPY['random forest strategy'] - 1).diff().std()\n",
    "strategy_sr = strategy_mean_ret/strategy_std\n",
    "print('Strategy Sharpe Ratio: ',strategy_sr)"
   ]
  },
  {
   "cell_type": "code",
   "execution_count": 35,
   "metadata": {
    "ExecuteTime": {
     "end_time": "2020-02-11T01:01:46.417678Z",
     "start_time": "2020-02-11T01:01:46.157159Z"
    }
   },
   "outputs": [
    {
     "data": {
      "image/png": "[encoded data removed]",
      "text/plain": [
       "<Figure size 640x480 with 1 Axes>"
      ]
     },
     "metadata": {},
     "output_type": "display_data"
    }
   ],
   "source": [
    "SPY = SPY.resample('Y').ffill()\n",
    "SPY.plot();"
   ]
  },
  {
   "cell_type": "code",
   "execution_count": 36,
   "metadata": {
    "ExecuteTime": {
     "end_time": "2020-02-11T01:01:54.486712Z",
     "start_time": "2020-02-11T01:01:54.468721Z"
    }
   },
   "outputs": [
    {
     "name": "stdout",
     "output_type": "stream",
     "text": [
      "Strategy Sharpe Ratio:  0.7825792987665202\n"
     ]
    }
   ],
   "source": [
    "strategy_mean_ret = (SPY['random forest strategy'] - 1).diff().mean()\n",
    "strategy_std = (SPY['random forest strategy'] - 1).diff().std()\n",
    "strategy_sr = strategy_mean_ret/strategy_std\n",
    "print('Strategy Sharpe Ratio: ',strategy_sr)"
   ]
  },
  {
   "cell_type": "code",
   "execution_count": null,
   "metadata": {},
   "outputs": [],
   "source": []
  },
  {
   "cell_type": "code",
   "execution_count": null,
   "metadata": {},
   "outputs": [],
   "source": []
  }
 ],
 "metadata": {
  "kernelspec": {
   "display_name": "Python 3 (ipykernel)",
   "language": "python",
   "name": "python3"
  },
  "language_info": {
   "codemirror_mode": {
    "name": "ipython",
    "version": 3
   },
   "file_extension": ".py",
   "mimetype": "text/x-python",
   "name": "python",
   "nbconvert_exporter": "python",
   "pygments_lexer": "ipython3",
   "version": "3.11.4"
  },
  "latex_envs": {
   "LaTeX_envs_menu_present": true,
   "autoclose": false,
   "autocomplete": true,
   "bibliofile": "biblio.bib",
   "cite_by": "apalike",
   "current_citInitial": 1,
   "eqLabelWithNumbers": true,
   "eqNumInitial": 1,
   "hotkeys": {
    "equation": "Ctrl-E",
    "itemize": "Ctrl-I"
   },
   "labels_anchors": false,
   "latex_user_defs": false,
   "report_style_numbering": false,
   "user_envs_cfg": false
  }
 },
 "nbformat": 4,
 "nbformat_minor": 4
}
