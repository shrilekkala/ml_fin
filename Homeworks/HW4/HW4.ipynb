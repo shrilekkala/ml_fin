{
 "cells": [
  {
   "cell_type": "code",
   "execution_count": 1,
   "metadata": {
    "ExecuteTime": {
     "end_time": "2020-03-03T02:04:18.675044Z",
     "start_time": "2020-03-03T02:04:15.120387Z"
    }
   },
   "outputs": [
    {
     "name": "stderr",
     "output_type": "stream",
     "text": [
      "/var/folders/sp/wlr6xm2979l8vx6kjh2z1dk00000gn/T/ipykernel_81674/4031544042.py:12: FutureWarning: use_inf_as_na option is deprecated and will be removed in a future version. Convert inf values to NaN before operating instead.\n",
      "  pd.set_option('use_inf_as_na', True)\n"
     ]
    }
   ],
   "source": [
    "import pandas as pd\n",
    "import numpy as np\n",
    "import matplotlib.pyplot as plt\n",
    "%matplotlib inline\n",
    "from sklearn.metrics import accuracy_score, confusion_matrix\n",
    "from sklearn.tree import DecisionTreeClassifier\n",
    "from sklearn.ensemble import RandomForestClassifier\n",
    "import sklearn\n",
    "import lightgbm as lgb \n",
    "import scipy.optimize as optimize\n",
    "\n",
    "pd.set_option('use_inf_as_na', True)\n",
    "from collections import Counter\n",
    "import _pickle as cPickle\n",
    "\n",
    "from tqdm import tqdm # to measure progress of for loops"
   ]
  },
  {
   "cell_type": "markdown",
   "metadata": {},
   "source": [
    "# Problem 1"
   ]
  },
  {
   "cell_type": "markdown",
   "metadata": {},
   "source": [
    "## Random Forest"
   ]
  },
  {
   "cell_type": "markdown",
   "metadata": {},
   "source": [
    "### Long term performance with Random Forest Classifier, optimal hyper-parameters, and optimal features"
   ]
  },
  {
   "cell_type": "code",
   "execution_count": 2,
   "metadata": {
    "ExecuteTime": {
     "end_time": "2020-03-03T02:04:21.903526Z",
     "start_time": "2020-03-03T02:04:19.923963Z"
    }
   },
   "outputs": [],
   "source": [
    "raw_data = pd.read_pickle(r'dataset.pkl')\n",
    "data = raw_data[raw_data['market_cap'] > 1000.0]\n",
    "data = data.copy()\n",
    "data.fillna(0.0,inplace=True)"
   ]
  },
  {
   "cell_type": "code",
   "execution_count": 3,
   "metadata": {
    "ExecuteTime": {
     "end_time": "2020-03-03T02:04:24.516696Z",
     "start_time": "2020-03-03T02:04:24.512695Z"
    }
   },
   "outputs": [],
   "source": [
    "def f(x):\n",
    "    if x > 0.01:\n",
    "        return 1\n",
    "    elif x < -0.025:\n",
    "        return -1\n",
    "    else:\n",
    "        return 0"
   ]
  },
  {
   "cell_type": "code",
   "execution_count": 4,
   "metadata": {
    "ExecuteTime": {
     "end_time": "2020-03-03T02:04:30.421746Z",
     "start_time": "2020-03-03T02:04:30.370536Z"
    }
   },
   "outputs": [],
   "source": [
    "data['rel_performance'] = data['pred_rel_return'].apply(f)\n",
    "data.reset_index(inplace=True)\n",
    "data.set_index('date',inplace=True)"
   ]
  },
  {
   "cell_type": "code",
   "execution_count": 5,
   "metadata": {},
   "outputs": [],
   "source": [
    "from sklearn.preprocessing import MinMaxScaler,StandardScaler\n",
    "scaler = StandardScaler()"
   ]
  },
  {
   "cell_type": "code",
   "execution_count": 6,
   "metadata": {
    "ExecuteTime": {
     "end_time": "2020-02-11T00:59:21.882803Z",
     "start_time": "2020-02-11T00:59:21.859799Z"
    }
   },
   "outputs": [],
   "source": [
    "start_dates = [pd.to_datetime('2001-01-01') + pd.DateOffset(months = 3*i) for i in range(57)]\n",
    "end_dates = [d + pd.DateOffset(months = 36) for d in start_dates]"
   ]
  },
  {
   "cell_type": "code",
   "execution_count": 7,
   "metadata": {
    "ExecuteTime": {
     "end_time": "2020-02-11T01:00:06.107690Z",
     "start_time": "2020-02-11T01:00:06.050640Z"
    }
   },
   "outputs": [],
   "source": [
    "training_frames = [data.loc[d:d+pd.DateOffset(months = 36)] for d in start_dates]\n",
    "valid_frames = [data.loc[d:d+pd.DateOffset(months = 3)] for d in end_dates]\n",
    "test_frames = [data.loc[d+pd.DateOffset(months = 6):d+pd.DateOffset(months = 9)] for d in end_dates]"
   ]
  },
  {
   "cell_type": "code",
   "execution_count": 8,
   "metadata": {
    "ExecuteTime": {
     "end_time": "2020-02-11T01:00:20.984116Z",
     "start_time": "2020-02-11T01:00:11.072616Z"
    }
   },
   "outputs": [],
   "source": [
    "training_data = [d.reset_index().drop\n",
    "                                 (['ticker','date',\n",
    "                                   'next_period_return',\n",
    "                                   'spy_next_period_return',\n",
    "                                   'rel_performance','pred_rel_return',\n",
    "                                  'return', 'cum_ret', 'spy_cum_ret'],axis=1) for d in training_frames]"
   ]
  },
  {
   "cell_type": "code",
   "execution_count": 9,
   "metadata": {},
   "outputs": [],
   "source": [
    "valid_data = [d.reset_index().drop\n",
    "                                 (['ticker','date',\n",
    "                                   'next_period_return',\n",
    "                                   'spy_next_period_return',\n",
    "                                   'rel_performance','pred_rel_return',\n",
    "                                  'return', 'cum_ret', 'spy_cum_ret'],axis=1) for d in valid_frames]"
   ]
  },
  {
   "cell_type": "code",
   "execution_count": 10,
   "metadata": {
    "ExecuteTime": {
     "end_time": "2020-02-11T01:00:22.138142Z",
     "start_time": "2020-02-11T01:00:20.986086Z"
    }
   },
   "outputs": [],
   "source": [
    "test_data = [d.reset_index().drop(['ticker','date',\n",
    "                                   'next_period_return',\n",
    "                                   'spy_next_period_return',\n",
    "                                   'rel_performance','pred_rel_return',\n",
    "                                  'return', 'cum_ret', 'spy_cum_ret'],axis=1) for d in test_frames]"
   ]
  },
  {
   "cell_type": "code",
   "execution_count": 11,
   "metadata": {
    "ExecuteTime": {
     "end_time": "2020-02-11T01:00:28.172336Z",
     "start_time": "2020-02-11T01:00:28.162322Z"
    }
   },
   "outputs": [],
   "source": [
    "training_labels = [d['rel_performance'].values for d in training_frames]\n",
    "valid_labels = [d['rel_performance'].values for d in valid_frames] "
   ]
  },
  {
   "cell_type": "code",
   "execution_count": 12,
   "metadata": {},
   "outputs": [],
   "source": [
    "for i in range(len(start_dates)-1):\n",
    "    float_vars = [x for x in training_data[i].columns if data[x].dtype == 'float64']\n",
    "\n",
    "    scaler = StandardScaler()\n",
    "    training_data[i] = training_data[i].copy()\n",
    "    valid_data[i] = valid_data[i].copy()\n",
    "    test_data[i] = test_data[i].copy()\n",
    "    training_data[i][float_vars] = scaler.fit_transform(training_data[i][float_vars])\n",
    "    valid_data[i][float_vars] = scaler.transform(valid_data[i][float_vars])\n",
    "    test_data[i][float_vars] = scaler.transform(test_data[i][float_vars])"
   ]
  },
  {
   "cell_type": "markdown",
   "metadata": {},
   "source": [
    "### Open and read the shap features over the holding period 2003 - 2018"
   ]
  },
  {
   "cell_type": "code",
   "execution_count": 13,
   "metadata": {},
   "outputs": [],
   "source": [
    "with open(r'Random Forest Parameters/shap_features.pkl','rb') as f:\n",
    "    shap_rf = cPickle.load(f)\n",
    "with open(r'Random Forest Parameters/optimal_hyperparameters.pkl','rb') as f:\n",
    "    opt_hyper_params_rf = cPickle.load(f)"
   ]
  },
  {
   "cell_type": "code",
   "execution_count": 14,
   "metadata": {},
   "outputs": [
    {
     "data": {
      "text/plain": [
       "[('fcf_yield', 42),\n",
       " ('cf_yield', 41),\n",
       " ('oancfy', 41),\n",
       " ('oancfy_q', 39),\n",
       " ('fcf_csfhdq', 37),\n",
       " ('lt_ppentq', 37),\n",
       " ('evmq', 36),\n",
       " ('dprq', 36),\n",
       " ('oepsxy', 35),\n",
       " ('dvpspq', 35)]"
      ]
     },
     "execution_count": 14,
     "metadata": {},
     "output_type": "execute_result"
    }
   ],
   "source": [
    "# Convert shap_rf to a list of features\n",
    "shap_rf_list = []\n",
    "for feats in shap_rf:\n",
    "    shap_rf_list.extend(list(feats))\n",
    "\n",
    "# Find the 10 most common features\n",
    "c = Counter(shap_rf_list)\n",
    "c.most_common(10)"
   ]
  },
  {
   "cell_type": "code",
   "execution_count": 15,
   "metadata": {},
   "outputs": [],
   "source": [
    "# Choose 10 most common shap features to be the optimal features\n",
    "opt_rf_feats = [val[0] for val in c.most_common(10)]"
   ]
  },
  {
   "cell_type": "code",
   "execution_count": 16,
   "metadata": {},
   "outputs": [],
   "source": [
    "# Initialize the list of classifiers with the optimal hyperparameters\n",
    "rf_classifiers = []\n",
    "\n",
    "for hyp_par in opt_hyper_params_rf:\n",
    "    rf_clf = RandomForestClassifier(**hyp_par)\n",
    "    rf_classifiers.append(rf_clf)"
   ]
  },
  {
   "cell_type": "code",
   "execution_count": 17,
   "metadata": {},
   "outputs": [],
   "source": [
    "start_dates = [pd.to_datetime('2001-01-01') + pd.DateOffset(months = 3*i) for i in range(57)]\n",
    "end_dates = [d + pd.DateOffset(months = 39) for d in start_dates]"
   ]
  },
  {
   "cell_type": "code",
   "execution_count": 18,
   "metadata": {},
   "outputs": [],
   "source": [
    "training_frames = [data.loc[d:d+pd.DateOffset(months = 39)] for d in start_dates]\n",
    "test_frames = [data.loc[d+pd.DateOffset(months = 3):d+pd.DateOffset(months = 6)] for d in end_dates]"
   ]
  },
  {
   "cell_type": "code",
   "execution_count": 19,
   "metadata": {},
   "outputs": [],
   "source": [
    "training_labels = [d['rel_performance'].values for d in training_frames]"
   ]
  },
  {
   "cell_type": "code",
   "execution_count": 20,
   "metadata": {
    "ExecuteTime": {
     "end_time": "2020-02-11T01:00:33.994294Z",
     "start_time": "2020-02-11T01:00:33.869286Z"
    }
   },
   "outputs": [],
   "source": [
    "scalers = [StandardScaler() for i in range(len(start_dates)-1)]\n",
    "           \n",
    "opt_training_data = [pd.DataFrame(scalers[i].fit_transform(training_frames[i][opt_rf_feats].values),columns=opt_rf_feats) for i in range(len(start_dates)-1)]\n",
    "opt_test_data = [pd.DataFrame(scalers[i].transform(test_frames[i][opt_rf_feats].values),columns=opt_rf_feats) for i in range(len(start_dates)-1)]"
   ]
  },
  {
   "cell_type": "code",
   "execution_count": 21,
   "metadata": {},
   "outputs": [
    {
     "data": {
      "text/html": [
       "<div>\n",
       "<style scoped>\n",
       "    .dataframe tbody tr th:only-of-type {\n",
       "        vertical-align: middle;\n",
       "    }\n",
       "\n",
       "    .dataframe tbody tr th {\n",
       "        vertical-align: top;\n",
       "    }\n",
       "\n",
       "    .dataframe thead th {\n",
       "        text-align: right;\n",
       "    }\n",
       "</style>\n",
       "<table border=\"1\" class=\"dataframe\">\n",
       "  <thead>\n",
       "    <tr style=\"text-align: right;\">\n",
       "      <th></th>\n",
       "      <th>fcf_yield</th>\n",
       "      <th>cf_yield</th>\n",
       "      <th>oancfy</th>\n",
       "      <th>oancfy_q</th>\n",
       "      <th>fcf_csfhdq</th>\n",
       "      <th>lt_ppentq</th>\n",
       "      <th>evmq</th>\n",
       "      <th>dprq</th>\n",
       "      <th>oepsxy</th>\n",
       "      <th>dvpspq</th>\n",
       "    </tr>\n",
       "  </thead>\n",
       "  <tbody>\n",
       "    <tr>\n",
       "      <th>0</th>\n",
       "      <td>-0.206398</td>\n",
       "      <td>-0.645950</td>\n",
       "      <td>-0.171431</td>\n",
       "      <td>-0.142220</td>\n",
       "      <td>-0.222443</td>\n",
       "      <td>-0.138036</td>\n",
       "      <td>0.080339</td>\n",
       "      <td>-0.042204</td>\n",
       "      <td>-0.093053</td>\n",
       "      <td>-0.595682</td>\n",
       "    </tr>\n",
       "    <tr>\n",
       "      <th>1</th>\n",
       "      <td>-0.420684</td>\n",
       "      <td>2.792597</td>\n",
       "      <td>0.852188</td>\n",
       "      <td>0.210787</td>\n",
       "      <td>-0.359797</td>\n",
       "      <td>-0.137840</td>\n",
       "      <td>-1.060025</td>\n",
       "      <td>-0.112661</td>\n",
       "      <td>-0.578317</td>\n",
       "      <td>-0.408904</td>\n",
       "    </tr>\n",
       "    <tr>\n",
       "      <th>2</th>\n",
       "      <td>-0.020692</td>\n",
       "      <td>-0.102749</td>\n",
       "      <td>-0.051488</td>\n",
       "      <td>-0.110094</td>\n",
       "      <td>-0.118421</td>\n",
       "      <td>-0.143237</td>\n",
       "      <td>0.013442</td>\n",
       "      <td>-0.006715</td>\n",
       "      <td>0.215752</td>\n",
       "      <td>-0.198778</td>\n",
       "    </tr>\n",
       "    <tr>\n",
       "      <th>3</th>\n",
       "      <td>0.049269</td>\n",
       "      <td>-0.199209</td>\n",
       "      <td>-0.200669</td>\n",
       "      <td>-0.110826</td>\n",
       "      <td>0.041014</td>\n",
       "      <td>-0.126797</td>\n",
       "      <td>0.011170</td>\n",
       "      <td>-0.030968</td>\n",
       "      <td>0.107470</td>\n",
       "      <td>-0.595682</td>\n",
       "    </tr>\n",
       "    <tr>\n",
       "      <th>4</th>\n",
       "      <td>0.006049</td>\n",
       "      <td>-0.332625</td>\n",
       "      <td>1.494588</td>\n",
       "      <td>1.340345</td>\n",
       "      <td>0.089421</td>\n",
       "      <td>-0.136787</td>\n",
       "      <td>0.018215</td>\n",
       "      <td>0.007137</td>\n",
       "      <td>0.307992</td>\n",
       "      <td>0.478292</td>\n",
       "    </tr>\n",
       "    <tr>\n",
       "      <th>...</th>\n",
       "      <td>...</td>\n",
       "      <td>...</td>\n",
       "      <td>...</td>\n",
       "      <td>...</td>\n",
       "      <td>...</td>\n",
       "      <td>...</td>\n",
       "      <td>...</td>\n",
       "      <td>...</td>\n",
       "      <td>...</td>\n",
       "      <td>...</td>\n",
       "    </tr>\n",
       "    <tr>\n",
       "      <th>1131</th>\n",
       "      <td>-0.062845</td>\n",
       "      <td>-0.275955</td>\n",
       "      <td>-0.011859</td>\n",
       "      <td>0.030989</td>\n",
       "      <td>-0.150327</td>\n",
       "      <td>-0.125497</td>\n",
       "      <td>-0.007114</td>\n",
       "      <td>0.091678</td>\n",
       "      <td>-0.133157</td>\n",
       "      <td>0.618376</td>\n",
       "    </tr>\n",
       "    <tr>\n",
       "      <th>1132</th>\n",
       "      <td>-0.036429</td>\n",
       "      <td>-0.386222</td>\n",
       "      <td>-0.195607</td>\n",
       "      <td>-0.156680</td>\n",
       "      <td>0.068950</td>\n",
       "      <td>-0.122519</td>\n",
       "      <td>0.014597</td>\n",
       "      <td>-0.023044</td>\n",
       "      <td>0.099449</td>\n",
       "      <td>-0.408904</td>\n",
       "    </tr>\n",
       "    <tr>\n",
       "      <th>1133</th>\n",
       "      <td>-0.242139</td>\n",
       "      <td>0.414694</td>\n",
       "      <td>-0.090863</td>\n",
       "      <td>0.021878</td>\n",
       "      <td>-0.311895</td>\n",
       "      <td>-0.146362</td>\n",
       "      <td>0.002207</td>\n",
       "      <td>-0.042204</td>\n",
       "      <td>-0.297586</td>\n",
       "      <td>-0.595682</td>\n",
       "    </tr>\n",
       "    <tr>\n",
       "      <th>1134</th>\n",
       "      <td>-0.032373</td>\n",
       "      <td>-0.453909</td>\n",
       "      <td>-0.213380</td>\n",
       "      <td>-0.163768</td>\n",
       "      <td>0.006329</td>\n",
       "      <td>-0.099544</td>\n",
       "      <td>0.015523</td>\n",
       "      <td>-0.042204</td>\n",
       "      <td>0.051323</td>\n",
       "      <td>-0.595682</td>\n",
       "    </tr>\n",
       "    <tr>\n",
       "      <th>1135</th>\n",
       "      <td>-0.081537</td>\n",
       "      <td>-0.517354</td>\n",
       "      <td>-0.191139</td>\n",
       "      <td>-0.168606</td>\n",
       "      <td>-0.252757</td>\n",
       "      <td>-0.135636</td>\n",
       "      <td>0.044254</td>\n",
       "      <td>-0.042204</td>\n",
       "      <td>-0.301596</td>\n",
       "      <td>-0.595682</td>\n",
       "    </tr>\n",
       "  </tbody>\n",
       "</table>\n",
       "<p>1136 rows × 10 columns</p>\n",
       "</div>"
      ],
      "text/plain": [
       "      fcf_yield  cf_yield    oancfy  oancfy_q  fcf_csfhdq  lt_ppentq  \\\n",
       "0     -0.206398 -0.645950 -0.171431 -0.142220   -0.222443  -0.138036   \n",
       "1     -0.420684  2.792597  0.852188  0.210787   -0.359797  -0.137840   \n",
       "2     -0.020692 -0.102749 -0.051488 -0.110094   -0.118421  -0.143237   \n",
       "3      0.049269 -0.199209 -0.200669 -0.110826    0.041014  -0.126797   \n",
       "4      0.006049 -0.332625  1.494588  1.340345    0.089421  -0.136787   \n",
       "...         ...       ...       ...       ...         ...        ...   \n",
       "1131  -0.062845 -0.275955 -0.011859  0.030989   -0.150327  -0.125497   \n",
       "1132  -0.036429 -0.386222 -0.195607 -0.156680    0.068950  -0.122519   \n",
       "1133  -0.242139  0.414694 -0.090863  0.021878   -0.311895  -0.146362   \n",
       "1134  -0.032373 -0.453909 -0.213380 -0.163768    0.006329  -0.099544   \n",
       "1135  -0.081537 -0.517354 -0.191139 -0.168606   -0.252757  -0.135636   \n",
       "\n",
       "          evmq      dprq    oepsxy    dvpspq  \n",
       "0     0.080339 -0.042204 -0.093053 -0.595682  \n",
       "1    -1.060025 -0.112661 -0.578317 -0.408904  \n",
       "2     0.013442 -0.006715  0.215752 -0.198778  \n",
       "3     0.011170 -0.030968  0.107470 -0.595682  \n",
       "4     0.018215  0.007137  0.307992  0.478292  \n",
       "...        ...       ...       ...       ...  \n",
       "1131 -0.007114  0.091678 -0.133157  0.618376  \n",
       "1132  0.014597 -0.023044  0.099449 -0.408904  \n",
       "1133  0.002207 -0.042204 -0.297586 -0.595682  \n",
       "1134  0.015523 -0.042204  0.051323 -0.595682  \n",
       "1135  0.044254 -0.042204 -0.301596 -0.595682  \n",
       "\n",
       "[1136 rows x 10 columns]"
      ]
     },
     "execution_count": 21,
     "metadata": {},
     "output_type": "execute_result"
    }
   ],
   "source": [
    "opt_test_data[1]"
   ]
  },
  {
   "cell_type": "code",
   "execution_count": 22,
   "metadata": {
    "ExecuteTime": {
     "end_time": "2020-02-11T01:01:15.387898Z",
     "start_time": "2020-02-11T01:00:58.271824Z"
    }
   },
   "outputs": [
    {
     "name": "stderr",
     "output_type": "stream",
     "text": [
      "100%|███████████████████████████████████████████| 56/56 [00:12<00:00,  4.45it/s]\n"
     ]
    }
   ],
   "source": [
    "x_rf = [1]\n",
    "ret_rf = []\n",
    "\n",
    "for i in tqdm(range(len(start_dates)-1)):\n",
    "        rf_classifiers[i].fit(opt_training_data[i],training_labels[i])\n",
    "        preds = rf_classifiers[i].predict(opt_test_data[i])\n",
    "        profit_i = (preds*test_frames[i]['next_period_return']).sum()\n",
    "        ret_rf.append(profit_i)\n",
    "        num_names = len(opt_test_data[i])\n",
    "        x_rf.append(x_rf[i] + (x_rf[i]/num_names)*profit_i)"
   ]
  },
  {
   "cell_type": "markdown",
   "metadata": {},
   "source": [
    "## Gradient Boosting"
   ]
  },
  {
   "cell_type": "markdown",
   "metadata": {},
   "source": [
    "### Long term performance with Gradient Boosting Classifier, and optimal shapley features"
   ]
  },
  {
   "cell_type": "code",
   "execution_count": 23,
   "metadata": {
    "ExecuteTime": {
     "end_time": "2020-03-03T02:04:24.516696Z",
     "start_time": "2020-03-03T02:04:24.512695Z"
    }
   },
   "outputs": [],
   "source": [
    "def f(x):\n",
    "    if x > 0.01:\n",
    "        return 1\n",
    "    elif x < -0.01:\n",
    "        return -1\n",
    "    else:\n",
    "        return 0"
   ]
  },
  {
   "cell_type": "code",
   "execution_count": 24,
   "metadata": {
    "ExecuteTime": {
     "end_time": "2020-03-03T02:04:30.421746Z",
     "start_time": "2020-03-03T02:04:30.370536Z"
    }
   },
   "outputs": [],
   "source": [
    "data['rel_performance'] = data['pred_rel_return'].apply(f)\n",
    "data.reset_index(inplace=True,)\n",
    "data.set_index('date',inplace=True)"
   ]
  },
  {
   "cell_type": "code",
   "execution_count": 25,
   "metadata": {},
   "outputs": [],
   "source": [
    "from sklearn.preprocessing import MinMaxScaler,StandardScaler\n",
    "scaler = StandardScaler()"
   ]
  },
  {
   "cell_type": "markdown",
   "metadata": {},
   "source": [
    "### Open and read the shap features for the Gradient Boosting classifiers"
   ]
  },
  {
   "cell_type": "code",
   "execution_count": 26,
   "metadata": {},
   "outputs": [],
   "source": [
    "with open(r'Gradient Boosting Parameters/shap_features_gb_clf_01.pkl','rb') as f:\n",
    "    shap_gb = cPickle.load(f)"
   ]
  },
  {
   "cell_type": "code",
   "execution_count": 27,
   "metadata": {},
   "outputs": [
    {
     "data": {
      "text/plain": [
       "[('fcf_yield', 47),\n",
       " ('cf_yield', 47),\n",
       " ('evmq', 42),\n",
       " ('lt_ppentq', 42),\n",
       " ('oancfy', 39),\n",
       " ('opmbdq', 38),\n",
       " ('rect_turnq', 38),\n",
       " ('rectq', 37),\n",
       " ('fcf_csfhdq', 37),\n",
       " ('oepsxy', 36)]"
      ]
     },
     "execution_count": 27,
     "metadata": {},
     "output_type": "execute_result"
    }
   ],
   "source": [
    "# Convert shap_gb to a list of features\n",
    "shap_gb_list = []\n",
    "for feats in shap_gb:\n",
    "    shap_gb_list.extend(list(feats))\n",
    "\n",
    "# Find the 10 most common features\n",
    "c = Counter(shap_gb_list)\n",
    "c.most_common(10)"
   ]
  },
  {
   "cell_type": "code",
   "execution_count": 28,
   "metadata": {},
   "outputs": [],
   "source": [
    "# Choose 10 most common shap features to be the optimal features\n",
    "opt_gb_feats = [val[0] for val in c.most_common(10)]"
   ]
  },
  {
   "cell_type": "markdown",
   "metadata": {},
   "source": [
    "### Open and read gradient boosting classifiers with optimal hyperparameters"
   ]
  },
  {
   "cell_type": "code",
   "execution_count": 29,
   "metadata": {},
   "outputs": [
    {
     "name": "stderr",
     "output_type": "stream",
     "text": [
      "/Users/shri/miniconda3/lib/python3.11/site-packages/sklearn/base.py:348: InconsistentVersionWarning: Trying to unpickle estimator LabelEncoder from version 1.3.0 when using version 1.3.1. This might lead to breaking code or invalid results. Use at your own risk. For more info please refer to:\n",
      "https://scikit-learn.org/stable/model_persistence.html#security-maintainability-limitations\n",
      "  warnings.warn(\n"
     ]
    }
   ],
   "source": [
    "with open(r'Gradient Boosting Parameters/classifiers_gb_clf_01.pkl','rb') as f:\n",
    "    gb_clfs = cPickle.load(f)\n",
    "\n",
    "# Add a parameter to surpress warnings\n",
    "for i in range(len(gb_clfs)):\n",
    "    gb_clfs[i].set_params(verbose=-1)"
   ]
  },
  {
   "cell_type": "code",
   "execution_count": 30,
   "metadata": {},
   "outputs": [
    {
     "data": {
      "text/html": [
       "<style>#sk-container-id-1 {color: black;}#sk-container-id-1 pre{padding: 0;}#sk-container-id-1 div.sk-toggleable {background-color: white;}#sk-container-id-1 label.sk-toggleable__label {cursor: pointer;display: block;width: 100%;margin-bottom: 0;padding: 0.3em;box-sizing: border-box;text-align: center;}#sk-container-id-1 label.sk-toggleable__label-arrow:before {content: \"▸\";float: left;margin-right: 0.25em;color: #696969;}#sk-container-id-1 label.sk-toggleable__label-arrow:hover:before {color: black;}#sk-container-id-1 div.sk-estimator:hover label.sk-toggleable__label-arrow:before {color: black;}#sk-container-id-1 div.sk-toggleable__content {max-height: 0;max-width: 0;overflow: hidden;text-align: left;background-color: #f0f8ff;}#sk-container-id-1 div.sk-toggleable__content pre {margin: 0.2em;color: black;border-radius: 0.25em;background-color: #f0f8ff;}#sk-container-id-1 input.sk-toggleable__control:checked~div.sk-toggleable__content {max-height: 200px;max-width: 100%;overflow: auto;}#sk-container-id-1 input.sk-toggleable__control:checked~label.sk-toggleable__label-arrow:before {content: \"▾\";}#sk-container-id-1 div.sk-estimator input.sk-toggleable__control:checked~label.sk-toggleable__label {background-color: #d4ebff;}#sk-container-id-1 div.sk-label input.sk-toggleable__control:checked~label.sk-toggleable__label {background-color: #d4ebff;}#sk-container-id-1 input.sk-hidden--visually {border: 0;clip: rect(1px 1px 1px 1px);clip: rect(1px, 1px, 1px, 1px);height: 1px;margin: -1px;overflow: hidden;padding: 0;position: absolute;width: 1px;}#sk-container-id-1 div.sk-estimator {font-family: monospace;background-color: #f0f8ff;border: 1px dotted black;border-radius: 0.25em;box-sizing: border-box;margin-bottom: 0.5em;}#sk-container-id-1 div.sk-estimator:hover {background-color: #d4ebff;}#sk-container-id-1 div.sk-parallel-item::after {content: \"\";width: 100%;border-bottom: 1px solid gray;flex-grow: 1;}#sk-container-id-1 div.sk-label:hover label.sk-toggleable__label {background-color: #d4ebff;}#sk-container-id-1 div.sk-serial::before {content: \"\";position: absolute;border-left: 1px solid gray;box-sizing: border-box;top: 0;bottom: 0;left: 50%;z-index: 0;}#sk-container-id-1 div.sk-serial {display: flex;flex-direction: column;align-items: center;background-color: white;padding-right: 0.2em;padding-left: 0.2em;position: relative;}#sk-container-id-1 div.sk-item {position: relative;z-index: 1;}#sk-container-id-1 div.sk-parallel {display: flex;align-items: stretch;justify-content: center;background-color: white;position: relative;}#sk-container-id-1 div.sk-item::before, #sk-container-id-1 div.sk-parallel-item::before {content: \"\";position: absolute;border-left: 1px solid gray;box-sizing: border-box;top: 0;bottom: 0;left: 50%;z-index: -1;}#sk-container-id-1 div.sk-parallel-item {display: flex;flex-direction: column;z-index: 1;position: relative;background-color: white;}#sk-container-id-1 div.sk-parallel-item:first-child::after {align-self: flex-end;width: 50%;}#sk-container-id-1 div.sk-parallel-item:last-child::after {align-self: flex-start;width: 50%;}#sk-container-id-1 div.sk-parallel-item:only-child::after {width: 0;}#sk-container-id-1 div.sk-dashed-wrapped {border: 1px dashed gray;margin: 0 0.4em 0.5em 0.4em;box-sizing: border-box;padding-bottom: 0.4em;background-color: white;}#sk-container-id-1 div.sk-label label {font-family: monospace;font-weight: bold;display: inline-block;line-height: 1.2em;}#sk-container-id-1 div.sk-label-container {text-align: center;}#sk-container-id-1 div.sk-container {/* jupyter's `normalize.less` sets `[hidden] { display: none; }` but bootstrap.min.css set `[hidden] { display: none !important; }` so we also need the `!important` here to be able to override the default hidden behavior on the sphinx rendered scikit-learn.org. See: https://github.com/scikit-learn/scikit-learn/issues/21755 */display: inline-block !important;position: relative;}#sk-container-id-1 div.sk-text-repr-fallback {display: none;}</style><div id=\"sk-container-id-1\" class=\"sk-top-container\"><div class=\"sk-text-repr-fallback\"><pre>LGBMClassifier(learning_rate=0.18000000000000002, min_data_in_leaf=1200,\n",
       "               n_estimators=80, num_leaves=21,\n",
       "               reg_lambda=4.1926760590611446e-05, verbose=-1)</pre><b>In a Jupyter environment, please rerun this cell to show the HTML representation or trust the notebook. <br />On GitHub, the HTML representation is unable to render, please try loading this page with nbviewer.org.</b></div><div class=\"sk-container\" hidden><div class=\"sk-item\"><div class=\"sk-estimator sk-toggleable\"><input class=\"sk-toggleable__control sk-hidden--visually\" id=\"sk-estimator-id-1\" type=\"checkbox\" checked><label for=\"sk-estimator-id-1\" class=\"sk-toggleable__label sk-toggleable__label-arrow\">LGBMClassifier</label><div class=\"sk-toggleable__content\"><pre>LGBMClassifier(learning_rate=0.18000000000000002, min_data_in_leaf=1200,\n",
       "               n_estimators=80, num_leaves=21,\n",
       "               reg_lambda=4.1926760590611446e-05, verbose=-1)</pre></div></div></div></div></div>"
      ],
      "text/plain": [
       "LGBMClassifier(learning_rate=0.18000000000000002, min_data_in_leaf=1200,\n",
       "               n_estimators=80, num_leaves=21,\n",
       "               reg_lambda=4.1926760590611446e-05, verbose=-1)"
      ]
     },
     "execution_count": 30,
     "metadata": {},
     "output_type": "execute_result"
    }
   ],
   "source": [
    "gb_clfs[0]"
   ]
  },
  {
   "cell_type": "code",
   "execution_count": 31,
   "metadata": {},
   "outputs": [],
   "source": [
    "start_dates = [pd.to_datetime('2001-01-01') + pd.DateOffset(months = 3 * i) for i in range(57)]\n",
    "end_dates = [d + pd.DateOffset(months = 39) for d in start_dates]"
   ]
  },
  {
   "cell_type": "code",
   "execution_count": 32,
   "metadata": {
    "ExecuteTime": {
     "end_time": "2020-02-11T01:00:20.984116Z",
     "start_time": "2020-02-11T01:00:11.072616Z"
    }
   },
   "outputs": [],
   "source": [
    "training_data = [d.reset_index().drop\n",
    "                                 (['ticker','date',\n",
    "                                   'next_period_return',\n",
    "                                   'spy_next_period_return',\n",
    "                                   'rel_performance','pred_rel_return',\n",
    "                                  'return', 'cum_ret', 'spy_cum_ret'],axis=1) for d in training_frames]\n",
    "\n",
    "test_data = [d.reset_index().drop(['ticker','date',\n",
    "                                   'next_period_return',\n",
    "                                   'spy_next_period_return',\n",
    "                                   'rel_performance','pred_rel_return',\n",
    "                                  'return', 'cum_ret', 'spy_cum_ret'],axis=1) for d in test_frames]"
   ]
  },
  {
   "cell_type": "code",
   "execution_count": 33,
   "metadata": {
    "ExecuteTime": {
     "end_time": "2020-02-11T01:00:22.138142Z",
     "start_time": "2020-02-11T01:00:20.986086Z"
    }
   },
   "outputs": [],
   "source": [
    "training_labels = [d['rel_performance'].values for d in training_frames]"
   ]
  },
  {
   "cell_type": "code",
   "execution_count": 34,
   "metadata": {
    "ExecuteTime": {
     "end_time": "2020-02-11T01:00:28.172336Z",
     "start_time": "2020-02-11T01:00:28.162322Z"
    }
   },
   "outputs": [],
   "source": [
    "opt_training_data = [t[opt_gb_feats] for t in training_data]\n",
    "opt_test_data = [v[opt_gb_feats] for v in test_data]"
   ]
  },
  {
   "cell_type": "code",
   "execution_count": 35,
   "metadata": {},
   "outputs": [],
   "source": [
    "training_frames = [data.loc[d:d+pd.DateOffset(months = 39)] for d in start_dates]\n",
    "test_frames = [data.loc[d+pd.DateOffset(months = 3):d+pd.DateOffset(months = 6)] for d in end_dates]"
   ]
  },
  {
   "cell_type": "code",
   "execution_count": 36,
   "metadata": {},
   "outputs": [],
   "source": [
    "training_labels = [d['rel_performance'].values for d in training_frames]"
   ]
  },
  {
   "cell_type": "code",
   "execution_count": 37,
   "metadata": {
    "ExecuteTime": {
     "end_time": "2020-02-11T01:00:33.994294Z",
     "start_time": "2020-02-11T01:00:33.869286Z"
    }
   },
   "outputs": [],
   "source": [
    "scalers = [StandardScaler() for i in range(len(start_dates)-1)]\n",
    "           \n",
    "opt_training_data = [pd.DataFrame(scalers[i].fit_transform(training_frames[i][opt_gb_feats].values),columns=opt_gb_feats) for i in range(len(start_dates)-1)]\n",
    "opt_test_data = [pd.DataFrame(scalers[i].transform(test_frames[i][opt_gb_feats].values),columns=opt_gb_feats) for i in range(len(start_dates)-1)]"
   ]
  },
  {
   "cell_type": "code",
   "execution_count": 38,
   "metadata": {},
   "outputs": [
    {
     "data": {
      "text/html": [
       "<div>\n",
       "<style scoped>\n",
       "    .dataframe tbody tr th:only-of-type {\n",
       "        vertical-align: middle;\n",
       "    }\n",
       "\n",
       "    .dataframe tbody tr th {\n",
       "        vertical-align: top;\n",
       "    }\n",
       "\n",
       "    .dataframe thead th {\n",
       "        text-align: right;\n",
       "    }\n",
       "</style>\n",
       "<table border=\"1\" class=\"dataframe\">\n",
       "  <thead>\n",
       "    <tr style=\"text-align: right;\">\n",
       "      <th></th>\n",
       "      <th>fcf_yield</th>\n",
       "      <th>cf_yield</th>\n",
       "      <th>evmq</th>\n",
       "      <th>lt_ppentq</th>\n",
       "      <th>oancfy</th>\n",
       "      <th>opmbdq</th>\n",
       "      <th>rect_turnq</th>\n",
       "      <th>rectq</th>\n",
       "      <th>fcf_csfhdq</th>\n",
       "      <th>oepsxy</th>\n",
       "    </tr>\n",
       "  </thead>\n",
       "  <tbody>\n",
       "    <tr>\n",
       "      <th>0</th>\n",
       "      <td>0.215735</td>\n",
       "      <td>0.006661</td>\n",
       "      <td>0.024102</td>\n",
       "      <td>-0.100428</td>\n",
       "      <td>-0.239974</td>\n",
       "      <td>0.079469</td>\n",
       "      <td>-0.034211</td>\n",
       "      <td>-0.187885</td>\n",
       "      <td>0.022842</td>\n",
       "      <td>-0.403834</td>\n",
       "    </tr>\n",
       "    <tr>\n",
       "      <th>1</th>\n",
       "      <td>0.065261</td>\n",
       "      <td>-0.108632</td>\n",
       "      <td>0.009218</td>\n",
       "      <td>-0.121176</td>\n",
       "      <td>0.433740</td>\n",
       "      <td>0.038632</td>\n",
       "      <td>-0.021523</td>\n",
       "      <td>-0.156410</td>\n",
       "      <td>0.161560</td>\n",
       "      <td>0.706011</td>\n",
       "    </tr>\n",
       "    <tr>\n",
       "      <th>2</th>\n",
       "      <td>0.383129</td>\n",
       "      <td>0.263649</td>\n",
       "      <td>0.010836</td>\n",
       "      <td>-0.142092</td>\n",
       "      <td>-0.189594</td>\n",
       "      <td>0.045681</td>\n",
       "      <td>-0.035822</td>\n",
       "      <td>-0.081546</td>\n",
       "      <td>0.405495</td>\n",
       "      <td>0.253565</td>\n",
       "    </tr>\n",
       "    <tr>\n",
       "      <th>3</th>\n",
       "      <td>-0.059195</td>\n",
       "      <td>0.862655</td>\n",
       "      <td>0.001162</td>\n",
       "      <td>-0.147453</td>\n",
       "      <td>0.470706</td>\n",
       "      <td>0.056214</td>\n",
       "      <td>-0.020043</td>\n",
       "      <td>-0.046906</td>\n",
       "      <td>-0.104874</td>\n",
       "      <td>0.075681</td>\n",
       "    </tr>\n",
       "    <tr>\n",
       "      <th>4</th>\n",
       "      <td>-0.245033</td>\n",
       "      <td>-0.713570</td>\n",
       "      <td>-0.005808</td>\n",
       "      <td>-0.156643</td>\n",
       "      <td>-0.241345</td>\n",
       "      <td>-0.011360</td>\n",
       "      <td>-0.039469</td>\n",
       "      <td>2.572147</td>\n",
       "      <td>-0.310581</td>\n",
       "      <td>0.241964</td>\n",
       "    </tr>\n",
       "  </tbody>\n",
       "</table>\n",
       "</div>"
      ],
      "text/plain": [
       "   fcf_yield  cf_yield      evmq  lt_ppentq    oancfy    opmbdq  rect_turnq  \\\n",
       "0   0.215735  0.006661  0.024102  -0.100428 -0.239974  0.079469   -0.034211   \n",
       "1   0.065261 -0.108632  0.009218  -0.121176  0.433740  0.038632   -0.021523   \n",
       "2   0.383129  0.263649  0.010836  -0.142092 -0.189594  0.045681   -0.035822   \n",
       "3  -0.059195  0.862655  0.001162  -0.147453  0.470706  0.056214   -0.020043   \n",
       "4  -0.245033 -0.713570 -0.005808  -0.156643 -0.241345 -0.011360   -0.039469   \n",
       "\n",
       "      rectq  fcf_csfhdq    oepsxy  \n",
       "0 -0.187885    0.022842 -0.403834  \n",
       "1 -0.156410    0.161560  0.706011  \n",
       "2 -0.081546    0.405495  0.253565  \n",
       "3 -0.046906   -0.104874  0.075681  \n",
       "4  2.572147   -0.310581  0.241964  "
      ]
     },
     "execution_count": 38,
     "metadata": {},
     "output_type": "execute_result"
    }
   ],
   "source": [
    "opt_test_data[0].head()"
   ]
  },
  {
   "cell_type": "code",
   "execution_count": 39,
   "metadata": {
    "ExecuteTime": {
     "end_time": "2020-02-11T01:01:15.387898Z",
     "start_time": "2020-02-11T01:00:58.271824Z"
    },
    "scrolled": true
   },
   "outputs": [
    {
     "name": "stderr",
     "output_type": "stream",
     "text": [
      "100%|███████████████████████████████████████████| 56/56 [00:08<00:00,  6.98it/s]\n"
     ]
    }
   ],
   "source": [
    "P_L_gb = []\n",
    "x_gb = [1]\n",
    "ret_gb = []\n",
    "\n",
    "for i in tqdm(range(len(start_dates)-1)):\n",
    "        gb_clfs[i].fit(opt_training_data[i],training_labels[i])\n",
    "        pred_i = gb_clfs[i].predict(opt_test_data[i])\n",
    "        profit_i = (pred_i * test_frames[i]['next_period_return']).sum()\n",
    "        P_L_gb.append(profit_i)\n",
    "        num_positions = len(pred_i)\n",
    "        ret_gb.append((1.0/num_positions) * profit_i)\n",
    "        x_gb.append(x_gb[i] + (x_gb[i]/num_positions) * profit_i)"
   ]
  },
  {
   "cell_type": "markdown",
   "metadata": {},
   "source": [
    "## Plot the P/L curves and compute the Sharpe Ratios for all strategies"
   ]
  },
  {
   "cell_type": "code",
   "execution_count": 40,
   "metadata": {},
   "outputs": [
    {
     "name": "stderr",
     "output_type": "stream",
     "text": [
      "/var/folders/sp/wlr6xm2979l8vx6kjh2z1dk00000gn/T/ipykernel_81674/3282873245.py:4: FutureWarning: Series.__getitem__ treating keys as positions is deprecated. In a future version, integer keys will always be treated as labels (consistent with DataFrame behavior). To access a value by position, use `ser.iloc[pos]`\n",
      "  SPY['spy_cum_ret'] = (SPY['spy_cum_ret'] - SPY['spy_cum_ret'][0] + 1)\n"
     ]
    }
   ],
   "source": [
    "SPY = pd.read_pickle(r'SPY_cum_ret.pkl')\n",
    "SPY = SPY.loc['2004-07-01':'2018-09-30']\n",
    "SPY = SPY.resample('Q').ffill()\n",
    "SPY['spy_cum_ret'] = (SPY['spy_cum_ret'] - SPY['spy_cum_ret'][0] + 1)\n",
    "\n",
    "SPY['random forest strategy'] = x_rf\n",
    "SPY['gradient boosting strategy'] = x_gb"
   ]
  },
  {
   "cell_type": "code",
   "execution_count": 41,
   "metadata": {
    "ExecuteTime": {
     "end_time": "2020-02-11T01:01:41.397432Z",
     "start_time": "2020-02-11T01:01:41.198433Z"
    }
   },
   "outputs": [
    {
     "data": {
      "image/png": "[encoded data removed]",
      "text/plain": [
       "<Figure size 640x480 with 1 Axes>"
      ]
     },
     "metadata": {},
     "output_type": "display_data"
    }
   ],
   "source": [
    "SPY.plot();"
   ]
  },
  {
   "cell_type": "code",
   "execution_count": 42,
   "metadata": {},
   "outputs": [
    {
     "data": {
      "image/png": "[encoded data removed]",
      "text/plain": [
       "<Figure size 640x480 with 1 Axes>"
      ]
     },
     "metadata": {},
     "output_type": "display_data"
    }
   ],
   "source": [
    "SPY = SPY.resample('Y').ffill()\n",
    "SPY.plot();"
   ]
  },
  {
   "cell_type": "code",
   "execution_count": 43,
   "metadata": {
    "ExecuteTime": {
     "end_time": "2020-02-11T01:01:54.486712Z",
     "start_time": "2020-02-11T01:01:54.468721Z"
    }
   },
   "outputs": [
    {
     "name": "stdout",
     "output_type": "stream",
     "text": [
      "SPY Sharpe Ratio                       :  0.6324646748042164\n",
      "Random Forest Strategy Sharpe Ratio    :  0.8151625107247469\n",
      "Gradient Boosting Strategy Sharpe Ratio:  1.1367787320017024\n"
     ]
    }
   ],
   "source": [
    "spy_mean_ret = (SPY['spy_cum_ret'] - 1).diff().mean()\n",
    "spy_std = (SPY['spy_cum_ret'] - 1).diff().std()\n",
    "print('SPY Sharpe Ratio                       : ',spy_mean_ret/spy_std)\n",
    "\n",
    "strategy_mean_ret = (SPY['random forest strategy'] - 1).diff().mean()\n",
    "strategy_std = (SPY['random forest strategy'] - 1).diff().std()\n",
    "strategy_sr = strategy_mean_ret/strategy_std\n",
    "print('Random Forest Strategy Sharpe Ratio    : ',strategy_sr)\n",
    "\n",
    "strategy_mean_ret = (SPY['gradient boosting strategy'] - 1).diff().mean()\n",
    "strategy_std = (SPY['gradient boosting strategy'] - 1).diff().std()\n",
    "strategy_sr = strategy_mean_ret/strategy_std\n",
    "print('Gradient Boosting Strategy Sharpe Ratio: ',strategy_sr)"
   ]
  },
  {
   "cell_type": "markdown",
   "metadata": {},
   "source": [
    "So we see that the final returns of our both our strategies are better than that of the SPY, with both above 4.5 at the end of our testing period.  \n",
    "\n",
    "Further, the Sharpe Ratios of both our strategies our better, but it is evident that the Gradient Boosting classifier performed the best with a Sharpe Ratio of approximately 1.14."
   ]
  },
  {
   "cell_type": "markdown",
   "metadata": {},
   "source": [
    "# Problem 2\n",
    "## Combining strategies by choosing weights"
   ]
  },
  {
   "cell_type": "markdown",
   "metadata": {},
   "source": [
    "### Next we will try to combine our existing strategies to find one with the best Sharpe Ratio.\n",
    "\n",
    "For example if we naively choose weights:\n",
    "- 0.5 for gradient boosting\n",
    "- 0.5 for random forest strategy\n",
    "- -0.1 for SPY (indicating that we are shorting it)\n",
    "\n",
    "We obtain the following:"
   ]
  },
  {
   "cell_type": "code",
   "execution_count": 44,
   "metadata": {},
   "outputs": [
    {
     "name": "stdout",
     "output_type": "stream",
     "text": [
      "Hedge Strategy Sharpe Ratio:  1.0124814959394992\n"
     ]
    },
    {
     "data": {
      "image/png": "[encoded data removed]",
      "text/plain": [
       "<Figure size 640x480 with 1 Axes>"
      ]
     },
     "metadata": {},
     "output_type": "display_data"
    }
   ],
   "source": [
    "SPY['hedge'] = 0.5*SPY['gradient boosting strategy'] + 0.5*SPY['random forest strategy'] - 0.1 * (SPY['spy_cum_ret'] - SPY['spy_cum_ret'].iloc[0])\n",
    "SPY.plot()\n",
    "\n",
    "strategy_mean_ret = (SPY['hedge'] - 1).diff().mean()\n",
    "strategy_std = (SPY['hedge'] - 1).diff().std()\n",
    "strategy_sr = strategy_mean_ret/strategy_std\n",
    "print('Hedge Strategy Sharpe Ratio: ',strategy_sr)"
   ]
  },
  {
   "cell_type": "markdown",
   "metadata": {},
   "source": [
    "### However, we can try to find the weights that give us the best Sharpe ratio by using the optimize function in Scipy:"
   ]
  },
  {
   "cell_type": "code",
   "execution_count": 45,
   "metadata": {},
   "outputs": [],
   "source": [
    "def weighted_hedge(weights):\n",
    "    w1 = weights[0]\n",
    "    w2 = weights[1]\n",
    "    # w1 corresponds to the weight for the gradient boosted strategy\n",
    "    # 1-w1 corresponds to the weight for the random forest strategy\n",
    "    # w2 corresponds to the negative weight (i.e. shorting) for the SPY\n",
    "    \n",
    "    # Combine the strategies according to the weights\n",
    "    SPY['hedge'] = w1 * SPY['gradient boosting strategy'] + (1-w1) * SPY['random forest strategy'] + w2 * (SPY['spy_cum_ret'] - SPY['spy_cum_ret'].iloc[0])\n",
    "\n",
    "    # Compute the negative Sharpe ratio (As we need to minimize this)\n",
    "    strategy_mean_ret = (SPY['hedge'] - 1).diff().mean()\n",
    "    strategy_std = (SPY['hedge'] - 1).diff().std()\n",
    "    strategy_sr = strategy_mean_ret/strategy_std\n",
    "    return -strategy_sr"
   ]
  },
  {
   "cell_type": "code",
   "execution_count": 46,
   "metadata": {},
   "outputs": [
    {
     "data": {
      "text/plain": [
       "  message: Optimization terminated successfully.\n",
       "  success: True\n",
       "   status: 0\n",
       "      fun: -1.1921177528413918\n",
       "        x: [ 7.184e-01 -8.103e-01]\n",
       "      nit: 10\n",
       "      jac: [ 1.490e-07  8.643e-07]\n",
       " hess_inv: [[ 2.103e+00  2.398e+00]\n",
       "            [ 2.398e+00  3.800e+00]]\n",
       "     nfev: 36\n",
       "     njev: 12"
      ]
     },
     "execution_count": 46,
     "metadata": {},
     "output_type": "execute_result"
    }
   ],
   "source": [
    "initial_guess = [0.5, -0.1]\n",
    "result = optimize.minimize(weighted_hedge, initial_guess)\n",
    "result"
   ]
  },
  {
   "cell_type": "code",
   "execution_count": 47,
   "metadata": {},
   "outputs": [
    {
     "name": "stdout",
     "output_type": "stream",
     "text": [
      " Weight for gradient boosting strategy: 0.7184243263033968\n",
      " Weight for random forest strategy    : 0.2815756736966032\n",
      " Weight for shorting SPY              : -0.8103018464035477\n"
     ]
    }
   ],
   "source": [
    "w1 = result.x[0]\n",
    "w2 = result.x[1]\n",
    "print(f\" Weight for gradient boosting strategy: {w1}\")\n",
    "print(f\" Weight for random forest strategy    : {1-w1}\")\n",
    "print(f\" Weight for shorting SPY              : {w2}\")"
   ]
  },
  {
   "cell_type": "markdown",
   "metadata": {},
   "source": [
    "### Using the optimal weights:"
   ]
  },
  {
   "cell_type": "code",
   "execution_count": 48,
   "metadata": {},
   "outputs": [
    {
     "name": "stdout",
     "output_type": "stream",
     "text": [
      "Hedge Strategy Sharpe Ratio:  1.1921177528413918\n"
     ]
    },
    {
     "data": {
      "image/png": "[encoded data removed]",
      "text/plain": [
       "<Figure size 640x480 with 1 Axes>"
      ]
     },
     "metadata": {},
     "output_type": "display_data"
    }
   ],
   "source": [
    "SPY['hedge'] = w1*SPY['gradient boosting strategy'] + (1-w1)*SPY['random forest strategy'] + w2 * (SPY['spy_cum_ret'] - SPY['spy_cum_ret'].iloc[0])\n",
    "SPY.plot()\n",
    "\n",
    "strategy_mean_ret = (SPY['hedge'] - 1).diff().mean()\n",
    "strategy_std = (SPY['hedge'] - 1).diff().std()\n",
    "strategy_sr = strategy_mean_ret/strategy_std\n",
    "print('Hedge Strategy Sharpe Ratio: ',strategy_sr)"
   ]
  },
  {
   "cell_type": "markdown",
   "metadata": {},
   "source": [
    "### Conclusion\n",
    "So by combining all three of the strategies, we have found a strategy that has a higher Sharpe Ratio (approximately 1.2) than each of them individually.\n",
    "\n",
    "Although the combined strategy has a lower return at the end of the period compared to our two classifier strategies, it still outperforms the SPY.  \n",
    "In addition, having a higher Sharpe ratio is more desirable for investors who may be more risk averse.\n",
    "\n",
    "If we wanted to explore further, we could look at other metrics such as such as the alpha and the information ratio. In addition, we could try using a neural network model in order to capture intricacies in the data that were not accounted for and evaluate the performance against the existing models."
   ]
  }
 ],
 "metadata": {
  "kernelspec": {
   "display_name": "Python 3 (ipykernel)",
   "language": "python",
   "name": "python3"
  },
  "language_info": {
   "codemirror_mode": {
    "name": "ipython",
    "version": 3
   },
   "file_extension": ".py",
   "mimetype": "text/x-python",
   "name": "python",
   "nbconvert_exporter": "python",
   "pygments_lexer": "ipython3",
   "version": "3.11.4"
  },
  "latex_envs": {
   "LaTeX_envs_menu_present": true,
   "autoclose": false,
   "autocomplete": true,
   "bibliofile": "biblio.bib",
   "cite_by": "apalike",
   "current_citInitial": 1,
   "eqLabelWithNumbers": true,
   "eqNumInitial": 1,
   "hotkeys": {
    "equation": "Ctrl-E",
    "itemize": "Ctrl-I"
   },
   "labels_anchors": false,
   "latex_user_defs": false,
   "report_style_numbering": false,
   "user_envs_cfg": false
  }
 },
 "nbformat": 4,
 "nbformat_minor": 4
}
