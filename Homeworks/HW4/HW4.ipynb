{
 "cells": [
  {
   "cell_type": "code",
   "execution_count": 1,
   "metadata": {
    "ExecuteTime": {
     "end_time": "2020-03-03T02:04:18.675044Z",
     "start_time": "2020-03-03T02:04:15.120387Z"
    }
   },
   "outputs": [
    {
     "name": "stderr",
     "output_type": "stream",
     "text": [
      "/var/folders/sp/wlr6xm2979l8vx6kjh2z1dk00000gn/T/ipykernel_76356/800585704.py:11: FutureWarning: use_inf_as_na option is deprecated and will be removed in a future version. Convert inf values to NaN before operating instead.\n",
      "  pd.set_option('use_inf_as_na', True)\n"
     ]
    }
   ],
   "source": [
    "import pandas as pd\n",
    "import numpy as np\n",
    "import matplotlib.pyplot as plt\n",
    "%matplotlib inline\n",
    "from sklearn.metrics import accuracy_score, confusion_matrix\n",
    "from sklearn.tree import DecisionTreeClassifier\n",
    "from sklearn.ensemble import RandomForestClassifier\n",
    "import sklearn\n",
    "import lightgbm as lgb \n",
    "\n",
    "pd.set_option('use_inf_as_na', True)\n",
    "from collections import Counter\n",
    "import _pickle as cPickle\n",
    "\n",
    "from tqdm import tqdm # to measure progress of for loops"
   ]
  },
  {
   "cell_type": "markdown",
   "metadata": {},
   "source": [
    "# Problem 1"
   ]
  },
  {
   "cell_type": "markdown",
   "metadata": {},
   "source": [
    "## Random Forest"
   ]
  },
  {
   "cell_type": "markdown",
   "metadata": {},
   "source": [
    "### Long term performance with Random Forest Classifier, optimal hyper-parameters, and optimal features"
   ]
  },
  {
   "cell_type": "code",
   "execution_count": 2,
   "metadata": {
    "ExecuteTime": {
     "end_time": "2020-03-03T02:04:21.903526Z",
     "start_time": "2020-03-03T02:04:19.923963Z"
    }
   },
   "outputs": [],
   "source": [
    "raw_data = pd.read_pickle(r'dataset.pkl')\n",
    "data = raw_data[raw_data['market_cap'] > 1000.0]\n",
    "data = data.copy()\n",
    "data.fillna(0.0,inplace=True)"
   ]
  },
  {
   "cell_type": "code",
   "execution_count": 3,
   "metadata": {
    "ExecuteTime": {
     "end_time": "2020-03-03T02:04:24.516696Z",
     "start_time": "2020-03-03T02:04:24.512695Z"
    }
   },
   "outputs": [],
   "source": [
    "def f(x):\n",
    "    if x > 0.01:\n",
    "        return 1\n",
    "    elif x < -0.025:\n",
    "        return -1\n",
    "    else:\n",
    "        return 0"
   ]
  },
  {
   "cell_type": "code",
   "execution_count": 4,
   "metadata": {
    "ExecuteTime": {
     "end_time": "2020-03-03T02:04:30.421746Z",
     "start_time": "2020-03-03T02:04:30.370536Z"
    }
   },
   "outputs": [],
   "source": [
    "data['rel_performance'] = data['pred_rel_return'].apply(f)\n",
    "data.reset_index(inplace=True)\n",
    "data.set_index('date',inplace=True)"
   ]
  },
  {
   "cell_type": "code",
   "execution_count": 5,
   "metadata": {},
   "outputs": [],
   "source": [
    "from sklearn.preprocessing import MinMaxScaler,StandardScaler\n",
    "scaler = StandardScaler()"
   ]
  },
  {
   "cell_type": "code",
   "execution_count": 6,
   "metadata": {
    "ExecuteTime": {
     "end_time": "2020-02-11T00:59:21.882803Z",
     "start_time": "2020-02-11T00:59:21.859799Z"
    }
   },
   "outputs": [],
   "source": [
    "start_dates = [pd.to_datetime('2001-01-01') + pd.DateOffset(months = 3*i) for i in range(57)]\n",
    "end_dates = [d + pd.DateOffset(months = 36) for d in start_dates]"
   ]
  },
  {
   "cell_type": "code",
   "execution_count": 7,
   "metadata": {
    "ExecuteTime": {
     "end_time": "2020-02-11T01:00:06.107690Z",
     "start_time": "2020-02-11T01:00:06.050640Z"
    }
   },
   "outputs": [],
   "source": [
    "training_frames = [data.loc[d:d+pd.DateOffset(months = 36)] for d in start_dates]\n",
    "valid_frames = [data.loc[d:d+pd.DateOffset(months = 3)] for d in end_dates]\n",
    "test_frames = [data.loc[d+pd.DateOffset(months = 6):d+pd.DateOffset(months = 9)] for d in end_dates]"
   ]
  },
  {
   "cell_type": "code",
   "execution_count": 8,
   "metadata": {
    "ExecuteTime": {
     "end_time": "2020-02-11T01:00:20.984116Z",
     "start_time": "2020-02-11T01:00:11.072616Z"
    }
   },
   "outputs": [],
   "source": [
    "training_data = [d.reset_index().drop\n",
    "                                 (['ticker','date',\n",
    "                                   'next_period_return',\n",
    "                                   'spy_next_period_return',\n",
    "                                   'rel_performance','pred_rel_return',\n",
    "                                  'return', 'cum_ret', 'spy_cum_ret'],axis=1) for d in training_frames]"
   ]
  },
  {
   "cell_type": "code",
   "execution_count": 9,
   "metadata": {},
   "outputs": [],
   "source": [
    "valid_data = [d.reset_index().drop\n",
    "                                 (['ticker','date',\n",
    "                                   'next_period_return',\n",
    "                                   'spy_next_period_return',\n",
    "                                   'rel_performance','pred_rel_return',\n",
    "                                  'return', 'cum_ret', 'spy_cum_ret'],axis=1) for d in valid_frames]"
   ]
  },
  {
   "cell_type": "code",
   "execution_count": 10,
   "metadata": {
    "ExecuteTime": {
     "end_time": "2020-02-11T01:00:22.138142Z",
     "start_time": "2020-02-11T01:00:20.986086Z"
    }
   },
   "outputs": [],
   "source": [
    "test_data = [d.reset_index().drop(['ticker','date',\n",
    "                                   'next_period_return',\n",
    "                                   'spy_next_period_return',\n",
    "                                   'rel_performance','pred_rel_return',\n",
    "                                  'return', 'cum_ret', 'spy_cum_ret'],axis=1) for d in test_frames]"
   ]
  },
  {
   "cell_type": "code",
   "execution_count": 11,
   "metadata": {
    "ExecuteTime": {
     "end_time": "2020-02-11T01:00:28.172336Z",
     "start_time": "2020-02-11T01:00:28.162322Z"
    }
   },
   "outputs": [],
   "source": [
    "training_labels = [d['rel_performance'].values for d in training_frames]\n",
    "valid_labels = [d['rel_performance'].values for d in valid_frames] "
   ]
  },
  {
   "cell_type": "code",
   "execution_count": 12,
   "metadata": {},
   "outputs": [],
   "source": [
    "for i in range(len(start_dates)-1):\n",
    "    float_vars = [x for x in training_data[i].columns if data[x].dtype == 'float64']\n",
    "\n",
    "    scaler = StandardScaler()\n",
    "    training_data[i] = training_data[i].copy()\n",
    "    valid_data[i] = valid_data[i].copy()\n",
    "    test_data[i] = test_data[i].copy()\n",
    "    training_data[i][float_vars] = scaler.fit_transform(training_data[i][float_vars])\n",
    "    valid_data[i][float_vars] = scaler.transform(valid_data[i][float_vars])\n",
    "    test_data[i][float_vars] = scaler.transform(test_data[i][float_vars])"
   ]
  },
  {
   "cell_type": "markdown",
   "metadata": {},
   "source": [
    "### Open and read the shap features over the holding period 2003 - 2018"
   ]
  },
  {
   "cell_type": "code",
   "execution_count": 13,
   "metadata": {},
   "outputs": [],
   "source": [
    "with open(r'Random Forest Parameters/shap_features.pkl','rb') as f:\n",
    "    shap_rf = cPickle.load(f)\n",
    "with open(r'Random Forest Parameters/optimal_hyperparameters.pkl','rb') as f:\n",
    "    opt_hyper_params_rf = cPickle.load(f)"
   ]
  },
  {
   "cell_type": "code",
   "execution_count": 14,
   "metadata": {},
   "outputs": [
    {
     "data": {
      "text/plain": [
       "[('fcf_yield', 42),\n",
       " ('cf_yield', 41),\n",
       " ('oancfy', 41),\n",
       " ('oancfy_q', 39),\n",
       " ('fcf_csfhdq', 37),\n",
       " ('lt_ppentq', 37),\n",
       " ('evmq', 36),\n",
       " ('dprq', 36),\n",
       " ('oepsxy', 35),\n",
       " ('dvpspq', 35)]"
      ]
     },
     "execution_count": 14,
     "metadata": {},
     "output_type": "execute_result"
    }
   ],
   "source": [
    "# Convert shap_rf to a list of features\n",
    "shap_rf_list = []\n",
    "for feats in shap_rf:\n",
    "    shap_rf_list.extend(list(feats))\n",
    "\n",
    "# Find the 10 most common features\n",
    "c = Counter(shap_rf_list)\n",
    "c.most_common(10)"
   ]
  },
  {
   "cell_type": "code",
   "execution_count": 15,
   "metadata": {},
   "outputs": [],
   "source": [
    "# Choose 10 most common shap features to be the optimal features\n",
    "opt_rf_feats = [val[0] for val in c.most_common(10)]"
   ]
  },
  {
   "cell_type": "code",
   "execution_count": 16,
   "metadata": {},
   "outputs": [],
   "source": [
    "# Initialize the list of classifiers with the optimal hyperparameters\n",
    "rf_classifiers = []\n",
    "\n",
    "for hyp_par in opt_hyper_params_rf:\n",
    "    rf_clf = RandomForestClassifier(**hyp_par)\n",
    "    rf_classifiers.append(rf_clf)"
   ]
  },
  {
   "cell_type": "code",
   "execution_count": 17,
   "metadata": {},
   "outputs": [],
   "source": [
    "start_dates = [pd.to_datetime('2001-01-01') + pd.DateOffset(months = 3*i) for i in range(57)]\n",
    "end_dates = [d + pd.DateOffset(months = 39) for d in start_dates]"
   ]
  },
  {
   "cell_type": "code",
   "execution_count": 18,
   "metadata": {},
   "outputs": [],
   "source": [
    "training_frames = [data.loc[d:d+pd.DateOffset(months = 39)] for d in start_dates]\n",
    "test_frames = [data.loc[d+pd.DateOffset(months = 3):d+pd.DateOffset(months = 6)] for d in end_dates]"
   ]
  },
  {
   "cell_type": "code",
   "execution_count": 19,
   "metadata": {},
   "outputs": [],
   "source": [
    "training_labels = [d['rel_performance'].values for d in training_frames]"
   ]
  },
  {
   "cell_type": "code",
   "execution_count": 20,
   "metadata": {
    "ExecuteTime": {
     "end_time": "2020-02-11T01:00:33.994294Z",
     "start_time": "2020-02-11T01:00:33.869286Z"
    }
   },
   "outputs": [],
   "source": [
    "scalers = [StandardScaler() for i in range(len(start_dates)-1)]\n",
    "           \n",
    "opt_training_data = [pd.DataFrame(scalers[i].fit_transform(training_frames[i][opt_rf_feats].values),columns=opt_rf_feats) for i in range(len(start_dates)-1)]\n",
    "opt_test_data = [pd.DataFrame(scalers[i].transform(test_frames[i][opt_rf_feats].values),columns=opt_rf_feats) for i in range(len(start_dates)-1)]"
   ]
  },
  {
   "cell_type": "code",
   "execution_count": 21,
   "metadata": {},
   "outputs": [
    {
     "data": {
      "text/html": [
       "<div>\n",
       "<style scoped>\n",
       "    .dataframe tbody tr th:only-of-type {\n",
       "        vertical-align: middle;\n",
       "    }\n",
       "\n",
       "    .dataframe tbody tr th {\n",
       "        vertical-align: top;\n",
       "    }\n",
       "\n",
       "    .dataframe thead th {\n",
       "        text-align: right;\n",
       "    }\n",
       "</style>\n",
       "<table border=\"1\" class=\"dataframe\">\n",
       "  <thead>\n",
       "    <tr style=\"text-align: right;\">\n",
       "      <th></th>\n",
       "      <th>fcf_yield</th>\n",
       "      <th>cf_yield</th>\n",
       "      <th>oancfy</th>\n",
       "      <th>oancfy_q</th>\n",
       "      <th>fcf_csfhdq</th>\n",
       "      <th>lt_ppentq</th>\n",
       "      <th>evmq</th>\n",
       "      <th>dprq</th>\n",
       "      <th>oepsxy</th>\n",
       "      <th>dvpspq</th>\n",
       "    </tr>\n",
       "  </thead>\n",
       "  <tbody>\n",
       "    <tr>\n",
       "      <th>0</th>\n",
       "      <td>-0.206398</td>\n",
       "      <td>-0.645950</td>\n",
       "      <td>-0.171431</td>\n",
       "      <td>-0.142220</td>\n",
       "      <td>-0.222443</td>\n",
       "      <td>-0.138036</td>\n",
       "      <td>0.080339</td>\n",
       "      <td>-0.042204</td>\n",
       "      <td>-0.093053</td>\n",
       "      <td>-0.595682</td>\n",
       "    </tr>\n",
       "    <tr>\n",
       "      <th>1</th>\n",
       "      <td>-0.420684</td>\n",
       "      <td>2.792597</td>\n",
       "      <td>0.852188</td>\n",
       "      <td>0.210787</td>\n",
       "      <td>-0.359797</td>\n",
       "      <td>-0.137840</td>\n",
       "      <td>-1.060025</td>\n",
       "      <td>-0.112661</td>\n",
       "      <td>-0.578317</td>\n",
       "      <td>-0.408904</td>\n",
       "    </tr>\n",
       "    <tr>\n",
       "      <th>2</th>\n",
       "      <td>-0.020692</td>\n",
       "      <td>-0.102749</td>\n",
       "      <td>-0.051488</td>\n",
       "      <td>-0.110094</td>\n",
       "      <td>-0.118421</td>\n",
       "      <td>-0.143237</td>\n",
       "      <td>0.013442</td>\n",
       "      <td>-0.006715</td>\n",
       "      <td>0.215752</td>\n",
       "      <td>-0.198778</td>\n",
       "    </tr>\n",
       "    <tr>\n",
       "      <th>3</th>\n",
       "      <td>0.049269</td>\n",
       "      <td>-0.199209</td>\n",
       "      <td>-0.200669</td>\n",
       "      <td>-0.110826</td>\n",
       "      <td>0.041014</td>\n",
       "      <td>-0.126797</td>\n",
       "      <td>0.011170</td>\n",
       "      <td>-0.030968</td>\n",
       "      <td>0.107470</td>\n",
       "      <td>-0.595682</td>\n",
       "    </tr>\n",
       "    <tr>\n",
       "      <th>4</th>\n",
       "      <td>0.006049</td>\n",
       "      <td>-0.332625</td>\n",
       "      <td>1.494588</td>\n",
       "      <td>1.340345</td>\n",
       "      <td>0.089421</td>\n",
       "      <td>-0.136787</td>\n",
       "      <td>0.018215</td>\n",
       "      <td>0.007137</td>\n",
       "      <td>0.307992</td>\n",
       "      <td>0.478292</td>\n",
       "    </tr>\n",
       "    <tr>\n",
       "      <th>...</th>\n",
       "      <td>...</td>\n",
       "      <td>...</td>\n",
       "      <td>...</td>\n",
       "      <td>...</td>\n",
       "      <td>...</td>\n",
       "      <td>...</td>\n",
       "      <td>...</td>\n",
       "      <td>...</td>\n",
       "      <td>...</td>\n",
       "      <td>...</td>\n",
       "    </tr>\n",
       "    <tr>\n",
       "      <th>1131</th>\n",
       "      <td>-0.062845</td>\n",
       "      <td>-0.275955</td>\n",
       "      <td>-0.011859</td>\n",
       "      <td>0.030989</td>\n",
       "      <td>-0.150327</td>\n",
       "      <td>-0.125497</td>\n",
       "      <td>-0.007114</td>\n",
       "      <td>0.091678</td>\n",
       "      <td>-0.133157</td>\n",
       "      <td>0.618376</td>\n",
       "    </tr>\n",
       "    <tr>\n",
       "      <th>1132</th>\n",
       "      <td>-0.036429</td>\n",
       "      <td>-0.386222</td>\n",
       "      <td>-0.195607</td>\n",
       "      <td>-0.156680</td>\n",
       "      <td>0.068950</td>\n",
       "      <td>-0.122519</td>\n",
       "      <td>0.014597</td>\n",
       "      <td>-0.023044</td>\n",
       "      <td>0.099449</td>\n",
       "      <td>-0.408904</td>\n",
       "    </tr>\n",
       "    <tr>\n",
       "      <th>1133</th>\n",
       "      <td>-0.242139</td>\n",
       "      <td>0.414694</td>\n",
       "      <td>-0.090863</td>\n",
       "      <td>0.021878</td>\n",
       "      <td>-0.311895</td>\n",
       "      <td>-0.146362</td>\n",
       "      <td>0.002207</td>\n",
       "      <td>-0.042204</td>\n",
       "      <td>-0.297586</td>\n",
       "      <td>-0.595682</td>\n",
       "    </tr>\n",
       "    <tr>\n",
       "      <th>1134</th>\n",
       "      <td>-0.032373</td>\n",
       "      <td>-0.453909</td>\n",
       "      <td>-0.213380</td>\n",
       "      <td>-0.163768</td>\n",
       "      <td>0.006329</td>\n",
       "      <td>-0.099544</td>\n",
       "      <td>0.015523</td>\n",
       "      <td>-0.042204</td>\n",
       "      <td>0.051323</td>\n",
       "      <td>-0.595682</td>\n",
       "    </tr>\n",
       "    <tr>\n",
       "      <th>1135</th>\n",
       "      <td>-0.081537</td>\n",
       "      <td>-0.517354</td>\n",
       "      <td>-0.191139</td>\n",
       "      <td>-0.168606</td>\n",
       "      <td>-0.252757</td>\n",
       "      <td>-0.135636</td>\n",
       "      <td>0.044254</td>\n",
       "      <td>-0.042204</td>\n",
       "      <td>-0.301596</td>\n",
       "      <td>-0.595682</td>\n",
       "    </tr>\n",
       "  </tbody>\n",
       "</table>\n",
       "<p>1136 rows × 10 columns</p>\n",
       "</div>"
      ],
      "text/plain": [
       "      fcf_yield  cf_yield    oancfy  oancfy_q  fcf_csfhdq  lt_ppentq  \\\n",
       "0     -0.206398 -0.645950 -0.171431 -0.142220   -0.222443  -0.138036   \n",
       "1     -0.420684  2.792597  0.852188  0.210787   -0.359797  -0.137840   \n",
       "2     -0.020692 -0.102749 -0.051488 -0.110094   -0.118421  -0.143237   \n",
       "3      0.049269 -0.199209 -0.200669 -0.110826    0.041014  -0.126797   \n",
       "4      0.006049 -0.332625  1.494588  1.340345    0.089421  -0.136787   \n",
       "...         ...       ...       ...       ...         ...        ...   \n",
       "1131  -0.062845 -0.275955 -0.011859  0.030989   -0.150327  -0.125497   \n",
       "1132  -0.036429 -0.386222 -0.195607 -0.156680    0.068950  -0.122519   \n",
       "1133  -0.242139  0.414694 -0.090863  0.021878   -0.311895  -0.146362   \n",
       "1134  -0.032373 -0.453909 -0.213380 -0.163768    0.006329  -0.099544   \n",
       "1135  -0.081537 -0.517354 -0.191139 -0.168606   -0.252757  -0.135636   \n",
       "\n",
       "          evmq      dprq    oepsxy    dvpspq  \n",
       "0     0.080339 -0.042204 -0.093053 -0.595682  \n",
       "1    -1.060025 -0.112661 -0.578317 -0.408904  \n",
       "2     0.013442 -0.006715  0.215752 -0.198778  \n",
       "3     0.011170 -0.030968  0.107470 -0.595682  \n",
       "4     0.018215  0.007137  0.307992  0.478292  \n",
       "...        ...       ...       ...       ...  \n",
       "1131 -0.007114  0.091678 -0.133157  0.618376  \n",
       "1132  0.014597 -0.023044  0.099449 -0.408904  \n",
       "1133  0.002207 -0.042204 -0.297586 -0.595682  \n",
       "1134  0.015523 -0.042204  0.051323 -0.595682  \n",
       "1135  0.044254 -0.042204 -0.301596 -0.595682  \n",
       "\n",
       "[1136 rows x 10 columns]"
      ]
     },
     "execution_count": 21,
     "metadata": {},
     "output_type": "execute_result"
    }
   ],
   "source": [
    "opt_test_data[1]"
   ]
  },
  {
   "cell_type": "code",
   "execution_count": 22,
   "metadata": {
    "ExecuteTime": {
     "end_time": "2020-02-11T01:01:15.387898Z",
     "start_time": "2020-02-11T01:00:58.271824Z"
    }
   },
   "outputs": [
    {
     "name": "stderr",
     "output_type": "stream",
     "text": [
      "100%|███████████████████████████████████████████| 56/56 [00:13<00:00,  4.16it/s]\n"
     ]
    }
   ],
   "source": [
    "x_rf = [1]\n",
    "ret_rf = []\n",
    "\n",
    "for i in tqdm(range(len(start_dates)-1)):\n",
    "        rf_classifiers[i].fit(opt_training_data[i],training_labels[i])\n",
    "        preds = rf_classifiers[i].predict(opt_test_data[i])\n",
    "        profit_i = (preds*test_frames[i]['next_period_return']).sum()\n",
    "        ret_rf.append(profit_i)\n",
    "        num_names = len(opt_test_data[i])\n",
    "        x_rf.append(x_rf[i] + (x_rf[i]/num_names)*profit_i)"
   ]
  },
  {
   "cell_type": "markdown",
   "metadata": {},
   "source": [
    "## Gradient Boosting"
   ]
  },
  {
   "cell_type": "markdown",
   "metadata": {},
   "source": [
    "### Long term performance with Gradient Boosting Classifier, and optimal shapley features"
   ]
  },
  {
   "cell_type": "code",
   "execution_count": 23,
   "metadata": {
    "ExecuteTime": {
     "end_time": "2020-03-03T02:04:24.516696Z",
     "start_time": "2020-03-03T02:04:24.512695Z"
    }
   },
   "outputs": [],
   "source": [
    "def f(x):\n",
    "    if x > 0.01:\n",
    "        return 1\n",
    "    elif x < -0.01:\n",
    "        return -1\n",
    "    else:\n",
    "        return 0"
   ]
  },
  {
   "cell_type": "code",
   "execution_count": 24,
   "metadata": {
    "ExecuteTime": {
     "end_time": "2020-03-03T02:04:30.421746Z",
     "start_time": "2020-03-03T02:04:30.370536Z"
    }
   },
   "outputs": [],
   "source": [
    "data['rel_performance'] = data['pred_rel_return'].apply(f)\n",
    "data.reset_index(inplace=True,)\n",
    "data.set_index('date',inplace=True)"
   ]
  },
  {
   "cell_type": "code",
   "execution_count": 25,
   "metadata": {},
   "outputs": [],
   "source": [
    "from sklearn.preprocessing import MinMaxScaler,StandardScaler\n",
    "scaler = StandardScaler()"
   ]
  },
  {
   "cell_type": "markdown",
   "metadata": {},
   "source": [
    "### Open and read the shap features for the Gradient Boosting classifiers"
   ]
  },
  {
   "cell_type": "code",
   "execution_count": 26,
   "metadata": {},
   "outputs": [],
   "source": [
    "with open(r'Gradient Boosting Parameters/shap_features_gb_clf_01.pkl','rb') as f:\n",
    "    shap_gb = cPickle.load(f)\n"
   ]
  },
  {
   "cell_type": "code",
   "execution_count": 27,
   "metadata": {},
   "outputs": [
    {
     "data": {
      "text/plain": [
       "[('fcf_yield', 47),\n",
       " ('cf_yield', 47),\n",
       " ('evmq', 42),\n",
       " ('lt_ppentq', 42),\n",
       " ('oancfy', 39),\n",
       " ('opmbdq', 38),\n",
       " ('rect_turnq', 38),\n",
       " ('rectq', 37),\n",
       " ('fcf_csfhdq', 37),\n",
       " ('oepsxy', 36)]"
      ]
     },
     "execution_count": 27,
     "metadata": {},
     "output_type": "execute_result"
    }
   ],
   "source": [
    "# Convert shap_gb to a list of features\n",
    "shap_gb_list = []\n",
    "for feats in shap_gb:\n",
    "    shap_gb_list.extend(list(feats))\n",
    "\n",
    "# Find the 10 most common features\n",
    "c = Counter(shap_gb_list)\n",
    "c.most_common(10)"
   ]
  },
  {
   "cell_type": "code",
   "execution_count": 28,
   "metadata": {},
   "outputs": [],
   "source": [
    "# Choose 10 most common shap features to be the optimal features\n",
    "opt_gb_feats = [val[0] for val in c.most_common(10)]"
   ]
  },
  {
   "cell_type": "markdown",
   "metadata": {},
   "source": [
    "### Open and gradient boosting classifiers with optimal hyperparameters"
   ]
  },
  {
   "cell_type": "code",
   "execution_count": 29,
   "metadata": {},
   "outputs": [
    {
     "name": "stderr",
     "output_type": "stream",
     "text": [
      "/Users/shri/miniconda3/lib/python3.11/site-packages/sklearn/base.py:348: InconsistentVersionWarning: Trying to unpickle estimator LabelEncoder from version 1.3.0 when using version 1.3.1. This might lead to breaking code or invalid results. Use at your own risk. For more info please refer to:\n",
      "https://scikit-learn.org/stable/model_persistence.html#security-maintainability-limitations\n",
      "  warnings.warn(\n"
     ]
    },
    {
     "data": {
      "text/plain": [
       "[LGBMClassifier(learning_rate=0.18000000000000002, min_data_in_leaf=1200,\n",
       "                n_estimators=80, num_leaves=21,\n",
       "                reg_lambda=4.1926760590611446e-05, verbose=-1),\n",
       " LGBMClassifier(learning_rate=0.06999999999999999, min_data_in_leaf=2000,\n",
       "                n_estimators=20, num_leaves=18, reg_lambda=0.28156428865021,\n",
       "                verbose=-1),\n",
       " LGBMClassifier(learning_rate=0.2, min_data_in_leaf=2400, n_estimators=60,\n",
       "                num_leaves=12, reg_lambda=0.00949580168692767, verbose=-1),\n",
       " LGBMClassifier(learning_rate=0.08, min_data_in_leaf=800, n_estimators=90,\n",
       "                num_leaves=11, reg_lambda=0.35501553792735624, verbose=-1),\n",
       " LGBMClassifier(learning_rate=0.05, min_data_in_leaf=2400, n_estimators=60,\n",
       "                num_leaves=12, reg_lambda=1.1038244873745418e-05, verbose=-1),\n",
       " LGBMClassifier(learning_rate=0.15000000000000002, min_data_in_leaf=800,\n",
       "                n_estimators=60, num_leaves=18, reg_lambda=5.2793165605788,\n",
       "                verbose=-1),\n",
       " LGBMClassifier(learning_rate=0.060000000000000005, min_data_in_leaf=2000,\n",
       "                n_estimators=70, num_leaves=20, reg_lambda=1.9386878903330922,\n",
       "                verbose=-1),\n",
       " LGBMClassifier(learning_rate=0.01, min_data_in_leaf=2400, n_estimators=30,\n",
       "                num_leaves=10, reg_lambda=0.025760652190382663, verbose=-1),\n",
       " LGBMClassifier(learning_rate=0.18000000000000002, min_data_in_leaf=400,\n",
       "                num_leaves=18, reg_lambda=0.022271527785740566, verbose=-1),\n",
       " LGBMClassifier(learning_rate=0.06999999999999999, min_data_in_leaf=1600,\n",
       "                n_estimators=10, num_leaves=20, reg_lambda=0.9880783194609578,\n",
       "                verbose=-1),\n",
       " LGBMClassifier(learning_rate=0.01, min_data_in_leaf=2400, n_estimators=30,\n",
       "                num_leaves=18, reg_lambda=1.401869082699602e-08, verbose=-1),\n",
       " LGBMClassifier(learning_rate=0.02, min_data_in_leaf=2400, n_estimators=70,\n",
       "                num_leaves=22, reg_lambda=9.326506738803086e-05, verbose=-1),\n",
       " LGBMClassifier(learning_rate=0.2, min_data_in_leaf=2000, num_leaves=11,\n",
       "                reg_lambda=7.88049878416173e-06, verbose=-1),\n",
       " LGBMClassifier(learning_rate=0.15000000000000002, min_data_in_leaf=1600,\n",
       "                n_estimators=90, num_leaves=9, reg_lambda=0.08549692450435792,\n",
       "                verbose=-1),\n",
       " LGBMClassifier(learning_rate=0.2, min_data_in_leaf=1600, num_leaves=25,\n",
       "                reg_lambda=8.058235473273874e-08, verbose=-1),\n",
       " LGBMClassifier(learning_rate=0.08, min_data_in_leaf=1200, n_estimators=20,\n",
       "                num_leaves=14, reg_lambda=0.0007797041673284336, verbose=-1),\n",
       " LGBMClassifier(learning_rate=0.2, min_data_in_leaf=400, n_estimators=80,\n",
       "                num_leaves=24, reg_lambda=0.006420881165795629, verbose=-1),\n",
       " LGBMClassifier(learning_rate=0.15000000000000002, min_data_in_leaf=400,\n",
       "                num_leaves=24, reg_lambda=7.454399263068077e-05, verbose=-1),\n",
       " LGBMClassifier(learning_rate=0.2, min_data_in_leaf=1200, n_estimators=60,\n",
       "                num_leaves=18, reg_lambda=5.433763266037896e-08, verbose=-1),\n",
       " LGBMClassifier(learning_rate=0.01, min_data_in_leaf=2400, n_estimators=70,\n",
       "                num_leaves=20, reg_lambda=6.178198580200558, verbose=-1),\n",
       " LGBMClassifier(learning_rate=0.01, min_data_in_leaf=2000, n_estimators=30,\n",
       "                num_leaves=25, reg_lambda=1.1971225536873805e-08, verbose=-1),\n",
       " LGBMClassifier(learning_rate=0.02, min_data_in_leaf=1200, n_estimators=10,\n",
       "                num_leaves=17, reg_lambda=2.9219263961925564e-07, verbose=-1),\n",
       " LGBMClassifier(learning_rate=0.01, min_data_in_leaf=1600, n_estimators=70,\n",
       "                num_leaves=25, reg_lambda=1.1447370022229329e-05, verbose=-1),\n",
       " LGBMClassifier(learning_rate=0.02, min_data_in_leaf=400, n_estimators=10,\n",
       "                num_leaves=25, reg_lambda=8.014954781649502, verbose=-1),\n",
       " LGBMClassifier(learning_rate=0.19, min_data_in_leaf=400, n_estimators=60,\n",
       "                num_leaves=14, reg_lambda=6.633764031783405e-05, verbose=-1),\n",
       " LGBMClassifier(learning_rate=0.05, min_data_in_leaf=1200, n_estimators=20,\n",
       "                num_leaves=5, reg_lambda=1.7015882232761017, verbose=-1),\n",
       " LGBMClassifier(learning_rate=0.09, min_data_in_leaf=2000, n_estimators=20,\n",
       "                num_leaves=17, reg_lambda=0.004781041377378014, verbose=-1),\n",
       " LGBMClassifier(learning_rate=0.18000000000000002, min_data_in_leaf=800,\n",
       "                n_estimators=50, num_leaves=9, reg_lambda=7.472621928893586e-05,\n",
       "                verbose=-1),\n",
       " LGBMClassifier(learning_rate=0.17, min_data_in_leaf=800, num_leaves=23,\n",
       "                reg_lambda=2.9163972304983816, verbose=-1),\n",
       " LGBMClassifier(learning_rate=0.18000000000000002, min_data_in_leaf=800,\n",
       "                num_leaves=11, reg_lambda=0.026662544957235988, verbose=-1),\n",
       " LGBMClassifier(learning_rate=0.11, min_data_in_leaf=1200, n_estimators=10,\n",
       "                num_leaves=11, reg_lambda=1.5493129963713638e-08, verbose=-1),\n",
       " LGBMClassifier(learning_rate=0.05, min_data_in_leaf=2000, n_estimators=30,\n",
       "                num_leaves=12, reg_lambda=0.004444446758115566, verbose=-1),\n",
       " LGBMClassifier(learning_rate=0.17, min_data_in_leaf=800, n_estimators=80,\n",
       "                num_leaves=21, reg_lambda=8.81138230514202, verbose=-1),\n",
       " LGBMClassifier(learning_rate=0.08, min_data_in_leaf=1600, n_estimators=10,\n",
       "                num_leaves=10, reg_lambda=2.206139616819355e-05, verbose=-1),\n",
       " LGBMClassifier(learning_rate=0.02, min_data_in_leaf=800, n_estimators=10,\n",
       "                num_leaves=6, reg_lambda=2.5921615197841994e-05, verbose=-1),\n",
       " LGBMClassifier(learning_rate=0.09999999999999999, min_data_in_leaf=2000,\n",
       "                n_estimators=10, num_leaves=22, reg_lambda=3.240804128810348e-05,\n",
       "                verbose=-1),\n",
       " LGBMClassifier(learning_rate=0.01, min_data_in_leaf=2400, n_estimators=10,\n",
       "                num_leaves=24, reg_lambda=3.304603399273301e-05, verbose=-1),\n",
       " LGBMClassifier(learning_rate=0.01, min_data_in_leaf=400, n_estimators=10,\n",
       "                num_leaves=9, reg_lambda=9.170722573049154, verbose=-1),\n",
       " LGBMClassifier(learning_rate=0.16, min_data_in_leaf=1600, n_estimators=10,\n",
       "                num_leaves=12, reg_lambda=0.012568356333486092, verbose=-1),\n",
       " LGBMClassifier(learning_rate=0.05, min_data_in_leaf=400, n_estimators=30,\n",
       "                num_leaves=13, reg_lambda=0.01694755783830447, verbose=-1),\n",
       " LGBMClassifier(learning_rate=0.01, min_data_in_leaf=800, n_estimators=80,\n",
       "                num_leaves=5, reg_lambda=2.766517893636552e-08, verbose=-1),\n",
       " LGBMClassifier(learning_rate=0.09, min_data_in_leaf=1200, n_estimators=50,\n",
       "                num_leaves=25, reg_lambda=0.00020991936842672704, verbose=-1),\n",
       " LGBMClassifier(learning_rate=0.02, min_data_in_leaf=1200, num_leaves=25,\n",
       "                reg_lambda=8.1907805250222, verbose=-1),\n",
       " LGBMClassifier(learning_rate=0.01, min_data_in_leaf=2000, n_estimators=50,\n",
       "                num_leaves=12, reg_lambda=0.0016544444746814633, verbose=-1),\n",
       " LGBMClassifier(learning_rate=0.15000000000000002, min_data_in_leaf=2400,\n",
       "                num_leaves=20, reg_lambda=1.0448687235196624e-08, verbose=-1),\n",
       " LGBMClassifier(learning_rate=0.06999999999999999, min_data_in_leaf=2000,\n",
       "                n_estimators=80, num_leaves=17, reg_lambda=3.3554078873804607,\n",
       "                verbose=-1),\n",
       " LGBMClassifier(learning_rate=0.2, min_data_in_leaf=400, n_estimators=80,\n",
       "                num_leaves=23, reg_lambda=5.6809720216761846e-08, verbose=-1),\n",
       " LGBMClassifier(learning_rate=0.01, min_data_in_leaf=1200, n_estimators=30,\n",
       "                num_leaves=11, reg_lambda=3.967273802086862e-06, verbose=-1),\n",
       " LGBMClassifier(learning_rate=0.01, min_data_in_leaf=1600, n_estimators=10,\n",
       "                num_leaves=18, reg_lambda=1.407206905720345e-08, verbose=-1),\n",
       " LGBMClassifier(learning_rate=0.15000000000000002, min_data_in_leaf=400,\n",
       "                num_leaves=6, reg_lambda=0.027907708497775543, verbose=-1),\n",
       " LGBMClassifier(learning_rate=0.01, min_data_in_leaf=2400, n_estimators=10,\n",
       "                num_leaves=18, reg_lambda=8.669898229859788e-06, verbose=-1),\n",
       " LGBMClassifier(learning_rate=0.01, min_data_in_leaf=400, num_leaves=22,\n",
       "                reg_lambda=0.005111774596827009, verbose=-1),\n",
       " LGBMClassifier(learning_rate=0.03, min_data_in_leaf=400, n_estimators=20,\n",
       "                num_leaves=12, reg_lambda=1.049594645697509e-08, verbose=-1),\n",
       " LGBMClassifier(learning_rate=0.04, min_data_in_leaf=1200, n_estimators=10,\n",
       "                num_leaves=7, reg_lambda=0.4836824838930745, verbose=-1),\n",
       " LGBMClassifier(learning_rate=0.02, min_data_in_leaf=2000, n_estimators=10,\n",
       "                num_leaves=6, reg_lambda=1.8711011035360189e-07, verbose=-1),\n",
       " LGBMClassifier(learning_rate=0.12, min_data_in_leaf=2000, n_estimators=40,\n",
       "                num_leaves=19, reg_lambda=4.772466721104165, verbose=-1)]"
      ]
     },
     "execution_count": 29,
     "metadata": {},
     "output_type": "execute_result"
    }
   ],
   "source": [
    "with open(r'Gradient Boosting Parameters/classifiers_gb_clf_01.pkl','rb') as f:\n",
    "    gb_clfs = cPickle.load(f)\n",
    "\n",
    "# add parameter to surpress warnings\n",
    "for i in range(len(gb_clfs)):\n",
    "    gb_clfs[i].set_params(verbose=-1)\n",
    "\n",
    "# The list of gradient boosting classifiers with the optimal hyperparameters\n",
    "gb_clfs"
   ]
  },
  {
   "cell_type": "code",
   "execution_count": 30,
   "metadata": {},
   "outputs": [
    {
     "data": {
      "text/html": [
       "<style>#sk-container-id-1 {color: black;}#sk-container-id-1 pre{padding: 0;}#sk-container-id-1 div.sk-toggleable {background-color: white;}#sk-container-id-1 label.sk-toggleable__label {cursor: pointer;display: block;width: 100%;margin-bottom: 0;padding: 0.3em;box-sizing: border-box;text-align: center;}#sk-container-id-1 label.sk-toggleable__label-arrow:before {content: \"▸\";float: left;margin-right: 0.25em;color: #696969;}#sk-container-id-1 label.sk-toggleable__label-arrow:hover:before {color: black;}#sk-container-id-1 div.sk-estimator:hover label.sk-toggleable__label-arrow:before {color: black;}#sk-container-id-1 div.sk-toggleable__content {max-height: 0;max-width: 0;overflow: hidden;text-align: left;background-color: #f0f8ff;}#sk-container-id-1 div.sk-toggleable__content pre {margin: 0.2em;color: black;border-radius: 0.25em;background-color: #f0f8ff;}#sk-container-id-1 input.sk-toggleable__control:checked~div.sk-toggleable__content {max-height: 200px;max-width: 100%;overflow: auto;}#sk-container-id-1 input.sk-toggleable__control:checked~label.sk-toggleable__label-arrow:before {content: \"▾\";}#sk-container-id-1 div.sk-estimator input.sk-toggleable__control:checked~label.sk-toggleable__label {background-color: #d4ebff;}#sk-container-id-1 div.sk-label input.sk-toggleable__control:checked~label.sk-toggleable__label {background-color: #d4ebff;}#sk-container-id-1 input.sk-hidden--visually {border: 0;clip: rect(1px 1px 1px 1px);clip: rect(1px, 1px, 1px, 1px);height: 1px;margin: -1px;overflow: hidden;padding: 0;position: absolute;width: 1px;}#sk-container-id-1 div.sk-estimator {font-family: monospace;background-color: #f0f8ff;border: 1px dotted black;border-radius: 0.25em;box-sizing: border-box;margin-bottom: 0.5em;}#sk-container-id-1 div.sk-estimator:hover {background-color: #d4ebff;}#sk-container-id-1 div.sk-parallel-item::after {content: \"\";width: 100%;border-bottom: 1px solid gray;flex-grow: 1;}#sk-container-id-1 div.sk-label:hover label.sk-toggleable__label {background-color: #d4ebff;}#sk-container-id-1 div.sk-serial::before {content: \"\";position: absolute;border-left: 1px solid gray;box-sizing: border-box;top: 0;bottom: 0;left: 50%;z-index: 0;}#sk-container-id-1 div.sk-serial {display: flex;flex-direction: column;align-items: center;background-color: white;padding-right: 0.2em;padding-left: 0.2em;position: relative;}#sk-container-id-1 div.sk-item {position: relative;z-index: 1;}#sk-container-id-1 div.sk-parallel {display: flex;align-items: stretch;justify-content: center;background-color: white;position: relative;}#sk-container-id-1 div.sk-item::before, #sk-container-id-1 div.sk-parallel-item::before {content: \"\";position: absolute;border-left: 1px solid gray;box-sizing: border-box;top: 0;bottom: 0;left: 50%;z-index: -1;}#sk-container-id-1 div.sk-parallel-item {display: flex;flex-direction: column;z-index: 1;position: relative;background-color: white;}#sk-container-id-1 div.sk-parallel-item:first-child::after {align-self: flex-end;width: 50%;}#sk-container-id-1 div.sk-parallel-item:last-child::after {align-self: flex-start;width: 50%;}#sk-container-id-1 div.sk-parallel-item:only-child::after {width: 0;}#sk-container-id-1 div.sk-dashed-wrapped {border: 1px dashed gray;margin: 0 0.4em 0.5em 0.4em;box-sizing: border-box;padding-bottom: 0.4em;background-color: white;}#sk-container-id-1 div.sk-label label {font-family: monospace;font-weight: bold;display: inline-block;line-height: 1.2em;}#sk-container-id-1 div.sk-label-container {text-align: center;}#sk-container-id-1 div.sk-container {/* jupyter's `normalize.less` sets `[hidden] { display: none; }` but bootstrap.min.css set `[hidden] { display: none !important; }` so we also need the `!important` here to be able to override the default hidden behavior on the sphinx rendered scikit-learn.org. See: https://github.com/scikit-learn/scikit-learn/issues/21755 */display: inline-block !important;position: relative;}#sk-container-id-1 div.sk-text-repr-fallback {display: none;}</style><div id=\"sk-container-id-1\" class=\"sk-top-container\"><div class=\"sk-text-repr-fallback\"><pre>LGBMClassifier(learning_rate=0.18000000000000002, min_data_in_leaf=1200,\n",
       "               n_estimators=80, num_leaves=21,\n",
       "               reg_lambda=4.1926760590611446e-05, verbose=-1)</pre><b>In a Jupyter environment, please rerun this cell to show the HTML representation or trust the notebook. <br />On GitHub, the HTML representation is unable to render, please try loading this page with nbviewer.org.</b></div><div class=\"sk-container\" hidden><div class=\"sk-item\"><div class=\"sk-estimator sk-toggleable\"><input class=\"sk-toggleable__control sk-hidden--visually\" id=\"sk-estimator-id-1\" type=\"checkbox\" checked><label for=\"sk-estimator-id-1\" class=\"sk-toggleable__label sk-toggleable__label-arrow\">LGBMClassifier</label><div class=\"sk-toggleable__content\"><pre>LGBMClassifier(learning_rate=0.18000000000000002, min_data_in_leaf=1200,\n",
       "               n_estimators=80, num_leaves=21,\n",
       "               reg_lambda=4.1926760590611446e-05, verbose=-1)</pre></div></div></div></div></div>"
      ],
      "text/plain": [
       "LGBMClassifier(learning_rate=0.18000000000000002, min_data_in_leaf=1200,\n",
       "               n_estimators=80, num_leaves=21,\n",
       "               reg_lambda=4.1926760590611446e-05, verbose=-1)"
      ]
     },
     "execution_count": 30,
     "metadata": {},
     "output_type": "execute_result"
    }
   ],
   "source": [
    "gb_clfs[0]"
   ]
  },
  {
   "cell_type": "code",
   "execution_count": 31,
   "metadata": {},
   "outputs": [],
   "source": [
    "start_dates = [pd.to_datetime('2001-01-01') + pd.DateOffset(months = 3 * i) for i in range(57)]\n",
    "end_dates = [d + pd.DateOffset(months = 39) for d in start_dates]"
   ]
  },
  {
   "cell_type": "code",
   "execution_count": 32,
   "metadata": {
    "ExecuteTime": {
     "end_time": "2020-02-11T01:00:20.984116Z",
     "start_time": "2020-02-11T01:00:11.072616Z"
    }
   },
   "outputs": [],
   "source": [
    "training_data = [d.reset_index().drop\n",
    "                                 (['ticker','date',\n",
    "                                   'next_period_return',\n",
    "                                   'spy_next_period_return',\n",
    "                                   'rel_performance','pred_rel_return',\n",
    "                                  'return', 'cum_ret', 'spy_cum_ret'],axis=1) for d in training_frames]\n",
    "\n",
    "test_data = [d.reset_index().drop(['ticker','date',\n",
    "                                   'next_period_return',\n",
    "                                   'spy_next_period_return',\n",
    "                                   'rel_performance','pred_rel_return',\n",
    "                                  'return', 'cum_ret', 'spy_cum_ret'],axis=1) for d in test_frames]"
   ]
  },
  {
   "cell_type": "code",
   "execution_count": 33,
   "metadata": {
    "ExecuteTime": {
     "end_time": "2020-02-11T01:00:22.138142Z",
     "start_time": "2020-02-11T01:00:20.986086Z"
    }
   },
   "outputs": [],
   "source": [
    "training_labels = [d['rel_performance'].values for d in training_frames]"
   ]
  },
  {
   "cell_type": "code",
   "execution_count": 34,
   "metadata": {
    "ExecuteTime": {
     "end_time": "2020-02-11T01:00:28.172336Z",
     "start_time": "2020-02-11T01:00:28.162322Z"
    }
   },
   "outputs": [],
   "source": [
    "opt_training_data = [t[opt_gb_feats] for t in training_data]\n",
    "opt_test_data = [v[opt_gb_feats] for v in test_data]"
   ]
  },
  {
   "cell_type": "code",
   "execution_count": 35,
   "metadata": {},
   "outputs": [],
   "source": [
    "training_frames = [data.loc[d:d+pd.DateOffset(months = 39)] for d in start_dates]\n",
    "test_frames = [data.loc[d+pd.DateOffset(months = 3):d+pd.DateOffset(months = 6)] for d in end_dates]"
   ]
  },
  {
   "cell_type": "code",
   "execution_count": 36,
   "metadata": {},
   "outputs": [],
   "source": [
    "training_labels = [d['rel_performance'].values for d in training_frames]"
   ]
  },
  {
   "cell_type": "code",
   "execution_count": 37,
   "metadata": {
    "ExecuteTime": {
     "end_time": "2020-02-11T01:00:33.994294Z",
     "start_time": "2020-02-11T01:00:33.869286Z"
    }
   },
   "outputs": [],
   "source": [
    "scalers = [StandardScaler() for i in range(len(start_dates)-1)]\n",
    "           \n",
    "opt_training_data = [pd.DataFrame(scalers[i].fit_transform(training_frames[i][opt_gb_feats].values),columns=opt_gb_feats) for i in range(len(start_dates)-1)]\n",
    "opt_test_data = [pd.DataFrame(scalers[i].transform(test_frames[i][opt_gb_feats].values),columns=opt_gb_feats) for i in range(len(start_dates)-1)]"
   ]
  },
  {
   "cell_type": "code",
   "execution_count": 38,
   "metadata": {},
   "outputs": [
    {
     "data": {
      "text/html": [
       "<div>\n",
       "<style scoped>\n",
       "    .dataframe tbody tr th:only-of-type {\n",
       "        vertical-align: middle;\n",
       "    }\n",
       "\n",
       "    .dataframe tbody tr th {\n",
       "        vertical-align: top;\n",
       "    }\n",
       "\n",
       "    .dataframe thead th {\n",
       "        text-align: right;\n",
       "    }\n",
       "</style>\n",
       "<table border=\"1\" class=\"dataframe\">\n",
       "  <thead>\n",
       "    <tr style=\"text-align: right;\">\n",
       "      <th></th>\n",
       "      <th>fcf_yield</th>\n",
       "      <th>cf_yield</th>\n",
       "      <th>evmq</th>\n",
       "      <th>lt_ppentq</th>\n",
       "      <th>oancfy</th>\n",
       "      <th>opmbdq</th>\n",
       "      <th>rect_turnq</th>\n",
       "      <th>rectq</th>\n",
       "      <th>fcf_csfhdq</th>\n",
       "      <th>oepsxy</th>\n",
       "    </tr>\n",
       "  </thead>\n",
       "  <tbody>\n",
       "    <tr>\n",
       "      <th>0</th>\n",
       "      <td>-0.206398</td>\n",
       "      <td>-0.645950</td>\n",
       "      <td>0.080339</td>\n",
       "      <td>-0.138036</td>\n",
       "      <td>-0.171431</td>\n",
       "      <td>0.030115</td>\n",
       "      <td>-0.020232</td>\n",
       "      <td>-0.186348</td>\n",
       "      <td>-0.222443</td>\n",
       "      <td>-0.093053</td>\n",
       "    </tr>\n",
       "    <tr>\n",
       "      <th>1</th>\n",
       "      <td>-0.420684</td>\n",
       "      <td>2.792597</td>\n",
       "      <td>-1.060025</td>\n",
       "      <td>-0.137840</td>\n",
       "      <td>0.852188</td>\n",
       "      <td>0.054635</td>\n",
       "      <td>-0.037180</td>\n",
       "      <td>-0.103132</td>\n",
       "      <td>-0.359797</td>\n",
       "      <td>-0.578317</td>\n",
       "    </tr>\n",
       "    <tr>\n",
       "      <th>2</th>\n",
       "      <td>-0.020692</td>\n",
       "      <td>-0.102749</td>\n",
       "      <td>0.013442</td>\n",
       "      <td>-0.143237</td>\n",
       "      <td>-0.051488</td>\n",
       "      <td>0.013209</td>\n",
       "      <td>28.472902</td>\n",
       "      <td>-0.191543</td>\n",
       "      <td>-0.118421</td>\n",
       "      <td>0.215752</td>\n",
       "    </tr>\n",
       "    <tr>\n",
       "      <th>3</th>\n",
       "      <td>0.049269</td>\n",
       "      <td>-0.199209</td>\n",
       "      <td>0.011170</td>\n",
       "      <td>-0.126797</td>\n",
       "      <td>-0.200669</td>\n",
       "      <td>0.026723</td>\n",
       "      <td>-0.030696</td>\n",
       "      <td>-0.163580</td>\n",
       "      <td>0.041014</td>\n",
       "      <td>0.107470</td>\n",
       "    </tr>\n",
       "    <tr>\n",
       "      <th>4</th>\n",
       "      <td>0.006049</td>\n",
       "      <td>-0.332625</td>\n",
       "      <td>0.018215</td>\n",
       "      <td>-0.136787</td>\n",
       "      <td>1.494588</td>\n",
       "      <td>0.038844</td>\n",
       "      <td>-0.024281</td>\n",
       "      <td>-0.071896</td>\n",
       "      <td>0.089421</td>\n",
       "      <td>0.307992</td>\n",
       "    </tr>\n",
       "    <tr>\n",
       "      <th>...</th>\n",
       "      <td>...</td>\n",
       "      <td>...</td>\n",
       "      <td>...</td>\n",
       "      <td>...</td>\n",
       "      <td>...</td>\n",
       "      <td>...</td>\n",
       "      <td>...</td>\n",
       "      <td>...</td>\n",
       "      <td>...</td>\n",
       "      <td>...</td>\n",
       "    </tr>\n",
       "    <tr>\n",
       "      <th>1131</th>\n",
       "      <td>-0.062845</td>\n",
       "      <td>-0.275955</td>\n",
       "      <td>-0.007114</td>\n",
       "      <td>-0.125497</td>\n",
       "      <td>-0.011859</td>\n",
       "      <td>0.010882</td>\n",
       "      <td>-0.025998</td>\n",
       "      <td>-0.137046</td>\n",
       "      <td>-0.150327</td>\n",
       "      <td>-0.133157</td>\n",
       "    </tr>\n",
       "    <tr>\n",
       "      <th>1132</th>\n",
       "      <td>-0.036429</td>\n",
       "      <td>-0.386222</td>\n",
       "      <td>0.014597</td>\n",
       "      <td>-0.122519</td>\n",
       "      <td>-0.195607</td>\n",
       "      <td>0.041883</td>\n",
       "      <td>-0.031240</td>\n",
       "      <td>-0.185974</td>\n",
       "      <td>0.068950</td>\n",
       "      <td>0.099449</td>\n",
       "    </tr>\n",
       "    <tr>\n",
       "      <th>1133</th>\n",
       "      <td>-0.242139</td>\n",
       "      <td>0.414694</td>\n",
       "      <td>0.002207</td>\n",
       "      <td>-0.146362</td>\n",
       "      <td>-0.090863</td>\n",
       "      <td>0.059763</td>\n",
       "      <td>-0.029572</td>\n",
       "      <td>-0.161034</td>\n",
       "      <td>-0.311895</td>\n",
       "      <td>-0.297586</td>\n",
       "    </tr>\n",
       "    <tr>\n",
       "      <th>1134</th>\n",
       "      <td>-0.032373</td>\n",
       "      <td>-0.453909</td>\n",
       "      <td>0.015523</td>\n",
       "      <td>-0.099544</td>\n",
       "      <td>-0.213380</td>\n",
       "      <td>0.022533</td>\n",
       "      <td>-0.025630</td>\n",
       "      <td>-0.189036</td>\n",
       "      <td>0.006329</td>\n",
       "      <td>0.051323</td>\n",
       "    </tr>\n",
       "    <tr>\n",
       "      <th>1135</th>\n",
       "      <td>-0.081537</td>\n",
       "      <td>-0.517354</td>\n",
       "      <td>0.044254</td>\n",
       "      <td>-0.135636</td>\n",
       "      <td>-0.191139</td>\n",
       "      <td>0.045427</td>\n",
       "      <td>-0.032277</td>\n",
       "      <td>-0.187618</td>\n",
       "      <td>-0.252757</td>\n",
       "      <td>-0.301596</td>\n",
       "    </tr>\n",
       "  </tbody>\n",
       "</table>\n",
       "<p>1136 rows × 10 columns</p>\n",
       "</div>"
      ],
      "text/plain": [
       "      fcf_yield  cf_yield      evmq  lt_ppentq    oancfy    opmbdq  \\\n",
       "0     -0.206398 -0.645950  0.080339  -0.138036 -0.171431  0.030115   \n",
       "1     -0.420684  2.792597 -1.060025  -0.137840  0.852188  0.054635   \n",
       "2     -0.020692 -0.102749  0.013442  -0.143237 -0.051488  0.013209   \n",
       "3      0.049269 -0.199209  0.011170  -0.126797 -0.200669  0.026723   \n",
       "4      0.006049 -0.332625  0.018215  -0.136787  1.494588  0.038844   \n",
       "...         ...       ...       ...        ...       ...       ...   \n",
       "1131  -0.062845 -0.275955 -0.007114  -0.125497 -0.011859  0.010882   \n",
       "1132  -0.036429 -0.386222  0.014597  -0.122519 -0.195607  0.041883   \n",
       "1133  -0.242139  0.414694  0.002207  -0.146362 -0.090863  0.059763   \n",
       "1134  -0.032373 -0.453909  0.015523  -0.099544 -0.213380  0.022533   \n",
       "1135  -0.081537 -0.517354  0.044254  -0.135636 -0.191139  0.045427   \n",
       "\n",
       "      rect_turnq     rectq  fcf_csfhdq    oepsxy  \n",
       "0      -0.020232 -0.186348   -0.222443 -0.093053  \n",
       "1      -0.037180 -0.103132   -0.359797 -0.578317  \n",
       "2      28.472902 -0.191543   -0.118421  0.215752  \n",
       "3      -0.030696 -0.163580    0.041014  0.107470  \n",
       "4      -0.024281 -0.071896    0.089421  0.307992  \n",
       "...          ...       ...         ...       ...  \n",
       "1131   -0.025998 -0.137046   -0.150327 -0.133157  \n",
       "1132   -0.031240 -0.185974    0.068950  0.099449  \n",
       "1133   -0.029572 -0.161034   -0.311895 -0.297586  \n",
       "1134   -0.025630 -0.189036    0.006329  0.051323  \n",
       "1135   -0.032277 -0.187618   -0.252757 -0.301596  \n",
       "\n",
       "[1136 rows x 10 columns]"
      ]
     },
     "execution_count": 38,
     "metadata": {},
     "output_type": "execute_result"
    }
   ],
   "source": [
    "opt_test_data[1]"
   ]
  },
  {
   "cell_type": "code",
   "execution_count": 39,
   "metadata": {
    "ExecuteTime": {
     "end_time": "2020-02-11T01:01:15.387898Z",
     "start_time": "2020-02-11T01:00:58.271824Z"
    },
    "scrolled": true
   },
   "outputs": [
    {
     "name": "stderr",
     "output_type": "stream",
     "text": [
      "100%|███████████████████████████████████████████| 56/56 [00:08<00:00,  6.98it/s]\n"
     ]
    }
   ],
   "source": [
    "P_L_gb = []\n",
    "x_gb = [1]\n",
    "ret_gb = []\n",
    "\n",
    "for i in tqdm(range(len(start_dates)-1)):\n",
    "        gb_clfs[i].fit(opt_training_data[i],training_labels[i])\n",
    "        pred_i = gb_clfs[i].predict(opt_test_data[i])\n",
    "        profit_i = (pred_i * test_frames[i]['next_period_return']).sum()\n",
    "        P_L_gb.append(profit_i)\n",
    "        num_positions = len(pred_i)\n",
    "        ret_gb.append((1.0/num_positions) * profit_i)\n",
    "        x_gb.append(x_gb[i] + (x_gb[i]/num_positions) * profit_i)"
   ]
  },
  {
   "cell_type": "markdown",
   "metadata": {},
   "source": [
    "### Plot the P/L curves and compute the Sharpe Ratios for all strategies"
   ]
  },
  {
   "cell_type": "code",
   "execution_count": 40,
   "metadata": {},
   "outputs": [
    {
     "name": "stderr",
     "output_type": "stream",
     "text": [
      "/var/folders/sp/wlr6xm2979l8vx6kjh2z1dk00000gn/T/ipykernel_76356/3282873245.py:4: FutureWarning: Series.__getitem__ treating keys as positions is deprecated. In a future version, integer keys will always be treated as labels (consistent with DataFrame behavior). To access a value by position, use `ser.iloc[pos]`\n",
      "  SPY['spy_cum_ret'] = (SPY['spy_cum_ret'] - SPY['spy_cum_ret'][0] + 1)\n"
     ]
    }
   ],
   "source": [
    "SPY = pd.read_pickle(r'SPY_cum_ret.pkl')\n",
    "SPY = SPY.loc['2004-07-01':'2018-09-30']\n",
    "SPY = SPY.resample('Q').ffill()\n",
    "SPY['spy_cum_ret'] = (SPY['spy_cum_ret'] - SPY['spy_cum_ret'][0] + 1)\n",
    "\n",
    "SPY['random forest strategy'] = x_rf\n",
    "SPY['gradient boosting strategy'] = x_gb"
   ]
  },
  {
   "cell_type": "code",
   "execution_count": 41,
   "metadata": {
    "ExecuteTime": {
     "end_time": "2020-02-11T01:01:41.397432Z",
     "start_time": "2020-02-11T01:01:41.198433Z"
    }
   },
   "outputs": [
    {
     "data": {
      "image/png": "[encoded data removed]",
      "text/plain": [
       "<Figure size 640x480 with 1 Axes>"
      ]
     },
     "metadata": {},
     "output_type": "display_data"
    }
   ],
   "source": [
    "SPY.plot();"
   ]
  },
  {
   "cell_type": "code",
   "execution_count": 42,
   "metadata": {
    "ExecuteTime": {
     "end_time": "2020-02-11T01:01:46.417678Z",
     "start_time": "2020-02-11T01:01:46.157159Z"
    }
   },
   "outputs": [
    {
     "data": {
      "image/png": "[encoded data removed]",
      "text/plain": [
       "<Figure size 640x480 with 1 Axes>"
      ]
     },
     "metadata": {},
     "output_type": "display_data"
    }
   ],
   "source": [
    "SPY = SPY.resample('Y').ffill()\n",
    "SPY.plot();"
   ]
  },
  {
   "cell_type": "code",
   "execution_count": 43,
   "metadata": {
    "ExecuteTime": {
     "end_time": "2020-02-11T01:01:54.486712Z",
     "start_time": "2020-02-11T01:01:54.468721Z"
    }
   },
   "outputs": [
    {
     "name": "stdout",
     "output_type": "stream",
     "text": [
      "Random Forest Strategy Sharpe Ratio    :  0.8362951550972682\n",
      "Gradient Boosting Strategy Sharpe Ratio:  1.1367787320017024\n"
     ]
    }
   ],
   "source": [
    "strategy_mean_ret = (SPY['random forest strategy'] - 1).diff().mean()\n",
    "strategy_std = (SPY['random forest strategy'] - 1).diff().std()\n",
    "strategy_sr = strategy_mean_ret/strategy_std\n",
    "print('Random Forest Strategy Sharpe Ratio    : ',strategy_sr)\n",
    "\n",
    "strategy_mean_ret = (SPY['gradient boosting strategy'] - 1).diff().mean()\n",
    "strategy_std = (SPY['gradient boosting strategy'] - 1).diff().std()\n",
    "strategy_sr = strategy_mean_ret/strategy_std\n",
    "print('Gradient Boosting Strategy Sharpe Ratio: ',strategy_sr)"
   ]
  },
  {
   "cell_type": "markdown",
   "metadata": {},
   "source": [
    "# Problem 2\n",
    "## Combining strategies by choosing weights"
   ]
  },
  {
   "cell_type": "code",
   "execution_count": null,
   "metadata": {},
   "outputs": [],
   "source": []
  }
 ],
 "metadata": {
  "kernelspec": {
   "display_name": "Python 3 (ipykernel)",
   "language": "python",
   "name": "python3"
  },
  "language_info": {
   "codemirror_mode": {
    "name": "ipython",
    "version": 3
   },
   "file_extension": ".py",
   "mimetype": "text/x-python",
   "name": "python",
   "nbconvert_exporter": "python",
   "pygments_lexer": "ipython3",
   "version": "3.11.4"
  },
  "latex_envs": {
   "LaTeX_envs_menu_present": true,
   "autoclose": false,
   "autocomplete": true,
   "bibliofile": "biblio.bib",
   "cite_by": "apalike",
   "current_citInitial": 1,
   "eqLabelWithNumbers": true,
   "eqNumInitial": 1,
   "hotkeys": {
    "equation": "Ctrl-E",
    "itemize": "Ctrl-I"
   },
   "labels_anchors": false,
   "latex_user_defs": false,
   "report_style_numbering": false,
   "user_envs_cfg": false
  }
 },
 "nbformat": 4,
 "nbformat_minor": 4
}
