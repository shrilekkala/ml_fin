{
 "cells": [
  {
   "cell_type": "code",
   "execution_count": 1,
   "metadata": {
    "ExecuteTime": {
     "end_time": "2019-05-16T01:04:06.132060Z",
     "start_time": "2019-05-16T01:03:59.423709Z"
    }
   },
   "outputs": [],
   "source": [
    "import pandas as pd\n",
    "import numpy as np\n",
    "import matplotlib.pyplot as plt\n",
    "%matplotlib inline\n",
    "from sklearn.metrics import accuracy_score, confusion_matrix\n",
    "from sklearn.tree import DecisionTreeClassifier\n",
    "from sklearn.ensemble import AdaBoostClassifier,RandomForestClassifier\n",
    "pd.set_option('use_inf_as_na', True)\n",
    "from collections import Counter\n",
    "import lightgbm as lgb \n",
    "import pickle"
   ]
  },
  {
   "cell_type": "code",
   "execution_count": 2,
   "metadata": {
    "ExecuteTime": {
     "end_time": "2019-05-16T01:04:47.940009Z",
     "start_time": "2019-05-16T01:04:46.829939Z"
    }
   },
   "outputs": [
    {
     "name": "stderr",
     "output_type": "stream",
     "text": [
      "C:\\Users\\niels\\AppData\\Local\\Temp\\ipykernel_22896\\2086142792.py:3: SettingWithCopyWarning: \n",
      "A value is trying to be set on a copy of a slice from a DataFrame\n",
      "\n",
      "See the caveats in the documentation: https://pandas.pydata.org/pandas-docs/stable/user_guide/indexing.html#returning-a-view-versus-a-copy\n",
      "  data.fillna(0.0,inplace=True)\n"
     ]
    }
   ],
   "source": [
    "raw_data = pd.read_pickle(r'C:\\Users\\niels\\OneDrive\\Machine Learning 2022\\Lecture 2\\dataset.pkl')\n",
    "data = raw_data[raw_data['market_cap'] > 1000.0]\n",
    "data.fillna(0.0,inplace=True)"
   ]
  },
  {
   "cell_type": "code",
   "execution_count": 3,
   "metadata": {
    "ExecuteTime": {
     "end_time": "2019-05-16T01:04:49.438966Z",
     "start_time": "2019-05-16T01:04:49.433980Z"
    }
   },
   "outputs": [],
   "source": [
    "def f(x):\n",
    "\n",
    "    if x > 0.01:\n",
    "        return 1\n",
    "    elif x < -0.01:\n",
    "\n",
    "        return -1\n",
    "    \n",
    "\n",
    "    else:\n",
    "    \n",
    "        return 0"
   ]
  },
  {
   "cell_type": "code",
   "execution_count": null,
   "metadata": {
    "ExecuteTime": {
     "end_time": "2019-05-16T01:04:51.673038Z",
     "start_time": "2019-05-16T01:04:51.583263Z"
    }
   },
   "outputs": [],
   "source": [
    "data['rel_performance'] = data['pred_rel_return'].apply(f)\n",
    "data.reset_index(inplace=True,)\n",
    "data.set_index('date',inplace=True)"
   ]
  },
  {
   "cell_type": "code",
   "execution_count": null,
   "metadata": {
    "ExecuteTime": {
     "end_time": "2019-05-16T01:04:57.054661Z",
     "start_time": "2019-05-16T01:04:57.033674Z"
    }
   },
   "outputs": [],
   "source": [
    "df_1 = data.loc['2007-01-01':'2010-01-01']\n",
    "df_2 = data.loc['2007-04-01':'2010-04-01']\n",
    "df_valid = data.loc['2010-04-01':'2010-07-01']\n",
    "df_test = data.loc['2010-09-01':'2011-01-01']"
   ]
  },
  {
   "cell_type": "code",
   "execution_count": null,
   "metadata": {
    "ExecuteTime": {
     "end_time": "2019-05-16T01:05:00.313239Z",
     "start_time": "2019-05-16T01:05:00.209510Z"
    }
   },
   "outputs": [],
   "source": [
    "train_1 = df_1.reset_index().drop(['ticker','date',\n",
    "                                   'next_period_return',\n",
    "                                   'spy_next_period_return',\n",
    "                                   'rel_performance','pred_rel_return',\n",
    "                                  'return', 'cum_ret', 'spy_cum_ret'],axis=1)\n",
    "train_2 = df_2.reset_index().drop(['ticker','date',\n",
    "                                   'next_period_return',\n",
    "                                   'spy_next_period_return',\n",
    "                                   'rel_performance','pred_rel_return',\n",
    "                                  'return', 'cum_ret', 'spy_cum_ret'],axis=1)\n",
    "\n",
    "valid = df_valid.reset_index().drop(['ticker','date',\n",
    "                                   'next_period_return',\n",
    "                                   'spy_next_period_return',\n",
    "                                   'rel_performance','pred_rel_return',\n",
    "                                  'return', 'cum_ret', 'spy_cum_ret'],axis=1)\n",
    "test = df_test.reset_index().drop(['ticker','date',\n",
    "                                   'next_period_return',\n",
    "                                   'spy_next_period_return',\n",
    "                                   'rel_performance','pred_rel_return',\n",
    "                                  'return', 'cum_ret', 'spy_cum_ret'],axis=1)"
   ]
  },
  {
   "cell_type": "code",
   "execution_count": null,
   "metadata": {
    "ExecuteTime": {
     "end_time": "2019-05-16T01:07:02.334490Z",
     "start_time": "2019-05-16T01:07:02.329534Z"
    }
   },
   "outputs": [],
   "source": [
    "train_1_stock_returns = df_1['next_period_return']\n",
    "valid_stock_returns = df_valid['next_period_return']\n",
    "train_2_stock_returns = df_2['next_period_return']\n",
    "test_stock_returns = df_test['next_period_return']\n",
    "\n",
    "y_1 = df_1['rel_performance']\n",
    "y_2 = df_2['rel_performance']\n",
    "y_valid = df_valid['rel_performance']\n",
    "y_test = df_test['rel_performance']\n",
    "\n",
    "y_1 = y_1.values\n",
    "y_2 = y_2.values\n",
    "y_valid = y_valid.values\n",
    "y_test = y_test.values"
   ]
  },
  {
   "cell_type": "code",
   "execution_count": null,
   "metadata": {
    "ExecuteTime": {
     "end_time": "2019-05-16T01:06:46.490703Z",
     "start_time": "2019-05-16T01:06:46.485720Z"
    }
   },
   "outputs": [],
   "source": [
    "gb_clf = lgb.LGBMClassifier(boosting_type='dart',max_depth=4,n_estimators=400,objective='multi_class',min_data_in_leaf=1600,\n",
    "                            reg_lambda = 0.6,learning_rate=0.2)"
   ]
  },
  {
   "cell_type": "code",
   "execution_count": null,
   "metadata": {
    "ExecuteTime": {
     "end_time": "2019-05-16T01:07:13.496661Z",
     "start_time": "2019-05-16T01:07:05.724437Z"
    }
   },
   "outputs": [],
   "source": [
    "gb_clf.fit(train_1,y_1)"
   ]
  },
  {
   "cell_type": "code",
   "execution_count": null,
   "metadata": {
    "ExecuteTime": {
     "end_time": "2019-05-15T12:45:23.363638Z",
     "start_time": "2019-05-15T12:45:23.355626Z"
    }
   },
   "outputs": [],
   "source": [
    "Counter(y_1)"
   ]
  },
  {
   "cell_type": "code",
   "execution_count": null,
   "metadata": {
    "ExecuteTime": {
     "end_time": "2019-05-15T12:27:20.155009Z",
     "start_time": "2019-05-15T12:27:20.151020Z"
    }
   },
   "outputs": [],
   "source": [
    "y_valid = y_valid+1"
   ]
  },
  {
   "cell_type": "code",
   "execution_count": null,
   "metadata": {
    "ExecuteTime": {
     "end_time": "2019-05-15T12:46:00.439585Z",
     "start_time": "2019-05-15T12:46:00.434556Z"
    }
   },
   "outputs": [],
   "source": [
    "Counter(y_valid)"
   ]
  },
  {
   "cell_type": "code",
   "execution_count": null,
   "metadata": {
    "ExecuteTime": {
     "end_time": "2019-05-15T12:27:22.451002Z",
     "start_time": "2019-05-15T12:27:22.447878Z"
    }
   },
   "outputs": [],
   "source": [
    "lgb_train = lgb.Dataset(train_1,y_1)\n",
    "lgb_eval = lgb.Dataset(valid,y_valid)"
   ]
  },
  {
   "cell_type": "code",
   "execution_count": null,
   "metadata": {
    "ExecuteTime": {
     "end_time": "2019-05-15T13:45:11.902401Z",
     "start_time": "2019-05-15T13:45:11.897442Z"
    }
   },
   "outputs": [],
   "source": [
    "params = {\n",
    "    'device':'cpu',\n",
    "    'boosting_type': 'gbdt',\n",
    "    'task':'train',\n",
    "    'objective': 'multiclass',\n",
    "    'min_data_in_leaf':2000,\n",
    "    'max_depth':4,\n",
    "\n",
    "#     'metric': {'multi_logloss'},\n",
    "    'num_class':3,\n",
    "\n",
    "    'num_leaves': 31,\n",
    "\n",
    "    'learning_rate': 0.1,\n",
    "\n",
    "    'feature_fraction': 0.5,\n",
    "\n",
    "    'bagging_fraction': 0.5,\n",
    "\n",
    "    'bagging_freq': 7,\n",
    "\n",
    "    'verbose': 0,\n",
    "    'cegb_penalty_split':0.3\n",
    "\n",
    "}"
   ]
  },
  {
   "cell_type": "code",
   "execution_count": null,
   "metadata": {
    "ExecuteTime": {
     "end_time": "2019-05-15T13:01:48.372342Z",
     "start_time": "2019-05-15T13:01:46.108396Z"
    }
   },
   "outputs": [],
   "source": [
    "gbm = lgb.train(params,lgb_train,num_boost_round=400)"
   ]
  },
  {
   "cell_type": "code",
   "execution_count": null,
   "metadata": {
    "ExecuteTime": {
     "end_time": "2019-05-15T13:01:48.399270Z",
     "start_time": "2019-05-15T13:01:48.375335Z"
    }
   },
   "outputs": [],
   "source": [
    "gbm.save_model('model.txt')"
   ]
  },
  {
   "cell_type": "code",
   "execution_count": null,
   "metadata": {
    "ExecuteTime": {
     "end_time": "2019-05-15T13:01:50.516610Z",
     "start_time": "2019-05-15T13:01:50.509628Z"
    }
   },
   "outputs": [],
   "source": [
    "gbm.feature_importance()"
   ]
  },
  {
   "cell_type": "code",
   "execution_count": null,
   "metadata": {
    "ExecuteTime": {
     "end_time": "2019-05-16T01:07:41.032080Z",
     "start_time": "2019-05-16T01:07:40.553362Z"
    }
   },
   "outputs": [],
   "source": [
    "gb_clf.score(train_1,y_1)"
   ]
  },
  {
   "cell_type": "code",
   "execution_count": null,
   "metadata": {
    "ExecuteTime": {
     "end_time": "2019-05-16T01:07:55.341840Z",
     "start_time": "2019-05-16T01:07:55.207204Z"
    }
   },
   "outputs": [],
   "source": [
    "preds = gb_clf.predict(valid)"
   ]
  },
  {
   "cell_type": "code",
   "execution_count": null,
   "metadata": {
    "ExecuteTime": {
     "end_time": "2019-05-16T01:07:47.682309Z",
     "start_time": "2019-05-16T01:07:47.549666Z"
    }
   },
   "outputs": [],
   "source": [
    "gb_clf.score(valid,y_valid)"
   ]
  },
  {
   "cell_type": "code",
   "execution_count": null,
   "metadata": {
    "ExecuteTime": {
     "end_time": "2019-05-16T01:08:12.151896Z",
     "start_time": "2019-05-16T01:08:12.131950Z"
    }
   },
   "outputs": [],
   "source": [
    "confusion_matrix(y_valid,preds)"
   ]
  },
  {
   "cell_type": "code",
   "execution_count": null,
   "metadata": {
    "ExecuteTime": {
     "end_time": "2019-05-16T01:08:14.363024Z",
     "start_time": "2019-05-16T01:08:14.358999Z"
    }
   },
   "outputs": [],
   "source": [
    "def gboost_feat_importances(m, df):\n",
    "        \n",
    "    return pd.DataFrame({'cols':df.columns, 'feat_imp': m.feature_importances_}\n",
    "                       ).sort_values('feat_imp', ascending=False)\n",
    "\n",
    "def plot_fi(fi): return fi.plot('cols', 'feat_imp', 'barh', figsize=(12,7), legend=False)"
   ]
  },
  {
   "cell_type": "code",
   "execution_count": null,
   "metadata": {
    "ExecuteTime": {
     "end_time": "2019-05-16T01:08:18.223727Z",
     "start_time": "2019-05-16T01:08:18.214719Z"
    }
   },
   "outputs": [],
   "source": [
    "fi = gboost_feat_importances(gb_clf,train_1)"
   ]
  },
  {
   "cell_type": "code",
   "execution_count": null,
   "metadata": {
    "ExecuteTime": {
     "end_time": "2019-05-16T01:09:06.105388Z",
     "start_time": "2019-05-16T01:09:06.100403Z"
    }
   },
   "outputs": [],
   "source": [
    "features = fi[(fi['feat_imp'] > 50)]"
   ]
  },
  {
   "cell_type": "code",
   "execution_count": null,
   "metadata": {
    "ExecuteTime": {
     "end_time": "2019-05-16T01:09:07.422867Z",
     "start_time": "2019-05-16T01:09:07.417883Z"
    }
   },
   "outputs": [],
   "source": [
    "features.shape"
   ]
  },
  {
   "cell_type": "code",
   "execution_count": null,
   "metadata": {
    "ExecuteTime": {
     "end_time": "2019-05-16T01:09:14.344400Z",
     "start_time": "2019-05-16T01:09:14.038191Z"
    }
   },
   "outputs": [],
   "source": [
    "plot_fi(features);"
   ]
  },
  {
   "cell_type": "code",
   "execution_count": null,
   "metadata": {
    "ExecuteTime": {
     "end_time": "2019-05-15T20:36:41.298601Z",
     "start_time": "2019-05-15T20:36:41.286666Z"
    }
   },
   "outputs": [],
   "source": [
    "features"
   ]
  },
  {
   "cell_type": "code",
   "execution_count": null,
   "metadata": {
    "ExecuteTime": {
     "end_time": "2019-05-16T01:11:03.203521Z",
     "start_time": "2019-05-16T01:11:03.181582Z"
    }
   },
   "outputs": [],
   "source": [
    "train_1 = train_1[features['cols'].values]\n",
    "valid = valid[features['cols'].values]"
   ]
  },
  {
   "cell_type": "code",
   "execution_count": null,
   "metadata": {
    "ExecuteTime": {
     "end_time": "2019-05-16T01:11:08.471443Z",
     "start_time": "2019-05-16T01:11:04.341484Z"
    }
   },
   "outputs": [],
   "source": [
    "gb_clf.fit(train_1,y_1)\n",
    "gb_clf.score(train_1,y_1)"
   ]
  },
  {
   "cell_type": "code",
   "execution_count": null,
   "metadata": {
    "ExecuteTime": {
     "end_time": "2019-05-16T01:11:13.489035Z",
     "start_time": "2019-05-16T01:11:13.398283Z"
    }
   },
   "outputs": [],
   "source": [
    "pred_valid = gb_clf.predict(valid)\n",
    "gb_clf.score(valid,y_valid)"
   ]
  },
  {
   "cell_type": "code",
   "execution_count": null,
   "metadata": {
    "ExecuteTime": {
     "end_time": "2019-05-16T01:11:19.456114Z",
     "start_time": "2019-05-16T01:11:19.340400Z"
    }
   },
   "outputs": [],
   "source": [
    "(pred_valid * valid_stock_returns).sum()"
   ]
  },
  {
   "cell_type": "code",
   "execution_count": null,
   "metadata": {
    "ExecuteTime": {
     "end_time": "2019-05-16T01:11:57.727815Z",
     "start_time": "2019-05-16T01:11:57.722829Z"
    }
   },
   "outputs": [],
   "source": [
    "def profit_importance(m,df,rets):\n",
    "#     np.random.seed(123)\n",
    "    profit = []\n",
    "    for col in df.columns:\n",
    "        prof = []\n",
    "        for _ in range(10):\n",
    "            X = df.copy()\n",
    "            X[col] = np.random.permutation(X[col].values)\n",
    "            prediction = m.predict(X)\n",
    "            prof.append((prediction * rets).sum())\n",
    "        profit.append(np.mean(prof))\n",
    "    return profit"
   ]
  },
  {
   "cell_type": "code",
   "execution_count": null,
   "metadata": {
    "ExecuteTime": {
     "end_time": "2019-05-16T01:12:06.077872Z",
     "start_time": "2019-05-16T01:12:06.073900Z"
    }
   },
   "outputs": [],
   "source": [
    "def gbboost_profit_importance(m, df,rets):\n",
    "    return pd.DataFrame({'cols':df.columns, 'pi_imp':profit_importance(m,df,rets)}\n",
    "                       ).sort_values('pi_imp', ascending=True)"
   ]
  },
  {
   "cell_type": "code",
   "execution_count": null,
   "metadata": {
    "ExecuteTime": {
     "end_time": "2019-05-16T01:12:19.192811Z",
     "start_time": "2019-05-16T01:12:07.051281Z"
    }
   },
   "outputs": [],
   "source": [
    "pi = gbboost_profit_importance(gb_clf,valid,valid_stock_returns)\n",
    "pi"
   ]
  },
  {
   "cell_type": "code",
   "execution_count": null,
   "metadata": {
    "ExecuteTime": {
     "end_time": "2019-05-15T20:48:47.306579Z",
     "start_time": "2019-05-15T20:37:34.951555Z"
    },
    "scrolled": true
   },
   "outputs": [],
   "source": [
    "profits = []\n",
    "feat=[]\n",
    "\n",
    "train = train_1.copy()\n",
    "validation = valid.copy()\n",
    "\n",
    "while len(train.columns)>1:\n",
    "\n",
    "    pred_valid = gb_clf.predict(validation)\n",
    "       \n",
    "    print((pred_valid * df_valid['next_period_return']).sum())\n",
    "    profits.append((pred_valid * df_valid['next_period_return']).sum())\n",
    "    feat.append(train.columns)\n",
    "    \n",
    "    col_to_drop = pi.iloc[-1]['cols']\n",
    "    train.drop(col_to_drop,axis=1,inplace=True)\n",
    "    validation.drop(col_to_drop,axis=1,inplace=True)\n",
    "\n",
    "    gb_clf.fit(train,y_1)\n",
    "    pi = gbboost_profit_importance(gb_clf,validation,df_valid['next_period_return'])"
   ]
  },
  {
   "cell_type": "code",
   "execution_count": null,
   "metadata": {
    "ExecuteTime": {
     "end_time": "2019-05-15T20:49:24.198326Z",
     "start_time": "2019-05-15T20:49:24.041434Z"
    }
   },
   "outputs": [],
   "source": [
    "plt.plot(profits);"
   ]
  },
  {
   "cell_type": "code",
   "execution_count": null,
   "metadata": {
    "ExecuteTime": {
     "end_time": "2019-05-15T20:49:28.255673Z",
     "start_time": "2019-05-15T20:49:28.249692Z"
    }
   },
   "outputs": [],
   "source": [
    "n = np.argmax(profits)\n",
    "profits[n]"
   ]
  },
  {
   "cell_type": "code",
   "execution_count": null,
   "metadata": {
    "ExecuteTime": {
     "end_time": "2019-05-15T20:49:29.442804Z",
     "start_time": "2019-05-15T20:49:29.436848Z"
    }
   },
   "outputs": [],
   "source": [
    "optim_feats = feat[n]\n",
    "optim_feats"
   ]
  },
  {
   "cell_type": "code",
   "execution_count": null,
   "metadata": {
    "ExecuteTime": {
     "end_time": "2019-05-15T20:49:39.517980Z",
     "start_time": "2019-05-15T20:49:32.751099Z"
    }
   },
   "outputs": [],
   "source": [
    "train_1_optim = train_1[optim_feats]\n",
    "valid_optim = valid[optim_feats]\n",
    "\n",
    "\n",
    "gb_clf.fit(train_1_optim,y_1)\n",
    "print(gb_clf.score(train_1_optim,y_1))\n",
    "pred_valid_tree = gb_clf.predict(valid_optim)\n",
    "print(gb_clf.score(valid_optim,y_valid))\n",
    "(pred_valid_tree * valid_stock_returns).sum()"
   ]
  },
  {
   "cell_type": "code",
   "execution_count": null,
   "metadata": {
    "ExecuteTime": {
     "end_time": "2019-05-15T20:49:49.879111Z",
     "start_time": "2019-05-15T20:49:41.791493Z"
    }
   },
   "outputs": [],
   "source": [
    "train_2_tree = train_2[optim_feats]\n",
    "test_tree = test[optim_feats]\n",
    "gb_clf.fit(train_2_tree,y_2)\n",
    "pred_test_tree = gb_clf.predict(test_tree)\n",
    "(pred_test_tree * test_stock_returns).sum()"
   ]
  },
  {
   "cell_type": "code",
   "execution_count": null,
   "metadata": {
    "ExecuteTime": {
     "end_time": "2019-05-15T20:49:49.890080Z",
     "start_time": "2019-05-15T20:49:49.884097Z"
    }
   },
   "outputs": [],
   "source": [
    "from scipy.cluster import hierarchy as hc\n",
    "import scipy.stats"
   ]
  },
  {
   "cell_type": "code",
   "execution_count": null,
   "metadata": {
    "ExecuteTime": {
     "end_time": "2019-05-15T20:28:02.460081Z",
     "start_time": "2019-05-15T20:28:02.237322Z"
    }
   },
   "outputs": [],
   "source": [
    "corr = np.round(scipy.stats.spearmanr(train_1_optim).correlation,4)\n",
    "corr_condensed = hc.distance.squareform(1-corr)\n",
    "z = hc.linkage(corr_condensed, method='average')\n",
    "fig = plt.figure(figsize=(16,10))\n",
    "dendrogram = hc.dendrogram(z, labels=train_1_optim.columns, orientation='left', leaf_font_size=16)\n",
    "plt.show()"
   ]
  },
  {
   "cell_type": "code",
   "execution_count": null,
   "metadata": {
    "ExecuteTime": {
     "end_time": "2019-05-15T20:28:08.327421Z",
     "start_time": "2019-05-15T20:28:08.312963Z"
    }
   },
   "outputs": [],
   "source": [
    "start_dates = [pd.to_datetime('2000-01-01') + pd.DateOffset(months = 3 * i) for i in range(62)]\n",
    "end_dates = [d + pd.DateOffset(months = 36) for d in start_dates]"
   ]
  },
  {
   "cell_type": "code",
   "execution_count": null,
   "metadata": {
    "ExecuteTime": {
     "end_time": "2019-05-15T20:28:10.039488Z",
     "start_time": "2019-05-15T20:28:09.990499Z"
    }
   },
   "outputs": [],
   "source": [
    "training_frames = [data.loc[d:d+pd.DateOffset(months = 36)] for d in start_dates]\n",
    "test_frames = [data.loc[d + pd.DateOffset(months=3):d+pd.DateOffset(months = 6)] for d in end_dates]"
   ]
  },
  {
   "cell_type": "code",
   "execution_count": null,
   "metadata": {
    "ExecuteTime": {
     "end_time": "2019-05-15T20:28:15.165376Z",
     "start_time": "2019-05-15T20:28:11.563062Z"
    }
   },
   "outputs": [],
   "source": [
    "training_data = [d.reset_index().drop\n",
    "                                 (['ticker','date',\n",
    "                                   'next_period_return',\n",
    "                                   'spy_next_period_return',\n",
    "                                   'rel_performance','pred_rel_return',\n",
    "                                  'return', 'cum_ret', 'spy_cum_ret'],axis=1) for d in training_frames]"
   ]
  },
  {
   "cell_type": "code",
   "execution_count": null,
   "metadata": {
    "ExecuteTime": {
     "end_time": "2019-05-15T20:28:16.474327Z",
     "start_time": "2019-05-15T20:28:16.031256Z"
    }
   },
   "outputs": [],
   "source": [
    "test_data = [d.reset_index().drop(['ticker','date',\n",
    "                                   'next_period_return',\n",
    "                                   'spy_next_period_return',\n",
    "                                   'rel_performance','pred_rel_return',\n",
    "                                  'return', 'cum_ret', 'spy_cum_ret'],axis=1) for d in test_frames]"
   ]
  },
  {
   "cell_type": "code",
   "execution_count": null,
   "metadata": {
    "ExecuteTime": {
     "end_time": "2019-05-15T20:28:18.059165Z",
     "start_time": "2019-05-15T20:28:18.053712Z"
    }
   },
   "outputs": [],
   "source": [
    "training_labels = [d['rel_performance'].values for d in training_frames]"
   ]
  },
  {
   "cell_type": "code",
   "execution_count": null,
   "metadata": {
    "ExecuteTime": {
     "end_time": "2019-05-15T20:49:51.338501Z",
     "start_time": "2019-05-15T20:49:51.181919Z"
    }
   },
   "outputs": [],
   "source": [
    "opt_training_data = [t[optim_feats] for t in training_data]\n",
    "opt_test_data = [v[optim_feats] for v in test_data]"
   ]
  },
  {
   "cell_type": "code",
   "execution_count": null,
   "metadata": {
    "ExecuteTime": {
     "end_time": "2019-05-15T20:56:31.104935Z",
     "start_time": "2019-05-15T20:49:52.242229Z"
    }
   },
   "outputs": [],
   "source": [
    "P_L = []\n",
    "x = [1]\n",
    "ret = []\n",
    "\n",
    "for i in range(len(training_labels)-1):\n",
    "        gb_clf.fit(opt_training_data[i],training_labels[i])\n",
    "        pred_i = gb_clf.predict(opt_test_data[i])\n",
    "        profit_i = (pred_i * test_frames[i]['next_period_return']).sum()\n",
    "        P_L.append(profit_i)\n",
    "        num_positions = len(pred_i)\n",
    "        ret.append((1.0/num_positions) * profit_i)\n",
    "        x.append(x[i] + (x[i]/num_positions) * profit_i)"
   ]
  },
  {
   "cell_type": "code",
   "execution_count": null,
   "metadata": {
    "ExecuteTime": {
     "end_time": "2019-05-15T21:09:27.928273Z",
     "start_time": "2019-05-15T21:09:27.707117Z"
    }
   },
   "outputs": [],
   "source": [
    "plt.plot(x);"
   ]
  },
  {
   "cell_type": "code",
   "execution_count": null,
   "metadata": {
    "ExecuteTime": {
     "end_time": "2019-05-15T21:09:33.873848Z",
     "start_time": "2019-05-15T21:09:33.852393Z"
    }
   },
   "outputs": [],
   "source": [
    "SPY = pd.read_pickle(r'C:\\Users\\niels\\data\\SPY_cum_ret.pkl')\n",
    "SPY = SPY.loc['2003-04-01':'2018-09-30']\n",
    "SPY = SPY.resample('Q').ffill()\n",
    "SPY['spy_cum_ret'] = (SPY['spy_cum_ret'] - SPY['spy_cum_ret'][0] + 1)\n",
    "SPY['strategy'] = x"
   ]
  },
  {
   "cell_type": "code",
   "execution_count": null,
   "metadata": {
    "ExecuteTime": {
     "end_time": "2019-05-15T21:09:34.785785Z",
     "start_time": "2019-05-15T21:09:34.575692Z"
    }
   },
   "outputs": [],
   "source": [
    "SPY.plot();"
   ]
  },
  {
   "cell_type": "code",
   "execution_count": null,
   "metadata": {
    "ExecuteTime": {
     "end_time": "2019-05-15T21:09:35.438901Z",
     "start_time": "2019-05-15T21:09:35.179915Z"
    }
   },
   "outputs": [],
   "source": [
    "SPY = SPY.resample('Y').ffill()\n",
    "SPY.plot();"
   ]
  },
  {
   "cell_type": "code",
   "execution_count": null,
   "metadata": {
    "ExecuteTime": {
     "end_time": "2019-05-15T21:09:38.370971Z",
     "start_time": "2019-05-15T21:09:38.365018Z"
    }
   },
   "outputs": [],
   "source": [
    "strategy_mean_ret = (SPY['strategy'] - 1).diff().mean()\n",
    "strategy_std = (SPY['strategy'] - 1).diff().std()\n",
    "strategy_sr = strategy_mean_ret/strategy_std\n",
    "print('Strategy Sharpe Ratio: ',strategy_sr)"
   ]
  },
  {
   "cell_type": "code",
   "execution_count": null,
   "metadata": {
    "ExecuteTime": {
     "end_time": "2019-05-15T21:09:39.565717Z",
     "start_time": "2019-05-15T21:09:39.559743Z"
    }
   },
   "outputs": [],
   "source": [
    "x[-1]"
   ]
  },
  {
   "cell_type": "code",
   "execution_count": null,
   "metadata": {
    "ExecuteTime": {
     "end_time": "2019-05-15T21:09:40.137875Z",
     "start_time": "2019-05-15T21:09:40.125904Z"
    }
   },
   "outputs": [],
   "source": [
    "strategy_ret = (SPY['strategy'] - 1).diff().values[1:]\n",
    "spy_ret = (SPY['spy_cum_ret'] - 1).diff().values[1:]"
   ]
  },
  {
   "cell_type": "code",
   "execution_count": null,
   "metadata": {
    "ExecuteTime": {
     "end_time": "2019-05-15T21:09:41.006538Z",
     "start_time": "2019-05-15T21:09:40.993548Z"
    }
   },
   "outputs": [],
   "source": [
    "beta = (np.cov(spy_ret,strategy_ret)/np.var(spy_ret))[1,0]\n",
    "beta"
   ]
  },
  {
   "cell_type": "code",
   "execution_count": null,
   "metadata": {
    "ExecuteTime": {
     "end_time": "2019-05-15T20:14:54.236103Z",
     "start_time": "2019-05-15T20:14:54.232105Z"
    }
   },
   "outputs": [],
   "source": [
    "residual_ret = strategy_ret - beta * spy_ret"
   ]
  },
  {
   "cell_type": "code",
   "execution_count": null,
   "metadata": {
    "ExecuteTime": {
     "end_time": "2019-05-15T20:14:56.485394Z",
     "start_time": "2019-05-15T20:14:56.480408Z"
    }
   },
   "outputs": [],
   "source": [
    "IR = np.mean(residual_ret)/np.std(residual_ret)\n",
    "IR"
   ]
  },
  {
   "cell_type": "code",
   "execution_count": null,
   "metadata": {
    "ExecuteTime": {
     "end_time": "2019-05-15T20:14:58.381973Z",
     "start_time": "2019-05-15T20:14:58.370007Z"
    }
   },
   "outputs": [],
   "source": [
    "alpha = np.mean(residual_ret)\n",
    "alpha"
   ]
  },
  {
   "cell_type": "code",
   "execution_count": null,
   "metadata": {},
   "outputs": [],
   "source": []
  },
  {
   "cell_type": "code",
   "execution_count": null,
   "metadata": {},
   "outputs": [],
   "source": []
  }
 ],
 "metadata": {
  "kernelspec": {
   "display_name": "Python 3 (ipykernel)",
   "language": "python",
   "name": "python3"
  },
  "language_info": {
   "codemirror_mode": {
    "name": "ipython",
    "version": 3
   },
   "file_extension": ".py",
   "mimetype": "text/x-python",
   "name": "python",
   "nbconvert_exporter": "python",
   "pygments_lexer": "ipython3",
   "version": "3.11.4"
  },
  "latex_envs": {
   "LaTeX_envs_menu_present": true,
   "autoclose": false,
   "autocomplete": true,
   "bibliofile": "biblio.bib",
   "cite_by": "apalike",
   "current_citInitial": 1,
   "eqLabelWithNumbers": true,
   "eqNumInitial": 1,
   "hotkeys": {
    "equation": "Ctrl-E",
    "itemize": "Ctrl-I"
   },
   "labels_anchors": false,
   "latex_user_defs": false,
   "report_style_numbering": false,
   "user_envs_cfg": false
  }
 },
 "nbformat": 4,
 "nbformat_minor": 4
}
