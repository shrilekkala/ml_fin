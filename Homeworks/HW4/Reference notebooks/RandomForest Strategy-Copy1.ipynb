{
 "cells": [
  {
   "cell_type": "code",
   "execution_count": 167,
   "metadata": {
    "ExecuteTime": {
     "end_time": "2020-03-03T02:04:18.675044Z",
     "start_time": "2020-03-03T02:04:15.120387Z"
    }
   },
   "outputs": [],
   "source": [
    "import pandas as pd\n",
    "import numpy as np\n",
    "import matplotlib.pyplot as plt\n",
    "%matplotlib inline\n",
    "from sklearn.metrics import accuracy_score, confusion_matrix\n",
    "from sklearn.tree import DecisionTreeClassifier\n",
    "from sklearn.ensemble import RandomForestClassifier\n",
    "import sklearn\n",
    "pd.set_option('use_inf_as_na', True)\n",
    "from collections import Counter"
   ]
  },
  {
   "cell_type": "code",
   "execution_count": 2,
   "metadata": {
    "ExecuteTime": {
     "end_time": "2020-03-03T02:04:21.903526Z",
     "start_time": "2020-03-03T02:04:19.923963Z"
    }
   },
   "outputs": [],
   "source": [
    "raw_data = pd.read_pickle(r'C:\\Users\\niels\\OneDrive\\Machine Learning 2022\\Lecture 2\\dataset.pkl')\n",
    "data = raw_data[raw_data['market_cap'] > 1000.0]\n",
    "data = data.copy()\n",
    "data.fillna(0.0,inplace=True)"
   ]
  },
  {
   "cell_type": "code",
   "execution_count": 3,
   "metadata": {
    "ExecuteTime": {
     "end_time": "2020-03-03T02:04:24.516696Z",
     "start_time": "2020-03-03T02:04:24.512695Z"
    }
   },
   "outputs": [],
   "source": [
    "def f(x):\n",
    "    if x > 0.01:\n",
    "        return 1\n",
    "    elif x < -0.025:\n",
    "        return -1\n",
    "    else:\n",
    "    \n",
    "        return 0"
   ]
  },
  {
   "cell_type": "code",
   "execution_count": 4,
   "metadata": {
    "ExecuteTime": {
     "end_time": "2020-03-03T02:04:30.421746Z",
     "start_time": "2020-03-03T02:04:30.370536Z"
    }
   },
   "outputs": [],
   "source": [
    "data['rel_performance'] = data['pred_rel_return'].apply(f)\n",
    "data.reset_index(inplace=True)\n",
    "data.set_index('date',inplace=True)"
   ]
  },
  {
   "cell_type": "code",
   "execution_count": 5,
   "metadata": {},
   "outputs": [],
   "source": [
    "from sklearn.preprocessing import MinMaxScaler,StandardScaler\n",
    "scaler = StandardScaler()"
   ]
  },
  {
   "cell_type": "markdown",
   "metadata": {},
   "source": [
    "## Long term performance with Random Forest Classifier, optimal hyper-parameters"
   ]
  },
  {
   "cell_type": "code",
   "execution_count": 6,
   "metadata": {
    "ExecuteTime": {
     "end_time": "2020-02-11T00:59:21.882803Z",
     "start_time": "2020-02-11T00:59:21.859799Z"
    }
   },
   "outputs": [],
   "source": [
    "start_dates = [pd.to_datetime('2001-01-01') + pd.DateOffset(months = 3*i) for i in range(57)]\n",
    "end_dates = [d + pd.DateOffset(months = 36) for d in start_dates]"
   ]
  },
  {
   "cell_type": "code",
   "execution_count": 168,
   "metadata": {
    "ExecuteTime": {
     "end_time": "2020-02-11T01:00:06.107690Z",
     "start_time": "2020-02-11T01:00:06.050640Z"
    }
   },
   "outputs": [],
   "source": [
    "training_frames = [data.loc[d:d+pd.DateOffset(months = 36)] for d in start_dates]\n",
    "valid_frames = [data.loc[d+pd.DateOffset(months = 3):d+pd.DateOffset(months = 6)] for d in end_dates]\n",
    "test_frames = [data.loc[d+pd.DateOffset(months = 9):d+pd.DateOffset(months = 12)] for d in end_dates]"
   ]
  },
  {
   "cell_type": "code",
   "execution_count": 169,
   "metadata": {
    "ExecuteTime": {
     "end_time": "2020-02-11T01:00:20.984116Z",
     "start_time": "2020-02-11T01:00:11.072616Z"
    }
   },
   "outputs": [],
   "source": [
    "training_data = [d.reset_index().drop\n",
    "                                 (['ticker','date',\n",
    "                                   'next_period_return',\n",
    "                                   'spy_next_period_return',\n",
    "                                   'rel_performance','pred_rel_return',\n",
    "                                  'return', 'cum_ret', 'spy_cum_ret'],axis=1) for d in training_frames]"
   ]
  },
  {
   "cell_type": "code",
   "execution_count": 170,
   "metadata": {},
   "outputs": [],
   "source": [
    "valid_data = [d.reset_index().drop\n",
    "                                 (['ticker','date',\n",
    "                                   'next_period_return',\n",
    "                                   'spy_next_period_return',\n",
    "                                   'rel_performance','pred_rel_return',\n",
    "                                  'return', 'cum_ret', 'spy_cum_ret'],axis=1) for d in valid_frames]"
   ]
  },
  {
   "cell_type": "code",
   "execution_count": 171,
   "metadata": {
    "ExecuteTime": {
     "end_time": "2020-02-11T01:00:22.138142Z",
     "start_time": "2020-02-11T01:00:20.986086Z"
    }
   },
   "outputs": [],
   "source": [
    "test_data = [d.reset_index().drop(['ticker','date',\n",
    "                                   'next_period_return',\n",
    "                                   'spy_next_period_return',\n",
    "                                   'rel_performance','pred_rel_return',\n",
    "                                  'return', 'cum_ret', 'spy_cum_ret'],axis=1) for d in test_frames]"
   ]
  },
  {
   "cell_type": "code",
   "execution_count": 172,
   "metadata": {
    "ExecuteTime": {
     "end_time": "2020-02-11T01:00:28.172336Z",
     "start_time": "2020-02-11T01:00:28.162322Z"
    }
   },
   "outputs": [],
   "source": [
    "training_labels = [d['rel_performance'].values for d in training_frames]\n",
    "valid_labels = [d['rel_performance'].values for d in valid_frames] "
   ]
  },
  {
   "cell_type": "code",
   "execution_count": 173,
   "metadata": {},
   "outputs": [],
   "source": [
    "for i in range(len(start_dates)-1):\n",
    "    float_vars = [x for x in training_data[i].columns if data[x].dtype == 'float64']\n",
    "\n",
    "    scaler = StandardScaler()\n",
    "    training_data[i] = training_data[i].copy()\n",
    "    valid_data[i] = valid_data[i].copy()\n",
    "    test_data[i] = test_data[i].copy()\n",
    "    training_data[i][float_vars] = scaler.fit_transform(training_data[i][float_vars])\n",
    "    valid_data[i][float_vars] = scaler.transform(valid_data[i][float_vars])\n",
    "    test_data[i][float_vars] = scaler.transform(test_data[i][float_vars])\n",
    "        \n",
    "    "
   ]
  },
  {
   "cell_type": "code",
   "execution_count": 177,
   "metadata": {},
   "outputs": [],
   "source": [
    "import optuna\n",
    "from optuna.trial import Trial\n",
    "optuna.logging.set_verbosity(optuna.logging.FATAL)\n",
    "import warnings\n",
    "warnings.filterwarnings(\"ignore\")"
   ]
  },
  {
   "cell_type": "code",
   "execution_count": 178,
   "metadata": {},
   "outputs": [],
   "source": [
    "def objective(trial:Trial,train=None,labels=None,val=None,val_labels=None,val_rets=None):\n",
    "\n",
    "    rf_n_estimators = trial.suggest_int('n_estimators', 10,40,step=5)\n",
    "    rf_max_features = trial.suggest_categorical('max_features',['sqrt','log2'])\n",
    "    rf_min_samples_leaf = trial.suggest_int('min_samples_leaf',400,2400,step=400)\n",
    "    rf_max_depth = trial.suggest_int('max_depth',5,25,step=5)\n",
    "    \n",
    "    rf_clf = RandomForestClassifier(n_estimators=rf_n_estimators,\n",
    "                                    max_depth=rf_max_depth,\n",
    "                                    min_samples_leaf=rf_min_samples_leaf,\n",
    "                                    max_features=rf_max_features)\n",
    "    rf_clf.fit(train,labels)\n",
    "    preds = rf_clf.predict(val)\n",
    "    profit = (preds * val_rets).sum()\n",
    " \n",
    "    return profit"
   ]
  },
  {
   "cell_type": "code",
   "execution_count": 179,
   "metadata": {},
   "outputs": [],
   "source": [
    "optimal_hyperparameters = []"
   ]
  },
  {
   "cell_type": "code",
   "execution_count": 180,
   "metadata": {},
   "outputs": [],
   "source": [
    "from functools import partial"
   ]
  },
  {
   "cell_type": "code",
   "execution_count": 182,
   "metadata": {
    "scrolled": true
   },
   "outputs": [
    {
     "name": "stdout",
     "output_type": "stream",
     "text": [
      "{'n_estimators': 10, 'max_features': 'sqrt', 'min_samples_leaf': 400, 'max_depth': 20}\n",
      "{'n_estimators': 40, 'max_features': 'sqrt', 'min_samples_leaf': 400, 'max_depth': 20}\n",
      "{'n_estimators': 10, 'max_features': 'log2', 'min_samples_leaf': 400, 'max_depth': 25}\n",
      "{'n_estimators': 20, 'max_features': 'sqrt', 'min_samples_leaf': 400, 'max_depth': 25}\n",
      "{'n_estimators': 10, 'max_features': 'log2', 'min_samples_leaf': 400, 'max_depth': 10}\n",
      "{'n_estimators': 10, 'max_features': 'sqrt', 'min_samples_leaf': 400, 'max_depth': 25}\n",
      "{'n_estimators': 30, 'max_features': 'log2', 'min_samples_leaf': 2400, 'max_depth': 25}\n",
      "{'n_estimators': 25, 'max_features': 'sqrt', 'min_samples_leaf': 400, 'max_depth': 10}\n",
      "{'n_estimators': 10, 'max_features': 'sqrt', 'min_samples_leaf': 400, 'max_depth': 15}\n",
      "{'n_estimators': 15, 'max_features': 'log2', 'min_samples_leaf': 1200, 'max_depth': 20}\n",
      "{'n_estimators': 40, 'max_features': 'sqrt', 'min_samples_leaf': 800, 'max_depth': 10}\n",
      "{'n_estimators': 15, 'max_features': 'sqrt', 'min_samples_leaf': 800, 'max_depth': 20}\n",
      "{'n_estimators': 15, 'max_features': 'log2', 'min_samples_leaf': 400, 'max_depth': 15}\n",
      "{'n_estimators': 30, 'max_features': 'log2', 'min_samples_leaf': 400, 'max_depth': 10}\n",
      "{'n_estimators': 10, 'max_features': 'sqrt', 'min_samples_leaf': 400, 'max_depth': 15}\n",
      "{'n_estimators': 25, 'max_features': 'sqrt', 'min_samples_leaf': 800, 'max_depth': 10}\n",
      "{'n_estimators': 10, 'max_features': 'sqrt', 'min_samples_leaf': 400, 'max_depth': 20}\n",
      "{'n_estimators': 15, 'max_features': 'sqrt', 'min_samples_leaf': 400, 'max_depth': 15}\n",
      "{'n_estimators': 10, 'max_features': 'sqrt', 'min_samples_leaf': 400, 'max_depth': 25}\n",
      "{'n_estimators': 15, 'max_features': 'log2', 'min_samples_leaf': 1200, 'max_depth': 25}\n",
      "{'n_estimators': 15, 'max_features': 'log2', 'min_samples_leaf': 1200, 'max_depth': 5}\n",
      "{'n_estimators': 25, 'max_features': 'log2', 'min_samples_leaf': 800, 'max_depth': 5}\n",
      "{'n_estimators': 15, 'max_features': 'log2', 'min_samples_leaf': 1200, 'max_depth': 5}\n",
      "{'n_estimators': 15, 'max_features': 'sqrt', 'min_samples_leaf': 1200, 'max_depth': 5}\n",
      "{'n_estimators': 15, 'max_features': 'sqrt', 'min_samples_leaf': 400, 'max_depth': 10}\n",
      "{'n_estimators': 10, 'max_features': 'sqrt', 'min_samples_leaf': 400, 'max_depth': 5}\n",
      "{'n_estimators': 20, 'max_features': 'log2', 'min_samples_leaf': 2000, 'max_depth': 5}\n",
      "{'n_estimators': 10, 'max_features': 'log2', 'min_samples_leaf': 400, 'max_depth': 15}\n",
      "{'n_estimators': 30, 'max_features': 'log2', 'min_samples_leaf': 2000, 'max_depth': 20}\n",
      "{'n_estimators': 10, 'max_features': 'sqrt', 'min_samples_leaf': 400, 'max_depth': 5}\n",
      "{'n_estimators': 10, 'max_features': 'sqrt', 'min_samples_leaf': 400, 'max_depth': 5}\n",
      "{'n_estimators': 25, 'max_features': 'sqrt', 'min_samples_leaf': 400, 'max_depth': 5}\n",
      "{'n_estimators': 10, 'max_features': 'sqrt', 'min_samples_leaf': 400, 'max_depth': 15}\n",
      "{'n_estimators': 25, 'max_features': 'sqrt', 'min_samples_leaf': 400, 'max_depth': 20}\n",
      "{'n_estimators': 10, 'max_features': 'sqrt', 'min_samples_leaf': 1200, 'max_depth': 5}\n",
      "{'n_estimators': 40, 'max_features': 'sqrt', 'min_samples_leaf': 400, 'max_depth': 5}\n",
      "{'n_estimators': 20, 'max_features': 'sqrt', 'min_samples_leaf': 800, 'max_depth': 15}\n",
      "{'n_estimators': 25, 'max_features': 'log2', 'min_samples_leaf': 400, 'max_depth': 25}\n",
      "{'n_estimators': 35, 'max_features': 'sqrt', 'min_samples_leaf': 400, 'max_depth': 5}\n",
      "{'n_estimators': 10, 'max_features': 'sqrt', 'min_samples_leaf': 800, 'max_depth': 5}\n",
      "{'n_estimators': 10, 'max_features': 'log2', 'min_samples_leaf': 800, 'max_depth': 20}\n",
      "{'n_estimators': 25, 'max_features': 'sqrt', 'min_samples_leaf': 400, 'max_depth': 15}\n",
      "{'n_estimators': 10, 'max_features': 'sqrt', 'min_samples_leaf': 400, 'max_depth': 25}\n",
      "{'n_estimators': 15, 'max_features': 'log2', 'min_samples_leaf': 800, 'max_depth': 25}\n",
      "{'n_estimators': 15, 'max_features': 'sqrt', 'min_samples_leaf': 400, 'max_depth': 10}\n",
      "{'n_estimators': 10, 'max_features': 'sqrt', 'min_samples_leaf': 400, 'max_depth': 25}\n",
      "{'n_estimators': 10, 'max_features': 'sqrt', 'min_samples_leaf': 400, 'max_depth': 25}\n",
      "{'n_estimators': 25, 'max_features': 'log2', 'min_samples_leaf': 1200, 'max_depth': 5}\n",
      "{'n_estimators': 20, 'max_features': 'log2', 'min_samples_leaf': 2400, 'max_depth': 25}\n",
      "{'n_estimators': 20, 'max_features': 'sqrt', 'min_samples_leaf': 800, 'max_depth': 20}\n",
      "{'n_estimators': 10, 'max_features': 'log2', 'min_samples_leaf': 1200, 'max_depth': 5}\n",
      "{'n_estimators': 15, 'max_features': 'sqrt', 'min_samples_leaf': 400, 'max_depth': 5}\n",
      "{'n_estimators': 25, 'max_features': 'sqrt', 'min_samples_leaf': 400, 'max_depth': 20}\n",
      "{'n_estimators': 35, 'max_features': 'log2', 'min_samples_leaf': 1200, 'max_depth': 20}\n",
      "{'n_estimators': 30, 'max_features': 'sqrt', 'min_samples_leaf': 800, 'max_depth': 15}\n"
     ]
    }
   ],
   "source": [
    "for i in range(len(start_dates)-1):\n",
    "    \n",
    "    study = optuna.create_study(direction=\"maximize\")\n",
    "    \n",
    "    study.optimize(partial(objective,\n",
    "                           train=training_data[i],\n",
    "                           labels=training_labels[i],\n",
    "                           val=valid_data[i],\n",
    "                           val_rets=valid_frames[i]['next_period_return']), n_trials=200,n_jobs=-1)\n",
    "    \n",
    "    optimal_hyperparameters.append(study.best_params)  \n",
    "    print(study.best_params)\n",
    "    "
   ]
  },
  {
   "cell_type": "code",
   "execution_count": 174,
   "metadata": {},
   "outputs": [],
   "source": [
    "import _pickle as cPickle"
   ]
  },
  {
   "cell_type": "code",
   "execution_count": 183,
   "metadata": {},
   "outputs": [],
   "source": [
    "with open(r'optimal_hyperparameters.pkl','wb') as f:\n",
    "    cPickle.dump(optimal_hyperparameters,f)"
   ]
  },
  {
   "cell_type": "code",
   "execution_count": 184,
   "metadata": {},
   "outputs": [],
   "source": [
    "with open(r'optimal_hyperparameters.pkl','rb') as f:\n",
    "    optimal_hyperparameters = cPickle.load(f)"
   ]
  },
  {
   "cell_type": "code",
   "execution_count": 185,
   "metadata": {},
   "outputs": [
    {
     "data": {
      "text/plain": [
       "[{'n_estimators': 10,\n",
       "  'max_features': 'sqrt',\n",
       "  'min_samples_leaf': 400,\n",
       "  'max_depth': 20},\n",
       " {'n_estimators': 10,\n",
       "  'max_features': 'sqrt',\n",
       "  'min_samples_leaf': 2400,\n",
       "  'max_depth': 10},\n",
       " {'n_estimators': 20,\n",
       "  'max_features': 'log2',\n",
       "  'min_samples_leaf': 400,\n",
       "  'max_depth': 15},\n",
       " {'n_estimators': 10,\n",
       "  'max_features': 'sqrt',\n",
       "  'min_samples_leaf': 400,\n",
       "  'max_depth': 25},\n",
       " {'n_estimators': 30,\n",
       "  'max_features': 'log2',\n",
       "  'min_samples_leaf': 1600,\n",
       "  'max_depth': 15},\n",
       " {'n_estimators': 10,\n",
       "  'max_features': 'sqrt',\n",
       "  'min_samples_leaf': 400,\n",
       "  'max_depth': 25},\n",
       " {'n_estimators': 20,\n",
       "  'max_features': 'log2',\n",
       "  'min_samples_leaf': 2400,\n",
       "  'max_depth': 20},\n",
       " {'n_estimators': 10,\n",
       "  'max_features': 'sqrt',\n",
       "  'min_samples_leaf': 400,\n",
       "  'max_depth': 10},\n",
       " {'n_estimators': 20,\n",
       "  'max_features': 'log2',\n",
       "  'min_samples_leaf': 2400,\n",
       "  'max_depth': 25},\n",
       " {'n_estimators': 10,\n",
       "  'max_features': 'log2',\n",
       "  'min_samples_leaf': 800,\n",
       "  'max_depth': 25},\n",
       " {'n_estimators': 25,\n",
       "  'max_features': 'log2',\n",
       "  'min_samples_leaf': 400,\n",
       "  'max_depth': 10},\n",
       " {'n_estimators': 40,\n",
       "  'max_features': 'log2',\n",
       "  'min_samples_leaf': 400,\n",
       "  'max_depth': 20},\n",
       " {'n_estimators': 30,\n",
       "  'max_features': 'sqrt',\n",
       "  'min_samples_leaf': 800,\n",
       "  'max_depth': 10},\n",
       " {'n_estimators': 35,\n",
       "  'max_features': 'sqrt',\n",
       "  'min_samples_leaf': 800,\n",
       "  'max_depth': 25},\n",
       " {'n_estimators': 10,\n",
       "  'max_features': 'sqrt',\n",
       "  'min_samples_leaf': 400,\n",
       "  'max_depth': 25},\n",
       " {'n_estimators': 10,\n",
       "  'max_features': 'sqrt',\n",
       "  'min_samples_leaf': 400,\n",
       "  'max_depth': 25},\n",
       " {'n_estimators': 10,\n",
       "  'max_features': 'sqrt',\n",
       "  'min_samples_leaf': 400,\n",
       "  'max_depth': 20},\n",
       " {'n_estimators': 10,\n",
       "  'max_features': 'sqrt',\n",
       "  'min_samples_leaf': 400,\n",
       "  'max_depth': 20},\n",
       " {'n_estimators': 40,\n",
       "  'max_features': 'sqrt',\n",
       "  'min_samples_leaf': 400,\n",
       "  'max_depth': 20},\n",
       " {'n_estimators': 10,\n",
       "  'max_features': 'log2',\n",
       "  'min_samples_leaf': 400,\n",
       "  'max_depth': 25},\n",
       " {'n_estimators': 20,\n",
       "  'max_features': 'sqrt',\n",
       "  'min_samples_leaf': 400,\n",
       "  'max_depth': 25},\n",
       " {'n_estimators': 10,\n",
       "  'max_features': 'log2',\n",
       "  'min_samples_leaf': 400,\n",
       "  'max_depth': 10},\n",
       " {'n_estimators': 10,\n",
       "  'max_features': 'sqrt',\n",
       "  'min_samples_leaf': 400,\n",
       "  'max_depth': 25},\n",
       " {'n_estimators': 30,\n",
       "  'max_features': 'log2',\n",
       "  'min_samples_leaf': 2400,\n",
       "  'max_depth': 25},\n",
       " {'n_estimators': 25,\n",
       "  'max_features': 'sqrt',\n",
       "  'min_samples_leaf': 400,\n",
       "  'max_depth': 10},\n",
       " {'n_estimators': 10,\n",
       "  'max_features': 'sqrt',\n",
       "  'min_samples_leaf': 400,\n",
       "  'max_depth': 15},\n",
       " {'n_estimators': 15,\n",
       "  'max_features': 'log2',\n",
       "  'min_samples_leaf': 1200,\n",
       "  'max_depth': 20},\n",
       " {'n_estimators': 40,\n",
       "  'max_features': 'sqrt',\n",
       "  'min_samples_leaf': 800,\n",
       "  'max_depth': 10},\n",
       " {'n_estimators': 15,\n",
       "  'max_features': 'sqrt',\n",
       "  'min_samples_leaf': 800,\n",
       "  'max_depth': 20},\n",
       " {'n_estimators': 15,\n",
       "  'max_features': 'log2',\n",
       "  'min_samples_leaf': 400,\n",
       "  'max_depth': 15},\n",
       " {'n_estimators': 30,\n",
       "  'max_features': 'log2',\n",
       "  'min_samples_leaf': 400,\n",
       "  'max_depth': 10},\n",
       " {'n_estimators': 10,\n",
       "  'max_features': 'sqrt',\n",
       "  'min_samples_leaf': 400,\n",
       "  'max_depth': 15},\n",
       " {'n_estimators': 25,\n",
       "  'max_features': 'sqrt',\n",
       "  'min_samples_leaf': 800,\n",
       "  'max_depth': 10},\n",
       " {'n_estimators': 10,\n",
       "  'max_features': 'sqrt',\n",
       "  'min_samples_leaf': 400,\n",
       "  'max_depth': 20},\n",
       " {'n_estimators': 15,\n",
       "  'max_features': 'sqrt',\n",
       "  'min_samples_leaf': 400,\n",
       "  'max_depth': 15},\n",
       " {'n_estimators': 10,\n",
       "  'max_features': 'sqrt',\n",
       "  'min_samples_leaf': 400,\n",
       "  'max_depth': 25},\n",
       " {'n_estimators': 15,\n",
       "  'max_features': 'log2',\n",
       "  'min_samples_leaf': 1200,\n",
       "  'max_depth': 25},\n",
       " {'n_estimators': 15,\n",
       "  'max_features': 'log2',\n",
       "  'min_samples_leaf': 1200,\n",
       "  'max_depth': 5},\n",
       " {'n_estimators': 25,\n",
       "  'max_features': 'log2',\n",
       "  'min_samples_leaf': 800,\n",
       "  'max_depth': 5},\n",
       " {'n_estimators': 15,\n",
       "  'max_features': 'log2',\n",
       "  'min_samples_leaf': 1200,\n",
       "  'max_depth': 5},\n",
       " {'n_estimators': 15,\n",
       "  'max_features': 'sqrt',\n",
       "  'min_samples_leaf': 1200,\n",
       "  'max_depth': 5},\n",
       " {'n_estimators': 15,\n",
       "  'max_features': 'sqrt',\n",
       "  'min_samples_leaf': 400,\n",
       "  'max_depth': 10},\n",
       " {'n_estimators': 10,\n",
       "  'max_features': 'sqrt',\n",
       "  'min_samples_leaf': 400,\n",
       "  'max_depth': 5},\n",
       " {'n_estimators': 20,\n",
       "  'max_features': 'log2',\n",
       "  'min_samples_leaf': 2000,\n",
       "  'max_depth': 5},\n",
       " {'n_estimators': 10,\n",
       "  'max_features': 'log2',\n",
       "  'min_samples_leaf': 400,\n",
       "  'max_depth': 15},\n",
       " {'n_estimators': 30,\n",
       "  'max_features': 'log2',\n",
       "  'min_samples_leaf': 2000,\n",
       "  'max_depth': 20},\n",
       " {'n_estimators': 10,\n",
       "  'max_features': 'sqrt',\n",
       "  'min_samples_leaf': 400,\n",
       "  'max_depth': 5},\n",
       " {'n_estimators': 10,\n",
       "  'max_features': 'sqrt',\n",
       "  'min_samples_leaf': 400,\n",
       "  'max_depth': 5},\n",
       " {'n_estimators': 25,\n",
       "  'max_features': 'sqrt',\n",
       "  'min_samples_leaf': 400,\n",
       "  'max_depth': 5},\n",
       " {'n_estimators': 10,\n",
       "  'max_features': 'sqrt',\n",
       "  'min_samples_leaf': 400,\n",
       "  'max_depth': 15},\n",
       " {'n_estimators': 25,\n",
       "  'max_features': 'sqrt',\n",
       "  'min_samples_leaf': 400,\n",
       "  'max_depth': 20},\n",
       " {'n_estimators': 10,\n",
       "  'max_features': 'sqrt',\n",
       "  'min_samples_leaf': 1200,\n",
       "  'max_depth': 5},\n",
       " {'n_estimators': 40,\n",
       "  'max_features': 'sqrt',\n",
       "  'min_samples_leaf': 400,\n",
       "  'max_depth': 5},\n",
       " {'n_estimators': 20,\n",
       "  'max_features': 'sqrt',\n",
       "  'min_samples_leaf': 800,\n",
       "  'max_depth': 15},\n",
       " {'n_estimators': 25,\n",
       "  'max_features': 'log2',\n",
       "  'min_samples_leaf': 400,\n",
       "  'max_depth': 25},\n",
       " {'n_estimators': 35,\n",
       "  'max_features': 'sqrt',\n",
       "  'min_samples_leaf': 400,\n",
       "  'max_depth': 5},\n",
       " {'n_estimators': 10,\n",
       "  'max_features': 'sqrt',\n",
       "  'min_samples_leaf': 800,\n",
       "  'max_depth': 5},\n",
       " {'n_estimators': 10,\n",
       "  'max_features': 'log2',\n",
       "  'min_samples_leaf': 800,\n",
       "  'max_depth': 20},\n",
       " {'n_estimators': 25,\n",
       "  'max_features': 'sqrt',\n",
       "  'min_samples_leaf': 400,\n",
       "  'max_depth': 15},\n",
       " {'n_estimators': 10,\n",
       "  'max_features': 'sqrt',\n",
       "  'min_samples_leaf': 400,\n",
       "  'max_depth': 25},\n",
       " {'n_estimators': 15,\n",
       "  'max_features': 'log2',\n",
       "  'min_samples_leaf': 800,\n",
       "  'max_depth': 25},\n",
       " {'n_estimators': 15,\n",
       "  'max_features': 'sqrt',\n",
       "  'min_samples_leaf': 400,\n",
       "  'max_depth': 10},\n",
       " {'n_estimators': 10,\n",
       "  'max_features': 'sqrt',\n",
       "  'min_samples_leaf': 400,\n",
       "  'max_depth': 25},\n",
       " {'n_estimators': 10,\n",
       "  'max_features': 'sqrt',\n",
       "  'min_samples_leaf': 400,\n",
       "  'max_depth': 25},\n",
       " {'n_estimators': 25,\n",
       "  'max_features': 'log2',\n",
       "  'min_samples_leaf': 1200,\n",
       "  'max_depth': 5},\n",
       " {'n_estimators': 20,\n",
       "  'max_features': 'log2',\n",
       "  'min_samples_leaf': 2400,\n",
       "  'max_depth': 25},\n",
       " {'n_estimators': 20,\n",
       "  'max_features': 'sqrt',\n",
       "  'min_samples_leaf': 800,\n",
       "  'max_depth': 20},\n",
       " {'n_estimators': 10,\n",
       "  'max_features': 'log2',\n",
       "  'min_samples_leaf': 1200,\n",
       "  'max_depth': 5},\n",
       " {'n_estimators': 15,\n",
       "  'max_features': 'sqrt',\n",
       "  'min_samples_leaf': 400,\n",
       "  'max_depth': 5},\n",
       " {'n_estimators': 25,\n",
       "  'max_features': 'sqrt',\n",
       "  'min_samples_leaf': 400,\n",
       "  'max_depth': 20},\n",
       " {'n_estimators': 35,\n",
       "  'max_features': 'log2',\n",
       "  'min_samples_leaf': 1200,\n",
       "  'max_depth': 20},\n",
       " {'n_estimators': 30,\n",
       "  'max_features': 'sqrt',\n",
       "  'min_samples_leaf': 800,\n",
       "  'max_depth': 15}]"
      ]
     },
     "execution_count": 185,
     "metadata": {},
     "output_type": "execute_result"
    }
   ],
   "source": [
    "optimal_hyperparameters"
   ]
  },
  {
   "cell_type": "code",
   "execution_count": 186,
   "metadata": {},
   "outputs": [],
   "source": [
    "classifiers = []"
   ]
  },
  {
   "cell_type": "code",
   "execution_count": 187,
   "metadata": {},
   "outputs": [],
   "source": [
    "for hyp_par in optimal_hyperparameters:\n",
    "    rf_clf = RandomForestClassifier(**hyp_par)\n",
    "    classifiers.append(rf_clf)"
   ]
  },
  {
   "cell_type": "code",
   "execution_count": 189,
   "metadata": {},
   "outputs": [],
   "source": [
    "for i in range(len(start_dates)-1): \n",
    "    classifiers[i].fit(training_data[i],training_labels[i])"
   ]
  },
  {
   "cell_type": "code",
   "execution_count": 190,
   "metadata": {},
   "outputs": [],
   "source": [
    "with open(r'classifiers.pkl','wb') as f:\n",
    "    cPickle.dump(classifiers,f)"
   ]
  },
  {
   "cell_type": "code",
   "execution_count": 191,
   "metadata": {},
   "outputs": [],
   "source": [
    "with open(r'classifiers.pkl','rb') as f:\n",
    "    classifiers = cPickle.load(f)"
   ]
  },
  {
   "cell_type": "code",
   "execution_count": 192,
   "metadata": {
    "ExecuteTime": {
     "end_time": "2020-02-11T00:30:26.233418Z",
     "start_time": "2020-02-11T00:30:26.207352Z"
    }
   },
   "outputs": [],
   "source": [
    "def randomforest_feat_importances(m, df):\n",
    "        \n",
    "    return pd.DataFrame({'cols':df.columns, 'feat_imp': m.feature_importances_}\n",
    "                       ).sort_values('feat_imp', ascending=False)\n",
    "\n",
    "def plot_fi(fi): return fi.plot('cols', 'feat_imp', 'barh', figsize=(12,7), legend=False)"
   ]
  },
  {
   "cell_type": "code",
   "execution_count": 193,
   "metadata": {},
   "outputs": [],
   "source": [
    "significant_features = []"
   ]
  },
  {
   "cell_type": "code",
   "execution_count": 194,
   "metadata": {},
   "outputs": [],
   "source": [
    "for i in range(len(start_dates)-1): \n",
    "    fi = randomforest_feat_importances(classifiers[i],training_data[i])\n",
    "    features = fi[(fi['feat_imp'] > 0.00)]['cols'].values\n",
    "    significant_features.append(features)"
   ]
  },
  {
   "cell_type": "code",
   "execution_count": 195,
   "metadata": {},
   "outputs": [
    {
     "data": {
      "text/plain": [
       "[array(['oiadpq', 'prccq', 'fcf_yield', 'rd_saleq', 'oepf12', 'ptpmq',\n",
       "        'opmadq', 'oepsxy', 'oeps12', 'pe_op_dilq', 'quick_ratioq',\n",
       "        'curr_ratioq', 'epsf12', 'ibadj12', 'fcf_csfhdq', 'rect_actq',\n",
       "        'epsfiq', 'epsfi12', 'npmq', 'cfo-per-share', 'oepsxq',\n",
       "        'curr_debtq', 'cogsy', 'at4', 'oancfy_q', 'capxq', 'gpmq',\n",
       "        'at_turnq', 'de_ratioq', 'beq', 'epsfxq', 'book_value_yield',\n",
       "        'sale_invcapq', 'capeiq', 'pretret_noaq', 'txtq', 'dvpspq',\n",
       "        'revtq', 'actq', 'capxy', 'ltq', 'xintq', 'ibcomy', 'psq',\n",
       "        'lt_debtq', 'be4', 'oancfy', 'cf_yield', 'cash_debtq', 'csh12q',\n",
       "        'saleq', 'cash_conversionq', 'cash_ratioq', 'efftaxq', 'dvq',\n",
       "        'rect_turnq', 'debt_assetsq', 'epspiq', 'pay_turnq', 'xsgay',\n",
       "        'dlttq', 'icaptq', 'debt_atq', 'req', 'ceqq', 'ocf_lctq', 'roaq',\n",
       "        'opcfq', 'nopiq', 'revty', 'int_debtq', 'chechy', 'ceq4', 'opepsq',\n",
       "        'lagppent4', 'opmbdq', 'debt_invcapq', 'debt_ebitdaq', 'inv_turnq',\n",
       "        'cfmq', 'cshfdq', 'apq', 'aftret_eqq', 'niq', 'bmq', 'oibdpq',\n",
       "        'pe_exiq', 'xoprq'], dtype=object),\n",
       " array(['cash_ratioq', 'dvq', 'pe_op_basicq', 'oepsxq', 'epspxq', 'revty',\n",
       "        'cash_ltq', 'capeiq', 'pe_incq'], dtype=object),\n",
       " array(['roceq', 'pretret_noaq', 'rd_saleq', 'oeps12', 'oancfy_q',\n",
       "        'fcf_csfhdq', 'saleq', 'quick_ratioq', 'oepf12', 'cash_ltq',\n",
       "        'epsx12', 'oiadpq', 'oepsxq', 'curr_ratioq', 'ibcomy', 'ltq',\n",
       "        'dprq', 'seqq', 'aftret_equityq', 'cfmq', 'epsf12',\n",
       "        'totdebt_invcapq', 'aftret_eqq', 'ceq4', 'dpcy', 'pay_turnq',\n",
       "        'sale_equityq', 'capxq', 'req', 'dvpspq', 'xintq', 'epspxq',\n",
       "        'csh12q', 'at4', 'cstkq', 'bmq', 'ppentq', 'opepsq', 'lctq4',\n",
       "        'xrdy', 'cshfdq', 'pe_incq', 'pe_op_dilq', 'ibcomq',\n",
       "        'cash_conversionq', 'gpmq', 'prccq', 'oepsxy', 'int_totdebtq',\n",
       "        'debt_invcapq', 'dvy', 'dvq', 'spiq', 'debt_atq', 'revty', 'xinty',\n",
       "        'ibadj12', 'sale_invcapq', 'fqtr_2', 'capxy', 'oancfy',\n",
       "        'profit_lctq', 'ibcy', 'accrualq', 'xsgaq', 'rect_turnq', 'dlttq',\n",
       "        'market_cap', 'equity_invcapq', 'pcfq', 'psq', 'nopiq', 'cogsq',\n",
       "        'chechy', 'capeiq', 'lagseq4', 'fcf_ocfq', 'dpcq', 'txpq',\n",
       "        'debt_capitalq', 'cshprq', 'dltisy', 'revtq', 'gprofq', 'at5',\n",
       "        'dlcq', 'npmq', 'cshoq', 'de_ratioq', 'lagppent_alt4',\n",
       "        'pretret_earnatq', 'cogsy', 'actq', 'invtq', 'cash_debtq',\n",
       "        'book_value_yield', 'be4', 'icaptq', 'ibq', 'opmadq', 'fqtr_1',\n",
       "        'rect_actq', 'evmq', 'dpq', 'epsfi12', 'txpdy', 'txditcq',\n",
       "        'opmbdq', 'lagppent4', 'opcfq', 'yearly_sales', 'dltt_beq', 'niq'],\n",
       "       dtype=object),\n",
       " array(['rd_saleq', 'opmadq', 'epsf12', 'book_value_per_share', 'oancfy',\n",
       "        'epsfxq', 'yearly_sales', 'capeiq', 'saleq', 'fcf_yield', 'bmq',\n",
       "        'epsfiq', 'epsfi12', 'lt_ppentq', 'cfmq', 'epspxq',\n",
       "        'debt_capitalq', 'cash_ltq', 'oibdpq', 'rectq', 'cash_conversionq',\n",
       "        'ceq4', 'lctq', 'revty', 'cfo-per-share', 'lagppent4',\n",
       "        'curr_debtq', 'book_value_yield', 'intcov_ratioq', 'fcf_ocfq',\n",
       "        'chechy', 'xinty', 'cf_yield', 'cshprq', 'be4', 'short_debtq',\n",
       "        'icaptq', 'atq', 'xintq', 'dvy', 'ibadjq', 'ocf_lctq', 'accrualq',\n",
       "        'actq', 'capxy', 'cogsq', 'psq', 'pretret_earnatq', 'lagbe4',\n",
       "        'pe_exiq', 'txpq', 'rect_actq', 'seq4', 'pay_turnq', 'dlttq',\n",
       "        'ibcomy', 'aftret_equityq', 'debt_invcapq', 'dpq', 'at5', 'at4',\n",
       "        'lt_debtq', 'ibcq', 'de_ratioq', 'oiadpq', 'cheq', 'debt_assetsq',\n",
       "        'cogsy', 'dprq', 'txditcq', 'oepsxy', 'xsgay', 'ceqq', 'gpmq',\n",
       "        'ptpmq', 'int_debtq', 'capxq', 'ibq', 'pcfq', 'epspiq',\n",
       "        'lagppent_alt4', 'lagicapt4', 'csh12q', 'inv_turnq', 'opcfq',\n",
       "        'opmbdq', 'oepsxq', 'ibcy'], dtype=object),\n",
       " array(['capeiq', 'opepsq', 'cfo-per-share', 'cf_yield', 'at5', 'epspiq',\n",
       "        'curr_ratioq', 'cshprq', 'xinty', 'at4', 'epsfxq', 'epspxq',\n",
       "        'opcfq', 'ltq', 'oeps12', 'xrdy', 'cash_ratioq', 'epsx12',\n",
       "        'quick_ratioq', 'epsfiq', 'epsfi12', 'oibdpy', 'gpmq', 'xintq',\n",
       "        'oibdpq', 'fcf_yield', 'oepsxq', 'intcovq', 'req', 'dltry', 'psq',\n",
       "        'prccq', 'bmq', 'capital_ratioq', 'cogsy', 'seq4', 'debt_invcapq',\n",
       "        'ocf_lctq', 'book_value_per_share', 'ibadjq', 'int_totdebtq',\n",
       "        'aftret_equityq', 'capxq', 'pe_exiq', 'revty', 'intcov_ratioq',\n",
       "        'cfmq', 'epspi12', 'evmq', 'cash_debtq', 'atq', 'cshoq',\n",
       "        'sale_equityq', 'opmbdq', 'txpdy', 'cshiq', 'invtq'], dtype=object),\n",
       " array(['epsfi12', 'cfo-per-share', 'epspxq', 'rd_saleq', 'opcfq',\n",
       "        'debt_capitalq', 'opmadq', 'curr_debtq', 'epsx12', 'pay_turnq',\n",
       "        'pe_exiq', 'ibcomy', 'niq', 'lagicapt4', 'curr_ratioq', 'oancfy_q',\n",
       "        'epsfxq', 'cf_yield', 'lctq', 'xsgay', 'psq', 'xintq', 'saleq',\n",
       "        'oeps12', 'aftret_equityq', 'fcf_yield', 'xinty', 'efftaxq',\n",
       "        'ptpmq', 'dlttq', 'int_totdebtq', 'pretret_noaq', 'market_cap',\n",
       "        'roaq', 'oepsxy', 'ibcq', 'equity_invcapq', 'dvq', 'bmq', 'miiy',\n",
       "        'lt_debtq', 'ibadj12', 'csh12q', 'dprq', 'oibdpy', 'dltt_beq',\n",
       "        'pe_op_dilq', 'fqtr_1', 'ltq', 'cogsq', 'cash_conversionq',\n",
       "        'roceq', 'nopiq', 'cshoq', 'de_ratioq', 'book_value_per_share',\n",
       "        'int_debtq', 'gpmq', 'lagppent_alt4', 'rectq', 'cshfdq', 'ibcy',\n",
       "        'lagbe4', 'sale_invcapq', 'cash_ltq', 'inv_turnq', 'req',\n",
       "        'epspi12', 'revty', 'pretret_earnatq', 'dltry', 'invt_actq',\n",
       "        'ceqq', 'beq', 'pe_incq', 'cstkq', 'ibq', 'capxq', 'cheq', 'lctq4',\n",
       "        'evmq', 'capeiq', 'actq', 'aftret_invcapxq', 'rect_actq'],\n",
       "       dtype=object),\n",
       " array(['evmq', 'oepf12', 'pe_incq', 'atq', 'accrualq', 'ibadjq',\n",
       "        'rect_actq', 'epspi12', 'dlttq', 'capeiq', 'txtq', 'xsgaq',\n",
       "        'cash_ratioq', 'niq', 'lagseq4', 'roeq', 'dltry', 'txpdy', 'dvq',\n",
       "        'nopiq', 'int_debtq', 'bmq', 'sale_equityq', 'oancfy', 'roceq',\n",
       "        'cogsq', 'spiq', 'cshprq'], dtype=object),\n",
       " array(['cf_yield', 'fcf_csfhdq', 'opcfq', 'epspxq', 'ltq', 'oancfy_q',\n",
       "        'pe_op_dilq', 'dlttq', 'saleq', 'book_value_per_share', 'dvpspq',\n",
       "        'epsfi12', 'opmadq', 'fcf_yield', 'lt_ppentq', 'book_value_yield',\n",
       "        'epspiq', 'epsf12', 'cash_ratioq', 'pe_incq', 'opepsq',\n",
       "        'profit_lctq', 'quick_ratioq', 'dprq', 'ptpmq', 'accrualq',\n",
       "        'pay_turnq', 'at5', 'epsfiq', 'lctq4', 'psq', 'lagbe4', 'roceq',\n",
       "        'dvy', 'txtq', 'roeq', 'oeps12', 'csh12q', 'fqtr_1',\n",
       "        'debt_capitalq', 'pretret_earnatq', 'rect_actq', 'prcraq', 'dpq',\n",
       "        'cash_ltq', 'ibadj12', 'txditcq', 'bmq', 'yearly_sales', 'at4',\n",
       "        'inv_turnq', 'int_totdebtq', 'epsfxq', 'capxy', 'gprofq', 'oepsxy',\n",
       "        'icaptq', 'xsgaq', 'revtq', 'oiadpq', 'intcovq', 'ibcomq',\n",
       "        'equity_invcapq', 'dpcq', 'curr_ratioq', 'fqtr_4', 'seq4', 'apq',\n",
       "        'dltry', 'actq', 'ocf_lctq', 'dlcq', 'ppentq', 'sale_invcapq',\n",
       "        'xsgay', 'opmbdq', 'cshprq', 'cshiq', 'capeiq', 'cheq', 'gpmq',\n",
       "        'short_debtq', 'fcf_ocfq', 'revty'], dtype=object),\n",
       " array(['at5', 'opcfq', 'prccq', 'dvy', 'txtq', 'ibadjq', 'xrdq',\n",
       "        'pretret_noaq', 'actq', 'yearly_sales', 'oancfy_q', 'icaptq',\n",
       "        'evmq', 'lagppent_alt4', 'pe_op_dilq', 'atq', 'xsgay', 'ltq',\n",
       "        'ibq', 'ibadj12', 'epspi12', 'txditcq', 'dpcy', 'aftret_eqq',\n",
       "        'cash_debtq', 'dltry'], dtype=object),\n",
       " array(['beq', 'oiadpq', 'pe_exiq', 'saleq', 'oancfy', 'epsfxq',\n",
       "        'cf_yield', 'oepsxq', 'bmq', 'opcfq', 'actq', 'epspiq',\n",
       "        'debt_capitalq', 'epsf12', 'piq', 'miiq', 'npmq', 'fcf_ocfq',\n",
       "        'atq', 'lctq4', 'xsgay', 'book_value_yield', 'ibcomy', 'oibdpq',\n",
       "        'rect_actq', 'roceq', 'cshoq', 'evmq', 'rd_saleq', 'pretret_noaq',\n",
       "        'lagicapt4', 'epspi12', 'sale_nwcq', 'at4', 'cshprq', 'dltry',\n",
       "        'opmadq', 'debt_ebitdaq', 'xoprq', 'gprofq', 'gpmq', 'roeq',\n",
       "        'fcf_csfhdq', 'opepsq', 'cogsq', 'accrualq', 'txtq', 'de_ratioq',\n",
       "        'equity_invcapq', 'xintq', 'debt_invcapq', 'ibadjq', 'dltt_beq',\n",
       "        'aftret_equityq', 'invt_actq', 'ibcy', 'market_cap', 'dvpspq',\n",
       "        'spcsrc_B+', 'csh12q', 'aftret_eqq', 'capital_ratioq'],\n",
       "       dtype=object),\n",
       " array(['epsfi12', 'opcfq', 'cfo-per-share', 'epsfiq', 'dlttq', 'ibq',\n",
       "        'accrualq', 'oancfy_q', 'inv_turnq', 'book_value_per_share',\n",
       "        'dltry', 'pretret_noaq', 'debt_assetsq', 'cash_ltq', 'epsfxq',\n",
       "        'piq', 'capeiq', 'gprofq', 'epsf12', 'rd_saleq', 'pe_op_dilq',\n",
       "        'at5', 'oeps12', 'curr_debtq', 'cf_yield', 'curr_ratioq',\n",
       "        'pe_incq', 'pe_exiq', 'gpmq', 'rectq', 'ibadjq', 'oepsxq', 'dvy',\n",
       "        'opepsq', 'atq', 'lt_debtq', 'oibdpq', 'lagbe4', 'debt_atq',\n",
       "        'cogsq', 'csh12q', 'int_totdebtq', 'aftret_eqq', 'fcf_yield',\n",
       "        'psq', 'oibdpy', 'ibcq', 'short_debtq', 'pstkq', 'beq',\n",
       "        'debt_invcapq', 'fcf_csfhdq', 'txdbq', 'profit_lctq',\n",
       "        'cash_ratioq', 'cash_debtq', 'xintq', 'cshopq', 'mibq', 'roeq',\n",
       "        'cshprq', 'cshfdq', 'ibadj12', 'xrdy', 'dprq', 'cash_conversionq',\n",
       "        'epspxq', 'pcfq', 'roaq', 'req', 'revtq', 'dpcy', 'niq', 'capxy',\n",
       "        'nopiq', 'ltq', 'prcraq', 'dpq', 'dvq', 'cfmq', 'sic_6798',\n",
       "        'lagicapt4', 'intcov_ratioq', 'quick_ratioq', 'epspi12',\n",
       "        'equity_invcapq', 'aftret_equityq', 'bmq', 'dltisy', 'cstkq',\n",
       "        'capxq', 'revty', 'at4', 'ceqq', 'pretret_earnatq', 'xoprq',\n",
       "        'dpcq', 'capital_ratioq', 'lt_ppentq', 'txditcq', 'dvpspq',\n",
       "        'debt_capitalq', 'opmbdq', 'ibcy', 'ceq4', 'rect_actq', 'ptpmq',\n",
       "        'epspiq', 'saleq', 'cshiq', 'cogsy', 'lagppent_alt4', 'intcovq',\n",
       "        'lctq4', 'ocf_lctq', 'sale_invcapq', 'xrdq', 'sale_nwcq', 'chechy',\n",
       "        'lctq', 'invt_actq', 'debt_ebitdaq', 'ibcomq', 'dvpq', 'be4',\n",
       "        'actq', 'aftret_invcapxq', 'market_cap', 'invtq', 'fcf_ocfq',\n",
       "        'at_turnq', 'evmq', 'oiadpq', 'sale_equityq', 'book_value_yield',\n",
       "        'xsgaq', 'epsx12', 'prccq', 'de_ratioq', 'miiq', 'lagseq4',\n",
       "        'fqtr_1', 'spiq', 'apq', 'buy_back_yield'], dtype=object),\n",
       " array(['oiadpq', 'cfo-per-share', 'equity_invcapq', 'fcf_csfhdq', 'xsgay',\n",
       "        'de_ratioq', 'ibcq', 'cash_ratioq', 'opcfq', 'oancfy_q', 'epspi12',\n",
       "        'book_value_per_share', 'epspiq', 'ltq', 'csh12q', 'cf_yield',\n",
       "        'oeps12', 'debt_assetsq', 'cfmq', 'debt_atq', 'dpcy', 'oepsxq',\n",
       "        'icaptq', 'pe_op_basicq', 'int_totdebtq', 'oancfy', 'niq',\n",
       "        'cash_conversionq', 'cash_ltq', 'oibdpq', 'rectq', 'debt_capitalq',\n",
       "        'cogsq', 'xsgaq', 'xinty', 'roaq', 'bmq', 'capxy', 'ppentq',\n",
       "        'txtq', 'capeiq', 'cshopq', 'book_value_yield', 'fcf_yield',\n",
       "        'debt_ebitdaq', 'epsf12', 'pe_op_dilq', 'sale_nwcq', 'epsfi12',\n",
       "        'pe_incq', 'xoprq', 'lagicapt4', 'psq', 'rd_saleq', 'dvpspq',\n",
       "        'totdebt_invcapq', 'be4', 'quick_ratioq', 'invt_actq', 'ibadj12',\n",
       "        'pretret_noaq', 'lctq4', 'actq', 'pretret_earnatq', 'prcraq',\n",
       "        'ibcy', 'dlttq', 'buy_back_yield', 'lagppent_alt4', 'ibcomy',\n",
       "        'dvy', 'req', 'prccq', 'epspxq', 'int_debtq', 'revtq', 'xrdy',\n",
       "        'cheq', 'atq', 'dprq', 'cshoq', 'short_debtq', 'nopiq',\n",
       "        'market_cap', 'evmq', 'pcfq', 'lt_debtq', 'apq', 'saleq', 'epsx12',\n",
       "        'lagseq4', 'intcovq', 'optdrq', 'capital_ratioq', 'rect_actq',\n",
       "        'debt_invcapq', 'lt_ppentq', 'opmbdq', 'inv_turnq', 'cshiq',\n",
       "        'dltt_beq', 'curr_ratioq', 'dlcq', 'rect_turnq', 'at_turnq',\n",
       "        'ibadjq', 'cshfdq', 'at5', 'opmadq', 'cash_debtq', 'opepsq',\n",
       "        'accrualq', 'efftaxq', 'ocf_lctq', 'sale_invcapq', 'roceq',\n",
       "        'xidocy', 'oepsxy', 'aftret_equityq', 'capxq', 'ceq4', 'xintq',\n",
       "        'txditcq', 'seqq', 'ptpmq', 'pstkq', 'aftret_invcapxq', 'beq',\n",
       "        'dltry', 'invtq', 'spiq', 'lagppent4', 'epsfxq', 'aftret_eqq',\n",
       "        'gprofq', 'roeq', 'pay_turnq', 'lctq', 'cogsy', 'gpmq',\n",
       "        'profit_lctq', 'curr_debtq', 'chechy', 'ceqq', 'cstkq', 'pe_exiq',\n",
       "        'at4', 'revty', 'cshprq', 'seq4', 'teqq', 'ibcomq', 'oepf12',\n",
       "        'dvpq', 'mibq', 'npmq', 'intcov_ratioq', 'lagbe4', 'dltisy',\n",
       "        'txpq', 'dlcchy', 'sale_equityq', 'piq', 'fqtr_3'], dtype=object),\n",
       " array(['cf_yield', 'fcf_yield', 'oancfy_q', 'cash_ratioq', 'opcfq',\n",
       "        'oancfy', 'book_value_per_share', 'rd_saleq', 'cfo-per-share',\n",
       "        'curr_ratioq', 'bmq', 'opepsq', 'cash_ltq', 'curr_debtq',\n",
       "        'lt_ppentq', 'cogsq', 'oepsxq', 'oeps12', 'debt_invcapq',\n",
       "        'epsfi12', 'rectq', 'icaptq', 'capeiq', 'dvq', 'fcf_csfhdq',\n",
       "        'ibadjq', 'de_ratioq', 'atq', 'epspi12', 'xinty', 'cogsy',\n",
       "        'oepsxy', 'debt_assetsq', 'xintq', 'epsfxq', 'dvy', 'req',\n",
       "        'equity_invcapq', 'sale_equityq', 'epspiq', 'revtq',\n",
       "        'quick_ratioq', 'buy_back_yield', 'debt_capitalq', 'lt_debtq',\n",
       "        'at4', 'epsfiq', 'beq', 'xsgaq', 'dltt_beq', 'at_turnq', 'nopiq',\n",
       "        'ppentq', 'profit_lctq', 'dpcy', 'ibcomy', 'rect_turnq', 'apq',\n",
       "        'npmq', 'dlcq', 'pe_incq', 'chechy', 'totdebt_invcapq',\n",
       "        'sale_invcapq', 'opmbdq', 'pcfq', 'epspxq', 'pe_op_dilq', 'oibdpy',\n",
       "        'ocf_lctq', 'debt_atq', 'pe_exiq', 'cfmq', 'gprofq', 'oiadpq',\n",
       "        'ibcq', 'efftaxq', 'evmq', 'epsx12', 'prcraq', 'txpdy', 'dlttq',\n",
       "        'debt_ebitdaq', 'txtq', 'roaq', 'optdrq', 'int_totdebtq',\n",
       "        'int_debtq', 'aftret_invcapxq', 'capital_ratioq', 'sale_nwcq',\n",
       "        'saleq', 'intcov_ratioq', 'epsf12', 'revty', 'roeq',\n",
       "        'pretret_noaq', 'ibadj12', 'piq', 'cshprq', 'roceq', 'capxy',\n",
       "        'cstkq', 'pe_op_basicq', 'inv_turnq', 'market_cap', 'cshopq',\n",
       "        'txditcq', 'yearly_sales', 'seq4', 'short_debtq', 'intcovq',\n",
       "        'cshiq', 'lagppent_alt4', 'capxq', 'cash_conversionq', 'lctq',\n",
       "        'txpq', 'ibq', 'dpcq', 'cshoq', 'invtq', 'psq', 'gpmq'],\n",
       "       dtype=object),\n",
       " array(['oancfy_q', 'epspiq', 'ibcq', 'cash_ltq', 'book_value_per_share',\n",
       "        'oancfy', 'fcf_csfhdq', 'cfo-per-share', 'mibq', 'opcfq',\n",
       "        'fcf_yield', 'at5', 'lt_debtq', 'curr_debtq', 'cf_yield', 'ibcomq',\n",
       "        'xinty', 'epsfxq', 'cash_ratioq', 'miiy', 'dlttq', 'xintq',\n",
       "        'totdebt_invcapq', 'lt_ppentq', 'ceq4', 'epsfi12', 'chechy',\n",
       "        'epspxq', 'lagppent_alt4', 'epsfiq', 'icaptq', 'rectq', 'piq',\n",
       "        'de_ratioq', 'epspi12', 'pretret_noaq', 'pe_op_dilq',\n",
       "        'yearly_sales', 'pstkq', 'fcf_ocfq', 'revty', 'at4', 'dvq',\n",
       "        'optdrq', 'cshopq', 'ppentq', 'dvpspq', 'lctq', 'dltt_beq', 'be4',\n",
       "        'txditcq', 'ptpmq', 'xsgay', 'oepsxy', 'epsf12', 'profit_lctq',\n",
       "        'capxq', 'equity_invcapq', 'buy_back_yield', 'oeps12', 'miiq',\n",
       "        'saleq', 'debt_atq', 'roeq', 'nopiq', 'cash_conversionq', 'xidoy',\n",
       "        'dpcq', 'short_debtq', 'dltry', 'debt_ebitdaq', 'cshoq',\n",
       "        'curr_ratioq', 'cshiq', 'ibcomy', 'intcov_ratioq', 'csh12q',\n",
       "        'prccq', 'opepsq', 'book_value_yield', 'xrdy', 'cfmq', 'prcraq',\n",
       "        'debt_capitalq', 'lagppent4', 'revtq', 'niq', 'epsx12', 'ltq',\n",
       "        'lagbe4', 'debt_invcapq', 'ceqq', 'txpq', 'bmq', 'atq', 'intcovq',\n",
       "        'lagseq4', 'lctq4', 'roaq', 'cshprq', 'spcsrc_B-', 'cshfdq',\n",
       "        'int_debtq', 'fqtr_2', 'ibq', 'seqq', 'txpdy', 'req', 'rect_actq',\n",
       "        'roceq', 'rect_turnq', 'psq', 'dlcq', 'ibcy', 'oepf12', 'cogsy',\n",
       "        'cogsq', 'apq', 'gpmq', 'evmq', 'ocf_lctq', 'quick_ratioq', 'dvy',\n",
       "        'ibadj12'], dtype=object),\n",
       " array(['fcf_csfhdq', 'dltt_beq', 'epspxq', 'oancfy',\n",
       "        'book_value_per_share', 'revtq', 'debt_assetsq', 'ibq', 'oepsxy',\n",
       "        'prcraq', 'fcf_yield', 'ptpmq', 'atq', 'invt_actq', 'revty',\n",
       "        'lagbe4', 'debt_capitalq', 'equity_invcapq', 'epsfiq', 'ibadjq',\n",
       "        'totdebt_invcapq', 'bmq', 'de_ratioq', 'aftret_eqq', 'lctq', 'psq',\n",
       "        'intcov_ratioq', 'gprofq', 'profit_lctq', 'pretret_noaq', 'txpdy',\n",
       "        'dprq', 'npmq', 'invtq', 'txtq', 'accrualq', 'opmbdq', 'lagppent4',\n",
       "        'evmq', 'ibadj12', 'dltry', 'debt_atq', 'apq', 'chechy',\n",
       "        'pe_op_dilq', 'lagppent_alt4', 'capital_ratioq', 'xintq', 'be4',\n",
       "        'niq', 'prccq', 'at_turnq', 'dlttq', 'actq', 'epsfxq', 'ibcq',\n",
       "        'piq', 'dvy', 'dvpspq', 'icaptq', 'cstkq', 'fqtr_2', 'ceq4',\n",
       "        'debt_ebitdaq', 'pe_incq', 'beq', 'dlcq', 'dpcy', 'at4', 'cshopq',\n",
       "        'xoprq', 'pe_op_basicq', 'rectq', 'oiadpq', 'oepf12', 'fcf_ocfq',\n",
       "        'sale_equityq', 'capxq', 'oancfy_q', 'at5', 'lt_ppentq', 'xsgaq',\n",
       "        'cash_ltq', 'curr_debtq', 'int_debtq', 'cash_debtq', 'cfmq',\n",
       "        'xinty', 'book_value_yield', 'short_debtq', 'oibdpy', 'seq4',\n",
       "        'cheq', 'miiy', 'pretret_earnatq', 'epspiq', 'debt_invcapq',\n",
       "        'cash_ratioq', 'lagseq4', 'ibcy', 'rect_actq', 'ibcomq', 'req',\n",
       "        'cf_yield', 'cshoq', 'buy_back_yield', 'cshfdq', 'inv_turnq',\n",
       "        'roaq', 'lctq4', 'cash_conversionq', 'lt_debtq', 'pe_exiq',\n",
       "        'intcovq'], dtype=object),\n",
       " array(['epsfxq', 'cfo-per-share', 'totdebt_invcapq', 'oancfy_q', 'oepsxy',\n",
       "        'ibq', 'lctq', 'lctq4', 'cash_conversionq', 'revty', 'epspiq',\n",
       "        'bmq', 'intcovq', 'lt_ppentq', 'roceq', 'req', 'equity_invcapq',\n",
       "        'capeiq', 'piq', 'debt_ebitdaq', 'opcfq', 'at_turnq', 'nopiq',\n",
       "        'roaq', 'debt_assetsq', 'txpdy', 'oancfy', 'rectq', 'pretret_noaq',\n",
       "        'book_value_per_share', 'prcraq', 'dpcq', 'dpcy', 'niq', 'ibcq',\n",
       "        'gpmq', 'fqtr_2', 'ceqq', 'ibcy', 'icaptq', 'gprofq', 'ceq4',\n",
       "        'aftret_equityq', 'revtq', 'xsgay', 'opmadq', 'aftret_eqq', 'spiq',\n",
       "        'opmbdq', 'cfmq', 'cshoq', 'prccq', 'rect_turnq', 'curr_debtq',\n",
       "        'inv_turnq', 'cash_ltq', 'cshopq', 'lagppent_alt4', 'epsfiq',\n",
       "        'ibadj12', 'dvy', 'chechy', 'be4', 'pe_exiq', 'cstkq', 'dprq',\n",
       "        'cshprq', 'aftret_invcapxq', 'atq', 'xinty', 'intcov_ratioq',\n",
       "        'pcfq', 'fqtr_3', 'capxq', 'rd_saleq', 'int_debtq', 'accrualq',\n",
       "        'xsgaq', 'cf_yield', 'oibdpq', 'dltt_beq', 'at5', 'pe_incq',\n",
       "        'fcf_csfhdq', 'epsx12', 'invtq', 'fcf_ocfq', 'cogsy', 'beq',\n",
       "        'dlcq', 'lagppent4', 'psq', 'debt_invcapq', 'pay_turnq',\n",
       "        'market_cap', 'txtq', 'ibcomq', 'lagseq4', 'cshfdq', 'de_ratioq',\n",
       "        'debt_atq', 'oepsxq', 'invt_actq', 'ocf_lctq', 'at4', 'ppentq',\n",
       "        'roeq', 'oeps12', 'debt_capitalq', 'lagbe4', 'book_value_yield'],\n",
       "       dtype=object),\n",
       " array(['debt_ebitdaq', 'niq', 'ibadjq', 'beq', 'epspi12', 'opcfq',\n",
       "        'cash_ratioq', 'lctq4', 'ibcy', 'roaq', 'cf_yield',\n",
       "        'cfo-per-share', 'totdebt_invcapq', 'at_turnq', 'yearly_sales',\n",
       "        'dlttq', 'epsfxq', 'fcf_yield', 'nopiq', 'chechy', 'xoprq',\n",
       "        'oeps12', 'gprofq', 'book_value_per_share', 'opepsq', 'oepsxq',\n",
       "        'debt_invcapq', 'inv_turnq', 'lagbe4', 'oepsxy', 'lagseq4', 'atq',\n",
       "        'bmq', 'lagicapt4', 'oibdpy', 'prcraq', 'epspxq', 'xintq',\n",
       "        'equity_invcapq', 'seqq', 'cash_ltq', 'debt_assetsq', 'txpdy',\n",
       "        'epsfiq', 'pay_turnq', 'fcf_ocfq', 'profit_lctq', 'rect_turnq',\n",
       "        'invt_actq', 'oancfy_q', 'debt_atq', 'cogsy', 'opmadq', 'miiy',\n",
       "        'accrualq', 'opmbdq', 'cheq', 'quick_ratioq', 'rectq', 'epsx12',\n",
       "        'dpcy', 'rect_actq', 'oancfy', 'sale_invcapq', 'fqtr_2', 'miiq',\n",
       "        'ceqq', 'lt_ppentq', 'csh12q', 'cfmq', 'pretret_earnatq',\n",
       "        'pretret_noaq', 'epspiq', 'cstkq', 'invtq', 'intcov_ratioq',\n",
       "        'dvpspq', 'pcfq', 'fcf_csfhdq', 'at4', 'market_cap', 'sale_nwcq',\n",
       "        'cshfdq', 'lctq', 'int_totdebtq', 'de_ratioq', 'mibq', 'lagppent4',\n",
       "        'int_debtq', 'pe_op_basicq', 'fqtr_4', 'oepf12', 'xrdy', 'req',\n",
       "        'lagppent_alt4', 'pe_exiq', 'cogsq', 'capxq', 'evmq',\n",
       "        'debt_capitalq', 'gpmq', 'dlcq', 'ibcomy', 'dvq', 'dprq', 'psq',\n",
       "        'oiadpq'], dtype=object),\n",
       " array(['oancfy', 'debt_assetsq', 'epsfxq', 'epspiq', 'fqtr_2',\n",
       "        'intcov_ratioq', 'lctq', 'chechy', 'ibcomy', 'pretret_earnatq',\n",
       "        'book_value_per_share', 'revtq', 'ibadj12', 'cf_yield', 'oancfy_q',\n",
       "        'gprofq', 'fcf_yield', 'dpq', 'capxq', 'cfo-per-share',\n",
       "        'lt_ppentq', 'ibcomq', 'debt_invcapq', 'oepsxy', 'beq', 'cash_ltq',\n",
       "        'dprq', 'prcraq', 'debt_atq', 'xsgaq', 'actq', 'dltry', 'lctq4',\n",
       "        'at4', 'epsfi12', 'cfmq', 'piq', 'xintq', 'ceqq', 'dltisy',\n",
       "        'lagicapt4', 'req', 'roaq', 'evmq', 'epspxq', 'sale_nwcq', 'niq',\n",
       "        'miiq', 'invt_actq', 'rd_saleq', 'market_cap', 'ltq', 'curr_debtq',\n",
       "        'dvpq', 'ibcq', 'lagseq4', 'capeiq', 'opepsq', 'fqtr_4',\n",
       "        'rect_turnq', 'opcfq', 'capital_ratioq', 'pay_turnq', 'aftret_eqq',\n",
       "        'roeq', 'debt_capitalq', 'cshopq', 'atq', 'txpdy', 'dpcq',\n",
       "        'epspi12', 'ibadjq', 'quick_ratioq', 'profit_lctq', 'apq',\n",
       "        'oibdpy', 'opmbdq', 'xinty', 'oepf12', 'fcf_csfhdq', 'roceq',\n",
       "        'lagppent_alt4', 'cash_conversionq', 'csh12q', 'lt_debtq',\n",
       "        'cash_ratioq', 'oibdpq', 'cogsq', 'oepsxq', 'fqtr_3', 'miiy',\n",
       "        'xrdy', 'dltt_beq', 'sale_invcapq', 'ppentq', 'rectq', 'npmq',\n",
       "        'totdebt_invcapq', 'prccq', 'cheq', 'txditcq', 'opmadq', 'bmq',\n",
       "        'ibcy', 'epsf12', 'gpmq', 'cogsy', 'oiadpq', 'oeps12'],\n",
       "       dtype=object),\n",
       " array(['fcf_yield', 'oancfy', 'rect_actq', 'cfo-per-share',\n",
       "        'debt_capitalq', 'niq', 'lctq', 'debt_assetsq', 'ibadjq', 'lctq4',\n",
       "        'revtq', 'debt_ebitdaq', 'ibcomy', 'cf_yield', 'epsfiq',\n",
       "        'lt_ppentq', 'oepsxy', 'ibq', 'oancfy_q', 'ibcy', 'epsfxq',\n",
       "        'epspxq', 'roeq', 'epspiq', 'apq', 'chechy', 'totdebt_invcapq',\n",
       "        'rect_turnq', 'revty', 'rectq', 'lagppent_alt4', 'inv_turnq',\n",
       "        'de_ratioq', 'gprofq', 'cfmq', 'oepsxq', 'roaq', 'dlttq', 'invtq',\n",
       "        'opcfq', 'evmq', 'cogsq', 'ocf_lctq', 'pay_turnq', 'xoprq',\n",
       "        'pretret_earnatq', 'xinty', 'oibdpy', 'nopiq', 'quick_ratioq',\n",
       "        'book_value_yield', 'short_debtq', 'dpcy', 'be4', 'sale_nwcq',\n",
       "        'beq', 'piq', 'lagppent4', 'ceq4', 'curr_ratioq', 'curr_debtq',\n",
       "        'bmq', 'pretret_noaq', 'ibcomq', 'pcfq', 'debt_atq', 'fcf_csfhdq',\n",
       "        'profit_lctq', 'fqtr_2', 'cash_conversionq', 'req', 'sic_6020',\n",
       "        'opepsq', 'xintq', 'dltt_beq', 'at5', 'icaptq', 'int_debtq',\n",
       "        'capxq', 'at4', 'cshoq', 'txpq', 'pe_op_basicq', 'capital_ratioq',\n",
       "        'at_turnq', 'prccq', 'pe_incq', 'ptpmq', 'intcovq', 'csh12q',\n",
       "        'epspi12', 'ibcq', 'invt_actq', 'cash_ltq', 'dlcq', 'accrualq',\n",
       "        'lagbe4', 'psq', 'epsx12', 'txditcq', 'aftret_eqq', 'lt_debtq',\n",
       "        'ppentq', 'xsgaq', 'fqtr_4', 'dltry', 'epsfi12', 'cstkq',\n",
       "        'book_value_per_share', 'equity_invcapq', 'capxy', 'intcov_ratioq',\n",
       "        'pe_exiq', 'opmbdq', 'sale_equityq', 'capeiq', 'txpdy', 'oeps12',\n",
       "        'fcf_ocfq', 'pe_op_dilq', 'opmadq', 'oiadpq', 'buy_back_yield',\n",
       "        'cheq', 'xrdy', 'dprq', 'yearly_sales', 'int_totdebtq', 'xsgay',\n",
       "        'prcraq', 'ceqq', 'dvq', 'dltisy', 'atq', 'seq4', 'oibdpq', 'gpmq',\n",
       "        'dvpq', 'market_cap', 'cash_debtq', 'seqq', 'lagseq4', 'fqtr_1',\n",
       "        'lagicapt4', 'roceq', 'debt_invcapq', 'epsf12', 'cshopq', 'actq',\n",
       "        'dpq', 'ibadj12', 'rd_saleq', 'cshprq', 'txtq', 'miiy', 'dpcq',\n",
       "        'aftret_equityq', 'mibq', 'cogsy', 'xrdq', 'oepf12', 'dvpspq',\n",
       "        'spcsrc_C', 'sale_invcapq', 'npmq', 'dvy', 'cshiq', 'ltq'],\n",
       "       dtype=object),\n",
       " array(['ibcomy', 'de_ratioq', 'aftret_eqq', 'ibcomq', 'debt_ebitdaq',\n",
       "        'gpmq', 'pe_exiq', 'xsgaq', 'aftret_equityq', 'dpcy', 'oancfy',\n",
       "        'cfo-per-share', 'dvpspq', 'txpq', 'profit_lctq', 'oepsxy',\n",
       "        'fcf_yield', 'xinty', 'pay_turnq', 'rectq', 'oibdpy', 'dvy',\n",
       "        'epsfi12', 'quick_ratioq', 'dlttq', 'market_cap', 'accrualq',\n",
       "        'rect_turnq', 'beq', 'actq', 'cash_debtq', 'sale_invcapq',\n",
       "        'prcraq', 'aftret_invcapxq', 'dvpq', 'dprq', 'xintq',\n",
       "        'sale_equityq', 'cash_ratioq', 'epsf12', 'bmq', 'pcfq', 'saleq',\n",
       "        'intcov_ratioq', 'ibadj12', 'lagppent4', 'ceqq', 'invtq',\n",
       "        'lt_ppentq', 'curr_ratioq', 'book_value_per_share', 'xidoy',\n",
       "        'xrdq', 'nopiq', 'ltq', 'lt_debtq', 'debt_invcapq',\n",
       "        'equity_invcapq', 'oepf12', 'lagppent_alt4', 'cshfdq', 'atq',\n",
       "        'ceq4', 'epsx12', 'icaptq', 'capeiq', 'pretret_noaq', 'dltry',\n",
       "        'curr_debtq', 'int_totdebtq', 'txpdy', 'cash_conversionq', 'capxy',\n",
       "        'opmbdq', 'yearly_sales', 'short_debtq', 'opcfq', 'debt_capitalq',\n",
       "        'evmq', 'epsfxq', 'revtq', 'sale_nwcq', 'chechy', 'oiadpq',\n",
       "        'oepsxq', 'rd_saleq', 'invt_actq', 'dpcq', 'cfmq', 'dpq',\n",
       "        'pe_incq', 'npmq', 'debt_atq', 'opmadq', 'cshopq', 'epsfiq',\n",
       "        'miiy', 'oeps12'], dtype=object),\n",
       " array(['oepsxy', 'cf_yield', 'oancfy', 'fcf_csfhdq', 'debt_assetsq',\n",
       "        'fcf_yield', 'spcsrc_C', 'revty', 'ibcomy', 'roeq', 'ibcy', 'bmq',\n",
       "        'actq', 'de_ratioq', 'ibq', 'ptpmq', 'debt_ebitdaq', 'dlcq',\n",
       "        'debt_capitalq', 'cfmq', 'niq', 'npmq', 'sale_invcapq', 'fqtr_2',\n",
       "        'profit_lctq', 'epspiq', 'rect_actq', 'epsx12', 'cash_ltq', 'be4',\n",
       "        'rectq', 'book_value_yield', 'gprofq', 'oancfy_q', 'cfo-per-share',\n",
       "        'chechy', 'aftret_eqq', 'beq', 'debt_atq', 'market_cap', 'opcfq',\n",
       "        'equity_invcapq', 'ocf_lctq', 'dvy', 'dltry', 'ltq',\n",
       "        'lagppent_alt4', 'pretret_noaq', 'oeps12', 'sic_6020', 'ibcq',\n",
       "        'capxy', 'accrualq', 'roaq', 'invt_actq', 'revtq', 'sale_nwcq',\n",
       "        'pe_incq', 'lagppent4', 'oepsxq', 'opepsq', 'lctq4', 'saleq',\n",
       "        'cheq', 'epspxq', 'dltt_beq', 'xsgaq', 'req', 'prccq',\n",
       "        'quick_ratioq', 'txditcq', 'capital_ratioq', 'totdebt_invcapq',\n",
       "        'capxq', 'intcov_ratioq', 'lagseq4', 'pcfq', 'xinty',\n",
       "        'pe_op_basicq', 'pe_op_dilq', 'atq', 'dprq', 'epsfiq', 'capeiq',\n",
       "        'epspi12', 'xrdy', 'opmbdq', 'lt_debtq', 'txdbq', 'txpq', 'ceq4',\n",
       "        'at5', 'cogsq', 'ibadjq', 'short_debtq', 'cshfdq', 'dlcchy',\n",
       "        'ibadj12', 'invtq', 'fqtr_1', 'epsf12', 'txtq', 'curr_ratioq',\n",
       "        'piq', 'int_totdebtq', 'cash_conversionq', 'dlttq', 'cshiq',\n",
       "        'aftret_invcapxq', 'dltisy', 'cash_ratioq', 'oibdpy',\n",
       "        'pretret_earnatq', 'cshopq', 'lt_ppentq', 'mibq', 'epsfxq',\n",
       "        'aftret_equityq', 'dpcq', 'cshprq', 'csh12q', 'int_debtq', 'evmq',\n",
       "        'dpcy', 'oepf12', 'xoprq', 'miiy', 'sale_equityq', 'ppentq',\n",
       "        'rect_turnq', 'curr_debtq', 'fcf_ocfq', 'at_turnq', 'epsfi12',\n",
       "        'intcovq', 'icaptq', 'seq4', 'cshoq', 'opmadq', 'txpdy', 'at4',\n",
       "        'lctq', 'xsgay', 'pay_turnq', 'gpmq', 'rd_saleq', 'apq', 'fqtr_4',\n",
       "        'book_value_per_share', 'buy_back_yield', 'xintq', 'lagicapt4',\n",
       "        'pe_exiq', 'ibcomq', 'oibdpq'], dtype=object),\n",
       " array(['oibdpy', 'at_turnq', 'cfmq', 'oancfy', 'intcovq', 'prccq',\n",
       "        'revty', 'rectq', 'fcf_csfhdq', 'ceq4', 'at5', 'epsfiq',\n",
       "        'spcsrc_B-', 'actq', 'txpdy', 'saleq', 'opmbdq', 'pretret_noaq',\n",
       "        'oancfy_q', 'pcfq', 'bmq', 'aftret_eqq', 'dprq', 'ptpmq',\n",
       "        'accrualq', 'aftret_equityq', 'equity_invcapq', 'epspiq', 'oepsxy',\n",
       "        'dvy', 'debt_assetsq', 'cshfdq', 'oepsxq', 'oepf12', 'lagppent4',\n",
       "        'rd_saleq', 'pe_op_dilq', 'dvq', 'lt_ppentq', 'fqtr_2',\n",
       "        'de_ratioq', 'cf_yield', 'gpmq', 'invt_actq', 'roaq', 'req', 'ibq',\n",
       "        'curr_ratioq', 'cshiq', 'spcsrc_A', 'ibadj12', 'xrdy', 'fcf_yield',\n",
       "        'miiy', 'epspi12', 'ibcq', 'capeiq', 'lctq', 'dpcq', 'pe_incq',\n",
       "        'dpq', 'ceqq', 'cash_ltq', 'gprofq', 'oibdpq', 'seq4', 'fcf_ocfq',\n",
       "        'evmq', 'epsfi12', 'debt_atq', 'ltq', 'int_debtq', 'cash_ratioq',\n",
       "        'atq', 'profit_lctq', 'lagseq4', 'fqtr_1', 'rect_turnq', 'xidocy',\n",
       "        'dltisy', 'market_cap', 'ibcomq', 'pay_turnq', 'txtq',\n",
       "        'debt_capitalq', 'miiq', 'psq', 'dltry', 'inv_turnq', 'at4',\n",
       "        'debt_invcapq', 'epsf12', 'ibadjq', 'capxy', 'lctq4'], dtype=object),\n",
       " array(['fcf_yield', 'at_turnq', 'rect_turnq', 'fcf_csfhdq', 'ocf_lctq',\n",
       "        'debt_ebitdaq', 'lagppent_alt4', 'opcfq', 'totdebt_invcapq',\n",
       "        'fqtr_2', 'fqtr_3', 'lt_ppentq', 'cf_yield', 'oancfy', 'lctq',\n",
       "        'pretret_noaq', 'cash_conversionq', 'evmq', 'pcfq', 'npmq',\n",
       "        'prccq', 'epsfxq', 'roceq', 'inv_turnq', 'ceq4', 'lctq4',\n",
       "        'lagppent4', 'xsgay', 'intcov_ratioq', 'book_value_yield',\n",
       "        'debt_atq', 'curr_ratioq', 'fqtr_4', 'xsgaq', 'opmadq', 'teqq',\n",
       "        'chechy', 'xinty', 'quick_ratioq', 'at4', 'bmq', 'debt_invcapq',\n",
       "        'apq', 'fcf_ocfq', 'lagicapt4', 'cash_debtq', 'pe_incq', 'at5',\n",
       "        'cstkq', 'xoprq', 'ptpmq', 'ibcomy', 'dprq', 'req', 'lagbe4',\n",
       "        'txpq', 'oancfy_q', 'revtq', 'niq', 'cfo-per-share', 'ibq', 'beq',\n",
       "        'oeps12', 'capeiq', 'txtq', 'xintq', 'dvq', 'icaptq', 'psq',\n",
       "        'rd_saleq', 'cogsq', 'cogsy', 'txditcq', 'dlcq', 'revty',\n",
       "        'sale_nwcq', 'csh12q', 'fqtr_1', 'yearly_sales', 'be4', 'oibdpy',\n",
       "        'accrualq', 'epspiq', 'cshprq', 'capxy', 'aftret_invcapxq',\n",
       "        'int_totdebtq', 'spcsrc_B+', 'short_debtq', 'dlttq', 'ibadj12',\n",
       "        'ppentq', 'capital_ratioq', 'intcovq', 'ltq', 'dvpspq', 'oibdpq',\n",
       "        'market_cap', 'cash_ltq', 'pe_op_dilq', 'dltisy', 'int_debtq',\n",
       "        'debt_capitalq', 'sale_equityq', 'dvpq', 'book_value_per_share',\n",
       "        'txpdy', 'cshopq', 'pay_turnq', 'pretret_earnatq', 'epspi12',\n",
       "        'saleq', 'xrdy', 'profit_lctq', 'atq', 'cfmq', 'cheq', 'de_ratioq',\n",
       "        'rect_actq', 'ibcq'], dtype=object),\n",
       " array(['pretret_noaq', 'fcf_yield', 'pe_op_dilq', 'cfo-per-share',\n",
       "        'cash_debtq', 'cf_yield', 'txtq', 'revtq', 'epsfiq', 'lctq4',\n",
       "        'fcf_csfhdq', 'book_value_per_share', 'curr_debtq', 'yearly_sales',\n",
       "        'actq', 'debt_ebitdaq', 'dlcq', 'epsfxq', 'cshiq', 'int_debtq',\n",
       "        'cogsq', 'cogsy', 'cshfdq', 'intcov_ratioq', 'lctq', 'prccq',\n",
       "        'xsgaq', 'de_ratioq', 'cash_ratioq', 'oancfy', 'short_debtq',\n",
       "        'capxq', 'seq4', 'chechy', 'revty', 'lt_debtq', 'capital_ratioq',\n",
       "        'gprofq', 'capxy', 'pay_turnq', 'totdebt_invcapq', 'xintq',\n",
       "        'intcovq', 'nopiq', 'xsgay', 'gpmq', 'xoprq', 'apq'], dtype=object),\n",
       " array(['ocf_lctq', 'cf_yield', 'fcf_yield', 'oancfy', 'prccq', 'fqtr_2',\n",
       "        'profit_lctq', 'ibcomy', 'lagbe4', 'oancfy_q', 'opcfq',\n",
       "        'cfo-per-share', 'intcovq', 'accrualq', 'capital_ratioq', 'xsgaq',\n",
       "        'debt_ebitdaq', 'teqq', 'actq', 'book_value_per_share',\n",
       "        'lt_ppentq', 'dpcy', 'capeiq', 'capxq', 'int_totdebtq', 'pcfq',\n",
       "        'lctq', 'intcov_ratioq', 'fcf_csfhdq', 'lagppent4', 'chechy',\n",
       "        'seqq', 'debt_invcapq', 'pe_op_dilq', 'ibcy', 'rect_turnq',\n",
       "        'at_turnq', 'revtq', 'dvq', 'totdebt_invcapq', 'piq', 'market_cap',\n",
       "        'dvy', 'xrdy', 'dltry', 'rect_actq', 'cshiq', 'aftret_equityq',\n",
       "        'book_value_yield', 'oepsxy', 'dpq', 'bmq', 'gpmq', 'invt_actq',\n",
       "        'ibq', 'cshprq', 'txtq', 'sale_invcapq', 'cfmq', 'sale_nwcq',\n",
       "        'invtq', 'cash_ltq', 'xrdq', 'int_debtq', 'txditcq',\n",
       "        'pretret_noaq', 'quick_ratioq', 'xsgay', 'dvpspq', 'fcf_ocfq',\n",
       "        'roeq', 'lctq4', 'be4', 'oeps12', 'inv_turnq', 'rd_saleq',\n",
       "        'epspi12', 'pe_exiq', 'rectq', 'revty', 'curr_debtq', 'pay_turnq',\n",
       "        'de_ratioq', 'buy_back_yield', 'epsf12', 'xoprq', 'pstkq',\n",
       "        'oibdpq', 'yearly_sales', 'icaptq', 'ltq', 'debt_assetsq', 'cshoq',\n",
       "        'saleq', 'capxy', 'aftret_eqq', 'dltisy', 'lagseq4', 'epspxq',\n",
       "        'oiadpq', 'dpcq', 'apq', 'nopiq', 'gprofq', 'req', 'seq4',\n",
       "        'pe_incq', 'fqtr_3', 'npmq', 'cash_ratioq', 'cshfdq', 'lt_debtq',\n",
       "        'epsx12', 'epspiq', 'lagppent_alt4', 'spiq', 'opmadq', 'ppentq',\n",
       "        'at4', 'xintq', 'dlttq', 'opmbdq', 'evmq', 'pe_op_basicq', 'cheq',\n",
       "        'txpq', 'ptpmq', 'csh12q', 'epsfi12', 'opepsq', 'at5', 'txpdy',\n",
       "        'atq', 'beq', 'cogsq', 'ibadjq', 'lagicapt4', 'fqtr_1', 'miiy',\n",
       "        'cogsy', 'ibcomq', 'cshopq', 'dlcq', 'debt_atq', 'debt_capitalq',\n",
       "        'ceq4', 'spcsrc_B-', 'dltt_beq', 'equity_invcapq',\n",
       "        'aftret_invcapxq', 'ibadj12', 'roaq', 'ibcq', 'epsfxq', 'niq',\n",
       "        'sale_equityq', 'cash_debtq', 'dprq', 'roceq', 'pretret_earnatq'],\n",
       "       dtype=object),\n",
       " array(['cf_yield', 'oancfy', 'pcfq', 'fcf_yield', 'fcf_csfhdq',\n",
       "        'dltt_beq', 'opcfq', 'profit_lctq', 'fqtr_2', 'cstkq', 'prccq',\n",
       "        'lt_ppentq', 'lagppent_alt4', 'fqtr_4', 'sale_invcapq', 'lagseq4',\n",
       "        'capxy', 'ibcomy', 'invt_actq', 'revty', 'equity_invcapq', 'dpcq',\n",
       "        'actq', 'ltq', 'at_turnq', 'market_cap', 'debt_assetsq', 'lctq',\n",
       "        'req', 'curr_ratioq', 'ibadj12', 'fcf_ocfq', 'rect_turnq',\n",
       "        'oepsxy', 'oancfy_q', 'cshiq', 'revtq', 'niq', 'txpdy', 'ibq',\n",
       "        'txtq', 'efftaxq', 'oiadpq', 'ibcq', 'cshfdq', 'opepsq', 'seqq',\n",
       "        'pe_incq', 'cheq', 'lagbe4', 'epspxq', 'opmadq', 'xsgaq', 'optdrq',\n",
       "        'bmq', 'epspiq', 'oeps12', 'fqtr_3', 'chechy', 'xrdy',\n",
       "        'book_value_yield', 'totdebt_invcapq', 'epsx12', 'int_totdebtq',\n",
       "        'fqtr_1', 'piq', 'oibdpq', 'at4', 'lagppent4', 'miiq', 'npmq',\n",
       "        'capital_ratioq', 'cshoq', 'roaq', 'txditcq',\n",
       "        'book_value_per_share', 'invtq', 'intcov_ratioq', 'dpq', 'pe_exiq',\n",
       "        'ocf_lctq', 'be4', 'roceq', 'cogsy', 'curr_debtq', 'rect_actq',\n",
       "        'opmbdq', 'beq', 'yearly_sales', 'spiq', 'prcraq', 'seq4', 'dvq',\n",
       "        'ibcy', 'cash_ratioq', 'cash_ltq', 'xoprq', 'aftret_invcapxq',\n",
       "        'cshprq', 'lctq4', 'cash_conversionq', 'oibdpy', 'gpmq', 'dvy',\n",
       "        'dlttq', 'xinty', 'evmq', 'dprq'], dtype=object),\n",
       " array(['oancfy_q', 'cfo-per-share', 'ibadjq', 'ibadj12', 'teqq',\n",
       "        'fcf_yield', 'curr_debtq', 'nopiq', 'oibdpq', 'int_totdebtq',\n",
       "        'saleq', 'debt_assetsq', 'dprq', 'pe_incq', 'book_value_yield',\n",
       "        'oeps12', 'roceq', 'fcf_csfhdq', 'inv_turnq', 'aftret_equityq',\n",
       "        'cshiq', 'epspiq', 'txtq', 'ptpmq', 'rect_turnq', 'chechy',\n",
       "        'xsgay', 'xsgaq', 'oiadpq', 'invt_actq', 'seqq', 'gprofq',\n",
       "        'ppentq', 'capxy', 'ceq4', 'be4', 'cheq', 'aftret_eqq', 'lagbe4',\n",
       "        'revtq', 'lagppent_alt4', 'rectq', 'cash_ltq', 'epspi12',\n",
       "        'lagppent4', 'atq', 'at_turnq', 'csh12q', 'dltisy', 'opmadq',\n",
       "        'oepsxq', 'capeiq', 'epsfiq', 'epspxq'], dtype=object),\n",
       " array(['fqtr_2', 'fcf_yield', 'opcfq', 'accrualq', 'dprq', 'oancfy',\n",
       "        'prccq', 'teqq', 'ibcomy', 'cf_yield', 'lt_ppentq', 'pcfq', 'dpcq',\n",
       "        'xintq', 'de_ratioq', 'epsfiq', 'fcf_csfhdq', 'market_cap', 'bmq',\n",
       "        'fcf_ocfq', 'ocf_lctq', 'apq', 'req', 'debt_ebitdaq', 'oepsxq',\n",
       "        'capxq', 'totdebt_invcapq', 'rd_saleq', 'cogsq', 'ptpmq',\n",
       "        'cash_debtq', 'efftaxq', 'invtq', 'intcov_ratioq', 'oancfy_q',\n",
       "        'lagppent_alt4', 'optdrq', 'rect_turnq', 'intcovq', 'lt_debtq',\n",
       "        'int_debtq', 'lagbe4', 'oiadpq', 'capxy', 'curr_ratioq', 'dvpspq',\n",
       "        'cfmq', 'cshoq', 'ceq4', 'cfo-per-share', 'seq4', 'dvy',\n",
       "        'book_value_yield', 'opmbdq', 'dpcy', 'equity_invcapq', 'oeps12',\n",
       "        'sale_invcapq', 'gpmq', 'int_totdebtq', 'icaptq', 'opmadq', 'seqq',\n",
       "        'atq', 'debt_assetsq', 'lagppent4', 'cash_conversionq',\n",
       "        'lagicapt4', 'saleq', 'revtq', 'be4', 'cshfdq', 'cogsy', 'chechy',\n",
       "        'lctq', 'quick_ratioq', 'sale_nwcq', 'nopiq', 'dlcq', 'actq',\n",
       "        'psq', 'pe_exiq', 'fqtr_4', 'csh12q', 'cstkq', 'npmq', 'spcsrc_B-',\n",
       "        'at5', 'txtq', 'dpq', 'beq', 'oepsxy', 'debt_atq', 'miiy', 'ibcy',\n",
       "        'ltq', 'dlttq', 'epspiq', 'buy_back_yield', 'at_turnq', 'ibcq',\n",
       "        'debt_capitalq', 'sale_equityq', 'epspi12', 'cshopq', 'oibdpy',\n",
       "        'rect_actq', 'ibcomq', 'epsx12', 'ibadjq', 'aftret_eqq', 'dvq',\n",
       "        'xrdq', 'txpq', 'xoprq', 'ppentq', 'rectq', 'profit_lctq', 'ibq',\n",
       "        'cheq', 'yearly_sales', 'niq', 'txpdy', 'capeiq', 'cash_ltq',\n",
       "        'pretret_earnatq', 'curr_debtq', 'piq', 'pay_turnq', 'cash_ratioq',\n",
       "        'roaq', 'evmq', 'oepf12', 'pe_incq', 'lctq4', 'txditcq',\n",
       "        'inv_turnq', 'epsfi12', 'cshiq', 'oibdpq', 'epsfxq', 'xsgaq',\n",
       "        'miiq', 'ceqq'], dtype=object),\n",
       " array(['fqtr_2', 'fcf_csfhdq', 'oancfy', 'cf_yield', 'opmbdq', 'oibdpy',\n",
       "        'xsgay', 'pay_turnq', 'lagicapt4', 'oancfy_q', 'capxq',\n",
       "        'pretret_noaq', 'bmq', 'opcfq', 'revty', 'epsf12', 'oiadpq',\n",
       "        'fqtr_4', 'epspxq', 'ibcy', 'oepsxy', 'fcf_yield', 'efftaxq',\n",
       "        'dpcy', 'invtq', 'dltisy', 'cshiq', 'dvpspq', 'dpcq', 'req',\n",
       "        'txpdy', 'ppentq', 'teqq', 'totdebt_invcapq', 'at4', 'seqq',\n",
       "        'lagppent4', 'ceq4', 'book_value_yield', 'invt_actq', 'cfmq',\n",
       "        'ocf_lctq', 'short_debtq', 'opmadq', 'epsfxq', 'ptpmq', 'actq',\n",
       "        'ceqq', 'capxy', 'cash_conversionq', 'int_totdebtq', 'roeq',\n",
       "        'pcfq', 'lctq4', 'niq', 'dltt_beq', 'epsx12', 'lt_debtq', 'xoprq',\n",
       "        'epspiq', 'oepsxq', 'lagbe4', 'beq', 'xintq', 'roaq', 'oibdpq',\n",
       "        'cfo-per-share', 'debt_atq', 'roceq', 'debt_invcapq', 'ibq', 'be4',\n",
       "        'quick_ratioq', 'nopiq', 'xsgaq', 'book_value_per_share', 'cheq',\n",
       "        'chechy', 'txtq', 'dltry', 'lt_ppentq', 'debt_ebitdaq',\n",
       "        'aftret_invcapxq', 'cshprq', 'xinty', 'piq', 'capital_ratioq',\n",
       "        'epspi12'], dtype=object),\n",
       " array(['cf_yield', 'ceq4', 'cfo-per-share', 'fqtr_2', 'profit_lctq',\n",
       "        'xinty', 'teqq', 'lt_ppentq', 'lagbe4', 'npmq', 'cshopq', 'beq',\n",
       "        'de_ratioq', 'gprofq', 'apq', 'gpmq', 'oibdpq', 'ibcomy', 'cheq',\n",
       "        'opcfq', 'revtq', 'cogsy', 'dvpspq', 'debt_assetsq',\n",
       "        'sale_equityq', 'aftret_invcapxq', 'book_value_per_share', 'seqq',\n",
       "        'pay_turnq', 'roaq', 'lctq', 'miiy', 'short_debtq', 'lagppent4',\n",
       "        'lagppent_alt4', 'xsgay', 'be4', 'aftret_equityq', 'xoprq',\n",
       "        'epsx12', 'epsf12', 'oeps12', 'rectq', 'opepsq', 'at_turnq',\n",
       "        'lagseq4', 'ocf_lctq', 'at4', 'psq', 'oibdpy', 'sale_nwcq',\n",
       "        'csh12q', 'intcov_ratioq', 'intcovq', 'int_debtq',\n",
       "        'buy_back_yield', 'debt_atq', 'dlttq', 'cstkq', 'curr_ratioq',\n",
       "        'dprq', 'oancfy', 'ibcy', 'epsfi12', 'pe_incq', 'oepf12', 'oiadpq',\n",
       "        'xsgaq', 'dpcq', 'atq', 'pe_op_basicq', 'cfmq', 'cash_ltq',\n",
       "        'curr_debtq', 'at5', 'sic_6798', 'pstkq', 'nopiq', 'ptpmq',\n",
       "        'pe_op_dilq', 'actq', 'cshoq', 'pe_exiq', 'market_cap', 'cshfdq',\n",
       "        'dltry', 'dltt_beq', 'invt_actq', 'epsfxq', 'txditcq', 'invtq',\n",
       "        'debt_invcapq', 'accrualq', 'cash_ratioq', 'ltq',\n",
       "        'book_value_yield', 'rect_turnq', 'chechy', 'piq', 'prcraq',\n",
       "        'debt_ebitdaq', 'dpq', 'req', 'epsfiq', 'epspiq', 'lagicapt4',\n",
       "        'xrdq', 'opmbdq', 'cogsq', 'ibadj12', 'epspi12', 'spcsrc_A',\n",
       "        'dltisy', 'pretret_earnatq', 'cash_debtq', 'capeiq',\n",
       "        'capital_ratioq', 'seq4'], dtype=object),\n",
       " array(['oancfy', 'cf_yield', 'fcf_csfhdq', 'icaptq', 'opcfq',\n",
       "        'cash_conversionq', 'ceq4', 'profit_lctq', 'oibdpy', 'dprq',\n",
       "        'rect_turnq', 'book_value_per_share', 'lagicapt4', 'revtq', 'ibcy',\n",
       "        'teqq', 'xinty', 'dpcq', 'ibcomy', 'pcfq', 'be4', 'cash_ratioq',\n",
       "        'dpcy', 'book_value_yield', 'ibadj12', 'opmadq', 'gpmq', 'dvpspq',\n",
       "        'cogsq', 'de_ratioq', 'ocf_lctq', 'piq', 'cstkq', 'revty',\n",
       "        'cshfdq', 'pay_turnq', 'lagbe4', 'lctq', 'inv_turnq', 'txpdy',\n",
       "        'cfmq', 'epspiq', 'aftret_equityq', 'fqtr_2', 'bmq', 'ppentq',\n",
       "        'dvy', 'npmq', 'short_debtq', 'xsgay', 'yearly_sales', 'lt_ppentq',\n",
       "        'xoprq', 'aftret_invcapxq', 'sector_code_850.0', 'niq', 'cogsy',\n",
       "        'sale_nwcq', 'invtq', 'ceqq', 'ibcomq', 'accrualq',\n",
       "        'pretret_earnatq', 'fqtr_4', 'efftaxq', 'market_cap', 'cshiq',\n",
       "        'chechy', 'pe_op_basicq', 'seq4', 'txpq', 'epspxq', 'lt_debtq',\n",
       "        'cash_ltq', 'ibq', 'prcraq', 'roceq', 'nopiq', 'capital_ratioq',\n",
       "        'equity_invcapq', 'prccq', 'dltry', 'csh12q', 'oancfy_q',\n",
       "        'epspi12', 'dpq', 'beq', 'oiadpq', 'sale_equityq', 'atq', 'roaq',\n",
       "        'epsfxq', 'oepsxy', 'opepsq', 'dvq', 'int_totdebtq', 'txdbq',\n",
       "        'lagppent4', 'debt_atq', 'optdrq', 'capeiq', 'pe_incq', 'oepsxq',\n",
       "        'dltisy', 'xintq', 'totdebt_invcapq', 'rectq', 'quick_ratioq',\n",
       "        'req', 'capxy', 'opmbdq', 'apq', 'gprofq', 'psq', 'aftret_eqq',\n",
       "        'rd_saleq', 'cshopq', 'int_debtq', 'ibcq', 'oibdpq', 'epsfiq',\n",
       "        'fcf_ocfq', 'intcov_ratioq', 'seqq', 'lctq4', 'roeq', 'pe_exiq',\n",
       "        'debt_capitalq', 'oeps12', 'buy_back_yield', 'xsgaq',\n",
       "        'debt_invcapq', 'spiq', 'ltq', 'capxq', 'fcf_yield', 'cshprq',\n",
       "        'actq', 'dlcchy', 'miiq', 'at_turnq', 'epsfi12', 'debt_assetsq',\n",
       "        'spcsrc_A', 'xrdy', 'lagppent_alt4', 'dlcq', 'at4',\n",
       "        'cfo-per-share', 'txditcq', 'curr_debtq', 'invt_actq', 'dlttq',\n",
       "        'debt_ebitdaq', 'pe_op_dilq', 'cash_debtq', 'cheq'], dtype=object),\n",
       " array(['teqq', 'pay_turnq', 'at_turnq', 'opcfq', 'pcfq', 'cheq', 'dprq',\n",
       "        'lt_debtq', 'revtq', 'prccq', 'epspiq', 'dvq', 'cshiq', 'apq',\n",
       "        'debt_ebitdaq', 'optdrq', 'oancfy', 'ibcomy', 'sale_nwcq',\n",
       "        'ibcomq', 'cash_debtq', 'capeiq', 'dvpspq', 'lt_ppentq',\n",
       "        'sic_6020', 'capxq', 'cfo-per-share', 'sic_6798', 'ibadjq',\n",
       "        'cf_yield', 'seqq', 'lctq4', 'dltisy', 'fcf_yield', 'ocf_lctq',\n",
       "        'txpdy', 'invtq', 'revty', 'cshprq', 'equity_invcapq', 'int_debtq',\n",
       "        'lagseq4', 'roaq', 'oiadpq', 'intcov_ratioq', 'yearly_sales',\n",
       "        'rect_turnq', 'rect_actq', 'beq', 'fqtr_4', 'efftaxq', 'lagbe4',\n",
       "        'be4', 'cash_ltq', 'fcf_csfhdq', 'roceq', 'dvy', 'oibdpy',\n",
       "        'oancfy_q', 'cshopq', 'at5', 'accrualq', 'spiq', 'capital_ratioq',\n",
       "        'fqtr_1', 'market_cap', 'invt_actq', 'inv_turnq', 'buy_back_yield',\n",
       "        'debt_invcapq', 'lagicapt4', 'atq', 'book_value_yield',\n",
       "        'short_debtq', 'pe_op_dilq', 'fcf_ocfq', 'pe_incq', 'epsfiq',\n",
       "        'cash_ratioq', 'epsf12', 'saleq', 'epsfi12', 'req', 'seq4',\n",
       "        'dlttq', 'aftret_eqq', 'ptpmq', 'xinty', 'oeps12', 'rd_saleq',\n",
       "        'oepf12', 'ceq4', 'ppentq', 'dlcq', 'txpq', 'lagppent_alt4',\n",
       "        'txditcq', 'curr_debtq', 'opepsq', 'pretret_noaq', 'ibq',\n",
       "        'quick_ratioq', 'bmq', 'prcraq', 'ibcy', 'piq', 'cshoq', 'txtq',\n",
       "        'de_ratioq', 'debt_atq'], dtype=object),\n",
       " array(['oancfy', 'fcf_yield', 'oancfy_q', 'capxy', 'lt_debtq', 'txtq',\n",
       "        'ceqq', 'market_cap', 'cogsy', 'cfo-per-share', 'at_turnq',\n",
       "        'fqtr_4', 'dvpspq', 'sale_equityq', 'atq', 'cash_conversionq',\n",
       "        'sale_invcapq', 'apq', 'lagseq4', 'accrualq', 'csh12q', 'cshoq',\n",
       "        'lagppent_alt4', 'fcf_csfhdq', 'ibcq', 'icaptq', 'debt_assetsq',\n",
       "        'niq', 'ppentq', 'buy_back_yield', 'capital_ratioq', 'cstkq',\n",
       "        'lagbe4', 'txpdy', 'ibcy', 'cshiq', 'epspiq', 'opmbdq',\n",
       "        'sale_nwcq', 'oibdpq', 'cheq', 'cshfdq', 'pe_op_dilq', 'pe_exiq',\n",
       "        'at4', 'prccq', 'revty', 'ibcomq', 'xoprq', 'aftret_eqq', 'capeiq',\n",
       "        'ptpmq', 'teqq', 'invt_actq', 'aftret_invcapxq', 'cf_yield',\n",
       "        'cash_debtq', 'opmadq', 'xintq', 'npmq', 'spcsrc_B+', 'dpcy',\n",
       "        'dltisy', 'pcfq', 'oibdpy', 'cshprq', 'req', 'equity_invcapq',\n",
       "        'dprq', 'aftret_equityq', 'debt_capitalq', 'oepsxy', 'efftaxq',\n",
       "        'short_debtq', 'inv_turnq', 'bmq', 'oiadpq', 'ceq4', 'pay_turnq',\n",
       "        'rect_turnq', 'prcraq', 'fqtr_2', 'epsfi12', 'lagppent4',\n",
       "        'rd_saleq', 'capxq', 'dpq', 'beq', 'epsx12', 'yearly_sales',\n",
       "        'ocf_lctq', 'at5', 'seq4', 'cash_ltq', 'lctq4', 'oepsxq', 'ibcomy',\n",
       "        'int_debtq', 'xinty', 'invtq', 'lctq', 'actq', 'chechy',\n",
       "        'pretret_earnatq', 'book_value_yield', 'cfmq', 'rectq',\n",
       "        'intcov_ratioq', 'oeps12', 'rect_actq', 'seqq', 'epsf12'],\n",
       "       dtype=object),\n",
       " array(['fcf_csfhdq', 'fcf_yield', 'ppentq', 'dpcy', 'int_totdebtq', 'apq',\n",
       "        'lt_debtq', 'dvq', 'cash_conversionq', 'at_turnq', 'rect_turnq',\n",
       "        'fcf_ocfq', 'oepsxy', 'buy_back_yield', 'dpq', 'lt_ppentq', 'pcfq',\n",
       "        'oibdpq', 'lagbe4', 'opcfq', 'cheq', 'capxy', 'gpmq', 'dprq',\n",
       "        'sector_code_850.0', 'lagicapt4', 'debt_ebitdaq', 'epsx12',\n",
       "        'sale_invcapq', 'invtq', 'invt_actq', 'profit_lctq', 'cshprq',\n",
       "        'roaq', 'xoprq', 'cfmq', 'xsgaq', 'evmq', 'gprofq', 'cash_ratioq',\n",
       "        'at4', 'inv_turnq', 'oibdpy', 'oeps12', 'xinty', 'debt_atq',\n",
       "        'capital_ratioq', 'opmbdq', 'sale_nwcq', 'cf_yield', 'aftret_eqq',\n",
       "        'lagppent4', 'teqq', 'dpcq', 'sale_equityq', 'ceqq', 'lctq4',\n",
       "        'oiadpq', 'req', 'curr_ratioq', 'cfo-per-share', 'short_debtq',\n",
       "        'int_debtq', 'intcov_ratioq', 'debt_capitalq', 'txpq', 'de_ratioq',\n",
       "        'cshoq', 'fqtr_2', 'be4', 'ltq', 'opmadq', 'cshfdq', 'pay_turnq',\n",
       "        'cshopq', 'oancfy', 'cshiq', 'spiq', 'revtq', 'debt_assetsq',\n",
       "        'optdrq', 'cash_ltq', 'lagppent_alt4', 'yearly_sales', 'ibq',\n",
       "        'epspiq', 'ptpmq', 'equity_invcapq', 'npmq', 'txpdy', 'roeq',\n",
       "        'accrualq', 'ibadj12', 'aftret_equityq', 'nopiq', 'oancfy_q',\n",
       "        'xintq', 'xrdq', 'pe_op_dilq', 'dvy', 'chechy', 'epsfi12', 'cogsq',\n",
       "        'ocf_lctq', 'pe_incq', 'pe_exiq', 'dltt_beq', 'lctq', 'epsf12',\n",
       "        'ibcomy', 'opepsq', 'oepf12', 'piq', 'icaptq', 'aftret_invcapxq'],\n",
       "       dtype=object),\n",
       " array(['lt_ppentq', 'csh12q', 'oancfy', 'dvpspq', 'lagppent_alt4',\n",
       "        'rect_turnq', 'optdrq', 'lt_debtq', 'capxy', 'dltt_beq', 'xsgay',\n",
       "        'int_totdebtq', 'xinty', 'debt_invcapq', 'atq', 'npmq', 'ptpmq',\n",
       "        'fcf_csfhdq', 'ppentq', 'cshoq', 'oepsxy', 'pay_turnq', 'cheq',\n",
       "        'gpmq', 'sale_invcapq', 'accrualq', 'invt_actq', 'fcf_ocfq',\n",
       "        'pcfq', 'cogsy', 'cash_ratioq', 'revty', 'fqtr_1', 'dvy', 'icaptq',\n",
       "        'cash_conversionq', 'ocf_lctq', 'lagseq4', 'opmbdq', 'roceq',\n",
       "        'prccq', 'intcov_ratioq', 'fcf_yield', 'book_value_per_share',\n",
       "        'ibcomy', 'sic_6798', 'roeq', 'apq', 'chechy', 'buy_back_yield',\n",
       "        'cogsq', 'ibcy', 'ceq4', 'psq', 'opmadq', 'market_cap', 'oibdpq',\n",
       "        'book_value_yield', 'oibdpy', 'ltq', 'cshfdq', 'xoprq', 'dltry',\n",
       "        'debt_ebitdaq', 'ibadjq', 'at5', 'ibadj12', 'rectq',\n",
       "        'cfo-per-share', 'invtq', 'pe_op_basicq', 'xintq', 'lctq',\n",
       "        'profit_lctq', 'seq4', 'cash_ltq', 'ceqq', 'inv_turnq',\n",
       "        'int_debtq', 'cfmq', 'curr_debtq', 'debt_assetsq', 'gprofq', 'ibq',\n",
       "        'epspi12', 'actq', 'fqtr_3', 'sector_code_850.0', 'dvq', 'dpq',\n",
       "        'curr_ratioq', 'spcsrc_B+', 'epsfi12', 'txtq', 'dlcq', 'rect_actq',\n",
       "        'capeiq', 'txpq', 'pe_exiq', 'roaq', 'quick_ratioq',\n",
       "        'capital_ratioq', 'capxq', 'dprq', 'cash_debtq', 'dlttq', 'ibcq',\n",
       "        'short_debtq', 'cshopq', 'req', 'oeps12', 'txditcq', 'epspiq',\n",
       "        'opepsq', 'be4', 'spiq', 'oepsxq', 'beq', 'spcsrc_C',\n",
       "        'totdebt_invcapq', 'oancfy_q', 'xsgaq', 'intcovq', 'sale_nwcq',\n",
       "        'cf_yield', 'at_turnq', 'cshprq', 'xidoy', 'efftaxq',\n",
       "        'pretret_earnatq', 'pe_incq', 'epsfxq', 'lagppent4', 'epspxq',\n",
       "        'nopiq', 'lagbe4', 'yearly_sales'], dtype=object),\n",
       " array(['fcf_yield', 'intcovq', 'oancfy', 'fcf_ocfq', 'capxq', 'xinty',\n",
       "        'oancfy_q', 'revtq', 'cf_yield', 'curr_debtq', 'rect_turnq',\n",
       "        'xintq', 'ceq4', 'opmbdq', 'ptpmq', 'lagseq4', 'xsgaq', 'csh12q',\n",
       "        'lt_debtq', 'sale_equityq', 'equity_invcapq', 'dprq', 'at5',\n",
       "        'lt_ppentq', 'de_ratioq', 'int_debtq', 'cash_conversionq', 'cfmq',\n",
       "        'market_cap', 'oepsxy', 'rectq', 'accrualq', 'capxy', 'spcsrc_B+',\n",
       "        'teqq', 'cogsy', 'dpq', 'icaptq', 'spcsrc_A-', 'dpcq', 'lctq4',\n",
       "        'gprofq', 'dpcy', 'opcfq', 'roaq', 'saleq', 'apq', 'spcsrc_A',\n",
       "        'oibdpq', 'buy_back_yield', 'ibcq', 'pretret_earnatq', 'oeps12',\n",
       "        'txtq', 'capeiq', 'roeq', 'int_totdebtq', 'epspxq', 'actq',\n",
       "        'fcf_csfhdq', 'quick_ratioq', 'epspi12', 'capital_ratioq', 'cogsq',\n",
       "        'atq', 'npmq', 'fqtr_3', 'fqtr_1', 'txpdy', 'short_debtq', 'niq',\n",
       "        'lagppent_alt4', 'cash_ltq', 'at_turnq', 'epsfiq',\n",
       "        'aftret_invcapxq', 'lagbe4', 'chechy', 'prccq', 'aftret_eqq',\n",
       "        'opepsq', 'gpmq', 'pretret_noaq', 'inv_turnq', 'cfo-per-share',\n",
       "        'oiadpq', 'epsx12', 'revty', 'cstkq', 'aftret_equityq', 'ibcomy',\n",
       "        'ppentq', 'epspiq', 'seq4', 'txditcq', 'rd_saleq', 'oepf12',\n",
       "        'xrdq', 'dltt_beq', 'curr_ratioq', 'book_value_per_share', 'dlttq',\n",
       "        'at4', 'miiy', 'prcraq', 'xoprq', 'dlcq'], dtype=object),\n",
       " array(['ibcq', 'market_cap', 'int_debtq', 'capxy', 'spcsrc_B+',\n",
       "        'fcf_yield', 'xsgay', 'gpmq', 'fcf_csfhdq', 'dlcq', 'oiadpq',\n",
       "        'dpcy', 'dvq', 'xintq', 'aftret_invcapxq', 'pe_op_basicq', 'req',\n",
       "        'csh12q', 'prcraq', 'de_ratioq', 'at4', 'txpq', 'cfo-per-share',\n",
       "        'roceq', 'ptpmq', 'psq', 'cash_ltq', 'cshoq', 'evmq', 'dltry',\n",
       "        'dpcq', 'cfmq', 'cash_debtq', 'revty', 'capxq', 'invt_actq',\n",
       "        'ibcomq', 'profit_lctq', 'dlttq', 'cogsq', 'ppentq', 'niq',\n",
       "        'rd_saleq', 'cheq', 'pretret_noaq', 'ocf_lctq', 'ibadjq', 'opepsq',\n",
       "        'dprq', 'capeiq', 'debt_capitalq', 'oibdpq', 'atq', 'epsf12',\n",
       "        'yearly_sales', 'pretret_earnatq', 'debt_atq'], dtype=object),\n",
       " array(['icaptq', 'capeiq', 'oepsxq', 'dvpspq', 'capxq', 'oepf12', 'ibcq',\n",
       "        'dvy', 'roeq', 'piq', 'ibadj12', 'lagseq4', 'sale_invcapq',\n",
       "        'book_value_yield', 'accrualq', 'cogsq', 'debt_atq', 'epspiq',\n",
       "        'ptpmq', 'curr_ratioq', 'rect_turnq', 'ocf_lctq', 'bmq', 'txdbq',\n",
       "        'curr_debtq', 'market_cap', 'cash_conversionq', 'niq', 'dpcy',\n",
       "        'oiadpq', 'ibcy', 'evmq', 'dpcq', 'opmbdq', 'pretret_noaq', 'dprq',\n",
       "        'gpmq', 'teqq', 'oancfy', 'aftret_equityq', 'cash_debtq', 'cogsy',\n",
       "        'seq4', 'prccq', 'invtq', 'invt_actq', 'intcov_ratioq', 'csh12q',\n",
       "        'epsf12', 'atq', 'at5', 'lt_ppentq', 'cfmq', 'efftaxq',\n",
       "        'debt_ebitdaq', 'be4', 'seqq', 'txpdy', 'dltt_beq', 'dlcq'],\n",
       "       dtype=object),\n",
       " array(['fcf_yield', 'aftret_equityq', 'debt_assetsq', 'oancfy', 'nopiq',\n",
       "        'epspxq', 'teqq', 'dlcq', 'lagppent_alt4', 'psq', 'sale_nwcq',\n",
       "        'int_debtq', 'spcsrc_B+', 'dvy', 'lt_ppentq', 'niq', 'seqq',\n",
       "        'fqtr_3', 'accrualq', 'lagppent4', 'ibadjq', 'evmq', 'cshoq',\n",
       "        'cogsy', 'pe_incq', 'dpcy', 'opmbdq', 'oepsxq', 'debt_invcapq',\n",
       "        'sale_invcapq', 'miiq', 'saleq', 'cstkq', 'lagicapt4', 'pay_turnq',\n",
       "        'intcov_ratioq', 'be4', 'cash_debtq', 'curr_ratioq', 'cshfdq',\n",
       "        'seq4', 'sale_equityq', 'ceqq', 'lagbe4', 'spcsrc_B-', 'cf_yield',\n",
       "        'rect_turnq', 'icaptq', 'xsgay', 'lt_debtq', 'revty', 'dltisy',\n",
       "        'capxy', 'xoprq', 'at_turnq', 'at4', 'prcraq', 'gpmq', 'rd_saleq',\n",
       "        'txdbq', 'dlttq', 'equity_invcapq', 'epspiq', 'oancfy_q',\n",
       "        'epsfi12', 'rectq', 'npmq', 'dpq', 'lctq', 'ibadj12', 'at5',\n",
       "        'epsx12', 'buy_back_yield', 'spiq', 'prccq', 'yearly_sales',\n",
       "        'dltt_beq', 'xinty', 'cfmq', 'dvq', 'cogsq', 'capxq', 'atq',\n",
       "        'cheq', 'ocf_lctq', 'aftret_eqq', 'ibcq', 'book_value_per_share',\n",
       "        'optdrq', 'roeq', 'csh12q', 'debt_ebitdaq', 'opcfq', 'fqtr_4',\n",
       "        'dprq', 'roceq', 'short_debtq', 'epsf12', 'ibq', 'bmq', 'apq',\n",
       "        'txditcq', 'req', 'opmadq', 'lagseq4', 'ptpmq'], dtype=object),\n",
       " array(['buy_back_yield', 'revty', 'pe_op_dilq', 'roceq', 'fcf_yield',\n",
       "        'evmq', 'csh12q', 'pretret_noaq', 'sale_nwcq', 'oancfy',\n",
       "        'spcsrc_B+', 'lagicapt4', 'ppentq', 'ibcq', 'lagppent4', 'dpq',\n",
       "        'capxq', 'dvpspq', 'cshfdq', 'dprq', 'miiq', 'cshopq',\n",
       "        'cfo-per-share', 'lt_ppentq', 'dlcchy', 'ibadj12', 'npmq', 'niq',\n",
       "        'short_debtq', 'epspiq', 'lt_debtq', 'oancfy_q', 'rectq', 'apq',\n",
       "        'psq', 'prccq', 'int_totdebtq', 'intcov_ratioq', 'ibcy',\n",
       "        'at_turnq', 'fcf_csfhdq', 'debt_atq', 'cash_conversionq',\n",
       "        'epsfi12', 'lagppent_alt4', 'opmadq', 'efftaxq', 'rect_actq',\n",
       "        'opmbdq', 'epspi12', 'cash_ltq', 'ceq4', 'pe_op_basicq',\n",
       "        'cash_ratioq', 'pe_incq', 'saleq', 'totdebt_invcapq', 'ibcomy',\n",
       "        'epsf12', 'cash_debtq', 'fqtr_2', 'curr_ratioq',\n",
       "        'book_value_per_share', 'piq', 'debt_ebitdaq'], dtype=object),\n",
       " array(['fcf_ocfq', 'cshopq', 'sale_equityq', 'capxy', 'buy_back_yield',\n",
       "        'fcf_csfhdq', 'fcf_yield', 'xinty', 'dvy', 'oepsxy', 'lt_ppentq',\n",
       "        'epspiq', 'oepsxq', 'fqtr_3', 'seq4', 'epsfiq', 'ppentq',\n",
       "        'sale_nwcq', 'opmadq', 'pay_turnq', 'at_turnq', 'epsx12', 'beq',\n",
       "        'pe_incq', 'ibcomq', 'equity_invcapq', 'at4', 'spcsrc_B+',\n",
       "        'book_value_per_share', 'ptpmq', 'gpmq', 'capxq', 'apq', 'dpcy',\n",
       "        'lt_debtq', 'txdbq', 'cfmq', 'miiy', 'pe_op_basicq', 'de_ratioq',\n",
       "        'market_cap', 'lagbe4', 'ceq4', 'prcraq', 'debt_invcapq', 'dlcq',\n",
       "        'cshiq', 'dlttq', 'npmq', 'cash_ltq', 'opepsq', 'oiadpq', 'dvpspq',\n",
       "        'nopiq', 'csh12q', 'debt_atq', 'cogsy', 'cstkq', 'curr_ratioq',\n",
       "        'lagseq4', 'xoprq', 'ibcomy', 'txtq', 'rect_actq', 'epsfi12',\n",
       "        'debt_capitalq', 'pe_exiq', 'niq', 'dvq', 'ceqq', 'dpq',\n",
       "        'book_value_yield', 'txpdy', 'int_debtq', 'cshoq', 'xintq'],\n",
       "       dtype=object),\n",
       " array(['fcf_yield', 'cf_yield', 'fqtr_3', 'fcf_ocfq', 'dvy',\n",
       "        'debt_assetsq', 'pe_op_basicq', 'ibcomq', 'sale_invcapq', 'oancfy',\n",
       "        'lt_debtq', 'opmbdq', 'fcf_csfhdq', 'oepsxq', 'txdbq', 'ppentq',\n",
       "        'opepsq', 'cfo-per-share', 'dvpspq', 'buy_back_yield', 'niq',\n",
       "        'prcraq', 'lagppent_alt4', 'cshopq', 'miiy', 'opmadq', 'cash_ltq',\n",
       "        'xinty', 'curr_ratioq', 'at4', 'oibdpy', 'ceqq', 'evmq', 'fqtr_1',\n",
       "        'lagppent4', 'cfmq', 'pe_incq', 'capeiq', 'dprq', 'fqtr_4',\n",
       "        'oeps12', 'pay_turnq', 'int_totdebtq', 'dltt_beq', 'revty',\n",
       "        'epspiq', 'quick_ratioq', 'atq', 'cogsy', 'teqq', 'debt_capitalq',\n",
       "        'npmq', 'epsf12', 'ptpmq', 'ceq4', 'rectq', 'gpmq', 'ibq',\n",
       "        'ibadj12', 'oepsxy', 'dvq', 'dlcq', 'invt_actq', 'icaptq', 'cogsq',\n",
       "        'pcfq', 'sale_nwcq', 'capital_ratioq', 'cshfdq', 'seqq', 'lagseq4',\n",
       "        'market_cap', 'lt_ppentq', 'spiq', 'dltry', 'bmq', 'roaq', 'xintq',\n",
       "        'oiadpq', 'lctq4', 'actq', 'req', 'epspi12', 'txpq', 'psq',\n",
       "        'saleq', 'spcsrc_B-', 'spcsrc_A', 'capxy', 'ocf_lctq', 'cshprq',\n",
       "        'piq', 'debt_atq', 'int_debtq', 'lagbe4', 'dlcchy', 'prccq',\n",
       "        'aftret_invcapxq', 'oibdpq', 'dltisy', 'pretret_earnatq',\n",
       "        'txditcq', 'rect_turnq', 'ltq', 'at_turnq', 'capxq', 'be4',\n",
       "        'epsfiq', 'profit_lctq', 'roeq', 'inv_turnq', 'totdebt_invcapq',\n",
       "        'at5', 'cash_debtq', 'debt_invcapq', 'debt_ebitdaq',\n",
       "        'pretret_noaq', 'book_value_per_share', 'yearly_sales',\n",
       "        'de_ratioq', 'equity_invcapq', 'intcov_ratioq', 'revtq', 'txpdy',\n",
       "        'lagicapt4', 'oancfy_q', 'cheq', 'csh12q', 'dpcq', 'oepf12',\n",
       "        'dlttq', 'dpcy', 'opcfq', 'accrualq', 'short_debtq', 'pe_op_dilq',\n",
       "        'chechy', 'epsfxq', 'epspxq', 'beq', 'cstkq', 'seq4',\n",
       "        'aftret_equityq', 'invtq'], dtype=object),\n",
       " array(['fcf_yield', 'fcf_csfhdq', 'buy_back_yield', 'fqtr_3', 'dvy',\n",
       "        'fqtr_4', 'dprq', 'cogsy', 'oepsxq', 'sale_invcapq', 'cf_yield',\n",
       "        'cfmq', 'revty', 'capeiq', 'fqtr_1', 'bmq', 'opmbdq', 'dvpspq',\n",
       "        'gprofq', 'oiadpq', 'revtq', 'dpcy', 'rect_turnq', 'cshopq',\n",
       "        'txdbq', 'epsfiq', 'ocf_lctq', 'at_turnq', 'npmq', 'txpq',\n",
       "        'invt_actq', 'opcfq', 'nopiq', 'lagbe4', 'cstkq', 'de_ratioq',\n",
       "        'dlttq', 'niq', 'cash_ltq', 'pay_turnq', 'lt_ppentq', 'inv_turnq',\n",
       "        'cash_ratioq', 'opmadq', 'ibcomq', 'beq', 'lctq4', 'ibcomy',\n",
       "        'oibdpy', 'xinty', 'pretret_noaq', 'fcf_ocfq', 'seqq', 'req',\n",
       "        'ibcy', 'cash_debtq', 'cash_conversionq', 'debt_ebitdaq', 'piq',\n",
       "        'ltq', 'dlcq', 'lt_debtq', 'lagppent4', 'apq', 'int_debtq',\n",
       "        'xoprq', 'evmq', 'actq', 'book_value_per_share', 'ibq',\n",
       "        'intcov_ratioq', 'curr_debtq', 'capxq', 'sale_equityq', 'ceq4',\n",
       "        'sale_nwcq', 'equity_invcapq', 'teqq', 'txtq', 'yearly_sales',\n",
       "        'xintq', 'capital_ratioq', 'epsx12', 'short_debtq', 'seq4',\n",
       "        'xsgay', 'debt_atq', 'pe_exiq', 'spiq', 'miiq', 'psq', 'oepf12',\n",
       "        'ibadj12', 'prccq', 'book_value_yield', 'csh12q'], dtype=object),\n",
       " array(['cf_yield', 'cshopq', 'roceq', 'fcf_ocfq', 'buy_back_yield',\n",
       "        'nopiq', 'oancfy', 'saleq', 'at5', 'piq', 'de_ratioq', 'dvq',\n",
       "        'oepsxy', 'revtq', 'sale_invcapq', 'dvy', 'cash_ltq', 'dprq',\n",
       "        'opepsq', 'be4', 'actq', 'dlttq', 'gprofq', 'cstkq', 'ceqq', 'dpq',\n",
       "        'at_turnq', 'spiq', 'xsgay', 'opmadq', 'debt_ebitdaq', 'epsfiq',\n",
       "        'seqq', 'xinty', 'at4', 'debt_invcapq', 'teqq', 'debt_assetsq',\n",
       "        'lt_ppentq', 'oibdpy', 'invt_actq', 'yearly_sales', 'chechy',\n",
       "        'csh12q', 'xintq', 'lctq', 'ppentq'], dtype=object),\n",
       " array(['fcf_ocfq', 'cshopq', 'dvpspq', 'req', 'fcf_yield', 'at_turnq',\n",
       "        'buy_back_yield', 'prccq', 'cogsy', 'dlttq', 'pay_turnq', 'capxy',\n",
       "        'apq', 'invtq', 'ibq', 'book_value_per_share', 'int_totdebtq',\n",
       "        'gpmq', 'pcfq', 'revty', 'sale_invcapq', 'totdebt_invcapq',\n",
       "        'xsgay', 'ltq', 'csh12q', 'beq', 'cogsq', 'dprq', 'efftaxq',\n",
       "        'capeiq', 'rect_actq', 'inv_turnq', 'lctq4', 'dvy', 'txpq',\n",
       "        'oancfy_q', 'yearly_sales', 'gprofq', 'niq', 'oancfy', 'dpcy',\n",
       "        'ibcy', 'ppentq', 'debt_ebitdaq', 'epsx12', 'rd_saleq', 'roaq',\n",
       "        'atq', 'evmq', 'actq', 'sale_nwcq', 'dpcq', 'intcov_ratioq',\n",
       "        'rectq', 'be4', 'ibcomq', 'opcfq', 'debt_capitalq', 'debt_assetsq',\n",
       "        'profit_lctq', 'piq', 'fqtr_2', 'capital_ratioq', 'seqq', 'oiadpq',\n",
       "        'at4', 'lagbe4', 'cshfdq', 'roceq', 'seq4', 'lt_ppentq',\n",
       "        'rect_turnq', 'ibcomy', 'pretret_noaq', 'at5', 'opmadq', 'epsf12',\n",
       "        'ocf_lctq', 'equity_invcapq', 'debt_atq', 'lagppent_alt4',\n",
       "        'oeps12', 'book_value_yield', 'oepf12', 'cshprq', 'cheq',\n",
       "        'int_debtq', 'xoprq', 'xsgaq', 'oibdpq', 'capxq', 'lagppent4',\n",
       "        'curr_debtq', 'accrualq', 'npmq', 'lctq', 'bmq', 'cfo-per-share',\n",
       "        'dltry', 'xidoy', 'opmbdq', 'epsfxq', 'debt_invcapq', 'txtq',\n",
       "        'epsfiq', 'spiq', 'cshiq', 'curr_ratioq', 'sale_equityq',\n",
       "        'aftret_equityq', 'revtq', 'market_cap', 'cshoq', 'txdbq',\n",
       "        'intcovq'], dtype=object),\n",
       " array(['buy_back_yield', 'pe_op_dilq', 'opmadq', 'lt_ppentq', 'rectq',\n",
       "        'xsgay', 'oepf12', 'opcfq', 'fcf_ocfq', 'prcraq', 'oancfy_q',\n",
       "        'dvy', 'dprq', 'ibcomy', 'fcf_yield', 'pretret_noaq',\n",
       "        'pe_op_basicq', 'ltq', 'int_totdebtq', 'saleq', 'accrualq', 'piq',\n",
       "        'miiq', 'int_debtq', 'ibcomq', 'oeps12', 'capital_ratioq', 'xrdq',\n",
       "        'cash_debtq', 'ibcq', 'teqq', 'spcsrc_B+', 'txpdy', 'ceq4',\n",
       "        'xsgaq', 'oepsxy', 'evmq', 'atq', 'pay_turnq', 'short_debtq',\n",
       "        'epsf12', 'quick_ratioq', 'roeq', 'pretret_earnatq', 'cfmq',\n",
       "        'oiadpq', 'prccq', 'ibq', 'actq', 'cheq', 'icaptq', 'invt_actq',\n",
       "        'equity_invcapq', 'aftret_eqq', 'dlcq', 'gprofq', 'oancfy',\n",
       "        'oepsxq', 'gpmq', 'book_value_per_share', 'opmbdq', 'epsx12',\n",
       "        'xinty', 'cf_yield', 'capeiq', 'at5', 'lagppent_alt4', 'efftaxq',\n",
       "        'npmq', 'debt_invcapq', 'cshprq', 'chechy', 'dltt_beq'],\n",
       "       dtype=object),\n",
       " array(['fcf_yield', 'pretret_noaq', 'oepsxy', 'dvq', 'xrdy', 'gpmq',\n",
       "        'beq', 'cfmq', 'sale_equityq', 'debt_assetsq', 'ppentq', 'ibcomy',\n",
       "        'revty', 'lagppent4', 'ocf_lctq', 'txtq', 'xoprq',\n",
       "        'buy_back_yield', 'oeps12', 'lagbe4', 'fcf_ocfq', 'dpcq', 'dvpspq',\n",
       "        'oepsxq', 'at_turnq', 'inv_turnq', 'roceq', 'lt_ppentq', 'xsgaq',\n",
       "        'dltry', 'capxq', 'cstkq', 'fqtr_1', 'nopiq', 'profit_lctq',\n",
       "        'cash_ltq', 'capeiq', 'intcov_ratioq', 'opcfq', 'int_totdebtq',\n",
       "        'sale_invcapq', 'ptpmq', 'debt_invcapq', 'fcf_csfhdq', 'dlcq',\n",
       "        'ibcomq', 'evmq', 'cshopq', 'icaptq', 'debt_atq', 'xinty', 'spiq',\n",
       "        'dpq', 'dprq', 'invtq', 'npmq', 'capital_ratioq', 'xidoy',\n",
       "        'rect_turnq', 'dlttq', 'txpq', 'req', 'pe_incq', 'cogsy', 'rectq',\n",
       "        'revtq', 'curr_ratioq', 'csh12q', 'invt_actq', 'pretret_earnatq',\n",
       "        'prcraq', 'seqq', 'rd_saleq', 'dltt_beq', 'quick_ratioq',\n",
       "        'cash_ratioq', 'ceqq', 'de_ratioq', 'opmadq', 'int_debtq',\n",
       "        'opepsq', 'apq', 'aftret_equityq', 'cshfdq', 'ibcy', 'cash_debtq',\n",
       "        'saleq', 'epsfxq', 'ceq4', 'bmq', 'cf_yield', 'txpdy', 'pe_exiq',\n",
       "        'capxy', 'market_cap', 'accrualq', 'epspiq', 'lagicapt4',\n",
       "        'intcovq', 'xsgay', 'cash_conversionq', 'book_value_per_share',\n",
       "        'sale_nwcq', 'dltisy', 'epsx12', 'oibdpq'], dtype=object),\n",
       " array(['pretret_noaq', 'fcf_csfhdq', 'lt_ppentq', 'at_turnq', 'fcf_yield',\n",
       "        'opmadq', 'sale_equityq', 'cstkq', 'ppentq', 'pretret_earnatq',\n",
       "        'icaptq', 'dpcy', 'ibcy', 'cash_conversionq', 'roceq', 'de_ratioq',\n",
       "        'cshfdq', 'evmq', 'lagppent_alt4', 'dltry', 'pcfq', 'dpq',\n",
       "        'epsf12', 'revtq', 'revty', 'oancfy', 'rectq', 'dvy', 'dvq',\n",
       "        'ibadj12', 'lt_debtq', 'curr_debtq', 'rd_saleq', 'dlttq', 'capxq',\n",
       "        'cshopq', 'piq', 'lagicapt4', 'debt_assetsq', 'cash_debtq', 'ltq',\n",
       "        'profit_lctq', 'cash_ratioq', 'xsgay', 'gprofq', 'dvpspq',\n",
       "        'cash_ltq', 'prcraq', 'aftret_equityq', 'spcsrc_B-',\n",
       "        'sale_invcapq', 'cfo-per-share', 'intcovq', 'dltt_beq', 'gpmq',\n",
       "        'fqtr_4', 'epspiq', 'ibadjq', 'niq', 'spcsrc_A-', 'capxy',\n",
       "        'opepsq', 'invtq', 'accrualq', 'aftret_eqq', 'cf_yield', 'txpdy',\n",
       "        'prccq', 'dprq', 'ceqq', 'inv_turnq', 'roeq', 'beq', 'cshoq',\n",
       "        'oibdpy', 'roaq', 'xoprq', 'xinty', 'seq4', 'short_debtq', 'at4',\n",
       "        'oancfy_q', 'debt_ebitdaq', 'actq', 'sector_code_850.0',\n",
       "        'pe_op_basicq', 'epspi12', 'totdebt_invcapq', 'lctq4', 'txdbq',\n",
       "        'be4', 'debt_invcapq'], dtype=object),\n",
       " array(['fcf_ocfq', 'fcf_csfhdq', 'fcf_yield', 'lt_ppentq', 'oepf12',\n",
       "        'buy_back_yield', 'cshopq', 'ibcy', 'rect_turnq', 'sale_invcapq',\n",
       "        'sale_equityq', 'inv_turnq', 'gprofq', 'capxy', 'saleq', 'ibadjq',\n",
       "        'evmq', 'prccq', 'dvq', 'roaq', 'lagppent_alt4', 'epspxq', 'dpq',\n",
       "        'roceq', 'revty', 'teqq', 'capxq', 'epsfiq', 'ibadj12',\n",
       "        'pe_op_basicq', 'ibq', 'at_turnq', 'ppentq', 'ceq4', 'oepsxq',\n",
       "        'seqq', 'capeiq', 'nopiq', 'curr_debtq', 'rd_saleq', 'cshiq',\n",
       "        'lctq4', 'lagbe4', 'cash_ratioq', 'lagppent4', 'cfmq', 'pcfq',\n",
       "        'txpdy', 'efftaxq', 'debt_invcapq', 'oancfy_q', 'cash_ltq',\n",
       "        'cf_yield', 'epsf12', 'spcsrc_A-', 'dpcq', 'opcfq', 'xintq',\n",
       "        'cshfdq', 'epsfi12', 'dprq', 'dvpspq', 'xrdy', 'dvy', 'apq',\n",
       "        'opmadq', 'cash_conversionq', 'at5', 'fqtr_4', 'req', 'icaptq',\n",
       "        'debt_assetsq', 'revtq', 'de_ratioq', 'ibcomy', 'sale_nwcq',\n",
       "        'invt_actq', 'oeps12', 'pay_turnq', 'actq', 'miiy', 'market_cap',\n",
       "        'cstkq', 'cfo-per-share', 'pretret_noaq', 'dltisy', 'csh12q',\n",
       "        'xrdq', 'seq4', 'miiq', 'quick_ratioq', 'cogsy', 'spcsrc_B-',\n",
       "        'opmbdq', 'equity_invcapq', 'rectq', 'dltt_beq',\n",
       "        'book_value_per_share', 'xsgay', 'optdrq', 'yearly_sales',\n",
       "        'aftret_eqq', 'epsfxq', 'dltry', 'prcraq', 'oibdpq',\n",
       "        'totdebt_invcapq', 'epspiq', 'curr_ratioq', 'lagicapt4', 'dlcq',\n",
       "        'book_value_yield', 'intcovq', 'fqtr_1', 'cheq', 'aftret_equityq',\n",
       "        'chechy', 'ceqq', 'ocf_lctq', 'xinty', 'npmq', 'beq', 'int_debtq',\n",
       "        'xsgaq', 'dpcy', 'pe_exiq', 'oepsxy', 'psq', 'xoprq', 'be4',\n",
       "        'txpq', 'epspi12', 'piq', 'cshprq', 'debt_ebitdaq', 'pe_incq',\n",
       "        'fqtr_3', 'pe_op_dilq', 'rect_actq', 'aftret_invcapxq', 'dlttq',\n",
       "        'profit_lctq', 'roeq', 'cshoq', 'dlcchy', 'lctq', 'ptpmq',\n",
       "        'opepsq', 'intcov_ratioq'], dtype=object),\n",
       " array(['fcf_csfhdq', 'fqtr_4', 'pcfq', 'fcf_ocfq', 'pretret_earnatq',\n",
       "        'evmq', 'dprq', 'ibcy', 'lt_ppentq', 'txpdy', 'cshprq', 'niq',\n",
       "        'rect_turnq', 'ppentq', 'icaptq', 'ibcomy', 'lagppent_alt4',\n",
       "        'oepsxy', 'epspi12', 'lctq', 'xsgaq', 'capxy', 'opmbdq', 'seq4',\n",
       "        'fcf_yield', 'cfmq', 'de_ratioq', 'xsgay', 'curr_ratioq',\n",
       "        'curr_debtq', 'xintq', 'oibdpy', 'debt_invcapq', 'at4',\n",
       "        'rect_actq', 'teqq', 'totdebt_invcapq', 'sale_invcapq', 'cshopq',\n",
       "        'req', 'invt_actq', 'epsfiq', 'apq', 'aftret_equityq', 'ocf_lctq',\n",
       "        'capeiq', 'dltisy', 'oepsxq', 'ibcq', 'equity_invcapq', 'cshoq',\n",
       "        'prcraq', 'opmadq', 'npmq', 'dvpspq', 'xinty', 'piq',\n",
       "        'debt_ebitdaq', 'aftret_invcapxq', 'epsfi12', 'debt_atq',\n",
       "        'int_totdebtq', 'seqq', 'cheq', 'optdrq', 'rd_saleq', 'cstkq',\n",
       "        'xrdy', 'oancfy_q', 'dpq', 'oeps12', 'revty', 'cf_yield', 'actq',\n",
       "        'dlttq', 'prccq', 'be4', 'psq', 'inv_turnq', 'txpq', 'lagicapt4',\n",
       "        'oancfy', 'rectq', 'ibq', 'chechy', 'roeq', 'lctq4', 'oibdpq',\n",
       "        'dltry', 'yearly_sales', 'xrdq', 'pay_turnq', 'cshfdq', 'capxq',\n",
       "        'lt_debtq', 'miiq', 'ceqq', 'debt_assetsq', 'gpmq', 'invtq',\n",
       "        'lagseq4', 'dpcy', 'ceq4', 'txditcq', 'sale_equityq', 'roaq',\n",
       "        'txtq', 'epsfxq', 'saleq', 'accrualq', 'lagbe4', 'int_debtq',\n",
       "        'cfo-per-share', 'pretret_noaq', 'epsf12', 'buy_back_yield',\n",
       "        'roceq', 'sale_nwcq', 'intcovq', 'lagppent4', 'ptpmq',\n",
       "        'pe_op_basicq', 'ibcomq', 'dpcq', 'ibadj12', 'gprofq', 'dltt_beq'],\n",
       "       dtype=object),\n",
       " array(['fqtr_4', 'fcf_csfhdq', 'fcf_yield', 'opmbdq', 'fcf_ocfq',\n",
       "        'pretret_noaq', 'ppentq', 'ibcy', 'oancfy', 'evmq', 'lt_ppentq',\n",
       "        'rectq', 'lagppent4', 'cf_yield', 'xsgaq', 'lctq4', 'rect_turnq',\n",
       "        'txpdy', 'dvy', 'apq', 'sale_invcapq', 'dvpspq', 'txtq', 'oibdpq',\n",
       "        'pretret_earnatq', 'book_value_yield', 'nopiq', 'xrdq', 'capeiq',\n",
       "        'npmq', 'xrdy', 'dltisy', 'at_turnq', 'debt_ebitdaq', 'oepsxy',\n",
       "        'ibcomy', 'de_ratioq', 'debt_assetsq', 'optdrq', 'lctq',\n",
       "        'aftret_eqq', 'xintq', 'dlcq', 'icaptq', 'opepsq',\n",
       "        'totdebt_invcapq', 'opcfq', 'miiy', 'sic_6798', 'accrualq', 'ibq',\n",
       "        'cshfdq', 'inv_turnq', 'psq', 'cash_ltq', 'lagicapt4', 'dlttq',\n",
       "        'oiadpq', 'ceq4', 'cshoq', 'pe_op_basicq', 'chechy', 'epspxq',\n",
       "        'epsfxq', 'gprofq', 'ibadj12', 'miiq', 'profit_lctq', 'oibdpy',\n",
       "        'cshiq', 'epsf12', 'cshopq', 'invtq', 'dpcq', 'rd_saleq', 'ptpmq',\n",
       "        'cash_debtq', 'cstkq', 'epspi12', 'xinty', 'ibcomq',\n",
       "        'capital_ratioq', 'yearly_sales', 'pcfq', 'fqtr_2', 'quick_ratioq',\n",
       "        'debt_invcapq', 'cash_ratioq', 'opmadq', 'rect_actq',\n",
       "        'intcov_ratioq', 'atq', 'ltq', 'at4', 'revty', 'teqq',\n",
       "        'buy_back_yield', 'actq', 'cogsy', 'seqq', 'short_debtq', 'capxy',\n",
       "        'xoprq', 'pay_turnq', 'market_cap', 'aftret_invcapxq',\n",
       "        'debt_capitalq', 'oepf12', 'dpcy', 'curr_ratioq', 'saleq',\n",
       "        'efftaxq', 'dvq', 'spiq', 'oepsxq', 'prccq', 'oeps12', 'csh12q',\n",
       "        'lt_debtq', 'capxq', 'dltry', 'cfmq', 'roaq', 'req', 'beq',\n",
       "        'cshprq', 'oancfy_q', 'roceq', 'cfo-per-share', 'epspiq', 'epsx12',\n",
       "        'piq', 'gpmq', 'dltt_beq', 'lagppent_alt4', 'int_totdebtq',\n",
       "        'debt_atq', 'txditcq', 'sale_nwcq', 'spcsrc_A-', 'ceqq', 'dpq',\n",
       "        'pe_incq', 'invt_actq', 'pe_exiq', 'intcovq', 'txpq', 'be4',\n",
       "        'sale_equityq', 'xsgay', 'bmq', 'at5', 'roeq', 'cash_conversionq',\n",
       "        'seq4', 'dlcchy', 'equity_invcapq', 'ibadjq', 'lagseq4', 'lagbe4',\n",
       "        'xidocy', 'cogsq', 'txdbq', 'book_value_per_share', 'cheq',\n",
       "        'ocf_lctq', 'int_debtq', 'epsfiq', 'pe_op_dilq', 'epsfi12', 'niq',\n",
       "        'aftret_equityq'], dtype=object),\n",
       " array(['fcf_yield', 'fqtr_4', 'oancfy', 'xrdy', 'fcf_ocfq',\n",
       "        'buy_back_yield', 'fcf_csfhdq', 'atq', 'debt_assetsq', 'ibcy',\n",
       "        'niq', 'ppentq', 'rd_saleq', 'cash_ratioq', 'rect_turnq', 'cfmq',\n",
       "        'txpdy', 'fqtr_2', 'fqtr_3', 'xrdq', 'ocf_lctq', 'cstkq', 'roeq',\n",
       "        'dvq', 'cash_debtq', 'aftret_eqq', 'pretret_noaq', 'oibdpy',\n",
       "        'quick_ratioq', 'dprq', 'oibdpq', 'capeiq', 'rectq', 'xsgay',\n",
       "        'opmadq', 'accrualq', 'profit_lctq', 'at5', 'epspiq', 'inv_turnq',\n",
       "        'cshprq', 'actq', 'dvpspq', 'pe_incq', 'cfo-per-share', 'cash_ltq',\n",
       "        'ibadjq', 'capxq', 'capxy', 'equity_invcapq', 'invtq',\n",
       "        'totdebt_invcapq', 'book_value_yield', 'debt_capitalq',\n",
       "        'cash_conversionq', 'opmbdq', 'sale_nwcq'], dtype=object),\n",
       " array(['fcf_yield', 'fcf_ocfq', 'lt_ppentq', 'dvpspq', 'ibcomy', 'ppentq',\n",
       "        'gpmq', 'fcf_csfhdq', 'ptpmq', 'oancfy', 'evmq', 'fqtr_4',\n",
       "        'lagppent_alt4', 'sale_invcapq', 'roceq', 'at5', 'cshfdq', 'dvy',\n",
       "        'capeiq', 'dprq', 'fqtr_2', 'nopiq', 'npmq', 'oepsxy', 'xinty',\n",
       "        'capxy', 'opcfq', 'rd_saleq', 'gprofq', 'int_totdebtq',\n",
       "        'pretret_noaq', 'pe_op_dilq', 'rectq', 'pcfq', 'cash_ltq', 'at4',\n",
       "        'cash_conversionq', 'prccq', 'cfo-per-share', 'rect_turnq',\n",
       "        'lagppent4', 'revty', 'epsfi12', 'ocf_lctq', 'fqtr_1', 'optdrq',\n",
       "        'sale_equityq', 'opmadq', 'accrualq', 'epsx12', 'roaq', 'cf_yield',\n",
       "        'teqq', 'xrdy', 'oeps12', 'epspxq', 'pe_op_basicq', 'pe_incq',\n",
       "        'dltisy', 'aftret_invcapxq', 'ceqq', 'intcovq', 'opepsq',\n",
       "        'cash_ratioq', 'xsgaq', 'atq', 'lagbe4', 'xoprq', 'lctq4',\n",
       "        'oepf12', 'market_cap', 'dvq', 'ibcy', 'lagicapt4', 'curr_debtq',\n",
       "        'curr_ratioq', 'debt_capitalq', 'quick_ratioq', 'inv_turnq',\n",
       "        'oibdpq', 'niq', 'epsfiq', 'invt_actq', 'capxq', 'dpcy', 'epsf12',\n",
       "        'actq', 'pretret_earnatq', 'ibadjq', 'at_turnq', 'dlttq',\n",
       "        'aftret_equityq', 'txpq', 'profit_lctq', 'cheq', 'invtq', 'miiq',\n",
       "        'epsfxq', 'lagseq4', 'lt_debtq', 'lctq', 'txditcq', 'xrdq',\n",
       "        'capital_ratioq', 'cogsy', 'oibdpy', 'miiy', 'oancfy_q',\n",
       "        'equity_invcapq', 'cash_debtq', 'opmbdq', 'debt_invcapq', 'oiadpq',\n",
       "        'intcov_ratioq', 'ceq4', 'totdebt_invcapq', 'cfmq', 'ibq',\n",
       "        'book_value_per_share', 'xsgay', 'buy_back_yield', 'cshopq',\n",
       "        'ibadj12', 'bmq', 'cshiq', 'ibcomq', 'csh12q', 'efftaxq', 'dltry',\n",
       "        'de_ratioq', 'saleq', 'dpq', 'be4', 'oepsxq', 'cstkq', 'chechy',\n",
       "        'spcsrc_B+', 'beq', 'dltt_beq', 'revtq', 'txpdy', 'txdbq', 'dpcq',\n",
       "        'dlcq', 'aftret_eqq', 'ibcq', 'spcsrc_C', 'pay_turnq', 'rect_actq',\n",
       "        'psq', 'ltq', 'piq', 'seq4', 'debt_assetsq', 'txtq',\n",
       "        'book_value_yield', 'pe_exiq', 'epspi12', 'int_debtq', 'req',\n",
       "        'short_debtq', 'xintq', 'xidocy', 'roeq', 'prcraq', 'mibq',\n",
       "        'spcsrc_B-', 'cshoq', 'cogsq', 'icaptq', 'debt_ebitdaq', 'seqq',\n",
       "        'cshprq'], dtype=object),\n",
       " array(['fcf_ocfq', 'fcf_csfhdq', 'xrdq', 'xrdy', 'evmq', 'lagppent4',\n",
       "        'fcf_yield', 'rd_saleq', 'opmadq', 'ibadj12', 'prcraq',\n",
       "        'lt_ppentq', 'dpq', 'oiadpq', 'be4', 'sale_nwcq', 'pretret_noaq',\n",
       "        'invt_actq', 'dlttq', 'at_turnq', 'ibcy', 'opepsq', 'lagicapt4',\n",
       "        'capxq', 'xsgay', 'dvq', 'ppentq', 'oepsxy', 'curr_debtq', 'npmq',\n",
       "        'bmq', 'market_cap', 'rect_turnq', 'sale_invcapq', 'capxy',\n",
       "        'cash_ratioq', 'ibcomy', 'epsfi12', 'gpmq', 'oancfy', 'dvpspq',\n",
       "        'de_ratioq', 'cshoq', 'txpdy', 'oibdpy', 'pay_turnq', 'cshfdq',\n",
       "        'debt_assetsq', 'sale_equityq', 'dprq', 'oepsxq', 'chechy', 'apq',\n",
       "        'cf_yield', 'fqtr_2', 'txtq', 'ibcomq', 'aftret_invcapxq',\n",
       "        'equity_invcapq', 'fqtr_4', 'aftret_eqq', 'lagbe4', 'actq',\n",
       "        'rectq', 'cfo-per-share', 'pe_op_basicq', 'epsfiq', 'lt_debtq',\n",
       "        'icaptq', 'debt_invcapq', 'psq', 'cshprq', 'cstkq', 'rect_actq',\n",
       "        'xsgaq', 'cshopq', 'cheq', 'opcfq', 'accrualq', 'piq', 'revty',\n",
       "        'oeps12', 'int_debtq', 'short_debtq', 'niq', 'gprofq', 'roaq',\n",
       "        'xintq', 'beq', 'cash_conversionq', 'oancfy_q', 'profit_lctq',\n",
       "        'dvy', 'book_value_per_share', 'intcovq', 'efftaxq', 'cfmq',\n",
       "        'cogsq', 'miiy', 'cogsy', 'ocf_lctq', 'debt_capitalq', 'oibdpq',\n",
       "        'seq4', 'txdbq', 'epspiq', 'cash_ltq', 'inv_turnq', 'epspxq',\n",
       "        'atq', 'ltq', 'book_value_yield', 'saleq', 'req', 'buy_back_yield',\n",
       "        'aftret_equityq', 'opmbdq', 'ibadjq', 'dlcchy', 'capital_ratioq',\n",
       "        'epspi12', 'quick_ratioq', 'roceq', 'int_totdebtq', 'txditcq',\n",
       "        'debt_atq', 'roeq', 'dltisy', 'spiq'], dtype=object),\n",
       " array(['epsfiq', 'lt_ppentq', 'oepsxy', 'fcf_csfhdq', 'fqtr_4', 'xrdq',\n",
       "        'xsgay', 'epspxq', 'fcf_yield', 'pcfq', 'fcf_ocfq',\n",
       "        'lagppent_alt4', 'ibcomq', 'rect_turnq', 'epsx12', 'cheq', 'opcfq',\n",
       "        'capeiq', 'ibadj12', 'oepf12', 'dvpspq', 'ppentq', 'cshopq',\n",
       "        'sale_invcapq', 'lagbe4', 'miiy', 'ibcomy', 'opmbdq', 'epsfxq',\n",
       "        'oancfy', 'opmadq', 'lt_debtq', 'lctq4', 'cogsy',\n",
       "        'aftret_invcapxq', 'oibdpy', 'dvy', 'txtq', 'xrdy', 'intcovq',\n",
       "        'cfmq', 'bmq', 'fqtr_2', 'oancfy_q', 'actq', 'ibcy', 'epsf12',\n",
       "        'cshoq', 'pe_op_dilq', 'quick_ratioq', 'invtq', 'pe_exiq',\n",
       "        'cfo-per-share', 'epspi12', 'buy_back_yield', 'rd_saleq',\n",
       "        'debt_atq', 'lagicapt4', 'debt_capitalq', 'xoprq', 'market_cap',\n",
       "        'cash_conversionq', 'prccq', 'ceqq', 'roaq', 'cshprq', 'dlttq',\n",
       "        'capxy', 'int_debtq', 'roeq', 'capxq', 'prcraq', 'at_turnq',\n",
       "        'oeps12', 'dpcy', 'curr_debtq', 'cogsq', 'oiadpq', 'at5', 'apq',\n",
       "        'inv_turnq', 'debt_ebitdaq', 'ocf_lctq', 'xsgaq', 'dltry',\n",
       "        'cash_ratioq', 'csh12q', 'cash_debtq', 'spcsrc_C', 'spiq', 'psq',\n",
       "        'pretret_noaq', 'xintq', 'revty', 'dpq', 'xinty', 'sale_equityq',\n",
       "        'oepsxq', 'debt_assetsq', 'gprofq', 'cf_yield', 'lctq', 'ptpmq',\n",
       "        'roceq', 'epsfi12', 'evmq', 'niq', 'rect_actq', 'txditcq',\n",
       "        'lagseq4', 'chechy', 'pay_turnq', 'ibadjq', 'ibcq', 'ibq', 'npmq',\n",
       "        'pretret_earnatq', 'int_totdebtq', 'dvq', 'capital_ratioq',\n",
       "        'efftaxq', 'short_debtq', 'dltt_beq', 'spcsrc_A-', 'cash_ltq',\n",
       "        'cstkq', 'saleq', 'nopiq', 'dpcq', 'be4', 'sector_code_817.0',\n",
       "        'atq', 'aftret_equityq', 'dltisy', 'pe_op_basicq',\n",
       "        'equity_invcapq', 'ltq', 'opepsq', 'curr_ratioq', 'seqq',\n",
       "        'profit_lctq', 'gpmq', 'oibdpq', 'at4', 'rectq', 'req',\n",
       "        'book_value_yield', 'pstkq', 'book_value_per_share', 'icaptq',\n",
       "        'cshiq', 'de_ratioq', 'dlcq', 'intcov_ratioq', 'yearly_sales',\n",
       "        'piq', 'sale_nwcq', 'invt_actq', 'totdebt_invcapq', 'lagppent4',\n",
       "        'txpdy', 'seq4', 'txpq', 'txdbq', 'revtq', 'cshfdq', 'epspiq',\n",
       "        'sic_3674'], dtype=object)]"
      ]
     },
     "execution_count": 195,
     "metadata": {},
     "output_type": "execute_result"
    }
   ],
   "source": [
    "significant_features"
   ]
  },
  {
   "cell_type": "code",
   "execution_count": 196,
   "metadata": {},
   "outputs": [],
   "source": [
    "with open(r'significant_features.pkl','wb') as f:\n",
    "    cPickle.dump(significant_features,f)"
   ]
  },
  {
   "cell_type": "code",
   "execution_count": 197,
   "metadata": {},
   "outputs": [],
   "source": [
    "with open(r'significant_features.pkl','rb') as f:\n",
    "    significant_features = cPickle.load(f)"
   ]
  },
  {
   "cell_type": "code",
   "execution_count": 198,
   "metadata": {},
   "outputs": [],
   "source": [
    "new_training_data = []\n",
    "new_valid_data = []\n",
    "new_test_data = []"
   ]
  },
  {
   "cell_type": "code",
   "execution_count": 199,
   "metadata": {},
   "outputs": [],
   "source": [
    "for i in range(len(start_dates)-1): \n",
    "    new_training_data.append(training_data[i][significant_features[i]])\n",
    "    new_valid_data.append(valid_data[i][significant_features[i]])\n",
    "    new_test_data.append(test_data[i][significant_features[i]])\n",
    "    "
   ]
  },
  {
   "cell_type": "code",
   "execution_count": 200,
   "metadata": {},
   "outputs": [
    {
     "data": {
      "text/plain": [
       "Index(['cash_ratioq', 'dvq', 'pe_op_basicq', 'oepsxq', 'epspxq', 'revty',\n",
       "       'cash_ltq', 'capeiq', 'pe_incq'],\n",
       "      dtype='object')"
      ]
     },
     "execution_count": 200,
     "metadata": {},
     "output_type": "execute_result"
    }
   ],
   "source": [
    "new_valid_data[1].columns"
   ]
  },
  {
   "cell_type": "code",
   "execution_count": 201,
   "metadata": {},
   "outputs": [],
   "source": [
    "for i in range(len(start_dates)-1):\n",
    "    float_vars = [x for x in new_training_data[i].columns if data[x].dtype == 'float64']\n",
    "\n",
    "    scaler = StandardScaler()\n",
    "    new_training_data[i] = new_training_data[i].copy()\n",
    "    new_valid_data[i] = new_valid_data[i].copy()\n",
    "    new_test_data[i] = new_test_data[i].copy()\n",
    "    new_training_data[i][float_vars] = scaler.fit_transform(new_training_data[i][float_vars])\n",
    "    new_valid_data[i][float_vars] = scaler.transform(new_valid_data[i][float_vars])\n",
    "    new_test_data[i][float_vars] = scaler.transform(new_test_data[i][float_vars])"
   ]
  },
  {
   "cell_type": "code",
   "execution_count": 202,
   "metadata": {},
   "outputs": [],
   "source": [
    "for i in range(len(start_dates)-1): \n",
    "    classifiers[i].fit(new_training_data[i],training_labels[i])"
   ]
  },
  {
   "cell_type": "code",
   "execution_count": 204,
   "metadata": {},
   "outputs": [],
   "source": [
    "with open(r'classifiers.pkl','wb') as f:\n",
    "    cPickle.dump(classifiers,f)"
   ]
  },
  {
   "cell_type": "code",
   "execution_count": 205,
   "metadata": {},
   "outputs": [],
   "source": [
    "with open(r'classifiers.pkl','rb') as f:\n",
    "    classifiers = cPickle.load(f)"
   ]
  },
  {
   "cell_type": "code",
   "execution_count": 206,
   "metadata": {},
   "outputs": [],
   "source": [
    "def model(features):\n",
    "    tree_features = features[features.columns[:-1].values]\n",
    "\n",
    "    pred = rf_clf.predict(tree_features)\n",
    "\n",
    "    ret = pred * features[features.columns[-1]]\n",
    "\n",
    "    return ret"
   ]
  },
  {
   "cell_type": "code",
   "execution_count": 207,
   "metadata": {},
   "outputs": [],
   "source": [
    "import shap"
   ]
  },
  {
   "cell_type": "code",
   "execution_count": 208,
   "metadata": {},
   "outputs": [],
   "source": [
    "shap_features = []"
   ]
  },
  {
   "cell_type": "code",
   "execution_count": 209,
   "metadata": {},
   "outputs": [
    {
     "name": "stdout",
     "output_type": "stream",
     "text": [
      "88\n"
     ]
    },
    {
     "name": "stderr",
     "output_type": "stream",
     "text": [
      "PermutationExplainer explainer: 1156it [04:11,  4.46it/s]                                                              \n"
     ]
    },
    {
     "name": "stdout",
     "output_type": "stream",
     "text": [
      "50\n",
      "9\n"
     ]
    },
    {
     "name": "stderr",
     "output_type": "stream",
     "text": [
      "PermutationExplainer explainer: 1174it [04:32,  4.14it/s]                                                              \n"
     ]
    },
    {
     "name": "stdout",
     "output_type": "stream",
     "text": [
      "9\n",
      "113\n"
     ]
    },
    {
     "name": "stderr",
     "output_type": "stream",
     "text": [
      "PermutationExplainer explainer: 1137it [06:34,  2.81it/s]                                                              \n"
     ]
    },
    {
     "name": "stdout",
     "output_type": "stream",
     "text": [
      "80\n",
      "88\n"
     ]
    },
    {
     "name": "stderr",
     "output_type": "stream",
     "text": [
      "PermutationExplainer explainer: 1266it [04:40,  4.33it/s]                                                              \n"
     ]
    },
    {
     "name": "stdout",
     "output_type": "stream",
     "text": [
      "59\n",
      "57\n"
     ]
    },
    {
     "name": "stderr",
     "output_type": "stream",
     "text": [
      "PermutationExplainer explainer: 1261it [06:54,  2.97it/s]                                                              \n"
     ]
    },
    {
     "name": "stdout",
     "output_type": "stream",
     "text": [
      "10\n",
      "85\n"
     ]
    },
    {
     "name": "stderr",
     "output_type": "stream",
     "text": [
      "PermutationExplainer explainer: 1256it [04:35,  4.39it/s]                                                              \n"
     ]
    },
    {
     "name": "stdout",
     "output_type": "stream",
     "text": [
      "54\n",
      "28\n"
     ]
    },
    {
     "name": "stderr",
     "output_type": "stream",
     "text": [
      "PermutationExplainer explainer: 1284it [05:09,  4.01it/s]                                                              \n"
     ]
    },
    {
     "name": "stdout",
     "output_type": "stream",
     "text": [
      "10\n",
      "84\n"
     ]
    },
    {
     "name": "stderr",
     "output_type": "stream",
     "text": [
      "PermutationExplainer explainer: 1316it [04:07,  5.09it/s]                                                              \n"
     ]
    },
    {
     "name": "stdout",
     "output_type": "stream",
     "text": [
      "50\n",
      "26\n"
     ]
    },
    {
     "name": "stderr",
     "output_type": "stream",
     "text": [
      "PermutationExplainer explainer: 1414it [05:00,  4.55it/s]                                                              \n"
     ]
    },
    {
     "name": "stdout",
     "output_type": "stream",
     "text": [
      "10\n",
      "62\n"
     ]
    },
    {
     "name": "stderr",
     "output_type": "stream",
     "text": [
      "PermutationExplainer explainer: 1361it [03:40,  5.92it/s]                                                              \n"
     ]
    },
    {
     "name": "stdout",
     "output_type": "stream",
     "text": [
      "10\n",
      "145\n"
     ]
    },
    {
     "name": "stderr",
     "output_type": "stream",
     "text": [
      "PermutationExplainer explainer: 1355it [09:08,  2.42it/s]                                                              \n"
     ]
    },
    {
     "name": "stdout",
     "output_type": "stream",
     "text": [
      "119\n",
      "164\n"
     ]
    },
    {
     "name": "stderr",
     "output_type": "stream",
     "text": [
      "PermutationExplainer explainer: 1475it [15:41,  1.55it/s]                                                              \n"
     ]
    },
    {
     "name": "stdout",
     "output_type": "stream",
     "text": [
      "147\n",
      "124\n"
     ]
    },
    {
     "name": "stderr",
     "output_type": "stream",
     "text": [
      "PermutationExplainer explainer: 1512it [08:37,  2.86it/s]                                                              \n"
     ]
    },
    {
     "name": "stdout",
     "output_type": "stream",
     "text": [
      "89\n",
      "124\n"
     ]
    },
    {
     "name": "stderr",
     "output_type": "stream",
     "text": [
      "PermutationExplainer explainer: 1523it [09:28,  2.63it/s]                                                              \n"
     ]
    },
    {
     "name": "stdout",
     "output_type": "stream",
     "text": [
      "96\n",
      "114\n"
     ]
    },
    {
     "name": "stderr",
     "output_type": "stream",
     "text": [
      "PermutationExplainer explainer: 1499it [05:50,  4.15it/s]                                                              \n"
     ]
    },
    {
     "name": "stdout",
     "output_type": "stream",
     "text": [
      "85\n",
      "111\n"
     ]
    },
    {
     "name": "stderr",
     "output_type": "stream",
     "text": [
      "PermutationExplainer explainer: 1455it [05:28,  4.30it/s]                                                              \n"
     ]
    },
    {
     "name": "stdout",
     "output_type": "stream",
     "text": [
      "90\n",
      "107\n"
     ]
    },
    {
     "name": "stderr",
     "output_type": "stream",
     "text": [
      "PermutationExplainer explainer: 1400it [04:58,  4.54it/s]                                                              \n"
     ]
    },
    {
     "name": "stdout",
     "output_type": "stream",
     "text": [
      "89\n",
      "109\n"
     ]
    },
    {
     "name": "stderr",
     "output_type": "stream",
     "text": [
      "PermutationExplainer explainer: 1376it [04:55,  4.49it/s]                                                              \n"
     ]
    },
    {
     "name": "stdout",
     "output_type": "stream",
     "text": [
      "89\n",
      "168\n"
     ]
    },
    {
     "name": "stderr",
     "output_type": "stream",
     "text": [
      "PermutationExplainer explainer: 1301it [10:23,  2.05it/s]                                                              \n"
     ]
    },
    {
     "name": "stdout",
     "output_type": "stream",
     "text": [
      "161\n",
      "98\n"
     ]
    },
    {
     "name": "stderr",
     "output_type": "stream",
     "text": [
      "PermutationExplainer explainer: 1099it [04:11,  4.20it/s]                                                              \n"
     ]
    },
    {
     "name": "stdout",
     "output_type": "stream",
     "text": [
      "83\n",
      "155\n"
     ]
    },
    {
     "name": "stderr",
     "output_type": "stream",
     "text": [
      "PermutationExplainer explainer: 1029it [06:39,  2.51it/s]                                                              \n"
     ]
    },
    {
     "name": "stdout",
     "output_type": "stream",
     "text": [
      "126\n",
      "95\n"
     ]
    },
    {
     "name": "stderr",
     "output_type": "stream",
     "text": [
      "PermutationExplainer explainer: 1180it [04:13,  4.47it/s]                                                              \n"
     ]
    },
    {
     "name": "stdout",
     "output_type": "stream",
     "text": [
      "77\n",
      "120\n"
     ]
    },
    {
     "name": "stderr",
     "output_type": "stream",
     "text": [
      "PermutationExplainer explainer: 1279it [05:18,  3.89it/s]                                                              \n"
     ]
    },
    {
     "name": "stdout",
     "output_type": "stream",
     "text": [
      "98\n",
      "48\n"
     ]
    },
    {
     "name": "stderr",
     "output_type": "stream",
     "text": [
      "PermutationExplainer explainer: 1353it [06:02,  3.63it/s]                                                              \n"
     ]
    },
    {
     "name": "stdout",
     "output_type": "stream",
     "text": [
      "10\n",
      "160\n"
     ]
    },
    {
     "name": "stderr",
     "output_type": "stream",
     "text": [
      "PermutationExplainer explainer: 1442it [11:08,  2.13it/s]                                                              \n"
     ]
    },
    {
     "name": "stdout",
     "output_type": "stream",
     "text": [
      "140\n",
      "108\n"
     ]
    },
    {
     "name": "stderr",
     "output_type": "stream",
     "text": [
      "PermutationExplainer explainer: 1388it [04:55,  4.53it/s]                                                              \n"
     ]
    },
    {
     "name": "stdout",
     "output_type": "stream",
     "text": [
      "79\n",
      "54\n"
     ]
    },
    {
     "name": "stderr",
     "output_type": "stream",
     "text": [
      "PermutationExplainer explainer: 1443it [04:45,  4.87it/s]                                                              \n"
     ]
    },
    {
     "name": "stdout",
     "output_type": "stream",
     "text": [
      "10\n",
      "144\n"
     ]
    },
    {
     "name": "stderr",
     "output_type": "stream",
     "text": [
      "PermutationExplainer explainer: 1554it [13:13,  1.93it/s]                                                              \n"
     ]
    },
    {
     "name": "stdout",
     "output_type": "stream",
     "text": [
      "10\n",
      "88\n"
     ]
    },
    {
     "name": "stderr",
     "output_type": "stream",
     "text": [
      "PermutationExplainer explainer: 1547it [06:08,  4.09it/s]                                                              \n"
     ]
    },
    {
     "name": "stdout",
     "output_type": "stream",
     "text": [
      "10\n",
      "118\n"
     ]
    },
    {
     "name": "stderr",
     "output_type": "stream",
     "text": [
      "PermutationExplainer explainer: 1612it [08:00,  3.28it/s]                                                              \n"
     ]
    },
    {
     "name": "stdout",
     "output_type": "stream",
     "text": [
      "6\n",
      "157\n"
     ]
    },
    {
     "name": "stderr",
     "output_type": "stream",
     "text": [
      "PermutationExplainer explainer: 1426it [13:14,  1.77it/s]                                                              \n"
     ]
    },
    {
     "name": "stdout",
     "output_type": "stream",
     "text": [
      "121\n",
      "110\n"
     ]
    },
    {
     "name": "stderr",
     "output_type": "stream",
     "text": [
      "PermutationExplainer explainer: 1528it [06:11,  4.03it/s]                                                              \n"
     ]
    },
    {
     "name": "stdout",
     "output_type": "stream",
     "text": [
      "78\n",
      "112\n"
     ]
    },
    {
     "name": "stderr",
     "output_type": "stream",
     "text": [
      "PermutationExplainer explainer: 1610it [10:43,  2.48it/s]                                                              \n"
     ]
    },
    {
     "name": "stdout",
     "output_type": "stream",
     "text": [
      "10\n",
      "115\n"
     ]
    },
    {
     "name": "stderr",
     "output_type": "stream",
     "text": [
      "PermutationExplainer explainer: 1619it [06:49,  3.86it/s]                                                              \n"
     ]
    },
    {
     "name": "stdout",
     "output_type": "stream",
     "text": [
      "91\n",
      "137\n"
     ]
    },
    {
     "name": "stderr",
     "output_type": "stream",
     "text": [
      "PermutationExplainer explainer: 1531it [07:25,  3.36it/s]                                                              \n"
     ]
    },
    {
     "name": "stdout",
     "output_type": "stream",
     "text": [
      "117\n",
      "107\n"
     ]
    },
    {
     "name": "stderr",
     "output_type": "stream",
     "text": [
      "PermutationExplainer explainer: 1625it [05:47,  4.54it/s]                                                              \n"
     ]
    },
    {
     "name": "stdout",
     "output_type": "stream",
     "text": [
      "91\n",
      "57\n"
     ]
    },
    {
     "name": "stderr",
     "output_type": "stream",
     "text": [
      "PermutationExplainer explainer: 1751it [05:23,  5.24it/s]                                                              \n"
     ]
    },
    {
     "name": "stdout",
     "output_type": "stream",
     "text": [
      "10\n",
      "60\n"
     ]
    },
    {
     "name": "stderr",
     "output_type": "stream",
     "text": [
      "PermutationExplainer explainer: 1802it [05:57,  4.90it/s]                                                              \n"
     ]
    },
    {
     "name": "stdout",
     "output_type": "stream",
     "text": [
      "51\n",
      "106\n"
     ]
    },
    {
     "name": "stderr",
     "output_type": "stream",
     "text": [
      "PermutationExplainer explainer: 1875it [10:12,  3.01it/s]                                                              \n"
     ]
    },
    {
     "name": "stdout",
     "output_type": "stream",
     "text": [
      "76\n",
      "65\n"
     ]
    },
    {
     "name": "stderr",
     "output_type": "stream",
     "text": [
      "PermutationExplainer explainer: 1957it [07:16,  4.37it/s]                                                              \n"
     ]
    },
    {
     "name": "stdout",
     "output_type": "stream",
     "text": [
      "45\n",
      "76\n"
     ]
    },
    {
     "name": "stderr",
     "output_type": "stream",
     "text": [
      "PermutationExplainer explainer: 1969it [07:41,  4.16it/s]                                                              \n"
     ]
    },
    {
     "name": "stdout",
     "output_type": "stream",
     "text": [
      "51\n",
      "144\n"
     ]
    },
    {
     "name": "stderr",
     "output_type": "stream",
     "text": [
      "PermutationExplainer explainer: 2061it [11:32,  2.93it/s]                                                              \n"
     ]
    },
    {
     "name": "stdout",
     "output_type": "stream",
     "text": [
      "128\n",
      "96\n"
     ]
    },
    {
     "name": "stderr",
     "output_type": "stream",
     "text": [
      "PermutationExplainer explainer: 1973it [07:50,  4.10it/s]                                                              \n"
     ]
    },
    {
     "name": "stdout",
     "output_type": "stream",
     "text": [
      "75\n",
      "47\n"
     ]
    },
    {
     "name": "stderr",
     "output_type": "stream",
     "text": [
      "PermutationExplainer explainer: 2042it [08:28,  3.93it/s]                                                              \n"
     ]
    },
    {
     "name": "stdout",
     "output_type": "stream",
     "text": [
      "30\n",
      "115\n"
     ]
    },
    {
     "name": "stderr",
     "output_type": "stream",
     "text": [
      "PermutationExplainer explainer: 2081it [09:54,  3.43it/s]                                                              \n"
     ]
    },
    {
     "name": "stdout",
     "output_type": "stream",
     "text": [
      "101\n",
      "73\n"
     ]
    },
    {
     "name": "stderr",
     "output_type": "stream",
     "text": [
      "PermutationExplainer explainer: 2136it [10:15,  3.42it/s]                                                              \n"
     ]
    },
    {
     "name": "stdout",
     "output_type": "stream",
     "text": [
      "30\n",
      "106\n"
     ]
    },
    {
     "name": "stderr",
     "output_type": "stream",
     "text": [
      "PermutationExplainer explainer: 1949it [07:10,  4.41it/s]                                                              \n"
     ]
    },
    {
     "name": "stdout",
     "output_type": "stream",
     "text": [
      "82\n",
      "92\n"
     ]
    },
    {
     "name": "stderr",
     "output_type": "stream",
     "text": [
      "PermutationExplainer explainer: 1965it [07:36,  4.22it/s]                                                              \n"
     ]
    },
    {
     "name": "stdout",
     "output_type": "stream",
     "text": [
      "78\n",
      "149\n"
     ]
    },
    {
     "name": "stderr",
     "output_type": "stream",
     "text": [
      "PermutationExplainer explainer: 1951it [14:51,  2.17it/s]                                                              \n"
     ]
    },
    {
     "name": "stdout",
     "output_type": "stream",
     "text": [
      "137\n",
      "127\n"
     ]
    },
    {
     "name": "stderr",
     "output_type": "stream",
     "text": [
      "PermutationExplainer explainer: 2006it [07:54,  4.14it/s]                                                              \n"
     ]
    },
    {
     "name": "stdout",
     "output_type": "stream",
     "text": [
      "116\n",
      "172\n"
     ]
    },
    {
     "name": "stderr",
     "output_type": "stream",
     "text": [
      "PermutationExplainer explainer: 2006it [15:26,  2.14it/s]                                                              \n"
     ]
    },
    {
     "name": "stdout",
     "output_type": "stream",
     "text": [
      "162\n",
      "57\n"
     ]
    },
    {
     "name": "stderr",
     "output_type": "stream",
     "text": [
      "PermutationExplainer explainer: 2067it [06:20,  5.30it/s]                                                              \n"
     ]
    },
    {
     "name": "stdout",
     "output_type": "stream",
     "text": [
      "34\n",
      "173\n"
     ]
    },
    {
     "name": "stderr",
     "output_type": "stream",
     "text": [
      "PermutationExplainer explainer: 2109it [19:56,  1.75it/s]                                                              \n"
     ]
    },
    {
     "name": "stdout",
     "output_type": "stream",
     "text": [
      "161\n",
      "129\n"
     ]
    },
    {
     "name": "stderr",
     "output_type": "stream",
     "text": [
      "PermutationExplainer explainer: 2155it [11:58,  2.96it/s]                                                              \n"
     ]
    },
    {
     "name": "stdout",
     "output_type": "stream",
     "text": [
      "105\n",
      "168\n"
     ]
    },
    {
     "name": "stderr",
     "output_type": "stream",
     "text": [
      "PermutationExplainer explainer: 2155it [15:37,  2.27it/s]                                                              "
     ]
    },
    {
     "name": "stdout",
     "output_type": "stream",
     "text": [
      "161\n"
     ]
    },
    {
     "name": "stderr",
     "output_type": "stream",
     "text": [
      "\n"
     ]
    }
   ],
   "source": [
    "for i in range(len(start_dates)-1):\n",
    "    \n",
    "    valid_1 = new_valid_data[i].copy()\n",
    "    cols = new_valid_data[i].columns\n",
    "    \n",
    "    print(len(cols))\n",
    "    \n",
    "    valid_1['rets'] = valid_frames[i]['next_period_return'].values\n",
    "    \n",
    "    rf_clf = classifiers[i]\n",
    "    \n",
    "    explainer = shap.explainers.Permutation(model,valid_1)\n",
    "    shap_values = explainer(valid_1,max_evals=1000,)\n",
    "    \n",
    "    shap_cols = cols[np.abs(shap_values[:,:-1].values).mean(axis=0)>0.000]\n",
    "    \n",
    "    if shap_cols.empty:\n",
    "        shap_cols = cols[:10]\n",
    "        \n",
    "    print(len(shap_cols))\n",
    "    \n",
    "    shap_features.append(shap_cols)\n",
    "    "
   ]
  },
  {
   "cell_type": "code",
   "execution_count": 211,
   "metadata": {},
   "outputs": [],
   "source": [
    "with open(r'shap_features.pkl','wb') as f:\n",
    "    cPickle.dump(shap_features,f)"
   ]
  },
  {
   "cell_type": "code",
   "execution_count": 212,
   "metadata": {},
   "outputs": [],
   "source": [
    "with open(r'shap_features.pkl','rb') as f:\n",
    "    shap_features = cPickle.load(f)"
   ]
  },
  {
   "cell_type": "code",
   "execution_count": 213,
   "metadata": {},
   "outputs": [],
   "source": [
    "start_dates = [pd.to_datetime('2001-01-01') + pd.DateOffset(months = 3*i) for i in range(56)]\n",
    "end_dates = [d + pd.DateOffset(months = 36) for d in start_dates]"
   ]
  },
  {
   "cell_type": "code",
   "execution_count": 214,
   "metadata": {},
   "outputs": [],
   "source": [
    "training_frames = [data.loc[d:d+pd.DateOffset(months = 36)] for d in start_dates]\n",
    "test_frames = [data.loc[d+pd.DateOffset(months = 9):d+pd.DateOffset(months = 12)] for d in end_dates]"
   ]
  },
  {
   "cell_type": "code",
   "execution_count": 113,
   "metadata": {},
   "outputs": [],
   "source": [
    "training_labels = [d['rel_performance'].values for d in training_frames]"
   ]
  },
  {
   "cell_type": "code",
   "execution_count": 215,
   "metadata": {
    "ExecuteTime": {
     "end_time": "2020-02-11T01:00:33.994294Z",
     "start_time": "2020-02-11T01:00:33.869286Z"
    }
   },
   "outputs": [],
   "source": [
    "scalers = [StandardScaler() for i in range(len(start_dates)-1)]\n",
    "           \n",
    "opt_training_data = [pd.DataFrame(scalers[i].fit_transform(training_frames[i][shap_features[i]].values),columns=shap_features[i]) for i in range(len(start_dates)-1)]\n",
    "opt_test_data = [pd.DataFrame(scalers[i].transform(test_frames[i][shap_features[i]].values),columns=shap_features[i]) for i in range(len(start_dates)-1)]"
   ]
  },
  {
   "cell_type": "code",
   "execution_count": 216,
   "metadata": {
    "ExecuteTime": {
     "end_time": "2020-02-11T01:01:15.387898Z",
     "start_time": "2020-02-11T01:00:58.271824Z"
    }
   },
   "outputs": [],
   "source": [
    "x = [1]\n",
    "ret = []\n",
    "\n",
    "for i in range(len(start_dates)-1):\n",
    "        \n",
    "        classifiers[i].fit(opt_training_data[i],training_labels[i])\n",
    "\n",
    "        preds = classifiers[i].predict(opt_test_data[i])\n",
    "        profit_i = (preds*test_frames[i]['next_period_return']).sum()\n",
    "        ret.append(profit_i)\n",
    "        num_names = len(opt_test_data[i])\n",
    "        x.append(x[i] + (x[i]/num_names)*profit_i)"
   ]
  },
  {
   "cell_type": "code",
   "execution_count": null,
   "metadata": {},
   "outputs": [],
   "source": []
  },
  {
   "cell_type": "code",
   "execution_count": 217,
   "metadata": {
    "ExecuteTime": {
     "end_time": "2020-02-11T01:01:20.294124Z",
     "start_time": "2020-02-11T01:01:20.107095Z"
    }
   },
   "outputs": [
    {
     "data": {
      "image/png": "[encoded data removed]",
      "text/plain": [
       "<Figure size 640x480 with 1 Axes>"
      ]
     },
     "metadata": {},
     "output_type": "display_data"
    }
   ],
   "source": [
    "plt.plot(x);"
   ]
  },
  {
   "cell_type": "code",
   "execution_count": 218,
   "metadata": {},
   "outputs": [
    {
     "data": {
      "text/plain": [
       "56"
      ]
     },
     "execution_count": 218,
     "metadata": {},
     "output_type": "execute_result"
    }
   ],
   "source": [
    "len(x)"
   ]
  },
  {
   "cell_type": "code",
   "execution_count": 219,
   "metadata": {
    "ExecuteTime": {
     "end_time": "2020-02-11T01:01:37.494042Z",
     "start_time": "2020-02-11T01:01:37.445007Z"
    }
   },
   "outputs": [],
   "source": [
    "SPY = pd.read_pickle(r'C:\\Users\\niels\\OneDrive\\Machine Learning 2022\\Lecture 2\\SPY_cum_ret.pkl')\n",
    "SPY = SPY.loc['2005-01-01':'2018-12-01']\n",
    "SPY = SPY.resample('Q').ffill()\n",
    "SPY['spy_cum_ret'] = (SPY['spy_cum_ret'] - SPY['spy_cum_ret'][0] + 1)\n",
    "SPY['strategy'] = x"
   ]
  },
  {
   "cell_type": "code",
   "execution_count": 220,
   "metadata": {
    "ExecuteTime": {
     "end_time": "2020-02-11T01:01:41.397432Z",
     "start_time": "2020-02-11T01:01:41.198433Z"
    }
   },
   "outputs": [
    {
     "data": {
      "image/png": "[encoded data removed]",
      "text/plain": [
       "<Figure size 640x480 with 1 Axes>"
      ]
     },
     "metadata": {},
     "output_type": "display_data"
    }
   ],
   "source": [
    "SPY.plot();"
   ]
  },
  {
   "cell_type": "code",
   "execution_count": 221,
   "metadata": {},
   "outputs": [
    {
     "name": "stdout",
     "output_type": "stream",
     "text": [
      "Strategy Sharpe Ratio:  0.43179802110447\n"
     ]
    }
   ],
   "source": [
    "strategy_mean_ret = (SPY['strategy'] - 1).diff().mean()\n",
    "strategy_std = (SPY['strategy'] - 1).diff().std()\n",
    "strategy_sr = strategy_mean_ret/strategy_std\n",
    "print('Strategy Sharpe Ratio: ',strategy_sr)"
   ]
  },
  {
   "cell_type": "code",
   "execution_count": 222,
   "metadata": {},
   "outputs": [
    {
     "data": {
      "text/plain": [
       "0.11984647603033143"
      ]
     },
     "execution_count": 222,
     "metadata": {},
     "output_type": "execute_result"
    }
   ],
   "source": [
    " (SPY['strategy'] - 1).diff().std()"
   ]
  },
  {
   "cell_type": "code",
   "execution_count": 223,
   "metadata": {
    "ExecuteTime": {
     "end_time": "2020-02-11T01:01:46.417678Z",
     "start_time": "2020-02-11T01:01:46.157159Z"
    }
   },
   "outputs": [
    {
     "data": {
      "image/png": "[encoded data removed]",
      "text/plain": [
       "<Figure size 640x480 with 1 Axes>"
      ]
     },
     "metadata": {},
     "output_type": "display_data"
    }
   ],
   "source": [
    "SPY = SPY.resample('Y').ffill()\n",
    "SPY.plot();"
   ]
  },
  {
   "cell_type": "code",
   "execution_count": 233,
   "metadata": {},
   "outputs": [
    {
     "data": {
      "text/html": [
       "<div>\n",
       "<style scoped>\n",
       "    .dataframe tbody tr th:only-of-type {\n",
       "        vertical-align: middle;\n",
       "    }\n",
       "\n",
       "    .dataframe tbody tr th {\n",
       "        vertical-align: top;\n",
       "    }\n",
       "\n",
       "    .dataframe thead th {\n",
       "        text-align: right;\n",
       "    }\n",
       "</style>\n",
       "<table border=\"1\" class=\"dataframe\">\n",
       "  <thead>\n",
       "    <tr style=\"text-align: right;\">\n",
       "      <th></th>\n",
       "      <th>spy_cum_ret</th>\n",
       "      <th>strategy</th>\n",
       "    </tr>\n",
       "    <tr>\n",
       "      <th>date</th>\n",
       "      <th></th>\n",
       "      <th></th>\n",
       "    </tr>\n",
       "  </thead>\n",
       "  <tbody>\n",
       "    <tr>\n",
       "      <th>2005-12-31</th>\n",
       "      <td>1.071600</td>\n",
       "      <td>1.175280</td>\n",
       "    </tr>\n",
       "    <tr>\n",
       "      <th>2006-12-31</th>\n",
       "      <td>1.223723</td>\n",
       "      <td>1.280491</td>\n",
       "    </tr>\n",
       "    <tr>\n",
       "      <th>2007-12-31</th>\n",
       "      <td>1.286391</td>\n",
       "      <td>1.552134</td>\n",
       "    </tr>\n",
       "    <tr>\n",
       "      <th>2008-12-31</th>\n",
       "      <td>0.912606</td>\n",
       "      <td>1.436571</td>\n",
       "    </tr>\n",
       "    <tr>\n",
       "      <th>2009-12-31</th>\n",
       "      <td>1.181998</td>\n",
       "      <td>1.220051</td>\n",
       "    </tr>\n",
       "    <tr>\n",
       "      <th>2010-12-31</th>\n",
       "      <td>1.338326</td>\n",
       "      <td>1.444376</td>\n",
       "    </tr>\n",
       "    <tr>\n",
       "      <th>2011-12-31</th>\n",
       "      <td>1.383535</td>\n",
       "      <td>1.683986</td>\n",
       "    </tr>\n",
       "    <tr>\n",
       "      <th>2012-12-31</th>\n",
       "      <td>1.539919</td>\n",
       "      <td>1.853967</td>\n",
       "    </tr>\n",
       "    <tr>\n",
       "      <th>2013-12-31</th>\n",
       "      <td>1.826140</td>\n",
       "      <td>2.403830</td>\n",
       "    </tr>\n",
       "    <tr>\n",
       "      <th>2014-12-31</th>\n",
       "      <td>1.958780</td>\n",
       "      <td>2.807679</td>\n",
       "    </tr>\n",
       "    <tr>\n",
       "      <th>2015-12-31</th>\n",
       "      <td>1.983084</td>\n",
       "      <td>2.913218</td>\n",
       "    </tr>\n",
       "    <tr>\n",
       "      <th>2016-12-31</th>\n",
       "      <td>2.104964</td>\n",
       "      <td>3.128181</td>\n",
       "    </tr>\n",
       "    <tr>\n",
       "      <th>2017-12-31</th>\n",
       "      <td>2.303686</td>\n",
       "      <td>3.431097</td>\n",
       "    </tr>\n",
       "    <tr>\n",
       "      <th>2018-12-31</th>\n",
       "      <td>2.360133</td>\n",
       "      <td>3.846221</td>\n",
       "    </tr>\n",
       "  </tbody>\n",
       "</table>\n",
       "</div>"
      ],
      "text/plain": [
       "            spy_cum_ret  strategy\n",
       "date                             \n",
       "2005-12-31     1.071600  1.175280\n",
       "2006-12-31     1.223723  1.280491\n",
       "2007-12-31     1.286391  1.552134\n",
       "2008-12-31     0.912606  1.436571\n",
       "2009-12-31     1.181998  1.220051\n",
       "2010-12-31     1.338326  1.444376\n",
       "2011-12-31     1.383535  1.683986\n",
       "2012-12-31     1.539919  1.853967\n",
       "2013-12-31     1.826140  2.403830\n",
       "2014-12-31     1.958780  2.807679\n",
       "2015-12-31     1.983084  2.913218\n",
       "2016-12-31     2.104964  3.128181\n",
       "2017-12-31     2.303686  3.431097\n",
       "2018-12-31     2.360133  3.846221"
      ]
     },
     "execution_count": 233,
     "metadata": {},
     "output_type": "execute_result"
    }
   ],
   "source": [
    "SPY"
   ]
  },
  {
   "cell_type": "code",
   "execution_count": 234,
   "metadata": {},
   "outputs": [],
   "source": [
    "with open(r'rf strategy.pkl','wb') as f:\n",
    "    cPickle.dump(SPY['strategy'].values,f)"
   ]
  },
  {
   "cell_type": "code",
   "execution_count": 235,
   "metadata": {
    "ExecuteTime": {
     "end_time": "2020-02-11T01:01:54.486712Z",
     "start_time": "2020-02-11T01:01:54.468721Z"
    }
   },
   "outputs": [
    {
     "name": "stdout",
     "output_type": "stream",
     "text": [
      "Strategy Sharpe Ratio:  0.9871386064234094\n"
     ]
    }
   ],
   "source": [
    "strategy_mean_ret = (SPY['strategy'] - 1).diff().mean()\n",
    "strategy_std = (SPY['strategy'] - 1).diff().std()\n",
    "strategy_sr = strategy_mean_ret/strategy_std\n",
    "print('Strategy Sharpe Ratio: ',strategy_sr)"
   ]
  },
  {
   "cell_type": "code",
   "execution_count": 236,
   "metadata": {
    "ExecuteTime": {
     "end_time": "2020-02-11T01:02:00.792517Z",
     "start_time": "2020-02-11T01:02:00.786515Z"
    }
   },
   "outputs": [
    {
     "data": {
      "text/plain": [
       "3.8462209152432774"
      ]
     },
     "execution_count": 236,
     "metadata": {},
     "output_type": "execute_result"
    }
   ],
   "source": [
    "x[-1]"
   ]
  },
  {
   "cell_type": "code",
   "execution_count": 237,
   "metadata": {
    "ExecuteTime": {
     "end_time": "2020-02-09T20:42:59.954056Z",
     "start_time": "2020-02-09T20:42:59.949042Z"
    }
   },
   "outputs": [],
   "source": [
    "strategy_ret = (SPY['strategy'] - 1).diff().values[1:]\n",
    "spy_ret = (SPY['spy_cum_ret'] - 1).diff().values[1:]"
   ]
  },
  {
   "cell_type": "code",
   "execution_count": 238,
   "metadata": {
    "ExecuteTime": {
     "end_time": "2020-02-09T20:43:01.135837Z",
     "start_time": "2020-02-09T20:43:01.130715Z"
    }
   },
   "outputs": [],
   "source": [
    "beta = (np.cov(spy_ret,strategy_ret)/np.var(spy_ret))[1,0]"
   ]
  },
  {
   "cell_type": "code",
   "execution_count": 239,
   "metadata": {
    "ExecuteTime": {
     "end_time": "2020-02-09T20:43:02.086883Z",
     "start_time": "2020-02-09T20:43:02.081733Z"
    }
   },
   "outputs": [
    {
     "data": {
      "text/plain": [
       "0.5040288914314816"
      ]
     },
     "execution_count": 239,
     "metadata": {},
     "output_type": "execute_result"
    }
   ],
   "source": [
    "beta "
   ]
  },
  {
   "cell_type": "code",
   "execution_count": 240,
   "metadata": {},
   "outputs": [
    {
     "name": "stdout",
     "output_type": "stream",
     "text": [
      "beta:  0.5040288914314816\n",
      "Information Ratio:  0.8348508236322844\n"
     ]
    }
   ],
   "source": [
    "strategy_ret = (SPY['strategy'] - 1).diff().values[1:]\n",
    "spy_ret = (SPY['spy_cum_ret'] - 1).diff().values[1:]\n",
    "beta = (np.cov(spy_ret,strategy_ret)/np.var(spy_ret))[1,0]\n",
    "print('beta: ',beta)\n",
    "residual_ret = strategy_ret - beta * spy_ret\n",
    "IR = np.mean(residual_ret)/np.std(residual_ret)\n",
    "print('Information Ratio: ',IR)"
   ]
  },
  {
   "cell_type": "code",
   "execution_count": 241,
   "metadata": {
    "ExecuteTime": {
     "end_time": "2020-02-09T20:43:08.280790Z",
     "start_time": "2020-02-09T20:43:08.275790Z"
    }
   },
   "outputs": [],
   "source": [
    "alpha = np.mean(residual_ret)"
   ]
  },
  {
   "cell_type": "code",
   "execution_count": 242,
   "metadata": {
    "ExecuteTime": {
     "end_time": "2020-02-09T20:43:09.378792Z",
     "start_time": "2020-02-09T20:43:09.373790Z"
    }
   },
   "outputs": [
    {
     "data": {
      "text/plain": [
       "0.15549869715525858"
      ]
     },
     "execution_count": 242,
     "metadata": {},
     "output_type": "execute_result"
    }
   ],
   "source": [
    "alpha"
   ]
  },
  {
   "cell_type": "code",
   "execution_count": null,
   "metadata": {},
   "outputs": [],
   "source": []
  }
 ],
 "metadata": {
  "kernelspec": {
   "display_name": "Python 3 (ipykernel)",
   "language": "python",
   "name": "python3"
  },
  "language_info": {
   "codemirror_mode": {
    "name": "ipython",
    "version": 3
   },
   "file_extension": ".py",
   "mimetype": "text/x-python",
   "name": "python",
   "nbconvert_exporter": "python",
   "pygments_lexer": "ipython3",
   "version": "3.11.5"
  },
  "latex_envs": {
   "LaTeX_envs_menu_present": true,
   "autoclose": false,
   "autocomplete": true,
   "bibliofile": "biblio.bib",
   "cite_by": "apalike",
   "current_citInitial": 1,
   "eqLabelWithNumbers": true,
   "eqNumInitial": 1,
   "hotkeys": {
    "equation": "Ctrl-E",
    "itemize": "Ctrl-I"
   },
   "labels_anchors": false,
   "latex_user_defs": false,
   "report_style_numbering": false,
   "user_envs_cfg": false
  }
 },
 "nbformat": 4,
 "nbformat_minor": 2
}
