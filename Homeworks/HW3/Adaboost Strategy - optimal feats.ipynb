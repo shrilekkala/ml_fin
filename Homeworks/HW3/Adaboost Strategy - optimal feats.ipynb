{
 "cells": [
  {
   "cell_type": "code",
   "execution_count": 1,
   "metadata": {
    "ExecuteTime": {
     "end_time": "2020-03-03T02:04:18.675044Z",
     "start_time": "2020-03-03T02:04:15.120387Z"
    }
   },
   "outputs": [],
   "source": [
    "import pandas as pd\n",
    "import numpy as np\n",
    "import matplotlib.pyplot as plt\n",
    "%matplotlib inline\n",
    "from sklearn.metrics import accuracy_score, confusion_matrix\n",
    "from sklearn.tree import DecisionTreeClassifier\n",
    "from sklearn.ensemble import AdaBoostClassifier\n",
    "import sklearn\n",
    "pd.set_option('use_inf_as_na', True)\n",
    "from collections import Counter"
   ]
  },
  {
   "cell_type": "code",
   "execution_count": 2,
   "metadata": {
    "ExecuteTime": {
     "end_time": "2020-03-03T02:04:21.903526Z",
     "start_time": "2020-03-03T02:04:19.923963Z"
    }
   },
   "outputs": [],
   "source": [
    "raw_data = pd.read_pickle(r'C:\\Users\\niels\\OneDrive\\Machine Learning 2022\\Lecture 2\\dataset.pkl')\n",
    "data = raw_data[raw_data['market_cap'] > 1000.0]\n",
    "data = data.copy()\n",
    "data.fillna(0.0,inplace=True)"
   ]
  },
  {
   "cell_type": "code",
   "execution_count": 3,
   "metadata": {
    "ExecuteTime": {
     "end_time": "2020-03-03T02:04:24.516696Z",
     "start_time": "2020-03-03T02:04:24.512695Z"
    }
   },
   "outputs": [],
   "source": [
    "def f(x):\n",
    "    if x > 0.01:\n",
    "        return 1\n",
    "    elif x < -0.025:\n",
    "        return -1\n",
    "    else:\n",
    "    \n",
    "        return 0"
   ]
  },
  {
   "cell_type": "code",
   "execution_count": 4,
   "metadata": {
    "ExecuteTime": {
     "end_time": "2020-03-03T02:04:30.421746Z",
     "start_time": "2020-03-03T02:04:30.370536Z"
    }
   },
   "outputs": [],
   "source": [
    "data['rel_performance'] = data['pred_rel_return'].apply(f)\n",
    "data.reset_index(inplace=True)\n",
    "data.set_index('date',inplace=True)"
   ]
  },
  {
   "cell_type": "code",
   "execution_count": 5,
   "metadata": {},
   "outputs": [],
   "source": [
    "from sklearn.preprocessing import MinMaxScaler,StandardScaler\n",
    "scaler = StandardScaler()"
   ]
  },
  {
   "cell_type": "markdown",
   "metadata": {},
   "source": [
    "## Long term performance with Random Forest Classifier, optimal hyper-parameters"
   ]
  },
  {
   "cell_type": "code",
   "execution_count": 6,
   "metadata": {
    "ExecuteTime": {
     "end_time": "2020-02-11T00:59:21.882803Z",
     "start_time": "2020-02-11T00:59:21.859799Z"
    }
   },
   "outputs": [],
   "source": [
    "start_dates = [pd.to_datetime('2001-01-01') + pd.DateOffset(months = 3*i) for i in range(57)]\n",
    "end_dates = [d + pd.DateOffset(months = 36) for d in start_dates]"
   ]
  },
  {
   "cell_type": "code",
   "execution_count": 7,
   "metadata": {
    "ExecuteTime": {
     "end_time": "2020-02-11T01:00:06.107690Z",
     "start_time": "2020-02-11T01:00:06.050640Z"
    }
   },
   "outputs": [],
   "source": [
    "training_frames = [data.loc[d:d+pd.DateOffset(months = 36)] for d in start_dates]\n",
    "valid_frames = [data.loc[d+pd.DateOffset(months = 3):d+pd.DateOffset(months = 6)] for d in end_dates]\n",
    "test_frames = [data.loc[d+pd.DateOffset(months = 9):d+pd.DateOffset(months = 12)] for d in end_dates]"
   ]
  },
  {
   "cell_type": "code",
   "execution_count": 8,
   "metadata": {
    "ExecuteTime": {
     "end_time": "2020-02-11T01:00:20.984116Z",
     "start_time": "2020-02-11T01:00:11.072616Z"
    }
   },
   "outputs": [],
   "source": [
    "training_data = [d.reset_index().drop\n",
    "                                 (['ticker','date',\n",
    "                                   'next_period_return',\n",
    "                                   'spy_next_period_return',\n",
    "                                   'rel_performance','pred_rel_return',\n",
    "                                  'return', 'cum_ret', 'spy_cum_ret'],axis=1) for d in training_frames]"
   ]
  },
  {
   "cell_type": "code",
   "execution_count": 9,
   "metadata": {},
   "outputs": [],
   "source": [
    "valid_data = [d.reset_index().drop\n",
    "                                 (['ticker','date',\n",
    "                                   'next_period_return',\n",
    "                                   'spy_next_period_return',\n",
    "                                   'rel_performance','pred_rel_return',\n",
    "                                  'return', 'cum_ret', 'spy_cum_ret'],axis=1) for d in valid_frames]"
   ]
  },
  {
   "cell_type": "code",
   "execution_count": 10,
   "metadata": {
    "ExecuteTime": {
     "end_time": "2020-02-11T01:00:22.138142Z",
     "start_time": "2020-02-11T01:00:20.986086Z"
    }
   },
   "outputs": [],
   "source": [
    "test_data = [d.reset_index().drop(['ticker','date',\n",
    "                                   'next_period_return',\n",
    "                                   'spy_next_period_return',\n",
    "                                   'rel_performance','pred_rel_return',\n",
    "                                  'return', 'cum_ret', 'spy_cum_ret'],axis=1) for d in test_frames]"
   ]
  },
  {
   "cell_type": "code",
   "execution_count": 11,
   "metadata": {
    "ExecuteTime": {
     "end_time": "2020-02-11T01:00:28.172336Z",
     "start_time": "2020-02-11T01:00:28.162322Z"
    }
   },
   "outputs": [],
   "source": [
    "training_labels = [d['rel_performance'].values for d in training_frames]\n",
    "valid_labels = [d['rel_performance'].values for d in valid_frames] "
   ]
  },
  {
   "cell_type": "code",
   "execution_count": 12,
   "metadata": {},
   "outputs": [],
   "source": [
    "for i in range(len(start_dates)-1):\n",
    "    float_vars = [x for x in training_data[i].columns if data[x].dtype == 'float64']\n",
    "\n",
    "    scaler = StandardScaler()\n",
    "    training_data[i] = training_data[i].copy()\n",
    "    valid_data[i] = valid_data[i].copy()\n",
    "    test_data[i] = test_data[i].copy()\n",
    "    training_data[i][float_vars] = scaler.fit_transform(training_data[i][float_vars])\n",
    "    valid_data[i][float_vars] = scaler.transform(valid_data[i][float_vars])\n",
    "    test_data[i][float_vars] = scaler.transform(test_data[i][float_vars])\n",
    "        \n",
    "    "
   ]
  },
  {
   "cell_type": "code",
   "execution_count": 13,
   "metadata": {},
   "outputs": [],
   "source": [
    "import optuna\n",
    "from optuna.trial import Trial\n",
    "optuna.logging.set_verbosity(optuna.logging.FATAL)\n",
    "import warnings\n",
    "warnings.filterwarnings(\"ignore\")"
   ]
  },
  {
   "cell_type": "code",
   "execution_count": 14,
   "metadata": {},
   "outputs": [],
   "source": [
    "def objective(trial:Trial,train=None,labels=None,val=None,val_labels=None,val_rets=None):\n",
    "\n",
    "    ada_m_depth = trial.suggest_int('max_depth',1,3,step=1)\n",
    "    ada_n_estimators = trial.suggest_int('n_estimators', 10,100,step=10)\n",
    "    ada_learning_rate = trial.suggest_float('learning_rate',0.1,0.5, step=0.1)\n",
    "\n",
    "    \n",
    "    ada_clf = AdaBoostClassifier(DecisionTreeClassifier(max_depth=ada_m_depth),\n",
    "                                 n_estimators=ada_n_estimators,\n",
    "                                 learning_rate=ada_learning_rate,\n",
    "                                 algorithm=\"SAMME.R\")\n",
    "\n",
    "    ada_clf.fit(train,labels)\n",
    "    preds = ada_clf.predict(val)\n",
    "    accuracy = ada_clf.score(val,val_labels)\n",
    " \n",
    "    return accuracy\n"
   ]
  },
  {
   "cell_type": "code",
   "execution_count": 1,
   "metadata": {},
   "outputs": [],
   "source": [
    "optimal_hyperparameters = []"
   ]
  },
  {
   "cell_type": "code",
   "execution_count": 2,
   "metadata": {},
   "outputs": [],
   "source": [
    "from functools import partial"
   ]
  },
  {
   "cell_type": "code",
   "execution_count": null,
   "metadata": {
    "scrolled": true
   },
   "outputs": [],
   "source": [
    "for i in range(len(start_dates)-1):\n",
    "    \n",
    "    study = optuna.create_study(direction=\"maximize\")\n",
    "    \n",
    "    study.optimize(partial(objective,\n",
    "                           train=training_data[i],\n",
    "                           labels=training_labels[i],\n",
    "                           val=valid_data[i],\n",
    "                           val_labels=valid_labels[i],\n",
    "                           val_rets=valid_frames[i]['next_period_return']), n_trials=25,n_jobs=-1)\n",
    "    \n",
    "    optimal_hyperparameters.append(study.best_params)  \n",
    "    print(study.best_params)\n",
    "    "
   ]
  },
  {
   "cell_type": "code",
   "execution_count": 36,
   "metadata": {},
   "outputs": [],
   "source": [
    "import _pickle as cPickle"
   ]
  },
  {
   "cell_type": "code",
   "execution_count": null,
   "metadata": {},
   "outputs": [],
   "source": [
    "with open(r'optimal_hyperparameters_ada_01.pkl','wb') as f:\n",
    "    pickle.dump(optimal_hyperparameters,f)"
   ]
  },
  {
   "cell_type": "code",
   "execution_count": 37,
   "metadata": {},
   "outputs": [],
   "source": [
    "with open(r'optimal_hyperparameters_ada_01.pkl','rb') as f:\n",
    "    optimal_hyperparameters = cPickle.load(f)"
   ]
  },
  {
   "cell_type": "code",
   "execution_count": 18,
   "metadata": {},
   "outputs": [
    {
     "data": {
      "text/plain": [
       "[{'max_depth': 3, 'n_estimators': 70, 'learning_rate': 0.5},\n",
       " {'max_depth': 3, 'n_estimators': 10, 'learning_rate': 0.5},\n",
       " {'max_depth': 2, 'n_estimators': 70, 'learning_rate': 0.4},\n",
       " {'max_depth': 3, 'n_estimators': 20, 'learning_rate': 0.1},\n",
       " {'max_depth': 2, 'n_estimators': 90, 'learning_rate': 0.5},\n",
       " {'max_depth': 1, 'n_estimators': 10, 'learning_rate': 0.5},\n",
       " {'max_depth': 2, 'n_estimators': 80, 'learning_rate': 0.5},\n",
       " {'max_depth': 1, 'n_estimators': 70, 'learning_rate': 0.5},\n",
       " {'max_depth': 1, 'n_estimators': 30, 'learning_rate': 0.5},\n",
       " {'max_depth': 3, 'n_estimators': 60, 'learning_rate': 0.30000000000000004},\n",
       " {'max_depth': 1, 'n_estimators': 30, 'learning_rate': 0.2},\n",
       " {'max_depth': 3, 'n_estimators': 10, 'learning_rate': 0.2},\n",
       " {'max_depth': 3, 'n_estimators': 10, 'learning_rate': 0.4},\n",
       " {'max_depth': 2, 'n_estimators': 40, 'learning_rate': 0.5},\n",
       " {'max_depth': 2, 'n_estimators': 100, 'learning_rate': 0.2},\n",
       " {'max_depth': 2, 'n_estimators': 100, 'learning_rate': 0.5},\n",
       " {'max_depth': 2, 'n_estimators': 80, 'learning_rate': 0.4},\n",
       " {'max_depth': 3, 'n_estimators': 90, 'learning_rate': 0.1},\n",
       " {'max_depth': 3, 'n_estimators': 100, 'learning_rate': 0.5},\n",
       " {'max_depth': 3, 'n_estimators': 10, 'learning_rate': 0.1},\n",
       " {'max_depth': 1, 'n_estimators': 20, 'learning_rate': 0.2},\n",
       " {'max_depth': 1, 'n_estimators': 10, 'learning_rate': 0.30000000000000004},\n",
       " {'max_depth': 2, 'n_estimators': 70, 'learning_rate': 0.4},\n",
       " {'max_depth': 1, 'n_estimators': 50, 'learning_rate': 0.1},\n",
       " {'max_depth': 3, 'n_estimators': 10, 'learning_rate': 0.1},\n",
       " {'max_depth': 1, 'n_estimators': 100, 'learning_rate': 0.30000000000000004},\n",
       " {'max_depth': 1, 'n_estimators': 90, 'learning_rate': 0.2},\n",
       " {'max_depth': 1, 'n_estimators': 40, 'learning_rate': 0.30000000000000004},\n",
       " {'max_depth': 2, 'n_estimators': 10, 'learning_rate': 0.1},\n",
       " {'max_depth': 3, 'n_estimators': 70, 'learning_rate': 0.5},\n",
       " {'max_depth': 3, 'n_estimators': 100, 'learning_rate': 0.2},\n",
       " {'max_depth': 1, 'n_estimators': 20, 'learning_rate': 0.30000000000000004},\n",
       " {'max_depth': 3, 'n_estimators': 80, 'learning_rate': 0.4},\n",
       " {'max_depth': 3, 'n_estimators': 80, 'learning_rate': 0.4},\n",
       " {'max_depth': 1, 'n_estimators': 80, 'learning_rate': 0.1},\n",
       " {'max_depth': 1, 'n_estimators': 40, 'learning_rate': 0.1},\n",
       " {'max_depth': 1, 'n_estimators': 50, 'learning_rate': 0.5},\n",
       " {'max_depth': 1, 'n_estimators': 40, 'learning_rate': 0.1},\n",
       " {'max_depth': 1, 'n_estimators': 30, 'learning_rate': 0.2},\n",
       " {'max_depth': 2, 'n_estimators': 90, 'learning_rate': 0.5},\n",
       " {'max_depth': 1, 'n_estimators': 40, 'learning_rate': 0.4},\n",
       " {'max_depth': 3, 'n_estimators': 90, 'learning_rate': 0.5},\n",
       " {'max_depth': 1, 'n_estimators': 100, 'learning_rate': 0.4},\n",
       " {'max_depth': 3, 'n_estimators': 50, 'learning_rate': 0.1},\n",
       " {'max_depth': 1, 'n_estimators': 20, 'learning_rate': 0.1},\n",
       " {'max_depth': 1, 'n_estimators': 80, 'learning_rate': 0.5},\n",
       " {'max_depth': 2, 'n_estimators': 100, 'learning_rate': 0.4},\n",
       " {'max_depth': 3, 'n_estimators': 30, 'learning_rate': 0.4},\n",
       " {'max_depth': 3, 'n_estimators': 40, 'learning_rate': 0.2},\n",
       " {'max_depth': 1, 'n_estimators': 20, 'learning_rate': 0.1},\n",
       " {'max_depth': 1, 'n_estimators': 30, 'learning_rate': 0.1},\n",
       " {'max_depth': 3, 'n_estimators': 30, 'learning_rate': 0.1},\n",
       " {'max_depth': 1, 'n_estimators': 80, 'learning_rate': 0.5},\n",
       " {'max_depth': 2, 'n_estimators': 100, 'learning_rate': 0.30000000000000004},\n",
       " {'max_depth': 2, 'n_estimators': 100, 'learning_rate': 0.2},\n",
       " {'max_depth': 2, 'n_estimators': 80, 'learning_rate': 0.5}]"
      ]
     },
     "execution_count": 18,
     "metadata": {},
     "output_type": "execute_result"
    }
   ],
   "source": [
    "optimal_hyperparameters"
   ]
  },
  {
   "cell_type": "code",
   "execution_count": 19,
   "metadata": {},
   "outputs": [],
   "source": [
    "classifiers = []"
   ]
  },
  {
   "cell_type": "code",
   "execution_count": 40,
   "metadata": {},
   "outputs": [],
   "source": [
    "for hyp_par in optimal_hyperparameters:\n",
    "    max_depth = hyp_par['max_depth']\n",
    "    n_estimators = hyp_par['n_estimators']\n",
    "    learning_rate = hyp_par['learning_rate']\n",
    "    ada_clf = AdaBoostClassifier(DecisionTreeClassifier(max_depth=max_depth),n_estimators=n_estimators,learning_rate=learning_rate)\n",
    "    classifiers.append(ada_clf)"
   ]
  },
  {
   "cell_type": "code",
   "execution_count": 41,
   "metadata": {},
   "outputs": [],
   "source": [
    "for i in range(len(start_dates)-1): \n",
    "    classifiers[i].fit(training_data[i],training_labels[i])"
   ]
  },
  {
   "cell_type": "code",
   "execution_count": 42,
   "metadata": {},
   "outputs": [],
   "source": [
    "with open(r'classifiers_ada_01.pkl','wb') as f:\n",
    "    cPickle.dump(classifiers,f)"
   ]
  },
  {
   "cell_type": "code",
   "execution_count": 44,
   "metadata": {},
   "outputs": [],
   "source": [
    "with open(r'classifiers_ada_01.pkl','rb') as f:\n",
    "    classifiers = cPickle.load(f)"
   ]
  },
  {
   "cell_type": "code",
   "execution_count": 45,
   "metadata": {
    "ExecuteTime": {
     "end_time": "2020-02-11T00:30:26.233418Z",
     "start_time": "2020-02-11T00:30:26.207352Z"
    }
   },
   "outputs": [],
   "source": [
    "def adaboost_feat_importances(m, df):\n",
    "        \n",
    "    return pd.DataFrame({'cols':df.columns, 'feat_imp': m.feature_importances_}\n",
    "                       ).sort_values('feat_imp', ascending=False)"
   ]
  },
  {
   "cell_type": "code",
   "execution_count": 47,
   "metadata": {},
   "outputs": [],
   "source": [
    "significant_features = []"
   ]
  },
  {
   "cell_type": "code",
   "execution_count": 48,
   "metadata": {},
   "outputs": [
    {
     "name": "stdout",
     "output_type": "stream",
     "text": [
      "CPU times: total: 78.1 ms\n",
      "Wall time: 147 ms\n"
     ]
    }
   ],
   "source": [
    "%%time\n",
    "\n",
    "for i in range(len(start_dates)-1):\n",
    "\n",
    "    fi = adaboost_feat_importances(classifiers[i],training_data[i])\n",
    "    features = fi[fi['feat_imp'] > 0.016]\n",
    "    significant_features.append(features)"
   ]
  },
  {
   "cell_type": "code",
   "execution_count": 49,
   "metadata": {},
   "outputs": [
    {
     "data": {
      "text/html": [
       "<div>\n",
       "<style scoped>\n",
       "    .dataframe tbody tr th:only-of-type {\n",
       "        vertical-align: middle;\n",
       "    }\n",
       "\n",
       "    .dataframe tbody tr th {\n",
       "        vertical-align: top;\n",
       "    }\n",
       "\n",
       "    .dataframe thead th {\n",
       "        text-align: right;\n",
       "    }\n",
       "</style>\n",
       "<table border=\"1\" class=\"dataframe\">\n",
       "  <thead>\n",
       "    <tr style=\"text-align: right;\">\n",
       "      <th></th>\n",
       "      <th>cols</th>\n",
       "      <th>feat_imp</th>\n",
       "    </tr>\n",
       "  </thead>\n",
       "  <tbody>\n",
       "    <tr>\n",
       "      <th>87</th>\n",
       "      <td>prccq</td>\n",
       "      <td>0.018722</td>\n",
       "    </tr>\n",
       "    <tr>\n",
       "      <th>172</th>\n",
       "      <td>pay_turnq</td>\n",
       "      <td>0.017298</td>\n",
       "    </tr>\n",
       "    <tr>\n",
       "      <th>77</th>\n",
       "      <td>oepsxy</td>\n",
       "      <td>0.017138</td>\n",
       "    </tr>\n",
       "    <tr>\n",
       "      <th>135</th>\n",
       "      <td>pretret_earnatq</td>\n",
       "      <td>0.017004</td>\n",
       "    </tr>\n",
       "    <tr>\n",
       "      <th>92</th>\n",
       "      <td>market_cap</td>\n",
       "      <td>0.016070</td>\n",
       "    </tr>\n",
       "  </tbody>\n",
       "</table>\n",
       "</div>"
      ],
      "text/plain": [
       "                cols  feat_imp\n",
       "87             prccq  0.018722\n",
       "172        pay_turnq  0.017298\n",
       "77            oepsxy  0.017138\n",
       "135  pretret_earnatq  0.017004\n",
       "92        market_cap  0.016070"
      ]
     },
     "execution_count": 49,
     "metadata": {},
     "output_type": "execute_result"
    }
   ],
   "source": [
    "significant_features[0]"
   ]
  },
  {
   "cell_type": "code",
   "execution_count": 50,
   "metadata": {},
   "outputs": [],
   "source": [
    "with open(r'significant_features_ada_02.pkl','wb') as f:\n",
    "    cPickle.dump(significant_features,f)"
   ]
  },
  {
   "cell_type": "code",
   "execution_count": 51,
   "metadata": {},
   "outputs": [],
   "source": [
    "with open(r'significant_features.pkl','rb') as f:\n",
    "    significant_features = cPickle.load(f)"
   ]
  },
  {
   "cell_type": "code",
   "execution_count": 52,
   "metadata": {},
   "outputs": [
    {
     "data": {
      "text/plain": [
       "array(['cfmq', 'epspi12', 'oeps12', 'oepf12', 'saleq', 'epsfi12',\n",
       "       'curr_ratioq', 'pe_op_dilq', 'ptpmq', 'csh12q', 'market_cap',\n",
       "       'dvpspq', 'cfo-per-share', 'capeiq', 'fcf_yield', 'pe_incq',\n",
       "       'fcf_csfhdq', 'req', 'rectq', 'yearly_sales', 'oancfy',\n",
       "       'pay_turnq', 'lagicapt4', 'oancfy_q', 'prccq', 'lagppent_alt4',\n",
       "       'pretret_noaq', 'rd_saleq', 'sale_nwcq', 'cshfdq', 'be4', 'opepsq',\n",
       "       'lctq', 'book_value_yield', 'cogsq', 'pe_op_basicq', 'beq',\n",
       "       'debt_assetsq', 'curr_debtq', 'xrdq', 'apq', 'roeq', 'cshprq',\n",
       "       'profit_lctq', 'at_turnq', 'cf_yield', 'dprq', 'ibcq', 'xsgay',\n",
       "       'txpdy', 'txpq', 'atq', 'quick_ratioq', 'pe_exiq', 'dpcq',\n",
       "       'de_ratioq', 'intcov_ratioq', 'xidoy', 'epsx12', 'roceq', 'actq',\n",
       "       'sale_invcapq', 'sic_6020', 'dvy', 'icaptq', 'cash_debtq',\n",
       "       'cash_ltq', 'seq4', 'fqtr_4', 'dvq', 'epspxq', 'niq', 'oibdpy',\n",
       "       'ibadj12', 'pcfq', 'inv_turnq', 'psq', 'dltry', 'opmadq',\n",
       "       'accrualq', 'ibq', 'at5', 'cshiq'], dtype=object)"
      ]
     },
     "execution_count": 52,
     "metadata": {},
     "output_type": "execute_result"
    }
   ],
   "source": [
    "significant_features[1]"
   ]
  },
  {
   "cell_type": "code",
   "execution_count": 62,
   "metadata": {},
   "outputs": [],
   "source": [
    "for i in range(len(start_dates)-1): \n",
    "    classifiers[i].fit(training_data[i][significant_features[i]],training_labels[i])"
   ]
  },
  {
   "cell_type": "code",
   "execution_count": 63,
   "metadata": {},
   "outputs": [],
   "source": [
    "with open(r'new_classifiers_ada_02.pkl','wb') as f:\n",
    "    pickle.dump(classifiers,f)"
   ]
  },
  {
   "cell_type": "code",
   "execution_count": 64,
   "metadata": {},
   "outputs": [],
   "source": [
    "def model(features):\n",
    "    tree_features = features[features.columns[:-1].values]\n",
    "\n",
    "    pred = ada_clf.predict(tree_features)\n",
    "\n",
    "    ret = pred * features[features.columns[-1]]\n",
    "\n",
    "    return ret"
   ]
  },
  {
   "cell_type": "code",
   "execution_count": 136,
   "metadata": {},
   "outputs": [],
   "source": [
    "import shap"
   ]
  },
  {
   "cell_type": "code",
   "execution_count": 137,
   "metadata": {},
   "outputs": [],
   "source": [
    "shap_features = []"
   ]
  },
  {
   "cell_type": "code",
   "execution_count": 138,
   "metadata": {},
   "outputs": [
    {
     "name": "stdout",
     "output_type": "stream",
     "text": [
      "5\n"
     ]
    },
    {
     "name": "stderr",
     "output_type": "stream",
     "text": [
      "Permutation explainer: 1123it [17:13,  1.07it/s]                                                                       \n"
     ]
    },
    {
     "name": "stdout",
     "output_type": "stream",
     "text": [
      "5\n",
      "26\n"
     ]
    },
    {
     "name": "stderr",
     "output_type": "stream",
     "text": [
      "Permutation explainer: 1156it [02:26,  7.27it/s]                                                                       \n"
     ]
    },
    {
     "name": "stdout",
     "output_type": "stream",
     "text": [
      "26\n",
      "12\n"
     ]
    },
    {
     "name": "stderr",
     "output_type": "stream",
     "text": [
      "Permutation explainer: 1174it [11:52,  1.62it/s]                                                                       \n"
     ]
    },
    {
     "name": "stdout",
     "output_type": "stream",
     "text": [
      "12\n",
      "14\n"
     ]
    },
    {
     "name": "stderr",
     "output_type": "stream",
     "text": [
      "Permutation explainer: 1137it [04:20,  4.22it/s]                                                                       \n"
     ]
    },
    {
     "name": "stdout",
     "output_type": "stream",
     "text": [
      "14\n",
      "11\n"
     ]
    },
    {
     "name": "stderr",
     "output_type": "stream",
     "text": [
      "Permutation explainer: 1266it [17:14,  1.21it/s]                                                                       \n"
     ]
    },
    {
     "name": "stdout",
     "output_type": "stream",
     "text": [
      "11\n",
      "10\n"
     ]
    },
    {
     "name": "stderr",
     "output_type": "stream",
     "text": [
      "Permutation explainer: 1261it [03:01,  6.62it/s]                                                                       \n"
     ]
    },
    {
     "name": "stdout",
     "output_type": "stream",
     "text": [
      "9\n",
      "10\n"
     ]
    },
    {
     "name": "stderr",
     "output_type": "stream",
     "text": [
      "Permutation explainer: 1256it [15:17,  1.35it/s]                                                                       \n"
     ]
    },
    {
     "name": "stdout",
     "output_type": "stream",
     "text": [
      "10\n",
      "7\n"
     ]
    },
    {
     "name": "stderr",
     "output_type": "stream",
     "text": [
      "Permutation explainer: 1284it [15:47,  1.34it/s]                                                                       \n"
     ]
    },
    {
     "name": "stdout",
     "output_type": "stream",
     "text": [
      "7\n",
      "26\n"
     ]
    },
    {
     "name": "stderr",
     "output_type": "stream",
     "text": [
      "Permutation explainer: 1316it [07:41,  2.79it/s]                                                                       \n"
     ]
    },
    {
     "name": "stdout",
     "output_type": "stream",
     "text": [
      "26\n",
      "9\n"
     ]
    },
    {
     "name": "stderr",
     "output_type": "stream",
     "text": [
      "Permutation explainer: 1414it [15:57,  1.46it/s]                                                                       \n"
     ]
    },
    {
     "name": "stdout",
     "output_type": "stream",
     "text": [
      "9\n",
      "26\n"
     ]
    },
    {
     "name": "stderr",
     "output_type": "stream",
     "text": [
      "Permutation explainer: 1361it [07:52,  2.80it/s]                                                                       \n"
     ]
    },
    {
     "name": "stdout",
     "output_type": "stream",
     "text": [
      "26\n",
      "24\n"
     ]
    },
    {
     "name": "stderr",
     "output_type": "stream",
     "text": [
      "Permutation explainer: 1355it [02:33,  8.19it/s]                                                                       \n"
     ]
    },
    {
     "name": "stdout",
     "output_type": "stream",
     "text": [
      "23\n",
      "21\n"
     ]
    },
    {
     "name": "stderr",
     "output_type": "stream",
     "text": [
      "Permutation explainer: 1475it [03:02,  7.60it/s]                                                                       \n"
     ]
    },
    {
     "name": "stdout",
     "output_type": "stream",
     "text": [
      "21\n",
      "16\n"
     ]
    },
    {
     "name": "stderr",
     "output_type": "stream",
     "text": [
      "Permutation explainer: 1512it [09:32,  2.60it/s]                                                                       \n"
     ]
    },
    {
     "name": "stdout",
     "output_type": "stream",
     "text": [
      "16\n",
      "10\n"
     ]
    },
    {
     "name": "stderr",
     "output_type": "stream",
     "text": [
      "Permutation explainer: 1523it [24:41,  1.02it/s]                                                                       \n"
     ]
    },
    {
     "name": "stdout",
     "output_type": "stream",
     "text": [
      "10\n",
      "4\n"
     ]
    },
    {
     "name": "stderr",
     "output_type": "stream",
     "text": [
      "Permutation explainer: 1499it [31:27,  1.27s/it]                                                                       \n"
     ]
    },
    {
     "name": "stdout",
     "output_type": "stream",
     "text": [
      "4\n",
      "10\n"
     ]
    },
    {
     "name": "stderr",
     "output_type": "stream",
     "text": [
      "Permutation explainer: 1455it [20:22,  1.18it/s]                                                                       \n"
     ]
    },
    {
     "name": "stdout",
     "output_type": "stream",
     "text": [
      "10\n",
      "10\n"
     ]
    },
    {
     "name": "stderr",
     "output_type": "stream",
     "text": [
      "Permutation explainer: 1400it [20:28,  1.13it/s]                                                                       \n"
     ]
    },
    {
     "name": "stdout",
     "output_type": "stream",
     "text": [
      "10\n",
      "3\n"
     ]
    },
    {
     "name": "stderr",
     "output_type": "stream",
     "text": [
      "Permutation explainer: 1376it [1:04:28,  2.83s/it]                                                                     \n"
     ]
    },
    {
     "name": "stdout",
     "output_type": "stream",
     "text": [
      "3\n",
      "20\n"
     ]
    },
    {
     "name": "stderr",
     "output_type": "stream",
     "text": [
      "Permutation explainer: 1301it [05:24,  3.87it/s]                                                                       \n"
     ]
    },
    {
     "name": "stdout",
     "output_type": "stream",
     "text": [
      "20\n",
      "14\n"
     ]
    },
    {
     "name": "stderr",
     "output_type": "stream",
     "text": [
      "Permutation explainer: 1099it [06:38,  2.69it/s]                                                                       \n"
     ]
    },
    {
     "name": "stdout",
     "output_type": "stream",
     "text": [
      "14\n",
      "9\n"
     ]
    },
    {
     "name": "stderr",
     "output_type": "stream",
     "text": [
      "Permutation explainer: 1029it [04:07,  3.98it/s]                                                                       \n"
     ]
    },
    {
     "name": "stdout",
     "output_type": "stream",
     "text": [
      "9\n",
      "10\n"
     ]
    },
    {
     "name": "stderr",
     "output_type": "stream",
     "text": [
      "Permutation explainer: 1180it [10:34:59, 32.56s/it]                                                                    \n"
     ]
    },
    {
     "name": "stdout",
     "output_type": "stream",
     "text": [
      "10\n",
      "22\n"
     ]
    },
    {
     "name": "stderr",
     "output_type": "stream",
     "text": [
      "Permutation explainer: 1279it [10:00,  2.09it/s]                                                                       \n"
     ]
    },
    {
     "name": "stdout",
     "output_type": "stream",
     "text": [
      "21\n",
      "19\n"
     ]
    },
    {
     "name": "stderr",
     "output_type": "stream",
     "text": [
      "Permutation explainer: 1353it [03:27,  6.29it/s]                                                                       \n"
     ]
    },
    {
     "name": "stdout",
     "output_type": "stream",
     "text": [
      "18\n",
      "21\n"
     ]
    },
    {
     "name": "stderr",
     "output_type": "stream",
     "text": [
      "Permutation explainer: 1442it [25:13,  1.06s/it]                                                                       \n"
     ]
    },
    {
     "name": "stdout",
     "output_type": "stream",
     "text": [
      "21\n",
      "21\n"
     ]
    },
    {
     "name": "stderr",
     "output_type": "stream",
     "text": [
      "Permutation explainer: 1388it [19:31,  1.18it/s]                                                                       \n"
     ]
    },
    {
     "name": "stdout",
     "output_type": "stream",
     "text": [
      "21\n",
      "27\n"
     ]
    },
    {
     "name": "stderr",
     "output_type": "stream",
     "text": [
      "Permutation explainer: 1443it [09:05,  2.61it/s]                                                                       \n"
     ]
    },
    {
     "name": "stdout",
     "output_type": "stream",
     "text": [
      "21\n",
      "14\n"
     ]
    },
    {
     "name": "stderr",
     "output_type": "stream",
     "text": [
      "Permutation explainer: 1554it [03:48,  6.45it/s]                                                                       \n"
     ]
    },
    {
     "name": "stdout",
     "output_type": "stream",
     "text": [
      "8\n",
      "3\n"
     ]
    },
    {
     "name": "stderr",
     "output_type": "stream",
     "text": [
      "Permutation explainer: 1547it [27:30,  1.07s/it]                                                                       \n"
     ]
    },
    {
     "name": "stdout",
     "output_type": "stream",
     "text": [
      "3\n",
      "9\n"
     ]
    },
    {
     "name": "stderr",
     "output_type": "stream",
     "text": [
      "Permutation explainer: 1612it [25:01,  1.07it/s]                                                                       \n"
     ]
    },
    {
     "name": "stdout",
     "output_type": "stream",
     "text": [
      "9\n",
      "14\n"
     ]
    },
    {
     "name": "stderr",
     "output_type": "stream",
     "text": [
      "Permutation explainer: 1426it [05:07,  4.47it/s]                                                                       \n"
     ]
    },
    {
     "name": "stdout",
     "output_type": "stream",
     "text": [
      "13\n",
      "6\n"
     ]
    },
    {
     "name": "stderr",
     "output_type": "stream",
     "text": [
      "Permutation explainer: 1528it [21:25,  1.18it/s]                                                                       \n"
     ]
    },
    {
     "name": "stdout",
     "output_type": "stream",
     "text": [
      "6\n",
      "7\n"
     ]
    },
    {
     "name": "stderr",
     "output_type": "stream",
     "text": [
      "Permutation explainer: 1610it [23:00,  1.16it/s]                                                                       \n"
     ]
    },
    {
     "name": "stdout",
     "output_type": "stream",
     "text": [
      "7\n",
      "19\n"
     ]
    },
    {
     "name": "stderr",
     "output_type": "stream",
     "text": [
      "Permutation explainer: 1619it [20:12,  1.32it/s]                                                                       \n"
     ]
    },
    {
     "name": "stdout",
     "output_type": "stream",
     "text": [
      "19\n",
      "19\n"
     ]
    },
    {
     "name": "stderr",
     "output_type": "stream",
     "text": [
      "Permutation explainer: 1531it [12:34,  1.99it/s]                                                                       \n"
     ]
    },
    {
     "name": "stdout",
     "output_type": "stream",
     "text": [
      "19\n",
      "43\n"
     ]
    },
    {
     "name": "stderr",
     "output_type": "stream",
     "text": [
      "Permutation explainer: 1625it [19:09,  1.40it/s]                                                                       \n"
     ]
    },
    {
     "name": "stdout",
     "output_type": "stream",
     "text": [
      "43\n",
      "18\n"
     ]
    },
    {
     "name": "stderr",
     "output_type": "stream",
     "text": [
      "Permutation explainer: 1751it [12:04,  2.38it/s]                                                                       \n"
     ]
    },
    {
     "name": "stdout",
     "output_type": "stream",
     "text": [
      "18\n",
      "22\n"
     ]
    },
    {
     "name": "stderr",
     "output_type": "stream",
     "text": [
      "Permutation explainer: 1802it [10:01,  2.95it/s]                                                                       \n"
     ]
    },
    {
     "name": "stdout",
     "output_type": "stream",
     "text": [
      "22\n",
      "7\n"
     ]
    },
    {
     "name": "stderr",
     "output_type": "stream",
     "text": [
      "Permutation explainer: 1875it [29:21,  1.06it/s]                                                                       \n"
     ]
    },
    {
     "name": "stdout",
     "output_type": "stream",
     "text": [
      "7\n",
      "35\n"
     ]
    },
    {
     "name": "stderr",
     "output_type": "stream",
     "text": [
      "Permutation explainer: 1957it [11:48,  2.73it/s]                                                                       \n"
     ]
    },
    {
     "name": "stdout",
     "output_type": "stream",
     "text": [
      "35\n",
      "5\n"
     ]
    },
    {
     "name": "stderr",
     "output_type": "stream",
     "text": [
      "Permutation explainer: 1969it [35:34,  1.09s/it]                                                                       \n"
     ]
    },
    {
     "name": "stdout",
     "output_type": "stream",
     "text": [
      "5\n",
      "21\n"
     ]
    },
    {
     "name": "stderr",
     "output_type": "stream",
     "text": [
      "Permutation explainer: 2061it [48:48,  1.43s/it]                                                                       \n"
     ]
    },
    {
     "name": "stdout",
     "output_type": "stream",
     "text": [
      "21\n",
      "12\n"
     ]
    },
    {
     "name": "stderr",
     "output_type": "stream",
     "text": [
      "Permutation explainer: 1973it [24:33,  1.33it/s]                                                                       \n"
     ]
    },
    {
     "name": "stdout",
     "output_type": "stream",
     "text": [
      "12\n",
      "8\n"
     ]
    },
    {
     "name": "stderr",
     "output_type": "stream",
     "text": [
      "Permutation explainer: 2042it [09:14,  3.63it/s]                                                                       \n"
     ]
    },
    {
     "name": "stdout",
     "output_type": "stream",
     "text": [
      "7\n",
      "12\n"
     ]
    },
    {
     "name": "stderr",
     "output_type": "stream",
     "text": [
      "Permutation explainer: 2081it [25:52,  1.33it/s]                                                                       \n"
     ]
    },
    {
     "name": "stdout",
     "output_type": "stream",
     "text": [
      "12\n",
      "9\n"
     ]
    },
    {
     "name": "stderr",
     "output_type": "stream",
     "text": [
      "Permutation explainer: 2136it [32:57,  1.08it/s]                                                                       \n"
     ]
    },
    {
     "name": "stdout",
     "output_type": "stream",
     "text": [
      "9\n",
      "15\n"
     ]
    },
    {
     "name": "stderr",
     "output_type": "stream",
     "text": [
      "Permutation explainer: 1949it [10:55,  2.92it/s]                                                                       \n"
     ]
    },
    {
     "name": "stdout",
     "output_type": "stream",
     "text": [
      "15\n",
      "11\n"
     ]
    },
    {
     "name": "stderr",
     "output_type": "stream",
     "text": [
      "Permutation explainer: 1965it [13:55,  2.32it/s]                                                                       \n"
     ]
    },
    {
     "name": "stdout",
     "output_type": "stream",
     "text": [
      "11\n",
      "11\n"
     ]
    },
    {
     "name": "stderr",
     "output_type": "stream",
     "text": [
      "Permutation explainer: 1951it [07:22,  4.29it/s]                                                                       \n"
     ]
    },
    {
     "name": "stdout",
     "output_type": "stream",
     "text": [
      "11\n",
      "16\n"
     ]
    },
    {
     "name": "stderr",
     "output_type": "stream",
     "text": [
      "Permutation explainer: 2006it [12:16,  2.69it/s]                                                                       \n"
     ]
    },
    {
     "name": "stdout",
     "output_type": "stream",
     "text": [
      "16\n",
      "16\n"
     ]
    },
    {
     "name": "stderr",
     "output_type": "stream",
     "text": [
      "Permutation explainer: 2006it [11:43,  2.81it/s]                                                                       \n"
     ]
    },
    {
     "name": "stdout",
     "output_type": "stream",
     "text": [
      "16\n",
      "14\n"
     ]
    },
    {
     "name": "stderr",
     "output_type": "stream",
     "text": [
      "Permutation explainer: 2067it [26:30,  1.29it/s]                                                                       \n"
     ]
    },
    {
     "name": "stdout",
     "output_type": "stream",
     "text": [
      "14\n",
      "8\n"
     ]
    },
    {
     "name": "stderr",
     "output_type": "stream",
     "text": [
      "Permutation explainer: 2109it [35:11,  1.01s/it]                                                                       \n"
     ]
    },
    {
     "name": "stdout",
     "output_type": "stream",
     "text": [
      "8\n",
      "11\n"
     ]
    },
    {
     "name": "stderr",
     "output_type": "stream",
     "text": [
      "Permutation explainer: 2155it [32:54,  1.09it/s]                                                                       \n"
     ]
    },
    {
     "name": "stdout",
     "output_type": "stream",
     "text": [
      "11\n",
      "8\n"
     ]
    },
    {
     "name": "stderr",
     "output_type": "stream",
     "text": [
      "Permutation explainer: 2155it [26:57,  1.32it/s]                                                                       "
     ]
    },
    {
     "name": "stdout",
     "output_type": "stream",
     "text": [
      "8\n"
     ]
    },
    {
     "name": "stderr",
     "output_type": "stream",
     "text": [
      "\n"
     ]
    }
   ],
   "source": [
    "for i in range(len(start_dates)-1):\n",
    "    valid_1 = new_valid_data[i].copy()\n",
    "    cols = new_valid_data[i].columns\n",
    "    print(len(cols))\n",
    "    valid_1['rets'] = valid_frames[i]['next_period_return'].values\n",
    "    ada_clf = classifiers[i]\n",
    "    explainer = shap.explainers.Permutation(model,valid_1)\n",
    "    shap_values = explainer(valid_1,max_evals=500,)\n",
    "    shap_cols = cols[np.abs(shap_values[:,:-1].values).mean(axis=0)>0.000]\n",
    "    if shap_cols.empty:\n",
    "        shap_cols = cols\n",
    "    print(len(shap_cols))\n",
    "    shap_features.append(shap_cols)\n",
    "    "
   ]
  },
  {
   "cell_type": "code",
   "execution_count": 139,
   "metadata": {},
   "outputs": [],
   "source": [
    "with open(r'shap_features_ada_02.pkl','wb') as f:\n",
    "    pickle.dump(shap_features,f)"
   ]
  },
  {
   "cell_type": "code",
   "execution_count": 65,
   "metadata": {},
   "outputs": [],
   "source": [
    "with open(r'shap_features_ada_02.pkl','rb') as f:\n",
    "    shap_features = cPickle.load(f)"
   ]
  },
  {
   "cell_type": "code",
   "execution_count": 66,
   "metadata": {},
   "outputs": [
    {
     "data": {
      "text/plain": [
       "Index(['cf_yield', 'gpmq', 'oancfy_q', 'rect_turnq', 'roceq', 'dvpspq',\n",
       "       'rectq', 'ibadj12', 'rd_saleq', 'spcsrc_C', 'gprofq',\n",
       "       'book_value_per_share', 'piq', 'at_turnq', 'debt_assetsq', 'de_ratioq',\n",
       "       'at4', 'epsfiq', 'cash_ratioq', 'opmbdq', 'cfo-per-share',\n",
       "       'buy_back_yield', 'sector_code_395.0', 'evmq', 'dprq', 'sic_1311'],\n",
       "      dtype='object')"
      ]
     },
     "execution_count": 66,
     "metadata": {},
     "output_type": "execute_result"
    }
   ],
   "source": [
    "shap_features[10]"
   ]
  },
  {
   "cell_type": "code",
   "execution_count": 67,
   "metadata": {
    "ExecuteTime": {
     "end_time": "2020-02-11T01:00:33.994294Z",
     "start_time": "2020-02-11T01:00:33.869286Z"
    }
   },
   "outputs": [],
   "source": [
    "scalers = [StandardScaler() for i in range(len(start_dates)-1)]\n",
    "           \n",
    "opt_training_data = [pd.DataFrame(scalers[i].fit_transform(training_frames[i][shap_features[i]].values),columns=shap_features[i]) for i in range(len(start_dates)-1)]\n",
    "opt_valid_data = [pd.DataFrame(scalers[i].fit_transform(training_frames[i][shap_features[i]].values),columns=shap_features[i]) for i in range(len(start_dates)-1)]\n",
    "opt_test_data = [pd.DataFrame(scalers[i].transform(test_frames[i][shap_features[i]].values),columns=shap_features[i]) for i in range(len(start_dates)-1)]"
   ]
  },
  {
   "cell_type": "code",
   "execution_count": 68,
   "metadata": {},
   "outputs": [
    {
     "data": {
      "text/html": [
       "<div>\n",
       "<style scoped>\n",
       "    .dataframe tbody tr th:only-of-type {\n",
       "        vertical-align: middle;\n",
       "    }\n",
       "\n",
       "    .dataframe tbody tr th {\n",
       "        vertical-align: top;\n",
       "    }\n",
       "\n",
       "    .dataframe thead th {\n",
       "        text-align: right;\n",
       "    }\n",
       "</style>\n",
       "<table border=\"1\" class=\"dataframe\">\n",
       "  <thead>\n",
       "    <tr style=\"text-align: right;\">\n",
       "      <th></th>\n",
       "      <th>fcf_yield</th>\n",
       "      <th>cf_yield</th>\n",
       "      <th>evmq</th>\n",
       "      <th>cash_conversionq</th>\n",
       "      <th>xsgay</th>\n",
       "      <th>roeq</th>\n",
       "      <th>oepf12</th>\n",
       "      <th>rd_saleq</th>\n",
       "      <th>ptpmq</th>\n",
       "      <th>dltry</th>\n",
       "      <th>...</th>\n",
       "      <th>sector_code_440.0</th>\n",
       "      <th>apq</th>\n",
       "      <th>sale_nwcq</th>\n",
       "      <th>oibdpy</th>\n",
       "      <th>pe_op_dilq</th>\n",
       "      <th>epsfiq</th>\n",
       "      <th>oibdpq</th>\n",
       "      <th>cshoq</th>\n",
       "      <th>xidoy</th>\n",
       "      <th>opmadq</th>\n",
       "    </tr>\n",
       "  </thead>\n",
       "  <tbody>\n",
       "    <tr>\n",
       "      <th>0</th>\n",
       "      <td>-0.198007</td>\n",
       "      <td>-0.642707</td>\n",
       "      <td>0.079080</td>\n",
       "      <td>0.161958</td>\n",
       "      <td>-0.267934</td>\n",
       "      <td>0.005448</td>\n",
       "      <td>-0.034950</td>\n",
       "      <td>-0.040516</td>\n",
       "      <td>0.037930</td>\n",
       "      <td>-0.220578</td>\n",
       "      <td>...</td>\n",
       "      <td>-0.065414</td>\n",
       "      <td>-0.156723</td>\n",
       "      <td>-0.009228</td>\n",
       "      <td>-0.256591</td>\n",
       "      <td>-0.097542</td>\n",
       "      <td>0.021062</td>\n",
       "      <td>-0.241703</td>\n",
       "      <td>-0.186967</td>\n",
       "      <td>0.075570</td>\n",
       "      <td>0.030452</td>\n",
       "    </tr>\n",
       "    <tr>\n",
       "      <th>1</th>\n",
       "      <td>-0.406912</td>\n",
       "      <td>2.737811</td>\n",
       "      <td>-1.008394</td>\n",
       "      <td>0.156748</td>\n",
       "      <td>-0.337319</td>\n",
       "      <td>-0.019739</td>\n",
       "      <td>-0.148162</td>\n",
       "      <td>-0.090296</td>\n",
       "      <td>-0.015419</td>\n",
       "      <td>1.626170</td>\n",
       "      <td>...</td>\n",
       "      <td>-0.065414</td>\n",
       "      <td>-0.093440</td>\n",
       "      <td>-0.002843</td>\n",
       "      <td>0.548765</td>\n",
       "      <td>-0.583731</td>\n",
       "      <td>-0.398602</td>\n",
       "      <td>-0.095685</td>\n",
       "      <td>0.368063</td>\n",
       "      <td>-5.663265</td>\n",
       "      <td>0.025103</td>\n",
       "    </tr>\n",
       "    <tr>\n",
       "      <th>2</th>\n",
       "      <td>-0.016963</td>\n",
       "      <td>-0.108673</td>\n",
       "      <td>0.015285</td>\n",
       "      <td>0.162378</td>\n",
       "      <td>0.345250</td>\n",
       "      <td>0.009155</td>\n",
       "      <td>-0.008932</td>\n",
       "      <td>-0.090296</td>\n",
       "      <td>0.027466</td>\n",
       "      <td>-0.220626</td>\n",
       "      <td>...</td>\n",
       "      <td>-0.065414</td>\n",
       "      <td>-0.141465</td>\n",
       "      <td>0.019888</td>\n",
       "      <td>-0.108137</td>\n",
       "      <td>0.014191</td>\n",
       "      <td>-0.034556</td>\n",
       "      <td>-0.239501</td>\n",
       "      <td>-0.212314</td>\n",
       "      <td>0.075570</td>\n",
       "      <td>0.015394</td>\n",
       "    </tr>\n",
       "    <tr>\n",
       "      <th>3</th>\n",
       "      <td>0.051241</td>\n",
       "      <td>-0.203505</td>\n",
       "      <td>0.013118</td>\n",
       "      <td>0.214215</td>\n",
       "      <td>-0.198088</td>\n",
       "      <td>0.001531</td>\n",
       "      <td>0.069825</td>\n",
       "      <td>-0.090296</td>\n",
       "      <td>0.032890</td>\n",
       "      <td>-0.101919</td>\n",
       "      <td>...</td>\n",
       "      <td>-0.065414</td>\n",
       "      <td>-0.145613</td>\n",
       "      <td>-0.000540</td>\n",
       "      <td>-0.184549</td>\n",
       "      <td>0.352410</td>\n",
       "      <td>0.187917</td>\n",
       "      <td>-0.140700</td>\n",
       "      <td>-0.286651</td>\n",
       "      <td>0.075570</td>\n",
       "      <td>0.028256</td>\n",
       "    </tr>\n",
       "    <tr>\n",
       "      <th>4</th>\n",
       "      <td>0.009106</td>\n",
       "      <td>-0.334669</td>\n",
       "      <td>0.019836</td>\n",
       "      <td>0.137457</td>\n",
       "      <td>3.390534</td>\n",
       "      <td>0.025931</td>\n",
       "      <td>0.048026</td>\n",
       "      <td>-0.090296</td>\n",
       "      <td>0.047644</td>\n",
       "      <td>-0.132105</td>\n",
       "      <td>...</td>\n",
       "      <td>-0.065414</td>\n",
       "      <td>0.015836</td>\n",
       "      <td>0.060936</td>\n",
       "      <td>1.790459</td>\n",
       "      <td>0.258796</td>\n",
       "      <td>0.238479</td>\n",
       "      <td>1.562906</td>\n",
       "      <td>1.685134</td>\n",
       "      <td>0.075570</td>\n",
       "      <td>0.035068</td>\n",
       "    </tr>\n",
       "    <tr>\n",
       "      <th>...</th>\n",
       "      <td>...</td>\n",
       "      <td>...</td>\n",
       "      <td>...</td>\n",
       "      <td>...</td>\n",
       "      <td>...</td>\n",
       "      <td>...</td>\n",
       "      <td>...</td>\n",
       "      <td>...</td>\n",
       "      <td>...</td>\n",
       "      <td>...</td>\n",
       "      <td>...</td>\n",
       "      <td>...</td>\n",
       "      <td>...</td>\n",
       "      <td>...</td>\n",
       "      <td>...</td>\n",
       "      <td>...</td>\n",
       "      <td>...</td>\n",
       "      <td>...</td>\n",
       "      <td>...</td>\n",
       "      <td>...</td>\n",
       "      <td>...</td>\n",
       "    </tr>\n",
       "    <tr>\n",
       "      <th>1131</th>\n",
       "      <td>-0.058058</td>\n",
       "      <td>-0.278956</td>\n",
       "      <td>-0.004318</td>\n",
       "      <td>0.188685</td>\n",
       "      <td>0.083521</td>\n",
       "      <td>-0.013238</td>\n",
       "      <td>-0.015964</td>\n",
       "      <td>-0.090296</td>\n",
       "      <td>0.031551</td>\n",
       "      <td>-0.057849</td>\n",
       "      <td>...</td>\n",
       "      <td>-0.065414</td>\n",
       "      <td>-0.121672</td>\n",
       "      <td>0.006343</td>\n",
       "      <td>-0.326916</td>\n",
       "      <td>-0.016007</td>\n",
       "      <td>0.071624</td>\n",
       "      <td>-0.336381</td>\n",
       "      <td>0.221718</td>\n",
       "      <td>0.315448</td>\n",
       "      <td>0.024758</td>\n",
       "    </tr>\n",
       "    <tr>\n",
       "      <th>1132</th>\n",
       "      <td>-0.032305</td>\n",
       "      <td>-0.387362</td>\n",
       "      <td>0.016386</td>\n",
       "      <td>0.149276</td>\n",
       "      <td>-0.263041</td>\n",
       "      <td>0.007314</td>\n",
       "      <td>0.032556</td>\n",
       "      <td>-0.090296</td>\n",
       "      <td>0.045412</td>\n",
       "      <td>-0.216128</td>\n",
       "      <td>...</td>\n",
       "      <td>-0.065414</td>\n",
       "      <td>-0.155985</td>\n",
       "      <td>-0.061273</td>\n",
       "      <td>-0.281998</td>\n",
       "      <td>0.192360</td>\n",
       "      <td>0.137355</td>\n",
       "      <td>-0.281563</td>\n",
       "      <td>-0.372983</td>\n",
       "      <td>0.075570</td>\n",
       "      <td>0.036009</td>\n",
       "    </tr>\n",
       "    <tr>\n",
       "      <th>1133</th>\n",
       "      <td>-0.232850</td>\n",
       "      <td>0.400038</td>\n",
       "      <td>0.004571</td>\n",
       "      <td>0.180852</td>\n",
       "      <td>-0.211596</td>\n",
       "      <td>-0.006154</td>\n",
       "      <td>-0.084172</td>\n",
       "      <td>0.035477</td>\n",
       "      <td>0.027801</td>\n",
       "      <td>-0.149506</td>\n",
       "      <td>...</td>\n",
       "      <td>-0.065414</td>\n",
       "      <td>-0.145444</td>\n",
       "      <td>-0.003445</td>\n",
       "      <td>-0.118103</td>\n",
       "      <td>-0.308929</td>\n",
       "      <td>-0.044668</td>\n",
       "      <td>0.173915</td>\n",
       "      <td>0.343712</td>\n",
       "      <td>0.075570</td>\n",
       "      <td>0.016323</td>\n",
       "    </tr>\n",
       "    <tr>\n",
       "      <th>1134</th>\n",
       "      <td>-0.028351</td>\n",
       "      <td>-0.453907</td>\n",
       "      <td>0.017270</td>\n",
       "      <td>0.159856</td>\n",
       "      <td>-0.308801</td>\n",
       "      <td>0.018620</td>\n",
       "      <td>0.009351</td>\n",
       "      <td>-0.090296</td>\n",
       "      <td>0.038785</td>\n",
       "      <td>-0.220626</td>\n",
       "      <td>...</td>\n",
       "      <td>-0.065414</td>\n",
       "      <td>-0.157856</td>\n",
       "      <td>0.013427</td>\n",
       "      <td>-0.306576</td>\n",
       "      <td>0.092706</td>\n",
       "      <td>0.152523</td>\n",
       "      <td>-0.307996</td>\n",
       "      <td>-0.391962</td>\n",
       "      <td>0.075570</td>\n",
       "      <td>0.026387</td>\n",
       "    </tr>\n",
       "    <tr>\n",
       "      <th>1135</th>\n",
       "      <td>-0.076280</td>\n",
       "      <td>-0.516281</td>\n",
       "      <td>0.044668</td>\n",
       "      <td>0.168516</td>\n",
       "      <td>-0.223124</td>\n",
       "      <td>-0.005469</td>\n",
       "      <td>-0.099642</td>\n",
       "      <td>0.049667</td>\n",
       "      <td>0.048582</td>\n",
       "      <td>-0.219803</td>\n",
       "      <td>...</td>\n",
       "      <td>-0.065414</td>\n",
       "      <td>-0.158120</td>\n",
       "      <td>-0.012228</td>\n",
       "      <td>-0.283801</td>\n",
       "      <td>-0.375364</td>\n",
       "      <td>-0.120511</td>\n",
       "      <td>-0.298784</td>\n",
       "      <td>-0.154234</td>\n",
       "      <td>0.075570</td>\n",
       "      <td>0.037256</td>\n",
       "    </tr>\n",
       "  </tbody>\n",
       "</table>\n",
       "<p>1136 rows × 26 columns</p>\n",
       "</div>"
      ],
      "text/plain": [
       "      fcf_yield  cf_yield      evmq  cash_conversionq     xsgay      roeq  \\\n",
       "0     -0.198007 -0.642707  0.079080          0.161958 -0.267934  0.005448   \n",
       "1     -0.406912  2.737811 -1.008394          0.156748 -0.337319 -0.019739   \n",
       "2     -0.016963 -0.108673  0.015285          0.162378  0.345250  0.009155   \n",
       "3      0.051241 -0.203505  0.013118          0.214215 -0.198088  0.001531   \n",
       "4      0.009106 -0.334669  0.019836          0.137457  3.390534  0.025931   \n",
       "...         ...       ...       ...               ...       ...       ...   \n",
       "1131  -0.058058 -0.278956 -0.004318          0.188685  0.083521 -0.013238   \n",
       "1132  -0.032305 -0.387362  0.016386          0.149276 -0.263041  0.007314   \n",
       "1133  -0.232850  0.400038  0.004571          0.180852 -0.211596 -0.006154   \n",
       "1134  -0.028351 -0.453907  0.017270          0.159856 -0.308801  0.018620   \n",
       "1135  -0.076280 -0.516281  0.044668          0.168516 -0.223124 -0.005469   \n",
       "\n",
       "        oepf12  rd_saleq     ptpmq     dltry  ...  sector_code_440.0  \\\n",
       "0    -0.034950 -0.040516  0.037930 -0.220578  ...          -0.065414   \n",
       "1    -0.148162 -0.090296 -0.015419  1.626170  ...          -0.065414   \n",
       "2    -0.008932 -0.090296  0.027466 -0.220626  ...          -0.065414   \n",
       "3     0.069825 -0.090296  0.032890 -0.101919  ...          -0.065414   \n",
       "4     0.048026 -0.090296  0.047644 -0.132105  ...          -0.065414   \n",
       "...        ...       ...       ...       ...  ...                ...   \n",
       "1131 -0.015964 -0.090296  0.031551 -0.057849  ...          -0.065414   \n",
       "1132  0.032556 -0.090296  0.045412 -0.216128  ...          -0.065414   \n",
       "1133 -0.084172  0.035477  0.027801 -0.149506  ...          -0.065414   \n",
       "1134  0.009351 -0.090296  0.038785 -0.220626  ...          -0.065414   \n",
       "1135 -0.099642  0.049667  0.048582 -0.219803  ...          -0.065414   \n",
       "\n",
       "           apq  sale_nwcq    oibdpy  pe_op_dilq    epsfiq    oibdpq     cshoq  \\\n",
       "0    -0.156723  -0.009228 -0.256591   -0.097542  0.021062 -0.241703 -0.186967   \n",
       "1    -0.093440  -0.002843  0.548765   -0.583731 -0.398602 -0.095685  0.368063   \n",
       "2    -0.141465   0.019888 -0.108137    0.014191 -0.034556 -0.239501 -0.212314   \n",
       "3    -0.145613  -0.000540 -0.184549    0.352410  0.187917 -0.140700 -0.286651   \n",
       "4     0.015836   0.060936  1.790459    0.258796  0.238479  1.562906  1.685134   \n",
       "...        ...        ...       ...         ...       ...       ...       ...   \n",
       "1131 -0.121672   0.006343 -0.326916   -0.016007  0.071624 -0.336381  0.221718   \n",
       "1132 -0.155985  -0.061273 -0.281998    0.192360  0.137355 -0.281563 -0.372983   \n",
       "1133 -0.145444  -0.003445 -0.118103   -0.308929 -0.044668  0.173915  0.343712   \n",
       "1134 -0.157856   0.013427 -0.306576    0.092706  0.152523 -0.307996 -0.391962   \n",
       "1135 -0.158120  -0.012228 -0.283801   -0.375364 -0.120511 -0.298784 -0.154234   \n",
       "\n",
       "         xidoy    opmadq  \n",
       "0     0.075570  0.030452  \n",
       "1    -5.663265  0.025103  \n",
       "2     0.075570  0.015394  \n",
       "3     0.075570  0.028256  \n",
       "4     0.075570  0.035068  \n",
       "...        ...       ...  \n",
       "1131  0.315448  0.024758  \n",
       "1132  0.075570  0.036009  \n",
       "1133  0.075570  0.016323  \n",
       "1134  0.075570  0.026387  \n",
       "1135  0.075570  0.037256  \n",
       "\n",
       "[1136 rows x 26 columns]"
      ]
     },
     "execution_count": 68,
     "metadata": {},
     "output_type": "execute_result"
    }
   ],
   "source": [
    "opt_test_data[1]"
   ]
  },
  {
   "cell_type": "code",
   "execution_count": 69,
   "metadata": {
    "ExecuteTime": {
     "end_time": "2020-02-11T01:01:15.387898Z",
     "start_time": "2020-02-11T01:00:58.271824Z"
    }
   },
   "outputs": [],
   "source": [
    "x = [1]\n",
    "ret = []\n",
    "\n",
    "for i in range(len(start_dates)-1):\n",
    "        \n",
    "        classifiers[i].fit(opt_training_data[i],training_labels[i])\n",
    "\n",
    "        preds = classifiers[i].predict(opt_test_data[i])\n",
    "        profit_i = (preds*test_frames[i]['next_period_return']).sum()\n",
    "        ret.append(profit_i)\n",
    "        num_names = len(opt_test_data[i])\n",
    "        x.append(x[i] + (x[i]/num_names)*profit_i)"
   ]
  },
  {
   "cell_type": "code",
   "execution_count": null,
   "metadata": {},
   "outputs": [],
   "source": []
  },
  {
   "cell_type": "code",
   "execution_count": 70,
   "metadata": {
    "ExecuteTime": {
     "end_time": "2020-02-11T01:01:20.294124Z",
     "start_time": "2020-02-11T01:01:20.107095Z"
    }
   },
   "outputs": [
    {
     "data": {
      "image/png": "[encoded data removed]",
      "text/plain": [
       "<Figure size 640x480 with 1 Axes>"
      ]
     },
     "metadata": {},
     "output_type": "display_data"
    }
   ],
   "source": [
    "plt.plot(x);"
   ]
  },
  {
   "cell_type": "code",
   "execution_count": 71,
   "metadata": {},
   "outputs": [
    {
     "data": {
      "text/plain": [
       "57"
      ]
     },
     "execution_count": 71,
     "metadata": {},
     "output_type": "execute_result"
    }
   ],
   "source": [
    "len(x)"
   ]
  },
  {
   "cell_type": "code",
   "execution_count": 72,
   "metadata": {
    "ExecuteTime": {
     "end_time": "2020-02-11T01:01:37.494042Z",
     "start_time": "2020-02-11T01:01:37.445007Z"
    }
   },
   "outputs": [],
   "source": [
    "SPY = pd.read_pickle(r'C:\\Users\\niels\\OneDrive\\Machine Learning 2022\\Lecture 2\\SPY_cum_ret.pkl')\n",
    "SPY = SPY.loc['2004-09-01':'2018-09-30']\n",
    "SPY = SPY.resample('Q').ffill()\n",
    "SPY['spy_cum_ret'] = (SPY['spy_cum_ret'] - SPY['spy_cum_ret'][0] + 1)\n",
    "SPY['strategy'] = x"
   ]
  },
  {
   "cell_type": "code",
   "execution_count": 146,
   "metadata": {
    "ExecuteTime": {
     "end_time": "2020-02-11T01:01:41.397432Z",
     "start_time": "2020-02-11T01:01:41.198433Z"
    }
   },
   "outputs": [
    {
     "data": {
      "image/png": "[encoded data removed]",
      "text/plain": [
       "<Figure size 432x288 with 1 Axes>"
      ]
     },
     "metadata": {
      "needs_background": "light"
     },
     "output_type": "display_data"
    }
   ],
   "source": [
    "SPY.plot();"
   ]
  },
  {
   "cell_type": "code",
   "execution_count": 73,
   "metadata": {
    "ExecuteTime": {
     "end_time": "2020-02-11T01:01:46.417678Z",
     "start_time": "2020-02-11T01:01:46.157159Z"
    }
   },
   "outputs": [
    {
     "data": {
      "image/png": "[encoded data removed]",
      "text/plain": [
       "<Figure size 640x480 with 1 Axes>"
      ]
     },
     "metadata": {},
     "output_type": "display_data"
    }
   ],
   "source": [
    "SPY = SPY.resample('Y').ffill()\n",
    "SPY.plot();"
   ]
  },
  {
   "cell_type": "code",
   "execution_count": 74,
   "metadata": {
    "ExecuteTime": {
     "end_time": "2020-02-11T01:01:54.486712Z",
     "start_time": "2020-02-11T01:01:54.468721Z"
    }
   },
   "outputs": [
    {
     "name": "stdout",
     "output_type": "stream",
     "text": [
      "Strategy Sharpe Ratio:  0.8084607531819707\n"
     ]
    }
   ],
   "source": [
    "strategy_mean_ret = (SPY['strategy'] - 1).diff().mean()\n",
    "strategy_std = (SPY['strategy'] - 1).diff().std()\n",
    "strategy_sr = strategy_mean_ret/strategy_std\n",
    "print('Strategy Sharpe Ratio: ',strategy_sr)"
   ]
  },
  {
   "cell_type": "code",
   "execution_count": 75,
   "metadata": {
    "ExecuteTime": {
     "end_time": "2020-02-11T01:02:00.792517Z",
     "start_time": "2020-02-11T01:02:00.786515Z"
    }
   },
   "outputs": [
    {
     "data": {
      "text/plain": [
       "4.7057274680887495"
      ]
     },
     "execution_count": 75,
     "metadata": {},
     "output_type": "execute_result"
    }
   ],
   "source": [
    "x[-1]"
   ]
  },
  {
   "cell_type": "code",
   "execution_count": 76,
   "metadata": {
    "ExecuteTime": {
     "end_time": "2020-02-09T20:42:54.524395Z",
     "start_time": "2020-02-09T20:42:54.519365Z"
    }
   },
   "outputs": [
    {
     "data": {
      "text/plain": [
       "2.4779340000000003"
      ]
     },
     "execution_count": 76,
     "metadata": {},
     "output_type": "execute_result"
    }
   ],
   "source": [
    "SPY['spy_cum_ret'][-1]"
   ]
  },
  {
   "cell_type": "code",
   "execution_count": 77,
   "metadata": {
    "ExecuteTime": {
     "end_time": "2020-02-09T20:42:59.954056Z",
     "start_time": "2020-02-09T20:42:59.949042Z"
    }
   },
   "outputs": [],
   "source": [
    "strategy_ret = (SPY['strategy'] - 1).diff().values[1:]\n",
    "spy_ret = (SPY['spy_cum_ret'] - 1).diff().values[1:]"
   ]
  },
  {
   "cell_type": "code",
   "execution_count": 78,
   "metadata": {
    "ExecuteTime": {
     "end_time": "2020-02-09T20:43:01.135837Z",
     "start_time": "2020-02-09T20:43:01.130715Z"
    }
   },
   "outputs": [],
   "source": [
    "beta = (np.cov(spy_ret,strategy_ret)/np.var(spy_ret))[1,0]"
   ]
  },
  {
   "cell_type": "code",
   "execution_count": 79,
   "metadata": {
    "ExecuteTime": {
     "end_time": "2020-02-09T20:43:02.086883Z",
     "start_time": "2020-02-09T20:43:02.081733Z"
    }
   },
   "outputs": [
    {
     "data": {
      "text/plain": [
       "2.0456133327764965"
      ]
     },
     "execution_count": 79,
     "metadata": {},
     "output_type": "execute_result"
    }
   ],
   "source": [
    "beta "
   ]
  },
  {
   "cell_type": "code",
   "execution_count": 80,
   "metadata": {},
   "outputs": [],
   "source": [
    "SPY['hedge'] = SPY['strategy'] - 1.85*(SPY['spy_cum_ret']-1) "
   ]
  },
  {
   "cell_type": "code",
   "execution_count": 81,
   "metadata": {},
   "outputs": [
    {
     "data": {
      "image/png": "[encoded data removed]",
      "text/plain": [
       "<Figure size 640x480 with 1 Axes>"
      ]
     },
     "metadata": {},
     "output_type": "display_data"
    }
   ],
   "source": [
    "SPY.plot();"
   ]
  },
  {
   "cell_type": "code",
   "execution_count": 82,
   "metadata": {},
   "outputs": [],
   "source": [
    "hedge_ret = (SPY['hedge'] - 1).diff().values[1:]"
   ]
  },
  {
   "cell_type": "code",
   "execution_count": 83,
   "metadata": {},
   "outputs": [],
   "source": [
    "beta_hedge = (np.cov(spy_ret,hedge_ret)/np.var(spy_ret))[1,0]"
   ]
  },
  {
   "cell_type": "code",
   "execution_count": 84,
   "metadata": {},
   "outputs": [
    {
     "data": {
      "text/plain": [
       "0.05330564046880443"
      ]
     },
     "execution_count": 84,
     "metadata": {},
     "output_type": "execute_result"
    }
   ],
   "source": [
    "beta_hedge"
   ]
  },
  {
   "cell_type": "code",
   "execution_count": 85,
   "metadata": {},
   "outputs": [
    {
     "name": "stdout",
     "output_type": "stream",
     "text": [
      "Hedge Sharpe Ratio:  0.8084607531819707\n"
     ]
    }
   ],
   "source": [
    "hedge_mean_ret = (SPY['hedge'] - 1).diff().mean()\n",
    "hedge_std = (SPY['hedge'] - 1).diff().std()\n",
    "hedge_sr = hedge_mean_ret/hedge_std\n",
    "print('Hedge Sharpe Ratio: ',strategy_sr)"
   ]
  },
  {
   "cell_type": "code",
   "execution_count": 86,
   "metadata": {
    "ExecuteTime": {
     "end_time": "2020-02-09T20:43:04.279350Z",
     "start_time": "2020-02-09T20:43:04.274357Z"
    }
   },
   "outputs": [
    {
     "data": {
      "text/plain": [
       "0.48539454847776614"
      ]
     },
     "execution_count": 86,
     "metadata": {},
     "output_type": "execute_result"
    }
   ],
   "source": [
    "residual_ret = strategy_ret - beta * spy_ret\n",
    "IR = np.mean(residual_ret)/np.std(residual_ret)\n",
    "IR"
   ]
  },
  {
   "cell_type": "code",
   "execution_count": 87,
   "metadata": {
    "ExecuteTime": {
     "end_time": "2020-02-09T20:43:08.280790Z",
     "start_time": "2020-02-09T20:43:08.275790Z"
    }
   },
   "outputs": [],
   "source": [
    "alpha = np.mean(residual_ret)"
   ]
  },
  {
   "cell_type": "code",
   "execution_count": null,
   "metadata": {
    "ExecuteTime": {
     "end_time": "2020-02-09T20:43:09.378792Z",
     "start_time": "2020-02-09T20:43:09.373790Z"
    }
   },
   "outputs": [],
   "source": [
    "alpha"
   ]
  },
  {
   "cell_type": "code",
   "execution_count": null,
   "metadata": {},
   "outputs": [],
   "source": []
  }
 ],
 "metadata": {
  "kernelspec": {
   "display_name": "Python 3 (ipykernel)",
   "language": "python",
   "name": "python3"
  },
  "language_info": {
   "codemirror_mode": {
    "name": "ipython",
    "version": 3
   },
   "file_extension": ".py",
   "mimetype": "text/x-python",
   "name": "python",
   "nbconvert_exporter": "python",
   "pygments_lexer": "ipython3",
   "version": "3.11.4"
  },
  "latex_envs": {
   "LaTeX_envs_menu_present": true,
   "autoclose": false,
   "autocomplete": true,
   "bibliofile": "biblio.bib",
   "cite_by": "apalike",
   "current_citInitial": 1,
   "eqLabelWithNumbers": true,
   "eqNumInitial": 1,
   "hotkeys": {
    "equation": "Ctrl-E",
    "itemize": "Ctrl-I"
   },
   "labels_anchors": false,
   "latex_user_defs": false,
   "report_style_numbering": false,
   "user_envs_cfg": false
  }
 },
 "nbformat": 4,
 "nbformat_minor": 4
}
