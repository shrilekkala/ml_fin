{
 "cells": [
  {
   "cell_type": "code",
   "execution_count": 1,
   "metadata": {
    "ExecuteTime": {
     "end_time": "2020-03-03T02:04:18.675044Z",
     "start_time": "2020-03-03T02:04:15.120387Z"
    }
   },
   "outputs": [
    {
     "name": "stderr",
     "output_type": "stream",
     "text": [
      "/var/folders/sp/wlr6xm2979l8vx6kjh2z1dk00000gn/T/ipykernel_15151/3896996703.py:9: FutureWarning: use_inf_as_na option is deprecated and will be removed in a future version. Convert inf values to NaN before operating instead.\n",
      "  pd.set_option('use_inf_as_na', True)\n"
     ]
    }
   ],
   "source": [
    "import pandas as pd\n",
    "import numpy as np\n",
    "import matplotlib.pyplot as plt\n",
    "%matplotlib inline\n",
    "from sklearn.metrics import accuracy_score, confusion_matrix\n",
    "from sklearn.tree import DecisionTreeClassifier\n",
    "from sklearn.ensemble import AdaBoostClassifier\n",
    "import sklearn\n",
    "pd.set_option('use_inf_as_na', True)\n",
    "from collections import Counter\n",
    "from functools import partial\n",
    "import _pickle as cPickle\n",
    "\n",
    "from tqdm import tqdm # to measure progress of for loops"
   ]
  },
  {
   "cell_type": "code",
   "execution_count": 2,
   "metadata": {
    "ExecuteTime": {
     "end_time": "2020-03-03T02:04:21.903526Z",
     "start_time": "2020-03-03T02:04:19.923963Z"
    }
   },
   "outputs": [],
   "source": [
    "raw_data = pd.read_pickle(r'dataset.pkl')\n",
    "data = raw_data[raw_data['market_cap'] > 1000.0]\n",
    "data = data.copy()\n",
    "data.fillna(0.0,inplace=True)"
   ]
  },
  {
   "cell_type": "code",
   "execution_count": 3,
   "metadata": {
    "ExecuteTime": {
     "end_time": "2020-03-03T02:04:24.516696Z",
     "start_time": "2020-03-03T02:04:24.512695Z"
    }
   },
   "outputs": [],
   "source": [
    "def f(x):\n",
    "    if x > 0.01:\n",
    "        return 1\n",
    "    elif x < -0.025:\n",
    "        return -1\n",
    "    else:\n",
    "        return 0"
   ]
  },
  {
   "cell_type": "code",
   "execution_count": 4,
   "metadata": {
    "ExecuteTime": {
     "end_time": "2020-03-03T02:04:30.421746Z",
     "start_time": "2020-03-03T02:04:30.370536Z"
    }
   },
   "outputs": [],
   "source": [
    "data['rel_performance'] = data['pred_rel_return'].apply(f)\n",
    "data.reset_index(inplace=True)\n",
    "data.set_index('date',inplace=True)"
   ]
  },
  {
   "cell_type": "code",
   "execution_count": 5,
   "metadata": {},
   "outputs": [],
   "source": [
    "from sklearn.preprocessing import MinMaxScaler,StandardScaler\n",
    "scaler = StandardScaler()"
   ]
  },
  {
   "cell_type": "markdown",
   "metadata": {},
   "source": [
    "#### Long term performance with AdaBoostClassifier and Finding Optimal Hyperparameters"
   ]
  },
  {
   "cell_type": "code",
   "execution_count": 6,
   "metadata": {
    "ExecuteTime": {
     "end_time": "2020-02-11T00:59:21.882803Z",
     "start_time": "2020-02-11T00:59:21.859799Z"
    }
   },
   "outputs": [],
   "source": [
    "start_dates = [pd.to_datetime('2001-01-01') + pd.DateOffset(months = 3*i) for i in range(57)]\n",
    "end_dates = [d + pd.DateOffset(months = 36) for d in start_dates]"
   ]
  },
  {
   "cell_type": "code",
   "execution_count": 7,
   "metadata": {
    "ExecuteTime": {
     "end_time": "2020-02-11T01:00:06.107690Z",
     "start_time": "2020-02-11T01:00:06.050640Z"
    }
   },
   "outputs": [],
   "source": [
    "training_frames = [data.loc[d:d+pd.DateOffset(months = 36)] for d in start_dates]\n",
    "valid_frames = [data.loc[d+pd.DateOffset(months = 3):d+pd.DateOffset(months = 6)] for d in end_dates]\n",
    "test_frames = [data.loc[d+pd.DateOffset(months = 9):d+pd.DateOffset(months = 12)] for d in end_dates]"
   ]
  },
  {
   "cell_type": "code",
   "execution_count": 8,
   "metadata": {},
   "outputs": [
    {
     "data": {
      "text/html": [
       "<div>\n",
       "<style scoped>\n",
       "    .dataframe tbody tr th:only-of-type {\n",
       "        vertical-align: middle;\n",
       "    }\n",
       "\n",
       "    .dataframe tbody tr th {\n",
       "        vertical-align: top;\n",
       "    }\n",
       "\n",
       "    .dataframe thead th {\n",
       "        text-align: right;\n",
       "    }\n",
       "</style>\n",
       "<table border=\"1\" class=\"dataframe\">\n",
       "  <thead>\n",
       "    <tr style=\"text-align: right;\">\n",
       "      <th></th>\n",
       "      <th>ticker</th>\n",
       "      <th>actq</th>\n",
       "      <th>apq</th>\n",
       "      <th>atq</th>\n",
       "      <th>ceqq</th>\n",
       "      <th>cheq</th>\n",
       "      <th>cogsq</th>\n",
       "      <th>csh12q</th>\n",
       "      <th>cshfdq</th>\n",
       "      <th>cshiq</th>\n",
       "      <th>...</th>\n",
       "      <th>sector_code_817.0</th>\n",
       "      <th>sector_code_822.0</th>\n",
       "      <th>sector_code_823.0</th>\n",
       "      <th>sector_code_825.0</th>\n",
       "      <th>sector_code_830.0</th>\n",
       "      <th>sector_code_835.0</th>\n",
       "      <th>sector_code_840.0</th>\n",
       "      <th>sector_code_845.0</th>\n",
       "      <th>sector_code_850.0</th>\n",
       "      <th>rel_performance</th>\n",
       "    </tr>\n",
       "    <tr>\n",
       "      <th>date</th>\n",
       "      <th></th>\n",
       "      <th></th>\n",
       "      <th></th>\n",
       "      <th></th>\n",
       "      <th></th>\n",
       "      <th></th>\n",
       "      <th></th>\n",
       "      <th></th>\n",
       "      <th></th>\n",
       "      <th></th>\n",
       "      <th></th>\n",
       "      <th></th>\n",
       "      <th></th>\n",
       "      <th></th>\n",
       "      <th></th>\n",
       "      <th></th>\n",
       "      <th></th>\n",
       "      <th></th>\n",
       "      <th></th>\n",
       "      <th></th>\n",
       "      <th></th>\n",
       "    </tr>\n",
       "  </thead>\n",
       "  <tbody>\n",
       "    <tr>\n",
       "      <th>2001-01-04</th>\n",
       "      <td>FDO</td>\n",
       "      <td>762.484</td>\n",
       "      <td>356.469</td>\n",
       "      <td>1285.371</td>\n",
       "      <td>831.212</td>\n",
       "      <td>0.207</td>\n",
       "      <td>535.734</td>\n",
       "      <td>171.2910</td>\n",
       "      <td>172.062</td>\n",
       "      <td>183.752</td>\n",
       "      <td>...</td>\n",
       "      <td>0</td>\n",
       "      <td>0</td>\n",
       "      <td>0</td>\n",
       "      <td>0</td>\n",
       "      <td>0</td>\n",
       "      <td>0</td>\n",
       "      <td>0</td>\n",
       "      <td>0</td>\n",
       "      <td>0</td>\n",
       "      <td>1</td>\n",
       "    </tr>\n",
       "    <tr>\n",
       "      <th>2001-01-04</th>\n",
       "      <td>FUJIY</td>\n",
       "      <td>11625.204</td>\n",
       "      <td>1406.343</td>\n",
       "      <td>20778.250</td>\n",
       "      <td>14726.288</td>\n",
       "      <td>6193.500</td>\n",
       "      <td>3621.778</td>\n",
       "      <td>514.6260</td>\n",
       "      <td>514.626</td>\n",
       "      <td>514.626</td>\n",
       "      <td>...</td>\n",
       "      <td>0</td>\n",
       "      <td>0</td>\n",
       "      <td>0</td>\n",
       "      <td>0</td>\n",
       "      <td>0</td>\n",
       "      <td>0</td>\n",
       "      <td>0</td>\n",
       "      <td>0</td>\n",
       "      <td>0</td>\n",
       "      <td>1</td>\n",
       "    </tr>\n",
       "    <tr>\n",
       "      <th>2001-01-04</th>\n",
       "      <td>NRG</td>\n",
       "      <td>672.658</td>\n",
       "      <td>263.108</td>\n",
       "      <td>5978.992</td>\n",
       "      <td>1462.088</td>\n",
       "      <td>107.378</td>\n",
       "      <td>523.676</td>\n",
       "      <td>165.8610</td>\n",
       "      <td>182.030</td>\n",
       "      <td>180.001</td>\n",
       "      <td>...</td>\n",
       "      <td>0</td>\n",
       "      <td>0</td>\n",
       "      <td>0</td>\n",
       "      <td>0</td>\n",
       "      <td>0</td>\n",
       "      <td>0</td>\n",
       "      <td>0</td>\n",
       "      <td>0</td>\n",
       "      <td>0</td>\n",
       "      <td>1</td>\n",
       "    </tr>\n",
       "    <tr>\n",
       "      <th>2001-01-04</th>\n",
       "      <td>UBS</td>\n",
       "      <td>0.000</td>\n",
       "      <td>233964.000</td>\n",
       "      <td>585134.000</td>\n",
       "      <td>21388.937</td>\n",
       "      <td>43090.067</td>\n",
       "      <td>2701.902</td>\n",
       "      <td>395.0820</td>\n",
       "      <td>407.438</td>\n",
       "      <td>431.698</td>\n",
       "      <td>...</td>\n",
       "      <td>0</td>\n",
       "      <td>0</td>\n",
       "      <td>1</td>\n",
       "      <td>0</td>\n",
       "      <td>0</td>\n",
       "      <td>0</td>\n",
       "      <td>0</td>\n",
       "      <td>0</td>\n",
       "      <td>0</td>\n",
       "      <td>0</td>\n",
       "    </tr>\n",
       "    <tr>\n",
       "      <th>2001-01-05</th>\n",
       "      <td>THC</td>\n",
       "      <td>3529.000</td>\n",
       "      <td>696.000</td>\n",
       "      <td>13121.000</td>\n",
       "      <td>4584.000</td>\n",
       "      <td>187.000</td>\n",
       "      <td>2409.000</td>\n",
       "      <td>313.7930</td>\n",
       "      <td>325.726</td>\n",
       "      <td>320.250</td>\n",
       "      <td>...</td>\n",
       "      <td>0</td>\n",
       "      <td>0</td>\n",
       "      <td>0</td>\n",
       "      <td>0</td>\n",
       "      <td>0</td>\n",
       "      <td>0</td>\n",
       "      <td>0</td>\n",
       "      <td>0</td>\n",
       "      <td>0</td>\n",
       "      <td>1</td>\n",
       "    </tr>\n",
       "    <tr>\n",
       "      <th>...</th>\n",
       "      <td>...</td>\n",
       "      <td>...</td>\n",
       "      <td>...</td>\n",
       "      <td>...</td>\n",
       "      <td>...</td>\n",
       "      <td>...</td>\n",
       "      <td>...</td>\n",
       "      <td>...</td>\n",
       "      <td>...</td>\n",
       "      <td>...</td>\n",
       "      <td>...</td>\n",
       "      <td>...</td>\n",
       "      <td>...</td>\n",
       "      <td>...</td>\n",
       "      <td>...</td>\n",
       "      <td>...</td>\n",
       "      <td>...</td>\n",
       "      <td>...</td>\n",
       "      <td>...</td>\n",
       "      <td>...</td>\n",
       "      <td>...</td>\n",
       "    </tr>\n",
       "    <tr>\n",
       "      <th>2003-12-23</th>\n",
       "      <td>MITSY</td>\n",
       "      <td>33462.887</td>\n",
       "      <td>14015.209</td>\n",
       "      <td>58080.035</td>\n",
       "      <td>8214.489</td>\n",
       "      <td>6844.386</td>\n",
       "      <td>50523.573</td>\n",
       "      <td>79.0965</td>\n",
       "      <td>79.114</td>\n",
       "      <td>79.184</td>\n",
       "      <td>...</td>\n",
       "      <td>0</td>\n",
       "      <td>0</td>\n",
       "      <td>0</td>\n",
       "      <td>0</td>\n",
       "      <td>0</td>\n",
       "      <td>0</td>\n",
       "      <td>0</td>\n",
       "      <td>0</td>\n",
       "      <td>0</td>\n",
       "      <td>0</td>\n",
       "    </tr>\n",
       "    <tr>\n",
       "      <th>2003-12-23</th>\n",
       "      <td>SVU</td>\n",
       "      <td>1962.064</td>\n",
       "      <td>1256.227</td>\n",
       "      <td>6117.381</td>\n",
       "      <td>2142.161</td>\n",
       "      <td>52.274</td>\n",
       "      <td>4024.789</td>\n",
       "      <td>133.8083</td>\n",
       "      <td>135.862</td>\n",
       "      <td>150.670</td>\n",
       "      <td>...</td>\n",
       "      <td>0</td>\n",
       "      <td>0</td>\n",
       "      <td>0</td>\n",
       "      <td>0</td>\n",
       "      <td>0</td>\n",
       "      <td>0</td>\n",
       "      <td>0</td>\n",
       "      <td>0</td>\n",
       "      <td>0</td>\n",
       "      <td>1</td>\n",
       "    </tr>\n",
       "    <tr>\n",
       "      <th>2003-12-24</th>\n",
       "      <td>CBK</td>\n",
       "      <td>122.502</td>\n",
       "      <td>4.599</td>\n",
       "      <td>200.842</td>\n",
       "      <td>175.700</td>\n",
       "      <td>72.022</td>\n",
       "      <td>62.210</td>\n",
       "      <td>37.7123</td>\n",
       "      <td>38.705</td>\n",
       "      <td>42.204</td>\n",
       "      <td>...</td>\n",
       "      <td>0</td>\n",
       "      <td>0</td>\n",
       "      <td>0</td>\n",
       "      <td>0</td>\n",
       "      <td>0</td>\n",
       "      <td>0</td>\n",
       "      <td>0</td>\n",
       "      <td>0</td>\n",
       "      <td>0</td>\n",
       "      <td>1</td>\n",
       "    </tr>\n",
       "    <tr>\n",
       "      <th>2003-12-24</th>\n",
       "      <td>MU</td>\n",
       "      <td>2369.100</td>\n",
       "      <td>435.800</td>\n",
       "      <td>7552.100</td>\n",
       "      <td>5429.100</td>\n",
       "      <td>1172.000</td>\n",
       "      <td>526.700</td>\n",
       "      <td>614.7000</td>\n",
       "      <td>636.600</td>\n",
       "      <td>609.100</td>\n",
       "      <td>...</td>\n",
       "      <td>0</td>\n",
       "      <td>0</td>\n",
       "      <td>0</td>\n",
       "      <td>0</td>\n",
       "      <td>0</td>\n",
       "      <td>0</td>\n",
       "      <td>0</td>\n",
       "      <td>0</td>\n",
       "      <td>0</td>\n",
       "      <td>1</td>\n",
       "    </tr>\n",
       "    <tr>\n",
       "      <th>2003-12-30</th>\n",
       "      <td>GFI</td>\n",
       "      <td>392.700</td>\n",
       "      <td>93.900</td>\n",
       "      <td>2466.900</td>\n",
       "      <td>1450.000</td>\n",
       "      <td>133.600</td>\n",
       "      <td>295.300</td>\n",
       "      <td>471.8140</td>\n",
       "      <td>495.211</td>\n",
       "      <td>472.365</td>\n",
       "      <td>...</td>\n",
       "      <td>0</td>\n",
       "      <td>0</td>\n",
       "      <td>0</td>\n",
       "      <td>0</td>\n",
       "      <td>0</td>\n",
       "      <td>0</td>\n",
       "      <td>0</td>\n",
       "      <td>0</td>\n",
       "      <td>0</td>\n",
       "      <td>-1</td>\n",
       "    </tr>\n",
       "  </tbody>\n",
       "</table>\n",
       "<p>10831 rows × 733 columns</p>\n",
       "</div>"
      ],
      "text/plain": [
       "           ticker       actq         apq         atq       ceqq       cheq  \\\n",
       "date                                                                         \n",
       "2001-01-04    FDO    762.484     356.469    1285.371    831.212      0.207   \n",
       "2001-01-04  FUJIY  11625.204    1406.343   20778.250  14726.288   6193.500   \n",
       "2001-01-04    NRG    672.658     263.108    5978.992   1462.088    107.378   \n",
       "2001-01-04    UBS      0.000  233964.000  585134.000  21388.937  43090.067   \n",
       "2001-01-05    THC   3529.000     696.000   13121.000   4584.000    187.000   \n",
       "...           ...        ...         ...         ...        ...        ...   \n",
       "2003-12-23  MITSY  33462.887   14015.209   58080.035   8214.489   6844.386   \n",
       "2003-12-23    SVU   1962.064    1256.227    6117.381   2142.161     52.274   \n",
       "2003-12-24    CBK    122.502       4.599     200.842    175.700     72.022   \n",
       "2003-12-24     MU   2369.100     435.800    7552.100   5429.100   1172.000   \n",
       "2003-12-30    GFI    392.700      93.900    2466.900   1450.000    133.600   \n",
       "\n",
       "                cogsq    csh12q   cshfdq    cshiq  ...  sector_code_817.0  \\\n",
       "date                                               ...                      \n",
       "2001-01-04    535.734  171.2910  172.062  183.752  ...                  0   \n",
       "2001-01-04   3621.778  514.6260  514.626  514.626  ...                  0   \n",
       "2001-01-04    523.676  165.8610  182.030  180.001  ...                  0   \n",
       "2001-01-04   2701.902  395.0820  407.438  431.698  ...                  0   \n",
       "2001-01-05   2409.000  313.7930  325.726  320.250  ...                  0   \n",
       "...               ...       ...      ...      ...  ...                ...   \n",
       "2003-12-23  50523.573   79.0965   79.114   79.184  ...                  0   \n",
       "2003-12-23   4024.789  133.8083  135.862  150.670  ...                  0   \n",
       "2003-12-24     62.210   37.7123   38.705   42.204  ...                  0   \n",
       "2003-12-24    526.700  614.7000  636.600  609.100  ...                  0   \n",
       "2003-12-30    295.300  471.8140  495.211  472.365  ...                  0   \n",
       "\n",
       "            sector_code_822.0  sector_code_823.0  sector_code_825.0  \\\n",
       "date                                                                  \n",
       "2001-01-04                  0                  0                  0   \n",
       "2001-01-04                  0                  0                  0   \n",
       "2001-01-04                  0                  0                  0   \n",
       "2001-01-04                  0                  1                  0   \n",
       "2001-01-05                  0                  0                  0   \n",
       "...                       ...                ...                ...   \n",
       "2003-12-23                  0                  0                  0   \n",
       "2003-12-23                  0                  0                  0   \n",
       "2003-12-24                  0                  0                  0   \n",
       "2003-12-24                  0                  0                  0   \n",
       "2003-12-30                  0                  0                  0   \n",
       "\n",
       "            sector_code_830.0  sector_code_835.0  sector_code_840.0  \\\n",
       "date                                                                  \n",
       "2001-01-04                  0                  0                  0   \n",
       "2001-01-04                  0                  0                  0   \n",
       "2001-01-04                  0                  0                  0   \n",
       "2001-01-04                  0                  0                  0   \n",
       "2001-01-05                  0                  0                  0   \n",
       "...                       ...                ...                ...   \n",
       "2003-12-23                  0                  0                  0   \n",
       "2003-12-23                  0                  0                  0   \n",
       "2003-12-24                  0                  0                  0   \n",
       "2003-12-24                  0                  0                  0   \n",
       "2003-12-30                  0                  0                  0   \n",
       "\n",
       "            sector_code_845.0  sector_code_850.0  rel_performance  \n",
       "date                                                               \n",
       "2001-01-04                  0                  0                1  \n",
       "2001-01-04                  0                  0                1  \n",
       "2001-01-04                  0                  0                1  \n",
       "2001-01-04                  0                  0                0  \n",
       "2001-01-05                  0                  0                1  \n",
       "...                       ...                ...              ...  \n",
       "2003-12-23                  0                  0                0  \n",
       "2003-12-23                  0                  0                1  \n",
       "2003-12-24                  0                  0                1  \n",
       "2003-12-24                  0                  0                1  \n",
       "2003-12-30                  0                  0               -1  \n",
       "\n",
       "[10831 rows x 733 columns]"
      ]
     },
     "execution_count": 8,
     "metadata": {},
     "output_type": "execute_result"
    }
   ],
   "source": [
    "training_frames[0]"
   ]
  },
  {
   "cell_type": "code",
   "execution_count": 9,
   "metadata": {
    "ExecuteTime": {
     "end_time": "2020-02-11T01:00:20.984116Z",
     "start_time": "2020-02-11T01:00:11.072616Z"
    }
   },
   "outputs": [],
   "source": [
    "training_data = [d.reset_index().drop\n",
    "                                 (['ticker','date',\n",
    "                                   'next_period_return',\n",
    "                                   'spy_next_period_return',\n",
    "                                   'rel_performance','pred_rel_return',\n",
    "                                  'return', 'cum_ret', 'spy_cum_ret'],axis=1) for d in training_frames]"
   ]
  },
  {
   "cell_type": "code",
   "execution_count": 10,
   "metadata": {},
   "outputs": [],
   "source": [
    "valid_data = [d.reset_index().drop\n",
    "                                 (['ticker','date',\n",
    "                                   'next_period_return',\n",
    "                                   'spy_next_period_return',\n",
    "                                   'rel_performance','pred_rel_return',\n",
    "                                  'return', 'cum_ret', 'spy_cum_ret'],axis=1) for d in valid_frames]"
   ]
  },
  {
   "cell_type": "code",
   "execution_count": 11,
   "metadata": {
    "ExecuteTime": {
     "end_time": "2020-02-11T01:00:22.138142Z",
     "start_time": "2020-02-11T01:00:20.986086Z"
    }
   },
   "outputs": [],
   "source": [
    "test_data = [d.reset_index().drop(['ticker','date',\n",
    "                                   'next_period_return',\n",
    "                                   'spy_next_period_return',\n",
    "                                   'rel_performance','pred_rel_return',\n",
    "                                  'return', 'cum_ret', 'spy_cum_ret'],axis=1) for d in test_frames]"
   ]
  },
  {
   "cell_type": "code",
   "execution_count": 12,
   "metadata": {
    "ExecuteTime": {
     "end_time": "2020-02-11T01:00:28.172336Z",
     "start_time": "2020-02-11T01:00:28.162322Z"
    }
   },
   "outputs": [],
   "source": [
    "training_labels = [d['rel_performance'].values for d in training_frames]\n",
    "valid_labels = [d['rel_performance'].values for d in valid_frames] "
   ]
  },
  {
   "cell_type": "code",
   "execution_count": 13,
   "metadata": {},
   "outputs": [],
   "source": [
    "for i in range(len(start_dates)-1):\n",
    "    float_vars = [x for x in training_data[i].columns if data[x].dtype == 'float64']\n",
    "\n",
    "    scaler = StandardScaler()\n",
    "    training_data[i] = training_data[i].copy()\n",
    "    valid_data[i] = valid_data[i].copy()\n",
    "    test_data[i] = test_data[i].copy()\n",
    "    training_data[i][float_vars] = scaler.fit_transform(training_data[i][float_vars])\n",
    "    valid_data[i][float_vars] = scaler.transform(valid_data[i][float_vars])\n",
    "    test_data[i][float_vars] = scaler.transform(test_data[i][float_vars])"
   ]
  },
  {
   "cell_type": "code",
   "execution_count": 14,
   "metadata": {},
   "outputs": [],
   "source": [
    "import optuna\n",
    "from optuna.trial import Trial\n",
    "optuna.logging.set_verbosity(optuna.logging.FATAL)\n",
    "import warnings\n",
    "warnings.filterwarnings(\"ignore\")"
   ]
  },
  {
   "cell_type": "markdown",
   "metadata": {},
   "source": [
    "#### Define two different objective functions (one for accuracy and one for max drawdown)."
   ]
  },
  {
   "cell_type": "code",
   "execution_count": 15,
   "metadata": {},
   "outputs": [],
   "source": [
    "def objective_accuracy(trial:Trial,train=None,labels=None,val=None,val_labels=None,val_rets=None):\n",
    "\n",
    "    ada_m_depth = trial.suggest_int('max_depth',1,3,step=1)\n",
    "    ada_n_estimators = trial.suggest_int('n_estimators', 10,100,step=10)\n",
    "    ada_learning_rate = trial.suggest_float('learning_rate',0.1,0.5, step=0.1)\n",
    "\n",
    "    \n",
    "    ada_clf = AdaBoostClassifier(DecisionTreeClassifier(max_depth=ada_m_depth),\n",
    "                                 n_estimators=ada_n_estimators,\n",
    "                                 learning_rate=ada_learning_rate,\n",
    "                                 algorithm=\"SAMME.R\")\n",
    "\n",
    "    ada_clf.fit(train,labels)\n",
    "    preds = ada_clf.predict(val)\n",
    "    accuracy = ada_clf.score(val,val_labels)\n",
    " \n",
    "    return accuracy"
   ]
  },
  {
   "cell_type": "code",
   "execution_count": 16,
   "metadata": {},
   "outputs": [],
   "source": [
    "def max_drawdown(returns):\n",
    "        local_max = [n for n in range(len(returns)-1) if ((n==0) and (returns[0] > returns[1])) or \n",
    "           ((n > 0) and  (returns[n-1]<returns[n]) and (returns[n+1]<returns[n]))] \n",
    "        \n",
    "        local_min = [n for n in range(1,len(returns)) if ((n == len(returns)-1) and (returns[-1] < returns[-2])) or\n",
    "                (returns[n-1]>returns[n]) and (returns[n+1]>returns[n])]\n",
    "        \n",
    "        def next_local_min(n):\n",
    "            if [m for m in local_min if m > n]:\n",
    "                return [m for m in local_min if m > n][0]\n",
    "            else: return None\n",
    "        \n",
    "        drawdowns = [(n,next_local_min(n)) for n in local_max]\n",
    "        drawdown_values = [returns[n] - returns[m] for (n,m) in drawdowns if m != None]\n",
    "        if drawdown_values:\n",
    "            return  np.max(drawdown_values)\n",
    "        else: return 0.0"
   ]
  },
  {
   "cell_type": "code",
   "execution_count": 17,
   "metadata": {},
   "outputs": [],
   "source": [
    "def objective_max_drawdown(trial:Trial,train=None,labels=None,val=None,val_labels=None,val_rets=None):\n",
    "\n",
    "    ada_m_depth = trial.suggest_int('max_depth',1,3,step=1)\n",
    "    ada_n_estimators = trial.suggest_int('n_estimators', 10,100,step=10)\n",
    "    ada_learning_rate = trial.suggest_float('learning_rate',0.1,0.5, step=0.1)\n",
    "\n",
    "    \n",
    "    ada_clf = AdaBoostClassifier(DecisionTreeClassifier(max_depth=ada_m_depth),\n",
    "                                 n_estimators=ada_n_estimators,\n",
    "                                 learning_rate=ada_learning_rate,\n",
    "                                 algorithm=\"SAMME.R\")\n",
    "\n",
    "    ada_clf.fit(train,labels)\n",
    "    preds = ada_clf.predict(val)\n",
    "\n",
    "    predicted_rets = preds * val_rets\n",
    "    profit = predicted_rets.sum()\n",
    "\n",
    "    max_draw = max_drawdown(predicted_rets)\n",
    "    \n",
    "    return max_draw"
   ]
  },
  {
   "cell_type": "markdown",
   "metadata": {},
   "source": [
    "#### Find the optimal hyperparameters using each objective"
   ]
  },
  {
   "cell_type": "code",
   "execution_count": 18,
   "metadata": {},
   "outputs": [],
   "source": [
    "optimal_hyperparameters_accuracy = {}\n",
    "study_1 = optuna.create_study(direction=\"maximize\")\n",
    "\n",
    "optimal_hyperparameters_drawdown = {}\n",
    "study_2 = optuna.create_study(direction=\"minimize\")"
   ]
  },
  {
   "cell_type": "markdown",
   "metadata": {},
   "source": [
    "Find the optimal hyper parameters during the first training period 2001-01-01 to 2004-01-01"
   ]
  },
  {
   "cell_type": "code",
   "execution_count": 19,
   "metadata": {
    "scrolled": true
   },
   "outputs": [
    {
     "name": "stdout",
     "output_type": "stream",
     "text": [
      "{'max_depth': 3, 'n_estimators': 50, 'learning_rate': 0.4}\n",
      "CPU times: user 14min 6s, sys: 8.38 s, total: 14min 14s\n",
      "Wall time: 1min 49s\n"
     ]
    }
   ],
   "source": [
    "%%time\n",
    "study_1.optimize(partial(objective_accuracy,\n",
    "                           train=training_data[0],\n",
    "                           labels=training_labels[0],\n",
    "                           val=valid_data[0],\n",
    "                           val_labels=valid_labels[0],\n",
    "                           val_rets=valid_frames[0]['next_period_return']), n_trials=25,n_jobs=-1)\n",
    "    \n",
    "optimal_hyperparameters_accuracy = study_1.best_params\n",
    "print(study_1.best_params)"
   ]
  },
  {
   "cell_type": "code",
   "execution_count": 20,
   "metadata": {},
   "outputs": [
    {
     "name": "stdout",
     "output_type": "stream",
     "text": [
      "{'max_depth': 3, 'n_estimators': 50, 'learning_rate': 0.2}\n",
      "CPU times: user 11min 57s, sys: 6.7 s, total: 12min 4s\n",
      "Wall time: 1min 52s\n"
     ]
    }
   ],
   "source": [
    "%%time\n",
    "study_2.optimize(partial(objective_max_drawdown,\n",
    "                           train=training_data[0],\n",
    "                           labels=training_labels[0],\n",
    "                           val=valid_data[0],\n",
    "                           val_labels=valid_labels[0],\n",
    "                           val_rets=valid_frames[0]['next_period_return']), n_trials=25,n_jobs=-1)\n",
    "    \n",
    "optimal_hyperparameters_drawdown = study_2.best_params  \n",
    "print(study_2.best_params)"
   ]
  },
  {
   "cell_type": "markdown",
   "metadata": {},
   "source": [
    "#### Open and read the 3 sets of optimal features over the holding period 2003 - 2018"
   ]
  },
  {
   "cell_type": "code",
   "execution_count": 21,
   "metadata": {},
   "outputs": [],
   "source": [
    "with open(r'Data for HW 3/shap_features_ada.pkl','rb') as f:\n",
    "    shap_1 = cPickle.load(f)\n",
    "with open(r'Data for HW 3/shap_features_ada_01.pkl','rb') as f:\n",
    "    shap_2 = cPickle.load(f)\n",
    "with open(r'Data for HW 3/shap_features_ada_02.pkl','rb') as f:\n",
    "    shap_3 = cPickle.load(f)"
   ]
  },
  {
   "cell_type": "markdown",
   "metadata": {},
   "source": [
    "### For each combination of optimal features and hyperparameters, instantiate the AdaBoostClassifier with the features and compute the max drawdown for each of them."
   ]
  },
  {
   "cell_type": "markdown",
   "metadata": {},
   "source": [
    "#### 1: Optimal Hyperparameters 1 (Accuracy Objective)"
   ]
  },
  {
   "cell_type": "code",
   "execution_count": 22,
   "metadata": {},
   "outputs": [
    {
     "data": {
      "text/plain": [
       "{'max_depth': 3, 'n_estimators': 50, 'learning_rate': 0.4}"
      ]
     },
     "execution_count": 22,
     "metadata": {},
     "output_type": "execute_result"
    }
   ],
   "source": [
    "optimal_hyperparameters_accuracy"
   ]
  },
  {
   "cell_type": "code",
   "execution_count": 23,
   "metadata": {},
   "outputs": [],
   "source": [
    "ada_clf_objective = AdaBoostClassifier(DecisionTreeClassifier(max_depth=optimal_hyperparameters_accuracy['max_depth']),\n",
    "                                       n_estimators=optimal_hyperparameters_accuracy['n_estimators'],\n",
    "                                       learning_rate=optimal_hyperparameters_accuracy['learning_rate'])"
   ]
  },
  {
   "cell_type": "code",
   "execution_count": 24,
   "metadata": {},
   "outputs": [],
   "source": [
    "classifiers_shap_1 = [ada_clf_objective for i in range(len(start_dates) - 1)]\n",
    "classifiers_shap_2 = [ada_clf_objective for i in range(len(start_dates) - 1)]\n",
    "classifiers_shap_3 = [ada_clf_objective for i in range(len(start_dates) - 1)]"
   ]
  },
  {
   "cell_type": "code",
   "execution_count": 25,
   "metadata": {},
   "outputs": [],
   "source": [
    "def train_classifiers(classifiers, shap_feats):\n",
    "    scalers = [StandardScaler() for i in range(len(start_dates)-1)]\n",
    "    opt_training_data = [pd.DataFrame(scalers[i].fit_transform(training_frames[i][shap_feats[i]].values),columns=shap_feats[i]) for i in range(len(start_dates)-1)]\n",
    "    opt_valid_data = [pd.DataFrame(scalers[i].fit_transform(training_frames[i][shap_feats[i]].values),columns=shap_feats[i]) for i in range(len(start_dates)-1)]\n",
    "    opt_test_data = [pd.DataFrame(scalers[i].transform(test_frames[i][shap_feats[i]].values),columns=shap_feats[i]) for i in range(len(start_dates)-1)]\n",
    "\n",
    "    x = [1]\n",
    "    ret = []\n",
    "    \n",
    "    for i in tqdm(range(len(start_dates)-1)):\n",
    "            classifiers[i].fit(opt_training_data[i],training_labels[i])\n",
    "    \n",
    "            preds = classifiers[i].predict(opt_test_data[i])\n",
    "            profit_i = (preds*test_frames[i]['next_period_return']).sum()\n",
    "            ret.append(profit_i)\n",
    "            num_names = len(opt_test_data[i])\n",
    "            x.append(x[i] + (x[i]/num_names)*profit_i)\n",
    "\n",
    "    return x, ret"
   ]
  },
  {
   "cell_type": "code",
   "execution_count": 26,
   "metadata": {},
   "outputs": [
    {
     "name": "stderr",
     "output_type": "stream",
     "text": [
      "100%|███████████████████████████████████████████| 56/56 [19:12<00:00, 20.57s/it]\n"
     ]
    }
   ],
   "source": [
    "# Shap Features Set 1\n",
    "x_1, ret_1 = train_classifiers(classifiers_shap_1, shap_1)"
   ]
  },
  {
   "cell_type": "code",
   "execution_count": 27,
   "metadata": {},
   "outputs": [
    {
     "name": "stderr",
     "output_type": "stream",
     "text": [
      "100%|███████████████████████████████████████████| 56/56 [17:59<00:00, 19.28s/it]\n"
     ]
    }
   ],
   "source": [
    "# Shap Features Set 2\n",
    "x_2, ret_2 = train_classifiers(classifiers_shap_2, shap_2)"
   ]
  },
  {
   "cell_type": "code",
   "execution_count": 28,
   "metadata": {},
   "outputs": [
    {
     "name": "stderr",
     "output_type": "stream",
     "text": [
      "100%|███████████████████████████████████████████| 56/56 [03:26<00:00,  3.68s/it]\n"
     ]
    }
   ],
   "source": [
    "# Shap Features Set 3\n",
    "x_3, ret_3 = train_classifiers(classifiers_shap_3, shap_3)"
   ]
  },
  {
   "cell_type": "code",
   "execution_count": 29,
   "metadata": {
    "ExecuteTime": {
     "end_time": "2020-02-11T01:01:37.494042Z",
     "start_time": "2020-02-11T01:01:37.445007Z"
    }
   },
   "outputs": [],
   "source": [
    "# Import and read the SPY dataset\n",
    "SPY = pd.read_pickle(r'SPY_cum_ret.pkl')\n",
    "SPY = SPY.loc['2004-09-01':'2018-09-30']\n",
    "SPY = SPY.resample('Q').ffill()\n",
    "SPY['spy_cum_ret'] = (SPY['spy_cum_ret'] - SPY['spy_cum_ret'][0] + 1)"
   ]
  },
  {
   "cell_type": "code",
   "execution_count": 30,
   "metadata": {},
   "outputs": [],
   "source": [
    "SPY['strategy_1'] = x_1\n",
    "SPY['strategy_2'] = x_2\n",
    "SPY['strategy_3'] = x_3"
   ]
  },
  {
   "cell_type": "code",
   "execution_count": 31,
   "metadata": {
    "ExecuteTime": {
     "end_time": "2020-02-11T01:01:41.397432Z",
     "start_time": "2020-02-11T01:01:41.198433Z"
    }
   },
   "outputs": [
    {
     "data": {
      "image/png": "[encoded data removed]",
      "text/plain": [
       "<Figure size 640x480 with 1 Axes>"
      ]
     },
     "metadata": {},
     "output_type": "display_data"
    }
   ],
   "source": [
    "# SPY = SPY.iloc[1:].resample('A').bfill()\n",
    "SPY.plot();"
   ]
  },
  {
   "cell_type": "code",
   "execution_count": 32,
   "metadata": {},
   "outputs": [],
   "source": [
    "# Function to compute and plot the max drawdown for each strategy\n",
    "def max_dd_strats(strat_labels):\n",
    "    for strat in strat_labels:\n",
    "        returns = SPY[strat].values[:-2]\n",
    "        i = np.argmax(np.maximum.accumulate(returns) - returns)\n",
    "        j = np.argmax(returns[:i])\n",
    "        plt.plot(returns, label=strat);\n",
    "        plt.plot([i, j], [returns[i], returns[j]], 'o', color='Red', markersize=10)\n",
    "        print(f'The max drawdown for {strat} is {np.abs(returns[j] - returns[i])}')\n",
    "    plt.legend()"
   ]
  },
  {
   "cell_type": "code",
   "execution_count": 33,
   "metadata": {},
   "outputs": [
    {
     "name": "stdout",
     "output_type": "stream",
     "text": [
      "The max drawdown for strategy_1 is 0.37011133168960764\n",
      "The max drawdown for strategy_2 is 0.34521343912984115\n",
      "The max drawdown for strategy_3 is 0.4469098856398048\n"
     ]
    },
    {
     "data": {
      "image/png": "[encoded data removed]",
      "text/plain": [
       "<Figure size 640x480 with 1 Axes>"
      ]
     },
     "metadata": {},
     "output_type": "display_data"
    }
   ],
   "source": [
    "SPY = SPY.iloc[1:].resample('A').bfill()\n",
    "max_dd_strats(['strategy_1', 'strategy_2', 'strategy_3'])"
   ]
  },
  {
   "cell_type": "code",
   "execution_count": 34,
   "metadata": {},
   "outputs": [],
   "source": [
    "def sharpe_ratio_strats(strat_labels):\n",
    "    for strat in strat_labels:\n",
    "        strategy_mean_ret = (SPY[strat] - 1).diff().mean()\n",
    "        strategy_std = (SPY[strat] - 1).diff().std()\n",
    "        strategy_sr = strategy_mean_ret/strategy_std\n",
    "        print(f'The Sharpe Ratio for {strat} is: {strategy_sr}')"
   ]
  },
  {
   "cell_type": "code",
   "execution_count": 35,
   "metadata": {
    "ExecuteTime": {
     "end_time": "2020-02-11T01:01:54.486712Z",
     "start_time": "2020-02-11T01:01:54.468721Z"
    }
   },
   "outputs": [
    {
     "name": "stdout",
     "output_type": "stream",
     "text": [
      "The Sharpe Ratio for strategy_1 is: 0.7755875462339834\n",
      "The Sharpe Ratio for strategy_2 is: 0.7844852507777246\n",
      "The Sharpe Ratio for strategy_3 is: 0.7400953034232775\n"
     ]
    }
   ],
   "source": [
    "SPY = SPY.resample('Y').ffill()\n",
    "sharpe_ratio_strats(['strategy_1', 'strategy_2', 'strategy_3'])"
   ]
  },
  {
   "cell_type": "markdown",
   "metadata": {},
   "source": [
    "#### 2: Optimal Hyperparameters 2 (Max Drawdown Objective)"
   ]
  },
  {
   "cell_type": "code",
   "execution_count": 36,
   "metadata": {},
   "outputs": [
    {
     "data": {
      "text/plain": [
       "{'max_depth': 3, 'n_estimators': 50, 'learning_rate': 0.2}"
      ]
     },
     "execution_count": 36,
     "metadata": {},
     "output_type": "execute_result"
    }
   ],
   "source": [
    "optimal_hyperparameters_drawdown"
   ]
  },
  {
   "cell_type": "code",
   "execution_count": 37,
   "metadata": {},
   "outputs": [],
   "source": [
    "ada_clf_objective = AdaBoostClassifier(DecisionTreeClassifier(max_depth=optimal_hyperparameters_drawdown['max_depth']),\n",
    "                                       n_estimators=optimal_hyperparameters_drawdown['n_estimators'],\n",
    "                                       learning_rate=optimal_hyperparameters_drawdown['learning_rate'])"
   ]
  },
  {
   "cell_type": "code",
   "execution_count": 38,
   "metadata": {},
   "outputs": [],
   "source": [
    "classifiers_shap_1 = [ada_clf_objective for i in range(len(start_dates) - 1)]\n",
    "classifiers_shap_2 = [ada_clf_objective for i in range(len(start_dates) - 1)]\n",
    "classifiers_shap_3 = [ada_clf_objective for i in range(len(start_dates) - 1)]"
   ]
  },
  {
   "cell_type": "code",
   "execution_count": 39,
   "metadata": {},
   "outputs": [
    {
     "name": "stderr",
     "output_type": "stream",
     "text": [
      "100%|███████████████████████████████████████████| 56/56 [19:09<00:00, 20.52s/it]\n"
     ]
    }
   ],
   "source": [
    "# Shap Features Set 1\n",
    "x_4, ret_4 = train_classifiers(classifiers_shap_1, shap_1)"
   ]
  },
  {
   "cell_type": "code",
   "execution_count": 40,
   "metadata": {},
   "outputs": [
    {
     "name": "stderr",
     "output_type": "stream",
     "text": [
      "100%|███████████████████████████████████████████| 56/56 [14:36<00:00, 15.65s/it]\n"
     ]
    }
   ],
   "source": [
    "# Shap Features Set 2\n",
    "x_5, ret_5 = train_classifiers(classifiers_shap_2, shap_2)"
   ]
  },
  {
   "cell_type": "code",
   "execution_count": 41,
   "metadata": {},
   "outputs": [
    {
     "name": "stderr",
     "output_type": "stream",
     "text": [
      "100%|███████████████████████████████████████████| 56/56 [02:36<00:00,  2.79s/it]\n"
     ]
    }
   ],
   "source": [
    "# Shap Features Set 3\n",
    "x_6, ret_6 = train_classifiers(classifiers_shap_3, shap_3)"
   ]
  },
  {
   "cell_type": "code",
   "execution_count": 42,
   "metadata": {
    "ExecuteTime": {
     "end_time": "2020-02-11T01:01:37.494042Z",
     "start_time": "2020-02-11T01:01:37.445007Z"
    }
   },
   "outputs": [],
   "source": [
    "# Import and read the SPY dataset\n",
    "SPY = pd.read_pickle(r'SPY_cum_ret.pkl')\n",
    "SPY = SPY.loc['2004-09-01':'2018-09-30']\n",
    "SPY = SPY.resample('Q').ffill()\n",
    "SPY['spy_cum_ret'] = (SPY['spy_cum_ret'] - SPY['spy_cum_ret'][0] + 1)"
   ]
  },
  {
   "cell_type": "code",
   "execution_count": 43,
   "metadata": {},
   "outputs": [],
   "source": [
    "SPY['strategy_4'] = x_4\n",
    "SPY['strategy_5'] = x_5\n",
    "SPY['strategy_6'] = x_6"
   ]
  },
  {
   "cell_type": "code",
   "execution_count": 44,
   "metadata": {
    "ExecuteTime": {
     "end_time": "2020-02-11T01:01:41.397432Z",
     "start_time": "2020-02-11T01:01:41.198433Z"
    }
   },
   "outputs": [
    {
     "data": {
      "image/png": "[encoded data removed]",
      "text/plain": [
       "<Figure size 640x480 with 1 Axes>"
      ]
     },
     "metadata": {},
     "output_type": "display_data"
    }
   ],
   "source": [
    "SPY.plot();"
   ]
  },
  {
   "cell_type": "code",
   "execution_count": 45,
   "metadata": {},
   "outputs": [
    {
     "name": "stdout",
     "output_type": "stream",
     "text": [
      "The max drawdown for strategy_4 is 0.438210267409908\n",
      "The max drawdown for strategy_5 is 0.4370627807089724\n",
      "The max drawdown for strategy_6 is 0.5030831108135541\n"
     ]
    },
    {
     "data": {
      "image/png": "[encoded data removed]",
      "text/plain": [
       "<Figure size 640x480 with 1 Axes>"
      ]
     },
     "metadata": {},
     "output_type": "display_data"
    }
   ],
   "source": [
    "SPY = SPY.iloc[1:].resample('A').bfill()\n",
    "max_dd_strats(['strategy_4', 'strategy_5', 'strategy_6'])"
   ]
  },
  {
   "cell_type": "code",
   "execution_count": 46,
   "metadata": {
    "ExecuteTime": {
     "end_time": "2020-02-11T01:01:54.486712Z",
     "start_time": "2020-02-11T01:01:54.468721Z"
    }
   },
   "outputs": [
    {
     "name": "stdout",
     "output_type": "stream",
     "text": [
      "The Sharpe Ratio for strategy_4 is: 0.7026551977035782\n",
      "The Sharpe Ratio for strategy_5 is: 0.7242743678519502\n",
      "The Sharpe Ratio for strategy_6 is: 0.706931084267567\n"
     ]
    }
   ],
   "source": [
    "SPY = SPY.resample('Y').ffill()\n",
    "sharpe_ratio_strats(['strategy_4', 'strategy_5', 'strategy_6'])"
   ]
  },
  {
   "cell_type": "markdown",
   "metadata": {},
   "source": [
    "## Now we choose the optimal features and optuna objective from the above that gives us a good Sharpe ratio and small max drawdown.\n",
    "\n",
    "From the performances above we can conclude that strategy 3 (i.e. Shap feature set 3 and hyper parameters optained using the accuracy for the Optuna objective) gives the desired values.\n",
    "\n",
    "As in previous homeworks, we can change the labels to see if we can improve our strategy:"
   ]
  },
  {
   "cell_type": "markdown",
   "metadata": {},
   "source": [
    "We insert a column in the dataset where entries are:  \n",
    "- 2 if the stock return is more than 5% higher than the SPY return  \n",
    "- 1 if it is between 1% and 5% higher than the SPY return  \n",
    "- 0 if it is between -2.5% and +1% relative to the SPY return  \n",
    "- -1 if it is below -2.5% relative to the SPY return"
   ]
  },
  {
   "cell_type": "code",
   "execution_count": 47,
   "metadata": {},
   "outputs": [],
   "source": [
    "# function to return appropriate values based on performance as detailed above\n",
    "def f_2(x):\n",
    "    if x > 0.05:\n",
    "        return 2\n",
    "    elif x > 0.01:\n",
    "        return 1\n",
    "    elif x > -0.025:\n",
    "        return 0\n",
    "    else:\n",
    "        return -1"
   ]
  },
  {
   "cell_type": "markdown",
   "metadata": {},
   "source": [
    "#### Import data, make labels, split into training, validation, and test frames."
   ]
  },
  {
   "cell_type": "code",
   "execution_count": 48,
   "metadata": {},
   "outputs": [],
   "source": [
    "raw_data = pd.read_pickle(r'dataset.pkl')\n",
    "data = raw_data[raw_data['market_cap'] > 1000.0]\n",
    "data = data.copy()\n",
    "data.fillna(0.0,inplace=True)"
   ]
  },
  {
   "cell_type": "code",
   "execution_count": 49,
   "metadata": {},
   "outputs": [],
   "source": [
    "data['rel_performance'] = data['pred_rel_return'].apply(f_2)\n",
    "data.reset_index(inplace=True)\n",
    "data.set_index('date',inplace=True)"
   ]
  },
  {
   "cell_type": "code",
   "execution_count": 50,
   "metadata": {},
   "outputs": [],
   "source": [
    "start_dates = [pd.to_datetime('2001-01-01') + pd.DateOffset(months = 3*i) for i in range(57)]\n",
    "end_dates = [d + pd.DateOffset(months = 36) for d in start_dates]"
   ]
  },
  {
   "cell_type": "code",
   "execution_count": 51,
   "metadata": {},
   "outputs": [],
   "source": [
    "training_frames = [data.loc[d:d+pd.DateOffset(months = 36)] for d in start_dates]\n",
    "valid_frames = [data.loc[d+pd.DateOffset(months = 3):d+pd.DateOffset(months = 6)] for d in end_dates]\n",
    "test_frames = [data.loc[d+pd.DateOffset(months = 9):d+pd.DateOffset(months = 12)] for d in end_dates]"
   ]
  },
  {
   "cell_type": "code",
   "execution_count": 52,
   "metadata": {
    "ExecuteTime": {
     "end_time": "2020-02-11T01:00:20.984116Z",
     "start_time": "2020-02-11T01:00:11.072616Z"
    }
   },
   "outputs": [],
   "source": [
    "training_data = [d.reset_index().drop\n",
    "                                 (['ticker','date',\n",
    "                                   'next_period_return',\n",
    "                                   'spy_next_period_return',\n",
    "                                   'rel_performance','pred_rel_return',\n",
    "                                  'return', 'cum_ret', 'spy_cum_ret'],axis=1) for d in training_frames]"
   ]
  },
  {
   "cell_type": "code",
   "execution_count": 53,
   "metadata": {},
   "outputs": [],
   "source": [
    "valid_data = [d.reset_index().drop\n",
    "                                 (['ticker','date',\n",
    "                                   'next_period_return',\n",
    "                                   'spy_next_period_return',\n",
    "                                   'rel_performance','pred_rel_return',\n",
    "                                  'return', 'cum_ret', 'spy_cum_ret'],axis=1) for d in valid_frames]"
   ]
  },
  {
   "cell_type": "code",
   "execution_count": 54,
   "metadata": {
    "ExecuteTime": {
     "end_time": "2020-02-11T01:00:22.138142Z",
     "start_time": "2020-02-11T01:00:20.986086Z"
    }
   },
   "outputs": [],
   "source": [
    "test_data = [d.reset_index().drop(['ticker','date',\n",
    "                                   'next_period_return',\n",
    "                                   'spy_next_period_return',\n",
    "                                   'rel_performance','pred_rel_return',\n",
    "                                  'return', 'cum_ret', 'spy_cum_ret'],axis=1) for d in test_frames]"
   ]
  },
  {
   "cell_type": "code",
   "execution_count": 55,
   "metadata": {
    "ExecuteTime": {
     "end_time": "2020-02-11T01:00:28.172336Z",
     "start_time": "2020-02-11T01:00:28.162322Z"
    }
   },
   "outputs": [],
   "source": [
    "training_labels = [d['rel_performance'].values for d in training_frames]\n",
    "valid_labels = [d['rel_performance'].values for d in valid_frames] "
   ]
  },
  {
   "cell_type": "code",
   "execution_count": 56,
   "metadata": {},
   "outputs": [],
   "source": [
    "for i in range(len(start_dates)-1):\n",
    "    float_vars = [x for x in training_data[i].columns if data[x].dtype == 'float64']\n",
    "\n",
    "    scaler = StandardScaler()\n",
    "    training_data[i] = training_data[i].copy()\n",
    "    valid_data[i] = valid_data[i].copy()\n",
    "    test_data[i] = test_data[i].copy()\n",
    "    training_data[i][float_vars] = scaler.fit_transform(training_data[i][float_vars])\n",
    "    valid_data[i][float_vars] = scaler.transform(valid_data[i][float_vars])\n",
    "    test_data[i][float_vars] = scaler.transform(test_data[i][float_vars])"
   ]
  },
  {
   "cell_type": "markdown",
   "metadata": {},
   "source": [
    "#### Train the classifiers using the selected shap feature set and optimal hyperparameters."
   ]
  },
  {
   "cell_type": "code",
   "execution_count": 57,
   "metadata": {},
   "outputs": [
    {
     "data": {
      "text/plain": [
       "{'max_depth': 3, 'n_estimators': 50, 'learning_rate': 0.4}"
      ]
     },
     "execution_count": 57,
     "metadata": {},
     "output_type": "execute_result"
    }
   ],
   "source": [
    "optimal_hyperparameters_accuracy"
   ]
  },
  {
   "cell_type": "code",
   "execution_count": 58,
   "metadata": {},
   "outputs": [
    {
     "data": {
      "text/plain": [
       "Index(['prccq', 'gpmq', 'txpdy', 'bmq', 'oepsxy', 'evmq', 'debt_ebitdaq',\n",
       "       'invt_actq', 'efftaxq', 'at_turnq',\n",
       "       ...\n",
       "       'sic_3678', 'ibcy', 'oepf12', 'fqtr_3', 'cshiq', 'dvpspq', 'rect_turnq',\n",
       "       'int_totdebtq', 'cogsq', 'dvy'],\n",
       "      dtype='object', length=133)"
      ]
     },
     "execution_count": 58,
     "metadata": {},
     "output_type": "execute_result"
    }
   ],
   "source": [
    "shap_2[-1]"
   ]
  },
  {
   "cell_type": "code",
   "execution_count": 59,
   "metadata": {},
   "outputs": [],
   "source": [
    "ada_clf_objective = AdaBoostClassifier(DecisionTreeClassifier(max_depth=optimal_hyperparameters_accuracy['max_depth']),\n",
    "                                       n_estimators=optimal_hyperparameters_accuracy['n_estimators'],\n",
    "                                       learning_rate=optimal_hyperparameters_accuracy['learning_rate'])"
   ]
  },
  {
   "cell_type": "code",
   "execution_count": 60,
   "metadata": {},
   "outputs": [],
   "source": [
    "classifiers_ada = [ada_clf_objective for i in range(len(start_dates) - 1)]"
   ]
  },
  {
   "cell_type": "code",
   "execution_count": 61,
   "metadata": {},
   "outputs": [
    {
     "name": "stderr",
     "output_type": "stream",
     "text": [
      "100%|███████████████████████████████████████████| 56/56 [13:55<00:00, 14.91s/it]\n"
     ]
    }
   ],
   "source": [
    "x, ret = train_classifiers(classifiers_ada, shap_2)"
   ]
  },
  {
   "cell_type": "markdown",
   "metadata": {},
   "source": [
    "#### Evaluate its performance over the holding period 2004 - 2018"
   ]
  },
  {
   "cell_type": "code",
   "execution_count": 62,
   "metadata": {
    "ExecuteTime": {
     "end_time": "2020-02-11T01:01:37.494042Z",
     "start_time": "2020-02-11T01:01:37.445007Z"
    }
   },
   "outputs": [
    {
     "name": "stderr",
     "output_type": "stream",
     "text": [
      "/var/folders/sp/wlr6xm2979l8vx6kjh2z1dk00000gn/T/ipykernel_15515/1499170714.py:5: FutureWarning: Series.__getitem__ treating keys as positions is deprecated. In a future version, integer keys will always be treated as labels (consistent with DataFrame behavior). To access a value by position, use `ser.iloc[pos]`\n",
      "  SPY['spy_cum_ret'] = (SPY['spy_cum_ret'] - SPY['spy_cum_ret'][0] + 1)\n"
     ]
    }
   ],
   "source": [
    "# Import and read the SPY dataset\n",
    "SPY = pd.read_pickle(r'SPY_cum_ret.pkl')\n",
    "SPY = SPY.loc['2004-09-01':'2018-09-30']\n",
    "SPY = SPY.resample('Q').ffill()\n",
    "SPY['spy_cum_ret'] = (SPY['spy_cum_ret'] - SPY['spy_cum_ret'][0] + 1)"
   ]
  },
  {
   "cell_type": "code",
   "execution_count": 63,
   "metadata": {},
   "outputs": [],
   "source": [
    "SPY['strategy'] = x"
   ]
  },
  {
   "cell_type": "code",
   "execution_count": 64,
   "metadata": {
    "ExecuteTime": {
     "end_time": "2020-02-11T01:01:41.397432Z",
     "start_time": "2020-02-11T01:01:41.198433Z"
    }
   },
   "outputs": [
    {
     "data": {
      "image/png": "[encoded data removed]",
      "text/plain": [
       "<Figure size 640x480 with 1 Axes>"
      ]
     },
     "metadata": {},
     "output_type": "display_data"
    }
   ],
   "source": [
    "SPY = SPY.iloc[1:].resample('A').bfill()\n",
    "SPY.plot();"
   ]
  },
  {
   "cell_type": "code",
   "execution_count": 65,
   "metadata": {},
   "outputs": [
    {
     "name": "stdout",
     "output_type": "stream",
     "text": [
      "The max drawdown for strategy is 0.2915385241818056\n"
     ]
    },
    {
     "data": {
      "image/png": "[encoded data removed]",
      "text/plain": [
       "<Figure size 640x480 with 1 Axes>"
      ]
     },
     "metadata": {},
     "output_type": "display_data"
    }
   ],
   "source": [
    "max_dd_strats(['strategy'])"
   ]
  },
  {
   "cell_type": "code",
   "execution_count": 66,
   "metadata": {},
   "outputs": [
    {
     "data": {
      "image/png": "[encoded data removed]",
      "text/plain": [
       "<Figure size 640x480 with 1 Axes>"
      ]
     },
     "metadata": {},
     "output_type": "display_data"
    }
   ],
   "source": [
    "SPY = SPY.resample('Y').ffill()\n",
    "SPY.plot();"
   ]
  },
  {
   "cell_type": "code",
   "execution_count": 67,
   "metadata": {
    "ExecuteTime": {
     "end_time": "2020-02-11T01:01:54.486712Z",
     "start_time": "2020-02-11T01:01:54.468721Z"
    }
   },
   "outputs": [
    {
     "name": "stdout",
     "output_type": "stream",
     "text": [
      "The Sharpe Ratio for strategy is: 0.7716614875830043\n"
     ]
    }
   ],
   "source": [
    "sharpe_ratio_strats(['strategy'])"
   ]
  },
  {
   "cell_type": "markdown",
   "metadata": {},
   "source": [
    "### Conclusion\n",
    "In conclusion, we had 3 sets of possible features (computed using Shapley values), \n",
    "and 2 different measures for the objective function to find optimal hyperparameters (accuracy and drawdown).\n",
    "\n",
    "After training and evaluating the models on the 6 possible combinations, we chose the ones that gave us the desired properties.\n",
    "Then we adjusted the labels as in previous homeworks to improve our strategy and finally:\n",
    "\n",
    "We have found a strategy using an AdaBoostClassifier that has both:\n",
    "- a good Sharpe ratio that is close to 1 (~0.772), which is a good measure of returns after adjusting for risk\n",
    "- and a small max drawdown (~0.292) which can help ease investors"
   ]
  }
 ],
 "metadata": {
  "kernelspec": {
   "display_name": "Python 3 (ipykernel)",
   "language": "python",
   "name": "python3"
  },
  "language_info": {
   "codemirror_mode": {
    "name": "ipython",
    "version": 3
   },
   "file_extension": ".py",
   "mimetype": "text/x-python",
   "name": "python",
   "nbconvert_exporter": "python",
   "pygments_lexer": "ipython3",
   "version": "3.11.4"
  },
  "latex_envs": {
   "LaTeX_envs_menu_present": true,
   "autoclose": false,
   "autocomplete": true,
   "bibliofile": "biblio.bib",
   "cite_by": "apalike",
   "current_citInitial": 1,
   "eqLabelWithNumbers": true,
   "eqNumInitial": 1,
   "hotkeys": {
    "equation": "Ctrl-E",
    "itemize": "Ctrl-I"
   },
   "labels_anchors": false,
   "latex_user_defs": false,
   "report_style_numbering": false,
   "user_envs_cfg": false
  }
 },
 "nbformat": 4,
 "nbformat_minor": 4
}
