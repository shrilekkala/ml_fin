{
 "cells": [
  {
   "cell_type": "markdown",
   "metadata": {},
   "source": [
    "## Imports"
   ]
  },
  {
   "cell_type": "code",
   "execution_count": 1,
   "metadata": {},
   "outputs": [],
   "source": [
    "import pandas as pd\n",
    "import numpy as np\n",
    "import matplotlib.pyplot as plt\n",
    "%matplotlib inline\n",
    "from sklearn.metrics import accuracy_score, confusion_matrix\n",
    "pd.set_option('use_inf_as_na', True)\n",
    "from collections import Counter"
   ]
  },
  {
   "cell_type": "markdown",
   "metadata": {},
   "source": [
    "## Loading the Data Set (you need to put in the file where you have stored the data)"
   ]
  },
  {
   "cell_type": "code",
   "execution_count": 2,
   "metadata": {},
   "outputs": [],
   "source": [
    "raw_data = pd.read_pickle(r'C:\\Users\\niels\\OneDrive\\Machine Learning 2022\\Lecture 2\\dataset.pkl')"
   ]
  },
  {
   "cell_type": "code",
   "execution_count": 3,
   "metadata": {},
   "outputs": [
    {
     "data": {
      "text/html": [
       "<div>\n",
       "<style scoped>\n",
       "    .dataframe tbody tr th:only-of-type {\n",
       "        vertical-align: middle;\n",
       "    }\n",
       "\n",
       "    .dataframe tbody tr th {\n",
       "        vertical-align: top;\n",
       "    }\n",
       "\n",
       "    .dataframe thead th {\n",
       "        text-align: right;\n",
       "    }\n",
       "</style>\n",
       "<table border=\"1\" class=\"dataframe\">\n",
       "  <thead>\n",
       "    <tr style=\"text-align: right;\">\n",
       "      <th></th>\n",
       "      <th></th>\n",
       "      <th>actq</th>\n",
       "      <th>apq</th>\n",
       "      <th>atq</th>\n",
       "      <th>ceqq</th>\n",
       "      <th>cheq</th>\n",
       "      <th>cogsq</th>\n",
       "      <th>csh12q</th>\n",
       "      <th>cshfdq</th>\n",
       "      <th>cshiq</th>\n",
       "      <th>cshopq</th>\n",
       "      <th>...</th>\n",
       "      <th>sector_code_815.0</th>\n",
       "      <th>sector_code_817.0</th>\n",
       "      <th>sector_code_822.0</th>\n",
       "      <th>sector_code_823.0</th>\n",
       "      <th>sector_code_825.0</th>\n",
       "      <th>sector_code_830.0</th>\n",
       "      <th>sector_code_835.0</th>\n",
       "      <th>sector_code_840.0</th>\n",
       "      <th>sector_code_845.0</th>\n",
       "      <th>sector_code_850.0</th>\n",
       "    </tr>\n",
       "    <tr>\n",
       "      <th>date</th>\n",
       "      <th>ticker</th>\n",
       "      <th></th>\n",
       "      <th></th>\n",
       "      <th></th>\n",
       "      <th></th>\n",
       "      <th></th>\n",
       "      <th></th>\n",
       "      <th></th>\n",
       "      <th></th>\n",
       "      <th></th>\n",
       "      <th></th>\n",
       "      <th></th>\n",
       "      <th></th>\n",
       "      <th></th>\n",
       "      <th></th>\n",
       "      <th></th>\n",
       "      <th></th>\n",
       "      <th></th>\n",
       "      <th></th>\n",
       "      <th></th>\n",
       "      <th></th>\n",
       "      <th></th>\n",
       "    </tr>\n",
       "  </thead>\n",
       "  <tbody>\n",
       "    <tr>\n",
       "      <th>2000-02-01</th>\n",
       "      <th>LLB</th>\n",
       "      <td>3.540</td>\n",
       "      <td>0.143</td>\n",
       "      <td>7.668</td>\n",
       "      <td>6.732</td>\n",
       "      <td>2.553</td>\n",
       "      <td>0.458</td>\n",
       "      <td>6.3910</td>\n",
       "      <td>6.391</td>\n",
       "      <td>6.989</td>\n",
       "      <td>0.0</td>\n",
       "      <td>...</td>\n",
       "      <td>0</td>\n",
       "      <td>0</td>\n",
       "      <td>0</td>\n",
       "      <td>0</td>\n",
       "      <td>0</td>\n",
       "      <td>0</td>\n",
       "      <td>0</td>\n",
       "      <td>0</td>\n",
       "      <td>0</td>\n",
       "      <td>0</td>\n",
       "    </tr>\n",
       "    <tr>\n",
       "      <th>2000-02-03</th>\n",
       "      <th>MYR</th>\n",
       "      <td>107.661</td>\n",
       "      <td>24.387</td>\n",
       "      <td>220.463</td>\n",
       "      <td>136.555</td>\n",
       "      <td>1.049</td>\n",
       "      <td>36.883</td>\n",
       "      <td>25.5360</td>\n",
       "      <td>22.082</td>\n",
       "      <td>28.458</td>\n",
       "      <td>0.0</td>\n",
       "      <td>...</td>\n",
       "      <td>0</td>\n",
       "      <td>0</td>\n",
       "      <td>0</td>\n",
       "      <td>0</td>\n",
       "      <td>0</td>\n",
       "      <td>0</td>\n",
       "      <td>0</td>\n",
       "      <td>0</td>\n",
       "      <td>0</td>\n",
       "      <td>0</td>\n",
       "    </tr>\n",
       "    <tr>\n",
       "      <th rowspan=\"2\" valign=\"top\">2000-02-08</th>\n",
       "      <th>LZB</th>\n",
       "      <td>447.719</td>\n",
       "      <td>57.893</td>\n",
       "      <td>740.905</td>\n",
       "      <td>460.612</td>\n",
       "      <td>16.531</td>\n",
       "      <td>274.525</td>\n",
       "      <td>52.2660</td>\n",
       "      <td>52.274</td>\n",
       "      <td>52.544</td>\n",
       "      <td>0.0</td>\n",
       "      <td>...</td>\n",
       "      <td>0</td>\n",
       "      <td>0</td>\n",
       "      <td>0</td>\n",
       "      <td>0</td>\n",
       "      <td>0</td>\n",
       "      <td>0</td>\n",
       "      <td>0</td>\n",
       "      <td>0</td>\n",
       "      <td>0</td>\n",
       "      <td>0</td>\n",
       "    </tr>\n",
       "    <tr>\n",
       "      <th>SJM</th>\n",
       "      <td>234.415</td>\n",
       "      <td>33.821</td>\n",
       "      <td>488.136</td>\n",
       "      <td>322.432</td>\n",
       "      <td>26.054</td>\n",
       "      <td>91.172</td>\n",
       "      <td>28.8808</td>\n",
       "      <td>28.603</td>\n",
       "      <td>32.425</td>\n",
       "      <td>0.0</td>\n",
       "      <td>...</td>\n",
       "      <td>0</td>\n",
       "      <td>0</td>\n",
       "      <td>0</td>\n",
       "      <td>0</td>\n",
       "      <td>0</td>\n",
       "      <td>0</td>\n",
       "      <td>0</td>\n",
       "      <td>0</td>\n",
       "      <td>0</td>\n",
       "      <td>0</td>\n",
       "    </tr>\n",
       "    <tr>\n",
       "      <th>2000-02-09</th>\n",
       "      <th>CSCO</th>\n",
       "      <td>7722.000</td>\n",
       "      <td>482.000</td>\n",
       "      <td>21391.000</td>\n",
       "      <td>16523.000</td>\n",
       "      <td>3968.000</td>\n",
       "      <td>1422.000</td>\n",
       "      <td>3374.1250</td>\n",
       "      <td>3648.000</td>\n",
       "      <td>3445.000</td>\n",
       "      <td>0.0</td>\n",
       "      <td>...</td>\n",
       "      <td>0</td>\n",
       "      <td>0</td>\n",
       "      <td>0</td>\n",
       "      <td>0</td>\n",
       "      <td>0</td>\n",
       "      <td>0</td>\n",
       "      <td>0</td>\n",
       "      <td>0</td>\n",
       "      <td>0</td>\n",
       "      <td>0</td>\n",
       "    </tr>\n",
       "  </tbody>\n",
       "</table>\n",
       "<p>5 rows × 731 columns</p>\n",
       "</div>"
      ],
      "text/plain": [
       "                       actq      apq        atq       ceqq      cheq  \\\n",
       "date       ticker                                                      \n",
       "2000-02-01 LLB        3.540    0.143      7.668      6.732     2.553   \n",
       "2000-02-03 MYR      107.661   24.387    220.463    136.555     1.049   \n",
       "2000-02-08 LZB      447.719   57.893    740.905    460.612    16.531   \n",
       "           SJM      234.415   33.821    488.136    322.432    26.054   \n",
       "2000-02-09 CSCO    7722.000  482.000  21391.000  16523.000  3968.000   \n",
       "\n",
       "                      cogsq     csh12q    cshfdq     cshiq  cshopq  ...  \\\n",
       "date       ticker                                                   ...   \n",
       "2000-02-01 LLB        0.458     6.3910     6.391     6.989     0.0  ...   \n",
       "2000-02-03 MYR       36.883    25.5360    22.082    28.458     0.0  ...   \n",
       "2000-02-08 LZB      274.525    52.2660    52.274    52.544     0.0  ...   \n",
       "           SJM       91.172    28.8808    28.603    32.425     0.0  ...   \n",
       "2000-02-09 CSCO    1422.000  3374.1250  3648.000  3445.000     0.0  ...   \n",
       "\n",
       "                   sector_code_815.0  sector_code_817.0  sector_code_822.0  \\\n",
       "date       ticker                                                            \n",
       "2000-02-01 LLB                     0                  0                  0   \n",
       "2000-02-03 MYR                     0                  0                  0   \n",
       "2000-02-08 LZB                     0                  0                  0   \n",
       "           SJM                     0                  0                  0   \n",
       "2000-02-09 CSCO                    0                  0                  0   \n",
       "\n",
       "                   sector_code_823.0  sector_code_825.0  sector_code_830.0  \\\n",
       "date       ticker                                                            \n",
       "2000-02-01 LLB                     0                  0                  0   \n",
       "2000-02-03 MYR                     0                  0                  0   \n",
       "2000-02-08 LZB                     0                  0                  0   \n",
       "           SJM                     0                  0                  0   \n",
       "2000-02-09 CSCO                    0                  0                  0   \n",
       "\n",
       "                   sector_code_835.0  sector_code_840.0  sector_code_845.0  \\\n",
       "date       ticker                                                            \n",
       "2000-02-01 LLB                     0                  0                  0   \n",
       "2000-02-03 MYR                     0                  0                  0   \n",
       "2000-02-08 LZB                     0                  0                  0   \n",
       "           SJM                     0                  0                  0   \n",
       "2000-02-09 CSCO                    0                  0                  0   \n",
       "\n",
       "                   sector_code_850.0  \n",
       "date       ticker                     \n",
       "2000-02-01 LLB                     0  \n",
       "2000-02-03 MYR                     0  \n",
       "2000-02-08 LZB                     0  \n",
       "           SJM                     0  \n",
       "2000-02-09 CSCO                    0  \n",
       "\n",
       "[5 rows x 731 columns]"
      ]
     },
     "execution_count": 3,
     "metadata": {},
     "output_type": "execute_result"
    }
   ],
   "source": [
    "raw_data.head()"
   ]
  },
  {
   "cell_type": "code",
   "execution_count": 4,
   "metadata": {},
   "outputs": [],
   "source": [
    "raw_data = raw_data.drop([x  for x in raw_data.columns if 'fqtr' in x],axis=1)"
   ]
  },
  {
   "cell_type": "markdown",
   "metadata": {},
   "source": [
    "## Restricting to Companies with Market Cap > 1 Billion"
   ]
  },
  {
   "cell_type": "code",
   "execution_count": 5,
   "metadata": {},
   "outputs": [],
   "source": [
    "data = raw_data[raw_data['market_cap'] > 1000.0]"
   ]
  },
  {
   "cell_type": "markdown",
   "metadata": {},
   "source": [
    "## The Total Number of Companies w/ Market Cap > 1 Billion that appear during our time horizon"
   ]
  },
  {
   "cell_type": "code",
   "execution_count": 6,
   "metadata": {},
   "outputs": [
    {
     "data": {
      "text/plain": [
       "4076"
      ]
     },
     "execution_count": 6,
     "metadata": {},
     "output_type": "execute_result"
    }
   ],
   "source": [
    "len(data.index.get_level_values(1).unique())"
   ]
  },
  {
   "cell_type": "code",
   "execution_count": 7,
   "metadata": {},
   "outputs": [
    {
     "data": {
      "text/html": [
       "<div>\n",
       "<style scoped>\n",
       "    .dataframe tbody tr th:only-of-type {\n",
       "        vertical-align: middle;\n",
       "    }\n",
       "\n",
       "    .dataframe tbody tr th {\n",
       "        vertical-align: top;\n",
       "    }\n",
       "\n",
       "    .dataframe thead th {\n",
       "        text-align: right;\n",
       "    }\n",
       "</style>\n",
       "<table border=\"1\" class=\"dataframe\">\n",
       "  <thead>\n",
       "    <tr style=\"text-align: right;\">\n",
       "      <th></th>\n",
       "      <th></th>\n",
       "      <th>actq</th>\n",
       "      <th>apq</th>\n",
       "      <th>atq</th>\n",
       "      <th>ceqq</th>\n",
       "      <th>cheq</th>\n",
       "      <th>cogsq</th>\n",
       "      <th>csh12q</th>\n",
       "      <th>cshfdq</th>\n",
       "      <th>cshiq</th>\n",
       "      <th>cshopq</th>\n",
       "      <th>...</th>\n",
       "      <th>sector_code_815.0</th>\n",
       "      <th>sector_code_817.0</th>\n",
       "      <th>sector_code_822.0</th>\n",
       "      <th>sector_code_823.0</th>\n",
       "      <th>sector_code_825.0</th>\n",
       "      <th>sector_code_830.0</th>\n",
       "      <th>sector_code_835.0</th>\n",
       "      <th>sector_code_840.0</th>\n",
       "      <th>sector_code_845.0</th>\n",
       "      <th>sector_code_850.0</th>\n",
       "    </tr>\n",
       "    <tr>\n",
       "      <th>date</th>\n",
       "      <th>ticker</th>\n",
       "      <th></th>\n",
       "      <th></th>\n",
       "      <th></th>\n",
       "      <th></th>\n",
       "      <th></th>\n",
       "      <th></th>\n",
       "      <th></th>\n",
       "      <th></th>\n",
       "      <th></th>\n",
       "      <th></th>\n",
       "      <th></th>\n",
       "      <th></th>\n",
       "      <th></th>\n",
       "      <th></th>\n",
       "      <th></th>\n",
       "      <th></th>\n",
       "      <th></th>\n",
       "      <th></th>\n",
       "      <th></th>\n",
       "      <th></th>\n",
       "      <th></th>\n",
       "    </tr>\n",
       "  </thead>\n",
       "  <tbody>\n",
       "    <tr>\n",
       "      <th rowspan=\"2\" valign=\"top\">2000-02-09</th>\n",
       "      <th>CSCO</th>\n",
       "      <td>7722.000</td>\n",
       "      <td>482.000</td>\n",
       "      <td>21391.000</td>\n",
       "      <td>16523.000</td>\n",
       "      <td>3968.000</td>\n",
       "      <td>1422.000</td>\n",
       "      <td>3374.1250</td>\n",
       "      <td>3648.000</td>\n",
       "      <td>3445.000</td>\n",
       "      <td>0.0</td>\n",
       "      <td>...</td>\n",
       "      <td>0</td>\n",
       "      <td>0</td>\n",
       "      <td>0</td>\n",
       "      <td>0</td>\n",
       "      <td>0</td>\n",
       "      <td>0</td>\n",
       "      <td>0</td>\n",
       "      <td>0</td>\n",
       "      <td>0</td>\n",
       "      <td>0</td>\n",
       "    </tr>\n",
       "    <tr>\n",
       "      <th>ROP</th>\n",
       "      <td>172.725</td>\n",
       "      <td>19.662</td>\n",
       "      <td>474.649</td>\n",
       "      <td>239.432</td>\n",
       "      <td>3.198</td>\n",
       "      <td>47.634</td>\n",
       "      <td>30.2688</td>\n",
       "      <td>31.217</td>\n",
       "      <td>NaN</td>\n",
       "      <td>0.0</td>\n",
       "      <td>...</td>\n",
       "      <td>0</td>\n",
       "      <td>0</td>\n",
       "      <td>0</td>\n",
       "      <td>0</td>\n",
       "      <td>0</td>\n",
       "      <td>0</td>\n",
       "      <td>0</td>\n",
       "      <td>0</td>\n",
       "      <td>0</td>\n",
       "      <td>0</td>\n",
       "    </tr>\n",
       "    <tr>\n",
       "      <th>2000-02-10</th>\n",
       "      <th>CMOS</th>\n",
       "      <td>240.767</td>\n",
       "      <td>27.044</td>\n",
       "      <td>376.536</td>\n",
       "      <td>209.411</td>\n",
       "      <td>68.625</td>\n",
       "      <td>43.023</td>\n",
       "      <td>21.4360</td>\n",
       "      <td>23.753</td>\n",
       "      <td>NaN</td>\n",
       "      <td>0.0</td>\n",
       "      <td>...</td>\n",
       "      <td>0</td>\n",
       "      <td>0</td>\n",
       "      <td>0</td>\n",
       "      <td>0</td>\n",
       "      <td>0</td>\n",
       "      <td>0</td>\n",
       "      <td>0</td>\n",
       "      <td>0</td>\n",
       "      <td>0</td>\n",
       "      <td>0</td>\n",
       "    </tr>\n",
       "    <tr>\n",
       "      <th>2000-02-11</th>\n",
       "      <th>DELL</th>\n",
       "      <td>7681.000</td>\n",
       "      <td>3538.000</td>\n",
       "      <td>11471.000</td>\n",
       "      <td>5308.000</td>\n",
       "      <td>4132.000</td>\n",
       "      <td>5452.000</td>\n",
       "      <td>2536.0000</td>\n",
       "      <td>2731.000</td>\n",
       "      <td>2575.000</td>\n",
       "      <td>0.0</td>\n",
       "      <td>...</td>\n",
       "      <td>0</td>\n",
       "      <td>0</td>\n",
       "      <td>0</td>\n",
       "      <td>0</td>\n",
       "      <td>0</td>\n",
       "      <td>0</td>\n",
       "      <td>0</td>\n",
       "      <td>0</td>\n",
       "      <td>0</td>\n",
       "      <td>0</td>\n",
       "    </tr>\n",
       "    <tr>\n",
       "      <th>2000-02-15</th>\n",
       "      <th>VAL</th>\n",
       "      <td>507.082</td>\n",
       "      <td>139.497</td>\n",
       "      <td>1094.080</td>\n",
       "      <td>402.382</td>\n",
       "      <td>27.605</td>\n",
       "      <td>221.366</td>\n",
       "      <td>43.1858</td>\n",
       "      <td>43.687</td>\n",
       "      <td>53.321</td>\n",
       "      <td>0.0</td>\n",
       "      <td>...</td>\n",
       "      <td>0</td>\n",
       "      <td>0</td>\n",
       "      <td>0</td>\n",
       "      <td>0</td>\n",
       "      <td>0</td>\n",
       "      <td>0</td>\n",
       "      <td>0</td>\n",
       "      <td>0</td>\n",
       "      <td>0</td>\n",
       "      <td>0</td>\n",
       "    </tr>\n",
       "  </tbody>\n",
       "</table>\n",
       "<p>5 rows × 727 columns</p>\n",
       "</div>"
      ],
      "text/plain": [
       "                       actq       apq        atq       ceqq      cheq  \\\n",
       "date       ticker                                                       \n",
       "2000-02-09 CSCO    7722.000   482.000  21391.000  16523.000  3968.000   \n",
       "           ROP      172.725    19.662    474.649    239.432     3.198   \n",
       "2000-02-10 CMOS     240.767    27.044    376.536    209.411    68.625   \n",
       "2000-02-11 DELL    7681.000  3538.000  11471.000   5308.000  4132.000   \n",
       "2000-02-15 VAL      507.082   139.497   1094.080    402.382    27.605   \n",
       "\n",
       "                      cogsq     csh12q    cshfdq     cshiq  cshopq  ...  \\\n",
       "date       ticker                                                   ...   \n",
       "2000-02-09 CSCO    1422.000  3374.1250  3648.000  3445.000     0.0  ...   \n",
       "           ROP       47.634    30.2688    31.217       NaN     0.0  ...   \n",
       "2000-02-10 CMOS      43.023    21.4360    23.753       NaN     0.0  ...   \n",
       "2000-02-11 DELL    5452.000  2536.0000  2731.000  2575.000     0.0  ...   \n",
       "2000-02-15 VAL      221.366    43.1858    43.687    53.321     0.0  ...   \n",
       "\n",
       "                   sector_code_815.0  sector_code_817.0  sector_code_822.0  \\\n",
       "date       ticker                                                            \n",
       "2000-02-09 CSCO                    0                  0                  0   \n",
       "           ROP                     0                  0                  0   \n",
       "2000-02-10 CMOS                    0                  0                  0   \n",
       "2000-02-11 DELL                    0                  0                  0   \n",
       "2000-02-15 VAL                     0                  0                  0   \n",
       "\n",
       "                   sector_code_823.0  sector_code_825.0  sector_code_830.0  \\\n",
       "date       ticker                                                            \n",
       "2000-02-09 CSCO                    0                  0                  0   \n",
       "           ROP                     0                  0                  0   \n",
       "2000-02-10 CMOS                    0                  0                  0   \n",
       "2000-02-11 DELL                    0                  0                  0   \n",
       "2000-02-15 VAL                     0                  0                  0   \n",
       "\n",
       "                   sector_code_835.0  sector_code_840.0  sector_code_845.0  \\\n",
       "date       ticker                                                            \n",
       "2000-02-09 CSCO                    0                  0                  0   \n",
       "           ROP                     0                  0                  0   \n",
       "2000-02-10 CMOS                    0                  0                  0   \n",
       "2000-02-11 DELL                    0                  0                  0   \n",
       "2000-02-15 VAL                     0                  0                  0   \n",
       "\n",
       "                   sector_code_850.0  \n",
       "date       ticker                     \n",
       "2000-02-09 CSCO                    0  \n",
       "           ROP                     0  \n",
       "2000-02-10 CMOS                    0  \n",
       "2000-02-11 DELL                    0  \n",
       "2000-02-15 VAL                     0  \n",
       "\n",
       "[5 rows x 727 columns]"
      ]
     },
     "execution_count": 7,
     "metadata": {},
     "output_type": "execute_result"
    }
   ],
   "source": [
    "data.head()"
   ]
  },
  {
   "cell_type": "markdown",
   "metadata": {},
   "source": [
    "## Filling in Missing Values"
   ]
  },
  {
   "cell_type": "code",
   "execution_count": 8,
   "metadata": {
    "scrolled": true
   },
   "outputs": [],
   "source": [
    "data = data.copy()\n",
    "data.replace([np.inf,-np.inf],np.nan,inplace=True)\n",
    "data = data.fillna(method='ffill')"
   ]
  },
  {
   "cell_type": "code",
   "execution_count": 9,
   "metadata": {},
   "outputs": [],
   "source": [
    "data = data.fillna(0)"
   ]
  },
  {
   "cell_type": "code",
   "execution_count": 10,
   "metadata": {},
   "outputs": [
    {
     "data": {
      "text/plain": [
       "date        ticker\n",
       "2000-02-09  CSCO     -0.025923\n",
       "            ROP       0.066175\n",
       "2000-02-10  CMOS      0.241345\n",
       "2000-02-11  DELL      0.306035\n",
       "2000-02-15  VAL       0.043852\n",
       "                        ...   \n",
       "2018-12-21  NKE      -0.100100\n",
       "            SAFM     -0.100100\n",
       "            SCHL     -0.100100\n",
       "            WBA      -0.100100\n",
       "2018-12-24  KMX      -0.100100\n",
       "Name: pred_rel_return, Length: 111468, dtype: float64"
      ]
     },
     "execution_count": 10,
     "metadata": {},
     "output_type": "execute_result"
    }
   ],
   "source": [
    "data['pred_rel_return']"
   ]
  },
  {
   "cell_type": "markdown",
   "metadata": {},
   "source": [
    "#### We label a Data Point +1 if the difference between the return on the SPY and the return on the stock exceeds 1.0% during the earnings period, -1 if it is < -2.5% and 0 if it is between -2.5% and +1%. The function below turns the return differences into labels"
   ]
  },
  {
   "cell_type": "code",
   "execution_count": 11,
   "metadata": {},
   "outputs": [],
   "source": [
    "def f(x):\n",
    "    if x > 0.01:\n",
    "        return 1\n",
    "    elif x < -0.025:\n",
    "        return -1\n",
    "    else:\n",
    "        return 0"
   ]
  },
  {
   "cell_type": "markdown",
   "metadata": {},
   "source": [
    "#### Applying the function to the column of relative returns and making a column of labels"
   ]
  },
  {
   "cell_type": "code",
   "execution_count": 12,
   "metadata": {
    "scrolled": true
   },
   "outputs": [],
   "source": [
    "data = data.copy()\n",
    "data['rel_performance'] = data['pred_rel_return'].apply(f)"
   ]
  },
  {
   "cell_type": "code",
   "execution_count": 14,
   "metadata": {},
   "outputs": [
    {
     "data": {
      "text/html": [
       "<div>\n",
       "<style scoped>\n",
       "    .dataframe tbody tr th:only-of-type {\n",
       "        vertical-align: middle;\n",
       "    }\n",
       "\n",
       "    .dataframe tbody tr th {\n",
       "        vertical-align: top;\n",
       "    }\n",
       "\n",
       "    .dataframe thead th {\n",
       "        text-align: right;\n",
       "    }\n",
       "</style>\n",
       "<table border=\"1\" class=\"dataframe\">\n",
       "  <thead>\n",
       "    <tr style=\"text-align: right;\">\n",
       "      <th></th>\n",
       "      <th></th>\n",
       "      <th>next_period_return</th>\n",
       "    </tr>\n",
       "    <tr>\n",
       "      <th>date</th>\n",
       "      <th>ticker</th>\n",
       "      <th></th>\n",
       "    </tr>\n",
       "  </thead>\n",
       "  <tbody>\n",
       "    <tr>\n",
       "      <th rowspan=\"2\" valign=\"top\">2000-02-09</th>\n",
       "      <th>CSCO</th>\n",
       "      <td>-0.037098</td>\n",
       "    </tr>\n",
       "    <tr>\n",
       "      <th>ROP</th>\n",
       "      <td>0.077255</td>\n",
       "    </tr>\n",
       "    <tr>\n",
       "      <th>2000-02-10</th>\n",
       "      <th>CMOS</th>\n",
       "      <td>0.287974</td>\n",
       "    </tr>\n",
       "    <tr>\n",
       "      <th>2000-02-11</th>\n",
       "      <th>DELL</th>\n",
       "      <td>0.346867</td>\n",
       "    </tr>\n",
       "    <tr>\n",
       "      <th>2000-02-15</th>\n",
       "      <th>VAL</th>\n",
       "      <td>0.093507</td>\n",
       "    </tr>\n",
       "    <tr>\n",
       "      <th>...</th>\n",
       "      <th>...</th>\n",
       "      <td>...</td>\n",
       "    </tr>\n",
       "    <tr>\n",
       "      <th rowspan=\"4\" valign=\"top\">2018-12-21</th>\n",
       "      <th>NKE</th>\n",
       "      <td>-0.207949</td>\n",
       "    </tr>\n",
       "    <tr>\n",
       "      <th>SAFM</th>\n",
       "      <td>-0.207949</td>\n",
       "    </tr>\n",
       "    <tr>\n",
       "      <th>SCHL</th>\n",
       "      <td>-0.207949</td>\n",
       "    </tr>\n",
       "    <tr>\n",
       "      <th>WBA</th>\n",
       "      <td>-0.207949</td>\n",
       "    </tr>\n",
       "    <tr>\n",
       "      <th>2018-12-24</th>\n",
       "      <th>KMX</th>\n",
       "      <td>-0.207949</td>\n",
       "    </tr>\n",
       "  </tbody>\n",
       "</table>\n",
       "<p>111468 rows × 1 columns</p>\n",
       "</div>"
      ],
      "text/plain": [
       "                   next_period_return\n",
       "date       ticker                    \n",
       "2000-02-09 CSCO             -0.037098\n",
       "           ROP               0.077255\n",
       "2000-02-10 CMOS              0.287974\n",
       "2000-02-11 DELL              0.346867\n",
       "2000-02-15 VAL               0.093507\n",
       "...                               ...\n",
       "2018-12-21 NKE              -0.207949\n",
       "           SAFM             -0.207949\n",
       "           SCHL             -0.207949\n",
       "           WBA              -0.207949\n",
       "2018-12-24 KMX              -0.207949\n",
       "\n",
       "[111468 rows x 1 columns]"
      ]
     },
     "execution_count": 14,
     "metadata": {},
     "output_type": "execute_result"
    }
   ],
   "source": [
    "data['next_period_return'].to_frame()"
   ]
  },
  {
   "cell_type": "markdown",
   "metadata": {},
   "source": [
    "#### This is the column of labels"
   ]
  },
  {
   "cell_type": "code",
   "execution_count": 15,
   "metadata": {
    "scrolled": true
   },
   "outputs": [
    {
     "data": {
      "text/plain": [
       "date        ticker\n",
       "2000-02-09  CSCO     -1\n",
       "            ROP       1\n",
       "2000-02-10  CMOS      1\n",
       "2000-02-11  DELL      1\n",
       "2000-02-15  VAL       1\n",
       "                     ..\n",
       "2018-12-21  NKE      -1\n",
       "            SAFM     -1\n",
       "            SCHL     -1\n",
       "            WBA      -1\n",
       "2018-12-24  KMX      -1\n",
       "Name: rel_performance, Length: 111468, dtype: int64"
      ]
     },
     "execution_count": 15,
     "metadata": {},
     "output_type": "execute_result"
    }
   ],
   "source": [
    "data['rel_performance']"
   ]
  },
  {
   "cell_type": "markdown",
   "metadata": {},
   "source": [
    "### Make date the index, remember that the date is the first business day after Earnings Release"
   ]
  },
  {
   "cell_type": "code",
   "execution_count": 16,
   "metadata": {},
   "outputs": [],
   "source": [
    "data.reset_index(inplace=True)\n",
    "data.set_index('date',inplace=True)"
   ]
  },
  {
   "cell_type": "code",
   "execution_count": 17,
   "metadata": {},
   "outputs": [
    {
     "data": {
      "text/html": [
       "<div>\n",
       "<style scoped>\n",
       "    .dataframe tbody tr th:only-of-type {\n",
       "        vertical-align: middle;\n",
       "    }\n",
       "\n",
       "    .dataframe tbody tr th {\n",
       "        vertical-align: top;\n",
       "    }\n",
       "\n",
       "    .dataframe thead th {\n",
       "        text-align: right;\n",
       "    }\n",
       "</style>\n",
       "<table border=\"1\" class=\"dataframe\">\n",
       "  <thead>\n",
       "    <tr style=\"text-align: right;\">\n",
       "      <th></th>\n",
       "      <th>ticker</th>\n",
       "      <th>actq</th>\n",
       "      <th>apq</th>\n",
       "      <th>atq</th>\n",
       "      <th>ceqq</th>\n",
       "      <th>cheq</th>\n",
       "      <th>cogsq</th>\n",
       "      <th>csh12q</th>\n",
       "      <th>cshfdq</th>\n",
       "      <th>cshiq</th>\n",
       "      <th>...</th>\n",
       "      <th>sector_code_817.0</th>\n",
       "      <th>sector_code_822.0</th>\n",
       "      <th>sector_code_823.0</th>\n",
       "      <th>sector_code_825.0</th>\n",
       "      <th>sector_code_830.0</th>\n",
       "      <th>sector_code_835.0</th>\n",
       "      <th>sector_code_840.0</th>\n",
       "      <th>sector_code_845.0</th>\n",
       "      <th>sector_code_850.0</th>\n",
       "      <th>rel_performance</th>\n",
       "    </tr>\n",
       "    <tr>\n",
       "      <th>date</th>\n",
       "      <th></th>\n",
       "      <th></th>\n",
       "      <th></th>\n",
       "      <th></th>\n",
       "      <th></th>\n",
       "      <th></th>\n",
       "      <th></th>\n",
       "      <th></th>\n",
       "      <th></th>\n",
       "      <th></th>\n",
       "      <th></th>\n",
       "      <th></th>\n",
       "      <th></th>\n",
       "      <th></th>\n",
       "      <th></th>\n",
       "      <th></th>\n",
       "      <th></th>\n",
       "      <th></th>\n",
       "      <th></th>\n",
       "      <th></th>\n",
       "      <th></th>\n",
       "    </tr>\n",
       "  </thead>\n",
       "  <tbody>\n",
       "    <tr>\n",
       "      <th>2000-02-09</th>\n",
       "      <td>CSCO</td>\n",
       "      <td>7722.000</td>\n",
       "      <td>482.000</td>\n",
       "      <td>21391.000</td>\n",
       "      <td>16523.000</td>\n",
       "      <td>3968.000</td>\n",
       "      <td>1422.000</td>\n",
       "      <td>3374.1250</td>\n",
       "      <td>3648.000</td>\n",
       "      <td>3445.000</td>\n",
       "      <td>...</td>\n",
       "      <td>0</td>\n",
       "      <td>0</td>\n",
       "      <td>0</td>\n",
       "      <td>0</td>\n",
       "      <td>0</td>\n",
       "      <td>0</td>\n",
       "      <td>0</td>\n",
       "      <td>0</td>\n",
       "      <td>0</td>\n",
       "      <td>-1</td>\n",
       "    </tr>\n",
       "    <tr>\n",
       "      <th>2000-02-09</th>\n",
       "      <td>ROP</td>\n",
       "      <td>172.725</td>\n",
       "      <td>19.662</td>\n",
       "      <td>474.649</td>\n",
       "      <td>239.432</td>\n",
       "      <td>3.198</td>\n",
       "      <td>47.634</td>\n",
       "      <td>30.2688</td>\n",
       "      <td>31.217</td>\n",
       "      <td>3445.000</td>\n",
       "      <td>...</td>\n",
       "      <td>0</td>\n",
       "      <td>0</td>\n",
       "      <td>0</td>\n",
       "      <td>0</td>\n",
       "      <td>0</td>\n",
       "      <td>0</td>\n",
       "      <td>0</td>\n",
       "      <td>0</td>\n",
       "      <td>0</td>\n",
       "      <td>1</td>\n",
       "    </tr>\n",
       "    <tr>\n",
       "      <th>2000-02-10</th>\n",
       "      <td>CMOS</td>\n",
       "      <td>240.767</td>\n",
       "      <td>27.044</td>\n",
       "      <td>376.536</td>\n",
       "      <td>209.411</td>\n",
       "      <td>68.625</td>\n",
       "      <td>43.023</td>\n",
       "      <td>21.4360</td>\n",
       "      <td>23.753</td>\n",
       "      <td>3445.000</td>\n",
       "      <td>...</td>\n",
       "      <td>0</td>\n",
       "      <td>0</td>\n",
       "      <td>0</td>\n",
       "      <td>0</td>\n",
       "      <td>0</td>\n",
       "      <td>0</td>\n",
       "      <td>0</td>\n",
       "      <td>0</td>\n",
       "      <td>0</td>\n",
       "      <td>1</td>\n",
       "    </tr>\n",
       "    <tr>\n",
       "      <th>2000-02-11</th>\n",
       "      <td>DELL</td>\n",
       "      <td>7681.000</td>\n",
       "      <td>3538.000</td>\n",
       "      <td>11471.000</td>\n",
       "      <td>5308.000</td>\n",
       "      <td>4132.000</td>\n",
       "      <td>5452.000</td>\n",
       "      <td>2536.0000</td>\n",
       "      <td>2731.000</td>\n",
       "      <td>2575.000</td>\n",
       "      <td>...</td>\n",
       "      <td>0</td>\n",
       "      <td>0</td>\n",
       "      <td>0</td>\n",
       "      <td>0</td>\n",
       "      <td>0</td>\n",
       "      <td>0</td>\n",
       "      <td>0</td>\n",
       "      <td>0</td>\n",
       "      <td>0</td>\n",
       "      <td>1</td>\n",
       "    </tr>\n",
       "    <tr>\n",
       "      <th>2000-02-15</th>\n",
       "      <td>VAL</td>\n",
       "      <td>507.082</td>\n",
       "      <td>139.497</td>\n",
       "      <td>1094.080</td>\n",
       "      <td>402.382</td>\n",
       "      <td>27.605</td>\n",
       "      <td>221.366</td>\n",
       "      <td>43.1858</td>\n",
       "      <td>43.687</td>\n",
       "      <td>53.321</td>\n",
       "      <td>...</td>\n",
       "      <td>0</td>\n",
       "      <td>0</td>\n",
       "      <td>0</td>\n",
       "      <td>0</td>\n",
       "      <td>0</td>\n",
       "      <td>0</td>\n",
       "      <td>0</td>\n",
       "      <td>0</td>\n",
       "      <td>0</td>\n",
       "      <td>1</td>\n",
       "    </tr>\n",
       "  </tbody>\n",
       "</table>\n",
       "<p>5 rows × 729 columns</p>\n",
       "</div>"
      ],
      "text/plain": [
       "           ticker      actq       apq        atq       ceqq      cheq  \\\n",
       "date                                                                    \n",
       "2000-02-09   CSCO  7722.000   482.000  21391.000  16523.000  3968.000   \n",
       "2000-02-09    ROP   172.725    19.662    474.649    239.432     3.198   \n",
       "2000-02-10   CMOS   240.767    27.044    376.536    209.411    68.625   \n",
       "2000-02-11   DELL  7681.000  3538.000  11471.000   5308.000  4132.000   \n",
       "2000-02-15    VAL   507.082   139.497   1094.080    402.382    27.605   \n",
       "\n",
       "               cogsq     csh12q    cshfdq     cshiq  ...  sector_code_817.0  \\\n",
       "date                                                 ...                      \n",
       "2000-02-09  1422.000  3374.1250  3648.000  3445.000  ...                  0   \n",
       "2000-02-09    47.634    30.2688    31.217  3445.000  ...                  0   \n",
       "2000-02-10    43.023    21.4360    23.753  3445.000  ...                  0   \n",
       "2000-02-11  5452.000  2536.0000  2731.000  2575.000  ...                  0   \n",
       "2000-02-15   221.366    43.1858    43.687    53.321  ...                  0   \n",
       "\n",
       "            sector_code_822.0  sector_code_823.0  sector_code_825.0  \\\n",
       "date                                                                  \n",
       "2000-02-09                  0                  0                  0   \n",
       "2000-02-09                  0                  0                  0   \n",
       "2000-02-10                  0                  0                  0   \n",
       "2000-02-11                  0                  0                  0   \n",
       "2000-02-15                  0                  0                  0   \n",
       "\n",
       "            sector_code_830.0  sector_code_835.0  sector_code_840.0  \\\n",
       "date                                                                  \n",
       "2000-02-09                  0                  0                  0   \n",
       "2000-02-09                  0                  0                  0   \n",
       "2000-02-10                  0                  0                  0   \n",
       "2000-02-11                  0                  0                  0   \n",
       "2000-02-15                  0                  0                  0   \n",
       "\n",
       "            sector_code_845.0  sector_code_850.0  rel_performance  \n",
       "date                                                               \n",
       "2000-02-09                  0                  0               -1  \n",
       "2000-02-09                  0                  0                1  \n",
       "2000-02-10                  0                  0                1  \n",
       "2000-02-11                  0                  0                1  \n",
       "2000-02-15                  0                  0                1  \n",
       "\n",
       "[5 rows x 729 columns]"
      ]
     },
     "execution_count": 17,
     "metadata": {},
     "output_type": "execute_result"
    }
   ],
   "source": [
    "data.head()"
   ]
  },
  {
   "cell_type": "markdown",
   "metadata": {},
   "source": [
    "### This what the data set looks like now"
   ]
  },
  {
   "cell_type": "code",
   "execution_count": 18,
   "metadata": {},
   "outputs": [
    {
     "data": {
      "text/html": [
       "<div>\n",
       "<style scoped>\n",
       "    .dataframe tbody tr th:only-of-type {\n",
       "        vertical-align: middle;\n",
       "    }\n",
       "\n",
       "    .dataframe tbody tr th {\n",
       "        vertical-align: top;\n",
       "    }\n",
       "\n",
       "    .dataframe thead th {\n",
       "        text-align: right;\n",
       "    }\n",
       "</style>\n",
       "<table border=\"1\" class=\"dataframe\">\n",
       "  <thead>\n",
       "    <tr style=\"text-align: right;\">\n",
       "      <th></th>\n",
       "      <th>ticker</th>\n",
       "      <th>actq</th>\n",
       "      <th>apq</th>\n",
       "      <th>atq</th>\n",
       "      <th>ceqq</th>\n",
       "      <th>cheq</th>\n",
       "      <th>cogsq</th>\n",
       "      <th>csh12q</th>\n",
       "      <th>cshfdq</th>\n",
       "      <th>cshiq</th>\n",
       "      <th>...</th>\n",
       "      <th>sector_code_817.0</th>\n",
       "      <th>sector_code_822.0</th>\n",
       "      <th>sector_code_823.0</th>\n",
       "      <th>sector_code_825.0</th>\n",
       "      <th>sector_code_830.0</th>\n",
       "      <th>sector_code_835.0</th>\n",
       "      <th>sector_code_840.0</th>\n",
       "      <th>sector_code_845.0</th>\n",
       "      <th>sector_code_850.0</th>\n",
       "      <th>rel_performance</th>\n",
       "    </tr>\n",
       "    <tr>\n",
       "      <th>date</th>\n",
       "      <th></th>\n",
       "      <th></th>\n",
       "      <th></th>\n",
       "      <th></th>\n",
       "      <th></th>\n",
       "      <th></th>\n",
       "      <th></th>\n",
       "      <th></th>\n",
       "      <th></th>\n",
       "      <th></th>\n",
       "      <th></th>\n",
       "      <th></th>\n",
       "      <th></th>\n",
       "      <th></th>\n",
       "      <th></th>\n",
       "      <th></th>\n",
       "      <th></th>\n",
       "      <th></th>\n",
       "      <th></th>\n",
       "      <th></th>\n",
       "      <th></th>\n",
       "    </tr>\n",
       "  </thead>\n",
       "  <tbody>\n",
       "    <tr>\n",
       "      <th>2000-02-09</th>\n",
       "      <td>CSCO</td>\n",
       "      <td>7722.000</td>\n",
       "      <td>482.000</td>\n",
       "      <td>21391.000</td>\n",
       "      <td>16523.000</td>\n",
       "      <td>3968.000</td>\n",
       "      <td>1422.000</td>\n",
       "      <td>3374.1250</td>\n",
       "      <td>3648.000</td>\n",
       "      <td>3445.000</td>\n",
       "      <td>...</td>\n",
       "      <td>0</td>\n",
       "      <td>0</td>\n",
       "      <td>0</td>\n",
       "      <td>0</td>\n",
       "      <td>0</td>\n",
       "      <td>0</td>\n",
       "      <td>0</td>\n",
       "      <td>0</td>\n",
       "      <td>0</td>\n",
       "      <td>-1</td>\n",
       "    </tr>\n",
       "    <tr>\n",
       "      <th>2000-02-09</th>\n",
       "      <td>ROP</td>\n",
       "      <td>172.725</td>\n",
       "      <td>19.662</td>\n",
       "      <td>474.649</td>\n",
       "      <td>239.432</td>\n",
       "      <td>3.198</td>\n",
       "      <td>47.634</td>\n",
       "      <td>30.2688</td>\n",
       "      <td>31.217</td>\n",
       "      <td>3445.000</td>\n",
       "      <td>...</td>\n",
       "      <td>0</td>\n",
       "      <td>0</td>\n",
       "      <td>0</td>\n",
       "      <td>0</td>\n",
       "      <td>0</td>\n",
       "      <td>0</td>\n",
       "      <td>0</td>\n",
       "      <td>0</td>\n",
       "      <td>0</td>\n",
       "      <td>1</td>\n",
       "    </tr>\n",
       "    <tr>\n",
       "      <th>2000-02-10</th>\n",
       "      <td>CMOS</td>\n",
       "      <td>240.767</td>\n",
       "      <td>27.044</td>\n",
       "      <td>376.536</td>\n",
       "      <td>209.411</td>\n",
       "      <td>68.625</td>\n",
       "      <td>43.023</td>\n",
       "      <td>21.4360</td>\n",
       "      <td>23.753</td>\n",
       "      <td>3445.000</td>\n",
       "      <td>...</td>\n",
       "      <td>0</td>\n",
       "      <td>0</td>\n",
       "      <td>0</td>\n",
       "      <td>0</td>\n",
       "      <td>0</td>\n",
       "      <td>0</td>\n",
       "      <td>0</td>\n",
       "      <td>0</td>\n",
       "      <td>0</td>\n",
       "      <td>1</td>\n",
       "    </tr>\n",
       "    <tr>\n",
       "      <th>2000-02-11</th>\n",
       "      <td>DELL</td>\n",
       "      <td>7681.000</td>\n",
       "      <td>3538.000</td>\n",
       "      <td>11471.000</td>\n",
       "      <td>5308.000</td>\n",
       "      <td>4132.000</td>\n",
       "      <td>5452.000</td>\n",
       "      <td>2536.0000</td>\n",
       "      <td>2731.000</td>\n",
       "      <td>2575.000</td>\n",
       "      <td>...</td>\n",
       "      <td>0</td>\n",
       "      <td>0</td>\n",
       "      <td>0</td>\n",
       "      <td>0</td>\n",
       "      <td>0</td>\n",
       "      <td>0</td>\n",
       "      <td>0</td>\n",
       "      <td>0</td>\n",
       "      <td>0</td>\n",
       "      <td>1</td>\n",
       "    </tr>\n",
       "    <tr>\n",
       "      <th>2000-02-15</th>\n",
       "      <td>VAL</td>\n",
       "      <td>507.082</td>\n",
       "      <td>139.497</td>\n",
       "      <td>1094.080</td>\n",
       "      <td>402.382</td>\n",
       "      <td>27.605</td>\n",
       "      <td>221.366</td>\n",
       "      <td>43.1858</td>\n",
       "      <td>43.687</td>\n",
       "      <td>53.321</td>\n",
       "      <td>...</td>\n",
       "      <td>0</td>\n",
       "      <td>0</td>\n",
       "      <td>0</td>\n",
       "      <td>0</td>\n",
       "      <td>0</td>\n",
       "      <td>0</td>\n",
       "      <td>0</td>\n",
       "      <td>0</td>\n",
       "      <td>0</td>\n",
       "      <td>1</td>\n",
       "    </tr>\n",
       "    <tr>\n",
       "      <th>...</th>\n",
       "      <td>...</td>\n",
       "      <td>...</td>\n",
       "      <td>...</td>\n",
       "      <td>...</td>\n",
       "      <td>...</td>\n",
       "      <td>...</td>\n",
       "      <td>...</td>\n",
       "      <td>...</td>\n",
       "      <td>...</td>\n",
       "      <td>...</td>\n",
       "      <td>...</td>\n",
       "      <td>...</td>\n",
       "      <td>...</td>\n",
       "      <td>...</td>\n",
       "      <td>...</td>\n",
       "      <td>...</td>\n",
       "      <td>...</td>\n",
       "      <td>...</td>\n",
       "      <td>...</td>\n",
       "      <td>...</td>\n",
       "      <td>...</td>\n",
       "    </tr>\n",
       "    <tr>\n",
       "      <th>2018-12-21</th>\n",
       "      <td>NKE</td>\n",
       "      <td>15566.000</td>\n",
       "      <td>2574.000</td>\n",
       "      <td>22677.000</td>\n",
       "      <td>8729.000</td>\n",
       "      <td>4041.000</td>\n",
       "      <td>5098.000</td>\n",
       "      <td>1601.1500</td>\n",
       "      <td>1620.700</td>\n",
       "      <td>1577.000</td>\n",
       "      <td>...</td>\n",
       "      <td>0</td>\n",
       "      <td>0</td>\n",
       "      <td>0</td>\n",
       "      <td>0</td>\n",
       "      <td>0</td>\n",
       "      <td>0</td>\n",
       "      <td>0</td>\n",
       "      <td>0</td>\n",
       "      <td>0</td>\n",
       "      <td>-1</td>\n",
       "    </tr>\n",
       "    <tr>\n",
       "      <th>2018-12-21</th>\n",
       "      <td>SAFM</td>\n",
       "      <td>566.489</td>\n",
       "      <td>128.936</td>\n",
       "      <td>1659.440</td>\n",
       "      <td>1387.893</td>\n",
       "      <td>121.193</td>\n",
       "      <td>758.313</td>\n",
       "      <td>22.4290</td>\n",
       "      <td>22.191</td>\n",
       "      <td>22.100</td>\n",
       "      <td>...</td>\n",
       "      <td>0</td>\n",
       "      <td>0</td>\n",
       "      <td>0</td>\n",
       "      <td>0</td>\n",
       "      <td>0</td>\n",
       "      <td>0</td>\n",
       "      <td>0</td>\n",
       "      <td>0</td>\n",
       "      <td>0</td>\n",
       "      <td>-1</td>\n",
       "    </tr>\n",
       "    <tr>\n",
       "      <th>2018-12-21</th>\n",
       "      <td>SCHL</td>\n",
       "      <td>1172.300</td>\n",
       "      <td>250.300</td>\n",
       "      <td>2081.900</td>\n",
       "      <td>1284.600</td>\n",
       "      <td>358.100</td>\n",
       "      <td>262.400</td>\n",
       "      <td>35.0420</td>\n",
       "      <td>35.863</td>\n",
       "      <td>22.100</td>\n",
       "      <td>...</td>\n",
       "      <td>0</td>\n",
       "      <td>0</td>\n",
       "      <td>0</td>\n",
       "      <td>0</td>\n",
       "      <td>0</td>\n",
       "      <td>0</td>\n",
       "      <td>0</td>\n",
       "      <td>0</td>\n",
       "      <td>0</td>\n",
       "      <td>-1</td>\n",
       "    </tr>\n",
       "    <tr>\n",
       "      <th>2018-12-21</th>\n",
       "      <td>WBA</td>\n",
       "      <td>20083.000</td>\n",
       "      <td>14660.000</td>\n",
       "      <td>69941.000</td>\n",
       "      <td>25609.000</td>\n",
       "      <td>1183.000</td>\n",
       "      <td>25651.000</td>\n",
       "      <td>976.4750</td>\n",
       "      <td>951.400</td>\n",
       "      <td>1172.514</td>\n",
       "      <td>...</td>\n",
       "      <td>0</td>\n",
       "      <td>0</td>\n",
       "      <td>0</td>\n",
       "      <td>0</td>\n",
       "      <td>0</td>\n",
       "      <td>0</td>\n",
       "      <td>0</td>\n",
       "      <td>0</td>\n",
       "      <td>0</td>\n",
       "      <td>-1</td>\n",
       "    </tr>\n",
       "    <tr>\n",
       "      <th>2018-12-24</th>\n",
       "      <td>KMX</td>\n",
       "      <td>3057.419</td>\n",
       "      <td>558.324</td>\n",
       "      <td>18396.812</td>\n",
       "      <td>3435.113</td>\n",
       "      <td>461.662</td>\n",
       "      <td>3819.336</td>\n",
       "      <td>177.2235</td>\n",
       "      <td>175.321</td>\n",
       "      <td>171.785</td>\n",
       "      <td>...</td>\n",
       "      <td>0</td>\n",
       "      <td>0</td>\n",
       "      <td>0</td>\n",
       "      <td>0</td>\n",
       "      <td>0</td>\n",
       "      <td>0</td>\n",
       "      <td>0</td>\n",
       "      <td>0</td>\n",
       "      <td>0</td>\n",
       "      <td>-1</td>\n",
       "    </tr>\n",
       "  </tbody>\n",
       "</table>\n",
       "<p>111468 rows × 729 columns</p>\n",
       "</div>"
      ],
      "text/plain": [
       "           ticker       actq        apq        atq       ceqq      cheq  \\\n",
       "date                                                                      \n",
       "2000-02-09   CSCO   7722.000    482.000  21391.000  16523.000  3968.000   \n",
       "2000-02-09    ROP    172.725     19.662    474.649    239.432     3.198   \n",
       "2000-02-10   CMOS    240.767     27.044    376.536    209.411    68.625   \n",
       "2000-02-11   DELL   7681.000   3538.000  11471.000   5308.000  4132.000   \n",
       "2000-02-15    VAL    507.082    139.497   1094.080    402.382    27.605   \n",
       "...           ...        ...        ...        ...        ...       ...   \n",
       "2018-12-21    NKE  15566.000   2574.000  22677.000   8729.000  4041.000   \n",
       "2018-12-21   SAFM    566.489    128.936   1659.440   1387.893   121.193   \n",
       "2018-12-21   SCHL   1172.300    250.300   2081.900   1284.600   358.100   \n",
       "2018-12-21    WBA  20083.000  14660.000  69941.000  25609.000  1183.000   \n",
       "2018-12-24    KMX   3057.419    558.324  18396.812   3435.113   461.662   \n",
       "\n",
       "                cogsq     csh12q    cshfdq     cshiq  ...  sector_code_817.0  \\\n",
       "date                                                  ...                      \n",
       "2000-02-09   1422.000  3374.1250  3648.000  3445.000  ...                  0   \n",
       "2000-02-09     47.634    30.2688    31.217  3445.000  ...                  0   \n",
       "2000-02-10     43.023    21.4360    23.753  3445.000  ...                  0   \n",
       "2000-02-11   5452.000  2536.0000  2731.000  2575.000  ...                  0   \n",
       "2000-02-15    221.366    43.1858    43.687    53.321  ...                  0   \n",
       "...               ...        ...       ...       ...  ...                ...   \n",
       "2018-12-21   5098.000  1601.1500  1620.700  1577.000  ...                  0   \n",
       "2018-12-21    758.313    22.4290    22.191    22.100  ...                  0   \n",
       "2018-12-21    262.400    35.0420    35.863    22.100  ...                  0   \n",
       "2018-12-21  25651.000   976.4750   951.400  1172.514  ...                  0   \n",
       "2018-12-24   3819.336   177.2235   175.321   171.785  ...                  0   \n",
       "\n",
       "            sector_code_822.0  sector_code_823.0  sector_code_825.0  \\\n",
       "date                                                                  \n",
       "2000-02-09                  0                  0                  0   \n",
       "2000-02-09                  0                  0                  0   \n",
       "2000-02-10                  0                  0                  0   \n",
       "2000-02-11                  0                  0                  0   \n",
       "2000-02-15                  0                  0                  0   \n",
       "...                       ...                ...                ...   \n",
       "2018-12-21                  0                  0                  0   \n",
       "2018-12-21                  0                  0                  0   \n",
       "2018-12-21                  0                  0                  0   \n",
       "2018-12-21                  0                  0                  0   \n",
       "2018-12-24                  0                  0                  0   \n",
       "\n",
       "            sector_code_830.0  sector_code_835.0  sector_code_840.0  \\\n",
       "date                                                                  \n",
       "2000-02-09                  0                  0                  0   \n",
       "2000-02-09                  0                  0                  0   \n",
       "2000-02-10                  0                  0                  0   \n",
       "2000-02-11                  0                  0                  0   \n",
       "2000-02-15                  0                  0                  0   \n",
       "...                       ...                ...                ...   \n",
       "2018-12-21                  0                  0                  0   \n",
       "2018-12-21                  0                  0                  0   \n",
       "2018-12-21                  0                  0                  0   \n",
       "2018-12-21                  0                  0                  0   \n",
       "2018-12-24                  0                  0                  0   \n",
       "\n",
       "            sector_code_845.0  sector_code_850.0  rel_performance  \n",
       "date                                                               \n",
       "2000-02-09                  0                  0               -1  \n",
       "2000-02-09                  0                  0                1  \n",
       "2000-02-10                  0                  0                1  \n",
       "2000-02-11                  0                  0                1  \n",
       "2000-02-15                  0                  0                1  \n",
       "...                       ...                ...              ...  \n",
       "2018-12-21                  0                  0               -1  \n",
       "2018-12-21                  0                  0               -1  \n",
       "2018-12-21                  0                  0               -1  \n",
       "2018-12-21                  0                  0               -1  \n",
       "2018-12-24                  0                  0               -1  \n",
       "\n",
       "[111468 rows x 729 columns]"
      ]
     },
     "execution_count": 18,
     "metadata": {},
     "output_type": "execute_result"
    }
   ],
   "source": [
    "data"
   ]
  },
  {
   "cell_type": "markdown",
   "metadata": {},
   "source": [
    "### We use a training period of 3 years = 12 quarters, "
   ]
  },
  {
   "cell_type": "code",
   "execution_count": 19,
   "metadata": {
    "scrolled": true
   },
   "outputs": [],
   "source": [
    "df_train = data.loc['2001-01-01':'2004-01-01']"
   ]
  },
  {
   "cell_type": "markdown",
   "metadata": {},
   "source": [
    "#### The validation set and test set are the quarters starting 1 quarter after the end of the training periods"
   ]
  },
  {
   "cell_type": "code",
   "execution_count": 20,
   "metadata": {},
   "outputs": [],
   "source": [
    "df_valid = data.loc['2004-04-01':'2004-07-01']\n",
    "df_test = data.loc['2004-10-01':'2005-01-01']"
   ]
  },
  {
   "cell_type": "markdown",
   "metadata": {},
   "source": [
    "#### Next we delete the columns that are not needed for training"
   ]
  },
  {
   "cell_type": "code",
   "execution_count": 21,
   "metadata": {},
   "outputs": [],
   "source": [
    "train = df_train.reset_index().drop(['ticker','date',\n",
    "                                   'next_period_return',\n",
    "                                   'spy_next_period_return',\n",
    "                                   'rel_performance','pred_rel_return',\n",
    "                                  'return', 'cum_ret', 'spy_cum_ret'],axis=1)\n",
    "\n",
    "valid = df_valid.reset_index().drop(['ticker','date',\n",
    "                                   'next_period_return',\n",
    "                                   'spy_next_period_return',\n",
    "                                   'rel_performance','pred_rel_return',\n",
    "                                  'return', 'cum_ret', 'spy_cum_ret',\n",
    "                                    ],axis=1)\n",
    "test = df_test.reset_index().drop(['ticker','date',\n",
    "                                   'next_period_return',\n",
    "                                   'spy_next_period_return',\n",
    "                                   'rel_performance','pred_rel_return',\n",
    "                                  'return', 'cum_ret', 'spy_cum_ret',\n",
    "                            ],axis=1)"
   ]
  },
  {
   "cell_type": "markdown",
   "metadata": {},
   "source": [
    "#### We take out the actual  earnings period stock returns in the training and test sets"
   ]
  },
  {
   "cell_type": "code",
   "execution_count": 22,
   "metadata": {},
   "outputs": [],
   "source": [
    "train_stock_returns = df_train['next_period_return']\n",
    "valid_stock_returns = df_valid['next_period_return']\n",
    "test_stock_returns = df_test['next_period_return']"
   ]
  },
  {
   "cell_type": "code",
   "execution_count": 23,
   "metadata": {},
   "outputs": [],
   "source": [
    "from sklearn.preprocessing import MinMaxScaler,StandardScaler"
   ]
  },
  {
   "cell_type": "code",
   "execution_count": 24,
   "metadata": {},
   "outputs": [],
   "source": [
    "scaler = StandardScaler()"
   ]
  },
  {
   "cell_type": "code",
   "execution_count": 25,
   "metadata": {},
   "outputs": [],
   "source": [
    "float_vars = [x for x in train.columns if data[x].dtype == 'float64']"
   ]
  },
  {
   "cell_type": "code",
   "execution_count": 26,
   "metadata": {},
   "outputs": [
    {
     "data": {
      "text/plain": [
       "179"
      ]
     },
     "execution_count": 26,
     "metadata": {},
     "output_type": "execute_result"
    }
   ],
   "source": [
    "len(float_vars)"
   ]
  },
  {
   "cell_type": "code",
   "execution_count": 27,
   "metadata": {},
   "outputs": [
    {
     "data": {
      "text/plain": [
       "['actq',\n",
       " 'apq',\n",
       " 'atq',\n",
       " 'ceqq',\n",
       " 'cheq',\n",
       " 'cogsq',\n",
       " 'csh12q',\n",
       " 'cshfdq',\n",
       " 'cshiq',\n",
       " 'cshopq',\n",
       " 'cshoq',\n",
       " 'cshprq',\n",
       " 'cstkq',\n",
       " 'dlcq',\n",
       " 'dlttq',\n",
       " 'dpq',\n",
       " 'dvpq',\n",
       " 'epsf12',\n",
       " 'epsfi12',\n",
       " 'epsfiq',\n",
       " 'epsfxq',\n",
       " 'epspi12',\n",
       " 'epspiq',\n",
       " 'epspxq',\n",
       " 'epsx12',\n",
       " 'ibadj12',\n",
       " 'ibadjq',\n",
       " 'ibcomq',\n",
       " 'ibq',\n",
       " 'icaptq',\n",
       " 'invtq',\n",
       " 'lctq',\n",
       " 'ltq',\n",
       " 'mibq',\n",
       " 'miiq',\n",
       " 'niq',\n",
       " 'nopiq',\n",
       " 'oepf12',\n",
       " 'oeps12',\n",
       " 'oepsxq',\n",
       " 'oiadpq',\n",
       " 'oibdpq',\n",
       " 'opepsq',\n",
       " 'optdrq',\n",
       " 'piq',\n",
       " 'ppentq',\n",
       " 'prcraq',\n",
       " 'pstkq',\n",
       " 'pstkrq',\n",
       " 'rectq',\n",
       " 'req',\n",
       " 'revtq',\n",
       " 'saleq',\n",
       " 'seqq',\n",
       " 'spiq',\n",
       " 'teqq',\n",
       " 'txdbq',\n",
       " 'txditcq',\n",
       " 'txpq',\n",
       " 'txtq',\n",
       " 'xintq',\n",
       " 'xoprq',\n",
       " 'xrdq',\n",
       " 'xsgaq',\n",
       " 'capxy',\n",
       " 'cdvcy',\n",
       " 'chechy',\n",
       " 'cogsy',\n",
       " 'dlcchy',\n",
       " 'dltisy',\n",
       " 'dltry',\n",
       " 'dpcy',\n",
       " 'dvy',\n",
       " 'ibcomy',\n",
       " 'ibcy',\n",
       " 'miiy',\n",
       " 'oancfy',\n",
       " 'oepsxy',\n",
       " 'oibdpy',\n",
       " 'revty',\n",
       " 'txpdy',\n",
       " 'xidocy',\n",
       " 'xidoy',\n",
       " 'xinty',\n",
       " 'xrdy',\n",
       " 'xsgay',\n",
       " 'dvpspq',\n",
       " 'prccq',\n",
       " 'beq',\n",
       " 'bmq',\n",
       " 'book_value_per_share',\n",
       " 'book_value_yield',\n",
       " 'market_cap',\n",
       " 'buy_back_yield',\n",
       " 'yearly_sales',\n",
       " 'evmq',\n",
       " 'pe_op_basicq',\n",
       " 'pe_op_dilq',\n",
       " 'pe_exiq',\n",
       " 'capeiq',\n",
       " 'pe_incq',\n",
       " 'psq',\n",
       " 'oancfy_q',\n",
       " 'opcfq',\n",
       " 'cfo-per-share',\n",
       " 'cf_yield',\n",
       " 'pcfq',\n",
       " 'dvq',\n",
       " 'dprq',\n",
       " 'npmq',\n",
       " 'opmbdq',\n",
       " 'opmadq',\n",
       " 'gpmq',\n",
       " 'ptpmq',\n",
       " 'ibcq',\n",
       " 'dpcq',\n",
       " 'cfmq',\n",
       " 'at4',\n",
       " 'roaq',\n",
       " 'roceq',\n",
       " 'efftaxq',\n",
       " 'ceq4',\n",
       " 'seq4',\n",
       " 'lctq4',\n",
       " 'be4',\n",
       " 'lagbe4',\n",
       " 'lagseq4',\n",
       " 'lagicapt4',\n",
       " 'lagppent4',\n",
       " 'lagppent_alt4',\n",
       " 'roeq',\n",
       " 'aftret_eqq',\n",
       " 'aftret_invcapxq',\n",
       " 'aftret_equityq',\n",
       " 'pretret_noaq',\n",
       " 'pretret_earnatq',\n",
       " 'gprofq',\n",
       " 'equity_invcapq',\n",
       " 'debt_invcapq',\n",
       " 'totdebt_invcapq',\n",
       " 'capital_ratioq',\n",
       " 'int_debtq',\n",
       " 'int_totdebtq',\n",
       " 'cash_ltq',\n",
       " 'invt_actq',\n",
       " 'rect_actq',\n",
       " 'debt_atq',\n",
       " 'debt_ebitdaq',\n",
       " 'short_debtq',\n",
       " 'curr_debtq',\n",
       " 'lt_debtq',\n",
       " 'profit_lctq',\n",
       " 'ocf_lctq',\n",
       " 'capxq',\n",
       " 'fcf_ocfq',\n",
       " 'fcf_csfhdq',\n",
       " 'fcf_yield',\n",
       " 'cash_debtq',\n",
       " 'lt_ppentq',\n",
       " 'dltt_beq',\n",
       " 'debt_assetsq',\n",
       " 'debt_capitalq',\n",
       " 'de_ratioq',\n",
       " 'intcovq',\n",
       " 'intcov_ratioq',\n",
       " 'cash_ratioq',\n",
       " 'quick_ratioq',\n",
       " 'curr_ratioq',\n",
       " 'cash_conversionq',\n",
       " 'inv_turnq',\n",
       " 'at_turnq',\n",
       " 'rect_turnq',\n",
       " 'pay_turnq',\n",
       " 'sale_invcapq',\n",
       " 'sale_equityq',\n",
       " 'sale_nwcq',\n",
       " 'rd_saleq',\n",
       " 'at5',\n",
       " 'accrualq']"
      ]
     },
     "execution_count": 27,
     "metadata": {},
     "output_type": "execute_result"
    }
   ],
   "source": [
    "float_vars"
   ]
  },
  {
   "cell_type": "code",
   "execution_count": 28,
   "metadata": {},
   "outputs": [],
   "source": [
    "train = train.copy()\n",
    "valid = valid.copy()\n",
    "test = test.copy()"
   ]
  },
  {
   "cell_type": "code",
   "execution_count": 29,
   "metadata": {
    "scrolled": true
   },
   "outputs": [],
   "source": [
    "train[float_vars] = scaler.fit_transform(train[float_vars])\n",
    "valid[float_vars] = scaler.transform(valid[float_vars])\n",
    "test[float_vars] = scaler.transform(test[float_vars])"
   ]
  },
  {
   "cell_type": "code",
   "execution_count": 30,
   "metadata": {
    "scrolled": true
   },
   "outputs": [
    {
     "data": {
      "text/html": [
       "<div>\n",
       "<style scoped>\n",
       "    .dataframe tbody tr th:only-of-type {\n",
       "        vertical-align: middle;\n",
       "    }\n",
       "\n",
       "    .dataframe tbody tr th {\n",
       "        vertical-align: top;\n",
       "    }\n",
       "\n",
       "    .dataframe thead th {\n",
       "        text-align: right;\n",
       "    }\n",
       "</style>\n",
       "<table border=\"1\" class=\"dataframe\">\n",
       "  <thead>\n",
       "    <tr style=\"text-align: right;\">\n",
       "      <th></th>\n",
       "      <th>actq</th>\n",
       "      <th>apq</th>\n",
       "      <th>atq</th>\n",
       "      <th>ceqq</th>\n",
       "      <th>cheq</th>\n",
       "      <th>cogsq</th>\n",
       "      <th>csh12q</th>\n",
       "      <th>cshfdq</th>\n",
       "      <th>cshiq</th>\n",
       "      <th>cshopq</th>\n",
       "      <th>...</th>\n",
       "      <th>sector_code_815.0</th>\n",
       "      <th>sector_code_817.0</th>\n",
       "      <th>sector_code_822.0</th>\n",
       "      <th>sector_code_823.0</th>\n",
       "      <th>sector_code_825.0</th>\n",
       "      <th>sector_code_830.0</th>\n",
       "      <th>sector_code_835.0</th>\n",
       "      <th>sector_code_840.0</th>\n",
       "      <th>sector_code_845.0</th>\n",
       "      <th>sector_code_850.0</th>\n",
       "    </tr>\n",
       "  </thead>\n",
       "  <tbody>\n",
       "    <tr>\n",
       "      <th>0</th>\n",
       "      <td>-0.263658</td>\n",
       "      <td>-0.161292</td>\n",
       "      <td>-0.237062</td>\n",
       "      <td>-0.198178</td>\n",
       "      <td>-0.075701</td>\n",
       "      <td>-0.301716</td>\n",
       "      <td>-0.199487</td>\n",
       "      <td>-0.173131</td>\n",
       "      <td>-0.204266</td>\n",
       "      <td>-0.009609</td>\n",
       "      <td>...</td>\n",
       "      <td>0</td>\n",
       "      <td>0</td>\n",
       "      <td>0</td>\n",
       "      <td>0</td>\n",
       "      <td>0</td>\n",
       "      <td>0</td>\n",
       "      <td>0</td>\n",
       "      <td>0</td>\n",
       "      <td>0</td>\n",
       "      <td>0</td>\n",
       "    </tr>\n",
       "    <tr>\n",
       "      <th>1</th>\n",
       "      <td>1.098392</td>\n",
       "      <td>-0.096349</td>\n",
       "      <td>0.239014</td>\n",
       "      <td>0.115424</td>\n",
       "      <td>0.008394</td>\n",
       "      <td>-0.007514</td>\n",
       "      <td>0.329885</td>\n",
       "      <td>0.333040</td>\n",
       "      <td>0.353212</td>\n",
       "      <td>-0.009609</td>\n",
       "      <td>...</td>\n",
       "      <td>0</td>\n",
       "      <td>0</td>\n",
       "      <td>0</td>\n",
       "      <td>0</td>\n",
       "      <td>0</td>\n",
       "      <td>0</td>\n",
       "      <td>0</td>\n",
       "      <td>0</td>\n",
       "      <td>0</td>\n",
       "      <td>0</td>\n",
       "    </tr>\n",
       "    <tr>\n",
       "      <th>2</th>\n",
       "      <td>-0.244494</td>\n",
       "      <td>-0.145633</td>\n",
       "      <td>-0.236138</td>\n",
       "      <td>-0.262953</td>\n",
       "      <td>-0.132820</td>\n",
       "      <td>-0.114253</td>\n",
       "      <td>-0.204665</td>\n",
       "      <td>-0.210057</td>\n",
       "      <td>-0.204298</td>\n",
       "      <td>164.468104</td>\n",
       "      <td>...</td>\n",
       "      <td>0</td>\n",
       "      <td>0</td>\n",
       "      <td>0</td>\n",
       "      <td>0</td>\n",
       "      <td>0</td>\n",
       "      <td>0</td>\n",
       "      <td>0</td>\n",
       "      <td>0</td>\n",
       "      <td>0</td>\n",
       "      <td>0</td>\n",
       "    </tr>\n",
       "    <tr>\n",
       "      <th>3</th>\n",
       "      <td>-0.067779</td>\n",
       "      <td>-0.149890</td>\n",
       "      <td>-0.189368</td>\n",
       "      <td>-0.137015</td>\n",
       "      <td>-0.148266</td>\n",
       "      <td>-0.159950</td>\n",
       "      <td>-0.285349</td>\n",
       "      <td>-0.275382</td>\n",
       "      <td>-0.296659</td>\n",
       "      <td>0.523026</td>\n",
       "      <td>...</td>\n",
       "      <td>0</td>\n",
       "      <td>0</td>\n",
       "      <td>0</td>\n",
       "      <td>0</td>\n",
       "      <td>0</td>\n",
       "      <td>0</td>\n",
       "      <td>0</td>\n",
       "      <td>0</td>\n",
       "      <td>0</td>\n",
       "      <td>0</td>\n",
       "    </tr>\n",
       "    <tr>\n",
       "      <th>4</th>\n",
       "      <td>0.996686</td>\n",
       "      <td>0.015795</td>\n",
       "      <td>0.096167</td>\n",
       "      <td>1.122966</td>\n",
       "      <td>0.065624</td>\n",
       "      <td>0.420599</td>\n",
       "      <td>1.717584</td>\n",
       "      <td>1.743885</td>\n",
       "      <td>1.763815</td>\n",
       "      <td>1491.368621</td>\n",
       "      <td>...</td>\n",
       "      <td>0</td>\n",
       "      <td>0</td>\n",
       "      <td>0</td>\n",
       "      <td>0</td>\n",
       "      <td>0</td>\n",
       "      <td>0</td>\n",
       "      <td>0</td>\n",
       "      <td>0</td>\n",
       "      <td>0</td>\n",
       "      <td>0</td>\n",
       "    </tr>\n",
       "    <tr>\n",
       "      <th>...</th>\n",
       "      <td>...</td>\n",
       "      <td>...</td>\n",
       "      <td>...</td>\n",
       "      <td>...</td>\n",
       "      <td>...</td>\n",
       "      <td>...</td>\n",
       "      <td>...</td>\n",
       "      <td>...</td>\n",
       "      <td>...</td>\n",
       "      <td>...</td>\n",
       "      <td>...</td>\n",
       "      <td>...</td>\n",
       "      <td>...</td>\n",
       "      <td>...</td>\n",
       "      <td>...</td>\n",
       "      <td>...</td>\n",
       "      <td>...</td>\n",
       "      <td>...</td>\n",
       "      <td>...</td>\n",
       "      <td>...</td>\n",
       "      <td>...</td>\n",
       "    </tr>\n",
       "    <tr>\n",
       "      <th>1131</th>\n",
       "      <td>0.493980</td>\n",
       "      <td>-0.125321</td>\n",
       "      <td>-0.072877</td>\n",
       "      <td>0.162068</td>\n",
       "      <td>-0.121488</td>\n",
       "      <td>0.062230</td>\n",
       "      <td>0.233818</td>\n",
       "      <td>0.227729</td>\n",
       "      <td>0.262613</td>\n",
       "      <td>7.660336</td>\n",
       "      <td>...</td>\n",
       "      <td>0</td>\n",
       "      <td>0</td>\n",
       "      <td>0</td>\n",
       "      <td>0</td>\n",
       "      <td>0</td>\n",
       "      <td>0</td>\n",
       "      <td>0</td>\n",
       "      <td>0</td>\n",
       "      <td>0</td>\n",
       "      <td>0</td>\n",
       "    </tr>\n",
       "    <tr>\n",
       "      <th>1132</th>\n",
       "      <td>-0.433373</td>\n",
       "      <td>-0.160534</td>\n",
       "      <td>-0.254654</td>\n",
       "      <td>-0.360778</td>\n",
       "      <td>-0.146589</td>\n",
       "      <td>-0.322603</td>\n",
       "      <td>-0.371124</td>\n",
       "      <td>-0.371085</td>\n",
       "      <td>-0.388166</td>\n",
       "      <td>-0.009609</td>\n",
       "      <td>...</td>\n",
       "      <td>0</td>\n",
       "      <td>0</td>\n",
       "      <td>0</td>\n",
       "      <td>0</td>\n",
       "      <td>0</td>\n",
       "      <td>0</td>\n",
       "      <td>0</td>\n",
       "      <td>0</td>\n",
       "      <td>0</td>\n",
       "      <td>0</td>\n",
       "    </tr>\n",
       "    <tr>\n",
       "      <th>1133</th>\n",
       "      <td>0.001727</td>\n",
       "      <td>-0.149717</td>\n",
       "      <td>-0.158878</td>\n",
       "      <td>0.272882</td>\n",
       "      <td>-0.066988</td>\n",
       "      <td>-0.204665</td>\n",
       "      <td>0.389613</td>\n",
       "      <td>0.457127</td>\n",
       "      <td>0.320377</td>\n",
       "      <td>-0.009609</td>\n",
       "      <td>...</td>\n",
       "      <td>0</td>\n",
       "      <td>0</td>\n",
       "      <td>0</td>\n",
       "      <td>0</td>\n",
       "      <td>0</td>\n",
       "      <td>0</td>\n",
       "      <td>0</td>\n",
       "      <td>0</td>\n",
       "      <td>0</td>\n",
       "      <td>0</td>\n",
       "    </tr>\n",
       "    <tr>\n",
       "      <th>1134</th>\n",
       "      <td>-0.447404</td>\n",
       "      <td>-0.162455</td>\n",
       "      <td>-0.262774</td>\n",
       "      <td>-0.398449</td>\n",
       "      <td>-0.144391</td>\n",
       "      <td>-0.319133</td>\n",
       "      <td>-0.389841</td>\n",
       "      <td>-0.389502</td>\n",
       "      <td>-0.406740</td>\n",
       "      <td>-0.009609</td>\n",
       "      <td>...</td>\n",
       "      <td>0</td>\n",
       "      <td>0</td>\n",
       "      <td>0</td>\n",
       "      <td>0</td>\n",
       "      <td>0</td>\n",
       "      <td>0</td>\n",
       "      <td>0</td>\n",
       "      <td>0</td>\n",
       "      <td>0</td>\n",
       "      <td>0</td>\n",
       "    </tr>\n",
       "    <tr>\n",
       "      <th>1135</th>\n",
       "      <td>-0.365539</td>\n",
       "      <td>-0.162725</td>\n",
       "      <td>-0.251698</td>\n",
       "      <td>-0.325265</td>\n",
       "      <td>-0.112106</td>\n",
       "      <td>-0.333306</td>\n",
       "      <td>-0.158593</td>\n",
       "      <td>-0.140125</td>\n",
       "      <td>-0.171905</td>\n",
       "      <td>7.979917</td>\n",
       "      <td>...</td>\n",
       "      <td>0</td>\n",
       "      <td>0</td>\n",
       "      <td>0</td>\n",
       "      <td>0</td>\n",
       "      <td>0</td>\n",
       "      <td>0</td>\n",
       "      <td>0</td>\n",
       "      <td>0</td>\n",
       "      <td>0</td>\n",
       "      <td>0</td>\n",
       "    </tr>\n",
       "  </tbody>\n",
       "</table>\n",
       "<p>1136 rows × 721 columns</p>\n",
       "</div>"
      ],
      "text/plain": [
       "          actq       apq       atq      ceqq      cheq     cogsq    csh12q  \\\n",
       "0    -0.263658 -0.161292 -0.237062 -0.198178 -0.075701 -0.301716 -0.199487   \n",
       "1     1.098392 -0.096349  0.239014  0.115424  0.008394 -0.007514  0.329885   \n",
       "2    -0.244494 -0.145633 -0.236138 -0.262953 -0.132820 -0.114253 -0.204665   \n",
       "3    -0.067779 -0.149890 -0.189368 -0.137015 -0.148266 -0.159950 -0.285349   \n",
       "4     0.996686  0.015795  0.096167  1.122966  0.065624  0.420599  1.717584   \n",
       "...        ...       ...       ...       ...       ...       ...       ...   \n",
       "1131  0.493980 -0.125321 -0.072877  0.162068 -0.121488  0.062230  0.233818   \n",
       "1132 -0.433373 -0.160534 -0.254654 -0.360778 -0.146589 -0.322603 -0.371124   \n",
       "1133  0.001727 -0.149717 -0.158878  0.272882 -0.066988 -0.204665  0.389613   \n",
       "1134 -0.447404 -0.162455 -0.262774 -0.398449 -0.144391 -0.319133 -0.389841   \n",
       "1135 -0.365539 -0.162725 -0.251698 -0.325265 -0.112106 -0.333306 -0.158593   \n",
       "\n",
       "        cshfdq     cshiq       cshopq  ...  sector_code_815.0  \\\n",
       "0    -0.173131 -0.204266    -0.009609  ...                  0   \n",
       "1     0.333040  0.353212    -0.009609  ...                  0   \n",
       "2    -0.210057 -0.204298   164.468104  ...                  0   \n",
       "3    -0.275382 -0.296659     0.523026  ...                  0   \n",
       "4     1.743885  1.763815  1491.368621  ...                  0   \n",
       "...        ...       ...          ...  ...                ...   \n",
       "1131  0.227729  0.262613     7.660336  ...                  0   \n",
       "1132 -0.371085 -0.388166    -0.009609  ...                  0   \n",
       "1133  0.457127  0.320377    -0.009609  ...                  0   \n",
       "1134 -0.389502 -0.406740    -0.009609  ...                  0   \n",
       "1135 -0.140125 -0.171905     7.979917  ...                  0   \n",
       "\n",
       "      sector_code_817.0  sector_code_822.0  sector_code_823.0  \\\n",
       "0                     0                  0                  0   \n",
       "1                     0                  0                  0   \n",
       "2                     0                  0                  0   \n",
       "3                     0                  0                  0   \n",
       "4                     0                  0                  0   \n",
       "...                 ...                ...                ...   \n",
       "1131                  0                  0                  0   \n",
       "1132                  0                  0                  0   \n",
       "1133                  0                  0                  0   \n",
       "1134                  0                  0                  0   \n",
       "1135                  0                  0                  0   \n",
       "\n",
       "      sector_code_825.0  sector_code_830.0  sector_code_835.0  \\\n",
       "0                     0                  0                  0   \n",
       "1                     0                  0                  0   \n",
       "2                     0                  0                  0   \n",
       "3                     0                  0                  0   \n",
       "4                     0                  0                  0   \n",
       "...                 ...                ...                ...   \n",
       "1131                  0                  0                  0   \n",
       "1132                  0                  0                  0   \n",
       "1133                  0                  0                  0   \n",
       "1134                  0                  0                  0   \n",
       "1135                  0                  0                  0   \n",
       "\n",
       "      sector_code_840.0  sector_code_845.0  sector_code_850.0  \n",
       "0                     0                  0                  0  \n",
       "1                     0                  0                  0  \n",
       "2                     0                  0                  0  \n",
       "3                     0                  0                  0  \n",
       "4                     0                  0                  0  \n",
       "...                 ...                ...                ...  \n",
       "1131                  0                  0                  0  \n",
       "1132                  0                  0                  0  \n",
       "1133                  0                  0                  0  \n",
       "1134                  0                  0                  0  \n",
       "1135                  0                  0                  0  \n",
       "\n",
       "[1136 rows x 721 columns]"
      ]
     },
     "execution_count": 30,
     "metadata": {},
     "output_type": "execute_result"
    }
   ],
   "source": [
    "test"
   ]
  },
  {
   "cell_type": "code",
   "execution_count": 31,
   "metadata": {},
   "outputs": [],
   "source": [
    "y_train = df_train['rel_performance'].values\n",
    "y_valid = df_valid['rel_performance'].values\n",
    "y_test = df_test['rel_performance'].values"
   ]
  },
  {
   "cell_type": "code",
   "execution_count": 32,
   "metadata": {},
   "outputs": [
    {
     "data": {
      "text/plain": [
       "array([ 1,  1,  1, ...,  1,  1, -1], dtype=int64)"
      ]
     },
     "execution_count": 32,
     "metadata": {},
     "output_type": "execute_result"
    }
   ],
   "source": [
    "y_train"
   ]
  },
  {
   "cell_type": "code",
   "execution_count": 33,
   "metadata": {},
   "outputs": [
    {
     "data": {
      "text/plain": [
       "Counter({1: 631, -1: 403, 0: 121})"
      ]
     },
     "execution_count": 33,
     "metadata": {},
     "output_type": "execute_result"
    }
   ],
   "source": [
    "Counter(y_valid)"
   ]
  },
  {
   "cell_type": "markdown",
   "metadata": {},
   "source": [
    "## Number of Features"
   ]
  },
  {
   "cell_type": "code",
   "execution_count": 34,
   "metadata": {},
   "outputs": [
    {
     "data": {
      "text/plain": [
       "721"
      ]
     },
     "execution_count": 34,
     "metadata": {},
     "output_type": "execute_result"
    }
   ],
   "source": [
    "len(train.columns)"
   ]
  },
  {
   "cell_type": "markdown",
   "metadata": {},
   "source": [
    "## Importing the Tree Classifier and some metrics from sklearn"
   ]
  },
  {
   "cell_type": "code",
   "execution_count": 35,
   "metadata": {},
   "outputs": [],
   "source": [
    "from sklearn.tree import DecisionTreeClassifier\n",
    "from sklearn.metrics import accuracy_score,confusion_matrix"
   ]
  },
  {
   "cell_type": "code",
   "execution_count": 36,
   "metadata": {},
   "outputs": [],
   "source": [
    "t_clf = DecisionTreeClassifier(min_samples_leaf = 100,max_depth=15)"
   ]
  },
  {
   "cell_type": "code",
   "execution_count": 37,
   "metadata": {},
   "outputs": [
    {
     "data": {
      "text/html": [
       "<style>#sk-container-id-1 {color: black;}#sk-container-id-1 pre{padding: 0;}#sk-container-id-1 div.sk-toggleable {background-color: white;}#sk-container-id-1 label.sk-toggleable__label {cursor: pointer;display: block;width: 100%;margin-bottom: 0;padding: 0.3em;box-sizing: border-box;text-align: center;}#sk-container-id-1 label.sk-toggleable__label-arrow:before {content: \"▸\";float: left;margin-right: 0.25em;color: #696969;}#sk-container-id-1 label.sk-toggleable__label-arrow:hover:before {color: black;}#sk-container-id-1 div.sk-estimator:hover label.sk-toggleable__label-arrow:before {color: black;}#sk-container-id-1 div.sk-toggleable__content {max-height: 0;max-width: 0;overflow: hidden;text-align: left;background-color: #f0f8ff;}#sk-container-id-1 div.sk-toggleable__content pre {margin: 0.2em;color: black;border-radius: 0.25em;background-color: #f0f8ff;}#sk-container-id-1 input.sk-toggleable__control:checked~div.sk-toggleable__content {max-height: 200px;max-width: 100%;overflow: auto;}#sk-container-id-1 input.sk-toggleable__control:checked~label.sk-toggleable__label-arrow:before {content: \"▾\";}#sk-container-id-1 div.sk-estimator input.sk-toggleable__control:checked~label.sk-toggleable__label {background-color: #d4ebff;}#sk-container-id-1 div.sk-label input.sk-toggleable__control:checked~label.sk-toggleable__label {background-color: #d4ebff;}#sk-container-id-1 input.sk-hidden--visually {border: 0;clip: rect(1px 1px 1px 1px);clip: rect(1px, 1px, 1px, 1px);height: 1px;margin: -1px;overflow: hidden;padding: 0;position: absolute;width: 1px;}#sk-container-id-1 div.sk-estimator {font-family: monospace;background-color: #f0f8ff;border: 1px dotted black;border-radius: 0.25em;box-sizing: border-box;margin-bottom: 0.5em;}#sk-container-id-1 div.sk-estimator:hover {background-color: #d4ebff;}#sk-container-id-1 div.sk-parallel-item::after {content: \"\";width: 100%;border-bottom: 1px solid gray;flex-grow: 1;}#sk-container-id-1 div.sk-label:hover label.sk-toggleable__label {background-color: #d4ebff;}#sk-container-id-1 div.sk-serial::before {content: \"\";position: absolute;border-left: 1px solid gray;box-sizing: border-box;top: 0;bottom: 0;left: 50%;z-index: 0;}#sk-container-id-1 div.sk-serial {display: flex;flex-direction: column;align-items: center;background-color: white;padding-right: 0.2em;padding-left: 0.2em;position: relative;}#sk-container-id-1 div.sk-item {position: relative;z-index: 1;}#sk-container-id-1 div.sk-parallel {display: flex;align-items: stretch;justify-content: center;background-color: white;position: relative;}#sk-container-id-1 div.sk-item::before, #sk-container-id-1 div.sk-parallel-item::before {content: \"\";position: absolute;border-left: 1px solid gray;box-sizing: border-box;top: 0;bottom: 0;left: 50%;z-index: -1;}#sk-container-id-1 div.sk-parallel-item {display: flex;flex-direction: column;z-index: 1;position: relative;background-color: white;}#sk-container-id-1 div.sk-parallel-item:first-child::after {align-self: flex-end;width: 50%;}#sk-container-id-1 div.sk-parallel-item:last-child::after {align-self: flex-start;width: 50%;}#sk-container-id-1 div.sk-parallel-item:only-child::after {width: 0;}#sk-container-id-1 div.sk-dashed-wrapped {border: 1px dashed gray;margin: 0 0.4em 0.5em 0.4em;box-sizing: border-box;padding-bottom: 0.4em;background-color: white;}#sk-container-id-1 div.sk-label label {font-family: monospace;font-weight: bold;display: inline-block;line-height: 1.2em;}#sk-container-id-1 div.sk-label-container {text-align: center;}#sk-container-id-1 div.sk-container {/* jupyter's `normalize.less` sets `[hidden] { display: none; }` but bootstrap.min.css set `[hidden] { display: none !important; }` so we also need the `!important` here to be able to override the default hidden behavior on the sphinx rendered scikit-learn.org. See: https://github.com/scikit-learn/scikit-learn/issues/21755 */display: inline-block !important;position: relative;}#sk-container-id-1 div.sk-text-repr-fallback {display: none;}</style><div id=\"sk-container-id-1\" class=\"sk-top-container\"><div class=\"sk-text-repr-fallback\"><pre>DecisionTreeClassifier(max_depth=15, min_samples_leaf=100)</pre><b>In a Jupyter environment, please rerun this cell to show the HTML representation or trust the notebook. <br />On GitHub, the HTML representation is unable to render, please try loading this page with nbviewer.org.</b></div><div class=\"sk-container\" hidden><div class=\"sk-item\"><div class=\"sk-estimator sk-toggleable\"><input class=\"sk-toggleable__control sk-hidden--visually\" id=\"sk-estimator-id-1\" type=\"checkbox\" checked><label for=\"sk-estimator-id-1\" class=\"sk-toggleable__label sk-toggleable__label-arrow\">DecisionTreeClassifier</label><div class=\"sk-toggleable__content\"><pre>DecisionTreeClassifier(max_depth=15, min_samples_leaf=100)</pre></div></div></div></div></div>"
      ],
      "text/plain": [
       "DecisionTreeClassifier(max_depth=15, min_samples_leaf=100)"
      ]
     },
     "execution_count": 37,
     "metadata": {},
     "output_type": "execute_result"
    }
   ],
   "source": [
    "t_clf.fit(train,y_train)"
   ]
  },
  {
   "cell_type": "code",
   "execution_count": 38,
   "metadata": {},
   "outputs": [
    {
     "data": {
      "text/plain": [
       "0.6111162404210138"
      ]
     },
     "execution_count": 38,
     "metadata": {},
     "output_type": "execute_result"
    }
   ],
   "source": [
    "accuracy_score(y_train,t_clf.predict(train))"
   ]
  },
  {
   "cell_type": "code",
   "execution_count": 39,
   "metadata": {},
   "outputs": [
    {
     "data": {
      "text/plain": [
       "0.5099567099567099"
      ]
     },
     "execution_count": 39,
     "metadata": {},
     "output_type": "execute_result"
    }
   ],
   "source": [
    "accuracy_score(y_valid,t_clf.predict(valid))"
   ]
  },
  {
   "cell_type": "markdown",
   "metadata": {},
   "source": [
    "### Visualizing the tree"
   ]
  },
  {
   "cell_type": "code",
   "execution_count": 40,
   "metadata": {},
   "outputs": [],
   "source": [
    "import graphviz\n",
    "from sklearn import tree"
   ]
  },
  {
   "cell_type": "code",
   "execution_count": 41,
   "metadata": {},
   "outputs": [
    {
     "data": {
      "text/plain": [
       "'tree_10.pdf'"
      ]
     },
     "execution_count": 41,
     "metadata": {},
     "output_type": "execute_result"
    }
   ],
   "source": [
    "dot_data = tree.export_graphviz(t_clf,out_file=None)\n",
    "graph = graphviz.Source(dot_data)\n",
    "graph.render('tree_10')"
   ]
  },
  {
   "cell_type": "code",
   "execution_count": 42,
   "metadata": {},
   "outputs": [
    {
     "name": "stdout",
     "output_type": "stream",
     "text": [
      "Collecting optuna\n",
      "  Obtaining dependency information for optuna from https://files.pythonhosted.org/packages/4c/6a/219a431aaf81b3eb3070fd2d58116baa366d3072f43bbcc87dc3495b7546/optuna-3.5.0-py3-none-any.whl.metadata\n",
      "  Downloading optuna-3.5.0-py3-none-any.whl.metadata (17 kB)\n",
      "Collecting alembic>=1.5.0 (from optuna)\n",
      "  Obtaining dependency information for alembic>=1.5.0 from https://files.pythonhosted.org/packages/7f/50/9fb3a5c80df6eb6516693270621676980acd6d5a9a7efdbfa273f8d616c7/alembic-1.13.1-py3-none-any.whl.metadata\n",
      "  Downloading alembic-1.13.1-py3-none-any.whl.metadata (7.4 kB)\n",
      "Collecting colorlog (from optuna)\n",
      "  Obtaining dependency information for colorlog from https://files.pythonhosted.org/packages/95/df/520663eb7f7a329f7c585834b754bcc3cbcc03957d85fcbba4a2a723ad9d/colorlog-6.8.0-py3-none-any.whl.metadata\n",
      "  Downloading colorlog-6.8.0-py3-none-any.whl.metadata (10 kB)\n",
      "Requirement already satisfied: numpy in c:\\users\\niels\\anaconda3\\lib\\site-packages (from optuna) (1.24.3)\n",
      "Requirement already satisfied: packaging>=20.0 in c:\\users\\niels\\anaconda3\\lib\\site-packages (from optuna) (23.1)\n",
      "Requirement already satisfied: sqlalchemy>=1.3.0 in c:\\users\\niels\\anaconda3\\lib\\site-packages (from optuna) (1.4.39)\n",
      "Requirement already satisfied: tqdm in c:\\users\\niels\\anaconda3\\lib\\site-packages (from optuna) (4.65.0)\n",
      "Requirement already satisfied: PyYAML in c:\\users\\niels\\anaconda3\\lib\\site-packages (from optuna) (6.0)\n",
      "Collecting Mako (from alembic>=1.5.0->optuna)\n",
      "  Obtaining dependency information for Mako from https://files.pythonhosted.org/packages/24/3b/11fe92d68c6a42468ddab0cf03f454419b0788fff4e91ba46b8bebafeffd/Mako-1.3.0-py3-none-any.whl.metadata\n",
      "  Downloading Mako-1.3.0-py3-none-any.whl.metadata (2.9 kB)\n",
      "Requirement already satisfied: typing-extensions>=4 in c:\\users\\niels\\anaconda3\\lib\\site-packages (from alembic>=1.5.0->optuna) (4.7.1)\n",
      "Requirement already satisfied: greenlet!=0.4.17 in c:\\users\\niels\\anaconda3\\lib\\site-packages (from sqlalchemy>=1.3.0->optuna) (2.0.1)\n",
      "Requirement already satisfied: colorama in c:\\users\\niels\\anaconda3\\lib\\site-packages (from colorlog->optuna) (0.4.6)\n",
      "Requirement already satisfied: MarkupSafe>=0.9.2 in c:\\users\\niels\\anaconda3\\lib\\site-packages (from Mako->alembic>=1.5.0->optuna) (2.1.1)\n",
      "Downloading optuna-3.5.0-py3-none-any.whl (413 kB)\n",
      "   ---------------------------------------- 0.0/413.4 kB ? eta -:--:--\n",
      "   --- ----------------------------------- 41.0/413.4 kB 991.0 kB/s eta 0:00:01\n",
      "   ------------------ --------------------- 194.6/413.4 kB 2.4 MB/s eta 0:00:01\n",
      "   ---------------------------------- ----- 358.4/413.4 kB 2.8 MB/s eta 0:00:01\n",
      "   ---------------------------------------- 413.4/413.4 kB 2.9 MB/s eta 0:00:00\n",
      "Downloading alembic-1.13.1-py3-none-any.whl (233 kB)\n",
      "   ---------------------------------------- 0.0/233.4 kB ? eta -:--:--\n",
      "   ---------------------------- ----------- 163.8/233.4 kB 3.3 MB/s eta 0:00:01\n",
      "   ---------------------------------------- 233.4/233.4 kB 3.6 MB/s eta 0:00:00\n",
      "Downloading colorlog-6.8.0-py3-none-any.whl (11 kB)\n",
      "Downloading Mako-1.3.0-py3-none-any.whl (78 kB)\n",
      "   ---------------------------------------- 0.0/78.6 kB ? eta -:--:--\n",
      "   ---------------------------------------- 78.6/78.6 kB 4.3 MB/s eta 0:00:00\n",
      "Installing collected packages: Mako, colorlog, alembic, optuna\n",
      "Successfully installed Mako-1.3.0 alembic-1.13.1 colorlog-6.8.0 optuna-3.5.0\n"
     ]
    }
   ],
   "source": [
    "!pip install optuna"
   ]
  },
  {
   "cell_type": "code",
   "execution_count": null,
   "metadata": {},
   "outputs": [],
   "source": []
  },
  {
   "cell_type": "code",
   "execution_count": 43,
   "metadata": {},
   "outputs": [],
   "source": [
    "import optuna\n",
    "from optuna.trial import Trial\n",
    "# optuna.logging.set_verbosity(optuna.logging.get_verbosity)\n",
    "# import warnings\n",
    "# warnings.filterwarnings(\"ignore\")"
   ]
  },
  {
   "cell_type": "code",
   "execution_count": null,
   "metadata": {},
   "outputs": [],
   "source": []
  },
  {
   "cell_type": "code",
   "execution_count": null,
   "metadata": {},
   "outputs": [],
   "source": []
  },
  {
   "cell_type": "code",
   "execution_count": 44,
   "metadata": {},
   "outputs": [],
   "source": [
    "def objective(trial:Trial,train=None,labels=None,val=None,val_labels=None,val_rets=None):\n",
    "\n",
    "    t_min_samples_leaf = trial.suggest_int('min_samples_leaf',100,1200,step=100)\n",
    "    t_max_depth = trial.suggest_int('max_depth',5,25,step=5)\n",
    "\n",
    "    \n",
    "    t_clf = DecisionTreeClassifier(min_samples_leaf = t_min_samples_leaf,max_depth=t_max_depth,random_state=123)\n",
    "    t_clf.fit(train,labels)\n",
    "\n",
    "    preds = t_clf.predict(val)\n",
    "    profit = (preds * val_rets).sum()\n",
    "\n",
    "    return profit\n"
   ]
  },
  {
   "cell_type": "code",
   "execution_count": 45,
   "metadata": {},
   "outputs": [
    {
     "name": "stderr",
     "output_type": "stream",
     "text": [
      "[I 2024-01-10 14:27:35,162] A new study created in memory with name: no-name-6c0b38a8-c1ad-4482-8903-e4484da89de4\n"
     ]
    }
   ],
   "source": [
    "study = optuna.create_study(direction=\"maximize\")"
   ]
  },
  {
   "cell_type": "code",
   "execution_count": 46,
   "metadata": {},
   "outputs": [],
   "source": [
    "from functools import partial"
   ]
  },
  {
   "cell_type": "code",
   "execution_count": 47,
   "metadata": {},
   "outputs": [
    {
     "name": "stderr",
     "output_type": "stream",
     "text": [
      "[I 2024-01-10 14:27:48,566] Trial 5 finished with value: -26.053565999999996 and parameters: {'min_samples_leaf': 1000, 'max_depth': 10}. Best is trial 5 with value: -26.053565999999996.\n",
      "[I 2024-01-10 14:27:48,961] Trial 7 finished with value: -26.053565999999996 and parameters: {'min_samples_leaf': 1100, 'max_depth': 25}. Best is trial 5 with value: -26.053565999999996.\n",
      "[I 2024-01-10 14:27:49,276] Trial 2 finished with value: 0.3619260000000235 and parameters: {'min_samples_leaf': 700, 'max_depth': 5}. Best is trial 2 with value: 0.3619260000000235.\n",
      "[I 2024-01-10 14:27:49,696] Trial 3 finished with value: 0.3619260000000235 and parameters: {'min_samples_leaf': 700, 'max_depth': 15}. Best is trial 2 with value: 0.3619260000000235.\n",
      "[I 2024-01-10 14:27:49,860] Trial 0 finished with value: 2.2530960000000224 and parameters: {'min_samples_leaf': 400, 'max_depth': 10}. Best is trial 0 with value: 2.2530960000000224.\n",
      "[I 2024-01-10 14:27:50,199] Trial 1 finished with value: 4.020640000000023 and parameters: {'min_samples_leaf': 300, 'max_depth': 25}. Best is trial 1 with value: 4.020640000000023.\n",
      "[I 2024-01-10 14:27:50,327] Trial 6 finished with value: 0.8414420000000256 and parameters: {'min_samples_leaf': 200, 'max_depth': 5}. Best is trial 1 with value: 4.020640000000023.\n",
      "[I 2024-01-10 14:27:51,540] Trial 8 finished with value: 0.8414420000000256 and parameters: {'min_samples_leaf': 200, 'max_depth': 5}. Best is trial 1 with value: 4.020640000000023.\n",
      "[I 2024-01-10 14:27:51,869] Trial 4 finished with value: -9.088705999999991 and parameters: {'min_samples_leaf': 100, 'max_depth': 25}. Best is trial 1 with value: 4.020640000000023.\n",
      "[I 2024-01-10 14:27:52,297] Trial 12 finished with value: 0.3619260000000235 and parameters: {'min_samples_leaf': 500, 'max_depth': 5}. Best is trial 1 with value: 4.020640000000023.\n",
      "[I 2024-01-10 14:27:52,552] Trial 13 finished with value: 0.3619260000000235 and parameters: {'min_samples_leaf': 600, 'max_depth': 5}. Best is trial 1 with value: 4.020640000000023.\n",
      "[I 2024-01-10 14:27:52,936] Trial 14 finished with value: -26.053565999999996 and parameters: {'min_samples_leaf': 1000, 'max_depth': 5}. Best is trial 1 with value: 4.020640000000023.\n",
      "[I 2024-01-10 14:27:53,910] Trial 16 finished with value: -26.053565999999996 and parameters: {'min_samples_leaf': 1000, 'max_depth': 25}. Best is trial 1 with value: 4.020640000000023.\n",
      "[I 2024-01-10 14:27:54,371] Trial 15 finished with value: 0.3619260000000235 and parameters: {'min_samples_leaf': 600, 'max_depth': 20}. Best is trial 1 with value: 4.020640000000023.\n",
      "[I 2024-01-10 14:27:54,474] Trial 11 finished with value: 4.020640000000023 and parameters: {'min_samples_leaf': 300, 'max_depth': 10}. Best is trial 1 with value: 4.020640000000023.\n",
      "[I 2024-01-10 14:27:55,629] Trial 17 finished with value: 2.2530960000000224 and parameters: {'min_samples_leaf': 400, 'max_depth': 20}. Best is trial 1 with value: 4.020640000000023.\n",
      "[I 2024-01-10 14:27:55,715] Trial 9 finished with value: -9.088705999999991 and parameters: {'min_samples_leaf': 100, 'max_depth': 15}. Best is trial 1 with value: 4.020640000000023.\n",
      "[I 2024-01-10 14:27:55,926] Trial 18 finished with value: 2.2530960000000224 and parameters: {'min_samples_leaf': 400, 'max_depth': 20}. Best is trial 1 with value: 4.020640000000023.\n",
      "[I 2024-01-10 14:27:56,299] Trial 10 finished with value: -9.088705999999991 and parameters: {'min_samples_leaf': 100, 'max_depth': 20}. Best is trial 1 with value: 4.020640000000023.\n",
      "[I 2024-01-10 14:27:57,208] Trial 19 finished with value: 2.2530960000000224 and parameters: {'min_samples_leaf': 400, 'max_depth': 20}. Best is trial 1 with value: 4.020640000000023.\n",
      "[I 2024-01-10 14:27:57,296] Trial 20 finished with value: 2.2530960000000224 and parameters: {'min_samples_leaf': 400, 'max_depth': 15}. Best is trial 1 with value: 4.020640000000023.\n",
      "[I 2024-01-10 14:27:57,758] Trial 21 finished with value: 2.2530960000000224 and parameters: {'min_samples_leaf': 400, 'max_depth': 15}. Best is trial 1 with value: 4.020640000000023.\n",
      "[I 2024-01-10 14:27:59,512] Trial 22 finished with value: 4.020640000000023 and parameters: {'min_samples_leaf': 300, 'max_depth': 15}. Best is trial 1 with value: 4.020640000000023.\n",
      "[I 2024-01-10 14:27:59,732] Trial 23 finished with value: 4.020640000000023 and parameters: {'min_samples_leaf': 300, 'max_depth': 15}. Best is trial 1 with value: 4.020640000000023.\n",
      "[I 2024-01-10 14:27:59,975] Trial 25 finished with value: 4.020640000000023 and parameters: {'min_samples_leaf': 300, 'max_depth': 10}. Best is trial 1 with value: 4.020640000000023.\n",
      "[I 2024-01-10 14:28:00,631] Trial 27 finished with value: 0.3619260000000235 and parameters: {'min_samples_leaf': 800, 'max_depth': 10}. Best is trial 1 with value: 4.020640000000023.\n",
      "[I 2024-01-10 14:28:00,633] Trial 24 finished with value: 4.020640000000023 and parameters: {'min_samples_leaf': 300, 'max_depth': 10}. Best is trial 1 with value: 4.020640000000023.\n",
      "[I 2024-01-10 14:28:00,989] Trial 26 finished with value: 4.020640000000023 and parameters: {'min_samples_leaf': 300, 'max_depth': 10}. Best is trial 1 with value: 4.020640000000023.\n",
      "[I 2024-01-10 14:28:01,136] Trial 28 finished with value: 4.020640000000023 and parameters: {'min_samples_leaf': 300, 'max_depth': 10}. Best is trial 1 with value: 4.020640000000023.\n",
      "[I 2024-01-10 14:28:01,726] Trial 29 finished with value: 4.020640000000023 and parameters: {'min_samples_leaf': 300, 'max_depth': 10}. Best is trial 1 with value: 4.020640000000023.\n",
      "[I 2024-01-10 14:28:02,707] Trial 32 finished with value: 0.3619260000000235 and parameters: {'min_samples_leaf': 800, 'max_depth': 10}. Best is trial 1 with value: 4.020640000000023.\n",
      "[I 2024-01-10 14:28:04,889] Trial 36 finished with value: 0.3619260000000235 and parameters: {'min_samples_leaf': 500, 'max_depth': 15}. Best is trial 1 with value: 4.020640000000023.\n",
      "[I 2024-01-10 14:28:04,892] Trial 31 finished with value: -2.4917439999999758 and parameters: {'min_samples_leaf': 200, 'max_depth': 10}. Best is trial 1 with value: 4.020640000000023.\n",
      "[I 2024-01-10 14:28:05,115] Trial 30 finished with value: -2.4917439999999758 and parameters: {'min_samples_leaf': 200, 'max_depth': 10}. Best is trial 1 with value: 4.020640000000023.\n",
      "[I 2024-01-10 14:28:05,200] Trial 34 finished with value: -2.4917439999999758 and parameters: {'min_samples_leaf': 200, 'max_depth': 10}. Best is trial 1 with value: 4.020640000000023.\n",
      "[I 2024-01-10 14:28:05,202] Trial 33 finished with value: -2.4917439999999758 and parameters: {'min_samples_leaf': 200, 'max_depth': 10}. Best is trial 1 with value: 4.020640000000023.\n",
      "[I 2024-01-10 14:28:05,432] Trial 37 finished with value: 0.3619260000000235 and parameters: {'min_samples_leaf': 500, 'max_depth': 15}. Best is trial 1 with value: 4.020640000000023.\n",
      "[I 2024-01-10 14:28:05,957] Trial 35 finished with value: -2.4917439999999758 and parameters: {'min_samples_leaf': 200, 'max_depth': 15}. Best is trial 1 with value: 4.020640000000023.\n",
      "[I 2024-01-10 14:28:07,816] Trial 38 finished with value: -2.4917439999999758 and parameters: {'min_samples_leaf': 200, 'max_depth': 15}. Best is trial 1 with value: 4.020640000000023.\n",
      "[I 2024-01-10 14:28:08,212] Trial 40 finished with value: 0.3619260000000235 and parameters: {'min_samples_leaf': 500, 'max_depth': 15}. Best is trial 1 with value: 4.020640000000023.\n",
      "[I 2024-01-10 14:28:08,224] Trial 39 finished with value: 0.3619260000000235 and parameters: {'min_samples_leaf': 500, 'max_depth': 15}. Best is trial 1 with value: 4.020640000000023.\n",
      "[I 2024-01-10 14:28:08,891] Trial 44 finished with value: 0.3619260000000235 and parameters: {'min_samples_leaf': 500, 'max_depth': 15}. Best is trial 1 with value: 4.020640000000023.\n",
      "[I 2024-01-10 14:28:09,085] Trial 42 finished with value: 0.3619260000000235 and parameters: {'min_samples_leaf': 500, 'max_depth': 15}. Best is trial 1 with value: 4.020640000000023.\n",
      "[I 2024-01-10 14:28:09,088] Trial 41 finished with value: 0.3619260000000235 and parameters: {'min_samples_leaf': 500, 'max_depth': 15}. Best is trial 1 with value: 4.020640000000023.\n",
      "[I 2024-01-10 14:28:09,197] Trial 43 finished with value: 0.3619260000000235 and parameters: {'min_samples_leaf': 500, 'max_depth': 15}. Best is trial 1 with value: 4.020640000000023.\n"
     ]
    },
    {
     "name": "stderr",
     "output_type": "stream",
     "text": [
      "[I 2024-01-10 14:28:09,892] Trial 45 finished with value: 0.3619260000000235 and parameters: {'min_samples_leaf': 500, 'max_depth': 25}. Best is trial 1 with value: 4.020640000000023.\n",
      "[I 2024-01-10 14:28:12,976] Trial 48 finished with value: 4.020640000000023 and parameters: {'min_samples_leaf': 300, 'max_depth': 25}. Best is trial 1 with value: 4.020640000000023.\n",
      "[I 2024-01-10 14:28:13,274] Trial 49 finished with value: 4.020640000000023 and parameters: {'min_samples_leaf': 300, 'max_depth': 25}. Best is trial 1 with value: 4.020640000000023.\n",
      "[I 2024-01-10 14:28:13,826] Trial 53 finished with value: -1.5933379999999886 and parameters: {'min_samples_leaf': 100, 'max_depth': 5}. Best is trial 1 with value: 4.020640000000023.\n",
      "[I 2024-01-10 14:28:14,337] Trial 46 finished with value: -9.088705999999991 and parameters: {'min_samples_leaf': 100, 'max_depth': 25}. Best is trial 1 with value: 4.020640000000023.\n",
      "[I 2024-01-10 14:28:14,886] Trial 47 finished with value: -9.088705999999991 and parameters: {'min_samples_leaf': 100, 'max_depth': 25}. Best is trial 1 with value: 4.020640000000023.\n",
      "[I 2024-01-10 14:28:15,881] Trial 51 finished with value: -9.088705999999991 and parameters: {'min_samples_leaf': 100, 'max_depth': 25}. Best is trial 1 with value: 4.020640000000023.\n",
      "[I 2024-01-10 14:28:15,882] Trial 52 finished with value: -9.088705999999991 and parameters: {'min_samples_leaf': 100, 'max_depth': 25}. Best is trial 1 with value: 4.020640000000023.\n",
      "[I 2024-01-10 14:28:16,326] Trial 50 finished with value: -9.088705999999991 and parameters: {'min_samples_leaf': 100, 'max_depth': 25}. Best is trial 1 with value: 4.020640000000023.\n",
      "[I 2024-01-10 14:28:16,501] Trial 57 finished with value: -26.053565999999996 and parameters: {'min_samples_leaf': 1200, 'max_depth': 20}. Best is trial 1 with value: 4.020640000000023.\n",
      "[I 2024-01-10 14:28:16,848] Trial 54 finished with value: -1.5933379999999886 and parameters: {'min_samples_leaf': 100, 'max_depth': 5}. Best is trial 1 with value: 4.020640000000023.\n",
      "[I 2024-01-10 14:28:16,936] Trial 55 finished with value: -1.5933379999999886 and parameters: {'min_samples_leaf': 100, 'max_depth': 5}. Best is trial 1 with value: 4.020640000000023.\n",
      "[I 2024-01-10 14:28:17,898] Trial 58 finished with value: 4.020640000000023 and parameters: {'min_samples_leaf': 300, 'max_depth': 5}. Best is trial 1 with value: 4.020640000000023.\n",
      "[I 2024-01-10 14:28:20,048] Trial 62 finished with value: 4.020640000000023 and parameters: {'min_samples_leaf': 300, 'max_depth': 5}. Best is trial 1 with value: 4.020640000000023.\n",
      "[I 2024-01-10 14:28:20,690] Trial 56 finished with value: -9.088705999999991 and parameters: {'min_samples_leaf': 100, 'max_depth': 20}. Best is trial 1 with value: 4.020640000000023.\n",
      "[I 2024-01-10 14:28:21,101] Trial 60 finished with value: 4.020640000000023 and parameters: {'min_samples_leaf': 300, 'max_depth': 20}. Best is trial 1 with value: 4.020640000000023.\n",
      "[I 2024-01-10 14:28:21,201] Trial 63 finished with value: 4.020640000000023 and parameters: {'min_samples_leaf': 300, 'max_depth': 20}. Best is trial 1 with value: 4.020640000000023.\n",
      "[I 2024-01-10 14:28:21,203] Trial 59 finished with value: 4.020640000000023 and parameters: {'min_samples_leaf': 300, 'max_depth': 20}. Best is trial 1 with value: 4.020640000000023.\n",
      "[I 2024-01-10 14:28:21,209] Trial 64 finished with value: 4.020640000000023 and parameters: {'min_samples_leaf': 300, 'max_depth': 20}. Best is trial 1 with value: 4.020640000000023.\n",
      "[I 2024-01-10 14:28:21,589] Trial 61 finished with value: 4.020640000000023 and parameters: {'min_samples_leaf': 300, 'max_depth': 20}. Best is trial 1 with value: 4.020640000000023.\n",
      "[I 2024-01-10 14:28:21,930] Trial 65 finished with value: 2.2530960000000224 and parameters: {'min_samples_leaf': 400, 'max_depth': 20}. Best is trial 1 with value: 4.020640000000023.\n",
      "[I 2024-01-10 14:28:24,468] Trial 66 finished with value: 2.2530960000000224 and parameters: {'min_samples_leaf': 400, 'max_depth': 20}. Best is trial 1 with value: 4.020640000000023.\n",
      "[I 2024-01-10 14:28:25,525] Trial 70 finished with value: 2.2530960000000224 and parameters: {'min_samples_leaf': 400, 'max_depth': 10}. Best is trial 1 with value: 4.020640000000023.\n",
      "[I 2024-01-10 14:28:25,642] Trial 67 finished with value: 2.2530960000000224 and parameters: {'min_samples_leaf': 400, 'max_depth': 10}. Best is trial 1 with value: 4.020640000000023.\n",
      "[I 2024-01-10 14:28:25,721] Trial 71 finished with value: 2.2530960000000224 and parameters: {'min_samples_leaf': 400, 'max_depth': 10}. Best is trial 1 with value: 4.020640000000023.\n",
      "[I 2024-01-10 14:28:25,833] Trial 68 finished with value: 2.2530960000000224 and parameters: {'min_samples_leaf': 400, 'max_depth': 10}. Best is trial 1 with value: 4.020640000000023.\n",
      "[I 2024-01-10 14:28:26,023] Trial 69 finished with value: 2.2530960000000224 and parameters: {'min_samples_leaf': 400, 'max_depth': 10}. Best is trial 1 with value: 4.020640000000023.\n",
      "[I 2024-01-10 14:28:26,130] Trial 73 finished with value: 2.2530960000000224 and parameters: {'min_samples_leaf': 400, 'max_depth': 10}. Best is trial 1 with value: 4.020640000000023.\n",
      "[I 2024-01-10 14:28:26,166] Trial 72 finished with value: 2.2530960000000224 and parameters: {'min_samples_leaf': 400, 'max_depth': 10}. Best is trial 1 with value: 4.020640000000023.\n",
      "[I 2024-01-10 14:28:28,974] Trial 74 finished with value: 2.2530960000000224 and parameters: {'min_samples_leaf': 400, 'max_depth': 10}. Best is trial 1 with value: 4.020640000000023.\n",
      "[I 2024-01-10 14:28:29,156] Trial 76 finished with value: 0.3619260000000235 and parameters: {'min_samples_leaf': 600, 'max_depth': 10}. Best is trial 1 with value: 4.020640000000023.\n",
      "[I 2024-01-10 14:28:29,515] Trial 77 finished with value: 0.3619260000000235 and parameters: {'min_samples_leaf': 600, 'max_depth': 10}. Best is trial 1 with value: 4.020640000000023.\n",
      "[I 2024-01-10 14:28:30,571] Trial 75 finished with value: -2.4917439999999758 and parameters: {'min_samples_leaf': 200, 'max_depth': 10}. Best is trial 1 with value: 4.020640000000023.\n",
      "[I 2024-01-10 14:28:31,122] Trial 80 finished with value: -2.4917439999999758 and parameters: {'min_samples_leaf': 200, 'max_depth': 10}. Best is trial 1 with value: 4.020640000000023.\n",
      "[I 2024-01-10 14:28:31,329] Trial 79 finished with value: -2.4917439999999758 and parameters: {'min_samples_leaf': 200, 'max_depth': 10}. Best is trial 1 with value: 4.020640000000023.\n",
      "[I 2024-01-10 14:28:31,427] Trial 78 finished with value: -2.4917439999999758 and parameters: {'min_samples_leaf': 200, 'max_depth': 10}. Best is trial 1 with value: 4.020640000000023.\n",
      "[I 2024-01-10 14:28:31,659] Trial 81 finished with value: -2.4917439999999758 and parameters: {'min_samples_leaf': 200, 'max_depth': 10}. Best is trial 1 with value: 4.020640000000023.\n",
      "[I 2024-01-10 14:28:33,794] Trial 82 finished with value: -2.4917439999999758 and parameters: {'min_samples_leaf': 200, 'max_depth': 10}. Best is trial 1 with value: 4.020640000000023.\n",
      "[I 2024-01-10 14:28:34,469] Trial 83 finished with value: -2.4917439999999758 and parameters: {'min_samples_leaf': 200, 'max_depth': 10}. Best is trial 1 with value: 4.020640000000023.\n",
      "[I 2024-01-10 14:28:35,117] Trial 84 finished with value: -2.4917439999999758 and parameters: {'min_samples_leaf': 200, 'max_depth': 10}. Best is trial 1 with value: 4.020640000000023.\n",
      "[I 2024-01-10 14:28:35,392] Trial 85 finished with value: -2.4917439999999758 and parameters: {'min_samples_leaf': 200, 'max_depth': 15}. Best is trial 1 with value: 4.020640000000023.\n",
      "[I 2024-01-10 14:28:35,611] Trial 87 finished with value: 4.020640000000023 and parameters: {'min_samples_leaf': 300, 'max_depth': 15}. Best is trial 1 with value: 4.020640000000023.\n",
      "[I 2024-01-10 14:28:35,948] Trial 86 finished with value: -2.4917439999999758 and parameters: {'min_samples_leaf': 200, 'max_depth': 15}. Best is trial 1 with value: 4.020640000000023.\n",
      "[I 2024-01-10 14:28:36,641] Trial 88 finished with value: 4.020640000000023 and parameters: {'min_samples_leaf': 300, 'max_depth': 15}. Best is trial 1 with value: 4.020640000000023.\n",
      "[I 2024-01-10 14:28:36,762] Trial 89 finished with value: 4.020640000000023 and parameters: {'min_samples_leaf': 300, 'max_depth': 15}. Best is trial 1 with value: 4.020640000000023.\n"
     ]
    },
    {
     "name": "stderr",
     "output_type": "stream",
     "text": [
      "[I 2024-01-10 14:28:38,343] Trial 90 finished with value: 4.020640000000023 and parameters: {'min_samples_leaf': 300, 'max_depth': 15}. Best is trial 1 with value: 4.020640000000023.\n",
      "[I 2024-01-10 14:28:39,179] Trial 96 finished with value: 0.7952580000000218 and parameters: {'min_samples_leaf': 900, 'max_depth': 10}. Best is trial 1 with value: 4.020640000000023.\n",
      "[I 2024-01-10 14:28:39,438] Trial 97 finished with value: 0.7952580000000218 and parameters: {'min_samples_leaf': 900, 'max_depth': 10}. Best is trial 1 with value: 4.020640000000023.\n",
      "[I 2024-01-10 14:28:39,752] Trial 91 finished with value: 4.020640000000023 and parameters: {'min_samples_leaf': 300, 'max_depth': 15}. Best is trial 1 with value: 4.020640000000023.\n",
      "[I 2024-01-10 14:28:39,929] Trial 92 finished with value: 4.020640000000023 and parameters: {'min_samples_leaf': 300, 'max_depth': 15}. Best is trial 1 with value: 4.020640000000023.\n",
      "[I 2024-01-10 14:28:40,088] Trial 93 finished with value: 4.020640000000023 and parameters: {'min_samples_leaf': 300, 'max_depth': 15}. Best is trial 1 with value: 4.020640000000023.\n",
      "[I 2024-01-10 14:28:40,370] Trial 94 finished with value: 4.020640000000023 and parameters: {'min_samples_leaf': 300, 'max_depth': 15}. Best is trial 1 with value: 4.020640000000023.\n",
      "[I 2024-01-10 14:28:40,460] Trial 95 finished with value: 4.020640000000023 and parameters: {'min_samples_leaf': 300, 'max_depth': 15}. Best is trial 1 with value: 4.020640000000023.\n",
      "[I 2024-01-10 14:28:40,875] Trial 98 finished with value: 0.3619260000000235 and parameters: {'min_samples_leaf': 800, 'max_depth': 25}. Best is trial 1 with value: 4.020640000000023.\n",
      "[I 2024-01-10 14:28:42,327] Trial 99 finished with value: 4.020640000000023 and parameters: {'min_samples_leaf': 300, 'max_depth': 25}. Best is trial 1 with value: 4.020640000000023.\n"
     ]
    },
    {
     "name": "stdout",
     "output_type": "stream",
     "text": [
      "CPU times: total: 5min 53s\n",
      "Wall time: 55.9 s\n"
     ]
    }
   ],
   "source": [
    "%%time\n",
    "study.optimize(partial(objective,train=train,labels=y_train,val=valid,val_labels=y_valid,val_rets=valid_stock_returns.values), n_trials=100,n_jobs=-1)"
   ]
  },
  {
   "cell_type": "code",
   "execution_count": 48,
   "metadata": {},
   "outputs": [
    {
     "data": {
      "text/plain": [
       "{'min_samples_leaf': 300, 'max_depth': 25}"
      ]
     },
     "execution_count": 48,
     "metadata": {},
     "output_type": "execute_result"
    }
   ],
   "source": [
    "study.best_params"
   ]
  },
  {
   "cell_type": "markdown",
   "metadata": {},
   "source": [
    "## Instantiating the classifier with hyper-parameters"
   ]
  },
  {
   "cell_type": "code",
   "execution_count": 49,
   "metadata": {},
   "outputs": [],
   "source": [
    "t_clf = DecisionTreeClassifier(**study.best_params,random_state=123)"
   ]
  },
  {
   "cell_type": "markdown",
   "metadata": {},
   "source": [
    "## Now we can fit the tree with the training data"
   ]
  },
  {
   "cell_type": "code",
   "execution_count": 50,
   "metadata": {},
   "outputs": [
    {
     "data": {
      "text/html": [
       "<style>#sk-container-id-2 {color: black;}#sk-container-id-2 pre{padding: 0;}#sk-container-id-2 div.sk-toggleable {background-color: white;}#sk-container-id-2 label.sk-toggleable__label {cursor: pointer;display: block;width: 100%;margin-bottom: 0;padding: 0.3em;box-sizing: border-box;text-align: center;}#sk-container-id-2 label.sk-toggleable__label-arrow:before {content: \"▸\";float: left;margin-right: 0.25em;color: #696969;}#sk-container-id-2 label.sk-toggleable__label-arrow:hover:before {color: black;}#sk-container-id-2 div.sk-estimator:hover label.sk-toggleable__label-arrow:before {color: black;}#sk-container-id-2 div.sk-toggleable__content {max-height: 0;max-width: 0;overflow: hidden;text-align: left;background-color: #f0f8ff;}#sk-container-id-2 div.sk-toggleable__content pre {margin: 0.2em;color: black;border-radius: 0.25em;background-color: #f0f8ff;}#sk-container-id-2 input.sk-toggleable__control:checked~div.sk-toggleable__content {max-height: 200px;max-width: 100%;overflow: auto;}#sk-container-id-2 input.sk-toggleable__control:checked~label.sk-toggleable__label-arrow:before {content: \"▾\";}#sk-container-id-2 div.sk-estimator input.sk-toggleable__control:checked~label.sk-toggleable__label {background-color: #d4ebff;}#sk-container-id-2 div.sk-label input.sk-toggleable__control:checked~label.sk-toggleable__label {background-color: #d4ebff;}#sk-container-id-2 input.sk-hidden--visually {border: 0;clip: rect(1px 1px 1px 1px);clip: rect(1px, 1px, 1px, 1px);height: 1px;margin: -1px;overflow: hidden;padding: 0;position: absolute;width: 1px;}#sk-container-id-2 div.sk-estimator {font-family: monospace;background-color: #f0f8ff;border: 1px dotted black;border-radius: 0.25em;box-sizing: border-box;margin-bottom: 0.5em;}#sk-container-id-2 div.sk-estimator:hover {background-color: #d4ebff;}#sk-container-id-2 div.sk-parallel-item::after {content: \"\";width: 100%;border-bottom: 1px solid gray;flex-grow: 1;}#sk-container-id-2 div.sk-label:hover label.sk-toggleable__label {background-color: #d4ebff;}#sk-container-id-2 div.sk-serial::before {content: \"\";position: absolute;border-left: 1px solid gray;box-sizing: border-box;top: 0;bottom: 0;left: 50%;z-index: 0;}#sk-container-id-2 div.sk-serial {display: flex;flex-direction: column;align-items: center;background-color: white;padding-right: 0.2em;padding-left: 0.2em;position: relative;}#sk-container-id-2 div.sk-item {position: relative;z-index: 1;}#sk-container-id-2 div.sk-parallel {display: flex;align-items: stretch;justify-content: center;background-color: white;position: relative;}#sk-container-id-2 div.sk-item::before, #sk-container-id-2 div.sk-parallel-item::before {content: \"\";position: absolute;border-left: 1px solid gray;box-sizing: border-box;top: 0;bottom: 0;left: 50%;z-index: -1;}#sk-container-id-2 div.sk-parallel-item {display: flex;flex-direction: column;z-index: 1;position: relative;background-color: white;}#sk-container-id-2 div.sk-parallel-item:first-child::after {align-self: flex-end;width: 50%;}#sk-container-id-2 div.sk-parallel-item:last-child::after {align-self: flex-start;width: 50%;}#sk-container-id-2 div.sk-parallel-item:only-child::after {width: 0;}#sk-container-id-2 div.sk-dashed-wrapped {border: 1px dashed gray;margin: 0 0.4em 0.5em 0.4em;box-sizing: border-box;padding-bottom: 0.4em;background-color: white;}#sk-container-id-2 div.sk-label label {font-family: monospace;font-weight: bold;display: inline-block;line-height: 1.2em;}#sk-container-id-2 div.sk-label-container {text-align: center;}#sk-container-id-2 div.sk-container {/* jupyter's `normalize.less` sets `[hidden] { display: none; }` but bootstrap.min.css set `[hidden] { display: none !important; }` so we also need the `!important` here to be able to override the default hidden behavior on the sphinx rendered scikit-learn.org. See: https://github.com/scikit-learn/scikit-learn/issues/21755 */display: inline-block !important;position: relative;}#sk-container-id-2 div.sk-text-repr-fallback {display: none;}</style><div id=\"sk-container-id-2\" class=\"sk-top-container\"><div class=\"sk-text-repr-fallback\"><pre>DecisionTreeClassifier(max_depth=25, min_samples_leaf=300, random_state=123)</pre><b>In a Jupyter environment, please rerun this cell to show the HTML representation or trust the notebook. <br />On GitHub, the HTML representation is unable to render, please try loading this page with nbviewer.org.</b></div><div class=\"sk-container\" hidden><div class=\"sk-item\"><div class=\"sk-estimator sk-toggleable\"><input class=\"sk-toggleable__control sk-hidden--visually\" id=\"sk-estimator-id-2\" type=\"checkbox\" checked><label for=\"sk-estimator-id-2\" class=\"sk-toggleable__label sk-toggleable__label-arrow\">DecisionTreeClassifier</label><div class=\"sk-toggleable__content\"><pre>DecisionTreeClassifier(max_depth=25, min_samples_leaf=300, random_state=123)</pre></div></div></div></div></div>"
      ],
      "text/plain": [
       "DecisionTreeClassifier(max_depth=25, min_samples_leaf=300, random_state=123)"
      ]
     },
     "execution_count": 50,
     "metadata": {},
     "output_type": "execute_result"
    }
   ],
   "source": [
    "t_clf.fit(train,y_train)"
   ]
  },
  {
   "cell_type": "markdown",
   "metadata": {},
   "source": [
    "### and see how well it fits the training data"
   ]
  },
  {
   "cell_type": "code",
   "execution_count": 51,
   "metadata": {},
   "outputs": [
    {
     "data": {
      "text/plain": [
       "0.5901578801588034"
      ]
     },
     "execution_count": 51,
     "metadata": {},
     "output_type": "execute_result"
    }
   ],
   "source": [
    "t_clf.score(train,y_train)"
   ]
  },
  {
   "cell_type": "markdown",
   "metadata": {},
   "source": [
    "### and predicts the validation data"
   ]
  },
  {
   "cell_type": "code",
   "execution_count": 52,
   "metadata": {},
   "outputs": [
    {
     "data": {
      "text/plain": [
       "0.5844155844155844"
      ]
     },
     "execution_count": 52,
     "metadata": {},
     "output_type": "execute_result"
    }
   ],
   "source": [
    "t_clf.score(valid,y_valid)"
   ]
  },
  {
   "cell_type": "markdown",
   "metadata": {},
   "source": [
    "### The predicted labels on the validation set and their counts"
   ]
  },
  {
   "cell_type": "code",
   "execution_count": 53,
   "metadata": {},
   "outputs": [],
   "source": [
    "pred_valid = t_clf.predict(valid)"
   ]
  },
  {
   "cell_type": "code",
   "execution_count": 54,
   "metadata": {},
   "outputs": [
    {
     "data": {
      "text/plain": [
       "Counter({1: 1055, -1: 100})"
      ]
     },
     "execution_count": 54,
     "metadata": {},
     "output_type": "execute_result"
    }
   ],
   "source": [
    "Counter(pred_valid)"
   ]
  },
  {
   "cell_type": "code",
   "execution_count": 55,
   "metadata": {},
   "outputs": [
    {
     "data": {
      "text/plain": [
       "array([[ 68,   8,  24],\n",
       "       [  0,   0,   0],\n",
       "       [335, 113, 607]], dtype=int64)"
      ]
     },
     "execution_count": 55,
     "metadata": {},
     "output_type": "execute_result"
    }
   ],
   "source": [
    "confusion_matrix(pred_valid,y_valid)"
   ]
  },
  {
   "cell_type": "markdown",
   "metadata": {},
   "source": [
    "### Visualizing the tree"
   ]
  },
  {
   "cell_type": "code",
   "execution_count": 56,
   "metadata": {},
   "outputs": [
    {
     "data": {
      "text/plain": [
       "'tree_11.pdf'"
      ]
     },
     "execution_count": 56,
     "metadata": {},
     "output_type": "execute_result"
    }
   ],
   "source": [
    "dot_data = tree.export_graphviz(t_clf,out_file=None)\n",
    "graph = graphviz.Source(dot_data)\n",
    "graph.render('tree_11')"
   ]
  },
  {
   "cell_type": "code",
   "execution_count": null,
   "metadata": {},
   "outputs": [],
   "source": []
  },
  {
   "cell_type": "markdown",
   "metadata": {},
   "source": [
    "## Now we are going to cut the features by looking at their importance in the tree. The visualization of the tree shows that only a few of the features are actually used"
   ]
  },
  {
   "cell_type": "code",
   "execution_count": null,
   "metadata": {},
   "outputs": [],
   "source": [
    "def tree_feat_importance(m, df):\n",
    "    return pd.DataFrame({'cols':df.columns, 'feat_imp':m.feature_importances_}\n",
    "                       ).sort_values('feat_imp', ascending=False)\n",
    "\n",
    "def plot_fi(fi): return fi.plot('cols', 'feat_imp', 'barh', figsize=(12,7), legend=False)"
   ]
  },
  {
   "cell_type": "code",
   "execution_count": null,
   "metadata": {},
   "outputs": [],
   "source": [
    "fi = tree_feat_importance(t_clf,train)"
   ]
  },
  {
   "cell_type": "code",
   "execution_count": null,
   "metadata": {
    "scrolled": true
   },
   "outputs": [],
   "source": [
    "fi"
   ]
  },
  {
   "cell_type": "markdown",
   "metadata": {},
   "source": [
    "## We are only going to use the features that have positive feature importance i.e. occur in the tree"
   ]
  },
  {
   "cell_type": "code",
   "execution_count": null,
   "metadata": {},
   "outputs": [],
   "source": [
    "features = fi[(fi['feat_imp'] > 0.00)]"
   ]
  },
  {
   "cell_type": "code",
   "execution_count": null,
   "metadata": {},
   "outputs": [],
   "source": [
    "features"
   ]
  },
  {
   "cell_type": "markdown",
   "metadata": {},
   "source": [
    "### Feature importance spectrum"
   ]
  },
  {
   "cell_type": "code",
   "execution_count": null,
   "metadata": {},
   "outputs": [],
   "source": [
    "plot_fi(features);"
   ]
  },
  {
   "cell_type": "markdown",
   "metadata": {},
   "source": [
    "#### We are left with a much smaller set of features"
   ]
  },
  {
   "cell_type": "code",
   "execution_count": null,
   "metadata": {},
   "outputs": [],
   "source": [
    "cols = features['cols'].values"
   ]
  },
  {
   "cell_type": "code",
   "execution_count": null,
   "metadata": {},
   "outputs": [],
   "source": [
    "len(cols)"
   ]
  },
  {
   "cell_type": "code",
   "execution_count": null,
   "metadata": {},
   "outputs": [],
   "source": [
    "cols"
   ]
  },
  {
   "cell_type": "markdown",
   "metadata": {},
   "source": [
    "### We cut down the training and validation data sets to only include the relevant features and retrain the tree on the reduced data set"
   ]
  },
  {
   "cell_type": "code",
   "execution_count": null,
   "metadata": {},
   "outputs": [],
   "source": [
    "train_red = pd.DataFrame(data = scaler.fit_transform(train[cols].values),columns = cols)\n",
    "valid_red = pd.DataFrame(data = scaler.transform(valid[cols].values),columns = cols)\n",
    "test_red = pd.DataFrame(data = scaler.transform(test[cols].values),columns = cols)"
   ]
  },
  {
   "cell_type": "code",
   "execution_count": null,
   "metadata": {},
   "outputs": [],
   "source": [
    "t_clf.fit(train_red,y_train)"
   ]
  },
  {
   "cell_type": "code",
   "execution_count": null,
   "metadata": {},
   "outputs": [],
   "source": [
    "t_clf.score(train_red,y_train)"
   ]
  },
  {
   "cell_type": "code",
   "execution_count": null,
   "metadata": {},
   "outputs": [],
   "source": [
    "t_clf.score(valid_red,y_valid)"
   ]
  },
  {
   "cell_type": "code",
   "execution_count": null,
   "metadata": {},
   "outputs": [],
   "source": [
    "t_clf.feature_names_in_"
   ]
  },
  {
   "cell_type": "code",
   "execution_count": null,
   "metadata": {},
   "outputs": [],
   "source": [
    "pred_valid = t_clf.predict(valid_red)"
   ]
  },
  {
   "cell_type": "code",
   "execution_count": null,
   "metadata": {},
   "outputs": [],
   "source": [
    "Counter(y_valid)"
   ]
  },
  {
   "cell_type": "code",
   "execution_count": null,
   "metadata": {},
   "outputs": [],
   "source": [
    "Counter(pred_valid)"
   ]
  },
  {
   "cell_type": "code",
   "execution_count": null,
   "metadata": {},
   "outputs": [],
   "source": [
    "confusion_matrix(y_valid,pred_valid)"
   ]
  },
  {
   "cell_type": "code",
   "execution_count": null,
   "metadata": {},
   "outputs": [],
   "source": [
    "profit = (pred_valid * df_valid['next_period_return'].values).sum()"
   ]
  },
  {
   "cell_type": "code",
   "execution_count": null,
   "metadata": {},
   "outputs": [],
   "source": [
    "profit"
   ]
  },
  {
   "cell_type": "code",
   "execution_count": null,
   "metadata": {},
   "outputs": [],
   "source": [
    "valid_1 = valid_red.copy()\n",
    "\n",
    "valid_1['rets'] = df_valid['next_period_return'].values"
   ]
  },
  {
   "cell_type": "code",
   "execution_count": null,
   "metadata": {},
   "outputs": [],
   "source": [
    "len(valid_1.columns)"
   ]
  },
  {
   "cell_type": "code",
   "execution_count": null,
   "metadata": {},
   "outputs": [],
   "source": [
    "train_1 = train_red.copy()\n",
    "\n",
    "train_1['rets'] = df_train['next_period_return'].values"
   ]
  },
  {
   "cell_type": "code",
   "execution_count": null,
   "metadata": {},
   "outputs": [],
   "source": [
    "len(train_1.columns)"
   ]
  },
  {
   "cell_type": "code",
   "execution_count": null,
   "metadata": {},
   "outputs": [],
   "source": [
    "pred = t_clf.predict(valid_red)"
   ]
  },
  {
   "cell_type": "code",
   "execution_count": null,
   "metadata": {},
   "outputs": [],
   "source": [
    "(pred*valid_1[valid_1.columns[-1]].values).sum()"
   ]
  },
  {
   "cell_type": "code",
   "execution_count": null,
   "metadata": {},
   "outputs": [],
   "source": []
  },
  {
   "cell_type": "code",
   "execution_count": null,
   "metadata": {},
   "outputs": [],
   "source": [
    "# !pip install shap"
   ]
  },
  {
   "cell_type": "code",
   "execution_count": null,
   "metadata": {},
   "outputs": [],
   "source": [
    "import shap"
   ]
  },
  {
   "cell_type": "code",
   "execution_count": null,
   "metadata": {},
   "outputs": [],
   "source": [
    "def model(features):\n",
    "    tree_features = features[features.columns[:-1].values]\n",
    "\n",
    "    pred = t_clf.predict(tree_features)\n",
    "\n",
    "    ret = pred * features[features.columns[-1]]\n",
    "\n",
    "    return ret"
   ]
  },
  {
   "cell_type": "code",
   "execution_count": null,
   "metadata": {},
   "outputs": [],
   "source": [
    "explainer = shap.explainers.Permutation(model,valid_1)"
   ]
  },
  {
   "cell_type": "code",
   "execution_count": null,
   "metadata": {},
   "outputs": [],
   "source": [
    "shap_values = explainer(valid_1,max_evals=2000,)"
   ]
  },
  {
   "cell_type": "code",
   "execution_count": null,
   "metadata": {},
   "outputs": [],
   "source": [
    "shap_values.values.shape"
   ]
  },
  {
   "cell_type": "code",
   "execution_count": null,
   "metadata": {},
   "outputs": [],
   "source": [
    "shap.plots.bar(shap_values[:,:-1],max_display=30)"
   ]
  },
  {
   "cell_type": "code",
   "execution_count": null,
   "metadata": {},
   "outputs": [],
   "source": [
    "\n",
    "shap_cols = ['oiadpq','psq','fcf_yield','market_cap','gpmq','book_value_yield','oepsxq']\n",
    "#operation income after depreciation-diluted, yearly sales,free cash flow yield,market cap,gross profit margin,book value yield,\n",
    "#operating earnings per share-diluted"
   ]
  },
  {
   "cell_type": "code",
   "execution_count": null,
   "metadata": {},
   "outputs": [],
   "source": [
    "len(shap_cols)"
   ]
  },
  {
   "cell_type": "code",
   "execution_count": null,
   "metadata": {},
   "outputs": [],
   "source": [
    "len(valid_1.columns[:-1])"
   ]
  },
  {
   "cell_type": "code",
   "execution_count": null,
   "metadata": {},
   "outputs": [],
   "source": [
    "shap.summary_plot(shap_values[:,:-1], features=valid_1[valid_1.columns[:-1]],max_display=10)"
   ]
  },
  {
   "cell_type": "code",
   "execution_count": null,
   "metadata": {},
   "outputs": [],
   "source": [
    "len(shap_values[:,'fcf_yield'].values[shap_values[:,'fcf_yield'].values>0])"
   ]
  },
  {
   "cell_type": "code",
   "execution_count": null,
   "metadata": {},
   "outputs": [],
   "source": [
    "shap.summary_plot(shap_values[:,:-1], features=list(valid_1.columns), class_inds=[2], max_display=10)"
   ]
  },
  {
   "cell_type": "code",
   "execution_count": null,
   "metadata": {},
   "outputs": [],
   "source": [
    "shap.plots.waterfall(shap_values[1000,:-1],max_display=10)"
   ]
  },
  {
   "cell_type": "code",
   "execution_count": null,
   "metadata": {},
   "outputs": [],
   "source": [
    "shap.plots.scatter(shap_values[:,'fcf_yield'], color=shap_values,xmax=2,xmin=-2,ymin=-0.05,ymax=0.05)"
   ]
  },
  {
   "cell_type": "code",
   "execution_count": null,
   "metadata": {},
   "outputs": [],
   "source": [
    "train_red.columns"
   ]
  },
  {
   "cell_type": "code",
   "execution_count": null,
   "metadata": {},
   "outputs": [],
   "source": [
    "sample_ind = 1000\n",
    "shap.partial_dependence_plot(\n",
    "    'market_cap', model, valid_1, model_expected_value=True,\n",
    "    feature_expected_value=True, ice=True,\n",
    "    shap_values=shap_values[sample_ind:sample_ind+1,:],xmax=2,xmin=-2)"
   ]
  },
  {
   "cell_type": "code",
   "execution_count": null,
   "metadata": {},
   "outputs": [],
   "source": [
    "clustering = shap.utils.hclust(test_1[test_1.columns[:-1]], y_test) # by default this trains (X.shape[1] choose 2) 2-feature XGBoost models\n",
    "shap.plots.bar(shap_values[:,:-1], clustering=clustering)"
   ]
  },
  {
   "cell_type": "code",
   "execution_count": null,
   "metadata": {},
   "outputs": [],
   "source": [
    "shap.initjs()\n",
    "shap.plots.force(shap_values[1000,:-1])"
   ]
  },
  {
   "cell_type": "code",
   "execution_count": null,
   "metadata": {},
   "outputs": [],
   "source": [
    "shap.force_plot( shap_values[:,:-1], valid_1[valid_1.columns[:-1]])"
   ]
  },
  {
   "cell_type": "code",
   "execution_count": null,
   "metadata": {},
   "outputs": [],
   "source": [
    "shap.plots.heatmap(shap_values[:,:-1])"
   ]
  },
  {
   "cell_type": "code",
   "execution_count": null,
   "metadata": {},
   "outputs": [],
   "source": [
    "shap.plots.bar(shap_values[1000,:-1])"
   ]
  },
  {
   "cell_type": "markdown",
   "metadata": {},
   "source": [
    "## How well does it do on the test set?"
   ]
  },
  {
   "cell_type": "code",
   "execution_count": null,
   "metadata": {},
   "outputs": [],
   "source": [
    "t_clf1 = DecisionTreeClassifier(**study.best_params,random_state=123)"
   ]
  },
  {
   "cell_type": "code",
   "execution_count": null,
   "metadata": {},
   "outputs": [],
   "source": [
    "t_clf1.fit(train[shap_cols],y_train)"
   ]
  },
  {
   "cell_type": "code",
   "execution_count": null,
   "metadata": {},
   "outputs": [],
   "source": [
    "test_set = test_red[shap_cols]\n",
    "pred_test = t_clf1.predict(test_set)\n",
    "# pred_test_avr = pred_test_avr/np.abs(pred_test_avr).sum()\n",
    "(pred_test * df_test['next_period_return']).sum()"
   ]
  },
  {
   "cell_type": "code",
   "execution_count": null,
   "metadata": {},
   "outputs": [],
   "source": [
    "dot_data = tree.export_graphviz(t_clf1,out_file=None)\n",
    "graph = graphviz.Source(dot_data)\n",
    "graph.render('tree_12')"
   ]
  },
  {
   "cell_type": "code",
   "execution_count": null,
   "metadata": {},
   "outputs": [],
   "source": [
    "t_clf1.feature_names_in_"
   ]
  },
  {
   "cell_type": "markdown",
   "metadata": {},
   "source": [
    "## If we were 100% correct on the test set we would get this profit"
   ]
  },
  {
   "cell_type": "code",
   "execution_count": null,
   "metadata": {},
   "outputs": [],
   "source": [
    "(y_test * df_test['pred_rel_return']).sum()"
   ]
  },
  {
   "cell_type": "markdown",
   "metadata": {},
   "source": [
    "## A totally random strategy where we randomly decide whether to buy or sell"
   ]
  },
  {
   "cell_type": "code",
   "execution_count": null,
   "metadata": {},
   "outputs": [],
   "source": [
    "m = len(df_test['next_period_return'])"
   ]
  },
  {
   "cell_type": "code",
   "execution_count": null,
   "metadata": {},
   "outputs": [],
   "source": [
    "random_predictions = []\n",
    "for _ in range(1000):\n",
    "    pred_random = np.random.choice([-1,0,1],m)\n",
    "    random_predictions.append((pred_random * df_test['next_period_return']).sum())\n",
    "    "
   ]
  },
  {
   "cell_type": "code",
   "execution_count": null,
   "metadata": {},
   "outputs": [],
   "source": [
    "plt.hist(random_predictions,bins=30,density=True);"
   ]
  },
  {
   "cell_type": "code",
   "execution_count": null,
   "metadata": {},
   "outputs": [],
   "source": [
    "np.mean(random_predictions)"
   ]
  },
  {
   "cell_type": "markdown",
   "metadata": {},
   "source": [
    "## Now we run this strategy over the whole period and see how it performs"
   ]
  },
  {
   "cell_type": "code",
   "execution_count": null,
   "metadata": {},
   "outputs": [],
   "source": [
    "start_dates = [pd.to_datetime('2001-01-01') + pd.DateOffset(months = 3*i) for i in range(57)]\n",
    "end_dates = [d + pd.DateOffset(months = 36) for d in start_dates]"
   ]
  },
  {
   "cell_type": "code",
   "execution_count": null,
   "metadata": {},
   "outputs": [],
   "source": [
    "training_frames = [data.loc[d:d+pd.DateOffset(months = 36)] for d in start_dates]\n",
    "test_frames = [data.loc[d + pd.DateOffset(months=6):d+pd.DateOffset(months = 9)] for d in end_dates]"
   ]
  },
  {
   "cell_type": "code",
   "execution_count": null,
   "metadata": {},
   "outputs": [],
   "source": [
    "training_data = [d.reset_index() for d in training_frames]"
   ]
  },
  {
   "cell_type": "code",
   "execution_count": null,
   "metadata": {},
   "outputs": [],
   "source": [
    "test_data = [d.reset_index() for d in test_frames]"
   ]
  },
  {
   "cell_type": "code",
   "execution_count": null,
   "metadata": {},
   "outputs": [],
   "source": [
    "training_labels = [d['rel_performance'].values for d in training_frames]"
   ]
  },
  {
   "cell_type": "code",
   "execution_count": null,
   "metadata": {},
   "outputs": [],
   "source": [
    "scalers = [StandardScaler() for _ in range(len(training_data))]\n",
    "           \n",
    "opt_training_data = [pd.DataFrame(scalers[i].fit_transform(training_frames[i][shap_cols].values),columns=shap_cols) for i in range(len(training_data))]\n",
    "opt_test_data = [pd.DataFrame(scalers[i].transform(test_frames[i][shap_cols].values),columns=shap_cols) for i in range(len(test_data))]"
   ]
  },
  {
   "cell_type": "code",
   "execution_count": null,
   "metadata": {},
   "outputs": [],
   "source": [
    "x = [1]\n",
    "ret = []\n",
    "\n",
    "for i in range(len(start_dates)-1):\n",
    "        t_clf.fit(opt_training_data[i],training_labels[i])\n",
    "\n",
    "        preds = t_clf.predict(opt_test_data[i])\n",
    "        profit_i = (preds*test_frames[i]['next_period_return']).sum()\n",
    "        ret.append(profit_i)\n",
    "        num_names = len(opt_test_data[i])\n",
    "        x.append(x[i] + (x[i]/num_names)*profit_i)"
   ]
  },
  {
   "cell_type": "code",
   "execution_count": null,
   "metadata": {},
   "outputs": [],
   "source": [
    "plt.plot(x);"
   ]
  },
  {
   "cell_type": "code",
   "execution_count": null,
   "metadata": {},
   "outputs": [],
   "source": [
    "len(x)"
   ]
  },
  {
   "cell_type": "code",
   "execution_count": null,
   "metadata": {},
   "outputs": [],
   "source": [
    "plt.plot(ret)"
   ]
  },
  {
   "cell_type": "markdown",
   "metadata": {},
   "source": [
    "## Compared to a buy-and-hold of SPY"
   ]
  },
  {
   "cell_type": "code",
   "execution_count": null,
   "metadata": {
    "scrolled": true
   },
   "outputs": [],
   "source": [
    "SPY = pd.read_pickle(r'C:\\Users\\niels\\OneDrive\\Machine Learning 2022\\Lecture 2\\SPY_cum_ret.pkl')\n",
    "SPY = SPY.loc['2004-07-01':'2018-09-30']\n",
    "SPY = SPY.resample('Q').ffill()\n",
    "SPY['spy_cum_ret'] = (SPY['spy_cum_ret'] - SPY['spy_cum_ret'][0]+1)\n",
    "SPY['strategy'] = x"
   ]
  },
  {
   "cell_type": "code",
   "execution_count": null,
   "metadata": {},
   "outputs": [],
   "source": [
    "SPY.plot();"
   ]
  },
  {
   "cell_type": "code",
   "execution_count": null,
   "metadata": {},
   "outputs": [],
   "source": [
    "SPY = SPY.resample('Y').ffill()"
   ]
  },
  {
   "cell_type": "code",
   "execution_count": null,
   "metadata": {},
   "outputs": [],
   "source": [
    "SPY.plot();"
   ]
  },
  {
   "cell_type": "code",
   "execution_count": null,
   "metadata": {},
   "outputs": [],
   "source": [
    "strategy_mean_ret = (SPY['strategy'] - 1).diff().mean()\n",
    "strategy_std = (SPY['strategy'] - 1).diff().std()\n",
    "print('Strategy Sharpe Ratio: ',strategy_mean_ret/strategy_std)"
   ]
  },
  {
   "cell_type": "code",
   "execution_count": null,
   "metadata": {},
   "outputs": [],
   "source": [
    "strategy_std"
   ]
  },
  {
   "cell_type": "code",
   "execution_count": null,
   "metadata": {},
   "outputs": [],
   "source": [
    "spy_mean_ret = (SPY['spy_cum_ret'] - 1).diff().mean()\n",
    "spy_std = (SPY['spy_cum_ret'] - 1).diff().std()\n",
    "print('SPY Sharpe Ratio: ',spy_mean_ret/spy_std)"
   ]
  },
  {
   "cell_type": "code",
   "execution_count": null,
   "metadata": {},
   "outputs": [],
   "source": [
    "print(spy_std)"
   ]
  },
  {
   "cell_type": "code",
   "execution_count": null,
   "metadata": {},
   "outputs": [],
   "source": []
  },
  {
   "cell_type": "markdown",
   "metadata": {},
   "source": [
    "### Total Returns"
   ]
  },
  {
   "cell_type": "code",
   "execution_count": null,
   "metadata": {},
   "outputs": [],
   "source": [
    "x[-1]"
   ]
  },
  {
   "cell_type": "code",
   "execution_count": null,
   "metadata": {},
   "outputs": [],
   "source": [
    "SPY['spy_cum_ret'][-1]"
   ]
  },
  {
   "cell_type": "markdown",
   "metadata": {},
   "source": [
    "### Computing the (quarterly) $\\alpha$ of the strategy"
   ]
  },
  {
   "cell_type": "code",
   "execution_count": null,
   "metadata": {},
   "outputs": [],
   "source": [
    "strategy_ret = (SPY['strategy'] - 1).diff().values[1:]\n",
    "spy_ret = (SPY['spy_cum_ret'] - 1).diff().values[1:]"
   ]
  },
  {
   "cell_type": "code",
   "execution_count": null,
   "metadata": {},
   "outputs": [],
   "source": [
    "beta = (np.cov(spy_ret,strategy_ret)/np.var(spy_ret))[1,0]\n",
    "beta"
   ]
  },
  {
   "cell_type": "code",
   "execution_count": null,
   "metadata": {},
   "outputs": [],
   "source": [
    "residual_ret = strategy_ret - beta * spy_ret\n",
    "IR = np.mean(residual_ret)/np.std(residual_ret)\n",
    "IR"
   ]
  },
  {
   "cell_type": "code",
   "execution_count": null,
   "metadata": {},
   "outputs": [],
   "source": [
    "alpha = np.mean(residual_ret)\n",
    "alpha"
   ]
  },
  {
   "cell_type": "code",
   "execution_count": null,
   "metadata": {},
   "outputs": [],
   "source": []
  }
 ],
 "metadata": {
  "kernelspec": {
   "display_name": "Python 3 (ipykernel)",
   "language": "python",
   "name": "python3"
  },
  "language_info": {
   "codemirror_mode": {
    "name": "ipython",
    "version": 3
   },
   "file_extension": ".py",
   "mimetype": "text/x-python",
   "name": "python",
   "nbconvert_exporter": "python",
   "pygments_lexer": "ipython3",
   "version": "3.11.4"
  },
  "latex_envs": {
   "LaTeX_envs_menu_present": true,
   "autoclose": false,
   "autocomplete": true,
   "bibliofile": "biblio.bib",
   "cite_by": "apalike",
   "current_citInitial": 1,
   "eqLabelWithNumbers": true,
   "eqNumInitial": 1,
   "hotkeys": {
    "equation": "Ctrl-E",
    "itemize": "Ctrl-I"
   },
   "labels_anchors": false,
   "latex_user_defs": false,
   "report_style_numbering": false,
   "user_envs_cfg": false
  }
 },
 "nbformat": 4,
 "nbformat_minor": 4
}
