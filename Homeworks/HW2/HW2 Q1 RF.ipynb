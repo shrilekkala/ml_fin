{
 "cells": [
  {
   "cell_type": "code",
   "execution_count": 9,
   "metadata": {
    "ExecuteTime": {
     "end_time": "2020-03-03T02:04:18.675044Z",
     "start_time": "2020-03-03T02:04:15.120387Z"
    }
   },
   "outputs": [
    {
     "name": "stderr",
     "output_type": "stream",
     "text": [
      "/var/folders/sp/wlr6xm2979l8vx6kjh2z1dk00000gn/T/ipykernel_19172/524871555.py:12: FutureWarning: use_inf_as_na option is deprecated and will be removed in a future version. Convert inf values to NaN before operating instead.\n",
      "  pd.set_option('use_inf_as_na', True)\n"
     ]
    }
   ],
   "source": [
    "import pandas as pd\n",
    "import numpy as np\n",
    "import matplotlib.pyplot as plt\n",
    "%matplotlib inline\n",
    "from sklearn.metrics import accuracy_score, confusion_matrix\n",
    "from sklearn.tree import DecisionTreeClassifier\n",
    "from sklearn.ensemble import BaggingClassifier\n",
    "from sklearn.ensemble import RandomForestClassifier\n",
    "import sklearn\n",
    "from sklearn.preprocessing import StandardScaler\n",
    "\n",
    "pd.set_option('use_inf_as_na', True)\n",
    "from collections import Counter\n",
    "\n",
    "from tqdm import tqdm # to measure progress of for loops"
   ]
  },
  {
   "cell_type": "code",
   "execution_count": 10,
   "metadata": {
    "ExecuteTime": {
     "end_time": "2020-03-03T02:04:21.903526Z",
     "start_time": "2020-03-03T02:04:19.923963Z"
    }
   },
   "outputs": [],
   "source": [
    "# load dataset\n",
    "raw_data = pd.read_pickle('dataset.pkl')\n",
    "data = raw_data.drop([x  for x in raw_data.columns if 'fqtr' in x],axis=1)\n",
    "# restrict companies to market cap > 1 billion \n",
    "data = raw_data[raw_data['market_cap'] > 1000.0]\n",
    "data = data.copy()\n",
    "# fill in missing values\n",
    "data.fillna(0.0,inplace=True)"
   ]
  },
  {
   "cell_type": "markdown",
   "metadata": {},
   "source": [
    "### Insert a column in dataset based on stock performance\n",
    "Inserting a column in the dataset where entries are:  \n",
    "- 1 if the stock return is more than 5% higher than the SPY return  \n",
    "- 0 if it is between -10% and +5% relative to the SPY return  \n",
    "- -1 if it is less then -10% relative to the SPY return  "
   ]
  },
  {
   "cell_type": "code",
   "execution_count": 11,
   "metadata": {
    "ExecuteTime": {
     "end_time": "2020-03-03T02:04:24.516696Z",
     "start_time": "2020-03-03T02:04:24.512695Z"
    }
   },
   "outputs": [],
   "source": [
    "# function to return appropriate values based on performance as detailed above\n",
    "def f(x):\n",
    "    if x > 0.05:\n",
    "        return 1\n",
    "    elif x < -0.1:\n",
    "        return -1\n",
    "    else:\n",
    "        return 0"
   ]
  },
  {
   "cell_type": "code",
   "execution_count": 12,
   "metadata": {
    "ExecuteTime": {
     "end_time": "2020-03-03T02:04:30.421746Z",
     "start_time": "2020-03-03T02:04:30.370536Z"
    }
   },
   "outputs": [],
   "source": [
    "# add the new column\n",
    "data['rel_performance'] = data['pred_rel_return'].apply(f)\n",
    "# make the date the index\n",
    "data.reset_index(inplace=True)\n",
    "data.set_index('date',inplace=True)"
   ]
  },
  {
   "cell_type": "code",
   "execution_count": 13,
   "metadata": {},
   "outputs": [
    {
     "data": {
      "text/html": [
       "<div>\n",
       "<style scoped>\n",
       "    .dataframe tbody tr th:only-of-type {\n",
       "        vertical-align: middle;\n",
       "    }\n",
       "\n",
       "    .dataframe tbody tr th {\n",
       "        vertical-align: top;\n",
       "    }\n",
       "\n",
       "    .dataframe thead th {\n",
       "        text-align: right;\n",
       "    }\n",
       "</style>\n",
       "<table border=\"1\" class=\"dataframe\">\n",
       "  <thead>\n",
       "    <tr style=\"text-align: right;\">\n",
       "      <th></th>\n",
       "      <th>pred_rel_return</th>\n",
       "      <th>rel_performance</th>\n",
       "    </tr>\n",
       "    <tr>\n",
       "      <th>date</th>\n",
       "      <th></th>\n",
       "      <th></th>\n",
       "    </tr>\n",
       "  </thead>\n",
       "  <tbody>\n",
       "    <tr>\n",
       "      <th>2000-04-03</th>\n",
       "      <td>0.261336</td>\n",
       "      <td>1</td>\n",
       "    </tr>\n",
       "    <tr>\n",
       "      <th>2000-04-05</th>\n",
       "      <td>-0.337466</td>\n",
       "      <td>-1</td>\n",
       "    </tr>\n",
       "    <tr>\n",
       "      <th>2000-04-06</th>\n",
       "      <td>0.272372</td>\n",
       "      <td>1</td>\n",
       "    </tr>\n",
       "    <tr>\n",
       "      <th>2000-04-07</th>\n",
       "      <td>-0.645219</td>\n",
       "      <td>-1</td>\n",
       "    </tr>\n",
       "    <tr>\n",
       "      <th>2000-04-07</th>\n",
       "      <td>0.192161</td>\n",
       "      <td>1</td>\n",
       "    </tr>\n",
       "    <tr>\n",
       "      <th>2000-04-11</th>\n",
       "      <td>0.153474</td>\n",
       "      <td>1</td>\n",
       "    </tr>\n",
       "    <tr>\n",
       "      <th>2000-04-11</th>\n",
       "      <td>0.317203</td>\n",
       "      <td>1</td>\n",
       "    </tr>\n",
       "    <tr>\n",
       "      <th>2000-04-11</th>\n",
       "      <td>-0.051039</td>\n",
       "      <td>0</td>\n",
       "    </tr>\n",
       "    <tr>\n",
       "      <th>2000-04-11</th>\n",
       "      <td>0.028730</td>\n",
       "      <td>0</td>\n",
       "    </tr>\n",
       "    <tr>\n",
       "      <th>2000-04-11</th>\n",
       "      <td>0.095712</td>\n",
       "      <td>1</td>\n",
       "    </tr>\n",
       "  </tbody>\n",
       "</table>\n",
       "</div>"
      ],
      "text/plain": [
       "            pred_rel_return  rel_performance\n",
       "date                                        \n",
       "2000-04-03         0.261336                1\n",
       "2000-04-05        -0.337466               -1\n",
       "2000-04-06         0.272372                1\n",
       "2000-04-07        -0.645219               -1\n",
       "2000-04-07         0.192161                1\n",
       "2000-04-11         0.153474                1\n",
       "2000-04-11         0.317203                1\n",
       "2000-04-11        -0.051039                0\n",
       "2000-04-11         0.028730                0\n",
       "2000-04-11         0.095712                1"
      ]
     },
     "execution_count": 13,
     "metadata": {},
     "output_type": "execute_result"
    }
   ],
   "source": [
    "data[['pred_rel_return', 'rel_performance']][100:110]"
   ]
  },
  {
   "cell_type": "code",
   "execution_count": 14,
   "metadata": {},
   "outputs": [
    {
     "name": "stdout",
     "output_type": "stream",
     "text": [
      "DatetimeIndex(['2000-02-09', '2000-02-09', '2000-02-10', '2000-02-11',\n",
      "               '2000-02-15', '2000-02-16', '2000-02-16', '2000-02-16',\n",
      "               '2000-02-16', '2000-02-16',\n",
      "               ...\n",
      "               '2018-12-21', '2018-12-21', '2018-12-21', '2018-12-21',\n",
      "               '2018-12-21', '2018-12-21', '2018-12-21', '2018-12-21',\n",
      "               '2018-12-21', '2018-12-24'],\n",
      "              dtype='datetime64[ns]', name='date', length=111468, freq=None)\n"
     ]
    }
   ],
   "source": [
    "print(data.index)"
   ]
  },
  {
   "cell_type": "markdown",
   "metadata": {},
   "source": [
    "### Split the data into training, validation, and test\n",
    "- Data for training period is from 2007 to 2009 (inclusive, i.e. 3 years)\n",
    "- Data for validation period is 1 quarter after end of training period\n",
    "- Data for test period is immediately proceeding the training period"
   ]
  },
  {
   "cell_type": "code",
   "execution_count": 15,
   "metadata": {
    "ExecuteTime": {
     "end_time": "2020-03-03T02:04:34.295145Z",
     "start_time": "2020-03-03T02:04:34.274571Z"
    }
   },
   "outputs": [],
   "source": [
    "df_1 = data.loc['2007-01-01':'2010-01-01']\n",
    "df_valid = data.loc['2010-04-01':'2010-07-01']\n",
    "df_test = data.loc['2010-07-01':'2010-10-01']"
   ]
  },
  {
   "cell_type": "code",
   "execution_count": 16,
   "metadata": {
    "ExecuteTime": {
     "end_time": "2020-03-03T02:04:37.819124Z",
     "start_time": "2020-03-03T02:04:37.692118Z"
    }
   },
   "outputs": [],
   "source": [
    "train_1 = df_1.reset_index().drop(['ticker','date',\n",
    "                                   'next_period_return',\n",
    "                                   'spy_next_period_return',\n",
    "                                   'rel_performance','pred_rel_return',\n",
    "                                  'return', 'cum_ret', 'spy_cum_ret'],axis=1)\n",
    "\n",
    "valid = df_valid.reset_index().drop(['ticker','date',\n",
    "                                    'next_period_return',\n",
    "                                   'spy_next_period_return',\n",
    "                                   'rel_performance','pred_rel_return',\n",
    "                                  'return', 'cum_ret', 'spy_cum_ret'],axis=1)\n",
    "test = df_test.reset_index().drop(['ticker','date',\n",
    "                                   'next_period_return',\n",
    "                                   'spy_next_period_return',\n",
    "                                   'rel_performance','pred_rel_return',\n",
    "                                  'return', 'cum_ret', 'spy_cum_ret'],axis=1)"
   ]
  },
  {
   "cell_type": "code",
   "execution_count": 17,
   "metadata": {
    "ExecuteTime": {
     "end_time": "2020-03-03T02:04:41.533183Z",
     "start_time": "2020-03-03T02:04:41.527143Z"
    }
   },
   "outputs": [],
   "source": [
    "# Obtain the y values for each data split\n",
    "train_1_stock_returns = df_1['next_period_return']\n",
    "valid_stock_returns = df_valid['next_period_return']\n",
    "test_stock_returns = df_test['next_period_return']\n",
    "\n",
    "y_1 = df_1['rel_performance']\n",
    "y_valid = df_valid['rel_performance']\n",
    "y_test = df_test['rel_performance']\n",
    "\n",
    "y_1 = y_1.values\n",
    "y_valid = y_valid.values\n",
    "y_test = y_test.values"
   ]
  },
  {
   "cell_type": "markdown",
   "metadata": {},
   "source": [
    "### Import Optuna to find the optimal hyperparameters for the classifiers"
   ]
  },
  {
   "cell_type": "code",
   "execution_count": 18,
   "metadata": {
    "ExecuteTime": {
     "end_time": "2020-03-03T02:12:00.595366Z",
     "start_time": "2020-03-03T02:12:00.592375Z"
    }
   },
   "outputs": [],
   "source": [
    "import optuna\n",
    "from optuna.trial import Trial\n",
    "# optuna.logging.set_verbosity(optuna.logging.FATAL)\n",
    "import warnings\n",
    "warnings.filterwarnings(\"ignore\")"
   ]
  },
  {
   "cell_type": "markdown",
   "metadata": {},
   "source": [
    "## Defining the Optuna objective function for our 3 classifiers:\n",
    "- DecisionTree classifier\n",
    "- Bagging classifier\n",
    "- RandomForest classifier\n",
    "\n",
    "Note that in each case we are optimizing for the profit rather than the accuracy"
   ]
  },
  {
   "cell_type": "code",
   "execution_count": 30,
   "metadata": {},
   "outputs": [],
   "source": [
    "def objective_rf(trial:Trial,train=None,labels=None,val=None,val_labels=None,val_rets=None):\n",
    "\n",
    "    rf_n_estimators = trial.suggest_int('n_estimators', 10,40,step=5)\n",
    "    rf_max_features = trial.suggest_categorical('max_features',['sqrt','log2'])\n",
    "    rf_min_samples_leaf = trial.suggest_int('min_samples_leaf',800,2400,step=800)\n",
    "    rf_max_depth = trial.suggest_int('max_depth',4,15)\n",
    "    \n",
    "    rf_clf = RandomForestClassifier(n_estimators=rf_n_estimators,\n",
    "                                    max_depth=rf_max_depth,\n",
    "                                    min_samples_leaf=rf_min_samples_leaf,\n",
    "                                    max_features=rf_max_features)\n",
    "    rf_clf.fit(train,labels)\n",
    "\n",
    "    preds = rf_clf.predict(val)\n",
    "    profit = (preds * val_rets).sum()\n",
    " \n",
    "    return profit"
   ]
  },
  {
   "cell_type": "code",
   "execution_count": 31,
   "metadata": {},
   "outputs": [
    {
     "name": "stderr",
     "output_type": "stream",
     "text": [
      "[I 2024-02-04 14:33:46,623] A new study created in memory with name: no-name-f0a1ea6a-71bf-4f6f-9a12-0e63ba9e32e7\n"
     ]
    }
   ],
   "source": [
    "study_rf = optuna.create_study(direction=\"maximize\")"
   ]
  },
  {
   "cell_type": "markdown",
   "metadata": {},
   "source": [
    "### Run optimizations to find optimal parameters"
   ]
  },
  {
   "cell_type": "code",
   "execution_count": 32,
   "metadata": {},
   "outputs": [],
   "source": [
    "from functools import partial"
   ]
  },
  {
   "cell_type": "code",
   "execution_count": 33,
   "metadata": {},
   "outputs": [
    {
     "name": "stderr",
     "output_type": "stream",
     "text": [
      "[I 2024-02-04 14:33:51,190] Trial 0 finished with value: -41.075234000000044 and parameters: {'n_estimators': 15, 'max_features': 'log2', 'min_samples_leaf': 2400, 'max_depth': 14}. Best is trial 0 with value: -41.075234000000044.\n",
      "[I 2024-02-04 14:33:51,195] Trial 5 finished with value: -40.66695600000005 and parameters: {'n_estimators': 10, 'max_features': 'log2', 'min_samples_leaf': 2400, 'max_depth': 7}. Best is trial 5 with value: -40.66695600000005.\n",
      "[I 2024-02-04 14:33:51,249] Trial 9 finished with value: -38.84141300000004 and parameters: {'n_estimators': 10, 'max_features': 'log2', 'min_samples_leaf': 800, 'max_depth': 8}. Best is trial 9 with value: -38.84141300000004.\n",
      "[I 2024-02-04 14:33:51,381] Trial 4 finished with value: -41.60804900000004 and parameters: {'n_estimators': 15, 'max_features': 'sqrt', 'min_samples_leaf': 2400, 'max_depth': 15}. Best is trial 9 with value: -38.84141300000004.\n",
      "[I 2024-02-04 14:33:51,430] Trial 10 finished with value: -38.56724700000004 and parameters: {'n_estimators': 15, 'max_features': 'log2', 'min_samples_leaf': 2400, 'max_depth': 12}. Best is trial 10 with value: -38.56724700000004.\n",
      "[I 2024-02-04 14:33:51,453] Trial 11 finished with value: -40.62053500000003 and parameters: {'n_estimators': 10, 'max_features': 'sqrt', 'min_samples_leaf': 2400, 'max_depth': 10}. Best is trial 10 with value: -38.56724700000004.\n",
      "[I 2024-02-04 14:33:51,464] Trial 6 finished with value: -38.60196900000004 and parameters: {'n_estimators': 10, 'max_features': 'sqrt', 'min_samples_leaf': 800, 'max_depth': 10}. Best is trial 10 with value: -38.56724700000004.\n",
      "[I 2024-02-04 14:33:51,564] Trial 2 finished with value: -40.62441300000005 and parameters: {'n_estimators': 35, 'max_features': 'log2', 'min_samples_leaf': 1600, 'max_depth': 8}. Best is trial 10 with value: -38.56724700000004.\n",
      "[I 2024-02-04 14:33:51,580] Trial 8 finished with value: -41.62000300000004 and parameters: {'n_estimators': 35, 'max_features': 'log2', 'min_samples_leaf': 1600, 'max_depth': 4}. Best is trial 10 with value: -38.56724700000004.\n",
      "[I 2024-02-04 14:33:51,642] Trial 15 finished with value: -42.60712600000004 and parameters: {'n_estimators': 10, 'max_features': 'log2', 'min_samples_leaf': 2400, 'max_depth': 15}. Best is trial 10 with value: -38.56724700000004.\n",
      "[I 2024-02-04 14:33:51,668] Trial 12 finished with value: -39.776513000000044 and parameters: {'n_estimators': 15, 'max_features': 'sqrt', 'min_samples_leaf': 2400, 'max_depth': 15}. Best is trial 10 with value: -38.56724700000004.\n",
      "[I 2024-02-04 14:33:51,845] Trial 3 finished with value: -39.705500000000036 and parameters: {'n_estimators': 40, 'max_features': 'log2', 'min_samples_leaf': 800, 'max_depth': 5}. Best is trial 10 with value: -38.56724700000004.\n",
      "[I 2024-02-04 14:33:51,956] Trial 17 finished with value: -40.037589000000025 and parameters: {'n_estimators': 20, 'max_features': 'log2', 'min_samples_leaf': 1600, 'max_depth': 11}. Best is trial 10 with value: -38.56724700000004.\n",
      "[I 2024-02-04 14:33:51,960] Trial 13 finished with value: -41.20899100000004 and parameters: {'n_estimators': 35, 'max_features': 'log2', 'min_samples_leaf': 2400, 'max_depth': 6}. Best is trial 10 with value: -38.56724700000004.\n",
      "[I 2024-02-04 14:33:52,046] Trial 7 finished with value: -38.27771100000004 and parameters: {'n_estimators': 35, 'max_features': 'sqrt', 'min_samples_leaf': 1600, 'max_depth': 8}. Best is trial 7 with value: -38.27771100000004.\n",
      "[I 2024-02-04 14:33:52,123] Trial 18 finished with value: -42.341568000000045 and parameters: {'n_estimators': 35, 'max_features': 'log2', 'min_samples_leaf': 2400, 'max_depth': 9}. Best is trial 7 with value: -38.27771100000004.\n",
      "[I 2024-02-04 14:33:52,191] Trial 1 finished with value: -38.685308000000035 and parameters: {'n_estimators': 30, 'max_features': 'sqrt', 'min_samples_leaf': 800, 'max_depth': 8}. Best is trial 7 with value: -38.27771100000004.\n",
      "[I 2024-02-04 14:33:52,286] Trial 14 finished with value: -41.06515500000003 and parameters: {'n_estimators': 40, 'max_features': 'log2', 'min_samples_leaf': 800, 'max_depth': 14}. Best is trial 7 with value: -38.27771100000004.\n",
      "[I 2024-02-04 14:33:52,380] Trial 19 finished with value: -39.081609000000036 and parameters: {'n_estimators': 25, 'max_features': 'sqrt', 'min_samples_leaf': 1600, 'max_depth': 12}. Best is trial 7 with value: -38.27771100000004.\n",
      "[I 2024-02-04 14:33:52,605] Trial 20 finished with value: -38.32137400000004 and parameters: {'n_estimators': 25, 'max_features': 'sqrt', 'min_samples_leaf': 800, 'max_depth': 12}. Best is trial 7 with value: -38.27771100000004.\n",
      "[I 2024-02-04 14:33:52,727] Trial 24 finished with value: -40.969592000000034 and parameters: {'n_estimators': 25, 'max_features': 'sqrt', 'min_samples_leaf': 1600, 'max_depth': 12}. Best is trial 7 with value: -38.27771100000004.\n",
      "[I 2024-02-04 14:33:52,784] Trial 21 finished with value: -38.74662800000005 and parameters: {'n_estimators': 25, 'max_features': 'sqrt', 'min_samples_leaf': 800, 'max_depth': 12}. Best is trial 7 with value: -38.27771100000004.\n",
      "[I 2024-02-04 14:33:52,804] Trial 16 finished with value: -38.67167400000004 and parameters: {'n_estimators': 35, 'max_features': 'sqrt', 'min_samples_leaf': 800, 'max_depth': 11}. Best is trial 7 with value: -38.27771100000004.\n",
      "[I 2024-02-04 14:33:52,846] Trial 25 finished with value: -39.753802000000036 and parameters: {'n_estimators': 25, 'max_features': 'sqrt', 'min_samples_leaf': 1600, 'max_depth': 12}. Best is trial 7 with value: -38.27771100000004.\n",
      "[I 2024-02-04 14:33:52,893] Trial 22 finished with value: -39.47388100000004 and parameters: {'n_estimators': 25, 'max_features': 'sqrt', 'min_samples_leaf': 800, 'max_depth': 12}. Best is trial 7 with value: -38.27771100000004.\n",
      "[I 2024-02-04 14:33:52,928] Trial 26 finished with value: -39.69810900000004 and parameters: {'n_estimators': 25, 'max_features': 'sqrt', 'min_samples_leaf': 1600, 'max_depth': 12}. Best is trial 7 with value: -38.27771100000004.\n",
      "[I 2024-02-04 14:33:52,984] Trial 23 finished with value: -39.90163000000003 and parameters: {'n_estimators': 25, 'max_features': 'sqrt', 'min_samples_leaf': 800, 'max_depth': 12}. Best is trial 7 with value: -38.27771100000004.\n",
      "[I 2024-02-04 14:33:53,045] Trial 27 finished with value: -40.307986000000035 and parameters: {'n_estimators': 25, 'max_features': 'sqrt', 'min_samples_leaf': 1600, 'max_depth': 12}. Best is trial 7 with value: -38.27771100000004.\n",
      "[I 2024-02-04 14:33:53,077] Trial 28 finished with value: -40.47045200000004 and parameters: {'n_estimators': 25, 'max_features': 'sqrt', 'min_samples_leaf': 1600, 'max_depth': 12}. Best is trial 7 with value: -38.27771100000004.\n",
      "[I 2024-02-04 14:33:53,308] Trial 30 finished with value: -40.815296000000046 and parameters: {'n_estimators': 20, 'max_features': 'sqrt', 'min_samples_leaf': 1600, 'max_depth': 12}. Best is trial 7 with value: -38.27771100000004.\n",
      "[I 2024-02-04 14:33:53,357] Trial 29 finished with value: -42.16542800000003 and parameters: {'n_estimators': 25, 'max_features': 'sqrt', 'min_samples_leaf': 1600, 'max_depth': 12}. Best is trial 7 with value: -38.27771100000004.\n",
      "[I 2024-02-04 14:33:53,402] Trial 31 finished with value: -36.836502000000046 and parameters: {'n_estimators': 20, 'max_features': 'sqrt', 'min_samples_leaf': 1600, 'max_depth': 13}. Best is trial 31 with value: -36.836502000000046.\n",
      "[I 2024-02-04 14:33:53,415] Trial 38 finished with value: -37.31477600000004 and parameters: {'n_estimators': 20, 'max_features': 'log2', 'min_samples_leaf': 1600, 'max_depth': 14}. Best is trial 31 with value: -36.836502000000046.\n",
      "[I 2024-02-04 14:33:53,490] Trial 32 finished with value: -39.41040400000004 and parameters: {'n_estimators': 20, 'max_features': 'sqrt', 'min_samples_leaf': 1600, 'max_depth': 13}. Best is trial 31 with value: -36.836502000000046.\n",
      "[I 2024-02-04 14:33:53,496] Trial 33 finished with value: -37.98988800000003 and parameters: {'n_estimators': 20, 'max_features': 'sqrt', 'min_samples_leaf': 1600, 'max_depth': 13}. Best is trial 31 with value: -36.836502000000046.\n",
      "[I 2024-02-04 14:33:53,546] Trial 34 finished with value: -39.53108500000004 and parameters: {'n_estimators': 20, 'max_features': 'sqrt', 'min_samples_leaf': 1600, 'max_depth': 13}. Best is trial 31 with value: -36.836502000000046.\n",
      "[I 2024-02-04 14:33:53,586] Trial 35 finished with value: -37.42515400000005 and parameters: {'n_estimators': 20, 'max_features': 'sqrt', 'min_samples_leaf': 1600, 'max_depth': 13}. Best is trial 31 with value: -36.836502000000046.\n",
      "[I 2024-02-04 14:33:53,659] Trial 37 finished with value: -41.82591000000004 and parameters: {'n_estimators': 20, 'max_features': 'sqrt', 'min_samples_leaf': 1600, 'max_depth': 9}. Best is trial 31 with value: -36.836502000000046.\n",
      "[I 2024-02-04 14:33:53,703] Trial 36 finished with value: -36.38918200000004 and parameters: {'n_estimators': 20, 'max_features': 'sqrt', 'min_samples_leaf': 1600, 'max_depth': 9}. Best is trial 36 with value: -36.38918200000004.\n",
      "[I 2024-02-04 14:33:53,846] Trial 39 finished with value: -41.86180300000005 and parameters: {'n_estimators': 30, 'max_features': 'log2', 'min_samples_leaf': 2400, 'max_depth': 14}. Best is trial 36 with value: -36.38918200000004.\n",
      "[I 2024-02-04 14:33:53,940] Trial 46 finished with value: -38.00449000000003 and parameters: {'n_estimators': 20, 'max_features': 'log2', 'min_samples_leaf': 1600, 'max_depth': 14}. Best is trial 36 with value: -36.38918200000004.\n",
      "[I 2024-02-04 14:33:53,963] Trial 48 finished with value: -41.67431100000003 and parameters: {'n_estimators': 15, 'max_features': 'log2', 'min_samples_leaf': 1600, 'max_depth': 14}. Best is trial 36 with value: -36.38918200000004.\n",
      "[I 2024-02-04 14:33:54,042] Trial 40 finished with value: -38.83528000000005 and parameters: {'n_estimators': 15, 'max_features': 'sqrt', 'min_samples_leaf': 800, 'max_depth': 10}. Best is trial 36 with value: -36.38918200000004.\n",
      "[I 2024-02-04 14:33:54,067] Trial 41 finished with value: -40.315044000000036 and parameters: {'n_estimators': 20, 'max_features': 'sqrt', 'min_samples_leaf': 1600, 'max_depth': 14}. Best is trial 36 with value: -36.38918200000004.\n",
      "[I 2024-02-04 14:33:54,120] Trial 42 finished with value: -38.81324200000004 and parameters: {'n_estimators': 20, 'max_features': 'sqrt', 'min_samples_leaf': 1600, 'max_depth': 14}. Best is trial 36 with value: -36.38918200000004.\n",
      "[I 2024-02-04 14:33:54,155] Trial 45 finished with value: -38.28412600000004 and parameters: {'n_estimators': 30, 'max_features': 'log2', 'min_samples_leaf': 1600, 'max_depth': 9}. Best is trial 36 with value: -36.38918200000004.\n",
      "[I 2024-02-04 14:33:54,204] Trial 44 finished with value: -41.33868100000003 and parameters: {'n_estimators': 20, 'max_features': 'sqrt', 'min_samples_leaf': 1600, 'max_depth': 14}. Best is trial 36 with value: -36.38918200000004.\n",
      "[I 2024-02-04 14:33:54,211] Trial 43 finished with value: -38.61974900000003 and parameters: {'n_estimators': 20, 'max_features': 'sqrt', 'min_samples_leaf': 1600, 'max_depth': 14}. Best is trial 36 with value: -36.38918200000004.\n",
      "[I 2024-02-04 14:33:54,232] Trial 49 finished with value: -40.55964800000004 and parameters: {'n_estimators': 15, 'max_features': 'log2', 'min_samples_leaf': 1600, 'max_depth': 14}. Best is trial 36 with value: -36.38918200000004.\n",
      "[I 2024-02-04 14:33:54,296] Trial 47 finished with value: -40.70399000000004 and parameters: {'n_estimators': 30, 'max_features': 'log2', 'min_samples_leaf': 1600, 'max_depth': 14}. Best is trial 36 with value: -36.38918200000004.\n",
      "[I 2024-02-04 14:33:54,459] Trial 50 finished with value: -42.085200000000036 and parameters: {'n_estimators': 15, 'max_features': 'sqrt', 'min_samples_leaf': 1600, 'max_depth': 13}. Best is trial 36 with value: -36.38918200000004.\n",
      "[I 2024-02-04 14:33:54,503] Trial 51 finished with value: -40.03616800000004 and parameters: {'n_estimators': 15, 'max_features': 'sqrt', 'min_samples_leaf': 1600, 'max_depth': 13}. Best is trial 36 with value: -36.38918200000004.\n",
      "[I 2024-02-04 14:33:54,559] Trial 53 finished with value: -42.90054000000003 and parameters: {'n_estimators': 15, 'max_features': 'sqrt', 'min_samples_leaf': 1600, 'max_depth': 13}. Best is trial 36 with value: -36.38918200000004.\n",
      "[I 2024-02-04 14:33:54,672] Trial 56 finished with value: -39.12223800000003 and parameters: {'n_estimators': 15, 'max_features': 'sqrt', 'min_samples_leaf': 1600, 'max_depth': 13}. Best is trial 36 with value: -36.38918200000004.\n",
      "[I 2024-02-04 14:33:54,680] Trial 55 finished with value: -39.46596300000003 and parameters: {'n_estimators': 15, 'max_features': 'sqrt', 'min_samples_leaf': 1600, 'max_depth': 13}. Best is trial 36 with value: -36.38918200000004.\n",
      "[I 2024-02-04 14:33:54,687] Trial 57 finished with value: -40.96412500000004 and parameters: {'n_estimators': 15, 'max_features': 'sqrt', 'min_samples_leaf': 1600, 'max_depth': 13}. Best is trial 36 with value: -36.38918200000004.\n",
      "[I 2024-02-04 14:33:54,703] Trial 52 finished with value: -40.213531000000046 and parameters: {'n_estimators': 20, 'max_features': 'sqrt', 'min_samples_leaf': 1600, 'max_depth': 13}. Best is trial 36 with value: -36.38918200000004.\n",
      "[I 2024-02-04 14:33:54,751] Trial 58 finished with value: -38.30896000000004 and parameters: {'n_estimators': 15, 'max_features': 'sqrt', 'min_samples_leaf': 1600, 'max_depth': 13}. Best is trial 36 with value: -36.38918200000004.\n",
      "[I 2024-02-04 14:33:54,796] Trial 59 finished with value: -38.051280000000034 and parameters: {'n_estimators': 15, 'max_features': 'sqrt', 'min_samples_leaf': 1600, 'max_depth': 13}. Best is trial 36 with value: -36.38918200000004.\n",
      "[I 2024-02-04 14:33:54,910] Trial 60 finished with value: -39.23655200000003 and parameters: {'n_estimators': 20, 'max_features': 'log2', 'min_samples_leaf': 1600, 'max_depth': 15}. Best is trial 36 with value: -36.38918200000004.\n",
      "[I 2024-02-04 14:33:54,971] Trial 61 finished with value: -38.502064000000026 and parameters: {'n_estimators': 20, 'max_features': 'log2', 'min_samples_leaf': 1600, 'max_depth': 15}. Best is trial 36 with value: -36.38918200000004.\n",
      "[I 2024-02-04 14:33:55,126] Trial 62 finished with value: -39.43574200000004 and parameters: {'n_estimators': 20, 'max_features': 'log2', 'min_samples_leaf': 1600, 'max_depth': 15}. Best is trial 36 with value: -36.38918200000004.\n",
      "[I 2024-02-04 14:33:55,169] Trial 54 finished with value: -39.86649900000003 and parameters: {'n_estimators': 30, 'max_features': 'sqrt', 'min_samples_leaf': 1600, 'max_depth': 13}. Best is trial 36 with value: -36.38918200000004.\n",
      "[I 2024-02-04 14:33:55,234] Trial 64 finished with value: -40.375247000000044 and parameters: {'n_estimators': 20, 'max_features': 'log2', 'min_samples_leaf': 1600, 'max_depth': 15}. Best is trial 36 with value: -36.38918200000004.\n",
      "[I 2024-02-04 14:33:55,253] Trial 66 finished with value: -40.57574600000004 and parameters: {'n_estimators': 20, 'max_features': 'log2', 'min_samples_leaf': 1600, 'max_depth': 15}. Best is trial 36 with value: -36.38918200000004.\n",
      "[I 2024-02-04 14:33:55,274] Trial 63 finished with value: -36.90706700000005 and parameters: {'n_estimators': 20, 'max_features': 'log2', 'min_samples_leaf': 1600, 'max_depth': 15}. Best is trial 36 with value: -36.38918200000004.\n",
      "[I 2024-02-04 14:33:55,282] Trial 65 finished with value: -41.74961100000005 and parameters: {'n_estimators': 20, 'max_features': 'log2', 'min_samples_leaf': 1600, 'max_depth': 15}. Best is trial 36 with value: -36.38918200000004.\n",
      "[I 2024-02-04 14:33:55,347] Trial 67 finished with value: -36.632043000000024 and parameters: {'n_estimators': 20, 'max_features': 'log2', 'min_samples_leaf': 1600, 'max_depth': 15}. Best is trial 36 with value: -36.38918200000004.\n",
      "[I 2024-02-04 14:33:55,397] Trial 68 finished with value: -36.89362400000002 and parameters: {'n_estimators': 20, 'max_features': 'log2', 'min_samples_leaf': 1600, 'max_depth': 15}. Best is trial 36 with value: -36.38918200000004.\n",
      "[I 2024-02-04 14:33:55,445] Trial 71 finished with value: -39.833557000000035 and parameters: {'n_estimators': 10, 'max_features': 'log2', 'min_samples_leaf': 1600, 'max_depth': 11}. Best is trial 36 with value: -36.38918200000004.\n",
      "[I 2024-02-04 14:33:55,505] Trial 69 finished with value: -43.026282000000045 and parameters: {'n_estimators': 20, 'max_features': 'log2', 'min_samples_leaf': 1600, 'max_depth': 11}. Best is trial 36 with value: -36.38918200000004.\n",
      "[I 2024-02-04 14:33:55,517] Trial 72 finished with value: -35.88614400000003 and parameters: {'n_estimators': 10, 'max_features': 'log2', 'min_samples_leaf': 1600, 'max_depth': 11}. Best is trial 72 with value: -35.88614400000003.\n",
      "[I 2024-02-04 14:33:55,581] Trial 70 finished with value: -38.93368900000004 and parameters: {'n_estimators': 20, 'max_features': 'log2', 'min_samples_leaf': 1600, 'max_depth': 11}. Best is trial 72 with value: -35.88614400000003.\n",
      "[I 2024-02-04 14:33:55,583] Trial 74 finished with value: -40.06513500000004 and parameters: {'n_estimators': 10, 'max_features': 'log2', 'min_samples_leaf': 1600, 'max_depth': 7}. Best is trial 72 with value: -35.88614400000003.\n",
      "[I 2024-02-04 14:33:55,595] Trial 73 finished with value: -39.53544600000005 and parameters: {'n_estimators': 10, 'max_features': 'log2', 'min_samples_leaf': 1600, 'max_depth': 11}. Best is trial 72 with value: -35.88614400000003.\n",
      "[I 2024-02-04 14:33:55,777] Trial 81 finished with value: -37.26796200000003 and parameters: {'n_estimators': 10, 'max_features': 'log2', 'min_samples_leaf': 1600, 'max_depth': 7}. Best is trial 72 with value: -35.88614400000003.\n",
      "[I 2024-02-04 14:33:55,805] Trial 76 finished with value: -41.527155000000036 and parameters: {'n_estimators': 20, 'max_features': 'log2', 'min_samples_leaf': 1600, 'max_depth': 4}. Best is trial 72 with value: -35.88614400000003.\n",
      "[I 2024-02-04 14:33:55,836] Trial 75 finished with value: -42.59741100000004 and parameters: {'n_estimators': 20, 'max_features': 'log2', 'min_samples_leaf': 1600, 'max_depth': 7}. Best is trial 72 with value: -35.88614400000003.\n",
      "[I 2024-02-04 14:33:55,931] Trial 77 finished with value: -40.086505000000045 and parameters: {'n_estimators': 25, 'max_features': 'log2', 'min_samples_leaf': 1600, 'max_depth': 11}. Best is trial 72 with value: -35.88614400000003.\n",
      "[I 2024-02-04 14:33:55,937] Trial 78 finished with value: -41.08788900000005 and parameters: {'n_estimators': 25, 'max_features': 'log2', 'min_samples_leaf': 2400, 'max_depth': 6}. Best is trial 72 with value: -35.88614400000003.\n",
      "[I 2024-02-04 14:33:55,999] Trial 79 finished with value: -40.484890000000036 and parameters: {'n_estimators': 25, 'max_features': 'log2', 'min_samples_leaf': 2400, 'max_depth': 15}. Best is trial 72 with value: -35.88614400000003.\n",
      "[I 2024-02-04 14:33:56,057] Trial 86 finished with value: -39.473860000000045 and parameters: {'n_estimators': 10, 'max_features': 'log2', 'min_samples_leaf': 2400, 'max_depth': 6}. Best is trial 72 with value: -35.88614400000003.\n",
      "[I 2024-02-04 14:33:56,096] Trial 85 finished with value: -39.201918000000035 and parameters: {'n_estimators': 10, 'max_features': 'log2', 'min_samples_leaf': 1600, 'max_depth': 4}. Best is trial 72 with value: -35.88614400000003.\n",
      "[I 2024-02-04 14:33:56,128] Trial 80 finished with value: -37.772061000000036 and parameters: {'n_estimators': 25, 'max_features': 'log2', 'min_samples_leaf': 1600, 'max_depth': 5}. Best is trial 72 with value: -35.88614400000003.\n",
      "[I 2024-02-04 14:33:56,199] Trial 88 finished with value: -36.83554500000003 and parameters: {'n_estimators': 10, 'max_features': 'log2', 'min_samples_leaf': 2400, 'max_depth': 8}. Best is trial 72 with value: -35.88614400000003.\n",
      "[I 2024-02-04 14:33:56,213] Trial 82 finished with value: -39.49801900000004 and parameters: {'n_estimators': 25, 'max_features': 'log2', 'min_samples_leaf': 1600, 'max_depth': 8}. Best is trial 72 with value: -35.88614400000003.\n",
      "[I 2024-02-04 14:33:56,223] Trial 84 finished with value: -40.25257400000004 and parameters: {'n_estimators': 25, 'max_features': 'log2', 'min_samples_leaf': 1600, 'max_depth': 8}. Best is trial 72 with value: -35.88614400000003.\n",
      "[I 2024-02-04 14:33:56,230] Trial 83 finished with value: -42.04802000000005 and parameters: {'n_estimators': 25, 'max_features': 'log2', 'min_samples_leaf': 1600, 'max_depth': 10}. Best is trial 72 with value: -35.88614400000003.\n",
      "[I 2024-02-04 14:33:56,267] Trial 89 finished with value: -34.93039900000005 and parameters: {'n_estimators': 10, 'max_features': 'log2', 'min_samples_leaf': 1600, 'max_depth': 8}. Best is trial 89 with value: -34.93039900000005.\n",
      "[I 2024-02-04 14:33:56,391] Trial 90 finished with value: -36.26072100000003 and parameters: {'n_estimators': 10, 'max_features': 'log2', 'min_samples_leaf': 1600, 'max_depth': 5}. Best is trial 89 with value: -34.93039900000005.\n",
      "[I 2024-02-04 14:33:56,440] Trial 91 finished with value: -40.58453100000005 and parameters: {'n_estimators': 10, 'max_features': 'log2', 'min_samples_leaf': 1600, 'max_depth': 8}. Best is trial 89 with value: -34.93039900000005.\n",
      "[I 2024-02-04 14:33:56,556] Trial 97 finished with value: -40.570152000000036 and parameters: {'n_estimators': 10, 'max_features': 'log2', 'min_samples_leaf': 1600, 'max_depth': 7}. Best is trial 89 with value: -34.93039900000005.\n",
      "[I 2024-02-04 14:33:56,560] Trial 98 finished with value: -37.230622000000025 and parameters: {'n_estimators': 10, 'max_features': 'log2', 'min_samples_leaf': 2400, 'max_depth': 8}. Best is trial 89 with value: -34.93039900000005.\n",
      "[I 2024-02-04 14:33:56,561] Trial 94 finished with value: -36.717107000000034 and parameters: {'n_estimators': 10, 'max_features': 'log2', 'min_samples_leaf': 1600, 'max_depth': 8}. Best is trial 89 with value: -34.93039900000005.\n",
      "[I 2024-02-04 14:33:56,565] Trial 96 finished with value: -37.714381000000046 and parameters: {'n_estimators': 10, 'max_features': 'log2', 'min_samples_leaf': 1600, 'max_depth': 9}. Best is trial 89 with value: -34.93039900000005.\n",
      "[I 2024-02-04 14:33:56,574] Trial 95 finished with value: -40.66327700000004 and parameters: {'n_estimators': 10, 'max_features': 'log2', 'min_samples_leaf': 1600, 'max_depth': 8}. Best is trial 89 with value: -34.93039900000005.\n",
      "[I 2024-02-04 14:33:56,714] Trial 99 finished with value: -39.31232600000002 and parameters: {'n_estimators': 10, 'max_features': 'log2', 'min_samples_leaf': 2400, 'max_depth': 9}. Best is trial 89 with value: -34.93039900000005.\n",
      "[I 2024-02-04 14:33:56,782] Trial 100 finished with value: -45.97448000000005 and parameters: {'n_estimators': 10, 'max_features': 'log2', 'min_samples_leaf': 1600, 'max_depth': 9}. Best is trial 89 with value: -34.93039900000005.\n",
      "[I 2024-02-04 14:33:56,888] Trial 102 finished with value: -38.14156400000004 and parameters: {'n_estimators': 10, 'max_features': 'log2', 'min_samples_leaf': 1600, 'max_depth': 9}. Best is trial 89 with value: -34.93039900000005.\n",
      "[I 2024-02-04 14:33:56,892] Trial 101 finished with value: -39.40435200000004 and parameters: {'n_estimators': 10, 'max_features': 'log2', 'min_samples_leaf': 1600, 'max_depth': 9}. Best is trial 89 with value: -34.93039900000005.\n",
      "[I 2024-02-04 14:33:56,895] Trial 105 finished with value: -38.02198200000004 and parameters: {'n_estimators': 10, 'max_features': 'log2', 'min_samples_leaf': 1600, 'max_depth': 9}. Best is trial 89 with value: -34.93039900000005.\n",
      "[I 2024-02-04 14:33:56,937] Trial 103 finished with value: -38.12360000000004 and parameters: {'n_estimators': 10, 'max_features': 'log2', 'min_samples_leaf': 1600, 'max_depth': 9}. Best is trial 89 with value: -34.93039900000005.\n",
      "[I 2024-02-04 14:33:56,986] Trial 87 finished with value: -39.835457000000034 and parameters: {'n_estimators': 40, 'max_features': 'log2', 'min_samples_leaf': 1600, 'max_depth': 8}. Best is trial 89 with value: -34.93039900000005.\n",
      "[I 2024-02-04 14:33:57,027] Trial 106 finished with value: -39.53117600000004 and parameters: {'n_estimators': 10, 'max_features': 'log2', 'min_samples_leaf': 1600, 'max_depth': 5}. Best is trial 89 with value: -34.93039900000005.\n",
      "[I 2024-02-04 14:33:57,154] Trial 93 finished with value: -40.55587800000005 and parameters: {'n_estimators': 40, 'max_features': 'log2', 'min_samples_leaf': 1600, 'max_depth': 10}. Best is trial 89 with value: -34.93039900000005.\n",
      "[I 2024-02-04 14:33:57,170] Trial 92 finished with value: -41.11036500000003 and parameters: {'n_estimators': 40, 'max_features': 'log2', 'min_samples_leaf': 1600, 'max_depth': 10}. Best is trial 89 with value: -34.93039900000005.\n",
      "[I 2024-02-04 14:33:57,222] Trial 109 finished with value: -39.97709400000002 and parameters: {'n_estimators': 10, 'max_features': 'log2', 'min_samples_leaf': 2400, 'max_depth': 10}. Best is trial 89 with value: -34.93039900000005.\n",
      "[I 2024-02-04 14:33:57,263] Trial 110 finished with value: -44.86559900000003 and parameters: {'n_estimators': 10, 'max_features': 'log2', 'min_samples_leaf': 1600, 'max_depth': 10}. Best is trial 89 with value: -34.93039900000005.\n",
      "[I 2024-02-04 14:33:57,271] Trial 112 finished with value: -40.66648800000004 and parameters: {'n_estimators': 10, 'max_features': 'log2', 'min_samples_leaf': 2400, 'max_depth': 10}. Best is trial 89 with value: -34.93039900000005.\n",
      "[I 2024-02-04 14:33:57,433] Trial 113 finished with value: -42.19764800000004 and parameters: {'n_estimators': 15, 'max_features': 'log2', 'min_samples_leaf': 2400, 'max_depth': 10}. Best is trial 89 with value: -34.93039900000005.\n",
      "[I 2024-02-04 14:33:57,521] Trial 114 finished with value: -39.284904000000026 and parameters: {'n_estimators': 15, 'max_features': 'log2', 'min_samples_leaf': 2400, 'max_depth': 7}. Best is trial 89 with value: -34.93039900000005.\n",
      "[I 2024-02-04 14:33:57,548] Trial 115 finished with value: -37.92139900000004 and parameters: {'n_estimators': 15, 'max_features': 'log2', 'min_samples_leaf': 2400, 'max_depth': 8}. Best is trial 89 with value: -34.93039900000005.\n",
      "[I 2024-02-04 14:33:57,564] Trial 104 finished with value: -42.012086000000046 and parameters: {'n_estimators': 40, 'max_features': 'log2', 'min_samples_leaf': 1600, 'max_depth': 9}. Best is trial 89 with value: -34.93039900000005.\n",
      "[I 2024-02-04 14:33:57,598] Trial 117 finished with value: -43.51383000000005 and parameters: {'n_estimators': 15, 'max_features': 'log2', 'min_samples_leaf': 2400, 'max_depth': 8}. Best is trial 89 with value: -34.93039900000005.\n",
      "[I 2024-02-04 14:33:57,616] Trial 116 finished with value: -37.754161000000046 and parameters: {'n_estimators': 15, 'max_features': 'log2', 'min_samples_leaf': 2400, 'max_depth': 8}. Best is trial 89 with value: -34.93039900000005.\n",
      "[I 2024-02-04 14:33:57,665] Trial 118 finished with value: -44.93434800000004 and parameters: {'n_estimators': 15, 'max_features': 'log2', 'min_samples_leaf': 2400, 'max_depth': 8}. Best is trial 89 with value: -34.93039900000005.\n",
      "[I 2024-02-04 14:33:57,798] Trial 107 finished with value: -38.99207100000005 and parameters: {'n_estimators': 40, 'max_features': 'log2', 'min_samples_leaf': 1600, 'max_depth': 10}. Best is trial 89 with value: -34.93039900000005.\n",
      "[I 2024-02-04 14:33:57,812] Trial 119 finished with value: -44.96744800000003 and parameters: {'n_estimators': 15, 'max_features': 'log2', 'min_samples_leaf': 2400, 'max_depth': 7}. Best is trial 89 with value: -34.93039900000005.\n",
      "[I 2024-02-04 14:33:57,838] Trial 111 finished with value: -40.91350000000003 and parameters: {'n_estimators': 40, 'max_features': 'log2', 'min_samples_leaf': 2400, 'max_depth': 10}. Best is trial 89 with value: -34.93039900000005.\n",
      "[I 2024-02-04 14:33:57,907] Trial 120 finished with value: -38.50373900000002 and parameters: {'n_estimators': 10, 'max_features': 'log2', 'min_samples_leaf': 1600, 'max_depth': 8}. Best is trial 89 with value: -34.93039900000005.\n",
      "[I 2024-02-04 14:33:57,929] Trial 122 finished with value: -37.44159500000005 and parameters: {'n_estimators': 10, 'max_features': 'log2', 'min_samples_leaf': 1600, 'max_depth': 7}. Best is trial 89 with value: -34.93039900000005.\n",
      "[I 2024-02-04 14:33:57,936] Trial 121 finished with value: -38.03795600000003 and parameters: {'n_estimators': 10, 'max_features': 'log2', 'min_samples_leaf': 1600, 'max_depth': 7}. Best is trial 89 with value: -34.93039900000005.\n",
      "[I 2024-02-04 14:33:57,946] Trial 108 finished with value: -40.93979400000005 and parameters: {'n_estimators': 40, 'max_features': 'log2', 'min_samples_leaf': 1600, 'max_depth': 10}. Best is trial 89 with value: -34.93039900000005.\n",
      "[I 2024-02-04 14:33:57,964] Trial 124 finished with value: -40.04502400000003 and parameters: {'n_estimators': 10, 'max_features': 'log2', 'min_samples_leaf': 1600, 'max_depth': 7}. Best is trial 89 with value: -34.93039900000005.\n",
      "[I 2024-02-04 14:33:57,968] Trial 123 finished with value: -41.38295400000003 and parameters: {'n_estimators': 10, 'max_features': 'log2', 'min_samples_leaf': 1600, 'max_depth': 6}. Best is trial 89 with value: -34.93039900000005.\n",
      "[I 2024-02-04 14:33:58,006] Trial 125 finished with value: -42.20744800000004 and parameters: {'n_estimators': 10, 'max_features': 'log2', 'min_samples_leaf': 1600, 'max_depth': 6}. Best is trial 89 with value: -34.93039900000005.\n",
      "[I 2024-02-04 14:33:58,154] Trial 126 finished with value: -41.99047500000003 and parameters: {'n_estimators': 10, 'max_features': 'log2', 'min_samples_leaf': 1600, 'max_depth': 7}. Best is trial 89 with value: -34.93039900000005.\n",
      "[I 2024-02-04 14:33:58,205] Trial 127 finished with value: -37.846043000000044 and parameters: {'n_estimators': 10, 'max_features': 'log2', 'min_samples_leaf': 1600, 'max_depth': 7}. Best is trial 89 with value: -34.93039900000005.\n",
      "[I 2024-02-04 14:33:58,276] Trial 128 finished with value: -41.885864000000026 and parameters: {'n_estimators': 10, 'max_features': 'log2', 'min_samples_leaf': 1600, 'max_depth': 15}. Best is trial 89 with value: -34.93039900000005.\n",
      "[I 2024-02-04 14:33:58,315] Trial 129 finished with value: -39.831539000000056 and parameters: {'n_estimators': 10, 'max_features': 'log2', 'min_samples_leaf': 1600, 'max_depth': 6}. Best is trial 89 with value: -34.93039900000005.\n",
      "[I 2024-02-04 14:33:58,460] Trial 132 finished with value: -40.07810200000003 and parameters: {'n_estimators': 20, 'max_features': 'log2', 'min_samples_leaf': 1600, 'max_depth': 15}. Best is trial 89 with value: -34.93039900000005.\n",
      "[I 2024-02-04 14:33:58,469] Trial 130 finished with value: -41.236313000000045 and parameters: {'n_estimators': 20, 'max_features': 'log2', 'min_samples_leaf': 1600, 'max_depth': 15}. Best is trial 89 with value: -34.93039900000005.\n",
      "[I 2024-02-04 14:33:58,495] Trial 133 finished with value: -39.872126000000044 and parameters: {'n_estimators': 20, 'max_features': 'log2', 'min_samples_leaf': 1600, 'max_depth': 15}. Best is trial 89 with value: -34.93039900000005.\n",
      "[I 2024-02-04 14:33:58,537] Trial 134 finished with value: -42.48718400000004 and parameters: {'n_estimators': 20, 'max_features': 'log2', 'min_samples_leaf': 1600, 'max_depth': 15}. Best is trial 89 with value: -34.93039900000005.\n",
      "[I 2024-02-04 14:33:58,558] Trial 131 finished with value: -39.429925000000026 and parameters: {'n_estimators': 20, 'max_features': 'log2', 'min_samples_leaf': 1600, 'max_depth': 15}. Best is trial 89 with value: -34.93039900000005.\n",
      "[I 2024-02-04 14:33:58,756] Trial 135 finished with value: -40.33577100000004 and parameters: {'n_estimators': 20, 'max_features': 'sqrt', 'min_samples_leaf': 1600, 'max_depth': 15}. Best is trial 89 with value: -34.93039900000005.\n",
      "[I 2024-02-04 14:33:58,809] Trial 136 finished with value: -33.36692600000002 and parameters: {'n_estimators': 20, 'max_features': 'sqrt', 'min_samples_leaf': 1600, 'max_depth': 15}. Best is trial 136 with value: -33.36692600000002.\n",
      "[I 2024-02-04 14:33:58,857] Trial 137 finished with value: -38.35888100000003 and parameters: {'n_estimators': 20, 'max_features': 'sqrt', 'min_samples_leaf': 1600, 'max_depth': 15}. Best is trial 136 with value: -33.36692600000002.\n",
      "[I 2024-02-04 14:33:58,915] Trial 138 finished with value: -41.65282500000005 and parameters: {'n_estimators': 20, 'max_features': 'sqrt', 'min_samples_leaf': 1600, 'max_depth': 14}. Best is trial 136 with value: -33.36692600000002.\n",
      "[I 2024-02-04 14:33:58,992] Trial 139 finished with value: -36.65781300000004 and parameters: {'n_estimators': 20, 'max_features': 'sqrt', 'min_samples_leaf': 1600, 'max_depth': 15}. Best is trial 136 with value: -33.36692600000002.\n",
      "[I 2024-02-04 14:33:59,098] Trial 140 finished with value: -38.521776000000045 and parameters: {'n_estimators': 20, 'max_features': 'sqrt', 'min_samples_leaf': 1600, 'max_depth': 14}. Best is trial 136 with value: -33.36692600000002.\n",
      "[I 2024-02-04 14:33:59,104] Trial 141 finished with value: -39.61009700000003 and parameters: {'n_estimators': 20, 'max_features': 'sqrt', 'min_samples_leaf': 1600, 'max_depth': 14}. Best is trial 136 with value: -33.36692600000002.\n",
      "[I 2024-02-04 14:33:59,142] Trial 142 finished with value: -37.531224000000044 and parameters: {'n_estimators': 20, 'max_features': 'sqrt', 'min_samples_leaf': 1600, 'max_depth': 14}. Best is trial 136 with value: -33.36692600000002.\n",
      "[I 2024-02-04 14:33:59,216] Trial 144 finished with value: -41.57231200000004 and parameters: {'n_estimators': 20, 'max_features': 'sqrt', 'min_samples_leaf': 1600, 'max_depth': 14}. Best is trial 136 with value: -33.36692600000002.\n",
      "[I 2024-02-04 14:33:59,226] Trial 143 finished with value: -38.50009000000004 and parameters: {'n_estimators': 20, 'max_features': 'sqrt', 'min_samples_leaf': 1600, 'max_depth': 14}. Best is trial 136 with value: -33.36692600000002.\n",
      "[I 2024-02-04 14:33:59,399] Trial 145 finished with value: -40.15618800000004 and parameters: {'n_estimators': 20, 'max_features': 'sqrt', 'min_samples_leaf': 1600, 'max_depth': 14}. Best is trial 136 with value: -33.36692600000002.\n",
      "[I 2024-02-04 14:33:59,403] Trial 146 finished with value: -37.41034000000003 and parameters: {'n_estimators': 20, 'max_features': 'sqrt', 'min_samples_leaf': 1600, 'max_depth': 14}. Best is trial 136 with value: -33.36692600000002.\n",
      "[I 2024-02-04 14:33:59,498] Trial 147 finished with value: -41.26590700000004 and parameters: {'n_estimators': 20, 'max_features': 'sqrt', 'min_samples_leaf': 1600, 'max_depth': 14}. Best is trial 136 with value: -33.36692600000002.\n",
      "[I 2024-02-04 14:33:59,575] Trial 148 finished with value: -37.79949800000004 and parameters: {'n_estimators': 20, 'max_features': 'sqrt', 'min_samples_leaf': 1600, 'max_depth': 14}. Best is trial 136 with value: -33.36692600000002.\n",
      "[I 2024-02-04 14:33:59,645] Trial 149 finished with value: -42.053942000000035 and parameters: {'n_estimators': 20, 'max_features': 'sqrt', 'min_samples_leaf': 1600, 'max_depth': 14}. Best is trial 136 with value: -33.36692600000002.\n",
      "[I 2024-02-04 14:33:59,753] Trial 150 finished with value: -40.269416000000035 and parameters: {'n_estimators': 20, 'max_features': 'sqrt', 'min_samples_leaf': 1600, 'max_depth': 14}. Best is trial 136 with value: -33.36692600000002.\n",
      "[I 2024-02-04 14:33:59,781] Trial 155 finished with value: -40.804181000000035 and parameters: {'n_estimators': 10, 'max_features': 'sqrt', 'min_samples_leaf': 1600, 'max_depth': 5}. Best is trial 136 with value: -33.36692600000002.\n",
      "[I 2024-02-04 14:33:59,782] Trial 156 finished with value: -42.131756000000046 and parameters: {'n_estimators': 10, 'max_features': 'sqrt', 'min_samples_leaf': 1600, 'max_depth': 15}. Best is trial 136 with value: -33.36692600000002.\n",
      "[I 2024-02-04 14:33:59,807] Trial 151 finished with value: -38.09640700000004 and parameters: {'n_estimators': 20, 'max_features': 'sqrt', 'min_samples_leaf': 1600, 'max_depth': 5}. Best is trial 136 with value: -33.36692600000002.\n",
      "[I 2024-02-04 14:33:59,809] Trial 152 finished with value: -37.62791500000004 and parameters: {'n_estimators': 20, 'max_features': 'sqrt', 'min_samples_leaf': 1600, 'max_depth': 15}. Best is trial 136 with value: -33.36692600000002.\n",
      "[I 2024-02-04 14:33:59,914] Trial 157 finished with value: -40.71238300000003 and parameters: {'n_estimators': 10, 'max_features': 'sqrt', 'min_samples_leaf': 1600, 'max_depth': 5}. Best is trial 136 with value: -33.36692600000002.\n",
      "[I 2024-02-04 14:33:59,938] Trial 159 finished with value: -38.479262000000034 and parameters: {'n_estimators': 10, 'max_features': 'log2', 'min_samples_leaf': 1600, 'max_depth': 5}. Best is trial 136 with value: -33.36692600000002.\n",
      "[I 2024-02-04 14:33:59,949] Trial 153 finished with value: -40.62267100000003 and parameters: {'n_estimators': 20, 'max_features': 'sqrt', 'min_samples_leaf': 1600, 'max_depth': 5}. Best is trial 136 with value: -33.36692600000002.\n",
      "[I 2024-02-04 14:33:59,972] Trial 154 finished with value: -38.46325400000005 and parameters: {'n_estimators': 20, 'max_features': 'sqrt', 'min_samples_leaf': 1600, 'max_depth': 5}. Best is trial 136 with value: -33.36692600000002.\n",
      "[I 2024-02-04 14:34:00,051] Trial 158 finished with value: -38.12178400000004 and parameters: {'n_estimators': 10, 'max_features': 'sqrt', 'min_samples_leaf': 1600, 'max_depth': 15}. Best is trial 136 with value: -33.36692600000002.\n",
      "[I 2024-02-04 14:34:00,196] Trial 160 finished with value: -38.856653000000044 and parameters: {'n_estimators': 10, 'max_features': 'sqrt', 'min_samples_leaf': 1600, 'max_depth': 15}. Best is trial 136 with value: -33.36692600000002.\n",
      "[I 2024-02-04 14:34:00,389] Trial 164 finished with value: -40.17095400000004 and parameters: {'n_estimators': 20, 'max_features': 'log2', 'min_samples_leaf': 1600, 'max_depth': 8}. Best is trial 136 with value: -33.36692600000002.\n",
      "[I 2024-02-04 14:34:00,431] Trial 163 finished with value: -42.83863600000004 and parameters: {'n_estimators': 20, 'max_features': 'log2', 'min_samples_leaf': 800, 'max_depth': 8}. Best is trial 136 with value: -33.36692600000002.\n",
      "[I 2024-02-04 14:34:00,448] Trial 166 finished with value: -37.71400500000004 and parameters: {'n_estimators': 20, 'max_features': 'log2', 'min_samples_leaf': 800, 'max_depth': 8}. Best is trial 136 with value: -33.36692600000002.\n",
      "[I 2024-02-04 14:34:00,499] Trial 167 finished with value: -43.141548000000036 and parameters: {'n_estimators': 20, 'max_features': 'log2', 'min_samples_leaf': 800, 'max_depth': 8}. Best is trial 136 with value: -33.36692600000002.\n",
      "[I 2024-02-04 14:34:00,512] Trial 165 finished with value: -37.78722200000004 and parameters: {'n_estimators': 20, 'max_features': 'log2', 'min_samples_leaf': 800, 'max_depth': 8}. Best is trial 136 with value: -33.36692600000002.\n",
      "[I 2024-02-04 14:34:00,694] Trial 170 finished with value: -34.62528900000003 and parameters: {'n_estimators': 20, 'max_features': 'log2', 'min_samples_leaf': 1600, 'max_depth': 8}. Best is trial 136 with value: -33.36692600000002.\n",
      "[I 2024-02-04 14:34:00,751] Trial 161 finished with value: -36.73603800000004 and parameters: {'n_estimators': 20, 'max_features': 'sqrt', 'min_samples_leaf': 800, 'max_depth': 8}. Best is trial 136 with value: -33.36692600000002.\n",
      "[I 2024-02-04 14:34:00,780] Trial 162 finished with value: -38.16161700000005 and parameters: {'n_estimators': 20, 'max_features': 'sqrt', 'min_samples_leaf': 800, 'max_depth': 8}. Best is trial 136 with value: -33.36692600000002.\n",
      "[I 2024-02-04 14:34:00,850] Trial 168 finished with value: -40.479199000000044 and parameters: {'n_estimators': 35, 'max_features': 'log2', 'min_samples_leaf': 800, 'max_depth': 8}. Best is trial 136 with value: -33.36692600000002.\n",
      "[I 2024-02-04 14:34:00,926] Trial 169 finished with value: -39.34698600000004 and parameters: {'n_estimators': 35, 'max_features': 'log2', 'min_samples_leaf': 800, 'max_depth': 15}. Best is trial 136 with value: -33.36692600000002.\n",
      "[I 2024-02-04 14:34:00,934] Trial 172 finished with value: -40.55260600000005 and parameters: {'n_estimators': 20, 'max_features': 'log2', 'min_samples_leaf': 1600, 'max_depth': 13}. Best is trial 136 with value: -33.36692600000002.\n",
      "[I 2024-02-04 14:34:01,151] Trial 171 finished with value: -39.06323300000004 and parameters: {'n_estimators': 35, 'max_features': 'log2', 'min_samples_leaf': 1600, 'max_depth': 8}. Best is trial 136 with value: -33.36692600000002.\n",
      "[I 2024-02-04 14:34:01,183] Trial 176 finished with value: -41.11502900000004 and parameters: {'n_estimators': 25, 'max_features': 'log2', 'min_samples_leaf': 1600, 'max_depth': 9}. Best is trial 136 with value: -33.36692600000002.\n",
      "[I 2024-02-04 14:34:01,305] Trial 179 finished with value: -39.83048300000003 and parameters: {'n_estimators': 25, 'max_features': 'log2', 'min_samples_leaf': 2400, 'max_depth': 8}. Best is trial 136 with value: -33.36692600000002.\n",
      "[I 2024-02-04 14:34:01,305] Trial 181 finished with value: -36.446907000000024 and parameters: {'n_estimators': 20, 'max_features': 'log2', 'min_samples_leaf': 1600, 'max_depth': 9}. Best is trial 136 with value: -33.36692600000002.\n",
      "[I 2024-02-04 14:34:01,321] Trial 180 finished with value: -40.32504400000004 and parameters: {'n_estimators': 20, 'max_features': 'log2', 'min_samples_leaf': 1600, 'max_depth': 9}. Best is trial 136 with value: -33.36692600000002.\n",
      "[I 2024-02-04 14:34:01,358] Trial 175 finished with value: -38.48022000000004 and parameters: {'n_estimators': 25, 'max_features': 'sqrt', 'min_samples_leaf': 1600, 'max_depth': 12}. Best is trial 136 with value: -33.36692600000002.\n",
      "[I 2024-02-04 14:34:01,531] Trial 174 finished with value: -39.56174800000004 and parameters: {'n_estimators': 30, 'max_features': 'sqrt', 'min_samples_leaf': 1600, 'max_depth': 13}. Best is trial 136 with value: -33.36692600000002.\n",
      "[I 2024-02-04 14:34:01,555] Trial 177 finished with value: -42.20076500000003 and parameters: {'n_estimators': 35, 'max_features': 'log2', 'min_samples_leaf': 800, 'max_depth': 9}. Best is trial 136 with value: -33.36692600000002.\n",
      "[I 2024-02-04 14:34:01,576] Trial 182 finished with value: -35.17036300000004 and parameters: {'n_estimators': 20, 'max_features': 'log2', 'min_samples_leaf': 1600, 'max_depth': 15}. Best is trial 136 with value: -33.36692600000002.\n",
      "[I 2024-02-04 14:34:01,624] Trial 173 finished with value: -37.87361400000005 and parameters: {'n_estimators': 35, 'max_features': 'sqrt', 'min_samples_leaf': 1600, 'max_depth': 13}. Best is trial 136 with value: -33.36692600000002.\n",
      "[I 2024-02-04 14:34:01,637] Trial 178 finished with value: -41.00834000000003 and parameters: {'n_estimators': 35, 'max_features': 'log2', 'min_samples_leaf': 800, 'max_depth': 9}. Best is trial 136 with value: -33.36692600000002.\n",
      "[I 2024-02-04 14:34:01,638] Trial 183 finished with value: -43.485229000000054 and parameters: {'n_estimators': 20, 'max_features': 'log2', 'min_samples_leaf': 1600, 'max_depth': 9}. Best is trial 136 with value: -33.36692600000002.\n",
      "[I 2024-02-04 14:34:01,663] Trial 187 finished with value: -40.15342100000002 and parameters: {'n_estimators': 10, 'max_features': 'log2', 'min_samples_leaf': 1600, 'max_depth': 9}. Best is trial 136 with value: -33.36692600000002.\n",
      "[I 2024-02-04 14:34:01,688] Trial 186 finished with value: -40.87271100000003 and parameters: {'n_estimators': 10, 'max_features': 'log2', 'min_samples_leaf': 1600, 'max_depth': 9}. Best is trial 136 with value: -33.36692600000002.\n",
      "[I 2024-02-04 14:34:01,862] Trial 184 finished with value: -38.87241500000003 and parameters: {'n_estimators': 20, 'max_features': 'log2', 'min_samples_leaf': 1600, 'max_depth': 9}. Best is trial 136 with value: -33.36692600000002.\n",
      "[I 2024-02-04 14:34:01,884] Trial 185 finished with value: -44.26477900000004 and parameters: {'n_estimators': 20, 'max_features': 'log2', 'min_samples_leaf': 1600, 'max_depth': 9}. Best is trial 136 with value: -33.36692600000002.\n",
      "[I 2024-02-04 14:34:01,912] Trial 188 finished with value: -37.68535900000005 and parameters: {'n_estimators': 10, 'max_features': 'log2', 'min_samples_leaf': 1600, 'max_depth': 9}. Best is trial 136 with value: -33.36692600000002.\n",
      "[I 2024-02-04 14:34:02,118] Trial 189 finished with value: -40.39146300000006 and parameters: {'n_estimators': 20, 'max_features': 'log2', 'min_samples_leaf': 1600, 'max_depth': 9}. Best is trial 136 with value: -33.36692600000002.\n",
      "[I 2024-02-04 14:34:02,136] Trial 193 finished with value: -38.460055000000025 and parameters: {'n_estimators': 20, 'max_features': 'log2', 'min_samples_leaf': 1600, 'max_depth': 15}. Best is trial 136 with value: -33.36692600000002.\n",
      "[I 2024-02-04 14:34:02,138] Trial 190 finished with value: -38.20888800000004 and parameters: {'n_estimators': 20, 'max_features': 'log2', 'min_samples_leaf': 1600, 'max_depth': 15}. Best is trial 136 with value: -33.36692600000002.\n",
      "[I 2024-02-04 14:34:02,142] Trial 191 finished with value: -40.24235100000004 and parameters: {'n_estimators': 20, 'max_features': 'log2', 'min_samples_leaf': 1600, 'max_depth': 15}. Best is trial 136 with value: -33.36692600000002.\n",
      "[I 2024-02-04 14:34:02,185] Trial 194 finished with value: -37.80559000000004 and parameters: {'n_estimators': 20, 'max_features': 'log2', 'min_samples_leaf': 1600, 'max_depth': 15}. Best is trial 136 with value: -33.36692600000002.\n",
      "[I 2024-02-04 14:34:02,191] Trial 195 finished with value: -38.87263700000004 and parameters: {'n_estimators': 20, 'max_features': 'log2', 'min_samples_leaf': 1600, 'max_depth': 15}. Best is trial 136 with value: -33.36692600000002.\n",
      "[I 2024-02-04 14:34:02,193] Trial 192 finished with value: -41.33983600000004 and parameters: {'n_estimators': 20, 'max_features': 'log2', 'min_samples_leaf': 1600, 'max_depth': 15}. Best is trial 136 with value: -33.36692600000002.\n",
      "[I 2024-02-04 14:34:02,234] Trial 196 finished with value: -41.32572100000004 and parameters: {'n_estimators': 20, 'max_features': 'log2', 'min_samples_leaf': 1600, 'max_depth': 15}. Best is trial 136 with value: -33.36692600000002.\n",
      "[I 2024-02-04 14:34:02,268] Trial 198 finished with value: -39.05105700000004 and parameters: {'n_estimators': 20, 'max_features': 'log2', 'min_samples_leaf': 1600, 'max_depth': 15}. Best is trial 136 with value: -33.36692600000002.\n",
      "[I 2024-02-04 14:34:02,270] Trial 197 finished with value: -38.72639400000003 and parameters: {'n_estimators': 20, 'max_features': 'log2', 'min_samples_leaf': 1600, 'max_depth': 15}. Best is trial 136 with value: -33.36692600000002.\n",
      "[I 2024-02-04 14:34:02,370] Trial 199 finished with value: -40.65764800000004 and parameters: {'n_estimators': 20, 'max_features': 'log2', 'min_samples_leaf': 1600, 'max_depth': 15}. Best is trial 136 with value: -33.36692600000002.\n"
     ]
    },
    {
     "name": "stdout",
     "output_type": "stream",
     "text": [
      "CPU times: user 52.7 s, sys: 6.36 s, total: 59.1 s\n",
      "Wall time: 11.5 s\n"
     ]
    }
   ],
   "source": [
    "%%time\n",
    "study_rf.optimize(partial(objective_rf,train=train_1,labels=y_1,val=valid,val_labels=y_valid,val_rets=valid_stock_returns), n_trials=200,n_jobs=-1)"
   ]
  },
  {
   "cell_type": "markdown",
   "metadata": {},
   "source": [
    "### Instantiate the classifiers with the best parameters"
   ]
  },
  {
   "cell_type": "code",
   "execution_count": 34,
   "metadata": {},
   "outputs": [
    {
     "name": "stdout",
     "output_type": "stream",
     "text": [
      "Best parameters for random forest:  {'n_estimators': 20, 'max_features': 'sqrt', 'min_samples_leaf': 1600, 'max_depth': 15}\n"
     ]
    }
   ],
   "source": [
    "print(\"Best parameters for random forest: \", study_rf.best_params)"
   ]
  },
  {
   "cell_type": "code",
   "execution_count": 35,
   "metadata": {},
   "outputs": [],
   "source": [
    "rf_clf = RandomForestClassifier(**study_rf.best_params)"
   ]
  },
  {
   "cell_type": "markdown",
   "metadata": {},
   "source": [
    "### Train each of the classifiers"
   ]
  },
  {
   "cell_type": "code",
   "execution_count": 42,
   "metadata": {
    "ExecuteTime": {
     "end_time": "2020-02-11T00:26:13.188561Z",
     "start_time": "2020-02-11T00:26:13.054541Z"
    }
   },
   "outputs": [
    {
     "data": {
      "text/html": [
       "<style>#sk-container-id-3 {color: black;}#sk-container-id-3 pre{padding: 0;}#sk-container-id-3 div.sk-toggleable {background-color: white;}#sk-container-id-3 label.sk-toggleable__label {cursor: pointer;display: block;width: 100%;margin-bottom: 0;padding: 0.3em;box-sizing: border-box;text-align: center;}#sk-container-id-3 label.sk-toggleable__label-arrow:before {content: \"▸\";float: left;margin-right: 0.25em;color: #696969;}#sk-container-id-3 label.sk-toggleable__label-arrow:hover:before {color: black;}#sk-container-id-3 div.sk-estimator:hover label.sk-toggleable__label-arrow:before {color: black;}#sk-container-id-3 div.sk-toggleable__content {max-height: 0;max-width: 0;overflow: hidden;text-align: left;background-color: #f0f8ff;}#sk-container-id-3 div.sk-toggleable__content pre {margin: 0.2em;color: black;border-radius: 0.25em;background-color: #f0f8ff;}#sk-container-id-3 input.sk-toggleable__control:checked~div.sk-toggleable__content {max-height: 200px;max-width: 100%;overflow: auto;}#sk-container-id-3 input.sk-toggleable__control:checked~label.sk-toggleable__label-arrow:before {content: \"▾\";}#sk-container-id-3 div.sk-estimator input.sk-toggleable__control:checked~label.sk-toggleable__label {background-color: #d4ebff;}#sk-container-id-3 div.sk-label input.sk-toggleable__control:checked~label.sk-toggleable__label {background-color: #d4ebff;}#sk-container-id-3 input.sk-hidden--visually {border: 0;clip: rect(1px 1px 1px 1px);clip: rect(1px, 1px, 1px, 1px);height: 1px;margin: -1px;overflow: hidden;padding: 0;position: absolute;width: 1px;}#sk-container-id-3 div.sk-estimator {font-family: monospace;background-color: #f0f8ff;border: 1px dotted black;border-radius: 0.25em;box-sizing: border-box;margin-bottom: 0.5em;}#sk-container-id-3 div.sk-estimator:hover {background-color: #d4ebff;}#sk-container-id-3 div.sk-parallel-item::after {content: \"\";width: 100%;border-bottom: 1px solid gray;flex-grow: 1;}#sk-container-id-3 div.sk-label:hover label.sk-toggleable__label {background-color: #d4ebff;}#sk-container-id-3 div.sk-serial::before {content: \"\";position: absolute;border-left: 1px solid gray;box-sizing: border-box;top: 0;bottom: 0;left: 50%;z-index: 0;}#sk-container-id-3 div.sk-serial {display: flex;flex-direction: column;align-items: center;background-color: white;padding-right: 0.2em;padding-left: 0.2em;position: relative;}#sk-container-id-3 div.sk-item {position: relative;z-index: 1;}#sk-container-id-3 div.sk-parallel {display: flex;align-items: stretch;justify-content: center;background-color: white;position: relative;}#sk-container-id-3 div.sk-item::before, #sk-container-id-3 div.sk-parallel-item::before {content: \"\";position: absolute;border-left: 1px solid gray;box-sizing: border-box;top: 0;bottom: 0;left: 50%;z-index: -1;}#sk-container-id-3 div.sk-parallel-item {display: flex;flex-direction: column;z-index: 1;position: relative;background-color: white;}#sk-container-id-3 div.sk-parallel-item:first-child::after {align-self: flex-end;width: 50%;}#sk-container-id-3 div.sk-parallel-item:last-child::after {align-self: flex-start;width: 50%;}#sk-container-id-3 div.sk-parallel-item:only-child::after {width: 0;}#sk-container-id-3 div.sk-dashed-wrapped {border: 1px dashed gray;margin: 0 0.4em 0.5em 0.4em;box-sizing: border-box;padding-bottom: 0.4em;background-color: white;}#sk-container-id-3 div.sk-label label {font-family: monospace;font-weight: bold;display: inline-block;line-height: 1.2em;}#sk-container-id-3 div.sk-label-container {text-align: center;}#sk-container-id-3 div.sk-container {/* jupyter's `normalize.less` sets `[hidden] { display: none; }` but bootstrap.min.css set `[hidden] { display: none !important; }` so we also need the `!important` here to be able to override the default hidden behavior on the sphinx rendered scikit-learn.org. See: https://github.com/scikit-learn/scikit-learn/issues/21755 */display: inline-block !important;position: relative;}#sk-container-id-3 div.sk-text-repr-fallback {display: none;}</style><div id=\"sk-container-id-3\" class=\"sk-top-container\"><div class=\"sk-text-repr-fallback\"><pre>RandomForestClassifier(max_depth=15, min_samples_leaf=1600, n_estimators=20)</pre><b>In a Jupyter environment, please rerun this cell to show the HTML representation or trust the notebook. <br />On GitHub, the HTML representation is unable to render, please try loading this page with nbviewer.org.</b></div><div class=\"sk-container\" hidden><div class=\"sk-item\"><div class=\"sk-estimator sk-toggleable\"><input class=\"sk-toggleable__control sk-hidden--visually\" id=\"sk-estimator-id-3\" type=\"checkbox\" checked><label for=\"sk-estimator-id-3\" class=\"sk-toggleable__label sk-toggleable__label-arrow\">RandomForestClassifier</label><div class=\"sk-toggleable__content\"><pre>RandomForestClassifier(max_depth=15, min_samples_leaf=1600, n_estimators=20)</pre></div></div></div></div></div>"
      ],
      "text/plain": [
       "RandomForestClassifier(max_depth=15, min_samples_leaf=1600, n_estimators=20)"
      ]
     },
     "execution_count": 42,
     "metadata": {},
     "output_type": "execute_result"
    }
   ],
   "source": [
    "rf_clf.fit(train_1,y_1)"
   ]
  },
  {
   "cell_type": "code",
   "execution_count": 43,
   "metadata": {},
   "outputs": [],
   "source": [
    "preds=rf_clf.predict(valid)"
   ]
  },
  {
   "cell_type": "code",
   "execution_count": 44,
   "metadata": {},
   "outputs": [
    {
     "data": {
      "text/plain": [
       "-38.59128500000004"
      ]
     },
     "execution_count": 44,
     "metadata": {},
     "output_type": "execute_result"
    }
   ],
   "source": [
    "valid_profit = (preds * df_valid['next_period_return']).sum()\n",
    "valid_profit"
   ]
  },
  {
   "cell_type": "code",
   "execution_count": 45,
   "metadata": {},
   "outputs": [
    {
     "data": {
      "text/plain": [
       "99.11254199999999"
      ]
     },
     "execution_count": 45,
     "metadata": {},
     "output_type": "execute_result"
    }
   ],
   "source": [
    "pred_test=rf_clf.predict(test)\n",
    "test_profit = (pred_test * df_test['next_period_return']).sum()\n",
    "test_profit"
   ]
  },
  {
   "cell_type": "code",
   "execution_count": 46,
   "metadata": {},
   "outputs": [
    {
     "data": {
      "text/plain": [
       "0.3851492019430951"
      ]
     },
     "execution_count": 46,
     "metadata": {},
     "output_type": "execute_result"
    }
   ],
   "source": [
    "accuracy_score(preds,y_valid)"
   ]
  },
  {
   "cell_type": "code",
   "execution_count": 47,
   "metadata": {},
   "outputs": [
    {
     "data": {
      "text/plain": [
       "0.4852198990627253"
      ]
     },
     "execution_count": 47,
     "metadata": {},
     "output_type": "execute_result"
    }
   ],
   "source": [
    "accuracy_score(pred_test,y_test)"
   ]
  },
  {
   "cell_type": "markdown",
   "metadata": {},
   "source": [
    "### Back test the performance of the models over the period 2010 - 2018"
   ]
  },
  {
   "cell_type": "code",
   "execution_count": 71,
   "metadata": {},
   "outputs": [],
   "source": [
    "start_dates = [pd.to_datetime('2010-01-01') + pd.DateOffset(months = 3*i) for i in range(21)]\n",
    "end_dates = [d + pd.DateOffset(months = 36) for d in start_dates]\n",
    "# So the first period is [2010 Jan 1 - 2013 Jan 1], and the last period is [2015 Jan 1 - 2018 Jan 1]"
   ]
  },
  {
   "cell_type": "code",
   "execution_count": 72,
   "metadata": {},
   "outputs": [],
   "source": [
    "training_frames = [data.loc[d:d+pd.DateOffset(months = 36)] for d in start_dates]\n",
    "valid_frames = [data.loc[d + pd.DateOffset(months=3):d+pd.DateOffset(months = 6)] for d in end_dates]\n",
    "test_frames = [data.loc[d + pd.DateOffset(months=6):d+pd.DateOffset(months = 9)] for d in end_dates]\n",
    "\n",
    "training_labels = [d['rel_performance'].values for d in training_frames]\n",
    "\n",
    "training_stock_returns = [d['next_period_return'].values for d in training_frames]\n",
    "test_stock_returns = [d['next_period_return'] for d in test_frames]"
   ]
  },
  {
   "cell_type": "code",
   "execution_count": 73,
   "metadata": {},
   "outputs": [],
   "source": [
    "training_data = [df.reset_index().drop(['ticker','date',\n",
    "                                   'next_period_return',\n",
    "                                   'spy_next_period_return',\n",
    "                                   'rel_performance', 'pred_rel_return',\n",
    "                                  'return', 'cum_ret', 'spy_cum_ret'],axis=1) for df in training_frames]\n",
    "valid_data = [df.reset_index().drop(['ticker','date',\n",
    "                                   'next_period_return',\n",
    "                                   'spy_next_period_return',\n",
    "                                   'rel_performance','pred_rel_return',\n",
    "                                  'return', 'cum_ret', 'spy_cum_ret'],axis=1) for df in valid_frames]\n",
    "test_data = [df.reset_index().drop(['ticker','date',\n",
    "                                   'next_period_return',\n",
    "                                   'spy_next_period_return',\n",
    "                                   'rel_performance','pred_rel_return',\n",
    "                                  'return', 'cum_ret', 'spy_cum_ret'],axis=1) for df in test_frames]"
   ]
  },
  {
   "cell_type": "code",
   "execution_count": 38,
   "metadata": {},
   "outputs": [
    {
     "name": "stderr",
     "output_type": "stream",
     "text": [
      "100%|███████████████████████████████████████████| 20/20 [03:52<00:00, 11.64s/it]\n"
     ]
    }
   ],
   "source": [
    "# dictionary to store performance and returns\n",
    "xs = {'rf':[1]}\n",
    "rets = {'rf':[]}\n",
    "models = {'rf':rf_clf}\n",
    "\n",
    "for i in tqdm(range(len(start_dates)-1)):\n",
    "    for key, model in models.items():\n",
    "        model.fit(training_data[i],training_labels[i])\n",
    "        \n",
    "        preds = model.predict(test_data[i])\n",
    "        profit_i = (preds*test_stock_returns[i]).sum()\n",
    "        \n",
    "        rets[key].append(profit_i)\n",
    "        num_names = len(test_data[i])\n",
    "        xs[key].append(xs[key][i] + (xs[key][i]/num_names)*profit_i)\n"
   ]
  },
  {
   "cell_type": "code",
   "execution_count": 39,
   "metadata": {},
   "outputs": [
    {
     "data": {
      "text/plain": [
       "<matplotlib.legend.Legend at 0x2cedde4d0>"
      ]
     },
     "execution_count": 39,
     "metadata": {},
     "output_type": "execute_result"
    },
    {
     "data": {
      "image/png": "[encoded data removed]",
      "text/plain": [
       "<Figure size 640x480 with 1 Axes>"
      ]
     },
     "metadata": {},
     "output_type": "display_data"
    }
   ],
   "source": [
    "for key, x_list in xs.items():\n",
    "    plt.plot(x_list, label = key);\n",
    "plt.legend()"
   ]
  },
  {
   "cell_type": "code",
   "execution_count": 40,
   "metadata": {},
   "outputs": [
    {
     "data": {
      "image/png": "[encoded data removed]",
      "text/plain": [
       "<Figure size 640x480 with 1 Axes>"
      ]
     },
     "metadata": {},
     "output_type": "display_data"
    }
   ],
   "source": [
    "# Compare to buy and hold of SPY\n",
    "SPY = pd.read_pickle(r'SPY_cum_ret.pkl')\n",
    "SPY = SPY.loc['2013-07-01':'2018-09-30']\n",
    "SPY = SPY.resample('Q').ffill()\n",
    "SPY['spy_cum_ret'] = (SPY['spy_cum_ret'] - SPY['spy_cum_ret'][0]+1)\n",
    "SPY['decision tree'] = xs['t']\n",
    "SPY['bagging classifier'] = xs['bg']\n",
    "SPY['random forest'] = xs['rf']\n",
    "SPY.plot();"
   ]
  },
  {
   "cell_type": "code",
   "execution_count": null,
   "metadata": {},
   "outputs": [],
   "source": []
  },
  {
   "cell_type": "markdown",
   "metadata": {},
   "source": [
    "### Now we can compute the Shapley values for these models and see how the performance changes"
   ]
  },
  {
   "cell_type": "markdown",
   "metadata": {},
   "source": [
    "### Finding the features with non zero Shapley values"
   ]
  },
  {
   "cell_type": "code",
   "execution_count": 41,
   "metadata": {},
   "outputs": [
    {
     "data": {
      "text/html": [
       "<style>#sk-container-id-4 {color: black;}#sk-container-id-4 pre{padding: 0;}#sk-container-id-4 div.sk-toggleable {background-color: white;}#sk-container-id-4 label.sk-toggleable__label {cursor: pointer;display: block;width: 100%;margin-bottom: 0;padding: 0.3em;box-sizing: border-box;text-align: center;}#sk-container-id-4 label.sk-toggleable__label-arrow:before {content: \"▸\";float: left;margin-right: 0.25em;color: #696969;}#sk-container-id-4 label.sk-toggleable__label-arrow:hover:before {color: black;}#sk-container-id-4 div.sk-estimator:hover label.sk-toggleable__label-arrow:before {color: black;}#sk-container-id-4 div.sk-toggleable__content {max-height: 0;max-width: 0;overflow: hidden;text-align: left;background-color: #f0f8ff;}#sk-container-id-4 div.sk-toggleable__content pre {margin: 0.2em;color: black;border-radius: 0.25em;background-color: #f0f8ff;}#sk-container-id-4 input.sk-toggleable__control:checked~div.sk-toggleable__content {max-height: 200px;max-width: 100%;overflow: auto;}#sk-container-id-4 input.sk-toggleable__control:checked~label.sk-toggleable__label-arrow:before {content: \"▾\";}#sk-container-id-4 div.sk-estimator input.sk-toggleable__control:checked~label.sk-toggleable__label {background-color: #d4ebff;}#sk-container-id-4 div.sk-label input.sk-toggleable__control:checked~label.sk-toggleable__label {background-color: #d4ebff;}#sk-container-id-4 input.sk-hidden--visually {border: 0;clip: rect(1px 1px 1px 1px);clip: rect(1px, 1px, 1px, 1px);height: 1px;margin: -1px;overflow: hidden;padding: 0;position: absolute;width: 1px;}#sk-container-id-4 div.sk-estimator {font-family: monospace;background-color: #f0f8ff;border: 1px dotted black;border-radius: 0.25em;box-sizing: border-box;margin-bottom: 0.5em;}#sk-container-id-4 div.sk-estimator:hover {background-color: #d4ebff;}#sk-container-id-4 div.sk-parallel-item::after {content: \"\";width: 100%;border-bottom: 1px solid gray;flex-grow: 1;}#sk-container-id-4 div.sk-label:hover label.sk-toggleable__label {background-color: #d4ebff;}#sk-container-id-4 div.sk-serial::before {content: \"\";position: absolute;border-left: 1px solid gray;box-sizing: border-box;top: 0;bottom: 0;left: 50%;z-index: 0;}#sk-container-id-4 div.sk-serial {display: flex;flex-direction: column;align-items: center;background-color: white;padding-right: 0.2em;padding-left: 0.2em;position: relative;}#sk-container-id-4 div.sk-item {position: relative;z-index: 1;}#sk-container-id-4 div.sk-parallel {display: flex;align-items: stretch;justify-content: center;background-color: white;position: relative;}#sk-container-id-4 div.sk-item::before, #sk-container-id-4 div.sk-parallel-item::before {content: \"\";position: absolute;border-left: 1px solid gray;box-sizing: border-box;top: 0;bottom: 0;left: 50%;z-index: -1;}#sk-container-id-4 div.sk-parallel-item {display: flex;flex-direction: column;z-index: 1;position: relative;background-color: white;}#sk-container-id-4 div.sk-parallel-item:first-child::after {align-self: flex-end;width: 50%;}#sk-container-id-4 div.sk-parallel-item:last-child::after {align-self: flex-start;width: 50%;}#sk-container-id-4 div.sk-parallel-item:only-child::after {width: 0;}#sk-container-id-4 div.sk-dashed-wrapped {border: 1px dashed gray;margin: 0 0.4em 0.5em 0.4em;box-sizing: border-box;padding-bottom: 0.4em;background-color: white;}#sk-container-id-4 div.sk-label label {font-family: monospace;font-weight: bold;display: inline-block;line-height: 1.2em;}#sk-container-id-4 div.sk-label-container {text-align: center;}#sk-container-id-4 div.sk-container {/* jupyter's `normalize.less` sets `[hidden] { display: none; }` but bootstrap.min.css set `[hidden] { display: none !important; }` so we also need the `!important` here to be able to override the default hidden behavior on the sphinx rendered scikit-learn.org. See: https://github.com/scikit-learn/scikit-learn/issues/21755 */display: inline-block !important;position: relative;}#sk-container-id-4 div.sk-text-repr-fallback {display: none;}</style><div id=\"sk-container-id-4\" class=\"sk-top-container\"><div class=\"sk-text-repr-fallback\"><pre>RandomForestClassifier(max_depth=5, min_samples_leaf=1600, n_estimators=20)</pre><b>In a Jupyter environment, please rerun this cell to show the HTML representation or trust the notebook. <br />On GitHub, the HTML representation is unable to render, please try loading this page with nbviewer.org.</b></div><div class=\"sk-container\" hidden><div class=\"sk-item\"><div class=\"sk-estimator sk-toggleable\"><input class=\"sk-toggleable__control sk-hidden--visually\" id=\"sk-estimator-id-6\" type=\"checkbox\" checked><label for=\"sk-estimator-id-6\" class=\"sk-toggleable__label sk-toggleable__label-arrow\">RandomForestClassifier</label><div class=\"sk-toggleable__content\"><pre>RandomForestClassifier(max_depth=5, min_samples_leaf=1600, n_estimators=20)</pre></div></div></div></div></div>"
      ],
      "text/plain": [
       "RandomForestClassifier(max_depth=5, min_samples_leaf=1600, n_estimators=20)"
      ]
     },
     "execution_count": 41,
     "metadata": {},
     "output_type": "execute_result"
    }
   ],
   "source": [
    "# Retrain the models using the original training set (i.e. before backtesting)\n",
    "# rf_clf.fit(train_1,y_1)"
   ]
  },
  {
   "cell_type": "code",
   "execution_count": 48,
   "metadata": {},
   "outputs": [],
   "source": [
    "# Obtain the feature importances\n",
    "def randomforest_feat_importances(m, df):\n",
    "        \n",
    "    return pd.DataFrame({'cols':df.columns, 'feat_imp': m.feature_importances_}\n",
    "                       ).sort_values('feat_imp', ascending=False)\n",
    "\n",
    "def plot_fi(fi): return fi.plot('cols', 'feat_imp', 'barh', figsize=(12,7), legend=False)"
   ]
  },
  {
   "cell_type": "code",
   "execution_count": 51,
   "metadata": {},
   "outputs": [],
   "source": [
    "rf_fi = randomforest_feat_importances(rf_clf,train_1)"
   ]
  },
  {
   "cell_type": "code",
   "execution_count": 52,
   "metadata": {},
   "outputs": [],
   "source": [
    "# Only use features that have positive feature importance\n",
    "rf_features = rf_fi[(rf_fi['feat_imp'] > 0.00)]"
   ]
  },
  {
   "cell_type": "code",
   "execution_count": 55,
   "metadata": {},
   "outputs": [
    {
     "data": {
      "text/plain": [
       "(48, 2)"
      ]
     },
     "execution_count": 55,
     "metadata": {},
     "output_type": "execute_result"
    }
   ],
   "source": [
    "rf_features.shape"
   ]
  },
  {
   "cell_type": "code",
   "execution_count": 57,
   "metadata": {},
   "outputs": [
    {
     "data": {
      "image/png": "[encoded data removed]",
      "text/plain": [
       "<Figure size 1200x700 with 1 Axes>"
      ]
     },
     "metadata": {},
     "output_type": "display_data"
    }
   ],
   "source": [
    "plot_fi(rf_features);"
   ]
  },
  {
   "cell_type": "code",
   "execution_count": 58,
   "metadata": {},
   "outputs": [],
   "source": [
    "train_1 = train_1[rf_features['cols'].values]\n",
    "valid = valid[rf_features['cols'].values]"
   ]
  },
  {
   "cell_type": "code",
   "execution_count": 59,
   "metadata": {},
   "outputs": [
    {
     "data": {
      "text/plain": [
       "0.4398608349900596"
      ]
     },
     "execution_count": 59,
     "metadata": {},
     "output_type": "execute_result"
    }
   ],
   "source": [
    "# Retrain the classifiers using the new feature set\n",
    "rf_clf.fit(train_1,y_1)\n",
    "rf_clf.score(train_1,y_1)"
   ]
  },
  {
   "cell_type": "code",
   "execution_count": 61,
   "metadata": {},
   "outputs": [],
   "source": [
    "valid_1 = valid.copy()\n",
    "valid_1['returns'] = valid_stock_returns.values"
   ]
  },
  {
   "cell_type": "code",
   "execution_count": 62,
   "metadata": {},
   "outputs": [],
   "source": [
    "import shap\n",
    "\n",
    "def model(features):\n",
    "    tree_features = features[features.columns[:-1].values]\n",
    "\n",
    "    pred = rf_clf.predict(tree_features)\n",
    "\n",
    "    ret = pred * features[features.columns[-1]]\n",
    "\n",
    "    return ret"
   ]
  },
  {
   "cell_type": "code",
   "execution_count": 63,
   "metadata": {},
   "outputs": [
    {
     "name": "stderr",
     "output_type": "stream",
     "text": [
      "PermutationExplainer explainer: 1442it [04:19,  5.37it/s]                       \n"
     ]
    },
    {
     "data": {
      "image/png": "[encoded data removed]",
      "text/plain": [
       "<Figure size 800x2550 with 1 Axes>"
      ]
     },
     "metadata": {},
     "output_type": "display_data"
    }
   ],
   "source": [
    "model(valid_1)\n",
    "explainer = shap.explainers.Permutation(model,valid_1)\n",
    "shap_values = explainer(valid_1,max_evals=2000)\n",
    "shap.plots.bar(shap_values[:,:-1],max_display=60)"
   ]
  },
  {
   "cell_type": "markdown",
   "metadata": {},
   "source": [
    "### Retrain the models with the features that have non-zero Shapley values"
   ]
  },
  {
   "cell_type": "code",
   "execution_count": 67,
   "metadata": {},
   "outputs": [],
   "source": [
    "rf_cols = rf_features['cols'].values\n",
    "rf_shap_cols = rf_cols[np.abs(shap_values[:,:-1].values).mean(axis=0)>0.000]"
   ]
  },
  {
   "cell_type": "code",
   "execution_count": 68,
   "metadata": {},
   "outputs": [
    {
     "data": {
      "text/plain": [
       "42"
      ]
     },
     "execution_count": 68,
     "metadata": {},
     "output_type": "execute_result"
    }
   ],
   "source": [
    "len(rf_shap_cols)"
   ]
  },
  {
   "cell_type": "code",
   "execution_count": 69,
   "metadata": {},
   "outputs": [],
   "source": [
    "# Retrain the classifiers using the new feature set\n",
    "# rf_clf.fit(train_rf[rf_shap_cols],y_1)"
   ]
  },
  {
   "cell_type": "markdown",
   "metadata": {},
   "source": [
    "### Back test over the period 2010 - 2018"
   ]
  },
  {
   "cell_type": "code",
   "execution_count": 74,
   "metadata": {},
   "outputs": [],
   "source": [
    "scalers = [StandardScaler() for _ in range(len(training_data))]\n",
    "\n",
    "def get_opt_data(shap_cols):\n",
    "    opt_training_data = [pd.DataFrame(scalers[i].fit_transform(training_frames[i][shap_cols].values),columns=shap_cols) for i in range(len(training_data))]\n",
    "    opt_valid_data = [pd.DataFrame(scalers[i].transform(valid_frames[i][shap_cols].values),columns=shap_cols) for i in range(len(valid_data))]\n",
    "    opt_test_data = [pd.DataFrame(scalers[i].transform(test_frames[i][shap_cols].values),columns=shap_cols) for i in range(len(test_data))]\n",
    "    return opt_training_data, opt_valid_data, opt_test_data\n",
    "\n",
    "rf_opt_training_data, rf_opt_valid_data, rf_opt_test_data = get_opt_data(rf_shap_cols)"
   ]
  },
  {
   "cell_type": "code",
   "execution_count": 75,
   "metadata": {},
   "outputs": [
    {
     "data": {
      "text/plain": [
       "48"
      ]
     },
     "execution_count": 75,
     "metadata": {},
     "output_type": "execute_result"
    }
   ],
   "source": [
    "len(rf_features)"
   ]
  },
  {
   "cell_type": "code",
   "execution_count": 79,
   "metadata": {},
   "outputs": [
    {
     "name": "stderr",
     "output_type": "stream",
     "text": [
      "100%|███████████████████████████████████████████| 20/20 [00:10<00:00,  1.91it/s]\n"
     ]
    }
   ],
   "source": [
    "# dictionary to store performance and returns\n",
    "opt_xs = [1]\n",
    "opt_rets = []\n",
    "\n",
    "for i in tqdm(range(len(start_dates)-1)):\n",
    "    rf_clf.fit(rf_opt_training_data[i],training_labels[i])\n",
    "    \n",
    "    preds = rf_clf.predict(rf_opt_test_data[i])\n",
    "    profit_i = (preds*test_stock_returns[i]).sum()\n",
    "    \n",
    "    opt_rets.append(profit_i)\n",
    "    num_names = len(rf_opt_test_data[i])\n",
    "    opt_xs.append(opt_xs[i] + (opt_xs[i]/num_names)*profit_i)"
   ]
  },
  {
   "cell_type": "code",
   "execution_count": 84,
   "metadata": {},
   "outputs": [
    {
     "data": {
      "image/png": "[encoded data removed]",
      "text/plain": [
       "<Figure size 640x480 with 1 Axes>"
      ]
     },
     "metadata": {},
     "output_type": "display_data"
    }
   ],
   "source": [
    "for x_list in [opt_xs]:\n",
    "    plt.plot(x_list);"
   ]
  },
  {
   "cell_type": "code",
   "execution_count": 83,
   "metadata": {},
   "outputs": [
    {
     "data": {
      "image/png": "[encoded data removed]",
      "text/plain": [
       "<Figure size 640x480 with 1 Axes>"
      ]
     },
     "metadata": {},
     "output_type": "display_data"
    }
   ],
   "source": [
    "# Compare to buy and hold of SPY\n",
    "SPY = pd.read_pickle(r'SPY_cum_ret.pkl')\n",
    "SPY = SPY.loc['2013-07-01':'2018-09-30']\n",
    "SPY = SPY.resample('Q').ffill()\n",
    "SPY['spy_cum_ret'] = (SPY['spy_cum_ret'] - SPY['spy_cum_ret'][0]+1)\n",
    "SPY['random forest'] = opt_xs\n",
    "SPY.plot();"
   ]
  },
  {
   "cell_type": "code",
   "execution_count": 83,
   "metadata": {},
   "outputs": [
    {
     "data": {
      "text/html": [
       "<style>#sk-container-id-7 {color: black;}#sk-container-id-7 pre{padding: 0;}#sk-container-id-7 div.sk-toggleable {background-color: white;}#sk-container-id-7 label.sk-toggleable__label {cursor: pointer;display: block;width: 100%;margin-bottom: 0;padding: 0.3em;box-sizing: border-box;text-align: center;}#sk-container-id-7 label.sk-toggleable__label-arrow:before {content: \"▸\";float: left;margin-right: 0.25em;color: #696969;}#sk-container-id-7 label.sk-toggleable__label-arrow:hover:before {color: black;}#sk-container-id-7 div.sk-estimator:hover label.sk-toggleable__label-arrow:before {color: black;}#sk-container-id-7 div.sk-toggleable__content {max-height: 0;max-width: 0;overflow: hidden;text-align: left;background-color: #f0f8ff;}#sk-container-id-7 div.sk-toggleable__content pre {margin: 0.2em;color: black;border-radius: 0.25em;background-color: #f0f8ff;}#sk-container-id-7 input.sk-toggleable__control:checked~div.sk-toggleable__content {max-height: 200px;max-width: 100%;overflow: auto;}#sk-container-id-7 input.sk-toggleable__control:checked~label.sk-toggleable__label-arrow:before {content: \"▾\";}#sk-container-id-7 div.sk-estimator input.sk-toggleable__control:checked~label.sk-toggleable__label {background-color: #d4ebff;}#sk-container-id-7 div.sk-label input.sk-toggleable__control:checked~label.sk-toggleable__label {background-color: #d4ebff;}#sk-container-id-7 input.sk-hidden--visually {border: 0;clip: rect(1px 1px 1px 1px);clip: rect(1px, 1px, 1px, 1px);height: 1px;margin: -1px;overflow: hidden;padding: 0;position: absolute;width: 1px;}#sk-container-id-7 div.sk-estimator {font-family: monospace;background-color: #f0f8ff;border: 1px dotted black;border-radius: 0.25em;box-sizing: border-box;margin-bottom: 0.5em;}#sk-container-id-7 div.sk-estimator:hover {background-color: #d4ebff;}#sk-container-id-7 div.sk-parallel-item::after {content: \"\";width: 100%;border-bottom: 1px solid gray;flex-grow: 1;}#sk-container-id-7 div.sk-label:hover label.sk-toggleable__label {background-color: #d4ebff;}#sk-container-id-7 div.sk-serial::before {content: \"\";position: absolute;border-left: 1px solid gray;box-sizing: border-box;top: 0;bottom: 0;left: 50%;z-index: 0;}#sk-container-id-7 div.sk-serial {display: flex;flex-direction: column;align-items: center;background-color: white;padding-right: 0.2em;padding-left: 0.2em;position: relative;}#sk-container-id-7 div.sk-item {position: relative;z-index: 1;}#sk-container-id-7 div.sk-parallel {display: flex;align-items: stretch;justify-content: center;background-color: white;position: relative;}#sk-container-id-7 div.sk-item::before, #sk-container-id-7 div.sk-parallel-item::before {content: \"\";position: absolute;border-left: 1px solid gray;box-sizing: border-box;top: 0;bottom: 0;left: 50%;z-index: -1;}#sk-container-id-7 div.sk-parallel-item {display: flex;flex-direction: column;z-index: 1;position: relative;background-color: white;}#sk-container-id-7 div.sk-parallel-item:first-child::after {align-self: flex-end;width: 50%;}#sk-container-id-7 div.sk-parallel-item:last-child::after {align-self: flex-start;width: 50%;}#sk-container-id-7 div.sk-parallel-item:only-child::after {width: 0;}#sk-container-id-7 div.sk-dashed-wrapped {border: 1px dashed gray;margin: 0 0.4em 0.5em 0.4em;box-sizing: border-box;padding-bottom: 0.4em;background-color: white;}#sk-container-id-7 div.sk-label label {font-family: monospace;font-weight: bold;display: inline-block;line-height: 1.2em;}#sk-container-id-7 div.sk-label-container {text-align: center;}#sk-container-id-7 div.sk-container {/* jupyter's `normalize.less` sets `[hidden] { display: none; }` but bootstrap.min.css set `[hidden] { display: none !important; }` so we also need the `!important` here to be able to override the default hidden behavior on the sphinx rendered scikit-learn.org. See: https://github.com/scikit-learn/scikit-learn/issues/21755 */display: inline-block !important;position: relative;}#sk-container-id-7 div.sk-text-repr-fallback {display: none;}</style><div id=\"sk-container-id-7\" class=\"sk-top-container\"><div class=\"sk-text-repr-fallback\"><pre>DecisionTreeClassifier(max_depth=15, min_samples_leaf=700, random_state=123)</pre><b>In a Jupyter environment, please rerun this cell to show the HTML representation or trust the notebook. <br />On GitHub, the HTML representation is unable to render, please try loading this page with nbviewer.org.</b></div><div class=\"sk-container\" hidden><div class=\"sk-item\"><div class=\"sk-estimator sk-toggleable\"><input class=\"sk-toggleable__control sk-hidden--visually\" id=\"sk-estimator-id-9\" type=\"checkbox\" checked><label for=\"sk-estimator-id-9\" class=\"sk-toggleable__label sk-toggleable__label-arrow\">DecisionTreeClassifier</label><div class=\"sk-toggleable__content\"><pre>DecisionTreeClassifier(max_depth=15, min_samples_leaf=700, random_state=123)</pre></div></div></div></div></div>"
      ],
      "text/plain": [
       "DecisionTreeClassifier(max_depth=15, min_samples_leaf=700, random_state=123)"
      ]
     },
     "execution_count": 83,
     "metadata": {},
     "output_type": "execute_result"
    }
   ],
   "source": [
    "t_clf.fit(train_1,y_1)"
   ]
  },
  {
   "cell_type": "code",
   "execution_count": null,
   "metadata": {},
   "outputs": [],
   "source": [
    "preds=rf_clf.predict(valid)"
   ]
  },
  {
   "cell_type": "code",
   "execution_count": null,
   "metadata": {},
   "outputs": [],
   "source": [
    "valid_profit = (preds * df_valid['next_period_return']).sum()\n",
    "valid_profit"
   ]
  },
  {
   "cell_type": "code",
   "execution_count": null,
   "metadata": {},
   "outputs": [],
   "source": [
    "pred_test=rf_clf.predict(test)"
   ]
  },
  {
   "cell_type": "code",
   "execution_count": null,
   "metadata": {},
   "outputs": [],
   "source": [
    "test_profit = (pred_test * df_test['next_period_return']).sum()\n",
    "test_profit"
   ]
  },
  {
   "cell_type": "code",
   "execution_count": null,
   "metadata": {
    "ExecuteTime": {
     "end_time": "2020-02-11T00:26:34.187187Z",
     "start_time": "2020-02-11T00:26:34.155597Z"
    }
   },
   "outputs": [],
   "source": [
    "confusion_matrix(y_test,pred_test)"
   ]
  },
  {
   "cell_type": "code",
   "execution_count": null,
   "metadata": {},
   "outputs": [],
   "source": [
    "accuracy_score(preds,y_valid)"
   ]
  },
  {
   "cell_type": "code",
   "execution_count": null,
   "metadata": {},
   "outputs": [],
   "source": [
    "accuracy_score(pred_test,y_test)"
   ]
  },
  {
   "cell_type": "code",
   "execution_count": null,
   "metadata": {
    "ExecuteTime": {
     "end_time": "2020-02-11T00:25:49.640309Z",
     "start_time": "2020-02-11T00:25:49.632310Z"
    }
   },
   "outputs": [],
   "source": [
    "len(train_1.columns)"
   ]
  },
  {
   "cell_type": "code",
   "execution_count": null,
   "metadata": {},
   "outputs": [],
   "source": []
  },
  {
   "cell_type": "code",
   "execution_count": null,
   "metadata": {
    "ExecuteTime": {
     "end_time": "2020-02-11T00:30:26.233418Z",
     "start_time": "2020-02-11T00:30:26.207352Z"
    }
   },
   "outputs": [],
   "source": [
    "def randomforest_feat_importances(m, df):\n",
    "        \n",
    "    return pd.DataFrame({'cols':df.columns, 'feat_imp': m.feature_importances_}\n",
    "                       ).sort_values('feat_imp', ascending=False)\n",
    "\n",
    "def plot_fi(fi): return fi.plot('cols', 'feat_imp', 'barh', figsize=(12,7), legend=False)"
   ]
  },
  {
   "cell_type": "code",
   "execution_count": null,
   "metadata": {
    "ExecuteTime": {
     "end_time": "2020-02-11T00:30:29.412179Z",
     "start_time": "2020-02-11T00:30:29.298179Z"
    }
   },
   "outputs": [],
   "source": [
    "fi = randomforest_feat_importances(rf_clf,train_1)"
   ]
  },
  {
   "cell_type": "code",
   "execution_count": null,
   "metadata": {
    "ExecuteTime": {
     "end_time": "2020-02-11T00:31:01.727197Z",
     "start_time": "2020-02-11T00:31:01.717164Z"
    }
   },
   "outputs": [],
   "source": [
    "features = fi[(fi['feat_imp'] > 0.00)]"
   ]
  },
  {
   "cell_type": "code",
   "execution_count": null,
   "metadata": {
    "ExecuteTime": {
     "end_time": "2020-02-11T00:31:04.292915Z",
     "start_time": "2020-02-11T00:31:04.276239Z"
    }
   },
   "outputs": [],
   "source": [
    "features.shape"
   ]
  },
  {
   "cell_type": "code",
   "execution_count": null,
   "metadata": {
    "ExecuteTime": {
     "end_time": "2020-02-09T18:41:42.955393Z",
     "start_time": "2020-02-09T18:41:41.132339Z"
    },
    "scrolled": true
   },
   "outputs": [],
   "source": [
    "plot_fi(features);"
   ]
  },
  {
   "cell_type": "code",
   "execution_count": null,
   "metadata": {
    "ExecuteTime": {
     "end_time": "2020-02-09T18:41:50.410724Z",
     "start_time": "2020-02-09T18:41:50.386727Z"
    }
   },
   "outputs": [],
   "source": [
    "features"
   ]
  },
  {
   "cell_type": "code",
   "execution_count": null,
   "metadata": {
    "ExecuteTime": {
     "end_time": "2020-02-09T18:42:00.953015Z",
     "start_time": "2020-02-09T18:42:00.934981Z"
    }
   },
   "outputs": [],
   "source": [
    "train_1 = train_1[features['cols'].values]\n",
    "valid = valid[features['cols'].values]"
   ]
  },
  {
   "cell_type": "code",
   "execution_count": null,
   "metadata": {
    "ExecuteTime": {
     "end_time": "2020-02-11T00:37:00.392945Z",
     "start_time": "2020-02-11T00:36:58.708361Z"
    }
   },
   "outputs": [],
   "source": [
    "rf_clf.fit(train_1,y_1)\n",
    "rf_clf.score(train_1,y_1)"
   ]
  },
  {
   "cell_type": "code",
   "execution_count": null,
   "metadata": {},
   "outputs": [],
   "source": [
    "len(valid)"
   ]
  },
  {
   "cell_type": "code",
   "execution_count": null,
   "metadata": {
    "ExecuteTime": {
     "end_time": "2020-02-11T00:37:16.075277Z",
     "start_time": "2020-02-11T00:37:15.833282Z"
    }
   },
   "outputs": [],
   "source": [
    "pred_valid = rf_clf.predict(valid)\n",
    "rf_clf.score(valid,y_valid)"
   ]
  },
  {
   "cell_type": "code",
   "execution_count": null,
   "metadata": {
    "ExecuteTime": {
     "end_time": "2020-02-11T00:39:53.813754Z",
     "start_time": "2020-02-11T00:39:53.805751Z"
    }
   },
   "outputs": [],
   "source": [
    "(pred_valid * valid_stock_returns).sum()"
   ]
  },
  {
   "cell_type": "code",
   "execution_count": null,
   "metadata": {
    "ExecuteTime": {
     "end_time": "2020-02-11T00:40:17.297207Z",
     "start_time": "2020-02-11T00:40:17.291205Z"
    }
   },
   "outputs": [],
   "source": [
    "Counter(pred_valid)"
   ]
  },
  {
   "cell_type": "code",
   "execution_count": null,
   "metadata": {},
   "outputs": [],
   "source": [
    "valid_1 = valid.copy()"
   ]
  },
  {
   "cell_type": "code",
   "execution_count": null,
   "metadata": {},
   "outputs": [],
   "source": [
    "valid_1['returns'] = valid_stock_returns.values"
   ]
  },
  {
   "cell_type": "code",
   "execution_count": null,
   "metadata": {},
   "outputs": [],
   "source": [
    "import shap"
   ]
  },
  {
   "cell_type": "code",
   "execution_count": null,
   "metadata": {},
   "outputs": [],
   "source": [
    "def model(features):\n",
    "    tree_features = features[features.columns[:-1].values]\n",
    "\n",
    "    pred = rf_clf.predict(tree_features)\n",
    "\n",
    "    ret = pred * features[features.columns[-1]]\n",
    "\n",
    "    return ret"
   ]
  },
  {
   "cell_type": "code",
   "execution_count": null,
   "metadata": {},
   "outputs": [],
   "source": [
    "model(valid_1)"
   ]
  },
  {
   "cell_type": "code",
   "execution_count": null,
   "metadata": {},
   "outputs": [],
   "source": [
    "explainer = shap.explainers.Permutation(model,valid_1)"
   ]
  },
  {
   "cell_type": "code",
   "execution_count": null,
   "metadata": {},
   "outputs": [],
   "source": [
    "shap_values = explainer(valid_1,max_evals=2000)"
   ]
  },
  {
   "cell_type": "code",
   "execution_count": null,
   "metadata": {},
   "outputs": [],
   "source": [
    "shap.plots.bar(shap_values[:,:-1],max_display=60)"
   ]
  },
  {
   "cell_type": "code",
   "execution_count": null,
   "metadata": {},
   "outputs": [],
   "source": [
    "cols = features['cols'].values"
   ]
  },
  {
   "cell_type": "code",
   "execution_count": null,
   "metadata": {},
   "outputs": [],
   "source": [
    "shap_cols = cols[np.abs(shap_values[:,:-1].values).mean(axis=0)>0.000]"
   ]
  },
  {
   "cell_type": "code",
   "execution_count": null,
   "metadata": {},
   "outputs": [],
   "source": [
    "start_dates = [pd.to_datetime('2001-01-01') + pd.DateOffset(months = 3 * i) for i in range(57)]\n",
    "end_dates = [d + pd.DateOffset(months = 36) for d in start_dates]\n",
    "\n",
    "training_frames = [data.loc[d:d+pd.DateOffset(months = 36)] for d in start_dates]\n",
    "valid_frames = [data.loc[d + pd.DateOffset(months=3):d+pd.DateOffset(months = 6)] for d in end_dates]\n",
    "test_frames = [data.loc[d + pd.DateOffset(months=6):d+pd.DateOffset(months = 9)] for d in end_dates]\n",
    "\n",
    "training_data = [d.reset_index().drop\n",
    "                                 (['ticker','date',\n",
    "                                   'next_period_return',\n",
    "                                   'spy_next_period_return',\n",
    "                                   'rel_performance','pred_rel_return',\n",
    "                                  'return', 'cum_ret', 'spy_cum_ret'],axis=1) for d in training_frames]\n",
    "valid_data = [d.reset_index().drop(['ticker','date',\n",
    "                                   'next_period_return',\n",
    "                                   'spy_next_period_return',\n",
    "                                   'rel_performance','pred_rel_return',\n",
    "                                  'return', 'cum_ret', 'spy_cum_ret'],axis=1) for d in valid_frames]\n",
    "test_data = [d.reset_index().drop(['ticker','date',\n",
    "                                   'next_period_return',\n",
    "                                   'spy_next_period_return',\n",
    "                                   'rel_performance','pred_rel_return',\n",
    "                                  'return', 'cum_ret', 'spy_cum_ret'],axis=1) for d in test_frames]\n",
    "\n",
    "training_labels = [d['rel_performance'].values for d in training_frames]\n",
    "validation_labels = [d['rel_performance'].values for d in test_frames]"
   ]
  },
  {
   "cell_type": "code",
   "execution_count": null,
   "metadata": {},
   "outputs": [],
   "source": [
    "from sklearn.preprocessing import StandardScaler"
   ]
  },
  {
   "cell_type": "code",
   "execution_count": null,
   "metadata": {},
   "outputs": [],
   "source": [
    "scalers = [StandardScaler() for _ in range(len(training_data))]\n",
    "           \n",
    "opt_training_data = [pd.DataFrame(scalers[i].fit_transform(training_frames[i][shap_cols].values),columns=shap_cols) for i in range(len(training_data))]\n",
    "opt_valid_data = [pd.DataFrame(scalers[i].transform(valid_frames[i][shap_cols].values),columns=shap_cols) for i in range(len(valid_data))]\n",
    "opt_test_data = [pd.DataFrame(scalers[i].transform(test_frames[i][shap_cols].values),columns=shap_cols) for i in range(len(test_data))]"
   ]
  },
  {
   "cell_type": "code",
   "execution_count": null,
   "metadata": {},
   "outputs": [],
   "source": [
    "x = [1]\n",
    "ret = []\n",
    "\n",
    "for i in range(len(start_dates)-1):\n",
    "        rf_clf.fit(opt_training_data[i],training_labels[i])\n",
    "\n",
    "        preds = rf_clf.predict(opt_test_data[i])\n",
    "        profit_i = (preds*test_frames[i]['next_period_return']).sum()\n",
    "        ret.append(profit_i)\n",
    "        num_names = len(opt_test_data[i])\n",
    "        x.append(x[i] + (x[i]/num_names)*profit_i)\n"
   ]
  },
  {
   "cell_type": "code",
   "execution_count": null,
   "metadata": {},
   "outputs": [],
   "source": [
    "plt.plot(x);"
   ]
  },
  {
   "cell_type": "code",
   "execution_count": null,
   "metadata": {},
   "outputs": [],
   "source": [
    "SPY = pd.read_pickle(r'C:\\Users\\niels\\OneDrive\\Machine Learning 2022\\Lecture 2\\SPY_cum_ret.pkl')\n",
    "SPY = SPY.loc['2004-07-01':'2018-09-30']\n",
    "SPY = SPY.resample('Q').ffill()\n",
    "SPY['spy_cum_ret'] = (SPY['spy_cum_ret'] - SPY['spy_cum_ret'][0]+1)\n",
    "SPY['strategy'] = x"
   ]
  },
  {
   "cell_type": "code",
   "execution_count": null,
   "metadata": {},
   "outputs": [],
   "source": [
    "SPY.plot();"
   ]
  },
  {
   "cell_type": "code",
   "execution_count": null,
   "metadata": {},
   "outputs": [],
   "source": [
    "SPY = SPY.resample('Y').ffill()\n",
    "SPY.plot();"
   ]
  },
  {
   "cell_type": "code",
   "execution_count": null,
   "metadata": {},
   "outputs": [],
   "source": [
    "strategy_mean_ret = (SPY['strategy'] - 1).diff().mean()\n",
    "strategy_std = (SPY['strategy'] - 1).diff().std()\n",
    "strategy_sr = strategy_mean_ret/strategy_std\n",
    "print('Strategy Sharpe Ratio: ',strategy_sr)"
   ]
  },
  {
   "cell_type": "code",
   "execution_count": null,
   "metadata": {},
   "outputs": [],
   "source": [
    "strategy_std = (SPY['strategy'] - 1).diff().std()\n",
    "strategy_std"
   ]
  },
  {
   "cell_type": "code",
   "execution_count": null,
   "metadata": {},
   "outputs": [],
   "source": [
    "(SPY['spy_cum_ret'] - 1).diff().mean()\n",
    "(SPY['spy_cum_ret'] - 1).diff().std()\n",
    "print('SP Sharpe Ratio: ',(SPY['spy_cum_ret'] - 1).diff().mean()/(SPY['spy_cum_ret'] - 1).diff().std())"
   ]
  },
  {
   "cell_type": "code",
   "execution_count": null,
   "metadata": {},
   "outputs": [],
   "source": [
    "x[-1]"
   ]
  },
  {
   "cell_type": "code",
   "execution_count": null,
   "metadata": {},
   "outputs": [],
   "source": [
    "strategy_ret = (SPY['strategy'] - 1).diff().values[1:]\n",
    "spy_ret = (SPY['spy_cum_ret'] - 1).diff().values[1:]\n",
    "\n",
    "beta = (np.cov(spy_ret,strategy_ret)/np.var(spy_ret))[1,0]\n",
    "beta"
   ]
  },
  {
   "cell_type": "code",
   "execution_count": null,
   "metadata": {},
   "outputs": [],
   "source": [
    "residual_ret = strategy_ret - beta * spy_ret\n",
    "IR = np.mean(residual_ret)/np.std(residual_ret)\n",
    "IR"
   ]
  },
  {
   "cell_type": "code",
   "execution_count": null,
   "metadata": {},
   "outputs": [],
   "source": [
    "alpha = np.mean(residual_ret)\n",
    "alpha"
   ]
  },
  {
   "cell_type": "code",
   "execution_count": null,
   "metadata": {
    "ExecuteTime": {
     "end_time": "2020-02-09T18:42:30.850795Z",
     "start_time": "2020-02-09T18:42:30.843799Z"
    }
   },
   "outputs": [],
   "source": [
    "def profit_importance(m,df,rets):\n",
    "#     np.random.seed(123)\n",
    "    profit = []\n",
    "    for col in df.columns:\n",
    "        prof = []\n",
    "        for _ in range(100):\n",
    "            X = df.copy()\n",
    "            X[col] = np.random.permutation(df[col].values)\n",
    "            prediction = m.predict(X)\n",
    "            prof.append((prediction * rets).sum())\n",
    "        profit.append(np.mean(prof))\n",
    "    return profit"
   ]
  },
  {
   "cell_type": "code",
   "execution_count": null,
   "metadata": {},
   "outputs": [],
   "source": []
  },
  {
   "cell_type": "code",
   "execution_count": null,
   "metadata": {},
   "outputs": [],
   "source": []
  },
  {
   "cell_type": "code",
   "execution_count": null,
   "metadata": {
    "ExecuteTime": {
     "end_time": "2020-02-11T00:48:51.812297Z",
     "start_time": "2020-02-11T00:48:51.806329Z"
    }
   },
   "outputs": [],
   "source": [
    "def randomforest_profit_importance(m, df,rets):\n",
    "    return pd.DataFrame({'cols':df.columns, 'pi_imp':profit_importance(m,df,rets)}\n",
    "                       ).sort_values('pi_imp', ascending=True)"
   ]
  },
  {
   "cell_type": "code",
   "execution_count": null,
   "metadata": {
    "ExecuteTime": {
     "end_time": "2020-02-11T00:58:52.576470Z",
     "start_time": "2020-02-11T00:48:55.605627Z"
    }
   },
   "outputs": [],
   "source": [
    "pi = randomforest_profit_importance(rf_clf,valid,valid_stock_returns)\n",
    "pi"
   ]
  },
  {
   "cell_type": "code",
   "execution_count": null,
   "metadata": {
    "ExecuteTime": {
     "end_time": "2020-02-09T20:39:56.078663Z",
     "start_time": "2020-02-09T18:46:17.429778Z"
    }
   },
   "outputs": [],
   "source": [
    "%%time\n",
    "profits = []\n",
    "feat=[]\n",
    "\n",
    "train = train_1.copy()\n",
    "validation = valid.copy()\n",
    "\n",
    "while len(train.columns)>1:\n",
    "\n",
    "    col_to_drop = pi.iloc[-1]['cols']\n",
    "    train.drop(col_to_drop,axis=1,inplace=True)\n",
    "    validation.drop(col_to_drop,axis=1,inplace=True)\n",
    "        \n",
    "    rf_clf.fit(train,y_1)\n",
    "    pi = randomforest_profit_importance(rf_clf,validation,df_valid['next_period_return'])\n",
    "\n",
    "    pred_valid = rf_clf.predict(validation)\n",
    "        \n",
    "    print((pred_valid * df_valid['next_period_return']).sum())\n",
    "    profits.append((pred_valid * df_valid['next_period_return']).sum())\n",
    "    feat.append(train.columns)"
   ]
  },
  {
   "cell_type": "code",
   "execution_count": null,
   "metadata": {
    "ExecuteTime": {
     "end_time": "2020-02-09T20:40:58.562802Z",
     "start_time": "2020-02-09T20:40:58.382807Z"
    }
   },
   "outputs": [],
   "source": [
    "plt.plot(profits);"
   ]
  },
  {
   "cell_type": "code",
   "execution_count": null,
   "metadata": {
    "ExecuteTime": {
     "end_time": "2020-02-11T00:58:52.579476Z",
     "start_time": "2020-02-11T00:54:19.646Z"
    }
   },
   "outputs": [],
   "source": [
    "n = np.argmax(profits)\n",
    "profits[n]"
   ]
  },
  {
   "cell_type": "code",
   "execution_count": null,
   "metadata": {
    "ExecuteTime": {
     "end_time": "2020-02-11T00:58:52.581472Z",
     "start_time": "2020-02-11T00:54:23.942Z"
    }
   },
   "outputs": [],
   "source": [
    "n"
   ]
  },
  {
   "cell_type": "code",
   "execution_count": null,
   "metadata": {
    "ExecuteTime": {
     "end_time": "2020-02-09T20:41:12.758275Z",
     "start_time": "2020-02-09T20:41:12.752241Z"
    }
   },
   "outputs": [],
   "source": [
    "optim_feats = feat[n]\n",
    "optim_feats\n"
   ]
  },
  {
   "cell_type": "code",
   "execution_count": null,
   "metadata": {
    "ExecuteTime": {
     "end_time": "2020-02-11T00:58:52.583473Z",
     "start_time": "2020-02-11T00:55:04.793Z"
    }
   },
   "outputs": [],
   "source": [
    "train_1_optim = train_1[optim_feats]\n",
    "valid_optim = valid[optim_feats]\n",
    "\n",
    "\n",
    "rf_clf.fit(train_1_optim,y_1)\n",
    "print(rf_clf.score(train_1_optim,y_1))\n",
    "pred_valid = rf_clf.predict(valid_optim)\n",
    "print(rf_clf.score(valid_optim,y_valid))\n",
    "(pred_valid * valid_stock_returns).sum()"
   ]
  },
  {
   "cell_type": "code",
   "execution_count": null,
   "metadata": {},
   "outputs": [],
   "source": [
    "confusion_matrix(pred_valid,y_valid)"
   ]
  },
  {
   "cell_type": "code",
   "execution_count": null,
   "metadata": {},
   "outputs": [],
   "source": [
    "Counter(y_valid)"
   ]
  },
  {
   "cell_type": "code",
   "execution_count": null,
   "metadata": {},
   "outputs": [],
   "source": [
    "Counter(pred_valid)"
   ]
  },
  {
   "cell_type": "markdown",
   "metadata": {},
   "source": [
    "## Long term performance with Random Forest Classifier, optimal hyper-parameters"
   ]
  },
  {
   "cell_type": "code",
   "execution_count": null,
   "metadata": {
    "ExecuteTime": {
     "end_time": "2020-02-11T00:59:21.882803Z",
     "start_time": "2020-02-11T00:59:21.859799Z"
    }
   },
   "outputs": [],
   "source": [
    "start_dates = [pd.to_datetime('2000-01-01') + pd.DateOffset(months = 3 * i) for i in range(62)]\n",
    "end_dates = [d + pd.DateOffset(months = 36) for d in start_dates]"
   ]
  },
  {
   "cell_type": "code",
   "execution_count": null,
   "metadata": {
    "ExecuteTime": {
     "end_time": "2020-02-11T01:00:06.107690Z",
     "start_time": "2020-02-11T01:00:06.050640Z"
    }
   },
   "outputs": [],
   "source": [
    "training_frames = [data.loc[d:d+pd.DateOffset(months = 36)] for d in start_dates]\n",
    "valid_frames = [data.loc[d:d+pd.DateOffset(months = 3)] for d in end_dates]\n",
    "test_frames = [data.loc[d+pd.DateOffset(months = 6):d+pd.DateOffset(months = 9)] for d in end_dates]"
   ]
  },
  {
   "cell_type": "code",
   "execution_count": null,
   "metadata": {
    "ExecuteTime": {
     "end_time": "2020-02-11T01:00:20.984116Z",
     "start_time": "2020-02-11T01:00:11.072616Z"
    }
   },
   "outputs": [],
   "source": [
    "training_data = [d.reset_index().drop\n",
    "                                 (['ticker','date',\n",
    "                                   'next_period_return',\n",
    "                                   'spy_next_period_return',\n",
    "                                   'rel_performance','pred_rel_return',\n",
    "                                  'return', 'cum_ret', 'spy_cum_ret'],axis=1) for d in training_frames]"
   ]
  },
  {
   "cell_type": "code",
   "execution_count": null,
   "metadata": {
    "ExecuteTime": {
     "end_time": "2020-02-11T01:00:22.138142Z",
     "start_time": "2020-02-11T01:00:20.986086Z"
    }
   },
   "outputs": [],
   "source": [
    "test_data = [d.reset_index().drop(['ticker','date',\n",
    "                                   'next_period_return',\n",
    "                                   'spy_next_period_return',\n",
    "                                   'rel_performance','pred_rel_return',\n",
    "                                  'return', 'cum_ret', 'spy_cum_ret'],axis=1) for d in test_frames]"
   ]
  },
  {
   "cell_type": "code",
   "execution_count": null,
   "metadata": {
    "ExecuteTime": {
     "end_time": "2020-02-11T01:00:28.172336Z",
     "start_time": "2020-02-11T01:00:28.162322Z"
    }
   },
   "outputs": [],
   "source": [
    "training_labels = [d['rel_performance'].values for d in training_frames]"
   ]
  },
  {
   "cell_type": "code",
   "execution_count": null,
   "metadata": {
    "ExecuteTime": {
     "end_time": "2020-02-11T01:00:33.994294Z",
     "start_time": "2020-02-11T01:00:33.869286Z"
    }
   },
   "outputs": [],
   "source": [
    "opt_training_data = [t[optim_feats] for t in training_data]\n",
    "opt_test_data = [v[optim_feats] for v in test_data]"
   ]
  },
  {
   "cell_type": "code",
   "execution_count": null,
   "metadata": {
    "ExecuteTime": {
     "end_time": "2020-02-11T01:01:15.387898Z",
     "start_time": "2020-02-11T01:00:58.271824Z"
    }
   },
   "outputs": [],
   "source": [
    "P_L = []\n",
    "x = [1]\n",
    "ret = []\n",
    "\n",
    "for i in range(len(training_labels)):\n",
    "        rf_clf.fit(opt_training_data[i],training_labels[i])\n",
    "        pred_i = rf_clf.predict(opt_test_data[i])\n",
    "        profit_i = (pred_i * test_frames[i]['next_period_return']).sum()\n",
    "        P_L.append(profit_i)\n",
    "        num_positions = len(pred_i)\n",
    "        ret.append((1.0/num_positions) * profit_i)\n",
    "        x.append(x[i] + (x[i]/num_positions) * profit_i)"
   ]
  },
  {
   "cell_type": "code",
   "execution_count": null,
   "metadata": {
    "ExecuteTime": {
     "end_time": "2020-02-11T01:01:20.294124Z",
     "start_time": "2020-02-11T01:01:20.107095Z"
    }
   },
   "outputs": [],
   "source": [
    "plt.plot(x);"
   ]
  },
  {
   "cell_type": "code",
   "execution_count": null,
   "metadata": {},
   "outputs": [],
   "source": [
    "len(x)"
   ]
  },
  {
   "cell_type": "code",
   "execution_count": null,
   "metadata": {
    "ExecuteTime": {
     "end_time": "2020-02-11T01:01:37.494042Z",
     "start_time": "2020-02-11T01:01:37.445007Z"
    }
   },
   "outputs": [],
   "source": [
    "SPY = pd.read_pickle(r'C:\\Users\\niels\\OneDrive\\Machine Learning 2022\\Lecture 2\\SPY_cum_ret.pkl')\n",
    "SPY = SPY.loc['2003-01-01':'2018-09-30']\n",
    "SPY = SPY.resample('Q').ffill()\n",
    "SPY['spy_cum_ret'] = (SPY['spy_cum_ret'] - SPY['spy_cum_ret'][0] + 1)\n",
    "SPY['strategy'] = x"
   ]
  },
  {
   "cell_type": "code",
   "execution_count": null,
   "metadata": {
    "ExecuteTime": {
     "end_time": "2020-02-11T01:01:41.397432Z",
     "start_time": "2020-02-11T01:01:41.198433Z"
    }
   },
   "outputs": [],
   "source": [
    "SPY.plot();"
   ]
  },
  {
   "cell_type": "code",
   "execution_count": null,
   "metadata": {
    "ExecuteTime": {
     "end_time": "2020-02-11T01:01:46.417678Z",
     "start_time": "2020-02-11T01:01:46.157159Z"
    }
   },
   "outputs": [],
   "source": [
    "SPY = SPY.resample('Y').ffill()\n",
    "SPY.plot();"
   ]
  },
  {
   "cell_type": "code",
   "execution_count": null,
   "metadata": {
    "ExecuteTime": {
     "end_time": "2020-02-11T01:01:54.486712Z",
     "start_time": "2020-02-11T01:01:54.468721Z"
    }
   },
   "outputs": [],
   "source": [
    "strategy_mean_ret = (SPY['strategy'] - 1).diff().mean()\n",
    "strategy_std = (SPY['strategy'] - 1).diff().std()\n",
    "strategy_sr = strategy_mean_ret/strategy_std\n",
    "print('Strategy Sharpe Ratio: ',strategy_sr)"
   ]
  },
  {
   "cell_type": "code",
   "execution_count": null,
   "metadata": {
    "ExecuteTime": {
     "end_time": "2020-02-11T01:02:00.792517Z",
     "start_time": "2020-02-11T01:02:00.786515Z"
    }
   },
   "outputs": [],
   "source": [
    "x[-1]"
   ]
  },
  {
   "cell_type": "code",
   "execution_count": null,
   "metadata": {
    "ExecuteTime": {
     "end_time": "2020-02-09T20:42:54.524395Z",
     "start_time": "2020-02-09T20:42:54.519365Z"
    }
   },
   "outputs": [],
   "source": [
    "SPY['spy_cum_ret'][-1]"
   ]
  },
  {
   "cell_type": "code",
   "execution_count": null,
   "metadata": {
    "ExecuteTime": {
     "end_time": "2020-02-09T20:42:59.954056Z",
     "start_time": "2020-02-09T20:42:59.949042Z"
    }
   },
   "outputs": [],
   "source": [
    "strategy_ret = (SPY['strategy'] - 1).diff().values[1:]\n",
    "spy_ret = (SPY['spy_cum_ret'] - 1).diff().values[1:]"
   ]
  },
  {
   "cell_type": "code",
   "execution_count": null,
   "metadata": {
    "ExecuteTime": {
     "end_time": "2020-02-09T20:43:01.135837Z",
     "start_time": "2020-02-09T20:43:01.130715Z"
    }
   },
   "outputs": [],
   "source": [
    "beta = (np.cov(spy_ret,strategy_ret)/np.var(spy_ret))[1,0]"
   ]
  },
  {
   "cell_type": "code",
   "execution_count": null,
   "metadata": {
    "ExecuteTime": {
     "end_time": "2020-02-09T20:43:02.086883Z",
     "start_time": "2020-02-09T20:43:02.081733Z"
    }
   },
   "outputs": [],
   "source": [
    "beta"
   ]
  },
  {
   "cell_type": "code",
   "execution_count": null,
   "metadata": {
    "ExecuteTime": {
     "end_time": "2020-02-09T20:43:03.343715Z",
     "start_time": "2020-02-09T20:43:03.340714Z"
    }
   },
   "outputs": [],
   "source": [
    "residual_ret = strategy_ret - beta * spy_ret"
   ]
  },
  {
   "cell_type": "code",
   "execution_count": null,
   "metadata": {
    "ExecuteTime": {
     "end_time": "2020-02-09T20:43:04.279350Z",
     "start_time": "2020-02-09T20:43:04.274357Z"
    }
   },
   "outputs": [],
   "source": [
    "IR = np.mean(residual_ret)/np.std(residual_ret)"
   ]
  },
  {
   "cell_type": "code",
   "execution_count": null,
   "metadata": {
    "ExecuteTime": {
     "end_time": "2020-02-09T20:43:04.957387Z",
     "start_time": "2020-02-09T20:43:04.952353Z"
    }
   },
   "outputs": [],
   "source": [
    "IR"
   ]
  },
  {
   "cell_type": "code",
   "execution_count": null,
   "metadata": {
    "ExecuteTime": {
     "end_time": "2020-02-09T20:43:08.280790Z",
     "start_time": "2020-02-09T20:43:08.275790Z"
    }
   },
   "outputs": [],
   "source": [
    "alpha = np.mean(residual_ret)"
   ]
  },
  {
   "cell_type": "code",
   "execution_count": null,
   "metadata": {
    "ExecuteTime": {
     "end_time": "2020-02-09T20:43:09.378792Z",
     "start_time": "2020-02-09T20:43:09.373790Z"
    }
   },
   "outputs": [],
   "source": [
    "alpha"
   ]
  },
  {
   "cell_type": "markdown",
   "metadata": {},
   "source": [
    "## Compute optimal features each quarter"
   ]
  },
  {
   "cell_type": "code",
   "execution_count": null,
   "metadata": {},
   "outputs": [],
   "source": [
    "import _pickle as cPickle"
   ]
  },
  {
   "cell_type": "code",
   "execution_count": null,
   "metadata": {},
   "outputs": [],
   "source": [
    "with open(r'C:\\Users\\niels\\OneDrive\\Machine Learning 2022\\Lecture 5\\opt_feat_4.pkl','rb') as f:\n",
    "    optimal_features = cPickle.load(f)"
   ]
  },
  {
   "cell_type": "code",
   "execution_count": null,
   "metadata": {},
   "outputs": [],
   "source": [
    "optimal_features"
   ]
  },
  {
   "cell_type": "code",
   "execution_count": null,
   "metadata": {},
   "outputs": [],
   "source": [
    "training_data = [d.reset_index().drop\n",
    "                                 (['ticker','date',\n",
    "                                   'next_period_return',\n",
    "                                   'spy_next_period_return',\n",
    "                                   'rel_performance','pred_rel_return',\n",
    "                                  'return', 'cum_ret', 'spy_cum_ret'],axis=1) for d in training_frames]"
   ]
  },
  {
   "cell_type": "code",
   "execution_count": null,
   "metadata": {},
   "outputs": [],
   "source": [
    "test_data = [d.reset_index().drop(['ticker','date',\n",
    "                                   'next_period_return',\n",
    "                                   'spy_next_period_return',\n",
    "                                   'rel_performance','pred_rel_return',\n",
    "                                  'return', 'cum_ret', 'spy_cum_ret'],axis=1) for d in valid_frames]"
   ]
  },
  {
   "cell_type": "code",
   "execution_count": null,
   "metadata": {},
   "outputs": [],
   "source": [
    "optimal_features"
   ]
  },
  {
   "cell_type": "code",
   "execution_count": null,
   "metadata": {},
   "outputs": [],
   "source": [
    "len(optimal_features)"
   ]
  },
  {
   "cell_type": "code",
   "execution_count": null,
   "metadata": {},
   "outputs": [],
   "source": [
    "rf_clf = RandomForestClassifier(**{'n_estimators': 20,\n",
    " 'max_features': 'sqrt',\n",
    " 'min_samples_leaf': 1600,\n",
    " 'max_depth': 10})"
   ]
  },
  {
   "cell_type": "code",
   "execution_count": null,
   "metadata": {},
   "outputs": [],
   "source": [
    "P_L = []\n",
    "x = [1]\n",
    "ret = []\n",
    "\n",
    "for i in range(len(optimal_features)-1):\n",
    "        rf_clf.fit(training_data[i][optimal_features[i-1]],training_labels[i])\n",
    "        pred_i = rf_clf.predict(test_data[i][optimal_features[i-1]])\n",
    "        profit_i = (pred_i * test_frames[i]['next_period_return']).sum()\n",
    "        P_L.append(profit_i)\n",
    "        num_positions = len(pred_i)\n",
    "        ret.append((1.0/num_positions) * profit_i)\n",
    "        x.append(x[i] + (x[i]/num_positions) * profit_i)"
   ]
  },
  {
   "cell_type": "code",
   "execution_count": null,
   "metadata": {},
   "outputs": [],
   "source": [
    "plt.plot(x[1:]);"
   ]
  },
  {
   "cell_type": "code",
   "execution_count": null,
   "metadata": {},
   "outputs": [],
   "source": [
    "SPY = pd.read_pickle(r'C:\\Users\\niels\\OneDrive\\Machine Learning 2022\\Lecture 2\\SPY_cum_ret.pkl')\n",
    "SPY = SPY.loc['2003-07-01':]\n",
    "SPY = SPY.resample('Q').ffill()\n",
    "SPY['spy_cum_ret'] = (SPY['spy_cum_ret'] - SPY['spy_cum_ret'][0] + 1)\n",
    "SPY['strategy'] = x"
   ]
  },
  {
   "cell_type": "code",
   "execution_count": null,
   "metadata": {},
   "outputs": [],
   "source": [
    "SPY.plot();"
   ]
  },
  {
   "cell_type": "code",
   "execution_count": null,
   "metadata": {},
   "outputs": [],
   "source": [
    "SPY = SPY.resample('Y').ffill()\n",
    "SPY.plot();"
   ]
  },
  {
   "cell_type": "code",
   "execution_count": null,
   "metadata": {},
   "outputs": [],
   "source": [
    "strategy_mean_ret = (SPY['strategy'] - 1).diff().mean()\n",
    "strategy_std = (SPY['strategy'] - 1).diff().std()\n",
    "strategy_sr = strategy_mean_ret/strategy_std\n",
    "print('Strategy Sharpe Ratio: ',strategy_sr)"
   ]
  },
  {
   "cell_type": "code",
   "execution_count": null,
   "metadata": {},
   "outputs": [],
   "source": [
    "strategy_ret = (SPY['strategy'] - 1).diff().values[1:]\n",
    "spy_ret = (SPY['spy_cum_ret'] - 1).diff().values[1:]"
   ]
  },
  {
   "cell_type": "code",
   "execution_count": null,
   "metadata": {},
   "outputs": [],
   "source": [
    "beta = (np.cov(spy_ret,strategy_ret)/np.var(spy_ret))[1,0]\n",
    "beta"
   ]
  },
  {
   "cell_type": "markdown",
   "metadata": {},
   "source": [
    "## Compute both optimal hyper-parameters and optimal features at each quarter"
   ]
  },
  {
   "cell_type": "code",
   "execution_count": null,
   "metadata": {},
   "outputs": [],
   "source": [
    "start_dates = [pd.to_datetime('2000-01-01') + pd.DateOffset(months = 3 * i) for i in range(62)]\n",
    "end_dates = [d + pd.DateOffset(months = 35) for d in start_dates]\n",
    "\n",
    "training_frames = [data.loc[d:d+pd.DateOffset(months = 36)] for d in start_dates]\n",
    "validation_frames = [data.loc[d:d+pd.DateOffset(months = 3)] for d in end_dates]\n",
    "test_frames = [data.loc[d + pd.DateOffset(months=6):d+pd.DateOffset(months = 9)] for d in end_dates]\n",
    "\n",
    "training_data = [d.reset_index().drop\n",
    "                                 (['ticker','date',\n",
    "                                   'next_period_return',\n",
    "                                   'spy_next_period_return',\n",
    "                                   'rel_performance','pred_rel_return',\n",
    "                                  'return', 'cum_ret', 'spy_cum_ret'],axis=1) for d in training_frames]\n",
    "validation_data = test_data = [d.reset_index().drop(['ticker','date',\n",
    "                                   'next_period_return',\n",
    "                                   'spy_next_period_return',\n",
    "                                   'rel_performance','pred_rel_return',\n",
    "                                  'return', 'cum_ret', 'spy_cum_ret'],axis=1) for d in validation_frames]\n",
    "test_data = [d.reset_index().drop(['ticker','date',\n",
    "                                   'next_period_return',\n",
    "                                   'spy_next_period_return',\n",
    "                                   'rel_performance','pred_rel_return',\n",
    "                                  'return', 'cum_ret', 'spy_cum_ret'],axis=1) for d in test_frames]\n",
    "\n",
    "training_labels = [d['rel_performance'].values for d in training_frames]\n",
    "validation_labels = [d['rel_performance'].values for d in validation_frames]"
   ]
  },
  {
   "cell_type": "code",
   "execution_count": null,
   "metadata": {},
   "outputs": [],
   "source": [
    "len(data.columns)"
   ]
  },
  {
   "cell_type": "code",
   "execution_count": null,
   "metadata": {},
   "outputs": [],
   "source": [
    "%%time\n",
    "optimal_features = []\n",
    "classifiers = []\n",
    "\n",
    "for i in range(len(training_data)):\n",
    "    print(i)\n",
    "    \n",
    "    study = optuna.create_study(direction=\"maximize\")\n",
    "    study.optimize(partial(objective,train=training_data[i],\n",
    "                           labels=training_labels[i],\n",
    "                           val=validation_data[i],\n",
    "                           val_labels=validation_labels[i],\n",
    "                           val_rets = validation_frames[i]['next_period_return']),\n",
    "                           n_trials=100,n_jobs=-1)\n",
    "    params = study.best_params\n",
    "    \n",
    "    print(params)\n",
    "    \n",
    "    rf_clf = RandomForestClassifier(**params)\n",
    "\n",
    "    classifiers.append(rf_clf)\n",
    "    \n",
    "    rf_clf.fit(training_data[i],training_labels[i])\n",
    "    fi = randomforest_feat_importances(rf_clf,training_data[i])\n",
    "    features = fi[fi['feat_imp'] > 0.005]\n",
    "    \n",
    "    train = training_data[i][features['cols'].values].copy()\n",
    "    validation = validation_data[i][features['cols'].values].copy()\n",
    "    \n",
    "    \n",
    "    profits = []\n",
    "    feat=[]\n",
    "    \n",
    "    rf_clf.fit(train,training_labels[i])\n",
    "    \n",
    "    while len(train.columns)>1:\n",
    "        \n",
    "        pi = randomforest_profit_importance(rf_clf,validation,validation_frames[i]['next_period_return'])\n",
    "\n",
    "        col_to_drop = pi.iloc[-1]['cols']\n",
    "        train.drop(col_to_drop,axis=1,inplace=True)\n",
    "        validation.drop(col_to_drop,axis=1,inplace=True)\n",
    "        \n",
    "        rf_clf.fit(train,training_labels[i])\n",
    "        pred_valid = rf_clf.predict(validation)\n",
    "        profits.append((pred_valid * validation_frames[i]['next_period_return']).sum())\n",
    "        feat.append(train.columns)\n",
    "        \n",
    "    n = np.argmax(profits)\n",
    "\n",
    "    max_profits = profits[n]\n",
    "\n",
    "    optim_feats = feat[n]\n",
    "    \n",
    "    print(optim_feats)\n",
    "    print(max_profits)\n",
    "\n",
    "    optimal_features.append(optim_feats)"
   ]
  },
  {
   "cell_type": "code",
   "execution_count": null,
   "metadata": {},
   "outputs": [],
   "source": [
    "with open('opt_feat_11.pkl','rb') as f:\n",
    "    optimal_features = pickle.load(f)"
   ]
  },
  {
   "cell_type": "code",
   "execution_count": null,
   "metadata": {},
   "outputs": [],
   "source": [
    "with open('classifiers_11.pkl','rb') as f:\n",
    "    classifiers = pickle.load(f)"
   ]
  },
  {
   "cell_type": "code",
   "execution_count": null,
   "metadata": {},
   "outputs": [],
   "source": [
    "P_L = []\n",
    "x = [1]\n",
    "ret = []\n",
    "\n",
    "for i in range(len(optimal_features)-1):\n",
    "\n",
    "        classifiers[i-1].fit(training_data[i][optimal_features[i-1]],training_labels[i])\n",
    "        pred_i = classifiers[i-1].predict(test_data[i][optimal_features[i-1]])\n",
    "        \n",
    "        profit_i = (pred_i * test_frames[i]['next_period_return']).sum()\n",
    "        P_L.append(profit_i)\n",
    "        positions = np.sum(np.abs(pred_i))\n",
    "        \n",
    "        ret.append((1.0/positions) * profit_i)\n",
    "        x.append(x[i] + (x[i]/positions) * profit_i)"
   ]
  },
  {
   "cell_type": "code",
   "execution_count": null,
   "metadata": {},
   "outputs": [],
   "source": [
    "plt.plot(x);"
   ]
  },
  {
   "cell_type": "code",
   "execution_count": null,
   "metadata": {},
   "outputs": [],
   "source": [
    "SPY = pd.read_pickle(r'C:\\Users\\niels\\OneDrive\\Machine Learning 2022\\Lecture 2\\SPY_cum_ret.pkl')\n",
    "SPY = SPY.loc['2003-07-01':]\n",
    "SPY = SPY.resample('Q').ffill()\n",
    "SPY['spy_cum_ret'] = (SPY['spy_cum_ret'] - SPY['spy_cum_ret'][0] + 1)\n",
    "SPY['strategy'] = x"
   ]
  },
  {
   "cell_type": "code",
   "execution_count": null,
   "metadata": {},
   "outputs": [],
   "source": [
    "SPY.plot();"
   ]
  },
  {
   "cell_type": "code",
   "execution_count": null,
   "metadata": {},
   "outputs": [],
   "source": [
    "SPY.tail()"
   ]
  },
  {
   "cell_type": "code",
   "execution_count": null,
   "metadata": {},
   "outputs": [],
   "source": [
    "SPY = SPY.resample('A').bfill()"
   ]
  },
  {
   "cell_type": "code",
   "execution_count": null,
   "metadata": {},
   "outputs": [],
   "source": [
    "SPY.plot();"
   ]
  },
  {
   "cell_type": "code",
   "execution_count": null,
   "metadata": {},
   "outputs": [],
   "source": [
    "strategy_mean_ret = (SPY['strategy'] - 1).diff().mean()\n",
    "strategy_std = (SPY['strategy'] - 1).diff().std()\n",
    "strategy_sr = strategy_mean_ret/strategy_std\n",
    "print('Strategy Sharpe Ratio: ',strategy_sr)"
   ]
  },
  {
   "cell_type": "code",
   "execution_count": null,
   "metadata": {},
   "outputs": [],
   "source": [
    "(SPY['spy_cum_ret'] - 1).diff().mean()\n",
    "(SPY['spy_cum_ret'] - 1).diff().std()\n",
    "print('SP Sharpe Ratio: ',(SPY['spy_cum_ret'] - 1).diff().mean()/(SPY['spy_cum_ret'] - 1).diff().std())"
   ]
  },
  {
   "cell_type": "code",
   "execution_count": null,
   "metadata": {},
   "outputs": [],
   "source": [
    "avr = np.exp(np.log(x[-1])/15.) - 1\n",
    "print('Average annual return: ',avr)\n",
    "sp_avr = np.exp(np.log(SPY['spy_cum_ret'][-1])/15) - 1\n",
    "print('SPY average annual return: ', sp_avr)"
   ]
  },
  {
   "cell_type": "code",
   "execution_count": null,
   "metadata": {},
   "outputs": [],
   "source": [
    "strategy_ret = (SPY['strategy'] - 1).diff().values[1:]\n",
    "spy_ret = (SPY['spy_cum_ret'] - 1).diff().values[1:]\n",
    "beta = (np.cov(spy_ret,strategy_ret)/np.var(spy_ret))[1,0]\n",
    "print('beta: ',beta)\n",
    "residual_ret = strategy_ret - beta * spy_ret\n",
    "IR = np.mean(residual_ret)/np.std(residual_ret)\n",
    "print('Information Ratio: ',IR)"
   ]
  },
  {
   "cell_type": "code",
   "execution_count": null,
   "metadata": {},
   "outputs": [],
   "source": [
    "alpha = np.mean(residual_ret)\n",
    "print('Strategy alpha: ',alpha)"
   ]
  },
  {
   "cell_type": "code",
   "execution_count": null,
   "metadata": {},
   "outputs": [],
   "source": [
    "starting_year='2010'\n",
    "a = SPY.loc[starting_year]['spy_cum_ret'].values\n",
    "b = SPY.loc[starting_year]['strategy'].values\n",
    "plt.plot(SPY.loc[starting_year:]['spy_cum_ret'] - a + 1);\n",
    "plt.plot(SPY.loc[starting_year:]['strategy'] - b + 1);"
   ]
  },
  {
   "cell_type": "code",
   "execution_count": null,
   "metadata": {},
   "outputs": [],
   "source": [
    "def max_drawdown(returns):\n",
    "        local_max = [n for n in range(len(returns)-1) if ((n==0) and (returns[0] > returns[1])) or \n",
    "           ((n > 0) and  (returns[n-1]<returns[n]) and (returns[n+1]<returns[n]))] \n",
    "        \n",
    "        local_min = [n for n in range(1,len(returns)) if ((n == len(returns)-1) and (returns[-1] < returns[-2])) or\n",
    "                (returns[n-1]>returns[n]) and (returns[n+1]>returns[n])]\n",
    "        \n",
    "        def next_local_min(n):\n",
    "            if [m for m in local_min if m > n]:\n",
    "                return [m for m in local_min if m > n][0]\n",
    "            else: return None\n",
    "        \n",
    "        drawdowns = [(n,next_local_min(n)) for n in local_max]\n",
    "        drawdown_values = [returns[n] - returns[m] for (n,m) in drawdowns if m != None]\n",
    "        if drawdown_values:\n",
    "            return  np.max(drawdown_values)\n",
    "        else: return 0.0"
   ]
  },
  {
   "cell_type": "code",
   "execution_count": null,
   "metadata": {},
   "outputs": [],
   "source": [
    "max_drawdown(SPY['strategy'])"
   ]
  },
  {
   "cell_type": "code",
   "execution_count": null,
   "metadata": {},
   "outputs": [],
   "source": [
    "max_drawdown(SPY['spy_cum_ret'])"
   ]
  },
  {
   "cell_type": "code",
   "execution_count": null,
   "metadata": {},
   "outputs": [],
   "source": []
  }
 ],
 "metadata": {
  "kernelspec": {
   "display_name": "Python 3 (ipykernel)",
   "language": "python",
   "name": "python3"
  },
  "language_info": {
   "codemirror_mode": {
    "name": "ipython",
    "version": 3
   },
   "file_extension": ".py",
   "mimetype": "text/x-python",
   "name": "python",
   "nbconvert_exporter": "python",
   "pygments_lexer": "ipython3",
   "version": "3.11.4"
  },
  "latex_envs": {
   "LaTeX_envs_menu_present": true,
   "autoclose": false,
   "autocomplete": true,
   "bibliofile": "biblio.bib",
   "cite_by": "apalike",
   "current_citInitial": 1,
   "eqLabelWithNumbers": true,
   "eqNumInitial": 1,
   "hotkeys": {
    "equation": "Ctrl-E",
    "itemize": "Ctrl-I"
   },
   "labels_anchors": false,
   "latex_user_defs": false,
   "report_style_numbering": false,
   "user_envs_cfg": false
  }
 },
 "nbformat": 4,
 "nbformat_minor": 4
}
