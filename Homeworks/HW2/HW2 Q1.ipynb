{
 "cells": [
  {
   "cell_type": "code",
   "execution_count": 150,
   "metadata": {
    "ExecuteTime": {
     "end_time": "2020-03-03T02:04:18.675044Z",
     "start_time": "2020-03-03T02:04:15.120387Z"
    }
   },
   "outputs": [],
   "source": [
    "import pandas as pd\n",
    "import numpy as np\n",
    "import matplotlib.pyplot as plt\n",
    "%matplotlib inline\n",
    "from sklearn.metrics import accuracy_score, confusion_matrix\n",
    "from sklearn.tree import DecisionTreeClassifier\n",
    "from sklearn.ensemble import BaggingClassifier\n",
    "from sklearn.ensemble import RandomForestClassifier\n",
    "import sklearn\n",
    "from sklearn.preprocessing import StandardScaler\n",
    "\n",
    "pd.set_option('use_inf_as_na', True)\n",
    "from collections import Counter\n",
    "\n",
    "from tqdm import tqdm # to measure progress of for loops"
   ]
  },
  {
   "cell_type": "code",
   "execution_count": 2,
   "metadata": {
    "ExecuteTime": {
     "end_time": "2020-03-03T02:04:21.903526Z",
     "start_time": "2020-03-03T02:04:19.923963Z"
    }
   },
   "outputs": [],
   "source": [
    "# load dataset\n",
    "raw_data = pd.read_pickle('dataset.pkl')\n",
    "data = raw_data.drop([x  for x in raw_data.columns if 'fqtr' in x],axis=1)\n",
    "# restrict companies to market cap > 1 billion \n",
    "data = raw_data[raw_data['market_cap'] > 1000.0]\n",
    "data = data.copy()\n",
    "# fill in missing values\n",
    "data.fillna(0.0,inplace=True)"
   ]
  },
  {
   "cell_type": "markdown",
   "metadata": {},
   "source": [
    "### Insert a column in dataset based on stock performance\n",
    "Inserting a column in the dataset where entries are:  \n",
    "- 1 if the stock return is more than 5% higher than the SPY return  \n",
    "- 0 if it is between -10% and +5% relative to the SPY return  \n",
    "- -1 if it is less then -10% relative to the SPY return  "
   ]
  },
  {
   "cell_type": "code",
   "execution_count": 3,
   "metadata": {
    "ExecuteTime": {
     "end_time": "2020-03-03T02:04:24.516696Z",
     "start_time": "2020-03-03T02:04:24.512695Z"
    }
   },
   "outputs": [],
   "source": [
    "# function to return appropriate values based on performance as detailed above\n",
    "def f(x):\n",
    "    if x > 0.05:\n",
    "        return 1\n",
    "    elif x < -0.1:\n",
    "        return -1\n",
    "    else:\n",
    "        return 0"
   ]
  },
  {
   "cell_type": "code",
   "execution_count": 4,
   "metadata": {
    "ExecuteTime": {
     "end_time": "2020-03-03T02:04:30.421746Z",
     "start_time": "2020-03-03T02:04:30.370536Z"
    }
   },
   "outputs": [],
   "source": [
    "# add the new column\n",
    "data['rel_performance'] = data['pred_rel_return'].apply(f)\n",
    "# make the date the index\n",
    "data.reset_index(inplace=True)\n",
    "data.set_index('date',inplace=True)"
   ]
  },
  {
   "cell_type": "code",
   "execution_count": 5,
   "metadata": {},
   "outputs": [
    {
     "data": {
      "text/html": [
       "<div>\n",
       "<style scoped>\n",
       "    .dataframe tbody tr th:only-of-type {\n",
       "        vertical-align: middle;\n",
       "    }\n",
       "\n",
       "    .dataframe tbody tr th {\n",
       "        vertical-align: top;\n",
       "    }\n",
       "\n",
       "    .dataframe thead th {\n",
       "        text-align: right;\n",
       "    }\n",
       "</style>\n",
       "<table border=\"1\" class=\"dataframe\">\n",
       "  <thead>\n",
       "    <tr style=\"text-align: right;\">\n",
       "      <th></th>\n",
       "      <th>pred_rel_return</th>\n",
       "      <th>rel_performance</th>\n",
       "    </tr>\n",
       "    <tr>\n",
       "      <th>date</th>\n",
       "      <th></th>\n",
       "      <th></th>\n",
       "    </tr>\n",
       "  </thead>\n",
       "  <tbody>\n",
       "    <tr>\n",
       "      <th>2000-04-03</th>\n",
       "      <td>0.261336</td>\n",
       "      <td>1</td>\n",
       "    </tr>\n",
       "    <tr>\n",
       "      <th>2000-04-05</th>\n",
       "      <td>-0.337466</td>\n",
       "      <td>-1</td>\n",
       "    </tr>\n",
       "    <tr>\n",
       "      <th>2000-04-06</th>\n",
       "      <td>0.272372</td>\n",
       "      <td>1</td>\n",
       "    </tr>\n",
       "    <tr>\n",
       "      <th>2000-04-07</th>\n",
       "      <td>-0.645219</td>\n",
       "      <td>-1</td>\n",
       "    </tr>\n",
       "    <tr>\n",
       "      <th>2000-04-07</th>\n",
       "      <td>0.192161</td>\n",
       "      <td>1</td>\n",
       "    </tr>\n",
       "    <tr>\n",
       "      <th>2000-04-11</th>\n",
       "      <td>0.153474</td>\n",
       "      <td>1</td>\n",
       "    </tr>\n",
       "    <tr>\n",
       "      <th>2000-04-11</th>\n",
       "      <td>0.317203</td>\n",
       "      <td>1</td>\n",
       "    </tr>\n",
       "    <tr>\n",
       "      <th>2000-04-11</th>\n",
       "      <td>-0.051039</td>\n",
       "      <td>0</td>\n",
       "    </tr>\n",
       "    <tr>\n",
       "      <th>2000-04-11</th>\n",
       "      <td>0.028730</td>\n",
       "      <td>0</td>\n",
       "    </tr>\n",
       "    <tr>\n",
       "      <th>2000-04-11</th>\n",
       "      <td>0.095712</td>\n",
       "      <td>1</td>\n",
       "    </tr>\n",
       "  </tbody>\n",
       "</table>\n",
       "</div>"
      ],
      "text/plain": [
       "            pred_rel_return  rel_performance\n",
       "date                                        \n",
       "2000-04-03         0.261336                1\n",
       "2000-04-05        -0.337466               -1\n",
       "2000-04-06         0.272372                1\n",
       "2000-04-07        -0.645219               -1\n",
       "2000-04-07         0.192161                1\n",
       "2000-04-11         0.153474                1\n",
       "2000-04-11         0.317203                1\n",
       "2000-04-11        -0.051039                0\n",
       "2000-04-11         0.028730                0\n",
       "2000-04-11         0.095712                1"
      ]
     },
     "execution_count": 5,
     "metadata": {},
     "output_type": "execute_result"
    }
   ],
   "source": [
    "data[['pred_rel_return', 'rel_performance']][100:110]"
   ]
  },
  {
   "cell_type": "code",
   "execution_count": 46,
   "metadata": {},
   "outputs": [
    {
     "name": "stdout",
     "output_type": "stream",
     "text": [
      "DatetimeIndex(['2000-02-09', '2000-02-09', '2000-02-10', '2000-02-11',\n",
      "               '2000-02-15', '2000-02-16', '2000-02-16', '2000-02-16',\n",
      "               '2000-02-16', '2000-02-16',\n",
      "               ...\n",
      "               '2018-12-21', '2018-12-21', '2018-12-21', '2018-12-21',\n",
      "               '2018-12-21', '2018-12-21', '2018-12-21', '2018-12-21',\n",
      "               '2018-12-21', '2018-12-24'],\n",
      "              dtype='datetime64[ns]', name='date', length=111468, freq=None)\n"
     ]
    }
   ],
   "source": [
    "print(data.index)"
   ]
  },
  {
   "cell_type": "markdown",
   "metadata": {},
   "source": [
    "### Split the data into training, validation, and test\n",
    "- Data for training period is from 2007 to 2009 (inclusive, i.e. 3 years)\n",
    "- Data for validation period is 1 quarter after end of training period\n",
    "- Data for test period is immediately proceeding the training period"
   ]
  },
  {
   "cell_type": "code",
   "execution_count": 6,
   "metadata": {
    "ExecuteTime": {
     "end_time": "2020-03-03T02:04:34.295145Z",
     "start_time": "2020-03-03T02:04:34.274571Z"
    }
   },
   "outputs": [],
   "source": [
    "df_1 = data.loc['2007-01-01':'2010-01-01']\n",
    "df_valid = data.loc['2010-04-01':'2010-07-01']\n",
    "df_test = data.loc['2010-07-01':'2010-10-01']"
   ]
  },
  {
   "cell_type": "code",
   "execution_count": 7,
   "metadata": {
    "ExecuteTime": {
     "end_time": "2020-03-03T02:04:37.819124Z",
     "start_time": "2020-03-03T02:04:37.692118Z"
    }
   },
   "outputs": [],
   "source": [
    "train_1 = df_1.reset_index().drop(['ticker','date',\n",
    "                                   'next_period_return',\n",
    "                                   'spy_next_period_return',\n",
    "                                   'rel_performance','pred_rel_return',\n",
    "                                  'return', 'cum_ret', 'spy_cum_ret'],axis=1)\n",
    "\n",
    "valid = df_valid.reset_index().drop(['ticker','date',\n",
    "                                    'next_period_return',\n",
    "                                   'spy_next_period_return',\n",
    "                                   'rel_performance','pred_rel_return',\n",
    "                                  'return', 'cum_ret', 'spy_cum_ret'],axis=1)\n",
    "test = df_test.reset_index().drop(['ticker','date',\n",
    "                                   'next_period_return',\n",
    "                                   'spy_next_period_return',\n",
    "                                   'rel_performance','pred_rel_return',\n",
    "                                  'return', 'cum_ret', 'spy_cum_ret'],axis=1)"
   ]
  },
  {
   "cell_type": "code",
   "execution_count": 8,
   "metadata": {
    "ExecuteTime": {
     "end_time": "2020-03-03T02:04:41.533183Z",
     "start_time": "2020-03-03T02:04:41.527143Z"
    }
   },
   "outputs": [],
   "source": [
    "# Obtain the y values for each data split\n",
    "train_1_stock_returns = df_1['next_period_return']\n",
    "valid_stock_returns = df_valid['next_period_return']\n",
    "test_stock_returns = df_test['next_period_return']\n",
    "\n",
    "y_1 = df_1['rel_performance']\n",
    "y_valid = df_valid['rel_performance']\n",
    "y_test = df_test['rel_performance']\n",
    "\n",
    "y_1 = y_1.values\n",
    "y_valid = y_valid.values\n",
    "y_test = y_test.values"
   ]
  },
  {
   "cell_type": "markdown",
   "metadata": {},
   "source": [
    "### Import Optuna to find the optimal hyperparameters for the classifiers"
   ]
  },
  {
   "cell_type": "code",
   "execution_count": 9,
   "metadata": {
    "ExecuteTime": {
     "end_time": "2020-03-03T02:12:00.595366Z",
     "start_time": "2020-03-03T02:12:00.592375Z"
    }
   },
   "outputs": [],
   "source": [
    "import optuna\n",
    "from optuna.trial import Trial\n",
    "# optuna.logging.set_verbosity(optuna.logging.FATAL)\n",
    "import warnings\n",
    "warnings.filterwarnings(\"ignore\")"
   ]
  },
  {
   "cell_type": "markdown",
   "metadata": {},
   "source": [
    "## Defining the Optuna objective function for our 3 classifiers:\n",
    "- DecisionTree classifier\n",
    "- Bagging classifier\n",
    "- RandomForest classifier\n",
    "\n",
    "Note that in each case we are optimizing for the profit rather than the accuracy"
   ]
  },
  {
   "cell_type": "code",
   "execution_count": 23,
   "metadata": {},
   "outputs": [],
   "source": [
    "def objective_tree(trial:Trial,train=None,labels=None,val=None,val_labels=None,val_rets=None):\n",
    "\n",
    "    t_min_samples_leaf = trial.suggest_int('min_samples_leaf',100,1200,step=200)\n",
    "    t_max_depth = trial.suggest_int('max_depth',5,25,step=5)\n",
    "    \n",
    "    t_clf = DecisionTreeClassifier(min_samples_leaf = t_min_samples_leaf,max_depth=t_max_depth,random_state=123)\n",
    "    t_clf.fit(train,labels)\n",
    "\n",
    "    preds = t_clf.predict(val)\n",
    "    profit = (preds * val_rets).sum()\n",
    "\n",
    "    return profit"
   ]
  },
  {
   "cell_type": "code",
   "execution_count": 24,
   "metadata": {},
   "outputs": [],
   "source": [
    "def objective_bagging(trial:Trial,train=None,labels=None,val=None,val_labels=None,val_rets=None):\n",
    "\n",
    "    t_min_samples_leaf = trial.suggest_int('min_samples_leaf',100,1200,step=200)\n",
    "    t_max_depth = trial.suggest_int('max_depth',5,25,step=5)\n",
    "    t_n_estimators = trial.suggest_int('n_estimators',5,50,step=5)\n",
    "\n",
    "    t_clf = DecisionTreeClassifier(min_samples_leaf = t_min_samples_leaf,max_depth=t_max_depth,random_state=123)\n",
    "    bg_clf = BaggingClassifier(t_clf,n_estimators=t_n_estimators,random_state=123,n_jobs=1)\n",
    "    bg_clf.fit(train,labels)\n",
    "\n",
    "    preds = bg_clf.predict(val)\n",
    "    profit = (preds * val_rets).sum()\n",
    "\n",
    "    return profit"
   ]
  },
  {
   "cell_type": "code",
   "execution_count": 25,
   "metadata": {},
   "outputs": [],
   "source": [
    "def objective_rf(trial:Trial,train=None,labels=None,val=None,val_labels=None,val_rets=None):\n",
    "\n",
    "    rf_n_estimators = trial.suggest_int('n_estimators', 10,40,step=5)\n",
    "    rf_max_features = trial.suggest_categorical('max_features',['sqrt','log2'])\n",
    "    rf_min_samples_leaf = trial.suggest_int('min_samples_leaf',800,2400,step=800)\n",
    "    rf_max_depth = trial.suggest_int('max_depth',4,15)\n",
    "    \n",
    "    rf_clf = RandomForestClassifier(n_estimators=rf_n_estimators,\n",
    "                                    max_depth=rf_max_depth,\n",
    "                                    min_samples_leaf=rf_min_samples_leaf,\n",
    "                                    max_features=rf_max_features,random_state=123)\n",
    "    rf_clf.fit(train,labels)\n",
    "\n",
    "    preds = rf_clf.predict(val)\n",
    "    profit = (preds * val_rets).sum()\n",
    " \n",
    "    return profit"
   ]
  },
  {
   "cell_type": "code",
   "execution_count": 13,
   "metadata": {},
   "outputs": [
    {
     "name": "stderr",
     "output_type": "stream",
     "text": [
      "[I 2024-02-02 12:03:34,659] A new study created in memory with name: no-name-2034f41d-2526-4b6f-9e4c-2d77c4c5a673\n",
      "[I 2024-02-02 12:03:34,661] A new study created in memory with name: no-name-ce667667-b74d-4a16-b633-d391c8bf4108\n",
      "[I 2024-02-02 12:03:34,663] A new study created in memory with name: no-name-a7f0bb2e-fbf7-4e6b-ae39-a6725168aeaf\n"
     ]
    }
   ],
   "source": [
    "study_tree = optuna.create_study(direction=\"maximize\")\n",
    "study_bagging = optuna.create_study(direction=\"maximize\")\n",
    "study_rf = optuna.create_study(direction=\"maximize\")"
   ]
  },
  {
   "cell_type": "markdown",
   "metadata": {},
   "source": [
    "### Run optimizations to find optimal parameters"
   ]
  },
  {
   "cell_type": "code",
   "execution_count": 14,
   "metadata": {},
   "outputs": [],
   "source": [
    "from functools import partial"
   ]
  },
  {
   "cell_type": "code",
   "execution_count": 26,
   "metadata": {},
   "outputs": [
    {
     "name": "stderr",
     "output_type": "stream",
     "text": [
      "[I 2024-02-02 12:16:14,450] Trial 203 finished with value: -20.46544500000001 and parameters: {'min_samples_leaf': 700, 'max_depth': 15}. Best is trial 9 with value: -20.46544500000001.\n",
      "[I 2024-02-02 12:16:14,492] Trial 205 finished with value: -20.46544500000001 and parameters: {'min_samples_leaf': 700, 'max_depth': 15}. Best is trial 9 with value: -20.46544500000001.\n",
      "[I 2024-02-02 12:16:14,508] Trial 202 finished with value: -20.46544500000001 and parameters: {'min_samples_leaf': 700, 'max_depth': 15}. Best is trial 9 with value: -20.46544500000001.\n",
      "[I 2024-02-02 12:16:14,580] Trial 206 finished with value: -20.46544500000001 and parameters: {'min_samples_leaf': 700, 'max_depth': 15}. Best is trial 9 with value: -20.46544500000001.\n",
      "[I 2024-02-02 12:16:14,627] Trial 204 finished with value: -20.46544500000001 and parameters: {'min_samples_leaf': 700, 'max_depth': 15}. Best is trial 9 with value: -20.46544500000001.\n",
      "[I 2024-02-02 12:16:14,633] Trial 200 finished with value: -20.46544500000001 and parameters: {'min_samples_leaf': 700, 'max_depth': 15}. Best is trial 9 with value: -20.46544500000001.\n",
      "[I 2024-02-02 12:16:14,634] Trial 201 finished with value: -20.46544500000001 and parameters: {'min_samples_leaf': 700, 'max_depth': 15}. Best is trial 9 with value: -20.46544500000001.\n",
      "[I 2024-02-02 12:16:14,654] Trial 209 finished with value: -20.46544500000001 and parameters: {'min_samples_leaf': 700, 'max_depth': 15}. Best is trial 9 with value: -20.46544500000001.\n",
      "[I 2024-02-02 12:16:14,656] Trial 208 finished with value: -20.46544500000001 and parameters: {'min_samples_leaf': 700, 'max_depth': 15}. Best is trial 9 with value: -20.46544500000001.\n",
      "[I 2024-02-02 12:16:14,769] Trial 207 finished with value: -20.46544500000001 and parameters: {'min_samples_leaf': 700, 'max_depth': 15}. Best is trial 9 with value: -20.46544500000001.\n",
      "[I 2024-02-02 12:16:15,944] Trial 210 finished with value: -20.46544500000001 and parameters: {'min_samples_leaf': 700, 'max_depth': 15}. Best is trial 9 with value: -20.46544500000001.\n",
      "[I 2024-02-02 12:16:15,983] Trial 211 finished with value: -20.46544500000001 and parameters: {'min_samples_leaf': 700, 'max_depth': 15}. Best is trial 9 with value: -20.46544500000001.\n",
      "[I 2024-02-02 12:16:16,061] Trial 213 finished with value: -20.46544500000001 and parameters: {'min_samples_leaf': 700, 'max_depth': 15}. Best is trial 9 with value: -20.46544500000001.\n",
      "[I 2024-02-02 12:16:16,136] Trial 215 finished with value: -20.46544500000001 and parameters: {'min_samples_leaf': 700, 'max_depth': 15}. Best is trial 9 with value: -20.46544500000001.\n",
      "[I 2024-02-02 12:16:16,158] Trial 212 finished with value: -20.46544500000001 and parameters: {'min_samples_leaf': 700, 'max_depth': 15}. Best is trial 9 with value: -20.46544500000001.\n",
      "[I 2024-02-02 12:16:16,172] Trial 217 finished with value: -20.46544500000001 and parameters: {'min_samples_leaf': 700, 'max_depth': 20}. Best is trial 9 with value: -20.46544500000001.\n",
      "[I 2024-02-02 12:16:16,183] Trial 216 finished with value: -20.46544500000001 and parameters: {'min_samples_leaf': 700, 'max_depth': 20}. Best is trial 9 with value: -20.46544500000001.\n",
      "[I 2024-02-02 12:16:16,215] Trial 214 finished with value: -20.46544500000001 and parameters: {'min_samples_leaf': 700, 'max_depth': 15}. Best is trial 9 with value: -20.46544500000001.\n",
      "[I 2024-02-02 12:16:16,258] Trial 218 finished with value: -20.46544500000001 and parameters: {'min_samples_leaf': 700, 'max_depth': 20}. Best is trial 9 with value: -20.46544500000001.\n",
      "[I 2024-02-02 12:16:16,349] Trial 219 finished with value: -20.46544500000001 and parameters: {'min_samples_leaf': 700, 'max_depth': 20}. Best is trial 9 with value: -20.46544500000001.\n",
      "[I 2024-02-02 12:16:17,416] Trial 220 finished with value: -20.46544500000001 and parameters: {'min_samples_leaf': 700, 'max_depth': 25}. Best is trial 9 with value: -20.46544500000001.\n",
      "[I 2024-02-02 12:16:17,492] Trial 221 finished with value: -20.46544500000001 and parameters: {'min_samples_leaf': 700, 'max_depth': 25}. Best is trial 9 with value: -20.46544500000001.\n",
      "[I 2024-02-02 12:16:17,541] Trial 222 finished with value: -20.46544500000001 and parameters: {'min_samples_leaf': 700, 'max_depth': 25}. Best is trial 9 with value: -20.46544500000001.\n",
      "[I 2024-02-02 12:16:17,586] Trial 223 finished with value: -20.46544500000001 and parameters: {'min_samples_leaf': 700, 'max_depth': 25}. Best is trial 9 with value: -20.46544500000001.\n",
      "[I 2024-02-02 12:16:17,662] Trial 226 finished with value: -20.46544500000001 and parameters: {'min_samples_leaf': 700, 'max_depth': 25}. Best is trial 9 with value: -20.46544500000001.\n",
      "[I 2024-02-02 12:16:17,671] Trial 224 finished with value: -20.46544500000001 and parameters: {'min_samples_leaf': 700, 'max_depth': 25}. Best is trial 9 with value: -20.46544500000001.\n",
      "[I 2024-02-02 12:16:17,738] Trial 228 finished with value: -20.46544500000001 and parameters: {'min_samples_leaf': 700, 'max_depth': 20}. Best is trial 9 with value: -20.46544500000001.\n",
      "[I 2024-02-02 12:16:17,791] Trial 225 finished with value: -20.46544500000001 and parameters: {'min_samples_leaf': 700, 'max_depth': 25}. Best is trial 9 with value: -20.46544500000001.\n",
      "[I 2024-02-02 12:16:17,792] Trial 229 finished with value: -20.46544500000001 and parameters: {'min_samples_leaf': 700, 'max_depth': 25}. Best is trial 9 with value: -20.46544500000001.\n",
      "[I 2024-02-02 12:16:17,845] Trial 227 finished with value: -20.46544500000001 and parameters: {'min_samples_leaf': 700, 'max_depth': 25}. Best is trial 9 with value: -20.46544500000001.\n",
      "[I 2024-02-02 12:16:18,879] Trial 230 finished with value: -20.46544500000001 and parameters: {'min_samples_leaf': 700, 'max_depth': 25}. Best is trial 9 with value: -20.46544500000001.\n",
      "[I 2024-02-02 12:16:18,954] Trial 231 finished with value: -20.46544500000001 and parameters: {'min_samples_leaf': 700, 'max_depth': 25}. Best is trial 9 with value: -20.46544500000001.\n",
      "[I 2024-02-02 12:16:19,028] Trial 232 finished with value: -20.46544500000001 and parameters: {'min_samples_leaf': 700, 'max_depth': 25}. Best is trial 9 with value: -20.46544500000001.\n",
      "[I 2024-02-02 12:16:19,180] Trial 234 finished with value: -20.46544500000001 and parameters: {'min_samples_leaf': 700, 'max_depth': 25}. Best is trial 9 with value: -20.46544500000001.\n",
      "[I 2024-02-02 12:16:19,223] Trial 233 finished with value: -20.46544500000001 and parameters: {'min_samples_leaf': 700, 'max_depth': 25}. Best is trial 9 with value: -20.46544500000001.\n",
      "[I 2024-02-02 12:16:19,286] Trial 236 finished with value: -20.46544500000001 and parameters: {'min_samples_leaf': 700, 'max_depth': 25}. Best is trial 9 with value: -20.46544500000001.\n",
      "[I 2024-02-02 12:16:19,308] Trial 235 finished with value: -20.46544500000001 and parameters: {'min_samples_leaf': 700, 'max_depth': 25}. Best is trial 9 with value: -20.46544500000001.\n",
      "[I 2024-02-02 12:16:19,397] Trial 239 finished with value: -20.46544500000001 and parameters: {'min_samples_leaf': 700, 'max_depth': 25}. Best is trial 9 with value: -20.46544500000001.\n",
      "[I 2024-02-02 12:16:19,507] Trial 237 finished with value: -20.46544500000001 and parameters: {'min_samples_leaf': 700, 'max_depth': 25}. Best is trial 9 with value: -20.46544500000001.\n",
      "[I 2024-02-02 12:16:19,546] Trial 238 finished with value: -20.46544500000001 and parameters: {'min_samples_leaf': 700, 'max_depth': 25}. Best is trial 9 with value: -20.46544500000001.\n",
      "[I 2024-02-02 12:16:20,405] Trial 240 finished with value: -20.46544500000001 and parameters: {'min_samples_leaf': 700, 'max_depth': 25}. Best is trial 9 with value: -20.46544500000001.\n",
      "[I 2024-02-02 12:16:20,487] Trial 241 finished with value: -20.46544500000001 and parameters: {'min_samples_leaf': 700, 'max_depth': 25}. Best is trial 9 with value: -20.46544500000001.\n",
      "[I 2024-02-02 12:16:20,511] Trial 242 finished with value: -20.46544500000001 and parameters: {'min_samples_leaf': 700, 'max_depth': 25}. Best is trial 9 with value: -20.46544500000001.\n",
      "[I 2024-02-02 12:16:20,655] Trial 246 finished with value: -20.46544500000001 and parameters: {'min_samples_leaf': 700, 'max_depth': 20}. Best is trial 9 with value: -20.46544500000001.\n",
      "[I 2024-02-02 12:16:20,801] Trial 243 finished with value: -20.46544500000001 and parameters: {'min_samples_leaf': 700, 'max_depth': 25}. Best is trial 9 with value: -20.46544500000001.\n",
      "[I 2024-02-02 12:16:20,824] Trial 244 finished with value: -20.46544500000001 and parameters: {'min_samples_leaf': 700, 'max_depth': 25}. Best is trial 9 with value: -20.46544500000001.\n",
      "[I 2024-02-02 12:16:20,851] Trial 245 finished with value: -20.46544500000001 and parameters: {'min_samples_leaf': 700, 'max_depth': 20}. Best is trial 9 with value: -20.46544500000001.\n",
      "[I 2024-02-02 12:16:20,947] Trial 247 finished with value: -20.46544500000001 and parameters: {'min_samples_leaf': 700, 'max_depth': 20}. Best is trial 9 with value: -20.46544500000001.\n",
      "[I 2024-02-02 12:16:21,154] Trial 249 finished with value: -20.46544500000001 and parameters: {'min_samples_leaf': 700, 'max_depth': 20}. Best is trial 9 with value: -20.46544500000001.\n",
      "[I 2024-02-02 12:16:21,180] Trial 248 finished with value: -20.46544500000001 and parameters: {'min_samples_leaf': 700, 'max_depth': 20}. Best is trial 9 with value: -20.46544500000001.\n",
      "[I 2024-02-02 12:16:21,918] Trial 250 finished with value: -20.46544500000001 and parameters: {'min_samples_leaf': 700, 'max_depth': 20}. Best is trial 9 with value: -20.46544500000001.\n",
      "[I 2024-02-02 12:16:22,014] Trial 253 finished with value: -20.46544500000001 and parameters: {'min_samples_leaf': 700, 'max_depth': 20}. Best is trial 9 with value: -20.46544500000001.\n",
      "[I 2024-02-02 12:16:22,081] Trial 251 finished with value: -20.46544500000001 and parameters: {'min_samples_leaf': 700, 'max_depth': 20}. Best is trial 9 with value: -20.46544500000001.\n",
      "[I 2024-02-02 12:16:22,110] Trial 252 finished with value: -20.46544500000001 and parameters: {'min_samples_leaf': 700, 'max_depth': 20}. Best is trial 9 with value: -20.46544500000001.\n",
      "[I 2024-02-02 12:16:22,412] Trial 254 finished with value: -20.46544500000001 and parameters: {'min_samples_leaf': 700, 'max_depth': 20}. Best is trial 9 with value: -20.46544500000001.\n",
      "[I 2024-02-02 12:16:22,456] Trial 257 finished with value: -20.46544500000001 and parameters: {'min_samples_leaf': 700, 'max_depth': 20}. Best is trial 9 with value: -20.46544500000001.\n",
      "[I 2024-02-02 12:16:22,511] Trial 256 finished with value: -20.46544500000001 and parameters: {'min_samples_leaf': 700, 'max_depth': 20}. Best is trial 9 with value: -20.46544500000001.\n",
      "[I 2024-02-02 12:16:22,626] Trial 255 finished with value: -20.46544500000001 and parameters: {'min_samples_leaf': 700, 'max_depth': 20}. Best is trial 9 with value: -20.46544500000001.\n",
      "[I 2024-02-02 12:16:22,683] Trial 259 finished with value: -20.46544500000001 and parameters: {'min_samples_leaf': 700, 'max_depth': 20}. Best is trial 9 with value: -20.46544500000001.\n",
      "[I 2024-02-02 12:16:22,689] Trial 258 finished with value: -20.46544500000001 and parameters: {'min_samples_leaf': 700, 'max_depth': 20}. Best is trial 9 with value: -20.46544500000001.\n",
      "[I 2024-02-02 12:16:23,366] Trial 261 finished with value: -20.46544500000001 and parameters: {'min_samples_leaf': 700, 'max_depth': 20}. Best is trial 9 with value: -20.46544500000001.\n",
      "[I 2024-02-02 12:16:23,463] Trial 260 finished with value: -20.46544500000001 and parameters: {'min_samples_leaf': 700, 'max_depth': 20}. Best is trial 9 with value: -20.46544500000001.\n",
      "[I 2024-02-02 12:16:23,649] Trial 263 finished with value: -20.46544500000001 and parameters: {'min_samples_leaf': 700, 'max_depth': 20}. Best is trial 9 with value: -20.46544500000001.\n",
      "[I 2024-02-02 12:16:23,698] Trial 262 finished with value: -20.46544500000001 and parameters: {'min_samples_leaf': 700, 'max_depth': 20}. Best is trial 9 with value: -20.46544500000001.\n",
      "[I 2024-02-02 12:16:23,883] Trial 266 finished with value: -20.46544500000001 and parameters: {'min_samples_leaf': 700, 'max_depth': 20}. Best is trial 9 with value: -20.46544500000001.\n",
      "[I 2024-02-02 12:16:23,974] Trial 264 finished with value: -20.46544500000001 and parameters: {'min_samples_leaf': 700, 'max_depth': 20}. Best is trial 9 with value: -20.46544500000001.\n",
      "[I 2024-02-02 12:16:24,194] Trial 265 finished with value: -20.46544500000001 and parameters: {'min_samples_leaf': 700, 'max_depth': 20}. Best is trial 9 with value: -20.46544500000001.\n",
      "[I 2024-02-02 12:16:24,284] Trial 267 finished with value: -20.46544500000001 and parameters: {'min_samples_leaf': 700, 'max_depth': 15}. Best is trial 9 with value: -20.46544500000001.\n",
      "[I 2024-02-02 12:16:24,321] Trial 268 finished with value: -20.46544500000001 and parameters: {'min_samples_leaf': 700, 'max_depth': 15}. Best is trial 9 with value: -20.46544500000001.\n",
      "[I 2024-02-02 12:16:24,369] Trial 269 finished with value: -20.46544500000001 and parameters: {'min_samples_leaf': 700, 'max_depth': 15}. Best is trial 9 with value: -20.46544500000001.\n",
      "[I 2024-02-02 12:16:24,750] Trial 270 finished with value: -20.46544500000001 and parameters: {'min_samples_leaf': 700, 'max_depth': 15}. Best is trial 9 with value: -20.46544500000001.\n",
      "[I 2024-02-02 12:16:25,131] Trial 271 finished with value: -20.46544500000001 and parameters: {'min_samples_leaf': 700, 'max_depth': 15}. Best is trial 9 with value: -20.46544500000001.\n",
      "[I 2024-02-02 12:16:25,233] Trial 274 finished with value: -20.46544500000001 and parameters: {'min_samples_leaf': 700, 'max_depth': 15}. Best is trial 9 with value: -20.46544500000001.\n",
      "[I 2024-02-02 12:16:25,333] Trial 275 finished with value: -20.46544500000001 and parameters: {'min_samples_leaf': 700, 'max_depth': 15}. Best is trial 9 with value: -20.46544500000001.\n",
      "[I 2024-02-02 12:16:25,371] Trial 272 finished with value: -20.46544500000001 and parameters: {'min_samples_leaf': 700, 'max_depth': 15}. Best is trial 9 with value: -20.46544500000001.\n",
      "[I 2024-02-02 12:16:25,579] Trial 273 finished with value: -20.46544500000001 and parameters: {'min_samples_leaf': 700, 'max_depth': 15}. Best is trial 9 with value: -20.46544500000001.\n",
      "[I 2024-02-02 12:16:25,885] Trial 276 finished with value: -20.46544500000001 and parameters: {'min_samples_leaf': 700, 'max_depth': 15}. Best is trial 9 with value: -20.46544500000001.\n",
      "[I 2024-02-02 12:16:26,031] Trial 277 finished with value: -20.46544500000001 and parameters: {'min_samples_leaf': 700, 'max_depth': 15}. Best is trial 9 with value: -20.46544500000001.\n",
      "[I 2024-02-02 12:16:26,084] Trial 278 finished with value: -20.46544500000001 and parameters: {'min_samples_leaf': 700, 'max_depth': 25}. Best is trial 9 with value: -20.46544500000001.\n",
      "[I 2024-02-02 12:16:26,139] Trial 280 finished with value: -20.46544500000001 and parameters: {'min_samples_leaf': 700, 'max_depth': 25}. Best is trial 9 with value: -20.46544500000001.\n",
      "[I 2024-02-02 12:16:26,221] Trial 279 finished with value: -20.46544500000001 and parameters: {'min_samples_leaf': 700, 'max_depth': 10}. Best is trial 9 with value: -20.46544500000001.\n",
      "[I 2024-02-02 12:16:26,566] Trial 282 finished with value: -20.46544500000001 and parameters: {'min_samples_leaf': 700, 'max_depth': 10}. Best is trial 9 with value: -20.46544500000001.\n",
      "[I 2024-02-02 12:16:26,751] Trial 283 finished with value: -20.46544500000001 and parameters: {'min_samples_leaf': 700, 'max_depth': 10}. Best is trial 9 with value: -20.46544500000001.\n",
      "[I 2024-02-02 12:16:26,829] Trial 281 finished with value: -20.46544500000001 and parameters: {'min_samples_leaf': 700, 'max_depth': 25}. Best is trial 9 with value: -20.46544500000001.\n",
      "[I 2024-02-02 12:16:26,986] Trial 284 finished with value: -20.46544500000001 and parameters: {'min_samples_leaf': 700, 'max_depth': 25}. Best is trial 9 with value: -20.46544500000001.\n",
      "[I 2024-02-02 12:16:27,190] Trial 285 finished with value: -20.46544500000001 and parameters: {'min_samples_leaf': 700, 'max_depth': 25}. Best is trial 9 with value: -20.46544500000001.\n",
      "[I 2024-02-02 12:16:27,510] Trial 289 finished with value: -20.46544500000001 and parameters: {'min_samples_leaf': 700, 'max_depth': 10}. Best is trial 9 with value: -20.46544500000001.\n",
      "[I 2024-02-02 12:16:27,520] Trial 286 finished with value: -20.46544500000001 and parameters: {'min_samples_leaf': 700, 'max_depth': 25}. Best is trial 9 with value: -20.46544500000001.\n",
      "[I 2024-02-02 12:16:27,637] Trial 287 finished with value: -20.46544500000001 and parameters: {'min_samples_leaf': 700, 'max_depth': 10}. Best is trial 9 with value: -20.46544500000001.\n",
      "[I 2024-02-02 12:16:27,751] Trial 290 finished with value: -20.87378900000001 and parameters: {'min_samples_leaf': 700, 'max_depth': 5}. Best is trial 9 with value: -20.46544500000001.\n",
      "[I 2024-02-02 12:16:27,818] Trial 288 finished with value: -20.46544500000001 and parameters: {'min_samples_leaf': 700, 'max_depth': 10}. Best is trial 9 with value: -20.46544500000001.\n",
      "[I 2024-02-02 12:16:28,061] Trial 291 finished with value: -20.46544500000001 and parameters: {'min_samples_leaf': 700, 'max_depth': 25}. Best is trial 9 with value: -20.46544500000001.\n",
      "[I 2024-02-02 12:16:28,145] Trial 292 finished with value: -20.46544500000001 and parameters: {'min_samples_leaf': 700, 'max_depth': 25}. Best is trial 9 with value: -20.46544500000001.\n",
      "[I 2024-02-02 12:16:28,381] Trial 293 finished with value: -20.46544500000001 and parameters: {'min_samples_leaf': 700, 'max_depth': 20}. Best is trial 9 with value: -20.46544500000001.\n",
      "[I 2024-02-02 12:16:28,531] Trial 294 finished with value: -20.87378900000001 and parameters: {'min_samples_leaf': 700, 'max_depth': 5}. Best is trial 9 with value: -20.46544500000001.\n",
      "[I 2024-02-02 12:16:28,625] Trial 295 finished with value: -20.46544500000001 and parameters: {'min_samples_leaf': 700, 'max_depth': 20}. Best is trial 9 with value: -20.46544500000001.\n",
      "[I 2024-02-02 12:16:28,930] Trial 297 finished with value: -20.46544500000001 and parameters: {'min_samples_leaf': 700, 'max_depth': 20}. Best is trial 9 with value: -20.46544500000001.\n",
      "[I 2024-02-02 12:16:29,093] Trial 296 finished with value: -20.46544500000001 and parameters: {'min_samples_leaf': 700, 'max_depth': 20}. Best is trial 9 with value: -20.46544500000001.\n",
      "[I 2024-02-02 12:16:29,140] Trial 298 finished with value: -20.46544500000001 and parameters: {'min_samples_leaf': 700, 'max_depth': 20}. Best is trial 9 with value: -20.46544500000001.\n",
      "[I 2024-02-02 12:16:29,303] Trial 299 finished with value: -20.46544500000001 and parameters: {'min_samples_leaf': 700, 'max_depth': 20}. Best is trial 9 with value: -20.46544500000001.\n",
      "[I 2024-02-02 12:16:29,419] Trial 300 finished with value: -20.46544500000001 and parameters: {'min_samples_leaf': 700, 'max_depth': 20}. Best is trial 9 with value: -20.46544500000001.\n",
      "[I 2024-02-02 12:16:29,437] Trial 301 finished with value: -20.46544500000001 and parameters: {'min_samples_leaf': 700, 'max_depth': 20}. Best is trial 9 with value: -20.46544500000001.\n",
      "[I 2024-02-02 12:16:29,493] Trial 302 finished with value: -20.46544500000001 and parameters: {'min_samples_leaf': 700, 'max_depth': 20}. Best is trial 9 with value: -20.46544500000001.\n",
      "[I 2024-02-02 12:16:29,859] Trial 303 finished with value: -20.46544500000001 and parameters: {'min_samples_leaf': 700, 'max_depth': 20}. Best is trial 9 with value: -20.46544500000001.\n",
      "[I 2024-02-02 12:16:30,017] Trial 304 finished with value: -20.46544500000001 and parameters: {'min_samples_leaf': 700, 'max_depth': 20}. Best is trial 9 with value: -20.46544500000001.\n",
      "[I 2024-02-02 12:16:30,102] Trial 305 finished with value: -20.46544500000001 and parameters: {'min_samples_leaf': 700, 'max_depth': 20}. Best is trial 9 with value: -20.46544500000001.\n",
      "[I 2024-02-02 12:16:30,299] Trial 306 finished with value: -20.46544500000001 and parameters: {'min_samples_leaf': 700, 'max_depth': 20}. Best is trial 9 with value: -20.46544500000001.\n",
      "[I 2024-02-02 12:16:30,693] Trial 308 finished with value: -20.46544500000001 and parameters: {'min_samples_leaf': 700, 'max_depth': 20}. Best is trial 9 with value: -20.46544500000001.\n",
      "[I 2024-02-02 12:16:30,747] Trial 307 finished with value: -20.46544500000001 and parameters: {'min_samples_leaf': 700, 'max_depth': 20}. Best is trial 9 with value: -20.46544500000001.\n",
      "[I 2024-02-02 12:16:30,828] Trial 312 finished with value: -20.46544500000001 and parameters: {'min_samples_leaf': 700, 'max_depth': 20}. Best is trial 9 with value: -20.46544500000001.\n",
      "[I 2024-02-02 12:16:30,853] Trial 311 finished with value: -20.46544500000001 and parameters: {'min_samples_leaf': 700, 'max_depth': 20}. Best is trial 9 with value: -20.46544500000001.\n",
      "[I 2024-02-02 12:16:30,883] Trial 309 finished with value: -20.46544500000001 and parameters: {'min_samples_leaf': 700, 'max_depth': 20}. Best is trial 9 with value: -20.46544500000001.\n",
      "[I 2024-02-02 12:16:30,908] Trial 310 finished with value: -20.46544500000001 and parameters: {'min_samples_leaf': 700, 'max_depth': 20}. Best is trial 9 with value: -20.46544500000001.\n",
      "[I 2024-02-02 12:16:31,608] Trial 313 finished with value: -20.46544500000001 and parameters: {'min_samples_leaf': 700, 'max_depth': 20}. Best is trial 9 with value: -20.46544500000001.\n",
      "[I 2024-02-02 12:16:31,680] Trial 316 finished with value: -20.46544500000001 and parameters: {'min_samples_leaf': 700, 'max_depth': 20}. Best is trial 9 with value: -20.46544500000001.\n",
      "[I 2024-02-02 12:16:31,767] Trial 314 finished with value: -20.46544500000001 and parameters: {'min_samples_leaf': 700, 'max_depth': 20}. Best is trial 9 with value: -20.46544500000001.\n",
      "[I 2024-02-02 12:16:31,867] Trial 315 finished with value: -20.46544500000001 and parameters: {'min_samples_leaf': 700, 'max_depth': 20}. Best is trial 9 with value: -20.46544500000001.\n",
      "[I 2024-02-02 12:16:32,318] Trial 319 finished with value: -20.46544500000001 and parameters: {'min_samples_leaf': 700, 'max_depth': 25}. Best is trial 9 with value: -20.46544500000001.\n",
      "[I 2024-02-02 12:16:32,332] Trial 320 finished with value: -20.46544500000001 and parameters: {'min_samples_leaf': 700, 'max_depth': 25}. Best is trial 9 with value: -20.46544500000001.\n",
      "[I 2024-02-02 12:16:32,349] Trial 317 finished with value: -20.46544500000001 and parameters: {'min_samples_leaf': 700, 'max_depth': 25}. Best is trial 9 with value: -20.46544500000001.\n",
      "[I 2024-02-02 12:16:32,439] Trial 321 finished with value: -20.46544500000001 and parameters: {'min_samples_leaf': 700, 'max_depth': 25}. Best is trial 9 with value: -20.46544500000001.\n",
      "[I 2024-02-02 12:16:32,537] Trial 318 finished with value: -20.46544500000001 and parameters: {'min_samples_leaf': 700, 'max_depth': 25}. Best is trial 9 with value: -20.46544500000001.\n",
      "[I 2024-02-02 12:16:32,629] Trial 322 finished with value: -20.46544500000001 and parameters: {'min_samples_leaf': 700, 'max_depth': 25}. Best is trial 9 with value: -20.46544500000001.\n",
      "[I 2024-02-02 12:16:33,020] Trial 324 finished with value: -20.46544500000001 and parameters: {'min_samples_leaf': 700, 'max_depth': 25}. Best is trial 9 with value: -20.46544500000001.\n",
      "[I 2024-02-02 12:16:33,262] Trial 323 finished with value: -20.46544500000001 and parameters: {'min_samples_leaf': 700, 'max_depth': 25}. Best is trial 9 with value: -20.46544500000001.\n",
      "[I 2024-02-02 12:16:33,533] Trial 326 finished with value: -20.46544500000001 and parameters: {'min_samples_leaf': 700, 'max_depth': 25}. Best is trial 9 with value: -20.46544500000001.\n",
      "[I 2024-02-02 12:16:33,589] Trial 325 finished with value: -20.46544500000001 and parameters: {'min_samples_leaf': 700, 'max_depth': 25}. Best is trial 9 with value: -20.46544500000001.\n",
      "[I 2024-02-02 12:16:33,705] Trial 327 finished with value: -20.46544500000001 and parameters: {'min_samples_leaf': 700, 'max_depth': 15}. Best is trial 9 with value: -20.46544500000001.\n",
      "[I 2024-02-02 12:16:33,743] Trial 328 finished with value: -20.46544500000001 and parameters: {'min_samples_leaf': 700, 'max_depth': 15}. Best is trial 9 with value: -20.46544500000001.\n",
      "[I 2024-02-02 12:16:34,044] Trial 330 finished with value: -20.46544500000001 and parameters: {'min_samples_leaf': 700, 'max_depth': 15}. Best is trial 9 with value: -20.46544500000001.\n",
      "[I 2024-02-02 12:16:34,129] Trial 329 finished with value: -20.46544500000001 and parameters: {'min_samples_leaf': 700, 'max_depth': 15}. Best is trial 9 with value: -20.46544500000001.\n",
      "[I 2024-02-02 12:16:34,185] Trial 331 finished with value: -20.46544500000001 and parameters: {'min_samples_leaf': 700, 'max_depth': 15}. Best is trial 9 with value: -20.46544500000001.\n",
      "[I 2024-02-02 12:16:34,354] Trial 333 finished with value: -20.46544500000001 and parameters: {'min_samples_leaf': 700, 'max_depth': 15}. Best is trial 9 with value: -20.46544500000001.\n",
      "[I 2024-02-02 12:16:34,489] Trial 332 finished with value: -24.667206000000032 and parameters: {'min_samples_leaf': 500, 'max_depth': 15}. Best is trial 9 with value: -20.46544500000001.\n",
      "[I 2024-02-02 12:16:35,077] Trial 337 finished with value: -20.46544500000001 and parameters: {'min_samples_leaf': 700, 'max_depth': 15}. Best is trial 9 with value: -20.46544500000001.\n",
      "[I 2024-02-02 12:16:35,173] Trial 338 finished with value: -24.667206000000032 and parameters: {'min_samples_leaf': 500, 'max_depth': 15}. Best is trial 9 with value: -20.46544500000001.\n",
      "[I 2024-02-02 12:16:35,244] Trial 335 finished with value: -20.46544500000001 and parameters: {'min_samples_leaf': 700, 'max_depth': 15}. Best is trial 9 with value: -20.46544500000001.\n",
      "[I 2024-02-02 12:16:35,366] Trial 334 finished with value: -24.667206000000032 and parameters: {'min_samples_leaf': 500, 'max_depth': 15}. Best is trial 9 with value: -20.46544500000001.\n",
      "[I 2024-02-02 12:16:35,533] Trial 336 finished with value: -24.667206000000032 and parameters: {'min_samples_leaf': 500, 'max_depth': 15}. Best is trial 9 with value: -20.46544500000001.\n",
      "[I 2024-02-02 12:16:35,691] Trial 339 finished with value: -20.46544500000001 and parameters: {'min_samples_leaf': 700, 'max_depth': 15}. Best is trial 9 with value: -20.46544500000001.\n",
      "[I 2024-02-02 12:16:35,826] Trial 342 finished with value: -24.667206000000032 and parameters: {'min_samples_leaf': 500, 'max_depth': 20}. Best is trial 9 with value: -20.46544500000001.\n",
      "[I 2024-02-02 12:16:35,827] Trial 341 finished with value: -20.46544500000001 and parameters: {'min_samples_leaf': 700, 'max_depth': 20}. Best is trial 9 with value: -20.46544500000001.\n",
      "[I 2024-02-02 12:16:35,991] Trial 340 finished with value: -24.667206000000032 and parameters: {'min_samples_leaf': 500, 'max_depth': 15}. Best is trial 9 with value: -20.46544500000001.\n",
      "[I 2024-02-02 12:16:36,281] Trial 343 finished with value: -20.46544500000001 and parameters: {'min_samples_leaf': 700, 'max_depth': 20}. Best is trial 9 with value: -20.46544500000001.\n",
      "[I 2024-02-02 12:16:36,435] Trial 344 finished with value: -20.46544500000001 and parameters: {'min_samples_leaf': 700, 'max_depth': 20}. Best is trial 9 with value: -20.46544500000001.\n",
      "[I 2024-02-02 12:16:36,535] Trial 345 finished with value: -20.46544500000001 and parameters: {'min_samples_leaf': 700, 'max_depth': 20}. Best is trial 9 with value: -20.46544500000001.\n",
      "[I 2024-02-02 12:16:36,617] Trial 346 finished with value: -42.11555900000003 and parameters: {'min_samples_leaf': 1100, 'max_depth': 20}. Best is trial 9 with value: -20.46544500000001.\n",
      "[I 2024-02-02 12:16:37,064] Trial 347 finished with value: -20.46544500000001 and parameters: {'min_samples_leaf': 700, 'max_depth': 20}. Best is trial 9 with value: -20.46544500000001.\n",
      "[I 2024-02-02 12:16:37,263] Trial 350 finished with value: -20.46544500000001 and parameters: {'min_samples_leaf': 700, 'max_depth': 20}. Best is trial 9 with value: -20.46544500000001.\n",
      "[I 2024-02-02 12:16:37,365] Trial 348 finished with value: -20.46544500000001 and parameters: {'min_samples_leaf': 700, 'max_depth': 20}. Best is trial 9 with value: -20.46544500000001.\n",
      "[I 2024-02-02 12:16:37,515] Trial 349 finished with value: -20.46544500000001 and parameters: {'min_samples_leaf': 700, 'max_depth': 20}. Best is trial 9 with value: -20.46544500000001.\n",
      "[I 2024-02-02 12:16:37,751] Trial 352 finished with value: -20.46544500000001 and parameters: {'min_samples_leaf': 700, 'max_depth': 20}. Best is trial 9 with value: -20.46544500000001.\n",
      "[I 2024-02-02 12:16:37,803] Trial 351 finished with value: -20.46544500000001 and parameters: {'min_samples_leaf': 700, 'max_depth': 20}. Best is trial 9 with value: -20.46544500000001.\n",
      "[I 2024-02-02 12:16:37,837] Trial 353 finished with value: -42.11555900000003 and parameters: {'min_samples_leaf': 1100, 'max_depth': 20}. Best is trial 9 with value: -20.46544500000001.\n",
      "[I 2024-02-02 12:16:37,859] Trial 354 finished with value: -20.46544500000001 and parameters: {'min_samples_leaf': 700, 'max_depth': 20}. Best is trial 9 with value: -20.46544500000001.\n",
      "[I 2024-02-02 12:16:38,098] Trial 355 finished with value: -20.46544500000001 and parameters: {'min_samples_leaf': 700, 'max_depth': 20}. Best is trial 9 with value: -20.46544500000001.\n",
      "[I 2024-02-02 12:16:38,640] Trial 358 finished with value: -20.46544500000001 and parameters: {'min_samples_leaf': 700, 'max_depth': 20}. Best is trial 9 with value: -20.46544500000001.\n",
      "[I 2024-02-02 12:16:38,654] Trial 356 finished with value: -20.46544500000001 and parameters: {'min_samples_leaf': 700, 'max_depth': 20}. Best is trial 9 with value: -20.46544500000001.\n",
      "[I 2024-02-02 12:16:38,824] Trial 357 finished with value: -20.46544500000001 and parameters: {'min_samples_leaf': 700, 'max_depth': 20}. Best is trial 9 with value: -20.46544500000001.\n",
      "[I 2024-02-02 12:16:39,029] Trial 359 finished with value: -20.46544500000001 and parameters: {'min_samples_leaf': 700, 'max_depth': 20}. Best is trial 9 with value: -20.46544500000001.\n",
      "[I 2024-02-02 12:16:39,289] Trial 364 finished with value: -20.46544500000001 and parameters: {'min_samples_leaf': 700, 'max_depth': 25}. Best is trial 9 with value: -20.46544500000001.\n",
      "[I 2024-02-02 12:16:39,356] Trial 360 finished with value: -20.46544500000001 and parameters: {'min_samples_leaf': 700, 'max_depth': 20}. Best is trial 9 with value: -20.46544500000001.\n",
      "[I 2024-02-02 12:16:39,524] Trial 365 finished with value: -20.46544500000001 and parameters: {'min_samples_leaf': 700, 'max_depth': 25}. Best is trial 9 with value: -20.46544500000001.\n",
      "[I 2024-02-02 12:16:39,571] Trial 363 finished with value: -20.46544500000001 and parameters: {'min_samples_leaf': 700, 'max_depth': 25}. Best is trial 9 with value: -20.46544500000001.\n",
      "[I 2024-02-02 12:16:39,575] Trial 362 finished with value: -20.46544500000001 and parameters: {'min_samples_leaf': 700, 'max_depth': 20}. Best is trial 9 with value: -20.46544500000001.\n",
      "[I 2024-02-02 12:16:39,584] Trial 361 finished with value: -20.46544500000001 and parameters: {'min_samples_leaf': 700, 'max_depth': 20}. Best is trial 9 with value: -20.46544500000001.\n",
      "[I 2024-02-02 12:16:40,033] Trial 366 finished with value: -20.46544500000001 and parameters: {'min_samples_leaf': 700, 'max_depth': 25}. Best is trial 9 with value: -20.46544500000001.\n",
      "[I 2024-02-02 12:16:40,374] Trial 367 finished with value: -20.46544500000001 and parameters: {'min_samples_leaf': 700, 'max_depth': 25}. Best is trial 9 with value: -20.46544500000001.\n",
      "[I 2024-02-02 12:16:40,620] Trial 370 finished with value: -20.46544500000001 and parameters: {'min_samples_leaf': 700, 'max_depth': 25}. Best is trial 9 with value: -20.46544500000001.\n",
      "[I 2024-02-02 12:16:40,664] Trial 368 finished with value: -20.46544500000001 and parameters: {'min_samples_leaf': 700, 'max_depth': 25}. Best is trial 9 with value: -20.46544500000001.\n",
      "[I 2024-02-02 12:16:40,764] Trial 369 finished with value: -20.46544500000001 and parameters: {'min_samples_leaf': 700, 'max_depth': 25}. Best is trial 9 with value: -20.46544500000001.\n",
      "[I 2024-02-02 12:16:40,992] Trial 372 finished with value: -20.46544500000001 and parameters: {'min_samples_leaf': 700, 'max_depth': 25}. Best is trial 9 with value: -20.46544500000001.\n",
      "[I 2024-02-02 12:16:41,252] Trial 371 finished with value: -20.46544500000001 and parameters: {'min_samples_leaf': 700, 'max_depth': 25}. Best is trial 9 with value: -20.46544500000001.\n",
      "[I 2024-02-02 12:16:41,275] Trial 374 finished with value: -20.46544500000001 and parameters: {'min_samples_leaf': 700, 'max_depth': 25}. Best is trial 9 with value: -20.46544500000001.\n",
      "[I 2024-02-02 12:16:41,379] Trial 375 finished with value: -20.46544500000001 and parameters: {'min_samples_leaf': 700, 'max_depth': 25}. Best is trial 9 with value: -20.46544500000001.\n",
      "[I 2024-02-02 12:16:41,409] Trial 373 finished with value: -20.46544500000001 and parameters: {'min_samples_leaf': 700, 'max_depth': 25}. Best is trial 9 with value: -20.46544500000001.\n",
      "[I 2024-02-02 12:16:41,430] Trial 376 finished with value: -20.46544500000001 and parameters: {'min_samples_leaf': 700, 'max_depth': 15}. Best is trial 9 with value: -20.46544500000001.\n",
      "[I 2024-02-02 12:16:42,021] Trial 377 finished with value: -20.46544500000001 and parameters: {'min_samples_leaf': 700, 'max_depth': 15}. Best is trial 9 with value: -20.46544500000001.\n",
      "[I 2024-02-02 12:16:42,074] Trial 378 finished with value: -20.46544500000001 and parameters: {'min_samples_leaf': 700, 'max_depth': 15}. Best is trial 9 with value: -20.46544500000001.\n",
      "[I 2024-02-02 12:16:42,158] Trial 381 finished with value: -33.88995700000003 and parameters: {'min_samples_leaf': 900, 'max_depth': 5}. Best is trial 9 with value: -20.46544500000001.\n",
      "[I 2024-02-02 12:16:42,360] Trial 379 finished with value: -20.46544500000001 and parameters: {'min_samples_leaf': 700, 'max_depth': 15}. Best is trial 9 with value: -20.46544500000001.\n",
      "[I 2024-02-02 12:16:42,406] Trial 380 finished with value: -20.87378900000001 and parameters: {'min_samples_leaf': 700, 'max_depth': 5}. Best is trial 9 with value: -20.46544500000001.\n",
      "[I 2024-02-02 12:16:42,803] Trial 386 finished with value: -20.46544500000001 and parameters: {'min_samples_leaf': 700, 'max_depth': 20}. Best is trial 9 with value: -20.46544500000001.\n",
      "[I 2024-02-02 12:16:42,877] Trial 382 finished with value: -20.46544500000001 and parameters: {'min_samples_leaf': 700, 'max_depth': 15}. Best is trial 9 with value: -20.46544500000001.\n",
      "[I 2024-02-02 12:16:42,915] Trial 383 finished with value: -20.87378900000001 and parameters: {'min_samples_leaf': 700, 'max_depth': 5}. Best is trial 9 with value: -20.46544500000001.\n",
      "[I 2024-02-02 12:16:42,962] Trial 384 finished with value: -20.87378900000001 and parameters: {'min_samples_leaf': 700, 'max_depth': 5}. Best is trial 9 with value: -20.46544500000001.\n",
      "[I 2024-02-02 12:16:43,175] Trial 385 finished with value: -20.46544500000001 and parameters: {'min_samples_leaf': 700, 'max_depth': 20}. Best is trial 9 with value: -20.46544500000001.\n",
      "[I 2024-02-02 12:16:43,491] Trial 389 finished with value: -20.46544500000001 and parameters: {'min_samples_leaf': 700, 'max_depth': 20}. Best is trial 9 with value: -20.46544500000001.\n",
      "[I 2024-02-02 12:16:43,589] Trial 388 finished with value: -20.46544500000001 and parameters: {'min_samples_leaf': 700, 'max_depth': 20}. Best is trial 9 with value: -20.46544500000001.\n",
      "[I 2024-02-02 12:16:43,649] Trial 387 finished with value: -20.87378900000001 and parameters: {'min_samples_leaf': 700, 'max_depth': 5}. Best is trial 9 with value: -20.46544500000001.\n",
      "[I 2024-02-02 12:16:43,919] Trial 390 finished with value: -20.46544500000001 and parameters: {'min_samples_leaf': 700, 'max_depth': 20}. Best is trial 9 with value: -20.46544500000001.\n",
      "[I 2024-02-02 12:16:43,933] Trial 391 finished with value: -20.46544500000001 and parameters: {'min_samples_leaf': 700, 'max_depth': 20}. Best is trial 9 with value: -20.46544500000001.\n",
      "[I 2024-02-02 12:16:44,143] Trial 392 finished with value: -20.46544500000001 and parameters: {'min_samples_leaf': 700, 'max_depth': 20}. Best is trial 9 with value: -20.46544500000001.\n",
      "[I 2024-02-02 12:16:44,231] Trial 393 finished with value: -33.88995700000003 and parameters: {'min_samples_leaf': 900, 'max_depth': 20}. Best is trial 9 with value: -20.46544500000001.\n",
      "[I 2024-02-02 12:16:44,410] Trial 395 finished with value: -20.46544500000001 and parameters: {'min_samples_leaf': 700, 'max_depth': 10}. Best is trial 9 with value: -20.46544500000001.\n",
      "[I 2024-02-02 12:16:44,425] Trial 394 finished with value: -20.46544500000001 and parameters: {'min_samples_leaf': 700, 'max_depth': 10}. Best is trial 9 with value: -20.46544500000001.\n",
      "[I 2024-02-02 12:16:44,562] Trial 396 finished with value: -20.46544500000001 and parameters: {'min_samples_leaf': 700, 'max_depth': 10}. Best is trial 9 with value: -20.46544500000001.\n",
      "[I 2024-02-02 12:16:44,773] Trial 397 finished with value: -20.46544500000001 and parameters: {'min_samples_leaf': 700, 'max_depth': 10}. Best is trial 9 with value: -20.46544500000001.\n",
      "[I 2024-02-02 12:16:44,885] Trial 398 finished with value: -20.46544500000001 and parameters: {'min_samples_leaf': 700, 'max_depth': 10}. Best is trial 9 with value: -20.46544500000001.\n",
      "[I 2024-02-02 12:16:44,976] Trial 399 finished with value: -20.46544500000001 and parameters: {'min_samples_leaf': 700, 'max_depth': 20}. Best is trial 9 with value: -20.46544500000001.\n"
     ]
    },
    {
     "name": "stdout",
     "output_type": "stream",
     "text": [
      "CPU times: user 4min 30s, sys: 3.22 s, total: 4min 33s\n",
      "Wall time: 32.1 s\n"
     ]
    }
   ],
   "source": [
    "%%time\n",
    "study_tree.optimize(partial(objective_tree,train=train_1,labels=y_1,val=valid,val_labels=y_valid,val_rets=valid_stock_returns), n_trials=200,n_jobs=-1)"
   ]
  },
  {
   "cell_type": "code",
   "execution_count": 16,
   "metadata": {},
   "outputs": [
    {
     "name": "stderr",
     "output_type": "stream",
     "text": [
      "[I 2024-02-02 12:04:23,404] Trial 1 finished with value: -38.27588400000003 and parameters: {'min_samples_leaf': 1100, 'max_depth': 10, 'n_estimators': 5}. Best is trial 1 with value: -38.27588400000003.\n",
      "[I 2024-02-02 12:04:24,736] Trial 9 finished with value: -35.64506600000003 and parameters: {'min_samples_leaf': 500, 'max_depth': 15, 'n_estimators': 5}. Best is trial 9 with value: -35.64506600000003.\n",
      "[I 2024-02-02 12:04:33,957] Trial 8 finished with value: -38.103020000000036 and parameters: {'min_samples_leaf': 900, 'max_depth': 5, 'n_estimators': 20}. Best is trial 9 with value: -35.64506600000003.\n",
      "[I 2024-02-02 12:04:35,529] Trial 6 finished with value: -39.032059000000025 and parameters: {'min_samples_leaf': 1100, 'max_depth': 10, 'n_estimators': 25}. Best is trial 9 with value: -35.64506600000003.\n",
      "[I 2024-02-02 12:04:37,820] Trial 3 finished with value: -36.821257000000024 and parameters: {'min_samples_leaf': 500, 'max_depth': 10, 'n_estimators': 20}. Best is trial 9 with value: -35.64506600000003.\n",
      "[I 2024-02-02 12:04:40,365] Trial 0 finished with value: -38.65281800000003 and parameters: {'min_samples_leaf': 900, 'max_depth': 25, 'n_estimators': 30}. Best is trial 9 with value: -35.64506600000003.\n",
      "[I 2024-02-02 12:04:43,581] Trial 4 finished with value: -29.85468000000006 and parameters: {'min_samples_leaf': 100, 'max_depth': 20, 'n_estimators': 15}. Best is trial 4 with value: -29.85468000000006.\n",
      "[I 2024-02-02 12:04:47,569] Trial 2 finished with value: -39.00490500000003 and parameters: {'min_samples_leaf': 900, 'max_depth': 10, 'n_estimators': 40}. Best is trial 4 with value: -29.85468000000006.\n",
      "[I 2024-02-02 12:04:48,371] Trial 11 finished with value: -35.50093700000003 and parameters: {'min_samples_leaf': 700, 'max_depth': 20, 'n_estimators': 30}. Best is trial 4 with value: -29.85468000000006.\n",
      "[I 2024-02-02 12:04:52,672] Trial 7 finished with value: -32.87700300000004 and parameters: {'min_samples_leaf': 100, 'max_depth': 5, 'n_estimators': 30}. Best is trial 4 with value: -29.85468000000006.\n",
      "[I 2024-02-02 12:04:53,101] Trial 15 finished with value: -38.52192300000003 and parameters: {'min_samples_leaf': 1100, 'max_depth': 10, 'n_estimators': 20}. Best is trial 4 with value: -29.85468000000006.\n",
      "[I 2024-02-02 12:04:58,990] Trial 10 finished with value: -37.587929000000024 and parameters: {'min_samples_leaf': 500, 'max_depth': 20, 'n_estimators': 40}. Best is trial 4 with value: -29.85468000000006.\n",
      "[I 2024-02-02 12:05:00,400] Trial 5 finished with value: -38.11762600000003 and parameters: {'min_samples_leaf': 500, 'max_depth': 20, 'n_estimators': 45}. Best is trial 4 with value: -29.85468000000006.\n",
      "[I 2024-02-02 12:05:04,399] Trial 12 finished with value: -38.81808100000002 and parameters: {'min_samples_leaf': 1100, 'max_depth': 15, 'n_estimators': 50}. Best is trial 4 with value: -29.85468000000006.\n",
      "[I 2024-02-02 12:05:09,430] Trial 18 finished with value: -39.066652000000026 and parameters: {'min_samples_leaf': 1100, 'max_depth': 5, 'n_estimators': 35}. Best is trial 4 with value: -29.85468000000006.\n",
      "[I 2024-02-02 12:05:14,026] Trial 14 finished with value: -37.587929000000024 and parameters: {'min_samples_leaf': 500, 'max_depth': 15, 'n_estimators': 40}. Best is trial 4 with value: -29.85468000000006.\n",
      "[I 2024-02-02 12:05:14,717] Trial 17 finished with value: -39.00490500000003 and parameters: {'min_samples_leaf': 900, 'max_depth': 20, 'n_estimators': 40}. Best is trial 4 with value: -29.85468000000006.\n",
      "[I 2024-02-02 12:05:16,906] Trial 22 finished with value: -28.08505900000005 and parameters: {'min_samples_leaf': 100, 'max_depth': 25, 'n_estimators': 10}. Best is trial 22 with value: -28.08505900000005.\n",
      "[I 2024-02-02 12:05:19,739] Trial 13 finished with value: -35.67529200000003 and parameters: {'min_samples_leaf': 300, 'max_depth': 15, 'n_estimators': 40}. Best is trial 22 with value: -28.08505900000005.\n",
      "[I 2024-02-02 12:05:19,939] Trial 23 finished with value: -28.08505900000005 and parameters: {'min_samples_leaf': 100, 'max_depth': 25, 'n_estimators': 10}. Best is trial 22 with value: -28.08505900000005.\n",
      "[I 2024-02-02 12:05:25,014] Trial 24 finished with value: -28.08505900000005 and parameters: {'min_samples_leaf': 100, 'max_depth': 25, 'n_estimators': 10}. Best is trial 22 with value: -28.08505900000005.\n",
      "[I 2024-02-02 12:05:26,600] Trial 26 finished with value: -30.487178000000036 and parameters: {'min_samples_leaf': 100, 'max_depth': 5, 'n_estimators': 10}. Best is trial 22 with value: -28.08505900000005.\n",
      "[I 2024-02-02 12:05:29,180] Trial 25 finished with value: -28.08505900000005 and parameters: {'min_samples_leaf': 100, 'max_depth': 25, 'n_estimators': 10}. Best is trial 22 with value: -28.08505900000005.\n",
      "[I 2024-02-02 12:05:30,748] Trial 29 finished with value: -32.36191500000004 and parameters: {'min_samples_leaf': 300, 'max_depth': 25, 'n_estimators': 10}. Best is trial 22 with value: -28.08505900000005.\n",
      "[I 2024-02-02 12:05:32,508] Trial 27 finished with value: -28.08505900000005 and parameters: {'min_samples_leaf': 100, 'max_depth': 25, 'n_estimators': 10}. Best is trial 22 with value: -28.08505900000005.\n",
      "[I 2024-02-02 12:05:35,424] Trial 28 finished with value: -28.08505900000005 and parameters: {'min_samples_leaf': 100, 'max_depth': 25, 'n_estimators': 10}. Best is trial 22 with value: -28.08505900000005.\n",
      "[I 2024-02-02 12:05:36,883] Trial 16 finished with value: -30.705330000000068 and parameters: {'min_samples_leaf': 100, 'max_depth': 10, 'n_estimators': 35}. Best is trial 22 with value: -28.08505900000005.\n",
      "[I 2024-02-02 12:05:37,425] Trial 31 finished with value: -32.36191500000004 and parameters: {'min_samples_leaf': 300, 'max_depth': 25, 'n_estimators': 10}. Best is trial 22 with value: -28.08505900000005.\n",
      "[I 2024-02-02 12:05:40,604] Trial 32 finished with value: -32.36191500000004 and parameters: {'min_samples_leaf': 300, 'max_depth': 25, 'n_estimators': 10}. Best is trial 22 with value: -28.08505900000005.\n",
      "[I 2024-02-02 12:05:40,735] Trial 30 finished with value: -28.08505900000005 and parameters: {'min_samples_leaf': 100, 'max_depth': 25, 'n_estimators': 10}. Best is trial 22 with value: -28.08505900000005.\n",
      "[I 2024-02-02 12:05:46,867] Trial 33 finished with value: -34.64956300000004 and parameters: {'min_samples_leaf': 300, 'max_depth': 25, 'n_estimators': 15}. Best is trial 22 with value: -28.08505900000005.\n",
      "[I 2024-02-02 12:05:48,622] Trial 34 finished with value: -34.64956300000004 and parameters: {'min_samples_leaf': 300, 'max_depth': 25, 'n_estimators': 15}. Best is trial 22 with value: -28.08505900000005.\n",
      "[I 2024-02-02 12:05:51,484] Trial 35 finished with value: -34.64956300000004 and parameters: {'min_samples_leaf': 300, 'max_depth': 25, 'n_estimators': 15}. Best is trial 22 with value: -28.08505900000005.\n",
      "[I 2024-02-02 12:05:52,939] Trial 36 finished with value: -34.64956300000004 and parameters: {'min_samples_leaf': 300, 'max_depth': 25, 'n_estimators': 15}. Best is trial 22 with value: -28.08505900000005.\n",
      "[I 2024-02-02 12:05:53,522] Trial 37 finished with value: -34.64956300000004 and parameters: {'min_samples_leaf': 300, 'max_depth': 25, 'n_estimators': 15}. Best is trial 22 with value: -28.08505900000005.\n",
      "[I 2024-02-02 12:05:56,455] Trial 41 finished with value: -27.16182000000004 and parameters: {'min_samples_leaf': 100, 'max_depth': 20, 'n_estimators': 5}. Best is trial 41 with value: -27.16182000000004.\n",
      "[I 2024-02-02 12:05:56,685] Trial 38 finished with value: -34.64956300000004 and parameters: {'min_samples_leaf': 300, 'max_depth': 25, 'n_estimators': 15}. Best is trial 41 with value: -27.16182000000004.\n",
      "[I 2024-02-02 12:05:57,219] Trial 39 finished with value: -34.64956300000004 and parameters: {'min_samples_leaf': 300, 'max_depth': 20, 'n_estimators': 15}. Best is trial 41 with value: -27.16182000000004.\n",
      "[I 2024-02-02 12:05:59,227] Trial 42 finished with value: -27.16182000000004 and parameters: {'min_samples_leaf': 100, 'max_depth': 20, 'n_estimators': 5}. Best is trial 41 with value: -27.16182000000004.\n",
      "[I 2024-02-02 12:06:00,386] Trial 43 finished with value: -27.16182000000004 and parameters: {'min_samples_leaf': 100, 'max_depth': 20, 'n_estimators': 5}. Best is trial 41 with value: -27.16182000000004.\n",
      "[I 2024-02-02 12:06:00,943] Trial 44 finished with value: -27.16182000000004 and parameters: {'min_samples_leaf': 100, 'max_depth': 20, 'n_estimators': 5}. Best is trial 41 with value: -27.16182000000004.\n",
      "[I 2024-02-02 12:06:02,226] Trial 20 finished with value: -30.60352800000006 and parameters: {'min_samples_leaf': 100, 'max_depth': 20, 'n_estimators': 45}. Best is trial 41 with value: -27.16182000000004.\n",
      "[I 2024-02-02 12:06:02,551] Trial 40 finished with value: -34.64956300000004 and parameters: {'min_samples_leaf': 300, 'max_depth': 25, 'n_estimators': 15}. Best is trial 41 with value: -27.16182000000004.\n",
      "[I 2024-02-02 12:06:04,491] Trial 46 finished with value: -27.16182000000004 and parameters: {'min_samples_leaf': 100, 'max_depth': 20, 'n_estimators': 5}. Best is trial 41 with value: -27.16182000000004.\n",
      "[I 2024-02-02 12:06:04,685] Trial 45 finished with value: -27.16182000000004 and parameters: {'min_samples_leaf': 100, 'max_depth': 20, 'n_estimators': 5}. Best is trial 41 with value: -27.16182000000004.\n",
      "[I 2024-02-02 12:06:04,918] Trial 47 finished with value: -27.16182000000004 and parameters: {'min_samples_leaf': 100, 'max_depth': 20, 'n_estimators': 5}. Best is trial 41 with value: -27.16182000000004.\n",
      "[I 2024-02-02 12:06:06,919] Trial 48 finished with value: -27.16182000000004 and parameters: {'min_samples_leaf': 100, 'max_depth': 20, 'n_estimators': 5}. Best is trial 41 with value: -27.16182000000004.\n",
      "[I 2024-02-02 12:06:07,828] Trial 49 finished with value: -27.16182000000004 and parameters: {'min_samples_leaf': 100, 'max_depth': 20, 'n_estimators': 5}. Best is trial 41 with value: -27.16182000000004.\n",
      "[I 2024-02-02 12:06:08,178] Trial 19 finished with value: -30.991596000000058 and parameters: {'min_samples_leaf': 100, 'max_depth': 25, 'n_estimators': 50}. Best is trial 41 with value: -27.16182000000004.\n",
      "[I 2024-02-02 12:06:08,517] Trial 54 finished with value: -37.62985300000004 and parameters: {'min_samples_leaf': 700, 'max_depth': 20, 'n_estimators': 5}. Best is trial 41 with value: -27.16182000000004.\n",
      "[I 2024-02-02 12:06:08,698] Trial 55 finished with value: -37.62985300000004 and parameters: {'min_samples_leaf': 700, 'max_depth': 15, 'n_estimators': 5}. Best is trial 41 with value: -27.16182000000004.\n",
      "[I 2024-02-02 12:06:08,968] Trial 50 finished with value: -27.16182000000004 and parameters: {'min_samples_leaf': 100, 'max_depth': 20, 'n_estimators': 5}. Best is trial 41 with value: -27.16182000000004.\n",
      "[I 2024-02-02 12:06:09,874] Trial 51 finished with value: -27.16182000000004 and parameters: {'min_samples_leaf': 100, 'max_depth': 20, 'n_estimators': 5}. Best is trial 41 with value: -27.16182000000004.\n",
      "[I 2024-02-02 12:06:10,410] Trial 52 finished with value: -27.16182000000004 and parameters: {'min_samples_leaf': 100, 'max_depth': 20, 'n_estimators': 5}. Best is trial 41 with value: -27.16182000000004.\n",
      "[I 2024-02-02 12:06:12,065] Trial 57 finished with value: -37.62985300000004 and parameters: {'min_samples_leaf': 700, 'max_depth': 15, 'n_estimators': 5}. Best is trial 41 with value: -27.16182000000004.\n",
      "[I 2024-02-02 12:06:12,335] Trial 53 finished with value: -27.16182000000004 and parameters: {'min_samples_leaf': 100, 'max_depth': 20, 'n_estimators': 5}. Best is trial 41 with value: -27.16182000000004.\n",
      "[I 2024-02-02 12:06:12,509] Trial 58 finished with value: -37.62985300000004 and parameters: {'min_samples_leaf': 700, 'max_depth': 15, 'n_estimators': 5}. Best is trial 41 with value: -27.16182000000004.\n",
      "[I 2024-02-02 12:06:13,507] Trial 59 finished with value: -35.64506600000003 and parameters: {'min_samples_leaf': 500, 'max_depth': 15, 'n_estimators': 5}. Best is trial 41 with value: -27.16182000000004.\n",
      "[I 2024-02-02 12:06:14,716] Trial 21 finished with value: -30.991596000000058 and parameters: {'min_samples_leaf': 100, 'max_depth': 20, 'n_estimators': 50}. Best is trial 41 with value: -27.16182000000004.\n",
      "[I 2024-02-02 12:06:15,594] Trial 56 finished with value: -27.16182000000004 and parameters: {'min_samples_leaf': 100, 'max_depth': 15, 'n_estimators': 5}. Best is trial 41 with value: -27.16182000000004.\n",
      "[I 2024-02-02 12:06:17,406] Trial 60 finished with value: -27.16182000000004 and parameters: {'min_samples_leaf': 100, 'max_depth': 20, 'n_estimators': 5}. Best is trial 41 with value: -27.16182000000004.\n",
      "[I 2024-02-02 12:06:17,477] Trial 61 finished with value: -27.16182000000004 and parameters: {'min_samples_leaf': 100, 'max_depth': 15, 'n_estimators': 5}. Best is trial 41 with value: -27.16182000000004.\n",
      "[I 2024-02-02 12:06:18,529] Trial 62 finished with value: -27.16182000000004 and parameters: {'min_samples_leaf': 100, 'max_depth': 15, 'n_estimators': 5}. Best is trial 41 with value: -27.16182000000004.\n",
      "[I 2024-02-02 12:06:22,530] Trial 68 finished with value: -27.16182000000004 and parameters: {'min_samples_leaf': 100, 'max_depth': 20, 'n_estimators': 5}. Best is trial 41 with value: -27.16182000000004.\n",
      "[I 2024-02-02 12:06:34,972] Trial 66 finished with value: -37.76978700000003 and parameters: {'min_samples_leaf': 500, 'max_depth': 15, 'n_estimators': 25}. Best is trial 41 with value: -27.16182000000004.\n",
      "[I 2024-02-02 12:06:46,949] Trial 70 finished with value: -28.56838600000006 and parameters: {'min_samples_leaf': 100, 'max_depth': 20, 'n_estimators': 20}. Best is trial 41 with value: -27.16182000000004.\n",
      "[I 2024-02-02 12:06:47,512] Trial 71 finished with value: -28.56838600000006 and parameters: {'min_samples_leaf': 100, 'max_depth': 20, 'n_estimators': 20}. Best is trial 41 with value: -27.16182000000004.\n",
      "[I 2024-02-02 12:06:48,125] Trial 63 finished with value: -29.802219000000047 and parameters: {'min_samples_leaf': 100, 'max_depth': 15, 'n_estimators': 25}. Best is trial 41 with value: -27.16182000000004.\n",
      "[I 2024-02-02 12:06:49,514] Trial 65 finished with value: -29.802219000000047 and parameters: {'min_samples_leaf': 100, 'max_depth': 15, 'n_estimators': 25}. Best is trial 41 with value: -27.16182000000004.\n",
      "[I 2024-02-02 12:06:49,988] Trial 64 finished with value: -29.802219000000047 and parameters: {'min_samples_leaf': 100, 'max_depth': 20, 'n_estimators': 25}. Best is trial 41 with value: -27.16182000000004.\n",
      "[I 2024-02-02 12:06:50,075] Trial 74 finished with value: -28.08505900000005 and parameters: {'min_samples_leaf': 100, 'max_depth': 20, 'n_estimators': 10}. Best is trial 41 with value: -27.16182000000004.\n",
      "[I 2024-02-02 12:06:50,896] Trial 67 finished with value: -29.802219000000047 and parameters: {'min_samples_leaf': 100, 'max_depth': 20, 'n_estimators': 25}. Best is trial 41 with value: -27.16182000000004.\n",
      "[I 2024-02-02 12:06:52,075] Trial 73 finished with value: -28.56838600000006 and parameters: {'min_samples_leaf': 100, 'max_depth': 20, 'n_estimators': 20}. Best is trial 41 with value: -27.16182000000004.\n",
      "[I 2024-02-02 12:06:52,872] Trial 69 finished with value: -29.802219000000047 and parameters: {'min_samples_leaf': 100, 'max_depth': 20, 'n_estimators': 25}. Best is trial 41 with value: -27.16182000000004.\n",
      "[I 2024-02-02 12:06:56,125] Trial 72 finished with value: -29.802219000000047 and parameters: {'min_samples_leaf': 100, 'max_depth': 20, 'n_estimators': 25}. Best is trial 41 with value: -27.16182000000004.\n",
      "[I 2024-02-02 12:07:00,661] Trial 79 finished with value: -32.36191500000004 and parameters: {'min_samples_leaf': 300, 'max_depth': 20, 'n_estimators': 10}. Best is trial 41 with value: -27.16182000000004.\n",
      "[I 2024-02-02 12:07:00,695] Trial 78 finished with value: -32.36191500000004 and parameters: {'min_samples_leaf': 300, 'max_depth': 20, 'n_estimators': 10}. Best is trial 41 with value: -27.16182000000004.\n",
      "[I 2024-02-02 12:07:01,539] Trial 75 finished with value: -28.08505900000005 and parameters: {'min_samples_leaf': 100, 'max_depth': 20, 'n_estimators': 10}. Best is trial 41 with value: -27.16182000000004.\n",
      "[I 2024-02-02 12:07:02,447] Trial 76 finished with value: -28.08505900000005 and parameters: {'min_samples_leaf': 100, 'max_depth': 20, 'n_estimators': 10}. Best is trial 41 with value: -27.16182000000004.\n",
      "[I 2024-02-02 12:07:03,355] Trial 83 finished with value: -32.36191500000004 and parameters: {'min_samples_leaf': 300, 'max_depth': 20, 'n_estimators': 10}. Best is trial 41 with value: -27.16182000000004.\n",
      "[I 2024-02-02 12:07:03,370] Trial 77 finished with value: -28.08505900000005 and parameters: {'min_samples_leaf': 100, 'max_depth': 20, 'n_estimators': 10}. Best is trial 41 with value: -27.16182000000004.\n",
      "[I 2024-02-02 12:07:04,893] Trial 87 finished with value: -38.44684100000005 and parameters: {'min_samples_leaf': 900, 'max_depth': 20, 'n_estimators': 5}. Best is trial 41 with value: -27.16182000000004.\n",
      "[I 2024-02-02 12:07:05,050] Trial 80 finished with value: -28.08505900000005 and parameters: {'min_samples_leaf': 100, 'max_depth': 20, 'n_estimators': 10}. Best is trial 41 with value: -27.16182000000004.\n",
      "[I 2024-02-02 12:07:06,701] Trial 81 finished with value: -28.08505900000005 and parameters: {'min_samples_leaf': 100, 'max_depth': 20, 'n_estimators': 10}. Best is trial 41 with value: -27.16182000000004.\n",
      "[I 2024-02-02 12:07:06,961] Trial 84 finished with value: -32.36191500000004 and parameters: {'min_samples_leaf': 300, 'max_depth': 20, 'n_estimators': 10}. Best is trial 41 with value: -27.16182000000004.\n",
      "[I 2024-02-02 12:07:07,058] Trial 82 finished with value: -28.08505900000005 and parameters: {'min_samples_leaf': 100, 'max_depth': 20, 'n_estimators': 10}. Best is trial 41 with value: -27.16182000000004.\n",
      "[I 2024-02-02 12:07:07,949] Trial 88 finished with value: -33.63191400000004 and parameters: {'min_samples_leaf': 300, 'max_depth': 20, 'n_estimators': 5}. Best is trial 41 with value: -27.16182000000004.\n",
      "[I 2024-02-02 12:07:10,940] Trial 90 finished with value: -27.16182000000004 and parameters: {'min_samples_leaf': 100, 'max_depth': 20, 'n_estimators': 5}. Best is trial 41 with value: -27.16182000000004.\n",
      "[I 2024-02-02 12:07:11,196] Trial 89 finished with value: -27.16182000000004 and parameters: {'min_samples_leaf': 100, 'max_depth': 20, 'n_estimators': 5}. Best is trial 41 with value: -27.16182000000004.\n",
      "[I 2024-02-02 12:07:11,637] Trial 85 finished with value: -32.36191500000004 and parameters: {'min_samples_leaf': 300, 'max_depth': 20, 'n_estimators': 10}. Best is trial 41 with value: -27.16182000000004.\n",
      "[I 2024-02-02 12:07:12,391] Trial 91 finished with value: -27.16182000000004 and parameters: {'min_samples_leaf': 100, 'max_depth': 20, 'n_estimators': 5}. Best is trial 41 with value: -27.16182000000004.\n",
      "[I 2024-02-02 12:07:13,206] Trial 92 finished with value: -27.16182000000004 and parameters: {'min_samples_leaf': 100, 'max_depth': 20, 'n_estimators': 5}. Best is trial 41 with value: -27.16182000000004.\n",
      "[I 2024-02-02 12:07:14,383] Trial 94 finished with value: -27.16182000000004 and parameters: {'min_samples_leaf': 100, 'max_depth': 20, 'n_estimators': 5}. Best is trial 41 with value: -27.16182000000004.\n",
      "[I 2024-02-02 12:07:14,703] Trial 93 finished with value: -27.16182000000004 and parameters: {'min_samples_leaf': 100, 'max_depth': 20, 'n_estimators': 5}. Best is trial 41 with value: -27.16182000000004.\n",
      "[I 2024-02-02 12:07:15,155] Trial 95 finished with value: -27.16182000000004 and parameters: {'min_samples_leaf': 100, 'max_depth': 20, 'n_estimators': 5}. Best is trial 41 with value: -27.16182000000004.\n",
      "[I 2024-02-02 12:07:15,443] Trial 96 finished with value: -27.16182000000004 and parameters: {'min_samples_leaf': 100, 'max_depth': 20, 'n_estimators': 5}. Best is trial 41 with value: -27.16182000000004.\n",
      "[I 2024-02-02 12:07:15,977] Trial 86 finished with value: -28.08505900000005 and parameters: {'min_samples_leaf': 100, 'max_depth': 20, 'n_estimators': 10}. Best is trial 41 with value: -27.16182000000004.\n",
      "[I 2024-02-02 12:07:18,610] Trial 97 finished with value: -26.708862000000046 and parameters: {'min_samples_leaf': 100, 'max_depth': 10, 'n_estimators': 5}. Best is trial 97 with value: -26.708862000000046.\n",
      "[I 2024-02-02 12:07:19,126] Trial 99 finished with value: -27.16182000000004 and parameters: {'min_samples_leaf': 100, 'max_depth': 20, 'n_estimators': 5}. Best is trial 97 with value: -26.708862000000046.\n",
      "[I 2024-02-02 12:07:19,156] Trial 98 finished with value: -27.16182000000004 and parameters: {'min_samples_leaf': 100, 'max_depth': 20, 'n_estimators': 5}. Best is trial 97 with value: -26.708862000000046.\n",
      "[I 2024-02-02 12:07:20,380] Trial 100 finished with value: -27.16182000000004 and parameters: {'min_samples_leaf': 100, 'max_depth': 20, 'n_estimators': 5}. Best is trial 97 with value: -26.708862000000046.\n",
      "[I 2024-02-02 12:07:21,136] Trial 101 finished with value: -26.708862000000046 and parameters: {'min_samples_leaf': 100, 'max_depth': 10, 'n_estimators': 5}. Best is trial 97 with value: -26.708862000000046.\n",
      "[I 2024-02-02 12:07:21,984] Trial 102 finished with value: -27.16182000000004 and parameters: {'min_samples_leaf': 100, 'max_depth': 20, 'n_estimators': 5}. Best is trial 97 with value: -26.708862000000046.\n",
      "[I 2024-02-02 12:07:22,575] Trial 103 finished with value: -27.16182000000004 and parameters: {'min_samples_leaf': 100, 'max_depth': 20, 'n_estimators': 5}. Best is trial 97 with value: -26.708862000000046.\n",
      "[I 2024-02-02 12:07:22,849] Trial 104 finished with value: -27.16182000000004 and parameters: {'min_samples_leaf': 100, 'max_depth': 20, 'n_estimators': 5}. Best is trial 97 with value: -26.708862000000046.\n",
      "[I 2024-02-02 12:07:23,390] Trial 105 finished with value: -27.16182000000004 and parameters: {'min_samples_leaf': 100, 'max_depth': 20, 'n_estimators': 5}. Best is trial 97 with value: -26.708862000000046.\n",
      "[I 2024-02-02 12:07:26,063] Trial 107 finished with value: -27.16182000000004 and parameters: {'min_samples_leaf': 100, 'max_depth': 20, 'n_estimators': 5}. Best is trial 97 with value: -26.708862000000046.\n",
      "[I 2024-02-02 12:07:26,379] Trial 108 finished with value: -26.708862000000046 and parameters: {'min_samples_leaf': 100, 'max_depth': 10, 'n_estimators': 5}. Best is trial 97 with value: -26.708862000000046.\n",
      "[I 2024-02-02 12:07:30,573] Trial 114 finished with value: -26.708862000000046 and parameters: {'min_samples_leaf': 100, 'max_depth': 10, 'n_estimators': 5}. Best is trial 97 with value: -26.708862000000046.\n",
      "[I 2024-02-02 12:07:38,057] Trial 118 finished with value: -26.708862000000046 and parameters: {'min_samples_leaf': 100, 'max_depth': 10, 'n_estimators': 5}. Best is trial 97 with value: -26.708862000000046.\n",
      "[I 2024-02-02 12:07:43,764] Trial 115 finished with value: -39.066652000000026 and parameters: {'min_samples_leaf': 1100, 'max_depth': 10, 'n_estimators': 35}. Best is trial 97 with value: -26.708862000000046.\n",
      "[I 2024-02-02 12:07:46,093] Trial 119 finished with value: -26.708862000000046 and parameters: {'min_samples_leaf': 100, 'max_depth': 10, 'n_estimators': 5}. Best is trial 97 with value: -26.708862000000046.\n",
      "[I 2024-02-02 12:07:53,514] Trial 121 finished with value: -26.708862000000046 and parameters: {'min_samples_leaf': 100, 'max_depth': 10, 'n_estimators': 5}. Best is trial 97 with value: -26.708862000000046.\n",
      "[I 2024-02-02 12:08:00,714] Trial 122 finished with value: -26.708862000000046 and parameters: {'min_samples_leaf': 100, 'max_depth': 10, 'n_estimators': 5}. Best is trial 97 with value: -26.708862000000046.\n",
      "[I 2024-02-02 12:08:07,345] Trial 106 finished with value: -31.280052000000055 and parameters: {'min_samples_leaf': 100, 'max_depth': 20, 'n_estimators': 35}. Best is trial 97 with value: -26.708862000000046.\n",
      "[I 2024-02-02 12:08:08,899] Trial 123 finished with value: -26.708862000000046 and parameters: {'min_samples_leaf': 100, 'max_depth': 10, 'n_estimators': 5}. Best is trial 97 with value: -26.708862000000046.\n",
      "[I 2024-02-02 12:08:09,071] Trial 116 finished with value: -30.670912000000058 and parameters: {'min_samples_leaf': 100, 'max_depth': 10, 'n_estimators': 30}. Best is trial 97 with value: -26.708862000000046.\n",
      "[I 2024-02-02 12:08:09,376] Trial 109 finished with value: -30.705330000000068 and parameters: {'min_samples_leaf': 100, 'max_depth': 10, 'n_estimators': 35}. Best is trial 97 with value: -26.708862000000046.\n",
      "[I 2024-02-02 12:08:11,840] Trial 111 finished with value: -30.705330000000068 and parameters: {'min_samples_leaf': 100, 'max_depth': 10, 'n_estimators': 35}. Best is trial 97 with value: -26.708862000000046.\n",
      "[I 2024-02-02 12:08:13,438] Trial 113 finished with value: -30.705330000000068 and parameters: {'min_samples_leaf': 100, 'max_depth': 10, 'n_estimators': 35}. Best is trial 97 with value: -26.708862000000046.\n",
      "[I 2024-02-02 12:08:14,085] Trial 110 finished with value: -31.280052000000055 and parameters: {'min_samples_leaf': 100, 'max_depth': 20, 'n_estimators': 35}. Best is trial 97 with value: -26.708862000000046.\n",
      "[I 2024-02-02 12:08:16,075] Trial 124 finished with value: -26.708862000000046 and parameters: {'min_samples_leaf': 100, 'max_depth': 10, 'n_estimators': 5}. Best is trial 97 with value: -26.708862000000046.\n",
      "[I 2024-02-02 12:08:16,377] Trial 126 finished with value: -26.708862000000046 and parameters: {'min_samples_leaf': 100, 'max_depth': 10, 'n_estimators': 5}. Best is trial 97 with value: -26.708862000000046.\n",
      "[I 2024-02-02 12:08:16,779] Trial 127 finished with value: -26.708862000000046 and parameters: {'min_samples_leaf': 100, 'max_depth': 10, 'n_estimators': 5}. Best is trial 97 with value: -26.708862000000046.\n",
      "[I 2024-02-02 12:08:18,254] Trial 125 finished with value: -26.708862000000046 and parameters: {'min_samples_leaf': 100, 'max_depth': 10, 'n_estimators': 5}. Best is trial 97 with value: -26.708862000000046.\n",
      "[I 2024-02-02 12:08:19,369] Trial 128 finished with value: -26.708862000000046 and parameters: {'min_samples_leaf': 100, 'max_depth': 10, 'n_estimators': 5}. Best is trial 97 with value: -26.708862000000046.\n",
      "[I 2024-02-02 12:08:22,351] Trial 130 finished with value: -26.708862000000046 and parameters: {'min_samples_leaf': 100, 'max_depth': 10, 'n_estimators': 5}. Best is trial 97 with value: -26.708862000000046.\n",
      "[I 2024-02-02 12:08:23,598] Trial 132 finished with value: -26.708862000000046 and parameters: {'min_samples_leaf': 100, 'max_depth': 10, 'n_estimators': 5}. Best is trial 97 with value: -26.708862000000046.\n",
      "[I 2024-02-02 12:08:23,685] Trial 131 finished with value: -26.708862000000046 and parameters: {'min_samples_leaf': 100, 'max_depth': 10, 'n_estimators': 5}. Best is trial 97 with value: -26.708862000000046.\n",
      "[I 2024-02-02 12:08:24,952] Trial 133 finished with value: -26.708862000000046 and parameters: {'min_samples_leaf': 100, 'max_depth': 10, 'n_estimators': 5}. Best is trial 97 with value: -26.708862000000046.\n",
      "[I 2024-02-02 12:08:25,969] Trial 134 finished with value: -26.708862000000046 and parameters: {'min_samples_leaf': 100, 'max_depth': 10, 'n_estimators': 5}. Best is trial 97 with value: -26.708862000000046.\n",
      "[I 2024-02-02 12:08:26,687] Trial 135 finished with value: -26.708862000000046 and parameters: {'min_samples_leaf': 100, 'max_depth': 10, 'n_estimators': 5}. Best is trial 97 with value: -26.708862000000046.\n",
      "[I 2024-02-02 12:08:27,979] Trial 112 finished with value: -29.08338100000006 and parameters: {'min_samples_leaf': 100, 'max_depth': 10, 'n_estimators': 45}. Best is trial 97 with value: -26.708862000000046.\n",
      "[I 2024-02-02 12:08:30,104] Trial 136 finished with value: -26.708862000000046 and parameters: {'min_samples_leaf': 100, 'max_depth': 10, 'n_estimators': 5}. Best is trial 97 with value: -26.708862000000046.\n",
      "[I 2024-02-02 12:08:31,697] Trial 137 finished with value: -26.708862000000046 and parameters: {'min_samples_leaf': 100, 'max_depth': 10, 'n_estimators': 5}. Best is trial 97 with value: -26.708862000000046.\n",
      "[I 2024-02-02 12:08:33,209] Trial 142 finished with value: -30.208636000000016 and parameters: {'min_samples_leaf': 100, 'max_depth': 5, 'n_estimators': 5}. Best is trial 97 with value: -26.708862000000046.\n",
      "[I 2024-02-02 12:08:33,545] Trial 117 finished with value: -29.08338100000006 and parameters: {'min_samples_leaf': 100, 'max_depth': 10, 'n_estimators': 45}. Best is trial 97 with value: -26.708862000000046.\n",
      "[I 2024-02-02 12:08:34,009] Trial 140 finished with value: -26.708862000000046 and parameters: {'min_samples_leaf': 100, 'max_depth': 10, 'n_estimators': 5}. Best is trial 97 with value: -26.708862000000046.\n",
      "[I 2024-02-02 12:08:34,588] Trial 141 finished with value: -26.708862000000046 and parameters: {'min_samples_leaf': 100, 'max_depth': 10, 'n_estimators': 5}. Best is trial 97 with value: -26.708862000000046.\n",
      "[I 2024-02-02 12:08:35,045] Trial 139 finished with value: -30.487178000000036 and parameters: {'min_samples_leaf': 100, 'max_depth': 5, 'n_estimators': 10}. Best is trial 97 with value: -26.708862000000046.\n",
      "[I 2024-02-02 12:08:41,365] Trial 143 finished with value: -30.487178000000036 and parameters: {'min_samples_leaf': 100, 'max_depth': 5, 'n_estimators': 10}. Best is trial 97 with value: -26.708862000000046.\n",
      "[I 2024-02-02 12:08:42,153] Trial 144 finished with value: -30.487178000000036 and parameters: {'min_samples_leaf': 100, 'max_depth': 5, 'n_estimators': 10}. Best is trial 97 with value: -26.708862000000046.\n",
      "[I 2024-02-02 12:08:48,015] Trial 145 finished with value: -29.53389800000005 and parameters: {'min_samples_leaf': 100, 'max_depth': 10, 'n_estimators': 10}. Best is trial 97 with value: -26.708862000000046.\n",
      "[I 2024-02-02 12:08:49,108] Trial 150 finished with value: -26.708862000000046 and parameters: {'min_samples_leaf': 100, 'max_depth': 10, 'n_estimators': 5}. Best is trial 97 with value: -26.708862000000046.\n",
      "[I 2024-02-02 12:08:49,652] Trial 147 finished with value: -29.53389800000005 and parameters: {'min_samples_leaf': 100, 'max_depth': 10, 'n_estimators': 10}. Best is trial 97 with value: -26.708862000000046.\n",
      "[I 2024-02-02 12:08:49,730] Trial 148 finished with value: -29.53389800000005 and parameters: {'min_samples_leaf': 100, 'max_depth': 10, 'n_estimators': 10}. Best is trial 97 with value: -26.708862000000046.\n",
      "[I 2024-02-02 12:08:49,843] Trial 151 finished with value: -26.708862000000046 and parameters: {'min_samples_leaf': 100, 'max_depth': 10, 'n_estimators': 5}. Best is trial 97 with value: -26.708862000000046.\n",
      "[I 2024-02-02 12:08:49,922] Trial 146 finished with value: -29.53389800000005 and parameters: {'min_samples_leaf': 100, 'max_depth': 10, 'n_estimators': 10}. Best is trial 97 with value: -26.708862000000046.\n",
      "[I 2024-02-02 12:08:50,277] Trial 149 finished with value: -29.53389800000005 and parameters: {'min_samples_leaf': 100, 'max_depth': 10, 'n_estimators': 10}. Best is trial 97 with value: -26.708862000000046.\n",
      "[I 2024-02-02 12:08:51,385] Trial 152 finished with value: -38.44684100000005 and parameters: {'min_samples_leaf': 900, 'max_depth': 10, 'n_estimators': 5}. Best is trial 97 with value: -26.708862000000046.\n",
      "[I 2024-02-02 12:08:51,764] Trial 120 finished with value: -29.08338100000006 and parameters: {'min_samples_leaf': 100, 'max_depth': 10, 'n_estimators': 45}. Best is trial 97 with value: -26.708862000000046.\n",
      "[I 2024-02-02 12:08:53,315] Trial 157 finished with value: -38.44684100000005 and parameters: {'min_samples_leaf': 900, 'max_depth': 10, 'n_estimators': 5}. Best is trial 97 with value: -26.708862000000046.\n",
      "[I 2024-02-02 12:08:56,744] Trial 153 finished with value: -26.708862000000046 and parameters: {'min_samples_leaf': 100, 'max_depth': 10, 'n_estimators': 5}. Best is trial 97 with value: -26.708862000000046.\n",
      "[I 2024-02-02 12:08:57,001] Trial 154 finished with value: -26.708862000000046 and parameters: {'min_samples_leaf': 100, 'max_depth': 10, 'n_estimators': 5}. Best is trial 97 with value: -26.708862000000046.\n",
      "[I 2024-02-02 12:08:57,082] Trial 155 finished with value: -26.708862000000046 and parameters: {'min_samples_leaf': 100, 'max_depth': 10, 'n_estimators': 5}. Best is trial 97 with value: -26.708862000000046.\n",
      "[I 2024-02-02 12:08:57,928] Trial 156 finished with value: -26.708862000000046 and parameters: {'min_samples_leaf': 100, 'max_depth': 10, 'n_estimators': 5}. Best is trial 97 with value: -26.708862000000046.\n",
      "[I 2024-02-02 12:08:57,994] Trial 158 finished with value: -26.708862000000046 and parameters: {'min_samples_leaf': 100, 'max_depth': 10, 'n_estimators': 5}. Best is trial 97 with value: -26.708862000000046.\n",
      "[I 2024-02-02 12:08:59,054] Trial 159 finished with value: -26.708862000000046 and parameters: {'min_samples_leaf': 100, 'max_depth': 10, 'n_estimators': 5}. Best is trial 97 with value: -26.708862000000046.\n",
      "[I 2024-02-02 12:08:59,582] Trial 160 finished with value: -26.708862000000046 and parameters: {'min_samples_leaf': 100, 'max_depth': 10, 'n_estimators': 5}. Best is trial 97 with value: -26.708862000000046.\n",
      "[I 2024-02-02 12:09:01,086] Trial 161 finished with value: -26.708862000000046 and parameters: {'min_samples_leaf': 100, 'max_depth': 10, 'n_estimators': 5}. Best is trial 97 with value: -26.708862000000046.\n",
      "[I 2024-02-02 12:09:04,207] Trial 168 finished with value: -35.64506600000003 and parameters: {'min_samples_leaf': 500, 'max_depth': 10, 'n_estimators': 5}. Best is trial 97 with value: -26.708862000000046.\n",
      "[I 2024-02-02 12:09:04,703] Trial 162 finished with value: -26.708862000000046 and parameters: {'min_samples_leaf': 100, 'max_depth': 10, 'n_estimators': 5}. Best is trial 97 with value: -26.708862000000046.\n",
      "[I 2024-02-02 12:09:05,012] Trial 163 finished with value: -26.708862000000046 and parameters: {'min_samples_leaf': 100, 'max_depth': 10, 'n_estimators': 5}. Best is trial 97 with value: -26.708862000000046.\n",
      "[I 2024-02-02 12:09:05,053] Trial 164 finished with value: -26.708862000000046 and parameters: {'min_samples_leaf': 100, 'max_depth': 10, 'n_estimators': 5}. Best is trial 97 with value: -26.708862000000046.\n",
      "[I 2024-02-02 12:09:05,814] Trial 166 finished with value: -26.708862000000046 and parameters: {'min_samples_leaf': 100, 'max_depth': 10, 'n_estimators': 5}. Best is trial 97 with value: -26.708862000000046.\n",
      "[I 2024-02-02 12:09:06,086] Trial 165 finished with value: -26.708862000000046 and parameters: {'min_samples_leaf': 100, 'max_depth': 10, 'n_estimators': 5}. Best is trial 97 with value: -26.708862000000046.\n",
      "[I 2024-02-02 12:09:07,058] Trial 167 finished with value: -26.708862000000046 and parameters: {'min_samples_leaf': 100, 'max_depth': 10, 'n_estimators': 5}. Best is trial 97 with value: -26.708862000000046.\n",
      "[I 2024-02-02 12:09:08,770] Trial 169 finished with value: -26.708862000000046 and parameters: {'min_samples_leaf': 100, 'max_depth': 10, 'n_estimators': 5}. Best is trial 97 with value: -26.708862000000046.\n",
      "[I 2024-02-02 12:09:11,780] Trial 170 finished with value: -26.708862000000046 and parameters: {'min_samples_leaf': 100, 'max_depth': 10, 'n_estimators': 5}. Best is trial 97 with value: -26.708862000000046.\n",
      "[I 2024-02-02 12:09:12,527] Trial 173 finished with value: -26.708862000000046 and parameters: {'min_samples_leaf': 100, 'max_depth': 10, 'n_estimators': 5}. Best is trial 97 with value: -26.708862000000046.\n",
      "[I 2024-02-02 12:09:12,598] Trial 172 finished with value: -26.708862000000046 and parameters: {'min_samples_leaf': 100, 'max_depth': 10, 'n_estimators': 5}. Best is trial 97 with value: -26.708862000000046.\n",
      "[I 2024-02-02 12:09:12,700] Trial 171 finished with value: -26.708862000000046 and parameters: {'min_samples_leaf': 100, 'max_depth': 10, 'n_estimators': 5}. Best is trial 97 with value: -26.708862000000046.\n",
      "[I 2024-02-02 12:09:13,124] Trial 174 finished with value: -26.708862000000046 and parameters: {'min_samples_leaf': 100, 'max_depth': 10, 'n_estimators': 5}. Best is trial 97 with value: -26.708862000000046.\n",
      "[I 2024-02-02 12:09:13,344] Trial 175 finished with value: -26.708862000000046 and parameters: {'min_samples_leaf': 100, 'max_depth': 10, 'n_estimators': 5}. Best is trial 97 with value: -26.708862000000046.\n",
      "[I 2024-02-02 12:09:14,274] Trial 176 finished with value: -26.708862000000046 and parameters: {'min_samples_leaf': 100, 'max_depth': 10, 'n_estimators': 5}. Best is trial 97 with value: -26.708862000000046.\n",
      "[I 2024-02-02 12:09:16,435] Trial 177 finished with value: -26.708862000000046 and parameters: {'min_samples_leaf': 100, 'max_depth': 10, 'n_estimators': 5}. Best is trial 97 with value: -26.708862000000046.\n",
      "[I 2024-02-02 12:09:19,152] Trial 178 finished with value: -26.708862000000046 and parameters: {'min_samples_leaf': 100, 'max_depth': 10, 'n_estimators': 5}. Best is trial 97 with value: -26.708862000000046.\n",
      "[I 2024-02-02 12:09:19,872] Trial 179 finished with value: -26.708862000000046 and parameters: {'min_samples_leaf': 100, 'max_depth': 10, 'n_estimators': 5}. Best is trial 97 with value: -26.708862000000046.\n",
      "[I 2024-02-02 12:09:20,189] Trial 180 finished with value: -26.708862000000046 and parameters: {'min_samples_leaf': 100, 'max_depth': 10, 'n_estimators': 5}. Best is trial 97 with value: -26.708862000000046.\n",
      "[I 2024-02-02 12:09:20,305] Trial 181 finished with value: -26.708862000000046 and parameters: {'min_samples_leaf': 100, 'max_depth': 10, 'n_estimators': 5}. Best is trial 97 with value: -26.708862000000046.\n",
      "[I 2024-02-02 12:09:20,399] Trial 182 finished with value: -26.708862000000046 and parameters: {'min_samples_leaf': 100, 'max_depth': 10, 'n_estimators': 5}. Best is trial 97 with value: -26.708862000000046.\n",
      "[I 2024-02-02 12:09:20,668] Trial 183 finished with value: -26.708862000000046 and parameters: {'min_samples_leaf': 100, 'max_depth': 10, 'n_estimators': 5}. Best is trial 97 with value: -26.708862000000046.\n",
      "[I 2024-02-02 12:09:21,547] Trial 184 finished with value: -26.708862000000046 and parameters: {'min_samples_leaf': 100, 'max_depth': 10, 'n_estimators': 5}. Best is trial 97 with value: -26.708862000000046.\n",
      "[I 2024-02-02 12:09:21,707] Trial 129 finished with value: -29.08338100000006 and parameters: {'min_samples_leaf': 100, 'max_depth': 10, 'n_estimators': 45}. Best is trial 97 with value: -26.708862000000046.\n",
      "[I 2024-02-02 12:09:23,931] Trial 185 finished with value: -26.708862000000046 and parameters: {'min_samples_leaf': 100, 'max_depth': 10, 'n_estimators': 5}. Best is trial 97 with value: -26.708862000000046.\n",
      "[I 2024-02-02 12:09:26,652] Trial 186 finished with value: -26.708862000000046 and parameters: {'min_samples_leaf': 100, 'max_depth': 10, 'n_estimators': 5}. Best is trial 97 with value: -26.708862000000046.\n",
      "[I 2024-02-02 12:09:27,293] Trial 187 finished with value: -26.708862000000046 and parameters: {'min_samples_leaf': 100, 'max_depth': 10, 'n_estimators': 5}. Best is trial 97 with value: -26.708862000000046.\n",
      "[I 2024-02-02 12:09:27,509] Trial 189 finished with value: -26.708862000000046 and parameters: {'min_samples_leaf': 100, 'max_depth': 10, 'n_estimators': 5}. Best is trial 97 with value: -26.708862000000046.\n",
      "[I 2024-02-02 12:09:27,511] Trial 188 finished with value: -26.708862000000046 and parameters: {'min_samples_leaf': 100, 'max_depth': 10, 'n_estimators': 5}. Best is trial 97 with value: -26.708862000000046.\n",
      "[I 2024-02-02 12:09:28,155] Trial 191 finished with value: -26.708862000000046 and parameters: {'min_samples_leaf': 100, 'max_depth': 10, 'n_estimators': 5}. Best is trial 97 with value: -26.708862000000046.\n",
      "[I 2024-02-02 12:09:28,247] Trial 190 finished with value: -26.708862000000046 and parameters: {'min_samples_leaf': 100, 'max_depth': 10, 'n_estimators': 5}. Best is trial 97 with value: -26.708862000000046.\n",
      "[I 2024-02-02 12:09:28,883] Trial 193 finished with value: -26.708862000000046 and parameters: {'min_samples_leaf': 100, 'max_depth': 10, 'n_estimators': 5}. Best is trial 97 with value: -26.708862000000046.\n",
      "[I 2024-02-02 12:09:29,324] Trial 192 finished with value: -26.708862000000046 and parameters: {'min_samples_leaf': 100, 'max_depth': 10, 'n_estimators': 5}. Best is trial 97 with value: -26.708862000000046.\n",
      "[I 2024-02-02 12:09:31,159] Trial 138 finished with value: -29.08338100000006 and parameters: {'min_samples_leaf': 100, 'max_depth': 10, 'n_estimators': 45}. Best is trial 97 with value: -26.708862000000046.\n",
      "[I 2024-02-02 12:09:31,232] Trial 194 finished with value: -26.708862000000046 and parameters: {'min_samples_leaf': 100, 'max_depth': 10, 'n_estimators': 5}. Best is trial 97 with value: -26.708862000000046.\n",
      "[I 2024-02-02 12:09:33,721] Trial 195 finished with value: -26.708862000000046 and parameters: {'min_samples_leaf': 100, 'max_depth': 10, 'n_estimators': 5}. Best is trial 97 with value: -26.708862000000046.\n",
      "[I 2024-02-02 12:09:34,358] Trial 196 finished with value: -26.708862000000046 and parameters: {'min_samples_leaf': 100, 'max_depth': 10, 'n_estimators': 5}. Best is trial 97 with value: -26.708862000000046.\n",
      "[I 2024-02-02 12:09:34,438] Trial 198 finished with value: -26.708862000000046 and parameters: {'min_samples_leaf': 100, 'max_depth': 10, 'n_estimators': 5}. Best is trial 97 with value: -26.708862000000046.\n",
      "[I 2024-02-02 12:09:34,556] Trial 197 finished with value: -26.708862000000046 and parameters: {'min_samples_leaf': 100, 'max_depth': 10, 'n_estimators': 5}. Best is trial 97 with value: -26.708862000000046.\n",
      "[I 2024-02-02 12:09:34,738] Trial 199 finished with value: -26.708862000000046 and parameters: {'min_samples_leaf': 100, 'max_depth': 10, 'n_estimators': 5}. Best is trial 97 with value: -26.708862000000046.\n"
     ]
    },
    {
     "name": "stdout",
     "output_type": "stream",
     "text": [
      "CPU times: user 48min 23s, sys: 14.8 s, total: 48min 38s\n",
      "Wall time: 5min 14s\n"
     ]
    }
   ],
   "source": [
    "%%time\n",
    "study_bagging.optimize(partial(objective_bagging,train=train_1,labels=y_1,val=valid,val_labels=y_valid,val_rets=valid_stock_returns), n_trials=200,n_jobs=-1)"
   ]
  },
  {
   "cell_type": "code",
   "execution_count": 17,
   "metadata": {},
   "outputs": [
    {
     "name": "stderr",
     "output_type": "stream",
     "text": [
      "[I 2024-02-02 12:11:40,499] Trial 2 finished with value: -41.60214800000005 and parameters: {'n_estimators': 10, 'max_features': 'log2', 'min_samples_leaf': 800, 'max_depth': 8}. Best is trial 2 with value: -41.60214800000005.\n",
      "[I 2024-02-02 12:11:40,517] Trial 0 finished with value: -40.89305100000003 and parameters: {'n_estimators': 10, 'max_features': 'sqrt', 'min_samples_leaf': 2400, 'max_depth': 5}. Best is trial 0 with value: -40.89305100000003.\n",
      "[I 2024-02-02 12:11:40,564] Trial 7 finished with value: -40.92455600000003 and parameters: {'n_estimators': 20, 'max_features': 'log2', 'min_samples_leaf': 1600, 'max_depth': 13}. Best is trial 0 with value: -40.89305100000003.\n",
      "[I 2024-02-02 12:11:40,651] Trial 5 finished with value: -42.05388200000004 and parameters: {'n_estimators': 30, 'max_features': 'log2', 'min_samples_leaf': 2400, 'max_depth': 9}. Best is trial 0 with value: -40.89305100000003.\n",
      "[I 2024-02-02 12:11:40,776] Trial 9 finished with value: -40.606952000000035 and parameters: {'n_estimators': 30, 'max_features': 'log2', 'min_samples_leaf': 1600, 'max_depth': 12}. Best is trial 9 with value: -40.606952000000035.\n",
      "[I 2024-02-02 12:11:40,808] Trial 12 finished with value: -39.13174200000004 and parameters: {'n_estimators': 10, 'max_features': 'sqrt', 'min_samples_leaf': 2400, 'max_depth': 5}. Best is trial 12 with value: -39.13174200000004.\n",
      "[I 2024-02-02 12:11:40,821] Trial 6 finished with value: -42.53229500000004 and parameters: {'n_estimators': 40, 'max_features': 'log2', 'min_samples_leaf': 2400, 'max_depth': 4}. Best is trial 12 with value: -39.13174200000004.\n",
      "[I 2024-02-02 12:11:40,913] Trial 8 finished with value: -38.517761000000036 and parameters: {'n_estimators': 35, 'max_features': 'log2', 'min_samples_leaf': 800, 'max_depth': 7}. Best is trial 8 with value: -38.517761000000036.\n",
      "[I 2024-02-02 12:11:41,064] Trial 14 finished with value: -40.40362100000004 and parameters: {'n_estimators': 20, 'max_features': 'log2', 'min_samples_leaf': 1600, 'max_depth': 4}. Best is trial 8 with value: -38.517761000000036.\n",
      "[I 2024-02-02 12:11:41,070] Trial 11 finished with value: -38.25060400000004 and parameters: {'n_estimators': 15, 'max_features': 'sqrt', 'min_samples_leaf': 800, 'max_depth': 7}. Best is trial 11 with value: -38.25060400000004.\n",
      "[I 2024-02-02 12:11:41,147] Trial 16 finished with value: -38.53568100000004 and parameters: {'n_estimators': 25, 'max_features': 'log2', 'min_samples_leaf': 2400, 'max_depth': 6}. Best is trial 11 with value: -38.25060400000004.\n",
      "[I 2024-02-02 12:11:41,205] Trial 10 finished with value: -39.03771000000003 and parameters: {'n_estimators': 35, 'max_features': 'log2', 'min_samples_leaf': 800, 'max_depth': 9}. Best is trial 11 with value: -38.25060400000004.\n",
      "[I 2024-02-02 12:11:41,357] Trial 1 finished with value: -38.560073000000045 and parameters: {'n_estimators': 40, 'max_features': 'sqrt', 'min_samples_leaf': 1600, 'max_depth': 9}. Best is trial 11 with value: -38.25060400000004.\n",
      "[I 2024-02-02 12:11:41,394] Trial 3 finished with value: -39.07091400000003 and parameters: {'n_estimators': 30, 'max_features': 'sqrt', 'min_samples_leaf': 800, 'max_depth': 6}. Best is trial 11 with value: -38.25060400000004.\n",
      "[I 2024-02-02 12:11:41,475] Trial 13 finished with value: -38.34328400000004 and parameters: {'n_estimators': 40, 'max_features': 'sqrt', 'min_samples_leaf': 2400, 'max_depth': 11}. Best is trial 11 with value: -38.25060400000004.\n",
      "[I 2024-02-02 12:11:41,562] Trial 15 finished with value: -40.19521800000005 and parameters: {'n_estimators': 25, 'max_features': 'sqrt', 'min_samples_leaf': 1600, 'max_depth': 14}. Best is trial 11 with value: -38.25060400000004.\n",
      "[I 2024-02-02 12:11:41,652] Trial 4 finished with value: -38.956484000000046 and parameters: {'n_estimators': 40, 'max_features': 'sqrt', 'min_samples_leaf': 800, 'max_depth': 6}. Best is trial 11 with value: -38.25060400000004.\n",
      "[I 2024-02-02 12:11:41,848] Trial 19 finished with value: -40.46760200000002 and parameters: {'n_estimators': 20, 'max_features': 'sqrt', 'min_samples_leaf': 800, 'max_depth': 15}. Best is trial 11 with value: -38.25060400000004.\n",
      "[I 2024-02-02 12:11:41,848] Trial 24 finished with value: -40.39297700000005 and parameters: {'n_estimators': 15, 'max_features': 'sqrt', 'min_samples_leaf': 1600, 'max_depth': 11}. Best is trial 11 with value: -38.25060400000004.\n",
      "[I 2024-02-02 12:11:41,886] Trial 17 finished with value: -39.82031300000004 and parameters: {'n_estimators': 35, 'max_features': 'sqrt', 'min_samples_leaf': 1600, 'max_depth': 9}. Best is trial 11 with value: -38.25060400000004.\n",
      "[I 2024-02-02 12:11:41,970] Trial 21 finished with value: -38.853911000000046 and parameters: {'n_estimators': 20, 'max_features': 'sqrt', 'min_samples_leaf': 800, 'max_depth': 7}. Best is trial 11 with value: -38.25060400000004.\n",
      "[I 2024-02-02 12:11:41,995] Trial 18 finished with value: -40.179250000000046 and parameters: {'n_estimators': 25, 'max_features': 'sqrt', 'min_samples_leaf': 800, 'max_depth': 7}. Best is trial 11 with value: -38.25060400000004.\n",
      "[I 2024-02-02 12:11:42,087] Trial 26 finished with value: -36.21263500000003 and parameters: {'n_estimators': 15, 'max_features': 'sqrt', 'min_samples_leaf': 1600, 'max_depth': 11}. Best is trial 26 with value: -36.21263500000003.\n",
      "[I 2024-02-02 12:11:42,159] Trial 25 finished with value: -40.695165000000046 and parameters: {'n_estimators': 15, 'max_features': 'sqrt', 'min_samples_leaf': 800, 'max_depth': 11}. Best is trial 26 with value: -36.21263500000003.\n",
      "[I 2024-02-02 12:11:42,160] Trial 23 finished with value: -37.484245000000044 and parameters: {'n_estimators': 20, 'max_features': 'sqrt', 'min_samples_leaf': 800, 'max_depth': 11}. Best is trial 26 with value: -36.21263500000003.\n",
      "[I 2024-02-02 12:11:42,167] Trial 22 finished with value: -39.308977000000034 and parameters: {'n_estimators': 20, 'max_features': 'sqrt', 'min_samples_leaf': 800, 'max_depth': 7}. Best is trial 26 with value: -36.21263500000003.\n",
      "[I 2024-02-02 12:11:42,311] Trial 29 finished with value: -39.52273600000003 and parameters: {'n_estimators': 15, 'max_features': 'sqrt', 'min_samples_leaf': 2400, 'max_depth': 12}. Best is trial 26 with value: -36.21263500000003.\n",
      "[I 2024-02-02 12:11:42,351] Trial 28 finished with value: -36.16845200000003 and parameters: {'n_estimators': 15, 'max_features': 'sqrt', 'min_samples_leaf': 1600, 'max_depth': 11}. Best is trial 28 with value: -36.16845200000003.\n",
      "[I 2024-02-02 12:11:42,353] Trial 27 finished with value: -39.12103100000003 and parameters: {'n_estimators': 15, 'max_features': 'sqrt', 'min_samples_leaf': 1600, 'max_depth': 11}. Best is trial 28 with value: -36.16845200000003.\n",
      "[I 2024-02-02 12:11:42,472] Trial 32 finished with value: -38.472744000000034 and parameters: {'n_estimators': 15, 'max_features': 'sqrt', 'min_samples_leaf': 2400, 'max_depth': 11}. Best is trial 28 with value: -36.16845200000003.\n",
      "[I 2024-02-02 12:11:42,632] Trial 20 finished with value: -39.31840000000004 and parameters: {'n_estimators': 40, 'max_features': 'sqrt', 'min_samples_leaf': 800, 'max_depth': 7}. Best is trial 28 with value: -36.16845200000003.\n",
      "[I 2024-02-02 12:11:42,682] Trial 38 finished with value: -37.20612000000003 and parameters: {'n_estimators': 10, 'max_features': 'sqrt', 'min_samples_leaf': 1600, 'max_depth': 10}. Best is trial 28 with value: -36.16845200000003.\n",
      "[I 2024-02-02 12:11:42,728] Trial 37 finished with value: -40.40116000000004 and parameters: {'n_estimators': 10, 'max_features': 'sqrt', 'min_samples_leaf': 1600, 'max_depth': 10}. Best is trial 28 with value: -36.16845200000003.\n",
      "[I 2024-02-02 12:11:42,831] Trial 33 finished with value: -39.10125000000004 and parameters: {'n_estimators': 15, 'max_features': 'sqrt', 'min_samples_leaf': 800, 'max_depth': 10}. Best is trial 28 with value: -36.16845200000003.\n",
      "[I 2024-02-02 12:11:42,876] Trial 39 finished with value: -39.53573700000003 and parameters: {'n_estimators': 10, 'max_features': 'sqrt', 'min_samples_leaf': 1600, 'max_depth': 10}. Best is trial 28 with value: -36.16845200000003.\n",
      "[I 2024-02-02 12:11:42,887] Trial 35 finished with value: -40.22575800000005 and parameters: {'n_estimators': 15, 'max_features': 'sqrt', 'min_samples_leaf': 800, 'max_depth': 10}. Best is trial 28 with value: -36.16845200000003.\n",
      "[I 2024-02-02 12:11:42,899] Trial 34 finished with value: -38.54287100000004 and parameters: {'n_estimators': 15, 'max_features': 'sqrt', 'min_samples_leaf': 800, 'max_depth': 10}. Best is trial 28 with value: -36.16845200000003.\n",
      "[I 2024-02-02 12:11:43,005] Trial 36 finished with value: -38.05247700000003 and parameters: {'n_estimators': 15, 'max_features': 'sqrt', 'min_samples_leaf': 800, 'max_depth': 10}. Best is trial 28 with value: -36.16845200000003.\n",
      "[I 2024-02-02 12:11:43,043] Trial 40 finished with value: -37.691090000000024 and parameters: {'n_estimators': 10, 'max_features': 'sqrt', 'min_samples_leaf': 1600, 'max_depth': 10}. Best is trial 28 with value: -36.16845200000003.\n",
      "[I 2024-02-02 12:11:43,092] Trial 41 finished with value: -39.54809000000005 and parameters: {'n_estimators': 10, 'max_features': 'sqrt', 'min_samples_leaf': 1600, 'max_depth': 10}. Best is trial 28 with value: -36.16845200000003.\n",
      "[I 2024-02-02 12:11:43,131] Trial 42 finished with value: -38.25993000000002 and parameters: {'n_estimators': 10, 'max_features': 'sqrt', 'min_samples_leaf': 1600, 'max_depth': 10}. Best is trial 28 with value: -36.16845200000003.\n",
      "[I 2024-02-02 12:11:43,207] Trial 43 finished with value: -41.995170000000044 and parameters: {'n_estimators': 10, 'max_features': 'sqrt', 'min_samples_leaf': 1600, 'max_depth': 12}. Best is trial 28 with value: -36.16845200000003.\n",
      "[I 2024-02-02 12:11:43,245] Trial 44 finished with value: -41.28347700000003 and parameters: {'n_estimators': 10, 'max_features': 'sqrt', 'min_samples_leaf': 1600, 'max_depth': 12}. Best is trial 28 with value: -36.16845200000003.\n",
      "[I 2024-02-02 12:11:43,281] Trial 45 finished with value: -38.93198000000004 and parameters: {'n_estimators': 10, 'max_features': 'sqrt', 'min_samples_leaf': 1600, 'max_depth': 12}. Best is trial 28 with value: -36.16845200000003.\n",
      "[I 2024-02-02 12:11:43,319] Trial 46 finished with value: -38.41534300000003 and parameters: {'n_estimators': 10, 'max_features': 'sqrt', 'min_samples_leaf': 1600, 'max_depth': 12}. Best is trial 28 with value: -36.16845200000003.\n",
      "[I 2024-02-02 12:11:43,369] Trial 47 finished with value: -40.463879000000034 and parameters: {'n_estimators': 10, 'max_features': 'sqrt', 'min_samples_leaf': 1600, 'max_depth': 12}. Best is trial 28 with value: -36.16845200000003.\n",
      "[I 2024-02-02 12:11:43,429] Trial 48 finished with value: -38.09298700000004 and parameters: {'n_estimators': 10, 'max_features': 'sqrt', 'min_samples_leaf': 1600, 'max_depth': 12}. Best is trial 28 with value: -36.16845200000003.\n",
      "[I 2024-02-02 12:11:43,442] Trial 30 finished with value: -39.593610000000034 and parameters: {'n_estimators': 35, 'max_features': 'sqrt', 'min_samples_leaf': 800, 'max_depth': 11}. Best is trial 28 with value: -36.16845200000003.\n",
      "[I 2024-02-02 12:11:43,491] Trial 31 finished with value: -37.533727000000034 and parameters: {'n_estimators': 35, 'max_features': 'sqrt', 'min_samples_leaf': 800, 'max_depth': 11}. Best is trial 28 with value: -36.16845200000003.\n",
      "[I 2024-02-02 12:11:43,547] Trial 50 finished with value: -38.15448700000004 and parameters: {'n_estimators': 10, 'max_features': 'sqrt', 'min_samples_leaf': 1600, 'max_depth': 12}. Best is trial 28 with value: -36.16845200000003.\n",
      "[I 2024-02-02 12:11:43,670] Trial 51 finished with value: -37.10324400000003 and parameters: {'n_estimators': 10, 'max_features': 'sqrt', 'min_samples_leaf': 1600, 'max_depth': 13}. Best is trial 28 with value: -36.16845200000003.\n",
      "[I 2024-02-02 12:11:43,777] Trial 49 finished with value: -41.628303000000024 and parameters: {'n_estimators': 20, 'max_features': 'sqrt', 'min_samples_leaf': 1600, 'max_depth': 12}. Best is trial 28 with value: -36.16845200000003.\n",
      "[I 2024-02-02 12:11:43,847] Trial 55 finished with value: -39.59834500000004 and parameters: {'n_estimators': 20, 'max_features': 'log2', 'min_samples_leaf': 1600, 'max_depth': 8}. Best is trial 28 with value: -36.16845200000003.\n",
      "[I 2024-02-02 12:11:43,895] Trial 56 finished with value: -41.69757800000005 and parameters: {'n_estimators': 20, 'max_features': 'log2', 'min_samples_leaf': 1600, 'max_depth': 13}. Best is trial 28 with value: -36.16845200000003.\n",
      "[I 2024-02-02 12:11:43,906] Trial 57 finished with value: -37.65122200000003 and parameters: {'n_estimators': 20, 'max_features': 'log2', 'min_samples_leaf': 1600, 'max_depth': 13}. Best is trial 28 with value: -36.16845200000003.\n",
      "[I 2024-02-02 12:11:43,934] Trial 52 finished with value: -38.279425000000046 and parameters: {'n_estimators': 20, 'max_features': 'sqrt', 'min_samples_leaf': 1600, 'max_depth': 13}. Best is trial 28 with value: -36.16845200000003.\n",
      "[I 2024-02-02 12:11:44,032] Trial 54 finished with value: -39.33053800000003 and parameters: {'n_estimators': 20, 'max_features': 'sqrt', 'min_samples_leaf': 1600, 'max_depth': 8}. Best is trial 28 with value: -36.16845200000003.\n",
      "[I 2024-02-02 12:11:44,034] Trial 53 finished with value: -40.378407000000024 and parameters: {'n_estimators': 20, 'max_features': 'sqrt', 'min_samples_leaf': 1600, 'max_depth': 13}. Best is trial 28 with value: -36.16845200000003.\n",
      "[I 2024-02-02 12:11:44,081] Trial 58 finished with value: -44.492279000000046 and parameters: {'n_estimators': 30, 'max_features': 'log2', 'min_samples_leaf': 2400, 'max_depth': 13}. Best is trial 28 with value: -36.16845200000003.\n",
      "[I 2024-02-02 12:11:44,138] Trial 59 finished with value: -39.00094200000004 and parameters: {'n_estimators': 30, 'max_features': 'log2', 'min_samples_leaf': 2400, 'max_depth': 13}. Best is trial 28 with value: -36.16845200000003.\n",
      "[I 2024-02-02 12:11:44,262] Trial 60 finished with value: -40.65645300000004 and parameters: {'n_estimators': 30, 'max_features': 'log2', 'min_samples_leaf': 1600, 'max_depth': 13}. Best is trial 28 with value: -36.16845200000003.\n",
      "[I 2024-02-02 12:11:44,368] Trial 61 finished with value: -40.03776200000003 and parameters: {'n_estimators': 30, 'max_features': 'log2', 'min_samples_leaf': 1600, 'max_depth': 13}. Best is trial 28 with value: -36.16845200000003.\n",
      "[I 2024-02-02 12:11:44,396] Trial 62 finished with value: -37.98277100000003 and parameters: {'n_estimators': 30, 'max_features': 'log2', 'min_samples_leaf': 2400, 'max_depth': 14}. Best is trial 28 with value: -36.16845200000003.\n",
      "[I 2024-02-02 12:11:44,402] Trial 65 finished with value: -40.08386800000003 and parameters: {'n_estimators': 15, 'max_features': 'sqrt', 'min_samples_leaf': 2400, 'max_depth': 9}. Best is trial 28 with value: -36.16845200000003.\n",
      "[I 2024-02-02 12:11:44,579] Trial 70 finished with value: -38.81791700000003 and parameters: {'n_estimators': 15, 'max_features': 'log2', 'min_samples_leaf': 800, 'max_depth': 14}. Best is trial 28 with value: -36.16845200000003.\n",
      "[I 2024-02-02 12:11:44,672] Trial 67 finished with value: -39.688352000000044 and parameters: {'n_estimators': 25, 'max_features': 'sqrt', 'min_samples_leaf': 2400, 'max_depth': 14}. Best is trial 28 with value: -36.16845200000003.\n",
      "[I 2024-02-02 12:11:44,705] Trial 63 finished with value: -40.745697000000035 and parameters: {'n_estimators': 30, 'max_features': 'sqrt', 'min_samples_leaf': 2400, 'max_depth': 13}. Best is trial 28 with value: -36.16845200000003.\n",
      "[I 2024-02-02 12:11:44,786] Trial 66 finished with value: -39.99079700000004 and parameters: {'n_estimators': 30, 'max_features': 'sqrt', 'min_samples_leaf': 2400, 'max_depth': 15}. Best is trial 28 with value: -36.16845200000003.\n",
      "[I 2024-02-02 12:11:44,858] Trial 71 finished with value: -39.30400000000004 and parameters: {'n_estimators': 25, 'max_features': 'log2', 'min_samples_leaf': 800, 'max_depth': 14}. Best is trial 28 with value: -36.16845200000003.\n",
      "[I 2024-02-02 12:11:44,918] Trial 72 finished with value: -41.27409400000004 and parameters: {'n_estimators': 25, 'max_features': 'log2', 'min_samples_leaf': 800, 'max_depth': 14}. Best is trial 28 with value: -36.16845200000003.\n",
      "[I 2024-02-02 12:11:44,940] Trial 73 finished with value: -40.93923700000004 and parameters: {'n_estimators': 25, 'max_features': 'log2', 'min_samples_leaf': 800, 'max_depth': 14}. Best is trial 28 with value: -36.16845200000003.\n",
      "[I 2024-02-02 12:11:45,104] Trial 68 finished with value: -41.65327600000004 and parameters: {'n_estimators': 25, 'max_features': 'sqrt', 'min_samples_leaf': 800, 'max_depth': 14}. Best is trial 28 with value: -36.16845200000003.\n",
      "[I 2024-02-02 12:11:45,117] Trial 69 finished with value: -39.29424700000004 and parameters: {'n_estimators': 25, 'max_features': 'sqrt', 'min_samples_leaf': 800, 'max_depth': 14}. Best is trial 28 with value: -36.16845200000003.\n",
      "[I 2024-02-02 12:11:45,171] Trial 64 finished with value: -35.80450200000005 and parameters: {'n_estimators': 30, 'max_features': 'sqrt', 'min_samples_leaf': 800, 'max_depth': 9}. Best is trial 64 with value: -35.80450200000005.\n",
      "[I 2024-02-02 12:11:45,420] Trial 79 finished with value: -40.09066500000003 and parameters: {'n_estimators': 15, 'max_features': 'sqrt', 'min_samples_leaf': 1600, 'max_depth': 11}. Best is trial 64 with value: -35.80450200000005.\n",
      "[I 2024-02-02 12:11:45,470] Trial 80 finished with value: -39.18885500000004 and parameters: {'n_estimators': 15, 'max_features': 'sqrt', 'min_samples_leaf': 1600, 'max_depth': 11}. Best is trial 64 with value: -35.80450200000005.\n",
      "[I 2024-02-02 12:11:45,587] Trial 74 finished with value: -35.47271000000004 and parameters: {'n_estimators': 25, 'max_features': 'sqrt', 'min_samples_leaf': 800, 'max_depth': 11}. Best is trial 74 with value: -35.47271000000004.\n",
      "[I 2024-02-02 12:11:45,631] Trial 81 finished with value: -37.25377800000004 and parameters: {'n_estimators': 15, 'max_features': 'sqrt', 'min_samples_leaf': 1600, 'max_depth': 11}. Best is trial 74 with value: -35.47271000000004.\n",
      "[I 2024-02-02 12:11:45,632] Trial 82 finished with value: -39.58834600000004 and parameters: {'n_estimators': 15, 'max_features': 'sqrt', 'min_samples_leaf': 1600, 'max_depth': 11}. Best is trial 74 with value: -35.47271000000004.\n",
      "[I 2024-02-02 12:11:45,694] Trial 76 finished with value: -40.22051400000004 and parameters: {'n_estimators': 25, 'max_features': 'sqrt', 'min_samples_leaf': 800, 'max_depth': 15}. Best is trial 74 with value: -35.47271000000004.\n",
      "[I 2024-02-02 12:11:45,813] Trial 75 finished with value: -39.727207000000035 and parameters: {'n_estimators': 25, 'max_features': 'sqrt', 'min_samples_leaf': 800, 'max_depth': 15}. Best is trial 74 with value: -35.47271000000004.\n",
      "[I 2024-02-02 12:11:45,883] Trial 77 finished with value: -34.906374000000035 and parameters: {'n_estimators': 25, 'max_features': 'sqrt', 'min_samples_leaf': 800, 'max_depth': 11}. Best is trial 77 with value: -34.906374000000035.\n",
      "[I 2024-02-02 12:11:46,251] Trial 86 finished with value: -38.35712000000004 and parameters: {'n_estimators': 15, 'max_features': 'sqrt', 'min_samples_leaf': 800, 'max_depth': 9}. Best is trial 77 with value: -34.906374000000035.\n",
      "[I 2024-02-02 12:11:46,286] Trial 87 finished with value: -37.21860800000004 and parameters: {'n_estimators': 15, 'max_features': 'sqrt', 'min_samples_leaf': 800, 'max_depth': 9}. Best is trial 77 with value: -34.906374000000035.\n",
      "[I 2024-02-02 12:11:46,343] Trial 89 finished with value: -40.576950000000046 and parameters: {'n_estimators': 15, 'max_features': 'sqrt', 'min_samples_leaf': 800, 'max_depth': 9}. Best is trial 77 with value: -34.906374000000035.\n",
      "[I 2024-02-02 12:11:46,365] Trial 88 finished with value: -42.85616100000002 and parameters: {'n_estimators': 15, 'max_features': 'sqrt', 'min_samples_leaf': 800, 'max_depth': 11}. Best is trial 77 with value: -34.906374000000035.\n",
      "[I 2024-02-02 12:11:46,501] Trial 78 finished with value: -40.30821700000004 and parameters: {'n_estimators': 40, 'max_features': 'sqrt', 'min_samples_leaf': 800, 'max_depth': 11}. Best is trial 77 with value: -34.906374000000035.\n",
      "[I 2024-02-02 12:11:46,503] Trial 91 finished with value: -37.448468000000034 and parameters: {'n_estimators': 15, 'max_features': 'sqrt', 'min_samples_leaf': 800, 'max_depth': 9}. Best is trial 77 with value: -34.906374000000035.\n",
      "[I 2024-02-02 12:11:46,722] Trial 83 finished with value: -40.61315900000004 and parameters: {'n_estimators': 35, 'max_features': 'sqrt', 'min_samples_leaf': 800, 'max_depth': 9}. Best is trial 77 with value: -34.906374000000035.\n",
      "[I 2024-02-02 12:11:46,893] Trial 85 finished with value: -39.31206600000004 and parameters: {'n_estimators': 35, 'max_features': 'sqrt', 'min_samples_leaf': 800, 'max_depth': 9}. Best is trial 77 with value: -34.906374000000035.\n",
      "[I 2024-02-02 12:11:46,911] Trial 84 finished with value: -36.91052500000005 and parameters: {'n_estimators': 35, 'max_features': 'sqrt', 'min_samples_leaf': 800, 'max_depth': 9}. Best is trial 77 with value: -34.906374000000035.\n",
      "[I 2024-02-02 12:11:47,041] Trial 92 finished with value: -38.53505700000004 and parameters: {'n_estimators': 20, 'max_features': 'sqrt', 'min_samples_leaf': 800, 'max_depth': 9}. Best is trial 77 with value: -34.906374000000035.\n",
      "[I 2024-02-02 12:11:47,073] Trial 98 finished with value: -37.13023700000004 and parameters: {'n_estimators': 10, 'max_features': 'sqrt', 'min_samples_leaf': 1600, 'max_depth': 8}. Best is trial 77 with value: -34.906374000000035.\n",
      "[I 2024-02-02 12:11:47,222] Trial 99 finished with value: -36.53793100000004 and parameters: {'n_estimators': 10, 'max_features': 'sqrt', 'min_samples_leaf': 1600, 'max_depth': 8}. Best is trial 77 with value: -34.906374000000035.\n",
      "[I 2024-02-02 12:11:47,437] Trial 90 finished with value: -39.08124700000003 and parameters: {'n_estimators': 40, 'max_features': 'sqrt', 'min_samples_leaf': 800, 'max_depth': 9}. Best is trial 77 with value: -34.906374000000035.\n",
      "[I 2024-02-02 12:11:47,517] Trial 102 finished with value: -40.72976500000003 and parameters: {'n_estimators': 10, 'max_features': 'sqrt', 'min_samples_leaf': 800, 'max_depth': 8}. Best is trial 77 with value: -34.906374000000035.\n",
      "[I 2024-02-02 12:11:47,527] Trial 96 finished with value: -37.843584000000035 and parameters: {'n_estimators': 35, 'max_features': 'sqrt', 'min_samples_leaf': 1600, 'max_depth': 8}. Best is trial 77 with value: -34.906374000000035.\n",
      "[I 2024-02-02 12:11:47,534] Trial 103 finished with value: -40.52740400000004 and parameters: {'n_estimators': 10, 'max_features': 'sqrt', 'min_samples_leaf': 1600, 'max_depth': 8}. Best is trial 77 with value: -34.906374000000035.\n",
      "[I 2024-02-02 12:11:47,554] Trial 97 finished with value: -38.01838000000003 and parameters: {'n_estimators': 35, 'max_features': 'sqrt', 'min_samples_leaf': 1600, 'max_depth': 8}. Best is trial 77 with value: -34.906374000000035.\n",
      "[I 2024-02-02 12:11:47,733] Trial 93 finished with value: -41.36934600000004 and parameters: {'n_estimators': 35, 'max_features': 'sqrt', 'min_samples_leaf': 800, 'max_depth': 9}. Best is trial 77 with value: -34.906374000000035.\n",
      "[I 2024-02-02 12:11:47,781] Trial 94 finished with value: -39.43008800000003 and parameters: {'n_estimators': 35, 'max_features': 'sqrt', 'min_samples_leaf': 800, 'max_depth': 9}. Best is trial 77 with value: -34.906374000000035.\n",
      "[I 2024-02-02 12:11:47,797] Trial 104 finished with value: -38.416607000000035 and parameters: {'n_estimators': 10, 'max_features': 'sqrt', 'min_samples_leaf': 1600, 'max_depth': 8}. Best is trial 77 with value: -34.906374000000035.\n",
      "[I 2024-02-02 12:11:47,809] Trial 95 finished with value: -38.39359900000003 and parameters: {'n_estimators': 35, 'max_features': 'sqrt', 'min_samples_leaf': 800, 'max_depth': 9}. Best is trial 77 with value: -34.906374000000035.\n",
      "[I 2024-02-02 12:11:47,922] Trial 107 finished with value: -39.32588900000004 and parameters: {'n_estimators': 10, 'max_features': 'sqrt', 'min_samples_leaf': 1600, 'max_depth': 7}. Best is trial 77 with value: -34.906374000000035.\n",
      "[I 2024-02-02 12:11:47,924] Trial 106 finished with value: -39.59587500000004 and parameters: {'n_estimators': 10, 'max_features': 'sqrt', 'min_samples_leaf': 1600, 'max_depth': 7}. Best is trial 77 with value: -34.906374000000035.\n",
      "[I 2024-02-02 12:11:47,944] Trial 105 finished with value: -37.460391000000044 and parameters: {'n_estimators': 10, 'max_features': 'sqrt', 'min_samples_leaf': 1600, 'max_depth': 8}. Best is trial 77 with value: -34.906374000000035.\n",
      "[I 2024-02-02 12:11:47,964] Trial 108 finished with value: -37.30653100000004 and parameters: {'n_estimators': 10, 'max_features': 'sqrt', 'min_samples_leaf': 1600, 'max_depth': 10}. Best is trial 77 with value: -34.906374000000035.\n",
      "[I 2024-02-02 12:11:48,136] Trial 109 finished with value: -37.536714000000046 and parameters: {'n_estimators': 10, 'max_features': 'sqrt', 'min_samples_leaf': 1600, 'max_depth': 10}. Best is trial 77 with value: -34.906374000000035.\n",
      "[I 2024-02-02 12:11:48,180] Trial 111 finished with value: -38.385480000000044 and parameters: {'n_estimators': 10, 'max_features': 'sqrt', 'min_samples_leaf': 1600, 'max_depth': 10}. Best is trial 77 with value: -34.906374000000035.\n",
      "[I 2024-02-02 12:11:48,182] Trial 101 finished with value: -40.104810000000036 and parameters: {'n_estimators': 35, 'max_features': 'sqrt', 'min_samples_leaf': 1600, 'max_depth': 8}. Best is trial 77 with value: -34.906374000000035.\n",
      "[I 2024-02-02 12:11:48,186] Trial 110 finished with value: -38.89996900000004 and parameters: {'n_estimators': 10, 'max_features': 'sqrt', 'min_samples_leaf': 1600, 'max_depth': 10}. Best is trial 77 with value: -34.906374000000035.\n",
      "[I 2024-02-02 12:11:48,245] Trial 112 finished with value: -39.34781600000004 and parameters: {'n_estimators': 10, 'max_features': 'sqrt', 'min_samples_leaf': 1600, 'max_depth': 10}. Best is trial 77 with value: -34.906374000000035.\n",
      "[I 2024-02-02 12:11:48,307] Trial 113 finished with value: -39.60983400000004 and parameters: {'n_estimators': 10, 'max_features': 'sqrt', 'min_samples_leaf': 1600, 'max_depth': 10}. Best is trial 77 with value: -34.906374000000035.\n",
      "[I 2024-02-02 12:11:48,367] Trial 115 finished with value: -37.59973000000004 and parameters: {'n_estimators': 10, 'max_features': 'sqrt', 'min_samples_leaf': 1600, 'max_depth': 10}. Best is trial 77 with value: -34.906374000000035.\n",
      "[I 2024-02-02 12:11:48,371] Trial 114 finished with value: -37.563819000000045 and parameters: {'n_estimators': 10, 'max_features': 'sqrt', 'min_samples_leaf': 1600, 'max_depth': 10}. Best is trial 77 with value: -34.906374000000035.\n",
      "[I 2024-02-02 12:11:48,375] Trial 116 finished with value: -37.65815800000004 and parameters: {'n_estimators': 10, 'max_features': 'sqrt', 'min_samples_leaf': 1600, 'max_depth': 10}. Best is trial 77 with value: -34.906374000000035.\n",
      "[I 2024-02-02 12:11:48,423] Trial 100 finished with value: -35.57314200000004 and parameters: {'n_estimators': 35, 'max_features': 'sqrt', 'min_samples_leaf': 800, 'max_depth': 8}. Best is trial 77 with value: -34.906374000000035.\n",
      "[I 2024-02-02 12:11:48,586] Trial 117 finished with value: -37.76090000000003 and parameters: {'n_estimators': 10, 'max_features': 'sqrt', 'min_samples_leaf': 1600, 'max_depth': 10}. Best is trial 77 with value: -34.906374000000035.\n",
      "[I 2024-02-02 12:11:48,605] Trial 118 finished with value: -37.56046200000004 and parameters: {'n_estimators': 10, 'max_features': 'sqrt', 'min_samples_leaf': 1600, 'max_depth': 6}. Best is trial 77 with value: -34.906374000000035.\n",
      "[I 2024-02-02 12:11:48,723] Trial 119 finished with value: -39.21832100000004 and parameters: {'n_estimators': 15, 'max_features': 'sqrt', 'min_samples_leaf': 1600, 'max_depth': 11}. Best is trial 77 with value: -34.906374000000035.\n",
      "[I 2024-02-02 12:11:48,783] Trial 122 finished with value: -37.25854200000004 and parameters: {'n_estimators': 15, 'max_features': 'sqrt', 'min_samples_leaf': 1600, 'max_depth': 11}. Best is trial 77 with value: -34.906374000000035.\n",
      "[I 2024-02-02 12:11:48,784] Trial 121 finished with value: -39.67388100000003 and parameters: {'n_estimators': 15, 'max_features': 'sqrt', 'min_samples_leaf': 1600, 'max_depth': 11}. Best is trial 77 with value: -34.906374000000035.\n",
      "[I 2024-02-02 12:11:48,795] Trial 120 finished with value: -37.30394800000005 and parameters: {'n_estimators': 15, 'max_features': 'sqrt', 'min_samples_leaf': 1600, 'max_depth': 6}. Best is trial 77 with value: -34.906374000000035.\n",
      "[I 2024-02-02 12:11:48,899] Trial 123 finished with value: -37.343347000000044 and parameters: {'n_estimators': 15, 'max_features': 'sqrt', 'min_samples_leaf': 1600, 'max_depth': 11}. Best is trial 77 with value: -34.906374000000035.\n",
      "[I 2024-02-02 12:11:48,947] Trial 124 finished with value: -35.054461000000046 and parameters: {'n_estimators': 15, 'max_features': 'sqrt', 'min_samples_leaf': 1600, 'max_depth': 11}. Best is trial 77 with value: -34.906374000000035.\n",
      "[I 2024-02-02 12:11:48,950] Trial 125 finished with value: -39.142808000000024 and parameters: {'n_estimators': 15, 'max_features': 'sqrt', 'min_samples_leaf': 1600, 'max_depth': 6}. Best is trial 77 with value: -34.906374000000035.\n",
      "[I 2024-02-02 12:11:49,522] Trial 126 finished with value: -40.41459800000004 and parameters: {'n_estimators': 30, 'max_features': 'sqrt', 'min_samples_leaf': 800, 'max_depth': 8}. Best is trial 77 with value: -34.906374000000035.\n",
      "[I 2024-02-02 12:11:49,679] Trial 130 finished with value: -38.47111500000004 and parameters: {'n_estimators': 25, 'max_features': 'sqrt', 'min_samples_leaf': 800, 'max_depth': 8}. Best is trial 77 with value: -34.906374000000035.\n",
      "[I 2024-02-02 12:11:49,743] Trial 127 finished with value: -38.500587000000024 and parameters: {'n_estimators': 30, 'max_features': 'sqrt', 'min_samples_leaf': 800, 'max_depth': 8}. Best is trial 77 with value: -34.906374000000035.\n",
      "[I 2024-02-02 12:11:49,783] Trial 128 finished with value: -36.357034000000034 and parameters: {'n_estimators': 30, 'max_features': 'sqrt', 'min_samples_leaf': 800, 'max_depth': 8}. Best is trial 77 with value: -34.906374000000035.\n",
      "[I 2024-02-02 12:11:49,809] Trial 131 finished with value: -40.163041000000035 and parameters: {'n_estimators': 25, 'max_features': 'sqrt', 'min_samples_leaf': 800, 'max_depth': 8}. Best is trial 77 with value: -34.906374000000035.\n",
      "[I 2024-02-02 12:11:49,883] Trial 129 finished with value: -40.30178100000005 and parameters: {'n_estimators': 30, 'max_features': 'sqrt', 'min_samples_leaf': 800, 'max_depth': 7}. Best is trial 77 with value: -34.906374000000035.\n",
      "[I 2024-02-02 12:11:49,942] Trial 132 finished with value: -39.22018400000003 and parameters: {'n_estimators': 30, 'max_features': 'sqrt', 'min_samples_leaf': 800, 'max_depth': 12}. Best is trial 77 with value: -34.906374000000035.\n",
      "[I 2024-02-02 12:11:50,025] Trial 133 finished with value: -39.40532600000004 and parameters: {'n_estimators': 30, 'max_features': 'sqrt', 'min_samples_leaf': 800, 'max_depth': 12}. Best is trial 77 with value: -34.906374000000035.\n",
      "[I 2024-02-02 12:11:50,125] Trial 135 finished with value: -37.16256900000005 and parameters: {'n_estimators': 30, 'max_features': 'sqrt', 'min_samples_leaf': 800, 'max_depth': 8}. Best is trial 77 with value: -34.906374000000035.\n",
      "[I 2024-02-02 12:11:50,385] Trial 134 finished with value: -40.412568000000036 and parameters: {'n_estimators': 40, 'max_features': 'sqrt', 'min_samples_leaf': 800, 'max_depth': 8}. Best is trial 77 with value: -34.906374000000035.\n",
      "[I 2024-02-02 12:11:50,591] Trial 136 finished with value: -36.251286000000036 and parameters: {'n_estimators': 30, 'max_features': 'sqrt', 'min_samples_leaf': 800, 'max_depth': 12}. Best is trial 77 with value: -34.906374000000035.\n",
      "[I 2024-02-02 12:11:51,069] Trial 140 finished with value: -38.772078000000036 and parameters: {'n_estimators': 35, 'max_features': 'sqrt', 'min_samples_leaf': 800, 'max_depth': 12}. Best is trial 77 with value: -34.906374000000035.\n",
      "[I 2024-02-02 12:11:51,147] Trial 138 finished with value: -40.57186000000004 and parameters: {'n_estimators': 40, 'max_features': 'sqrt', 'min_samples_leaf': 800, 'max_depth': 12}. Best is trial 77 with value: -34.906374000000035.\n",
      "[I 2024-02-02 12:11:51,162] Trial 137 finished with value: -39.03021000000004 and parameters: {'n_estimators': 40, 'max_features': 'sqrt', 'min_samples_leaf': 800, 'max_depth': 12}. Best is trial 77 with value: -34.906374000000035.\n",
      "[I 2024-02-02 12:11:51,234] Trial 139 finished with value: -38.84364300000004 and parameters: {'n_estimators': 40, 'max_features': 'sqrt', 'min_samples_leaf': 800, 'max_depth': 7}. Best is trial 77 with value: -34.906374000000035.\n",
      "[I 2024-02-02 12:11:51,291] Trial 142 finished with value: -39.56956600000004 and parameters: {'n_estimators': 40, 'max_features': 'sqrt', 'min_samples_leaf': 800, 'max_depth': 12}. Best is trial 77 with value: -34.906374000000035.\n",
      "[I 2024-02-02 12:11:51,342] Trial 141 finished with value: -38.91054300000003 and parameters: {'n_estimators': 40, 'max_features': 'sqrt', 'min_samples_leaf': 800, 'max_depth': 7}. Best is trial 77 with value: -34.906374000000035.\n",
      "[I 2024-02-02 12:11:51,442] Trial 143 finished with value: -37.13174400000005 and parameters: {'n_estimators': 40, 'max_features': 'sqrt', 'min_samples_leaf': 800, 'max_depth': 9}. Best is trial 77 with value: -34.906374000000035.\n",
      "[I 2024-02-02 12:11:51,586] Trial 145 finished with value: -38.15616200000003 and parameters: {'n_estimators': 35, 'max_features': 'sqrt', 'min_samples_leaf': 800, 'max_depth': 7}. Best is trial 77 with value: -34.906374000000035.\n",
      "[I 2024-02-02 12:11:51,587] Trial 144 finished with value: -38.593026000000044 and parameters: {'n_estimators': 40, 'max_features': 'sqrt', 'min_samples_leaf': 800, 'max_depth': 7}. Best is trial 77 with value: -34.906374000000035.\n",
      "[I 2024-02-02 12:11:51,694] Trial 146 finished with value: -39.90924000000003 and parameters: {'n_estimators': 30, 'max_features': 'sqrt', 'min_samples_leaf': 800, 'max_depth': 7}. Best is trial 77 with value: -34.906374000000035.\n",
      "[I 2024-02-02 12:11:52,153] Trial 147 finished with value: -35.67449300000004 and parameters: {'n_estimators': 30, 'max_features': 'sqrt', 'min_samples_leaf': 800, 'max_depth': 7}. Best is trial 77 with value: -34.906374000000035.\n",
      "[I 2024-02-02 12:11:52,238] Trial 148 finished with value: -38.30625000000005 and parameters: {'n_estimators': 30, 'max_features': 'sqrt', 'min_samples_leaf': 800, 'max_depth': 7}. Best is trial 77 with value: -34.906374000000035.\n",
      "[I 2024-02-02 12:11:52,286] Trial 149 finished with value: -40.59405200000005 and parameters: {'n_estimators': 30, 'max_features': 'sqrt', 'min_samples_leaf': 800, 'max_depth': 7}. Best is trial 77 with value: -34.906374000000035.\n",
      "[I 2024-02-02 12:11:52,350] Trial 150 finished with value: -40.60530500000004 and parameters: {'n_estimators': 30, 'max_features': 'sqrt', 'min_samples_leaf': 800, 'max_depth': 11}. Best is trial 77 with value: -34.906374000000035.\n",
      "[I 2024-02-02 12:11:52,386] Trial 151 finished with value: -40.60156600000004 and parameters: {'n_estimators': 30, 'max_features': 'sqrt', 'min_samples_leaf': 800, 'max_depth': 11}. Best is trial 77 with value: -34.906374000000035.\n",
      "[I 2024-02-02 12:11:52,452] Trial 152 finished with value: -40.263985000000034 and parameters: {'n_estimators': 30, 'max_features': 'sqrt', 'min_samples_leaf': 800, 'max_depth': 11}. Best is trial 77 with value: -34.906374000000035.\n",
      "[I 2024-02-02 12:11:52,505] Trial 153 finished with value: -41.20510300000003 and parameters: {'n_estimators': 30, 'max_features': 'sqrt', 'min_samples_leaf': 800, 'max_depth': 8}. Best is trial 77 with value: -34.906374000000035.\n",
      "[I 2024-02-02 12:11:52,713] Trial 154 finished with value: -39.021245000000036 and parameters: {'n_estimators': 30, 'max_features': 'sqrt', 'min_samples_leaf': 800, 'max_depth': 9}. Best is trial 77 with value: -34.906374000000035.\n",
      "[I 2024-02-02 12:11:52,768] Trial 155 finished with value: -41.24777500000004 and parameters: {'n_estimators': 30, 'max_features': 'sqrt', 'min_samples_leaf': 800, 'max_depth': 9}. Best is trial 77 with value: -34.906374000000035.\n",
      "[I 2024-02-02 12:11:52,846] Trial 156 finished with value: -40.992947000000036 and parameters: {'n_estimators': 30, 'max_features': 'sqrt', 'min_samples_leaf': 800, 'max_depth': 8}. Best is trial 77 with value: -34.906374000000035.\n",
      "[I 2024-02-02 12:11:53,282] Trial 158 finished with value: -40.24450100000005 and parameters: {'n_estimators': 25, 'max_features': 'sqrt', 'min_samples_leaf': 800, 'max_depth': 9}. Best is trial 77 with value: -34.906374000000035.\n",
      "[I 2024-02-02 12:11:53,451] Trial 159 finished with value: -42.91067300000003 and parameters: {'n_estimators': 25, 'max_features': 'sqrt', 'min_samples_leaf': 800, 'max_depth': 9}. Best is trial 77 with value: -34.906374000000035.\n",
      "[I 2024-02-02 12:11:53,453] Trial 161 finished with value: -38.41039800000003 and parameters: {'n_estimators': 25, 'max_features': 'sqrt', 'min_samples_leaf': 800, 'max_depth': 9}. Best is trial 77 with value: -34.906374000000035.\n",
      "[I 2024-02-02 12:11:53,517] Trial 157 finished with value: -39.45926500000003 and parameters: {'n_estimators': 30, 'max_features': 'sqrt', 'min_samples_leaf': 800, 'max_depth': 9}. Best is trial 77 with value: -34.906374000000035.\n",
      "[I 2024-02-02 12:11:53,614] Trial 163 finished with value: -38.994286000000024 and parameters: {'n_estimators': 25, 'max_features': 'sqrt', 'min_samples_leaf': 800, 'max_depth': 9}. Best is trial 77 with value: -34.906374000000035.\n",
      "[I 2024-02-02 12:11:53,617] Trial 162 finished with value: -37.98033900000003 and parameters: {'n_estimators': 25, 'max_features': 'sqrt', 'min_samples_leaf': 800, 'max_depth': 9}. Best is trial 77 with value: -34.906374000000035.\n",
      "[I 2024-02-02 12:11:53,691] Trial 160 finished with value: -37.59254900000003 and parameters: {'n_estimators': 30, 'max_features': 'sqrt', 'min_samples_leaf': 800, 'max_depth': 9}. Best is trial 77 with value: -34.906374000000035.\n",
      "[I 2024-02-02 12:11:53,845] Trial 164 finished with value: -37.008992000000035 and parameters: {'n_estimators': 25, 'max_features': 'sqrt', 'min_samples_leaf': 800, 'max_depth': 9}. Best is trial 77 with value: -34.906374000000035.\n",
      "[I 2024-02-02 12:11:53,920] Trial 165 finished with value: -40.107798000000045 and parameters: {'n_estimators': 25, 'max_features': 'sqrt', 'min_samples_leaf': 800, 'max_depth': 5}. Best is trial 77 with value: -34.906374000000035.\n",
      "[I 2024-02-02 12:11:54,021] Trial 166 finished with value: -35.81169900000004 and parameters: {'n_estimators': 25, 'max_features': 'sqrt', 'min_samples_leaf': 800, 'max_depth': 5}. Best is trial 77 with value: -34.906374000000035.\n",
      "[I 2024-02-02 12:11:54,130] Trial 170 finished with value: -38.636957000000024 and parameters: {'n_estimators': 20, 'max_features': 'sqrt', 'min_samples_leaf': 1600, 'max_depth': 8}. Best is trial 77 with value: -34.906374000000035.\n",
      "[I 2024-02-02 12:11:54,302] Trial 173 finished with value: -40.26385200000003 and parameters: {'n_estimators': 20, 'max_features': 'sqrt', 'min_samples_leaf': 1600, 'max_depth': 5}. Best is trial 77 with value: -34.906374000000035.\n",
      "[I 2024-02-02 12:11:54,542] Trial 174 finished with value: -37.00518400000004 and parameters: {'n_estimators': 20, 'max_features': 'sqrt', 'min_samples_leaf': 800, 'max_depth': 5}. Best is trial 77 with value: -34.906374000000035.\n",
      "[I 2024-02-02 12:11:54,574] Trial 172 finished with value: -40.847896000000034 and parameters: {'n_estimators': 35, 'max_features': 'sqrt', 'min_samples_leaf': 1600, 'max_depth': 5}. Best is trial 77 with value: -34.906374000000035.\n",
      "[I 2024-02-02 12:11:54,620] Trial 171 finished with value: -39.78345300000005 and parameters: {'n_estimators': 35, 'max_features': 'sqrt', 'min_samples_leaf': 1600, 'max_depth': 8}. Best is trial 77 with value: -34.906374000000035.\n",
      "[I 2024-02-02 12:11:54,670] Trial 167 finished with value: -40.93030700000004 and parameters: {'n_estimators': 35, 'max_features': 'sqrt', 'min_samples_leaf': 800, 'max_depth': 9}. Best is trial 77 with value: -34.906374000000035.\n",
      "[I 2024-02-02 12:11:54,748] Trial 175 finished with value: -38.06576300000003 and parameters: {'n_estimators': 20, 'max_features': 'sqrt', 'min_samples_leaf': 800, 'max_depth': 8}. Best is trial 77 with value: -34.906374000000035.\n",
      "[I 2024-02-02 12:11:54,819] Trial 169 finished with value: -39.285636000000046 and parameters: {'n_estimators': 35, 'max_features': 'sqrt', 'min_samples_leaf': 800, 'max_depth': 8}. Best is trial 77 with value: -34.906374000000035.\n",
      "[I 2024-02-02 12:11:54,922] Trial 168 finished with value: -38.56175100000004 and parameters: {'n_estimators': 35, 'max_features': 'sqrt', 'min_samples_leaf': 800, 'max_depth': 8}. Best is trial 77 with value: -34.906374000000035.\n",
      "[I 2024-02-02 12:11:55,015] Trial 176 finished with value: -39.602451000000045 and parameters: {'n_estimators': 25, 'max_features': 'sqrt', 'min_samples_leaf': 800, 'max_depth': 11}. Best is trial 77 with value: -34.906374000000035.\n",
      "[I 2024-02-02 12:11:55,138] Trial 177 finished with value: -39.746931000000046 and parameters: {'n_estimators': 25, 'max_features': 'sqrt', 'min_samples_leaf': 800, 'max_depth': 5}. Best is trial 77 with value: -34.906374000000035.\n",
      "[I 2024-02-02 12:11:55,361] Trial 178 finished with value: -38.31110700000004 and parameters: {'n_estimators': 25, 'max_features': 'sqrt', 'min_samples_leaf': 800, 'max_depth': 11}. Best is trial 77 with value: -34.906374000000035.\n",
      "[I 2024-02-02 12:11:55,566] Trial 180 finished with value: -38.56239700000004 and parameters: {'n_estimators': 25, 'max_features': 'sqrt', 'min_samples_leaf': 800, 'max_depth': 5}. Best is trial 77 with value: -34.906374000000035.\n",
      "[I 2024-02-02 12:11:55,581] Trial 179 finished with value: -38.18205100000005 and parameters: {'n_estimators': 25, 'max_features': 'sqrt', 'min_samples_leaf': 800, 'max_depth': 4}. Best is trial 77 with value: -34.906374000000035.\n",
      "[I 2024-02-02 12:11:55,653] Trial 182 finished with value: -38.90859500000005 and parameters: {'n_estimators': 25, 'max_features': 'sqrt', 'min_samples_leaf': 800, 'max_depth': 4}. Best is trial 77 with value: -34.906374000000035.\n",
      "[I 2024-02-02 12:11:55,701] Trial 181 finished with value: -35.05169900000004 and parameters: {'n_estimators': 25, 'max_features': 'sqrt', 'min_samples_leaf': 800, 'max_depth': 4}. Best is trial 77 with value: -34.906374000000035.\n",
      "[I 2024-02-02 12:11:55,747] Trial 183 finished with value: -38.28712200000003 and parameters: {'n_estimators': 25, 'max_features': 'sqrt', 'min_samples_leaf': 800, 'max_depth': 4}. Best is trial 77 with value: -34.906374000000035.\n",
      "[I 2024-02-02 12:11:55,843] Trial 186 finished with value: -41.93802400000005 and parameters: {'n_estimators': 20, 'max_features': 'sqrt', 'min_samples_leaf': 800, 'max_depth': 4}. Best is trial 77 with value: -34.906374000000035.\n",
      "[I 2024-02-02 12:11:55,844] Trial 184 finished with value: -39.506532000000036 and parameters: {'n_estimators': 25, 'max_features': 'sqrt', 'min_samples_leaf': 800, 'max_depth': 5}. Best is trial 77 with value: -34.906374000000035.\n",
      "[I 2024-02-02 12:11:55,995] Trial 185 finished with value: -40.27526500000003 and parameters: {'n_estimators': 25, 'max_features': 'sqrt', 'min_samples_leaf': 800, 'max_depth': 4}. Best is trial 77 with value: -34.906374000000035.\n",
      "[I 2024-02-02 12:11:56,096] Trial 187 finished with value: -40.86486500000005 and parameters: {'n_estimators': 25, 'max_features': 'sqrt', 'min_samples_leaf': 800, 'max_depth': 4}. Best is trial 77 with value: -34.906374000000035.\n",
      "[I 2024-02-02 12:11:56,392] Trial 190 finished with value: -38.071387000000044 and parameters: {'n_estimators': 20, 'max_features': 'sqrt', 'min_samples_leaf': 800, 'max_depth': 11}. Best is trial 77 with value: -34.906374000000035.\n",
      "[I 2024-02-02 12:11:56,396] Trial 189 finished with value: -36.811626000000054 and parameters: {'n_estimators': 20, 'max_features': 'sqrt', 'min_samples_leaf': 800, 'max_depth': 6}. Best is trial 77 with value: -34.906374000000035.\n",
      "[I 2024-02-02 12:11:56,404] Trial 192 finished with value: -36.97651000000004 and parameters: {'n_estimators': 20, 'max_features': 'sqrt', 'min_samples_leaf': 800, 'max_depth': 4}. Best is trial 77 with value: -34.906374000000035.\n",
      "[I 2024-02-02 12:11:56,473] Trial 188 finished with value: -40.49773500000004 and parameters: {'n_estimators': 25, 'max_features': 'sqrt', 'min_samples_leaf': 800, 'max_depth': 6}. Best is trial 77 with value: -34.906374000000035.\n",
      "[I 2024-02-02 12:11:56,489] Trial 197 finished with value: -39.804718000000044 and parameters: {'n_estimators': 20, 'max_features': 'log2', 'min_samples_leaf': 800, 'max_depth': 13}. Best is trial 77 with value: -34.906374000000035.\n",
      "[I 2024-02-02 12:11:56,507] Trial 191 finished with value: -39.68411200000004 and parameters: {'n_estimators': 20, 'max_features': 'sqrt', 'min_samples_leaf': 800, 'max_depth': 11}. Best is trial 77 with value: -34.906374000000035.\n",
      "[I 2024-02-02 12:11:56,511] Trial 193 finished with value: -36.58295500000004 and parameters: {'n_estimators': 20, 'max_features': 'sqrt', 'min_samples_leaf': 800, 'max_depth': 4}. Best is trial 77 with value: -34.906374000000035.\n",
      "[I 2024-02-02 12:11:56,631] Trial 195 finished with value: -39.60337500000003 and parameters: {'n_estimators': 20, 'max_features': 'sqrt', 'min_samples_leaf': 800, 'max_depth': 6}. Best is trial 77 with value: -34.906374000000035.\n",
      "[I 2024-02-02 12:11:56,683] Trial 198 finished with value: -39.33360600000003 and parameters: {'n_estimators': 20, 'max_features': 'log2', 'min_samples_leaf': 800, 'max_depth': 6}. Best is trial 77 with value: -34.906374000000035.\n",
      "[I 2024-02-02 12:11:56,697] Trial 196 finished with value: -38.10810100000002 and parameters: {'n_estimators': 20, 'max_features': 'sqrt', 'min_samples_leaf': 800, 'max_depth': 11}. Best is trial 77 with value: -34.906374000000035.\n",
      "[I 2024-02-02 12:11:56,726] Trial 194 finished with value: -39.300265000000046 and parameters: {'n_estimators': 25, 'max_features': 'sqrt', 'min_samples_leaf': 800, 'max_depth': 6}. Best is trial 77 with value: -34.906374000000035.\n",
      "[I 2024-02-02 12:11:57,031] Trial 199 finished with value: -39.03632600000004 and parameters: {'n_estimators': 20, 'max_features': 'sqrt', 'min_samples_leaf': 800, 'max_depth': 6}. Best is trial 77 with value: -34.906374000000035.\n"
     ]
    },
    {
     "name": "stdout",
     "output_type": "stream",
     "text": [
      "CPU times: user 1min 50s, sys: 6.17 s, total: 1min 56s\n",
      "Wall time: 16.9 s\n"
     ]
    }
   ],
   "source": [
    "%%time\n",
    "study_rf.optimize(partial(objective_rf,train=train_1,labels=y_1,val=valid,val_labels=y_valid,val_rets=valid_stock_returns), n_trials=200,n_jobs=-1)"
   ]
  },
  {
   "cell_type": "markdown",
   "metadata": {},
   "source": [
    "### Instantiate the classifiers with the best parameters"
   ]
  },
  {
   "cell_type": "code",
   "execution_count": 27,
   "metadata": {},
   "outputs": [
    {
     "name": "stdout",
     "output_type": "stream",
     "text": [
      "Best parameters for decision tree:  {'min_samples_leaf': 700, 'max_depth': 10}\n",
      "Best parameters for bagging:  {'min_samples_leaf': 100, 'max_depth': 10, 'n_estimators': 5}\n",
      "Best parameters for random forest:  {'n_estimators': 25, 'max_features': 'sqrt', 'min_samples_leaf': 800, 'max_depth': 11}\n"
     ]
    }
   ],
   "source": [
    "print(\"Best parameters for decision tree: \", study_tree.best_params)\n",
    "print(\"Best parameters for bagging: \", study_bagging.best_params)\n",
    "print(\"Best parameters for random forest: \", study_rf.best_params)"
   ]
  },
  {
   "cell_type": "code",
   "execution_count": 34,
   "metadata": {},
   "outputs": [],
   "source": [
    "t_clf = DecisionTreeClassifier(**study_tree.best_params,random_state=123)"
   ]
  },
  {
   "cell_type": "code",
   "execution_count": 35,
   "metadata": {},
   "outputs": [],
   "source": [
    "tree_cfl = DecisionTreeClassifier(**{'min_samples_leaf': study_bagging.best_params['min_samples_leaf'],\n",
    "                                     'max_depth': study_bagging.best_params['max_depth']})\n",
    "bg_clf = BaggingClassifier(tree_cfl,n_estimators=study_bagging.best_params['n_estimators'],random_state=123)"
   ]
  },
  {
   "cell_type": "code",
   "execution_count": 36,
   "metadata": {},
   "outputs": [],
   "source": [
    "rf_clf = RandomForestClassifier(**study_rf.best_params)"
   ]
  },
  {
   "cell_type": "markdown",
   "metadata": {},
   "source": [
    "### Train each of the classifiers"
   ]
  },
  {
   "cell_type": "code",
   "execution_count": 38,
   "metadata": {},
   "outputs": [
    {
     "data": {
      "text/html": [
       "<style>#sk-container-id-1 {color: black;}#sk-container-id-1 pre{padding: 0;}#sk-container-id-1 div.sk-toggleable {background-color: white;}#sk-container-id-1 label.sk-toggleable__label {cursor: pointer;display: block;width: 100%;margin-bottom: 0;padding: 0.3em;box-sizing: border-box;text-align: center;}#sk-container-id-1 label.sk-toggleable__label-arrow:before {content: \"▸\";float: left;margin-right: 0.25em;color: #696969;}#sk-container-id-1 label.sk-toggleable__label-arrow:hover:before {color: black;}#sk-container-id-1 div.sk-estimator:hover label.sk-toggleable__label-arrow:before {color: black;}#sk-container-id-1 div.sk-toggleable__content {max-height: 0;max-width: 0;overflow: hidden;text-align: left;background-color: #f0f8ff;}#sk-container-id-1 div.sk-toggleable__content pre {margin: 0.2em;color: black;border-radius: 0.25em;background-color: #f0f8ff;}#sk-container-id-1 input.sk-toggleable__control:checked~div.sk-toggleable__content {max-height: 200px;max-width: 100%;overflow: auto;}#sk-container-id-1 input.sk-toggleable__control:checked~label.sk-toggleable__label-arrow:before {content: \"▾\";}#sk-container-id-1 div.sk-estimator input.sk-toggleable__control:checked~label.sk-toggleable__label {background-color: #d4ebff;}#sk-container-id-1 div.sk-label input.sk-toggleable__control:checked~label.sk-toggleable__label {background-color: #d4ebff;}#sk-container-id-1 input.sk-hidden--visually {border: 0;clip: rect(1px 1px 1px 1px);clip: rect(1px, 1px, 1px, 1px);height: 1px;margin: -1px;overflow: hidden;padding: 0;position: absolute;width: 1px;}#sk-container-id-1 div.sk-estimator {font-family: monospace;background-color: #f0f8ff;border: 1px dotted black;border-radius: 0.25em;box-sizing: border-box;margin-bottom: 0.5em;}#sk-container-id-1 div.sk-estimator:hover {background-color: #d4ebff;}#sk-container-id-1 div.sk-parallel-item::after {content: \"\";width: 100%;border-bottom: 1px solid gray;flex-grow: 1;}#sk-container-id-1 div.sk-label:hover label.sk-toggleable__label {background-color: #d4ebff;}#sk-container-id-1 div.sk-serial::before {content: \"\";position: absolute;border-left: 1px solid gray;box-sizing: border-box;top: 0;bottom: 0;left: 50%;z-index: 0;}#sk-container-id-1 div.sk-serial {display: flex;flex-direction: column;align-items: center;background-color: white;padding-right: 0.2em;padding-left: 0.2em;position: relative;}#sk-container-id-1 div.sk-item {position: relative;z-index: 1;}#sk-container-id-1 div.sk-parallel {display: flex;align-items: stretch;justify-content: center;background-color: white;position: relative;}#sk-container-id-1 div.sk-item::before, #sk-container-id-1 div.sk-parallel-item::before {content: \"\";position: absolute;border-left: 1px solid gray;box-sizing: border-box;top: 0;bottom: 0;left: 50%;z-index: -1;}#sk-container-id-1 div.sk-parallel-item {display: flex;flex-direction: column;z-index: 1;position: relative;background-color: white;}#sk-container-id-1 div.sk-parallel-item:first-child::after {align-self: flex-end;width: 50%;}#sk-container-id-1 div.sk-parallel-item:last-child::after {align-self: flex-start;width: 50%;}#sk-container-id-1 div.sk-parallel-item:only-child::after {width: 0;}#sk-container-id-1 div.sk-dashed-wrapped {border: 1px dashed gray;margin: 0 0.4em 0.5em 0.4em;box-sizing: border-box;padding-bottom: 0.4em;background-color: white;}#sk-container-id-1 div.sk-label label {font-family: monospace;font-weight: bold;display: inline-block;line-height: 1.2em;}#sk-container-id-1 div.sk-label-container {text-align: center;}#sk-container-id-1 div.sk-container {/* jupyter's `normalize.less` sets `[hidden] { display: none; }` but bootstrap.min.css set `[hidden] { display: none !important; }` so we also need the `!important` here to be able to override the default hidden behavior on the sphinx rendered scikit-learn.org. See: https://github.com/scikit-learn/scikit-learn/issues/21755 */display: inline-block !important;position: relative;}#sk-container-id-1 div.sk-text-repr-fallback {display: none;}</style><div id=\"sk-container-id-1\" class=\"sk-top-container\"><div class=\"sk-text-repr-fallback\"><pre>DecisionTreeClassifier(max_depth=10, min_samples_leaf=700, random_state=123)</pre><b>In a Jupyter environment, please rerun this cell to show the HTML representation or trust the notebook. <br />On GitHub, the HTML representation is unable to render, please try loading this page with nbviewer.org.</b></div><div class=\"sk-container\" hidden><div class=\"sk-item\"><div class=\"sk-estimator sk-toggleable\"><input class=\"sk-toggleable__control sk-hidden--visually\" id=\"sk-estimator-id-1\" type=\"checkbox\" checked><label for=\"sk-estimator-id-1\" class=\"sk-toggleable__label sk-toggleable__label-arrow\">DecisionTreeClassifier</label><div class=\"sk-toggleable__content\"><pre>DecisionTreeClassifier(max_depth=10, min_samples_leaf=700, random_state=123)</pre></div></div></div></div></div>"
      ],
      "text/plain": [
       "DecisionTreeClassifier(max_depth=10, min_samples_leaf=700, random_state=123)"
      ]
     },
     "execution_count": 38,
     "metadata": {},
     "output_type": "execute_result"
    }
   ],
   "source": [
    "t_clf.fit(train_1,y_1)"
   ]
  },
  {
   "cell_type": "code",
   "execution_count": 39,
   "metadata": {},
   "outputs": [
    {
     "data": {
      "text/html": [
       "<style>#sk-container-id-2 {color: black;}#sk-container-id-2 pre{padding: 0;}#sk-container-id-2 div.sk-toggleable {background-color: white;}#sk-container-id-2 label.sk-toggleable__label {cursor: pointer;display: block;width: 100%;margin-bottom: 0;padding: 0.3em;box-sizing: border-box;text-align: center;}#sk-container-id-2 label.sk-toggleable__label-arrow:before {content: \"▸\";float: left;margin-right: 0.25em;color: #696969;}#sk-container-id-2 label.sk-toggleable__label-arrow:hover:before {color: black;}#sk-container-id-2 div.sk-estimator:hover label.sk-toggleable__label-arrow:before {color: black;}#sk-container-id-2 div.sk-toggleable__content {max-height: 0;max-width: 0;overflow: hidden;text-align: left;background-color: #f0f8ff;}#sk-container-id-2 div.sk-toggleable__content pre {margin: 0.2em;color: black;border-radius: 0.25em;background-color: #f0f8ff;}#sk-container-id-2 input.sk-toggleable__control:checked~div.sk-toggleable__content {max-height: 200px;max-width: 100%;overflow: auto;}#sk-container-id-2 input.sk-toggleable__control:checked~label.sk-toggleable__label-arrow:before {content: \"▾\";}#sk-container-id-2 div.sk-estimator input.sk-toggleable__control:checked~label.sk-toggleable__label {background-color: #d4ebff;}#sk-container-id-2 div.sk-label input.sk-toggleable__control:checked~label.sk-toggleable__label {background-color: #d4ebff;}#sk-container-id-2 input.sk-hidden--visually {border: 0;clip: rect(1px 1px 1px 1px);clip: rect(1px, 1px, 1px, 1px);height: 1px;margin: -1px;overflow: hidden;padding: 0;position: absolute;width: 1px;}#sk-container-id-2 div.sk-estimator {font-family: monospace;background-color: #f0f8ff;border: 1px dotted black;border-radius: 0.25em;box-sizing: border-box;margin-bottom: 0.5em;}#sk-container-id-2 div.sk-estimator:hover {background-color: #d4ebff;}#sk-container-id-2 div.sk-parallel-item::after {content: \"\";width: 100%;border-bottom: 1px solid gray;flex-grow: 1;}#sk-container-id-2 div.sk-label:hover label.sk-toggleable__label {background-color: #d4ebff;}#sk-container-id-2 div.sk-serial::before {content: \"\";position: absolute;border-left: 1px solid gray;box-sizing: border-box;top: 0;bottom: 0;left: 50%;z-index: 0;}#sk-container-id-2 div.sk-serial {display: flex;flex-direction: column;align-items: center;background-color: white;padding-right: 0.2em;padding-left: 0.2em;position: relative;}#sk-container-id-2 div.sk-item {position: relative;z-index: 1;}#sk-container-id-2 div.sk-parallel {display: flex;align-items: stretch;justify-content: center;background-color: white;position: relative;}#sk-container-id-2 div.sk-item::before, #sk-container-id-2 div.sk-parallel-item::before {content: \"\";position: absolute;border-left: 1px solid gray;box-sizing: border-box;top: 0;bottom: 0;left: 50%;z-index: -1;}#sk-container-id-2 div.sk-parallel-item {display: flex;flex-direction: column;z-index: 1;position: relative;background-color: white;}#sk-container-id-2 div.sk-parallel-item:first-child::after {align-self: flex-end;width: 50%;}#sk-container-id-2 div.sk-parallel-item:last-child::after {align-self: flex-start;width: 50%;}#sk-container-id-2 div.sk-parallel-item:only-child::after {width: 0;}#sk-container-id-2 div.sk-dashed-wrapped {border: 1px dashed gray;margin: 0 0.4em 0.5em 0.4em;box-sizing: border-box;padding-bottom: 0.4em;background-color: white;}#sk-container-id-2 div.sk-label label {font-family: monospace;font-weight: bold;display: inline-block;line-height: 1.2em;}#sk-container-id-2 div.sk-label-container {text-align: center;}#sk-container-id-2 div.sk-container {/* jupyter's `normalize.less` sets `[hidden] { display: none; }` but bootstrap.min.css set `[hidden] { display: none !important; }` so we also need the `!important` here to be able to override the default hidden behavior on the sphinx rendered scikit-learn.org. See: https://github.com/scikit-learn/scikit-learn/issues/21755 */display: inline-block !important;position: relative;}#sk-container-id-2 div.sk-text-repr-fallback {display: none;}</style><div id=\"sk-container-id-2\" class=\"sk-top-container\"><div class=\"sk-text-repr-fallback\"><pre>BaggingClassifier(estimator=DecisionTreeClassifier(max_depth=10,\n",
       "                                                   min_samples_leaf=100),\n",
       "                  n_estimators=5, random_state=123)</pre><b>In a Jupyter environment, please rerun this cell to show the HTML representation or trust the notebook. <br />On GitHub, the HTML representation is unable to render, please try loading this page with nbviewer.org.</b></div><div class=\"sk-container\" hidden><div class=\"sk-item sk-dashed-wrapped\"><div class=\"sk-label-container\"><div class=\"sk-label sk-toggleable\"><input class=\"sk-toggleable__control sk-hidden--visually\" id=\"sk-estimator-id-2\" type=\"checkbox\" ><label for=\"sk-estimator-id-2\" class=\"sk-toggleable__label sk-toggleable__label-arrow\">BaggingClassifier</label><div class=\"sk-toggleable__content\"><pre>BaggingClassifier(estimator=DecisionTreeClassifier(max_depth=10,\n",
       "                                                   min_samples_leaf=100),\n",
       "                  n_estimators=5, random_state=123)</pre></div></div></div><div class=\"sk-parallel\"><div class=\"sk-parallel-item\"><div class=\"sk-item\"><div class=\"sk-label-container\"><div class=\"sk-label sk-toggleable\"><input class=\"sk-toggleable__control sk-hidden--visually\" id=\"sk-estimator-id-3\" type=\"checkbox\" ><label for=\"sk-estimator-id-3\" class=\"sk-toggleable__label sk-toggleable__label-arrow\">estimator: DecisionTreeClassifier</label><div class=\"sk-toggleable__content\"><pre>DecisionTreeClassifier(max_depth=10, min_samples_leaf=100)</pre></div></div></div><div class=\"sk-serial\"><div class=\"sk-item\"><div class=\"sk-estimator sk-toggleable\"><input class=\"sk-toggleable__control sk-hidden--visually\" id=\"sk-estimator-id-4\" type=\"checkbox\" ><label for=\"sk-estimator-id-4\" class=\"sk-toggleable__label sk-toggleable__label-arrow\">DecisionTreeClassifier</label><div class=\"sk-toggleable__content\"><pre>DecisionTreeClassifier(max_depth=10, min_samples_leaf=100)</pre></div></div></div></div></div></div></div></div></div></div>"
      ],
      "text/plain": [
       "BaggingClassifier(estimator=DecisionTreeClassifier(max_depth=10,\n",
       "                                                   min_samples_leaf=100),\n",
       "                  n_estimators=5, random_state=123)"
      ]
     },
     "execution_count": 39,
     "metadata": {},
     "output_type": "execute_result"
    }
   ],
   "source": [
    "bg_clf.fit(train_1,y_1)"
   ]
  },
  {
   "cell_type": "code",
   "execution_count": 40,
   "metadata": {
    "ExecuteTime": {
     "end_time": "2020-02-11T00:26:13.188561Z",
     "start_time": "2020-02-11T00:26:13.054541Z"
    }
   },
   "outputs": [
    {
     "data": {
      "text/html": [
       "<style>#sk-container-id-3 {color: black;}#sk-container-id-3 pre{padding: 0;}#sk-container-id-3 div.sk-toggleable {background-color: white;}#sk-container-id-3 label.sk-toggleable__label {cursor: pointer;display: block;width: 100%;margin-bottom: 0;padding: 0.3em;box-sizing: border-box;text-align: center;}#sk-container-id-3 label.sk-toggleable__label-arrow:before {content: \"▸\";float: left;margin-right: 0.25em;color: #696969;}#sk-container-id-3 label.sk-toggleable__label-arrow:hover:before {color: black;}#sk-container-id-3 div.sk-estimator:hover label.sk-toggleable__label-arrow:before {color: black;}#sk-container-id-3 div.sk-toggleable__content {max-height: 0;max-width: 0;overflow: hidden;text-align: left;background-color: #f0f8ff;}#sk-container-id-3 div.sk-toggleable__content pre {margin: 0.2em;color: black;border-radius: 0.25em;background-color: #f0f8ff;}#sk-container-id-3 input.sk-toggleable__control:checked~div.sk-toggleable__content {max-height: 200px;max-width: 100%;overflow: auto;}#sk-container-id-3 input.sk-toggleable__control:checked~label.sk-toggleable__label-arrow:before {content: \"▾\";}#sk-container-id-3 div.sk-estimator input.sk-toggleable__control:checked~label.sk-toggleable__label {background-color: #d4ebff;}#sk-container-id-3 div.sk-label input.sk-toggleable__control:checked~label.sk-toggleable__label {background-color: #d4ebff;}#sk-container-id-3 input.sk-hidden--visually {border: 0;clip: rect(1px 1px 1px 1px);clip: rect(1px, 1px, 1px, 1px);height: 1px;margin: -1px;overflow: hidden;padding: 0;position: absolute;width: 1px;}#sk-container-id-3 div.sk-estimator {font-family: monospace;background-color: #f0f8ff;border: 1px dotted black;border-radius: 0.25em;box-sizing: border-box;margin-bottom: 0.5em;}#sk-container-id-3 div.sk-estimator:hover {background-color: #d4ebff;}#sk-container-id-3 div.sk-parallel-item::after {content: \"\";width: 100%;border-bottom: 1px solid gray;flex-grow: 1;}#sk-container-id-3 div.sk-label:hover label.sk-toggleable__label {background-color: #d4ebff;}#sk-container-id-3 div.sk-serial::before {content: \"\";position: absolute;border-left: 1px solid gray;box-sizing: border-box;top: 0;bottom: 0;left: 50%;z-index: 0;}#sk-container-id-3 div.sk-serial {display: flex;flex-direction: column;align-items: center;background-color: white;padding-right: 0.2em;padding-left: 0.2em;position: relative;}#sk-container-id-3 div.sk-item {position: relative;z-index: 1;}#sk-container-id-3 div.sk-parallel {display: flex;align-items: stretch;justify-content: center;background-color: white;position: relative;}#sk-container-id-3 div.sk-item::before, #sk-container-id-3 div.sk-parallel-item::before {content: \"\";position: absolute;border-left: 1px solid gray;box-sizing: border-box;top: 0;bottom: 0;left: 50%;z-index: -1;}#sk-container-id-3 div.sk-parallel-item {display: flex;flex-direction: column;z-index: 1;position: relative;background-color: white;}#sk-container-id-3 div.sk-parallel-item:first-child::after {align-self: flex-end;width: 50%;}#sk-container-id-3 div.sk-parallel-item:last-child::after {align-self: flex-start;width: 50%;}#sk-container-id-3 div.sk-parallel-item:only-child::after {width: 0;}#sk-container-id-3 div.sk-dashed-wrapped {border: 1px dashed gray;margin: 0 0.4em 0.5em 0.4em;box-sizing: border-box;padding-bottom: 0.4em;background-color: white;}#sk-container-id-3 div.sk-label label {font-family: monospace;font-weight: bold;display: inline-block;line-height: 1.2em;}#sk-container-id-3 div.sk-label-container {text-align: center;}#sk-container-id-3 div.sk-container {/* jupyter's `normalize.less` sets `[hidden] { display: none; }` but bootstrap.min.css set `[hidden] { display: none !important; }` so we also need the `!important` here to be able to override the default hidden behavior on the sphinx rendered scikit-learn.org. See: https://github.com/scikit-learn/scikit-learn/issues/21755 */display: inline-block !important;position: relative;}#sk-container-id-3 div.sk-text-repr-fallback {display: none;}</style><div id=\"sk-container-id-3\" class=\"sk-top-container\"><div class=\"sk-text-repr-fallback\"><pre>RandomForestClassifier(max_depth=11, min_samples_leaf=800, n_estimators=25)</pre><b>In a Jupyter environment, please rerun this cell to show the HTML representation or trust the notebook. <br />On GitHub, the HTML representation is unable to render, please try loading this page with nbviewer.org.</b></div><div class=\"sk-container\" hidden><div class=\"sk-item\"><div class=\"sk-estimator sk-toggleable\"><input class=\"sk-toggleable__control sk-hidden--visually\" id=\"sk-estimator-id-5\" type=\"checkbox\" checked><label for=\"sk-estimator-id-5\" class=\"sk-toggleable__label sk-toggleable__label-arrow\">RandomForestClassifier</label><div class=\"sk-toggleable__content\"><pre>RandomForestClassifier(max_depth=11, min_samples_leaf=800, n_estimators=25)</pre></div></div></div></div></div>"
      ],
      "text/plain": [
       "RandomForestClassifier(max_depth=11, min_samples_leaf=800, n_estimators=25)"
      ]
     },
     "execution_count": 40,
     "metadata": {},
     "output_type": "execute_result"
    }
   ],
   "source": [
    "rf_clf.fit(train_1,y_1)"
   ]
  },
  {
   "cell_type": "markdown",
   "metadata": {},
   "source": [
    "### Back test the performance of the models over the period 2010 - 2018"
   ]
  },
  {
   "cell_type": "code",
   "execution_count": 128,
   "metadata": {},
   "outputs": [],
   "source": [
    "start_dates = [pd.to_datetime('2010-01-01') + pd.DateOffset(months = 3*i) for i in range(21)]\n",
    "end_dates = [d + pd.DateOffset(months = 36) for d in start_dates]\n",
    "# So the first period is [2010 Jan 1 - 2013 Jan 1], and the last period is [2015 Jan 1 - 2018 Jan 1]"
   ]
  },
  {
   "cell_type": "code",
   "execution_count": 129,
   "metadata": {},
   "outputs": [],
   "source": [
    "training_frames = [data.loc[d:d+pd.DateOffset(months = 36)] for d in start_dates]\n",
    "test_frames = [data.loc[d + pd.DateOffset(months=6):d+pd.DateOffset(months = 9)] for d in end_dates]\n",
    "training_labels = [d['rel_performance'].values for d in training_frames]\n",
    "training_stock_returns = [d['next_period_return'].values for d in training_frames]\n",
    "test_stock_returns = [d['next_period_return'] for d in test_frames]"
   ]
  },
  {
   "cell_type": "code",
   "execution_count": 131,
   "metadata": {},
   "outputs": [],
   "source": [
    "training_frames = [df.reset_index().drop(['ticker','date',\n",
    "                                   'next_period_return',\n",
    "                                   'spy_next_period_return',\n",
    "                                   'rel_performance', 'pred_rel_return',\n",
    "                                  'return', 'cum_ret', 'spy_cum_ret'],axis=1) for df in training_frames]\n",
    "test_frames = [df.reset_index().drop(['ticker','date',\n",
    "                                   'next_period_return',\n",
    "                                   'spy_next_period_return',\n",
    "                                   'rel_performance','pred_rel_return',\n",
    "                                  'return', 'cum_ret', 'spy_cum_ret'],axis=1) for df in test_frames]"
   ]
  },
  {
   "cell_type": "code",
   "execution_count": 162,
   "metadata": {},
   "outputs": [
    {
     "name": "stderr",
     "output_type": "stream",
     "text": [
      "100%|███████████████████████████████████████████| 20/20 [03:05<00:00,  9.28s/it]\n"
     ]
    }
   ],
   "source": [
    "# dictionary to store performance and returns\n",
    "xs = {'t':[1], 'bg':[1], 'rf':[1]}\n",
    "rets = {'t':[], 'bg':[], 'rf':[]}\n",
    "models = {'t':t_clf, 'bg':bg_clf, 'rf':rf_clf}\n",
    "\n",
    "for i in tqdm(range(len(start_dates)-1)):\n",
    "    for key, model in models.items():\n",
    "        model.fit(training_frames[i],training_labels[i])\n",
    "        \n",
    "        preds = model.predict(test_frames[i])\n",
    "        profit_i = (preds*test_stock_returns[i]).sum()\n",
    "        \n",
    "        rets[key].append(profit_i)\n",
    "        num_names = len(test_frames[i])\n",
    "        xs[key].append(xs[key][i] + (xs[key][i]/num_names)*profit_i)\n"
   ]
  },
  {
   "cell_type": "code",
   "execution_count": 163,
   "metadata": {},
   "outputs": [
    {
     "data": {
      "image/png": "[encoded data removed]",
      "text/plain": [
       "<Figure size 640x480 with 1 Axes>"
      ]
     },
     "metadata": {},
     "output_type": "display_data"
    }
   ],
   "source": [
    "for key, x_list in xs.items():\n",
    "    plt.plot(x_list, label = key);"
   ]
  },
  {
   "cell_type": "code",
   "execution_count": 164,
   "metadata": {},
   "outputs": [
    {
     "data": {
      "image/png": "[encoded data removed]",
      "text/plain": [
       "<Figure size 640x480 with 1 Axes>"
      ]
     },
     "metadata": {},
     "output_type": "display_data"
    }
   ],
   "source": [
    "# Compare to buy and hold of SPY\n",
    "SPY = pd.read_pickle(r'SPY_cum_ret.pkl')\n",
    "SPY = SPY.loc['2013-07-01':'2018-09-30']\n",
    "SPY = SPY.resample('Q').ffill()\n",
    "SPY['spy_cum_ret'] = (SPY['spy_cum_ret'] - SPY['spy_cum_ret'][0]+1)\n",
    "SPY['decision tree'] = xs['t']\n",
    "SPY['bagging classifier'] = xs['bg']\n",
    "SPY['random forest'] = xs['rf']\n",
    "SPY.plot();"
   ]
  },
  {
   "cell_type": "markdown",
   "metadata": {},
   "source": [
    "### Now we can compute the Shapley values for these models and see how the performance changes"
   ]
  },
  {
   "cell_type": "markdown",
   "metadata": {},
   "source": [
    "### Finding the features with non zero Shapley values"
   ]
  },
  {
   "cell_type": "code",
   "execution_count": 182,
   "metadata": {},
   "outputs": [],
   "source": [
    "# Obtain the feature importances\n",
    "def tree_feat_importance(m, df):\n",
    "    return pd.DataFrame({'cols':df.columns, 'feat_imp':m.feature_importances_}\n",
    "                       ).sort_values('feat_imp', ascending=False)\n",
    "\n",
    "def bagging_feat_importance(m, df):\n",
    "    feature_importances = []\n",
    "    for est in m.estimators_:\n",
    "        fi = est.feature_importances_\n",
    "        feature_importances.append(fi)\n",
    "    feature_importances = np.array(feature_importances)\n",
    "        \n",
    "    return pd.DataFrame({'cols':train_1.columns, 'feat_imp':np.mean(feature_importances,axis=0)}\n",
    "                       ).sort_values('feat_imp', ascending=False)\n",
    "\n",
    "def randomforest_feat_importances(m, df):\n",
    "        \n",
    "    return pd.DataFrame({'cols':df.columns, 'feat_imp': m.feature_importances_}\n",
    "                       ).sort_values('feat_imp', ascending=False)\n",
    "\n",
    "def plot_fi(fi): return fi.plot('cols', 'feat_imp', 'barh', figsize=(12,7), legend=False)"
   ]
  },
  {
   "cell_type": "code",
   "execution_count": 183,
   "metadata": {},
   "outputs": [
    {
     "data": {
      "text/plain": [
       "<Axes: ylabel='cols'>"
      ]
     },
     "execution_count": 183,
     "metadata": {},
     "output_type": "execute_result"
    },
    {
     "data": {
      "image/png": "[encoded data removed]",
      "text/plain": [
       "<Figure size 1200x700 with 1 Axes>"
      ]
     },
     "metadata": {},
     "output_type": "display_data"
    }
   ],
   "source": [
    "t_fi = tree_feat_importance(t_clf,train_1)\n",
    "bg_fi = bagging_feat_importance(bg_clf,train_1)\n",
    "rf_fi = randomforest_feat_importances(rf_clf,train_1)"
   ]
  },
  {
   "cell_type": "code",
   "execution_count": 176,
   "metadata": {},
   "outputs": [],
   "source": [
    "# Only use features that have positive feature importance\n",
    "t_features = t_fi[(t_fi['feat_imp'] > 0.00)]\n",
    "bg_features = bg_fi[(bg_fi['feat_imp'] > 0.00)]\n",
    "rf_features = rf_fi[(rf_fi['feat_imp'] > 0.00)]"
   ]
  },
  {
   "cell_type": "code",
   "execution_count": 184,
   "metadata": {},
   "outputs": [
    {
     "data": {
      "text/plain": [
       "<Axes: ylabel='cols'>"
      ]
     },
     "execution_count": 184,
     "metadata": {},
     "output_type": "execute_result"
    },
    {
     "data": {
      "image/png": "[encoded data removed]",
      "text/plain": [
       "<Figure size 1200x700 with 1 Axes>"
      ]
     },
     "metadata": {},
     "output_type": "display_data"
    }
   ],
   "source": [
    "# Observe how many features have been eliminated so far\n"
   ]
  },
  {
   "cell_type": "code",
   "execution_count": null,
   "metadata": {},
   "outputs": [],
   "source": []
  },
  {
   "cell_type": "code",
   "execution_count": null,
   "metadata": {},
   "outputs": [],
   "source": []
  },
  {
   "cell_type": "code",
   "execution_count": null,
   "metadata": {},
   "outputs": [],
   "source": []
  },
  {
   "cell_type": "code",
   "execution_count": null,
   "metadata": {},
   "outputs": [],
   "source": []
  },
  {
   "cell_type": "code",
   "execution_count": null,
   "metadata": {},
   "outputs": [],
   "source": []
  },
  {
   "cell_type": "code",
   "execution_count": null,
   "metadata": {},
   "outputs": [],
   "source": []
  },
  {
   "cell_type": "code",
   "execution_count": null,
   "metadata": {},
   "outputs": [],
   "source": [
    "preds=rf_clf.predict(valid)"
   ]
  },
  {
   "cell_type": "code",
   "execution_count": null,
   "metadata": {},
   "outputs": [],
   "source": [
    "valid_profit = (preds * df_valid['next_period_return']).sum()\n",
    "valid_profit"
   ]
  },
  {
   "cell_type": "code",
   "execution_count": null,
   "metadata": {},
   "outputs": [],
   "source": [
    "pred_test=rf_clf.predict(test)"
   ]
  },
  {
   "cell_type": "code",
   "execution_count": null,
   "metadata": {},
   "outputs": [],
   "source": [
    "test_profit = (pred_test * df_test['next_period_return']).sum()\n",
    "test_profit"
   ]
  },
  {
   "cell_type": "code",
   "execution_count": null,
   "metadata": {
    "ExecuteTime": {
     "end_time": "2020-02-11T00:26:34.187187Z",
     "start_time": "2020-02-11T00:26:34.155597Z"
    }
   },
   "outputs": [],
   "source": [
    "confusion_matrix(y_test,pred_test)"
   ]
  },
  {
   "cell_type": "code",
   "execution_count": null,
   "metadata": {},
   "outputs": [],
   "source": [
    "accuracy_score(preds,y_valid)"
   ]
  },
  {
   "cell_type": "code",
   "execution_count": null,
   "metadata": {},
   "outputs": [],
   "source": [
    "accuracy_score(pred_test,y_test)"
   ]
  },
  {
   "cell_type": "code",
   "execution_count": null,
   "metadata": {
    "ExecuteTime": {
     "end_time": "2020-02-11T00:25:49.640309Z",
     "start_time": "2020-02-11T00:25:49.632310Z"
    }
   },
   "outputs": [],
   "source": [
    "len(train_1.columns)"
   ]
  },
  {
   "cell_type": "code",
   "execution_count": null,
   "metadata": {},
   "outputs": [],
   "source": []
  },
  {
   "cell_type": "code",
   "execution_count": null,
   "metadata": {
    "ExecuteTime": {
     "end_time": "2020-02-11T00:30:26.233418Z",
     "start_time": "2020-02-11T00:30:26.207352Z"
    }
   },
   "outputs": [],
   "source": [
    "def randomforest_feat_importances(m, df):\n",
    "        \n",
    "    return pd.DataFrame({'cols':df.columns, 'feat_imp': m.feature_importances_}\n",
    "                       ).sort_values('feat_imp', ascending=False)\n",
    "\n",
    "def plot_fi(fi): return fi.plot('cols', 'feat_imp', 'barh', figsize=(12,7), legend=False)"
   ]
  },
  {
   "cell_type": "code",
   "execution_count": null,
   "metadata": {
    "ExecuteTime": {
     "end_time": "2020-02-11T00:30:29.412179Z",
     "start_time": "2020-02-11T00:30:29.298179Z"
    }
   },
   "outputs": [],
   "source": [
    "fi = randomforest_feat_importances(rf_clf,train_1)"
   ]
  },
  {
   "cell_type": "code",
   "execution_count": null,
   "metadata": {
    "ExecuteTime": {
     "end_time": "2020-02-11T00:31:01.727197Z",
     "start_time": "2020-02-11T00:31:01.717164Z"
    }
   },
   "outputs": [],
   "source": [
    "features = fi[(fi['feat_imp'] > 0.00)]"
   ]
  },
  {
   "cell_type": "code",
   "execution_count": null,
   "metadata": {
    "ExecuteTime": {
     "end_time": "2020-02-11T00:31:04.292915Z",
     "start_time": "2020-02-11T00:31:04.276239Z"
    }
   },
   "outputs": [],
   "source": [
    "features.shape"
   ]
  },
  {
   "cell_type": "code",
   "execution_count": null,
   "metadata": {
    "ExecuteTime": {
     "end_time": "2020-02-09T18:41:42.955393Z",
     "start_time": "2020-02-09T18:41:41.132339Z"
    },
    "scrolled": true
   },
   "outputs": [],
   "source": [
    "plot_fi(features);"
   ]
  },
  {
   "cell_type": "code",
   "execution_count": null,
   "metadata": {
    "ExecuteTime": {
     "end_time": "2020-02-09T18:41:50.410724Z",
     "start_time": "2020-02-09T18:41:50.386727Z"
    }
   },
   "outputs": [],
   "source": [
    "features"
   ]
  },
  {
   "cell_type": "code",
   "execution_count": null,
   "metadata": {
    "ExecuteTime": {
     "end_time": "2020-02-09T18:42:00.953015Z",
     "start_time": "2020-02-09T18:42:00.934981Z"
    }
   },
   "outputs": [],
   "source": [
    "train_1 = train_1[features['cols'].values]\n",
    "valid = valid[features['cols'].values]"
   ]
  },
  {
   "cell_type": "code",
   "execution_count": null,
   "metadata": {
    "ExecuteTime": {
     "end_time": "2020-02-11T00:37:00.392945Z",
     "start_time": "2020-02-11T00:36:58.708361Z"
    }
   },
   "outputs": [],
   "source": [
    "rf_clf.fit(train_1,y_1)\n",
    "rf_clf.score(train_1,y_1)"
   ]
  },
  {
   "cell_type": "code",
   "execution_count": null,
   "metadata": {},
   "outputs": [],
   "source": [
    "len(valid)"
   ]
  },
  {
   "cell_type": "code",
   "execution_count": null,
   "metadata": {
    "ExecuteTime": {
     "end_time": "2020-02-11T00:37:16.075277Z",
     "start_time": "2020-02-11T00:37:15.833282Z"
    }
   },
   "outputs": [],
   "source": [
    "pred_valid = rf_clf.predict(valid)\n",
    "rf_clf.score(valid,y_valid)"
   ]
  },
  {
   "cell_type": "code",
   "execution_count": null,
   "metadata": {
    "ExecuteTime": {
     "end_time": "2020-02-11T00:39:53.813754Z",
     "start_time": "2020-02-11T00:39:53.805751Z"
    }
   },
   "outputs": [],
   "source": [
    "(pred_valid * valid_stock_returns).sum()"
   ]
  },
  {
   "cell_type": "code",
   "execution_count": null,
   "metadata": {
    "ExecuteTime": {
     "end_time": "2020-02-11T00:40:17.297207Z",
     "start_time": "2020-02-11T00:40:17.291205Z"
    }
   },
   "outputs": [],
   "source": [
    "Counter(pred_valid)"
   ]
  },
  {
   "cell_type": "code",
   "execution_count": null,
   "metadata": {},
   "outputs": [],
   "source": [
    "valid_1 = valid.copy()"
   ]
  },
  {
   "cell_type": "code",
   "execution_count": null,
   "metadata": {},
   "outputs": [],
   "source": [
    "valid_1['returns'] = valid_stock_returns.values"
   ]
  },
  {
   "cell_type": "code",
   "execution_count": null,
   "metadata": {},
   "outputs": [],
   "source": [
    "import shap"
   ]
  },
  {
   "cell_type": "code",
   "execution_count": null,
   "metadata": {},
   "outputs": [],
   "source": [
    "def model(features):\n",
    "    tree_features = features[features.columns[:-1].values]\n",
    "\n",
    "    pred = rf_clf.predict(tree_features)\n",
    "\n",
    "    ret = pred * features[features.columns[-1]]\n",
    "\n",
    "    return ret"
   ]
  },
  {
   "cell_type": "code",
   "execution_count": null,
   "metadata": {},
   "outputs": [],
   "source": [
    "model(valid_1)"
   ]
  },
  {
   "cell_type": "code",
   "execution_count": null,
   "metadata": {},
   "outputs": [],
   "source": [
    "explainer = shap.explainers.Permutation(model,valid_1)"
   ]
  },
  {
   "cell_type": "code",
   "execution_count": null,
   "metadata": {},
   "outputs": [],
   "source": [
    "shap_values = explainer(valid_1,max_evals=2000)"
   ]
  },
  {
   "cell_type": "code",
   "execution_count": null,
   "metadata": {},
   "outputs": [],
   "source": [
    "shap.plots.bar(shap_values[:,:-1],max_display=60)"
   ]
  },
  {
   "cell_type": "code",
   "execution_count": null,
   "metadata": {},
   "outputs": [],
   "source": [
    "cols = features['cols'].values"
   ]
  },
  {
   "cell_type": "code",
   "execution_count": null,
   "metadata": {},
   "outputs": [],
   "source": [
    "shap_cols = cols[np.abs(shap_values[:,:-1].values).mean(axis=0)>0.000]"
   ]
  },
  {
   "cell_type": "code",
   "execution_count": null,
   "metadata": {},
   "outputs": [],
   "source": [
    "start_dates = [pd.to_datetime('2001-01-01') + pd.DateOffset(months = 3 * i) for i in range(57)]\n",
    "end_dates = [d + pd.DateOffset(months = 36) for d in start_dates]\n",
    "\n",
    "training_frames = [data.loc[d:d+pd.DateOffset(months = 36)] for d in start_dates]\n",
    "valid_frames = [data.loc[d + pd.DateOffset(months=3):d+pd.DateOffset(months = 6)] for d in end_dates]\n",
    "test_frames = [data.loc[d + pd.DateOffset(months=6):d+pd.DateOffset(months = 9)] for d in end_dates]\n",
    "\n",
    "training_data = [d.reset_index().drop\n",
    "                                 (['ticker','date',\n",
    "                                   'next_period_return',\n",
    "                                   'spy_next_period_return',\n",
    "                                   'rel_performance','pred_rel_return',\n",
    "                                  'return', 'cum_ret', 'spy_cum_ret'],axis=1) for d in training_frames]\n",
    "valid_data = [d.reset_index().drop(['ticker','date',\n",
    "                                   'next_period_return',\n",
    "                                   'spy_next_period_return',\n",
    "                                   'rel_performance','pred_rel_return',\n",
    "                                  'return', 'cum_ret', 'spy_cum_ret'],axis=1) for d in valid_frames]\n",
    "test_data = [d.reset_index().drop(['ticker','date',\n",
    "                                   'next_period_return',\n",
    "                                   'spy_next_period_return',\n",
    "                                   'rel_performance','pred_rel_return',\n",
    "                                  'return', 'cum_ret', 'spy_cum_ret'],axis=1) for d in test_frames]\n",
    "\n",
    "training_labels = [d['rel_performance'].values for d in training_frames]\n",
    "validation_labels = [d['rel_performance'].values for d in test_frames]"
   ]
  },
  {
   "cell_type": "code",
   "execution_count": null,
   "metadata": {},
   "outputs": [],
   "source": [
    "from sklearn.preprocessing import StandardScaler"
   ]
  },
  {
   "cell_type": "code",
   "execution_count": null,
   "metadata": {},
   "outputs": [],
   "source": [
    "scalers = [StandardScaler() for _ in range(len(training_data))]\n",
    "           \n",
    "opt_training_data = [pd.DataFrame(scalers[i].fit_transform(training_frames[i][shap_cols].values),columns=shap_cols) for i in range(len(training_data))]\n",
    "opt_valid_data = [pd.DataFrame(scalers[i].transform(valid_frames[i][shap_cols].values),columns=shap_cols) for i in range(len(valid_data))]\n",
    "opt_test_data = [pd.DataFrame(scalers[i].transform(test_frames[i][shap_cols].values),columns=shap_cols) for i in range(len(test_data))]"
   ]
  },
  {
   "cell_type": "code",
   "execution_count": null,
   "metadata": {},
   "outputs": [],
   "source": [
    "x = [1]\n",
    "ret = []\n",
    "\n",
    "for i in range(len(start_dates)-1):\n",
    "        rf_clf.fit(opt_training_data[i],training_labels[i])\n",
    "\n",
    "        preds = rf_clf.predict(opt_test_data[i])\n",
    "        profit_i = (preds*test_frames[i]['next_period_return']).sum()\n",
    "        ret.append(profit_i)\n",
    "        num_names = len(opt_test_data[i])\n",
    "        x.append(x[i] + (x[i]/num_names)*profit_i)\n"
   ]
  },
  {
   "cell_type": "code",
   "execution_count": null,
   "metadata": {},
   "outputs": [],
   "source": [
    "plt.plot(x);"
   ]
  },
  {
   "cell_type": "code",
   "execution_count": null,
   "metadata": {},
   "outputs": [],
   "source": [
    "SPY = pd.read_pickle(r'C:\\Users\\niels\\OneDrive\\Machine Learning 2022\\Lecture 2\\SPY_cum_ret.pkl')\n",
    "SPY = SPY.loc['2004-07-01':'2018-09-30']\n",
    "SPY = SPY.resample('Q').ffill()\n",
    "SPY['spy_cum_ret'] = (SPY['spy_cum_ret'] - SPY['spy_cum_ret'][0]+1)\n",
    "SPY['strategy'] = x"
   ]
  },
  {
   "cell_type": "code",
   "execution_count": null,
   "metadata": {},
   "outputs": [],
   "source": [
    "SPY.plot();"
   ]
  },
  {
   "cell_type": "code",
   "execution_count": null,
   "metadata": {},
   "outputs": [],
   "source": [
    "SPY = SPY.resample('Y').ffill()\n",
    "SPY.plot();"
   ]
  },
  {
   "cell_type": "code",
   "execution_count": null,
   "metadata": {},
   "outputs": [],
   "source": [
    "strategy_mean_ret = (SPY['strategy'] - 1).diff().mean()\n",
    "strategy_std = (SPY['strategy'] - 1).diff().std()\n",
    "strategy_sr = strategy_mean_ret/strategy_std\n",
    "print('Strategy Sharpe Ratio: ',strategy_sr)"
   ]
  },
  {
   "cell_type": "code",
   "execution_count": null,
   "metadata": {},
   "outputs": [],
   "source": [
    "strategy_std = (SPY['strategy'] - 1).diff().std()\n",
    "strategy_std"
   ]
  },
  {
   "cell_type": "code",
   "execution_count": null,
   "metadata": {},
   "outputs": [],
   "source": [
    "(SPY['spy_cum_ret'] - 1).diff().mean()\n",
    "(SPY['spy_cum_ret'] - 1).diff().std()\n",
    "print('SP Sharpe Ratio: ',(SPY['spy_cum_ret'] - 1).diff().mean()/(SPY['spy_cum_ret'] - 1).diff().std())"
   ]
  },
  {
   "cell_type": "code",
   "execution_count": null,
   "metadata": {},
   "outputs": [],
   "source": [
    "x[-1]"
   ]
  },
  {
   "cell_type": "code",
   "execution_count": null,
   "metadata": {},
   "outputs": [],
   "source": [
    "strategy_ret = (SPY['strategy'] - 1).diff().values[1:]\n",
    "spy_ret = (SPY['spy_cum_ret'] - 1).diff().values[1:]\n",
    "\n",
    "beta = (np.cov(spy_ret,strategy_ret)/np.var(spy_ret))[1,0]\n",
    "beta"
   ]
  },
  {
   "cell_type": "code",
   "execution_count": null,
   "metadata": {},
   "outputs": [],
   "source": [
    "residual_ret = strategy_ret - beta * spy_ret\n",
    "IR = np.mean(residual_ret)/np.std(residual_ret)\n",
    "IR"
   ]
  },
  {
   "cell_type": "code",
   "execution_count": null,
   "metadata": {},
   "outputs": [],
   "source": [
    "alpha = np.mean(residual_ret)\n",
    "alpha"
   ]
  },
  {
   "cell_type": "code",
   "execution_count": null,
   "metadata": {
    "ExecuteTime": {
     "end_time": "2020-02-09T18:42:30.850795Z",
     "start_time": "2020-02-09T18:42:30.843799Z"
    }
   },
   "outputs": [],
   "source": [
    "def profit_importance(m,df,rets):\n",
    "#     np.random.seed(123)\n",
    "    profit = []\n",
    "    for col in df.columns:\n",
    "        prof = []\n",
    "        for _ in range(100):\n",
    "            X = df.copy()\n",
    "            X[col] = np.random.permutation(df[col].values)\n",
    "            prediction = m.predict(X)\n",
    "            prof.append((prediction * rets).sum())\n",
    "        profit.append(np.mean(prof))\n",
    "    return profit"
   ]
  },
  {
   "cell_type": "code",
   "execution_count": null,
   "metadata": {},
   "outputs": [],
   "source": []
  },
  {
   "cell_type": "code",
   "execution_count": null,
   "metadata": {},
   "outputs": [],
   "source": []
  },
  {
   "cell_type": "code",
   "execution_count": null,
   "metadata": {
    "ExecuteTime": {
     "end_time": "2020-02-11T00:48:51.812297Z",
     "start_time": "2020-02-11T00:48:51.806329Z"
    }
   },
   "outputs": [],
   "source": [
    "def randomforest_profit_importance(m, df,rets):\n",
    "    return pd.DataFrame({'cols':df.columns, 'pi_imp':profit_importance(m,df,rets)}\n",
    "                       ).sort_values('pi_imp', ascending=True)"
   ]
  },
  {
   "cell_type": "code",
   "execution_count": null,
   "metadata": {
    "ExecuteTime": {
     "end_time": "2020-02-11T00:58:52.576470Z",
     "start_time": "2020-02-11T00:48:55.605627Z"
    }
   },
   "outputs": [],
   "source": [
    "pi = randomforest_profit_importance(rf_clf,valid,valid_stock_returns)\n",
    "pi"
   ]
  },
  {
   "cell_type": "code",
   "execution_count": null,
   "metadata": {
    "ExecuteTime": {
     "end_time": "2020-02-09T20:39:56.078663Z",
     "start_time": "2020-02-09T18:46:17.429778Z"
    }
   },
   "outputs": [],
   "source": [
    "%%time\n",
    "profits = []\n",
    "feat=[]\n",
    "\n",
    "train = train_1.copy()\n",
    "validation = valid.copy()\n",
    "\n",
    "while len(train.columns)>1:\n",
    "\n",
    "    col_to_drop = pi.iloc[-1]['cols']\n",
    "    train.drop(col_to_drop,axis=1,inplace=True)\n",
    "    validation.drop(col_to_drop,axis=1,inplace=True)\n",
    "        \n",
    "    rf_clf.fit(train,y_1)\n",
    "    pi = randomforest_profit_importance(rf_clf,validation,df_valid['next_period_return'])\n",
    "\n",
    "    pred_valid = rf_clf.predict(validation)\n",
    "        \n",
    "    print((pred_valid * df_valid['next_period_return']).sum())\n",
    "    profits.append((pred_valid * df_valid['next_period_return']).sum())\n",
    "    feat.append(train.columns)"
   ]
  },
  {
   "cell_type": "code",
   "execution_count": null,
   "metadata": {
    "ExecuteTime": {
     "end_time": "2020-02-09T20:40:58.562802Z",
     "start_time": "2020-02-09T20:40:58.382807Z"
    }
   },
   "outputs": [],
   "source": [
    "plt.plot(profits);"
   ]
  },
  {
   "cell_type": "code",
   "execution_count": null,
   "metadata": {
    "ExecuteTime": {
     "end_time": "2020-02-11T00:58:52.579476Z",
     "start_time": "2020-02-11T00:54:19.646Z"
    }
   },
   "outputs": [],
   "source": [
    "n = np.argmax(profits)\n",
    "profits[n]"
   ]
  },
  {
   "cell_type": "code",
   "execution_count": null,
   "metadata": {
    "ExecuteTime": {
     "end_time": "2020-02-11T00:58:52.581472Z",
     "start_time": "2020-02-11T00:54:23.942Z"
    }
   },
   "outputs": [],
   "source": [
    "n"
   ]
  },
  {
   "cell_type": "code",
   "execution_count": null,
   "metadata": {
    "ExecuteTime": {
     "end_time": "2020-02-09T20:41:12.758275Z",
     "start_time": "2020-02-09T20:41:12.752241Z"
    }
   },
   "outputs": [],
   "source": [
    "optim_feats = feat[n]\n",
    "optim_feats\n"
   ]
  },
  {
   "cell_type": "code",
   "execution_count": null,
   "metadata": {
    "ExecuteTime": {
     "end_time": "2020-02-11T00:58:52.583473Z",
     "start_time": "2020-02-11T00:55:04.793Z"
    }
   },
   "outputs": [],
   "source": [
    "train_1_optim = train_1[optim_feats]\n",
    "valid_optim = valid[optim_feats]\n",
    "\n",
    "\n",
    "rf_clf.fit(train_1_optim,y_1)\n",
    "print(rf_clf.score(train_1_optim,y_1))\n",
    "pred_valid = rf_clf.predict(valid_optim)\n",
    "print(rf_clf.score(valid_optim,y_valid))\n",
    "(pred_valid * valid_stock_returns).sum()"
   ]
  },
  {
   "cell_type": "code",
   "execution_count": null,
   "metadata": {},
   "outputs": [],
   "source": [
    "confusion_matrix(pred_valid,y_valid)"
   ]
  },
  {
   "cell_type": "code",
   "execution_count": null,
   "metadata": {},
   "outputs": [],
   "source": [
    "Counter(y_valid)"
   ]
  },
  {
   "cell_type": "code",
   "execution_count": null,
   "metadata": {},
   "outputs": [],
   "source": [
    "Counter(pred_valid)"
   ]
  },
  {
   "cell_type": "markdown",
   "metadata": {},
   "source": [
    "## Long term performance with Random Forest Classifier, optimal hyper-parameters"
   ]
  },
  {
   "cell_type": "code",
   "execution_count": null,
   "metadata": {
    "ExecuteTime": {
     "end_time": "2020-02-11T00:59:21.882803Z",
     "start_time": "2020-02-11T00:59:21.859799Z"
    }
   },
   "outputs": [],
   "source": [
    "start_dates = [pd.to_datetime('2000-01-01') + pd.DateOffset(months = 3 * i) for i in range(62)]\n",
    "end_dates = [d + pd.DateOffset(months = 36) for d in start_dates]"
   ]
  },
  {
   "cell_type": "code",
   "execution_count": null,
   "metadata": {
    "ExecuteTime": {
     "end_time": "2020-02-11T01:00:06.107690Z",
     "start_time": "2020-02-11T01:00:06.050640Z"
    }
   },
   "outputs": [],
   "source": [
    "training_frames = [data.loc[d:d+pd.DateOffset(months = 36)] for d in start_dates]\n",
    "valid_frames = [data.loc[d:d+pd.DateOffset(months = 3)] for d in end_dates]\n",
    "test_frames = [data.loc[d+pd.DateOffset(months = 6):d+pd.DateOffset(months = 9)] for d in end_dates]"
   ]
  },
  {
   "cell_type": "code",
   "execution_count": null,
   "metadata": {
    "ExecuteTime": {
     "end_time": "2020-02-11T01:00:20.984116Z",
     "start_time": "2020-02-11T01:00:11.072616Z"
    }
   },
   "outputs": [],
   "source": [
    "training_data = [d.reset_index().drop\n",
    "                                 (['ticker','date',\n",
    "                                   'next_period_return',\n",
    "                                   'spy_next_period_return',\n",
    "                                   'rel_performance','pred_rel_return',\n",
    "                                  'return', 'cum_ret', 'spy_cum_ret'],axis=1) for d in training_frames]"
   ]
  },
  {
   "cell_type": "code",
   "execution_count": null,
   "metadata": {
    "ExecuteTime": {
     "end_time": "2020-02-11T01:00:22.138142Z",
     "start_time": "2020-02-11T01:00:20.986086Z"
    }
   },
   "outputs": [],
   "source": [
    "test_data = [d.reset_index().drop(['ticker','date',\n",
    "                                   'next_period_return',\n",
    "                                   'spy_next_period_return',\n",
    "                                   'rel_performance','pred_rel_return',\n",
    "                                  'return', 'cum_ret', 'spy_cum_ret'],axis=1) for d in test_frames]"
   ]
  },
  {
   "cell_type": "code",
   "execution_count": null,
   "metadata": {
    "ExecuteTime": {
     "end_time": "2020-02-11T01:00:28.172336Z",
     "start_time": "2020-02-11T01:00:28.162322Z"
    }
   },
   "outputs": [],
   "source": [
    "training_labels = [d['rel_performance'].values for d in training_frames]"
   ]
  },
  {
   "cell_type": "code",
   "execution_count": null,
   "metadata": {
    "ExecuteTime": {
     "end_time": "2020-02-11T01:00:33.994294Z",
     "start_time": "2020-02-11T01:00:33.869286Z"
    }
   },
   "outputs": [],
   "source": [
    "opt_training_data = [t[optim_feats] for t in training_data]\n",
    "opt_test_data = [v[optim_feats] for v in test_data]"
   ]
  },
  {
   "cell_type": "code",
   "execution_count": null,
   "metadata": {
    "ExecuteTime": {
     "end_time": "2020-02-11T01:01:15.387898Z",
     "start_time": "2020-02-11T01:00:58.271824Z"
    }
   },
   "outputs": [],
   "source": [
    "P_L = []\n",
    "x = [1]\n",
    "ret = []\n",
    "\n",
    "for i in range(len(training_labels)):\n",
    "        rf_clf.fit(opt_training_data[i],training_labels[i])\n",
    "        pred_i = rf_clf.predict(opt_test_data[i])\n",
    "        profit_i = (pred_i * test_frames[i]['next_period_return']).sum()\n",
    "        P_L.append(profit_i)\n",
    "        num_positions = len(pred_i)\n",
    "        ret.append((1.0/num_positions) * profit_i)\n",
    "        x.append(x[i] + (x[i]/num_positions) * profit_i)"
   ]
  },
  {
   "cell_type": "code",
   "execution_count": null,
   "metadata": {
    "ExecuteTime": {
     "end_time": "2020-02-11T01:01:20.294124Z",
     "start_time": "2020-02-11T01:01:20.107095Z"
    }
   },
   "outputs": [],
   "source": [
    "plt.plot(x);"
   ]
  },
  {
   "cell_type": "code",
   "execution_count": null,
   "metadata": {},
   "outputs": [],
   "source": [
    "len(x)"
   ]
  },
  {
   "cell_type": "code",
   "execution_count": null,
   "metadata": {
    "ExecuteTime": {
     "end_time": "2020-02-11T01:01:37.494042Z",
     "start_time": "2020-02-11T01:01:37.445007Z"
    }
   },
   "outputs": [],
   "source": [
    "SPY = pd.read_pickle(r'C:\\Users\\niels\\OneDrive\\Machine Learning 2022\\Lecture 2\\SPY_cum_ret.pkl')\n",
    "SPY = SPY.loc['2003-01-01':'2018-09-30']\n",
    "SPY = SPY.resample('Q').ffill()\n",
    "SPY['spy_cum_ret'] = (SPY['spy_cum_ret'] - SPY['spy_cum_ret'][0] + 1)\n",
    "SPY['strategy'] = x"
   ]
  },
  {
   "cell_type": "code",
   "execution_count": null,
   "metadata": {
    "ExecuteTime": {
     "end_time": "2020-02-11T01:01:41.397432Z",
     "start_time": "2020-02-11T01:01:41.198433Z"
    }
   },
   "outputs": [],
   "source": [
    "SPY.plot();"
   ]
  },
  {
   "cell_type": "code",
   "execution_count": null,
   "metadata": {
    "ExecuteTime": {
     "end_time": "2020-02-11T01:01:46.417678Z",
     "start_time": "2020-02-11T01:01:46.157159Z"
    }
   },
   "outputs": [],
   "source": [
    "SPY = SPY.resample('Y').ffill()\n",
    "SPY.plot();"
   ]
  },
  {
   "cell_type": "code",
   "execution_count": null,
   "metadata": {
    "ExecuteTime": {
     "end_time": "2020-02-11T01:01:54.486712Z",
     "start_time": "2020-02-11T01:01:54.468721Z"
    }
   },
   "outputs": [],
   "source": [
    "strategy_mean_ret = (SPY['strategy'] - 1).diff().mean()\n",
    "strategy_std = (SPY['strategy'] - 1).diff().std()\n",
    "strategy_sr = strategy_mean_ret/strategy_std\n",
    "print('Strategy Sharpe Ratio: ',strategy_sr)"
   ]
  },
  {
   "cell_type": "code",
   "execution_count": null,
   "metadata": {
    "ExecuteTime": {
     "end_time": "2020-02-11T01:02:00.792517Z",
     "start_time": "2020-02-11T01:02:00.786515Z"
    }
   },
   "outputs": [],
   "source": [
    "x[-1]"
   ]
  },
  {
   "cell_type": "code",
   "execution_count": null,
   "metadata": {
    "ExecuteTime": {
     "end_time": "2020-02-09T20:42:54.524395Z",
     "start_time": "2020-02-09T20:42:54.519365Z"
    }
   },
   "outputs": [],
   "source": [
    "SPY['spy_cum_ret'][-1]"
   ]
  },
  {
   "cell_type": "code",
   "execution_count": null,
   "metadata": {
    "ExecuteTime": {
     "end_time": "2020-02-09T20:42:59.954056Z",
     "start_time": "2020-02-09T20:42:59.949042Z"
    }
   },
   "outputs": [],
   "source": [
    "strategy_ret = (SPY['strategy'] - 1).diff().values[1:]\n",
    "spy_ret = (SPY['spy_cum_ret'] - 1).diff().values[1:]"
   ]
  },
  {
   "cell_type": "code",
   "execution_count": null,
   "metadata": {
    "ExecuteTime": {
     "end_time": "2020-02-09T20:43:01.135837Z",
     "start_time": "2020-02-09T20:43:01.130715Z"
    }
   },
   "outputs": [],
   "source": [
    "beta = (np.cov(spy_ret,strategy_ret)/np.var(spy_ret))[1,0]"
   ]
  },
  {
   "cell_type": "code",
   "execution_count": null,
   "metadata": {
    "ExecuteTime": {
     "end_time": "2020-02-09T20:43:02.086883Z",
     "start_time": "2020-02-09T20:43:02.081733Z"
    }
   },
   "outputs": [],
   "source": [
    "beta"
   ]
  },
  {
   "cell_type": "code",
   "execution_count": null,
   "metadata": {
    "ExecuteTime": {
     "end_time": "2020-02-09T20:43:03.343715Z",
     "start_time": "2020-02-09T20:43:03.340714Z"
    }
   },
   "outputs": [],
   "source": [
    "residual_ret = strategy_ret - beta * spy_ret"
   ]
  },
  {
   "cell_type": "code",
   "execution_count": null,
   "metadata": {
    "ExecuteTime": {
     "end_time": "2020-02-09T20:43:04.279350Z",
     "start_time": "2020-02-09T20:43:04.274357Z"
    }
   },
   "outputs": [],
   "source": [
    "IR = np.mean(residual_ret)/np.std(residual_ret)"
   ]
  },
  {
   "cell_type": "code",
   "execution_count": null,
   "metadata": {
    "ExecuteTime": {
     "end_time": "2020-02-09T20:43:04.957387Z",
     "start_time": "2020-02-09T20:43:04.952353Z"
    }
   },
   "outputs": [],
   "source": [
    "IR"
   ]
  },
  {
   "cell_type": "code",
   "execution_count": null,
   "metadata": {
    "ExecuteTime": {
     "end_time": "2020-02-09T20:43:08.280790Z",
     "start_time": "2020-02-09T20:43:08.275790Z"
    }
   },
   "outputs": [],
   "source": [
    "alpha = np.mean(residual_ret)"
   ]
  },
  {
   "cell_type": "code",
   "execution_count": null,
   "metadata": {
    "ExecuteTime": {
     "end_time": "2020-02-09T20:43:09.378792Z",
     "start_time": "2020-02-09T20:43:09.373790Z"
    }
   },
   "outputs": [],
   "source": [
    "alpha"
   ]
  },
  {
   "cell_type": "markdown",
   "metadata": {},
   "source": [
    "## Compute optimal features each quarter"
   ]
  },
  {
   "cell_type": "code",
   "execution_count": null,
   "metadata": {},
   "outputs": [],
   "source": [
    "import _pickle as cPickle"
   ]
  },
  {
   "cell_type": "code",
   "execution_count": null,
   "metadata": {},
   "outputs": [],
   "source": [
    "with open(r'C:\\Users\\niels\\OneDrive\\Machine Learning 2022\\Lecture 5\\opt_feat_4.pkl','rb') as f:\n",
    "    optimal_features = cPickle.load(f)"
   ]
  },
  {
   "cell_type": "code",
   "execution_count": null,
   "metadata": {},
   "outputs": [],
   "source": [
    "optimal_features"
   ]
  },
  {
   "cell_type": "code",
   "execution_count": null,
   "metadata": {},
   "outputs": [],
   "source": [
    "training_data = [d.reset_index().drop\n",
    "                                 (['ticker','date',\n",
    "                                   'next_period_return',\n",
    "                                   'spy_next_period_return',\n",
    "                                   'rel_performance','pred_rel_return',\n",
    "                                  'return', 'cum_ret', 'spy_cum_ret'],axis=1) for d in training_frames]"
   ]
  },
  {
   "cell_type": "code",
   "execution_count": null,
   "metadata": {},
   "outputs": [],
   "source": [
    "test_data = [d.reset_index().drop(['ticker','date',\n",
    "                                   'next_period_return',\n",
    "                                   'spy_next_period_return',\n",
    "                                   'rel_performance','pred_rel_return',\n",
    "                                  'return', 'cum_ret', 'spy_cum_ret'],axis=1) for d in valid_frames]"
   ]
  },
  {
   "cell_type": "code",
   "execution_count": null,
   "metadata": {},
   "outputs": [],
   "source": [
    "optimal_features"
   ]
  },
  {
   "cell_type": "code",
   "execution_count": null,
   "metadata": {},
   "outputs": [],
   "source": [
    "len(optimal_features)"
   ]
  },
  {
   "cell_type": "code",
   "execution_count": null,
   "metadata": {},
   "outputs": [],
   "source": [
    "rf_clf = RandomForestClassifier(**{'n_estimators': 20,\n",
    " 'max_features': 'sqrt',\n",
    " 'min_samples_leaf': 1600,\n",
    " 'max_depth': 10})"
   ]
  },
  {
   "cell_type": "code",
   "execution_count": null,
   "metadata": {},
   "outputs": [],
   "source": [
    "P_L = []\n",
    "x = [1]\n",
    "ret = []\n",
    "\n",
    "for i in range(len(optimal_features)-1):\n",
    "        rf_clf.fit(training_data[i][optimal_features[i-1]],training_labels[i])\n",
    "        pred_i = rf_clf.predict(test_data[i][optimal_features[i-1]])\n",
    "        profit_i = (pred_i * test_frames[i]['next_period_return']).sum()\n",
    "        P_L.append(profit_i)\n",
    "        num_positions = len(pred_i)\n",
    "        ret.append((1.0/num_positions) * profit_i)\n",
    "        x.append(x[i] + (x[i]/num_positions) * profit_i)"
   ]
  },
  {
   "cell_type": "code",
   "execution_count": null,
   "metadata": {},
   "outputs": [],
   "source": [
    "plt.plot(x[1:]);"
   ]
  },
  {
   "cell_type": "code",
   "execution_count": null,
   "metadata": {},
   "outputs": [],
   "source": [
    "SPY = pd.read_pickle(r'C:\\Users\\niels\\OneDrive\\Machine Learning 2022\\Lecture 2\\SPY_cum_ret.pkl')\n",
    "SPY = SPY.loc['2003-07-01':]\n",
    "SPY = SPY.resample('Q').ffill()\n",
    "SPY['spy_cum_ret'] = (SPY['spy_cum_ret'] - SPY['spy_cum_ret'][0] + 1)\n",
    "SPY['strategy'] = x"
   ]
  },
  {
   "cell_type": "code",
   "execution_count": null,
   "metadata": {},
   "outputs": [],
   "source": [
    "SPY.plot();"
   ]
  },
  {
   "cell_type": "code",
   "execution_count": null,
   "metadata": {},
   "outputs": [],
   "source": [
    "SPY = SPY.resample('Y').ffill()\n",
    "SPY.plot();"
   ]
  },
  {
   "cell_type": "code",
   "execution_count": null,
   "metadata": {},
   "outputs": [],
   "source": [
    "strategy_mean_ret = (SPY['strategy'] - 1).diff().mean()\n",
    "strategy_std = (SPY['strategy'] - 1).diff().std()\n",
    "strategy_sr = strategy_mean_ret/strategy_std\n",
    "print('Strategy Sharpe Ratio: ',strategy_sr)"
   ]
  },
  {
   "cell_type": "code",
   "execution_count": null,
   "metadata": {},
   "outputs": [],
   "source": [
    "strategy_ret = (SPY['strategy'] - 1).diff().values[1:]\n",
    "spy_ret = (SPY['spy_cum_ret'] - 1).diff().values[1:]"
   ]
  },
  {
   "cell_type": "code",
   "execution_count": null,
   "metadata": {},
   "outputs": [],
   "source": [
    "beta = (np.cov(spy_ret,strategy_ret)/np.var(spy_ret))[1,0]\n",
    "beta"
   ]
  },
  {
   "cell_type": "markdown",
   "metadata": {},
   "source": [
    "## Compute both optimal hyper-parameters and optimal features at each quarter"
   ]
  },
  {
   "cell_type": "code",
   "execution_count": null,
   "metadata": {},
   "outputs": [],
   "source": [
    "start_dates = [pd.to_datetime('2000-01-01') + pd.DateOffset(months = 3 * i) for i in range(62)]\n",
    "end_dates = [d + pd.DateOffset(months = 35) for d in start_dates]\n",
    "\n",
    "training_frames = [data.loc[d:d+pd.DateOffset(months = 36)] for d in start_dates]\n",
    "validation_frames = [data.loc[d:d+pd.DateOffset(months = 3)] for d in end_dates]\n",
    "test_frames = [data.loc[d + pd.DateOffset(months=6):d+pd.DateOffset(months = 9)] for d in end_dates]\n",
    "\n",
    "training_data = [d.reset_index().drop\n",
    "                                 (['ticker','date',\n",
    "                                   'next_period_return',\n",
    "                                   'spy_next_period_return',\n",
    "                                   'rel_performance','pred_rel_return',\n",
    "                                  'return', 'cum_ret', 'spy_cum_ret'],axis=1) for d in training_frames]\n",
    "validation_data = test_data = [d.reset_index().drop(['ticker','date',\n",
    "                                   'next_period_return',\n",
    "                                   'spy_next_period_return',\n",
    "                                   'rel_performance','pred_rel_return',\n",
    "                                  'return', 'cum_ret', 'spy_cum_ret'],axis=1) for d in validation_frames]\n",
    "test_data = [d.reset_index().drop(['ticker','date',\n",
    "                                   'next_period_return',\n",
    "                                   'spy_next_period_return',\n",
    "                                   'rel_performance','pred_rel_return',\n",
    "                                  'return', 'cum_ret', 'spy_cum_ret'],axis=1) for d in test_frames]\n",
    "\n",
    "training_labels = [d['rel_performance'].values for d in training_frames]\n",
    "validation_labels = [d['rel_performance'].values for d in validation_frames]"
   ]
  },
  {
   "cell_type": "code",
   "execution_count": null,
   "metadata": {},
   "outputs": [],
   "source": [
    "len(data.columns)"
   ]
  },
  {
   "cell_type": "code",
   "execution_count": null,
   "metadata": {},
   "outputs": [
    {
     "ename": "KeyboardInterrupt",
     "evalue": "",
     "output_type": "error",
     "traceback": [
      "\u001b[1;31m---------------------------------------------------------------------------\u001b[0m",
      "\u001b[1;31mKeyboardInterrupt\u001b[0m                         Traceback (most recent call last)",
      "File \u001b[1;32m<timed exec>:37\u001b[0m, in \u001b[0;36m<module>\u001b[1;34m\u001b[0m\n",
      "Input \u001b[1;32mIn [37]\u001b[0m, in \u001b[0;36mrandomforest_profit_importance\u001b[1;34m(m, df, rets)\u001b[0m\n\u001b[0;32m      1\u001b[0m \u001b[38;5;28;01mdef\u001b[39;00m \u001b[38;5;21mrandomforest_profit_importance\u001b[39m(m, df,rets):\n\u001b[1;32m----> 2\u001b[0m     \u001b[38;5;28;01mreturn\u001b[39;00m pd\u001b[38;5;241m.\u001b[39mDataFrame({\u001b[38;5;124m'\u001b[39m\u001b[38;5;124mcols\u001b[39m\u001b[38;5;124m'\u001b[39m:df\u001b[38;5;241m.\u001b[39mcolumns, \u001b[38;5;124m'\u001b[39m\u001b[38;5;124mpi_imp\u001b[39m\u001b[38;5;124m'\u001b[39m:\u001b[43mprofit_importance\u001b[49m\u001b[43m(\u001b[49m\u001b[43mm\u001b[49m\u001b[43m,\u001b[49m\u001b[43mdf\u001b[49m\u001b[43m,\u001b[49m\u001b[43mrets\u001b[49m\u001b[43m)\u001b[49m}\n\u001b[0;32m      3\u001b[0m                        )\u001b[38;5;241m.\u001b[39msort_values(\u001b[38;5;124m'\u001b[39m\u001b[38;5;124mpi_imp\u001b[39m\u001b[38;5;124m'\u001b[39m, ascending\u001b[38;5;241m=\u001b[39m\u001b[38;5;28;01mTrue\u001b[39;00m)\n",
      "Input \u001b[1;32mIn [36]\u001b[0m, in \u001b[0;36mprofit_importance\u001b[1;34m(m, df, rets)\u001b[0m\n\u001b[0;32m      7\u001b[0m     X \u001b[38;5;241m=\u001b[39m df\u001b[38;5;241m.\u001b[39mcopy()\n\u001b[0;32m      8\u001b[0m     X[col] \u001b[38;5;241m=\u001b[39m np\u001b[38;5;241m.\u001b[39mrandom\u001b[38;5;241m.\u001b[39mpermutation(df[col]\u001b[38;5;241m.\u001b[39mvalues)\n\u001b[1;32m----> 9\u001b[0m     prediction \u001b[38;5;241m=\u001b[39m \u001b[43mm\u001b[49m\u001b[38;5;241;43m.\u001b[39;49m\u001b[43mpredict\u001b[49m\u001b[43m(\u001b[49m\u001b[43mX\u001b[49m\u001b[43m)\u001b[49m\n\u001b[0;32m     10\u001b[0m     prof\u001b[38;5;241m.\u001b[39mappend((prediction \u001b[38;5;241m*\u001b[39m rets)\u001b[38;5;241m.\u001b[39msum())\n\u001b[0;32m     11\u001b[0m profit\u001b[38;5;241m.\u001b[39mappend(np\u001b[38;5;241m.\u001b[39mmean(prof))\n",
      "File \u001b[1;32m~\\anaconda3\\envs\\ai\\lib\\site-packages\\sklearn\\ensemble\\_forest.py:832\u001b[0m, in \u001b[0;36mForestClassifier.predict\u001b[1;34m(self, X)\u001b[0m\n\u001b[0;32m    811\u001b[0m \u001b[38;5;28;01mdef\u001b[39;00m \u001b[38;5;21mpredict\u001b[39m(\u001b[38;5;28mself\u001b[39m, X):\n\u001b[0;32m    812\u001b[0m     \u001b[38;5;124;03m\"\"\"\u001b[39;00m\n\u001b[0;32m    813\u001b[0m \u001b[38;5;124;03m    Predict class for X.\u001b[39;00m\n\u001b[0;32m    814\u001b[0m \n\u001b[1;32m   (...)\u001b[0m\n\u001b[0;32m    830\u001b[0m \u001b[38;5;124;03m        The predicted classes.\u001b[39;00m\n\u001b[0;32m    831\u001b[0m \u001b[38;5;124;03m    \"\"\"\u001b[39;00m\n\u001b[1;32m--> 832\u001b[0m     proba \u001b[38;5;241m=\u001b[39m \u001b[38;5;28;43mself\u001b[39;49m\u001b[38;5;241;43m.\u001b[39;49m\u001b[43mpredict_proba\u001b[49m\u001b[43m(\u001b[49m\u001b[43mX\u001b[49m\u001b[43m)\u001b[49m\n\u001b[0;32m    834\u001b[0m     \u001b[38;5;28;01mif\u001b[39;00m \u001b[38;5;28mself\u001b[39m\u001b[38;5;241m.\u001b[39mn_outputs_ \u001b[38;5;241m==\u001b[39m \u001b[38;5;241m1\u001b[39m:\n\u001b[0;32m    835\u001b[0m         \u001b[38;5;28;01mreturn\u001b[39;00m \u001b[38;5;28mself\u001b[39m\u001b[38;5;241m.\u001b[39mclasses_\u001b[38;5;241m.\u001b[39mtake(np\u001b[38;5;241m.\u001b[39margmax(proba, axis\u001b[38;5;241m=\u001b[39m\u001b[38;5;241m1\u001b[39m), axis\u001b[38;5;241m=\u001b[39m\u001b[38;5;241m0\u001b[39m)\n",
      "File \u001b[1;32m~\\anaconda3\\envs\\ai\\lib\\site-packages\\sklearn\\ensemble\\_forest.py:885\u001b[0m, in \u001b[0;36mForestClassifier.predict_proba\u001b[1;34m(self, X)\u001b[0m\n\u001b[0;32m    880\u001b[0m all_proba \u001b[38;5;241m=\u001b[39m [\n\u001b[0;32m    881\u001b[0m     np\u001b[38;5;241m.\u001b[39mzeros((X\u001b[38;5;241m.\u001b[39mshape[\u001b[38;5;241m0\u001b[39m], j), dtype\u001b[38;5;241m=\u001b[39mnp\u001b[38;5;241m.\u001b[39mfloat64)\n\u001b[0;32m    882\u001b[0m     \u001b[38;5;28;01mfor\u001b[39;00m j \u001b[38;5;129;01min\u001b[39;00m np\u001b[38;5;241m.\u001b[39matleast_1d(\u001b[38;5;28mself\u001b[39m\u001b[38;5;241m.\u001b[39mn_classes_)\n\u001b[0;32m    883\u001b[0m ]\n\u001b[0;32m    884\u001b[0m lock \u001b[38;5;241m=\u001b[39m threading\u001b[38;5;241m.\u001b[39mLock()\n\u001b[1;32m--> 885\u001b[0m \u001b[43mParallel\u001b[49m\u001b[43m(\u001b[49m\u001b[43mn_jobs\u001b[49m\u001b[38;5;241;43m=\u001b[39;49m\u001b[43mn_jobs\u001b[49m\u001b[43m,\u001b[49m\u001b[43m \u001b[49m\u001b[43mverbose\u001b[49m\u001b[38;5;241;43m=\u001b[39;49m\u001b[38;5;28;43mself\u001b[39;49m\u001b[38;5;241;43m.\u001b[39;49m\u001b[43mverbose\u001b[49m\u001b[43m,\u001b[49m\u001b[43m \u001b[49m\u001b[43mrequire\u001b[49m\u001b[38;5;241;43m=\u001b[39;49m\u001b[38;5;124;43m\"\u001b[39;49m\u001b[38;5;124;43msharedmem\u001b[39;49m\u001b[38;5;124;43m\"\u001b[39;49m\u001b[43m)\u001b[49m\u001b[43m(\u001b[49m\n\u001b[0;32m    886\u001b[0m \u001b[43m    \u001b[49m\u001b[43mdelayed\u001b[49m\u001b[43m(\u001b[49m\u001b[43m_accumulate_prediction\u001b[49m\u001b[43m)\u001b[49m\u001b[43m(\u001b[49m\u001b[43me\u001b[49m\u001b[38;5;241;43m.\u001b[39;49m\u001b[43mpredict_proba\u001b[49m\u001b[43m,\u001b[49m\u001b[43m \u001b[49m\u001b[43mX\u001b[49m\u001b[43m,\u001b[49m\u001b[43m \u001b[49m\u001b[43mall_proba\u001b[49m\u001b[43m,\u001b[49m\u001b[43m \u001b[49m\u001b[43mlock\u001b[49m\u001b[43m)\u001b[49m\n\u001b[0;32m    887\u001b[0m \u001b[43m    \u001b[49m\u001b[38;5;28;43;01mfor\u001b[39;49;00m\u001b[43m \u001b[49m\u001b[43me\u001b[49m\u001b[43m \u001b[49m\u001b[38;5;129;43;01min\u001b[39;49;00m\u001b[43m \u001b[49m\u001b[38;5;28;43mself\u001b[39;49m\u001b[38;5;241;43m.\u001b[39;49m\u001b[43mestimators_\u001b[49m\n\u001b[0;32m    888\u001b[0m \u001b[43m\u001b[49m\u001b[43m)\u001b[49m\n\u001b[0;32m    890\u001b[0m \u001b[38;5;28;01mfor\u001b[39;00m proba \u001b[38;5;129;01min\u001b[39;00m all_proba:\n\u001b[0;32m    891\u001b[0m     proba \u001b[38;5;241m/\u001b[39m\u001b[38;5;241m=\u001b[39m \u001b[38;5;28mlen\u001b[39m(\u001b[38;5;28mself\u001b[39m\u001b[38;5;241m.\u001b[39mestimators_)\n",
      "File \u001b[1;32m~\\anaconda3\\envs\\ai\\lib\\site-packages\\joblib\\parallel.py:1043\u001b[0m, in \u001b[0;36mParallel.__call__\u001b[1;34m(self, iterable)\u001b[0m\n\u001b[0;32m   1034\u001b[0m \u001b[38;5;28;01mtry\u001b[39;00m:\n\u001b[0;32m   1035\u001b[0m     \u001b[38;5;66;03m# Only set self._iterating to True if at least a batch\u001b[39;00m\n\u001b[0;32m   1036\u001b[0m     \u001b[38;5;66;03m# was dispatched. In particular this covers the edge\u001b[39;00m\n\u001b[1;32m   (...)\u001b[0m\n\u001b[0;32m   1040\u001b[0m     \u001b[38;5;66;03m# was very quick and its callback already dispatched all the\u001b[39;00m\n\u001b[0;32m   1041\u001b[0m     \u001b[38;5;66;03m# remaining jobs.\u001b[39;00m\n\u001b[0;32m   1042\u001b[0m     \u001b[38;5;28mself\u001b[39m\u001b[38;5;241m.\u001b[39m_iterating \u001b[38;5;241m=\u001b[39m \u001b[38;5;28;01mFalse\u001b[39;00m\n\u001b[1;32m-> 1043\u001b[0m     \u001b[38;5;28;01mif\u001b[39;00m \u001b[38;5;28;43mself\u001b[39;49m\u001b[38;5;241;43m.\u001b[39;49m\u001b[43mdispatch_one_batch\u001b[49m\u001b[43m(\u001b[49m\u001b[43miterator\u001b[49m\u001b[43m)\u001b[49m:\n\u001b[0;32m   1044\u001b[0m         \u001b[38;5;28mself\u001b[39m\u001b[38;5;241m.\u001b[39m_iterating \u001b[38;5;241m=\u001b[39m \u001b[38;5;28mself\u001b[39m\u001b[38;5;241m.\u001b[39m_original_iterator \u001b[38;5;129;01mis\u001b[39;00m \u001b[38;5;129;01mnot\u001b[39;00m \u001b[38;5;28;01mNone\u001b[39;00m\n\u001b[0;32m   1046\u001b[0m     \u001b[38;5;28;01mwhile\u001b[39;00m \u001b[38;5;28mself\u001b[39m\u001b[38;5;241m.\u001b[39mdispatch_one_batch(iterator):\n",
      "File \u001b[1;32m~\\anaconda3\\envs\\ai\\lib\\site-packages\\joblib\\parallel.py:861\u001b[0m, in \u001b[0;36mParallel.dispatch_one_batch\u001b[1;34m(self, iterator)\u001b[0m\n\u001b[0;32m    859\u001b[0m     \u001b[38;5;28;01mreturn\u001b[39;00m \u001b[38;5;28;01mFalse\u001b[39;00m\n\u001b[0;32m    860\u001b[0m \u001b[38;5;28;01melse\u001b[39;00m:\n\u001b[1;32m--> 861\u001b[0m     \u001b[38;5;28;43mself\u001b[39;49m\u001b[38;5;241;43m.\u001b[39;49m\u001b[43m_dispatch\u001b[49m\u001b[43m(\u001b[49m\u001b[43mtasks\u001b[49m\u001b[43m)\u001b[49m\n\u001b[0;32m    862\u001b[0m     \u001b[38;5;28;01mreturn\u001b[39;00m \u001b[38;5;28;01mTrue\u001b[39;00m\n",
      "File \u001b[1;32m~\\anaconda3\\envs\\ai\\lib\\site-packages\\joblib\\parallel.py:779\u001b[0m, in \u001b[0;36mParallel._dispatch\u001b[1;34m(self, batch)\u001b[0m\n\u001b[0;32m    777\u001b[0m \u001b[38;5;28;01mwith\u001b[39;00m \u001b[38;5;28mself\u001b[39m\u001b[38;5;241m.\u001b[39m_lock:\n\u001b[0;32m    778\u001b[0m     job_idx \u001b[38;5;241m=\u001b[39m \u001b[38;5;28mlen\u001b[39m(\u001b[38;5;28mself\u001b[39m\u001b[38;5;241m.\u001b[39m_jobs)\n\u001b[1;32m--> 779\u001b[0m     job \u001b[38;5;241m=\u001b[39m \u001b[38;5;28;43mself\u001b[39;49m\u001b[38;5;241;43m.\u001b[39;49m\u001b[43m_backend\u001b[49m\u001b[38;5;241;43m.\u001b[39;49m\u001b[43mapply_async\u001b[49m\u001b[43m(\u001b[49m\u001b[43mbatch\u001b[49m\u001b[43m,\u001b[49m\u001b[43m \u001b[49m\u001b[43mcallback\u001b[49m\u001b[38;5;241;43m=\u001b[39;49m\u001b[43mcb\u001b[49m\u001b[43m)\u001b[49m\n\u001b[0;32m    780\u001b[0m     \u001b[38;5;66;03m# A job can complete so quickly than its callback is\u001b[39;00m\n\u001b[0;32m    781\u001b[0m     \u001b[38;5;66;03m# called before we get here, causing self._jobs to\u001b[39;00m\n\u001b[0;32m    782\u001b[0m     \u001b[38;5;66;03m# grow. To ensure correct results ordering, .insert is\u001b[39;00m\n\u001b[0;32m    783\u001b[0m     \u001b[38;5;66;03m# used (rather than .append) in the following line\u001b[39;00m\n\u001b[0;32m    784\u001b[0m     \u001b[38;5;28mself\u001b[39m\u001b[38;5;241m.\u001b[39m_jobs\u001b[38;5;241m.\u001b[39minsert(job_idx, job)\n",
      "File \u001b[1;32m~\\anaconda3\\envs\\ai\\lib\\site-packages\\joblib\\_parallel_backends.py:208\u001b[0m, in \u001b[0;36mSequentialBackend.apply_async\u001b[1;34m(self, func, callback)\u001b[0m\n\u001b[0;32m    206\u001b[0m \u001b[38;5;28;01mdef\u001b[39;00m \u001b[38;5;21mapply_async\u001b[39m(\u001b[38;5;28mself\u001b[39m, func, callback\u001b[38;5;241m=\u001b[39m\u001b[38;5;28;01mNone\u001b[39;00m):\n\u001b[0;32m    207\u001b[0m     \u001b[38;5;124;03m\"\"\"Schedule a func to be run\"\"\"\u001b[39;00m\n\u001b[1;32m--> 208\u001b[0m     result \u001b[38;5;241m=\u001b[39m \u001b[43mImmediateResult\u001b[49m\u001b[43m(\u001b[49m\u001b[43mfunc\u001b[49m\u001b[43m)\u001b[49m\n\u001b[0;32m    209\u001b[0m     \u001b[38;5;28;01mif\u001b[39;00m callback:\n\u001b[0;32m    210\u001b[0m         callback(result)\n",
      "File \u001b[1;32m~\\anaconda3\\envs\\ai\\lib\\site-packages\\joblib\\_parallel_backends.py:572\u001b[0m, in \u001b[0;36mImmediateResult.__init__\u001b[1;34m(self, batch)\u001b[0m\n\u001b[0;32m    569\u001b[0m \u001b[38;5;28;01mdef\u001b[39;00m \u001b[38;5;21m__init__\u001b[39m(\u001b[38;5;28mself\u001b[39m, batch):\n\u001b[0;32m    570\u001b[0m     \u001b[38;5;66;03m# Don't delay the application, to avoid keeping the input\u001b[39;00m\n\u001b[0;32m    571\u001b[0m     \u001b[38;5;66;03m# arguments in memory\u001b[39;00m\n\u001b[1;32m--> 572\u001b[0m     \u001b[38;5;28mself\u001b[39m\u001b[38;5;241m.\u001b[39mresults \u001b[38;5;241m=\u001b[39m \u001b[43mbatch\u001b[49m\u001b[43m(\u001b[49m\u001b[43m)\u001b[49m\n",
      "File \u001b[1;32m~\\anaconda3\\envs\\ai\\lib\\site-packages\\joblib\\parallel.py:262\u001b[0m, in \u001b[0;36mBatchedCalls.__call__\u001b[1;34m(self)\u001b[0m\n\u001b[0;32m    258\u001b[0m \u001b[38;5;28;01mdef\u001b[39;00m \u001b[38;5;21m__call__\u001b[39m(\u001b[38;5;28mself\u001b[39m):\n\u001b[0;32m    259\u001b[0m     \u001b[38;5;66;03m# Set the default nested backend to self._backend but do not set the\u001b[39;00m\n\u001b[0;32m    260\u001b[0m     \u001b[38;5;66;03m# change the default number of processes to -1\u001b[39;00m\n\u001b[0;32m    261\u001b[0m     \u001b[38;5;28;01mwith\u001b[39;00m parallel_backend(\u001b[38;5;28mself\u001b[39m\u001b[38;5;241m.\u001b[39m_backend, n_jobs\u001b[38;5;241m=\u001b[39m\u001b[38;5;28mself\u001b[39m\u001b[38;5;241m.\u001b[39m_n_jobs):\n\u001b[1;32m--> 262\u001b[0m         \u001b[38;5;28;01mreturn\u001b[39;00m [func(\u001b[38;5;241m*\u001b[39margs, \u001b[38;5;241m*\u001b[39m\u001b[38;5;241m*\u001b[39mkwargs)\n\u001b[0;32m    263\u001b[0m                 \u001b[38;5;28;01mfor\u001b[39;00m func, args, kwargs \u001b[38;5;129;01min\u001b[39;00m \u001b[38;5;28mself\u001b[39m\u001b[38;5;241m.\u001b[39mitems]\n",
      "File \u001b[1;32m~\\anaconda3\\envs\\ai\\lib\\site-packages\\joblib\\parallel.py:262\u001b[0m, in \u001b[0;36m<listcomp>\u001b[1;34m(.0)\u001b[0m\n\u001b[0;32m    258\u001b[0m \u001b[38;5;28;01mdef\u001b[39;00m \u001b[38;5;21m__call__\u001b[39m(\u001b[38;5;28mself\u001b[39m):\n\u001b[0;32m    259\u001b[0m     \u001b[38;5;66;03m# Set the default nested backend to self._backend but do not set the\u001b[39;00m\n\u001b[0;32m    260\u001b[0m     \u001b[38;5;66;03m# change the default number of processes to -1\u001b[39;00m\n\u001b[0;32m    261\u001b[0m     \u001b[38;5;28;01mwith\u001b[39;00m parallel_backend(\u001b[38;5;28mself\u001b[39m\u001b[38;5;241m.\u001b[39m_backend, n_jobs\u001b[38;5;241m=\u001b[39m\u001b[38;5;28mself\u001b[39m\u001b[38;5;241m.\u001b[39m_n_jobs):\n\u001b[1;32m--> 262\u001b[0m         \u001b[38;5;28;01mreturn\u001b[39;00m [func(\u001b[38;5;241m*\u001b[39margs, \u001b[38;5;241m*\u001b[39m\u001b[38;5;241m*\u001b[39mkwargs)\n\u001b[0;32m    263\u001b[0m                 \u001b[38;5;28;01mfor\u001b[39;00m func, args, kwargs \u001b[38;5;129;01min\u001b[39;00m \u001b[38;5;28mself\u001b[39m\u001b[38;5;241m.\u001b[39mitems]\n",
      "File \u001b[1;32m~\\anaconda3\\envs\\ai\\lib\\site-packages\\sklearn\\utils\\fixes.py:117\u001b[0m, in \u001b[0;36m_FuncWrapper.__call__\u001b[1;34m(self, *args, **kwargs)\u001b[0m\n\u001b[0;32m    115\u001b[0m \u001b[38;5;28;01mdef\u001b[39;00m \u001b[38;5;21m__call__\u001b[39m(\u001b[38;5;28mself\u001b[39m, \u001b[38;5;241m*\u001b[39margs, \u001b[38;5;241m*\u001b[39m\u001b[38;5;241m*\u001b[39mkwargs):\n\u001b[0;32m    116\u001b[0m     \u001b[38;5;28;01mwith\u001b[39;00m config_context(\u001b[38;5;241m*\u001b[39m\u001b[38;5;241m*\u001b[39m\u001b[38;5;28mself\u001b[39m\u001b[38;5;241m.\u001b[39mconfig):\n\u001b[1;32m--> 117\u001b[0m         \u001b[38;5;28;01mreturn\u001b[39;00m \u001b[38;5;28mself\u001b[39m\u001b[38;5;241m.\u001b[39mfunction(\u001b[38;5;241m*\u001b[39margs, \u001b[38;5;241m*\u001b[39m\u001b[38;5;241m*\u001b[39mkwargs)\n",
      "File \u001b[1;32m~\\anaconda3\\envs\\ai\\lib\\site-packages\\sklearn\\ensemble\\_forest.py:664\u001b[0m, in \u001b[0;36m_accumulate_prediction\u001b[1;34m(predict, X, out, lock)\u001b[0m\n\u001b[0;32m    657\u001b[0m \u001b[38;5;28;01mdef\u001b[39;00m \u001b[38;5;21m_accumulate_prediction\u001b[39m(predict, X, out, lock):\n\u001b[0;32m    658\u001b[0m     \u001b[38;5;124;03m\"\"\"\u001b[39;00m\n\u001b[0;32m    659\u001b[0m \u001b[38;5;124;03m    This is a utility function for joblib's Parallel.\u001b[39;00m\n\u001b[0;32m    660\u001b[0m \n\u001b[0;32m    661\u001b[0m \u001b[38;5;124;03m    It can't go locally in ForestClassifier or ForestRegressor, because joblib\u001b[39;00m\n\u001b[0;32m    662\u001b[0m \u001b[38;5;124;03m    complains that it cannot pickle it when placed there.\u001b[39;00m\n\u001b[0;32m    663\u001b[0m \u001b[38;5;124;03m    \"\"\"\u001b[39;00m\n\u001b[1;32m--> 664\u001b[0m     prediction \u001b[38;5;241m=\u001b[39m \u001b[43mpredict\u001b[49m\u001b[43m(\u001b[49m\u001b[43mX\u001b[49m\u001b[43m,\u001b[49m\u001b[43m \u001b[49m\u001b[43mcheck_input\u001b[49m\u001b[38;5;241;43m=\u001b[39;49m\u001b[38;5;28;43;01mFalse\u001b[39;49;00m\u001b[43m)\u001b[49m\n\u001b[0;32m    665\u001b[0m     \u001b[38;5;28;01mwith\u001b[39;00m lock:\n\u001b[0;32m    666\u001b[0m         \u001b[38;5;28;01mif\u001b[39;00m \u001b[38;5;28mlen\u001b[39m(out) \u001b[38;5;241m==\u001b[39m \u001b[38;5;241m1\u001b[39m:\n",
      "File \u001b[1;32m~\\anaconda3\\envs\\ai\\lib\\site-packages\\sklearn\\tree\\_classes.py:1003\u001b[0m, in \u001b[0;36mDecisionTreeClassifier.predict_proba\u001b[1;34m(self, X, check_input)\u001b[0m\n\u001b[0;32m   1001\u001b[0m check_is_fitted(\u001b[38;5;28mself\u001b[39m)\n\u001b[0;32m   1002\u001b[0m X \u001b[38;5;241m=\u001b[39m \u001b[38;5;28mself\u001b[39m\u001b[38;5;241m.\u001b[39m_validate_X_predict(X, check_input)\n\u001b[1;32m-> 1003\u001b[0m proba \u001b[38;5;241m=\u001b[39m \u001b[38;5;28;43mself\u001b[39;49m\u001b[38;5;241;43m.\u001b[39;49m\u001b[43mtree_\u001b[49m\u001b[38;5;241;43m.\u001b[39;49m\u001b[43mpredict\u001b[49m\u001b[43m(\u001b[49m\u001b[43mX\u001b[49m\u001b[43m)\u001b[49m\n\u001b[0;32m   1005\u001b[0m \u001b[38;5;28;01mif\u001b[39;00m \u001b[38;5;28mself\u001b[39m\u001b[38;5;241m.\u001b[39mn_outputs_ \u001b[38;5;241m==\u001b[39m \u001b[38;5;241m1\u001b[39m:\n\u001b[0;32m   1006\u001b[0m     proba \u001b[38;5;241m=\u001b[39m proba[:, : \u001b[38;5;28mself\u001b[39m\u001b[38;5;241m.\u001b[39mn_classes_]\n",
      "\u001b[1;31mKeyboardInterrupt\u001b[0m: "
     ]
    }
   ],
   "source": [
    "%%time\n",
    "optimal_features = []\n",
    "classifiers = []\n",
    "\n",
    "for i in range(len(training_data)):\n",
    "    print(i)\n",
    "    \n",
    "    study = optuna.create_study(direction=\"maximize\")\n",
    "    study.optimize(partial(objective,train=training_data[i],\n",
    "                           labels=training_labels[i],\n",
    "                           val=validation_data[i],\n",
    "                           val_labels=validation_labels[i],\n",
    "                           val_rets = validation_frames[i]['next_period_return']),\n",
    "                           n_trials=100,n_jobs=-1)\n",
    "    params = study.best_params\n",
    "    \n",
    "    print(params)\n",
    "    \n",
    "    rf_clf = RandomForestClassifier(**params)\n",
    "\n",
    "    classifiers.append(rf_clf)\n",
    "    \n",
    "    rf_clf.fit(training_data[i],training_labels[i])\n",
    "    fi = randomforest_feat_importances(rf_clf,training_data[i])\n",
    "    features = fi[fi['feat_imp'] > 0.005]\n",
    "    \n",
    "    train = training_data[i][features['cols'].values].copy()\n",
    "    validation = validation_data[i][features['cols'].values].copy()\n",
    "    \n",
    "    \n",
    "    profits = []\n",
    "    feat=[]\n",
    "    \n",
    "    rf_clf.fit(train,training_labels[i])\n",
    "    \n",
    "    while len(train.columns)>1:\n",
    "        \n",
    "        pi = randomforest_profit_importance(rf_clf,validation,validation_frames[i]['next_period_return'])\n",
    "\n",
    "        col_to_drop = pi.iloc[-1]['cols']\n",
    "        train.drop(col_to_drop,axis=1,inplace=True)\n",
    "        validation.drop(col_to_drop,axis=1,inplace=True)\n",
    "        \n",
    "        rf_clf.fit(train,training_labels[i])\n",
    "        pred_valid = rf_clf.predict(validation)\n",
    "        profits.append((pred_valid * validation_frames[i]['next_period_return']).sum())\n",
    "        feat.append(train.columns)\n",
    "        \n",
    "    n = np.argmax(profits)\n",
    "\n",
    "    max_profits = profits[n]\n",
    "\n",
    "    optim_feats = feat[n]\n",
    "    \n",
    "    print(optim_feats)\n",
    "    print(max_profits)\n",
    "\n",
    "    optimal_features.append(optim_feats)"
   ]
  },
  {
   "cell_type": "code",
   "execution_count": null,
   "metadata": {},
   "outputs": [],
   "source": [
    "with open('opt_feat_11.pkl','rb') as f:\n",
    "    optimal_features = pickle.load(f)"
   ]
  },
  {
   "cell_type": "code",
   "execution_count": null,
   "metadata": {},
   "outputs": [],
   "source": [
    "with open('classifiers_11.pkl','rb') as f:\n",
    "    classifiers = pickle.load(f)"
   ]
  },
  {
   "cell_type": "code",
   "execution_count": null,
   "metadata": {},
   "outputs": [],
   "source": [
    "P_L = []\n",
    "x = [1]\n",
    "ret = []\n",
    "\n",
    "for i in range(len(optimal_features)-1):\n",
    "\n",
    "        classifiers[i-1].fit(training_data[i][optimal_features[i-1]],training_labels[i])\n",
    "        pred_i = classifiers[i-1].predict(test_data[i][optimal_features[i-1]])\n",
    "        \n",
    "        profit_i = (pred_i * test_frames[i]['next_period_return']).sum()\n",
    "        P_L.append(profit_i)\n",
    "        positions = np.sum(np.abs(pred_i))\n",
    "        \n",
    "        ret.append((1.0/positions) * profit_i)\n",
    "        x.append(x[i] + (x[i]/positions) * profit_i)"
   ]
  },
  {
   "cell_type": "code",
   "execution_count": null,
   "metadata": {},
   "outputs": [],
   "source": [
    "plt.plot(x);"
   ]
  },
  {
   "cell_type": "code",
   "execution_count": null,
   "metadata": {},
   "outputs": [],
   "source": [
    "SPY = pd.read_pickle(r'C:\\Users\\niels\\OneDrive\\Machine Learning 2022\\Lecture 2\\SPY_cum_ret.pkl')\n",
    "SPY = SPY.loc['2003-07-01':]\n",
    "SPY = SPY.resample('Q').ffill()\n",
    "SPY['spy_cum_ret'] = (SPY['spy_cum_ret'] - SPY['spy_cum_ret'][0] + 1)\n",
    "SPY['strategy'] = x"
   ]
  },
  {
   "cell_type": "code",
   "execution_count": null,
   "metadata": {},
   "outputs": [],
   "source": [
    "SPY.plot();"
   ]
  },
  {
   "cell_type": "code",
   "execution_count": null,
   "metadata": {},
   "outputs": [],
   "source": [
    "SPY.tail()"
   ]
  },
  {
   "cell_type": "code",
   "execution_count": null,
   "metadata": {},
   "outputs": [],
   "source": [
    "SPY = SPY.resample('A').bfill()"
   ]
  },
  {
   "cell_type": "code",
   "execution_count": null,
   "metadata": {},
   "outputs": [],
   "source": [
    "SPY.plot();"
   ]
  },
  {
   "cell_type": "code",
   "execution_count": null,
   "metadata": {},
   "outputs": [],
   "source": [
    "strategy_mean_ret = (SPY['strategy'] - 1).diff().mean()\n",
    "strategy_std = (SPY['strategy'] - 1).diff().std()\n",
    "strategy_sr = strategy_mean_ret/strategy_std\n",
    "print('Strategy Sharpe Ratio: ',strategy_sr)"
   ]
  },
  {
   "cell_type": "code",
   "execution_count": null,
   "metadata": {},
   "outputs": [],
   "source": [
    "(SPY['spy_cum_ret'] - 1).diff().mean()\n",
    "(SPY['spy_cum_ret'] - 1).diff().std()\n",
    "print('SP Sharpe Ratio: ',(SPY['spy_cum_ret'] - 1).diff().mean()/(SPY['spy_cum_ret'] - 1).diff().std())"
   ]
  },
  {
   "cell_type": "code",
   "execution_count": null,
   "metadata": {},
   "outputs": [],
   "source": [
    "avr = np.exp(np.log(x[-1])/15.) - 1\n",
    "print('Average annual return: ',avr)\n",
    "sp_avr = np.exp(np.log(SPY['spy_cum_ret'][-1])/15) - 1\n",
    "print('SPY average annual return: ', sp_avr)"
   ]
  },
  {
   "cell_type": "code",
   "execution_count": null,
   "metadata": {},
   "outputs": [],
   "source": [
    "strategy_ret = (SPY['strategy'] - 1).diff().values[1:]\n",
    "spy_ret = (SPY['spy_cum_ret'] - 1).diff().values[1:]\n",
    "beta = (np.cov(spy_ret,strategy_ret)/np.var(spy_ret))[1,0]\n",
    "print('beta: ',beta)\n",
    "residual_ret = strategy_ret - beta * spy_ret\n",
    "IR = np.mean(residual_ret)/np.std(residual_ret)\n",
    "print('Information Ratio: ',IR)"
   ]
  },
  {
   "cell_type": "code",
   "execution_count": null,
   "metadata": {},
   "outputs": [],
   "source": [
    "alpha = np.mean(residual_ret)\n",
    "print('Strategy alpha: ',alpha)"
   ]
  },
  {
   "cell_type": "code",
   "execution_count": null,
   "metadata": {},
   "outputs": [],
   "source": [
    "starting_year='2010'\n",
    "a = SPY.loc[starting_year]['spy_cum_ret'].values\n",
    "b = SPY.loc[starting_year]['strategy'].values\n",
    "plt.plot(SPY.loc[starting_year:]['spy_cum_ret'] - a + 1);\n",
    "plt.plot(SPY.loc[starting_year:]['strategy'] - b + 1);"
   ]
  },
  {
   "cell_type": "code",
   "execution_count": null,
   "metadata": {},
   "outputs": [],
   "source": [
    "def max_drawdown(returns):\n",
    "        local_max = [n for n in range(len(returns)-1) if ((n==0) and (returns[0] > returns[1])) or \n",
    "           ((n > 0) and  (returns[n-1]<returns[n]) and (returns[n+1]<returns[n]))] \n",
    "        \n",
    "        local_min = [n for n in range(1,len(returns)) if ((n == len(returns)-1) and (returns[-1] < returns[-2])) or\n",
    "                (returns[n-1]>returns[n]) and (returns[n+1]>returns[n])]\n",
    "        \n",
    "        def next_local_min(n):\n",
    "            if [m for m in local_min if m > n]:\n",
    "                return [m for m in local_min if m > n][0]\n",
    "            else: return None\n",
    "        \n",
    "        drawdowns = [(n,next_local_min(n)) for n in local_max]\n",
    "        drawdown_values = [returns[n] - returns[m] for (n,m) in drawdowns if m != None]\n",
    "        if drawdown_values:\n",
    "            return  np.max(drawdown_values)\n",
    "        else: return 0.0"
   ]
  },
  {
   "cell_type": "code",
   "execution_count": null,
   "metadata": {},
   "outputs": [],
   "source": [
    "max_drawdown(SPY['strategy'])"
   ]
  },
  {
   "cell_type": "code",
   "execution_count": null,
   "metadata": {},
   "outputs": [],
   "source": [
    "max_drawdown(SPY['spy_cum_ret'])"
   ]
  },
  {
   "cell_type": "code",
   "execution_count": null,
   "metadata": {},
   "outputs": [],
   "source": []
  }
 ],
 "metadata": {
  "kernelspec": {
   "display_name": "Python 3 (ipykernel)",
   "language": "python",
   "name": "python3"
  },
  "language_info": {
   "codemirror_mode": {
    "name": "ipython",
    "version": 3
   },
   "file_extension": ".py",
   "mimetype": "text/x-python",
   "name": "python",
   "nbconvert_exporter": "python",
   "pygments_lexer": "ipython3",
   "version": "3.11.4"
  },
  "latex_envs": {
   "LaTeX_envs_menu_present": true,
   "autoclose": false,
   "autocomplete": true,
   "bibliofile": "biblio.bib",
   "cite_by": "apalike",
   "current_citInitial": 1,
   "eqLabelWithNumbers": true,
   "eqNumInitial": 1,
   "hotkeys": {
    "equation": "Ctrl-E",
    "itemize": "Ctrl-I"
   },
   "labels_anchors": false,
   "latex_user_defs": false,
   "report_style_numbering": false,
   "user_envs_cfg": false
  }
 },
 "nbformat": 4,
 "nbformat_minor": 4
}
