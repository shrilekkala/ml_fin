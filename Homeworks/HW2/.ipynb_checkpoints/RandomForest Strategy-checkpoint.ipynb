{
 "cells": [
  {
   "cell_type": "code",
   "execution_count": 1,
   "metadata": {
    "ExecuteTime": {
     "end_time": "2020-03-03T02:04:18.675044Z",
     "start_time": "2020-03-03T02:04:15.120387Z"
    }
   },
   "outputs": [],
   "source": [
    "import pandas as pd\n",
    "import numpy as np\n",
    "import matplotlib.pyplot as plt\n",
    "%matplotlib inline\n",
    "from sklearn.metrics import accuracy_score, confusion_matrix\n",
    "from sklearn.tree import DecisionTreeClassifier\n",
    "from sklearn.ensemble import RandomForestClassifier\n",
    "import sklearn\n",
    "pd.set_option('use_inf_as_na', True)\n",
    "from collections import Counter"
   ]
  },
  {
   "cell_type": "code",
   "execution_count": 2,
   "metadata": {
    "ExecuteTime": {
     "end_time": "2020-03-03T02:04:21.903526Z",
     "start_time": "2020-03-03T02:04:19.923963Z"
    }
   },
   "outputs": [],
   "source": [
    "raw_data = pd.read_pickle(r'C:\\Users\\niels\\OneDrive\\Machine Learning 2022\\Lecture 2\\dataset.pkl')\n",
    "data = raw_data[raw_data['market_cap'] > 1000.0]\n",
    "data = data.copy()\n",
    "data.fillna(0.0,inplace=True)"
   ]
  },
  {
   "cell_type": "code",
   "execution_count": 3,
   "metadata": {
    "ExecuteTime": {
     "end_time": "2020-03-03T02:04:24.516696Z",
     "start_time": "2020-03-03T02:04:24.512695Z"
    }
   },
   "outputs": [],
   "source": [
    "def f(x):\n",
    "    if x > 0.01:\n",
    "        return 1\n",
    "    elif x < -0.01:\n",
    "        return -1\n",
    "    else:\n",
    "    \n",
    "        return 0"
   ]
  },
  {
   "cell_type": "code",
   "execution_count": 4,
   "metadata": {
    "ExecuteTime": {
     "end_time": "2020-03-03T02:04:30.421746Z",
     "start_time": "2020-03-03T02:04:30.370536Z"
    }
   },
   "outputs": [],
   "source": [
    "data['rel_performance'] = data['pred_rel_return'].apply(f)\n",
    "data.reset_index(inplace=True)\n",
    "data.set_index('date',inplace=True)"
   ]
  },
  {
   "cell_type": "code",
   "execution_count": 5,
   "metadata": {
    "ExecuteTime": {
     "end_time": "2020-03-03T02:04:34.295145Z",
     "start_time": "2020-03-03T02:04:34.274571Z"
    }
   },
   "outputs": [],
   "source": [
    "df_1 = data.loc['2010-01-01':'2013-01-01']\n",
    "df_valid = data.loc['2013-04-01':'2013-07-01']\n",
    "df_test = data.loc['2013-07-01':'2013-10-01']"
   ]
  },
  {
   "cell_type": "code",
   "execution_count": 6,
   "metadata": {
    "ExecuteTime": {
     "end_time": "2020-03-03T02:04:37.819124Z",
     "start_time": "2020-03-03T02:04:37.692118Z"
    }
   },
   "outputs": [],
   "source": [
    "train_1 = df_1.reset_index().drop(['ticker','date',\n",
    "                                   'next_period_return',\n",
    "                                   'spy_next_period_return',\n",
    "                                   'rel_performance','pred_rel_return',\n",
    "                                  'return', 'cum_ret', 'spy_cum_ret'],axis=1)\n",
    "\n",
    "valid = df_valid.reset_index().drop(['ticker','date',\n",
    "                                    'next_period_return',\n",
    "                                   'spy_next_period_return',\n",
    "                                   'rel_performance','pred_rel_return',\n",
    "                                  'return', 'cum_ret', 'spy_cum_ret'],axis=1)\n",
    "test = df_test.reset_index().drop(['ticker','date',\n",
    "                                   'next_period_return',\n",
    "                                   'spy_next_period_return',\n",
    "                                   'rel_performance','pred_rel_return',\n",
    "                                  'return', 'cum_ret', 'spy_cum_ret'],axis=1)"
   ]
  },
  {
   "cell_type": "code",
   "execution_count": 7,
   "metadata": {
    "ExecuteTime": {
     "end_time": "2020-03-03T02:04:41.533183Z",
     "start_time": "2020-03-03T02:04:41.527143Z"
    }
   },
   "outputs": [],
   "source": [
    "train_1_stock_returns = df_1['next_period_return']\n",
    "valid_stock_returns = df_valid['next_period_return']\n",
    "test_stock_returns = df_test['next_period_return']\n",
    "\n",
    "y_1 = df_1['rel_performance']\n",
    "y_valid = df_valid['rel_performance']\n",
    "y_test = df_test['rel_performance']\n",
    "\n",
    "y_1 = y_1.values\n",
    "y_valid = y_valid.values\n",
    "y_test = y_test.values"
   ]
  },
  {
   "cell_type": "markdown",
   "metadata": {},
   "source": [
    "## Importing Optuna and suppressing warning messages"
   ]
  },
  {
   "cell_type": "code",
   "execution_count": 8,
   "metadata": {
    "ExecuteTime": {
     "end_time": "2020-03-03T02:12:00.595366Z",
     "start_time": "2020-03-03T02:12:00.592375Z"
    }
   },
   "outputs": [],
   "source": [
    "import optuna\n",
    "from optuna.trial import Trial\n",
    "optuna.logging.set_verbosity(optuna.logging.FATAL)\n",
    "import warnings\n",
    "warnings.filterwarnings(\"ignore\")"
   ]
  },
  {
   "cell_type": "markdown",
   "metadata": {},
   "source": [
    "## Defining the Optuna objective function"
   ]
  },
  {
   "cell_type": "code",
   "execution_count": 9,
   "metadata": {},
   "outputs": [],
   "source": [
    "def objective(trial:Trial,train=None,labels=None,val=None,val_labels=None,val_rets=None):\n",
    "\n",
    "    rf_n_estimators = trial.suggest_int('n_estimators', 10,40,step=5)\n",
    "    rf_max_features = trial.suggest_categorical('max_features',['sqrt','log2'])\n",
    "    rf_min_samples_leaf = trial.suggest_int('min_samples_leaf',800,2400,step=800)\n",
    "    rf_max_depth = trial.suggest_int('max_depth',4,15)\n",
    "    \n",
    "    rf_clf = RandomForestClassifier(n_estimators=rf_n_estimators,\n",
    "                                    max_depth=rf_max_depth,\n",
    "                                    min_samples_leaf=rf_min_samples_leaf,\n",
    "                                    max_features=rf_max_features)\n",
    "    rf_clf.fit(train,labels)\n",
    "    accuracy = rf_clf.score(val,val_labels)\n",
    " \n",
    "    return accuracy"
   ]
  },
  {
   "cell_type": "code",
   "execution_count": 10,
   "metadata": {},
   "outputs": [],
   "source": [
    "study = optuna.create_study(direction=\"maximize\")"
   ]
  },
  {
   "cell_type": "code",
   "execution_count": 11,
   "metadata": {},
   "outputs": [],
   "source": [
    "from functools import partial"
   ]
  },
  {
   "cell_type": "code",
   "execution_count": 12,
   "metadata": {},
   "outputs": [
    {
     "name": "stdout",
     "output_type": "stream",
     "text": [
      "CPU times: total: 5min 47s\n",
      "Wall time: 1min 53s\n"
     ]
    }
   ],
   "source": [
    "%%time\n",
    "study.optimize(partial(objective,train=train_1,labels=y_1,val=valid,val_labels=y_valid,val_rets=valid_stock_returns), n_trials=200,n_jobs=-1)"
   ]
  },
  {
   "cell_type": "code",
   "execution_count": 13,
   "metadata": {},
   "outputs": [
    {
     "data": {
      "text/plain": [
       "{'n_estimators': 20,\n",
       " 'max_features': 'sqrt',\n",
       " 'min_samples_leaf': 2400,\n",
       " 'max_depth': 12}"
      ]
     },
     "execution_count": 13,
     "metadata": {},
     "output_type": "execute_result"
    }
   ],
   "source": [
    "study.best_params"
   ]
  },
  {
   "cell_type": "code",
   "execution_count": 14,
   "metadata": {},
   "outputs": [],
   "source": [
    "rf_clf = RandomForestClassifier(**study.best_params)"
   ]
  },
  {
   "cell_type": "code",
   "execution_count": 15,
   "metadata": {
    "ExecuteTime": {
     "end_time": "2020-02-11T00:26:13.188561Z",
     "start_time": "2020-02-11T00:26:13.054541Z"
    }
   },
   "outputs": [
    {
     "data": {
      "text/html": [
       "<style>#sk-container-id-1 {color: black;}#sk-container-id-1 pre{padding: 0;}#sk-container-id-1 div.sk-toggleable {background-color: white;}#sk-container-id-1 label.sk-toggleable__label {cursor: pointer;display: block;width: 100%;margin-bottom: 0;padding: 0.3em;box-sizing: border-box;text-align: center;}#sk-container-id-1 label.sk-toggleable__label-arrow:before {content: \"▸\";float: left;margin-right: 0.25em;color: #696969;}#sk-container-id-1 label.sk-toggleable__label-arrow:hover:before {color: black;}#sk-container-id-1 div.sk-estimator:hover label.sk-toggleable__label-arrow:before {color: black;}#sk-container-id-1 div.sk-toggleable__content {max-height: 0;max-width: 0;overflow: hidden;text-align: left;background-color: #f0f8ff;}#sk-container-id-1 div.sk-toggleable__content pre {margin: 0.2em;color: black;border-radius: 0.25em;background-color: #f0f8ff;}#sk-container-id-1 input.sk-toggleable__control:checked~div.sk-toggleable__content {max-height: 200px;max-width: 100%;overflow: auto;}#sk-container-id-1 input.sk-toggleable__control:checked~label.sk-toggleable__label-arrow:before {content: \"▾\";}#sk-container-id-1 div.sk-estimator input.sk-toggleable__control:checked~label.sk-toggleable__label {background-color: #d4ebff;}#sk-container-id-1 div.sk-label input.sk-toggleable__control:checked~label.sk-toggleable__label {background-color: #d4ebff;}#sk-container-id-1 input.sk-hidden--visually {border: 0;clip: rect(1px 1px 1px 1px);clip: rect(1px, 1px, 1px, 1px);height: 1px;margin: -1px;overflow: hidden;padding: 0;position: absolute;width: 1px;}#sk-container-id-1 div.sk-estimator {font-family: monospace;background-color: #f0f8ff;border: 1px dotted black;border-radius: 0.25em;box-sizing: border-box;margin-bottom: 0.5em;}#sk-container-id-1 div.sk-estimator:hover {background-color: #d4ebff;}#sk-container-id-1 div.sk-parallel-item::after {content: \"\";width: 100%;border-bottom: 1px solid gray;flex-grow: 1;}#sk-container-id-1 div.sk-label:hover label.sk-toggleable__label {background-color: #d4ebff;}#sk-container-id-1 div.sk-serial::before {content: \"\";position: absolute;border-left: 1px solid gray;box-sizing: border-box;top: 0;bottom: 0;left: 50%;z-index: 0;}#sk-container-id-1 div.sk-serial {display: flex;flex-direction: column;align-items: center;background-color: white;padding-right: 0.2em;padding-left: 0.2em;position: relative;}#sk-container-id-1 div.sk-item {position: relative;z-index: 1;}#sk-container-id-1 div.sk-parallel {display: flex;align-items: stretch;justify-content: center;background-color: white;position: relative;}#sk-container-id-1 div.sk-item::before, #sk-container-id-1 div.sk-parallel-item::before {content: \"\";position: absolute;border-left: 1px solid gray;box-sizing: border-box;top: 0;bottom: 0;left: 50%;z-index: -1;}#sk-container-id-1 div.sk-parallel-item {display: flex;flex-direction: column;z-index: 1;position: relative;background-color: white;}#sk-container-id-1 div.sk-parallel-item:first-child::after {align-self: flex-end;width: 50%;}#sk-container-id-1 div.sk-parallel-item:last-child::after {align-self: flex-start;width: 50%;}#sk-container-id-1 div.sk-parallel-item:only-child::after {width: 0;}#sk-container-id-1 div.sk-dashed-wrapped {border: 1px dashed gray;margin: 0 0.4em 0.5em 0.4em;box-sizing: border-box;padding-bottom: 0.4em;background-color: white;}#sk-container-id-1 div.sk-label label {font-family: monospace;font-weight: bold;display: inline-block;line-height: 1.2em;}#sk-container-id-1 div.sk-label-container {text-align: center;}#sk-container-id-1 div.sk-container {/* jupyter's `normalize.less` sets `[hidden] { display: none; }` but bootstrap.min.css set `[hidden] { display: none !important; }` so we also need the `!important` here to be able to override the default hidden behavior on the sphinx rendered scikit-learn.org. See: https://github.com/scikit-learn/scikit-learn/issues/21755 */display: inline-block !important;position: relative;}#sk-container-id-1 div.sk-text-repr-fallback {display: none;}</style><div id=\"sk-container-id-1\" class=\"sk-top-container\"><div class=\"sk-text-repr-fallback\"><pre>RandomForestClassifier(max_depth=12, min_samples_leaf=2400, n_estimators=20)</pre><b>In a Jupyter environment, please rerun this cell to show the HTML representation or trust the notebook. <br />On GitHub, the HTML representation is unable to render, please try loading this page with nbviewer.org.</b></div><div class=\"sk-container\" hidden><div class=\"sk-item\"><div class=\"sk-estimator sk-toggleable\"><input class=\"sk-toggleable__control sk-hidden--visually\" id=\"sk-estimator-id-1\" type=\"checkbox\" checked><label for=\"sk-estimator-id-1\" class=\"sk-toggleable__label sk-toggleable__label-arrow\">RandomForestClassifier</label><div class=\"sk-toggleable__content\"><pre>RandomForestClassifier(max_depth=12, min_samples_leaf=2400, n_estimators=20)</pre></div></div></div></div></div>"
      ],
      "text/plain": [
       "RandomForestClassifier(max_depth=12, min_samples_leaf=2400, n_estimators=20)"
      ]
     },
     "execution_count": 15,
     "metadata": {},
     "output_type": "execute_result"
    }
   ],
   "source": [
    "rf_clf.fit(train_1,y_1)"
   ]
  },
  {
   "cell_type": "code",
   "execution_count": 16,
   "metadata": {},
   "outputs": [],
   "source": [
    "preds=rf_clf.predict(valid)"
   ]
  },
  {
   "cell_type": "code",
   "execution_count": 17,
   "metadata": {},
   "outputs": [
    {
     "data": {
      "text/plain": [
       "139.483124"
      ]
     },
     "execution_count": 17,
     "metadata": {},
     "output_type": "execute_result"
    }
   ],
   "source": [
    "valid_profit = (preds * df_valid['next_period_return']).sum()\n",
    "valid_profit"
   ]
  },
  {
   "cell_type": "code",
   "execution_count": 18,
   "metadata": {},
   "outputs": [],
   "source": [
    "pred_test=rf_clf.predict(test)"
   ]
  },
  {
   "cell_type": "code",
   "execution_count": 19,
   "metadata": {},
   "outputs": [
    {
     "data": {
      "text/plain": [
       "103.55386699999994"
      ]
     },
     "execution_count": 19,
     "metadata": {},
     "output_type": "execute_result"
    }
   ],
   "source": [
    "test_profit = (pred_test * df_test['next_period_return']).sum()\n",
    "test_profit"
   ]
  },
  {
   "cell_type": "code",
   "execution_count": 20,
   "metadata": {
    "ExecuteTime": {
     "end_time": "2020-02-11T00:26:34.187187Z",
     "start_time": "2020-02-11T00:26:34.155597Z"
    }
   },
   "outputs": [
    {
     "data": {
      "text/plain": [
       "array([[  0,   0, 789],\n",
       "       [  0,   0, 162],\n",
       "       [  0,   0, 850]], dtype=int64)"
      ]
     },
     "execution_count": 20,
     "metadata": {},
     "output_type": "execute_result"
    }
   ],
   "source": [
    "confusion_matrix(y_test,pred_test)"
   ]
  },
  {
   "cell_type": "code",
   "execution_count": 21,
   "metadata": {},
   "outputs": [
    {
     "data": {
      "text/plain": [
       "0.5125714285714286"
      ]
     },
     "execution_count": 21,
     "metadata": {},
     "output_type": "execute_result"
    }
   ],
   "source": [
    "accuracy_score(preds,y_valid)"
   ]
  },
  {
   "cell_type": "code",
   "execution_count": 22,
   "metadata": {},
   "outputs": [
    {
     "data": {
      "text/plain": [
       "0.4719600222098834"
      ]
     },
     "execution_count": 22,
     "metadata": {},
     "output_type": "execute_result"
    }
   ],
   "source": [
    "accuracy_score(pred_test,y_test)"
   ]
  },
  {
   "cell_type": "code",
   "execution_count": 23,
   "metadata": {
    "ExecuteTime": {
     "end_time": "2020-02-11T00:25:49.640309Z",
     "start_time": "2020-02-11T00:25:49.632310Z"
    }
   },
   "outputs": [
    {
     "data": {
      "text/plain": [
       "725"
      ]
     },
     "execution_count": 23,
     "metadata": {},
     "output_type": "execute_result"
    }
   ],
   "source": [
    "len(train_1.columns)"
   ]
  },
  {
   "cell_type": "code",
   "execution_count": null,
   "metadata": {},
   "outputs": [],
   "source": []
  },
  {
   "cell_type": "code",
   "execution_count": 24,
   "metadata": {
    "ExecuteTime": {
     "end_time": "2020-02-11T00:30:26.233418Z",
     "start_time": "2020-02-11T00:30:26.207352Z"
    }
   },
   "outputs": [],
   "source": [
    "def randomforest_feat_importances(m, df):\n",
    "        \n",
    "    return pd.DataFrame({'cols':df.columns, 'feat_imp': m.feature_importances_}\n",
    "                       ).sort_values('feat_imp', ascending=False)\n",
    "\n",
    "def plot_fi(fi): return fi.plot('cols', 'feat_imp', 'barh', figsize=(12,7), legend=False)"
   ]
  },
  {
   "cell_type": "code",
   "execution_count": 25,
   "metadata": {
    "ExecuteTime": {
     "end_time": "2020-02-11T00:30:29.412179Z",
     "start_time": "2020-02-11T00:30:29.298179Z"
    }
   },
   "outputs": [],
   "source": [
    "fi = randomforest_feat_importances(rf_clf,train_1)"
   ]
  },
  {
   "cell_type": "code",
   "execution_count": 26,
   "metadata": {
    "ExecuteTime": {
     "end_time": "2020-02-11T00:31:01.727197Z",
     "start_time": "2020-02-11T00:31:01.717164Z"
    }
   },
   "outputs": [],
   "source": [
    "features = fi[(fi['feat_imp'] > 0.00)]"
   ]
  },
  {
   "cell_type": "code",
   "execution_count": 27,
   "metadata": {
    "ExecuteTime": {
     "end_time": "2020-02-11T00:31:04.292915Z",
     "start_time": "2020-02-11T00:31:04.276239Z"
    }
   },
   "outputs": [
    {
     "data": {
      "text/plain": [
       "(41, 2)"
      ]
     },
     "execution_count": 27,
     "metadata": {},
     "output_type": "execute_result"
    }
   ],
   "source": [
    "features.shape"
   ]
  },
  {
   "cell_type": "code",
   "execution_count": 28,
   "metadata": {
    "ExecuteTime": {
     "end_time": "2020-02-09T18:41:42.955393Z",
     "start_time": "2020-02-09T18:41:41.132339Z"
    },
    "scrolled": true
   },
   "outputs": [
    {
     "data": {
      "image/png": "[encoded data removed]",
      "text/plain": [
       "<Figure size 1200x700 with 1 Axes>"
      ]
     },
     "metadata": {},
     "output_type": "display_data"
    }
   ],
   "source": [
    "plot_fi(features);"
   ]
  },
  {
   "cell_type": "code",
   "execution_count": 29,
   "metadata": {
    "ExecuteTime": {
     "end_time": "2020-02-09T18:41:50.410724Z",
     "start_time": "2020-02-09T18:41:50.386727Z"
    }
   },
   "outputs": [
    {
     "data": {
      "text/html": [
       "<div>\n",
       "<style scoped>\n",
       "    .dataframe tbody tr th:only-of-type {\n",
       "        vertical-align: middle;\n",
       "    }\n",
       "\n",
       "    .dataframe tbody tr th {\n",
       "        vertical-align: top;\n",
       "    }\n",
       "\n",
       "    .dataframe thead th {\n",
       "        text-align: right;\n",
       "    }\n",
       "</style>\n",
       "<table border=\"1\" class=\"dataframe\">\n",
       "  <thead>\n",
       "    <tr style=\"text-align: right;\">\n",
       "      <th></th>\n",
       "      <th>cols</th>\n",
       "      <th>feat_imp</th>\n",
       "    </tr>\n",
       "  </thead>\n",
       "  <tbody>\n",
       "    <tr>\n",
       "      <th>156</th>\n",
       "      <td>fcf_yield</td>\n",
       "      <td>0.068014</td>\n",
       "    </tr>\n",
       "    <tr>\n",
       "      <th>79</th>\n",
       "      <td>revty</td>\n",
       "      <td>0.060568</td>\n",
       "    </tr>\n",
       "    <tr>\n",
       "      <th>155</th>\n",
       "      <td>fcf_csfhdq</td>\n",
       "      <td>0.056258</td>\n",
       "    </tr>\n",
       "    <tr>\n",
       "      <th>76</th>\n",
       "      <td>oancfy</td>\n",
       "      <td>0.055948</td>\n",
       "    </tr>\n",
       "    <tr>\n",
       "      <th>141</th>\n",
       "      <td>int_debtq</td>\n",
       "      <td>0.053337</td>\n",
       "    </tr>\n",
       "    <tr>\n",
       "      <th>132</th>\n",
       "      <td>aftret_invcapxq</td>\n",
       "      <td>0.045637</td>\n",
       "    </tr>\n",
       "    <tr>\n",
       "      <th>53</th>\n",
       "      <td>seqq</td>\n",
       "      <td>0.035630</td>\n",
       "    </tr>\n",
       "    <tr>\n",
       "      <th>1</th>\n",
       "      <td>apq</td>\n",
       "      <td>0.035356</td>\n",
       "    </tr>\n",
       "    <tr>\n",
       "      <th>49</th>\n",
       "      <td>rectq</td>\n",
       "      <td>0.032586</td>\n",
       "    </tr>\n",
       "    <tr>\n",
       "      <th>175</th>\n",
       "      <td>sale_nwcq</td>\n",
       "      <td>0.030328</td>\n",
       "    </tr>\n",
       "    <tr>\n",
       "      <th>73</th>\n",
       "      <td>ibcomy</td>\n",
       "      <td>0.030303</td>\n",
       "    </tr>\n",
       "    <tr>\n",
       "      <th>109</th>\n",
       "      <td>npmq</td>\n",
       "      <td>0.026720</td>\n",
       "    </tr>\n",
       "    <tr>\n",
       "      <th>32</th>\n",
       "      <td>ltq</td>\n",
       "      <td>0.026068</td>\n",
       "    </tr>\n",
       "    <tr>\n",
       "      <th>61</th>\n",
       "      <td>xoprq</td>\n",
       "      <td>0.025484</td>\n",
       "    </tr>\n",
       "    <tr>\n",
       "      <th>71</th>\n",
       "      <td>dpcy</td>\n",
       "      <td>0.023932</td>\n",
       "    </tr>\n",
       "    <tr>\n",
       "      <th>12</th>\n",
       "      <td>cstkq</td>\n",
       "      <td>0.023348</td>\n",
       "    </tr>\n",
       "    <tr>\n",
       "      <th>38</th>\n",
       "      <td>oeps12</td>\n",
       "      <td>0.023280</td>\n",
       "    </tr>\n",
       "    <tr>\n",
       "      <th>126</th>\n",
       "      <td>lagseq4</td>\n",
       "      <td>0.022513</td>\n",
       "    </tr>\n",
       "    <tr>\n",
       "      <th>10</th>\n",
       "      <td>cshoq</td>\n",
       "      <td>0.021553</td>\n",
       "    </tr>\n",
       "    <tr>\n",
       "      <th>64</th>\n",
       "      <td>capxy</td>\n",
       "      <td>0.020894</td>\n",
       "    </tr>\n",
       "    <tr>\n",
       "      <th>35</th>\n",
       "      <td>niq</td>\n",
       "      <td>0.020442</td>\n",
       "    </tr>\n",
       "    <tr>\n",
       "      <th>140</th>\n",
       "      <td>capital_ratioq</td>\n",
       "      <td>0.020268</td>\n",
       "    </tr>\n",
       "    <tr>\n",
       "      <th>179</th>\n",
       "      <td>fqtr_1</td>\n",
       "      <td>0.020208</td>\n",
       "    </tr>\n",
       "    <tr>\n",
       "      <th>8</th>\n",
       "      <td>cshiq</td>\n",
       "      <td>0.020050</td>\n",
       "    </tr>\n",
       "    <tr>\n",
       "      <th>129</th>\n",
       "      <td>lagppent_alt4</td>\n",
       "      <td>0.019672</td>\n",
       "    </tr>\n",
       "    <tr>\n",
       "      <th>163</th>\n",
       "      <td>intcovq</td>\n",
       "      <td>0.018352</td>\n",
       "    </tr>\n",
       "    <tr>\n",
       "      <th>20</th>\n",
       "      <td>epsfxq</td>\n",
       "      <td>0.017602</td>\n",
       "    </tr>\n",
       "    <tr>\n",
       "      <th>23</th>\n",
       "      <td>epspxq</td>\n",
       "      <td>0.014643</td>\n",
       "    </tr>\n",
       "    <tr>\n",
       "      <th>70</th>\n",
       "      <td>dltry</td>\n",
       "      <td>0.014578</td>\n",
       "    </tr>\n",
       "    <tr>\n",
       "      <th>158</th>\n",
       "      <td>lt_ppentq</td>\n",
       "      <td>0.013705</td>\n",
       "    </tr>\n",
       "    <tr>\n",
       "      <th>177</th>\n",
       "      <td>at5</td>\n",
       "      <td>0.013565</td>\n",
       "    </tr>\n",
       "    <tr>\n",
       "      <th>153</th>\n",
       "      <td>capxq</td>\n",
       "      <td>0.012220</td>\n",
       "    </tr>\n",
       "    <tr>\n",
       "      <th>15</th>\n",
       "      <td>dpq</td>\n",
       "      <td>0.012131</td>\n",
       "    </tr>\n",
       "    <tr>\n",
       "      <th>121</th>\n",
       "      <td>ceq4</td>\n",
       "      <td>0.010990</td>\n",
       "    </tr>\n",
       "    <tr>\n",
       "      <th>27</th>\n",
       "      <td>ibcomq</td>\n",
       "      <td>0.010409</td>\n",
       "    </tr>\n",
       "    <tr>\n",
       "      <th>83</th>\n",
       "      <td>xinty</td>\n",
       "      <td>0.008300</td>\n",
       "    </tr>\n",
       "    <tr>\n",
       "      <th>152</th>\n",
       "      <td>ocf_lctq</td>\n",
       "      <td>0.008270</td>\n",
       "    </tr>\n",
       "    <tr>\n",
       "      <th>46</th>\n",
       "      <td>prcraq</td>\n",
       "      <td>0.008269</td>\n",
       "    </tr>\n",
       "    <tr>\n",
       "      <th>106</th>\n",
       "      <td>pcfq</td>\n",
       "      <td>0.007291</td>\n",
       "    </tr>\n",
       "    <tr>\n",
       "      <th>125</th>\n",
       "      <td>lagbe4</td>\n",
       "      <td>0.007045</td>\n",
       "    </tr>\n",
       "    <tr>\n",
       "      <th>74</th>\n",
       "      <td>ibcy</td>\n",
       "      <td>0.004235</td>\n",
       "    </tr>\n",
       "  </tbody>\n",
       "</table>\n",
       "</div>"
      ],
      "text/plain": [
       "                cols  feat_imp\n",
       "156        fcf_yield  0.068014\n",
       "79             revty  0.060568\n",
       "155       fcf_csfhdq  0.056258\n",
       "76            oancfy  0.055948\n",
       "141        int_debtq  0.053337\n",
       "132  aftret_invcapxq  0.045637\n",
       "53              seqq  0.035630\n",
       "1                apq  0.035356\n",
       "49             rectq  0.032586\n",
       "175        sale_nwcq  0.030328\n",
       "73            ibcomy  0.030303\n",
       "109             npmq  0.026720\n",
       "32               ltq  0.026068\n",
       "61             xoprq  0.025484\n",
       "71              dpcy  0.023932\n",
       "12             cstkq  0.023348\n",
       "38            oeps12  0.023280\n",
       "126          lagseq4  0.022513\n",
       "10             cshoq  0.021553\n",
       "64             capxy  0.020894\n",
       "35               niq  0.020442\n",
       "140   capital_ratioq  0.020268\n",
       "179           fqtr_1  0.020208\n",
       "8              cshiq  0.020050\n",
       "129    lagppent_alt4  0.019672\n",
       "163          intcovq  0.018352\n",
       "20            epsfxq  0.017602\n",
       "23            epspxq  0.014643\n",
       "70             dltry  0.014578\n",
       "158        lt_ppentq  0.013705\n",
       "177              at5  0.013565\n",
       "153            capxq  0.012220\n",
       "15               dpq  0.012131\n",
       "121             ceq4  0.010990\n",
       "27            ibcomq  0.010409\n",
       "83             xinty  0.008300\n",
       "152         ocf_lctq  0.008270\n",
       "46            prcraq  0.008269\n",
       "106             pcfq  0.007291\n",
       "125           lagbe4  0.007045\n",
       "74              ibcy  0.004235"
      ]
     },
     "execution_count": 29,
     "metadata": {},
     "output_type": "execute_result"
    }
   ],
   "source": [
    "features"
   ]
  },
  {
   "cell_type": "code",
   "execution_count": 93,
   "metadata": {
    "ExecuteTime": {
     "end_time": "2020-02-09T18:42:00.953015Z",
     "start_time": "2020-02-09T18:42:00.934981Z"
    }
   },
   "outputs": [],
   "source": [
    "train_1 = train_1[features['cols'].values]\n",
    "valid = valid[features['cols'].values]"
   ]
  },
  {
   "cell_type": "code",
   "execution_count": 94,
   "metadata": {
    "ExecuteTime": {
     "end_time": "2020-02-11T00:37:00.392945Z",
     "start_time": "2020-02-11T00:36:58.708361Z"
    }
   },
   "outputs": [
    {
     "data": {
      "text/plain": [
       "0.49747264344831416"
      ]
     },
     "execution_count": 94,
     "metadata": {},
     "output_type": "execute_result"
    }
   ],
   "source": [
    "rf_clf.fit(train_1,y_1)\n",
    "rf_clf.score(train_1,y_1)"
   ]
  },
  {
   "cell_type": "code",
   "execution_count": 95,
   "metadata": {},
   "outputs": [
    {
     "data": {
      "text/plain": [
       "1750"
      ]
     },
     "execution_count": 95,
     "metadata": {},
     "output_type": "execute_result"
    }
   ],
   "source": [
    "len(valid)"
   ]
  },
  {
   "cell_type": "code",
   "execution_count": 96,
   "metadata": {
    "ExecuteTime": {
     "end_time": "2020-02-11T00:37:16.075277Z",
     "start_time": "2020-02-11T00:37:15.833282Z"
    }
   },
   "outputs": [
    {
     "data": {
      "text/plain": [
       "0.49885714285714283"
      ]
     },
     "execution_count": 96,
     "metadata": {},
     "output_type": "execute_result"
    }
   ],
   "source": [
    "pred_valid = rf_clf.predict(valid)\n",
    "rf_clf.score(valid,y_valid)"
   ]
  },
  {
   "cell_type": "code",
   "execution_count": 97,
   "metadata": {
    "ExecuteTime": {
     "end_time": "2020-02-11T00:39:53.813754Z",
     "start_time": "2020-02-11T00:39:53.805751Z"
    }
   },
   "outputs": [
    {
     "data": {
      "text/plain": [
       "123.80473799999999"
      ]
     },
     "execution_count": 97,
     "metadata": {},
     "output_type": "execute_result"
    }
   ],
   "source": [
    "(pred_valid * valid_stock_returns).sum()"
   ]
  },
  {
   "cell_type": "code",
   "execution_count": 98,
   "metadata": {
    "ExecuteTime": {
     "end_time": "2020-02-11T00:40:17.297207Z",
     "start_time": "2020-02-11T00:40:17.291205Z"
    }
   },
   "outputs": [
    {
     "data": {
      "text/plain": [
       "Counter({1: 1694, -1: 56})"
      ]
     },
     "execution_count": 98,
     "metadata": {},
     "output_type": "execute_result"
    }
   ],
   "source": [
    "Counter(pred_valid)"
   ]
  },
  {
   "cell_type": "code",
   "execution_count": 99,
   "metadata": {},
   "outputs": [],
   "source": [
    "valid_1 = valid.copy()"
   ]
  },
  {
   "cell_type": "code",
   "execution_count": 100,
   "metadata": {},
   "outputs": [],
   "source": [
    "valid_1['returns'] = valid_stock_returns.values"
   ]
  },
  {
   "cell_type": "code",
   "execution_count": 101,
   "metadata": {},
   "outputs": [],
   "source": [
    "import shap"
   ]
  },
  {
   "cell_type": "code",
   "execution_count": 102,
   "metadata": {},
   "outputs": [],
   "source": [
    "def model(features):\n",
    "    tree_features = features[features.columns[:-1].values]\n",
    "\n",
    "    pred = rf_clf.predict(tree_features)\n",
    "\n",
    "    ret = pred * features[features.columns[-1]]\n",
    "\n",
    "    return ret"
   ]
  },
  {
   "cell_type": "code",
   "execution_count": 103,
   "metadata": {},
   "outputs": [
    {
     "data": {
      "text/plain": [
       "0       0.003409\n",
       "1      -0.006907\n",
       "2       0.041883\n",
       "3      -0.029884\n",
       "4       0.128291\n",
       "          ...   \n",
       "1745   -0.119765\n",
       "1746    0.153591\n",
       "1747    0.108772\n",
       "1748    0.137032\n",
       "1749    0.152459\n",
       "Name: returns, Length: 1750, dtype: float64"
      ]
     },
     "execution_count": 103,
     "metadata": {},
     "output_type": "execute_result"
    }
   ],
   "source": [
    "model(valid_1)"
   ]
  },
  {
   "cell_type": "code",
   "execution_count": 104,
   "metadata": {},
   "outputs": [],
   "source": [
    "explainer = shap.explainers.Permutation(model,valid_1)"
   ]
  },
  {
   "cell_type": "code",
   "execution_count": 105,
   "metadata": {},
   "outputs": [
    {
     "name": "stderr",
     "output_type": "stream",
     "text": [
      "PermutationExplainer explainer: 1751it [12:08,  2.37it/s]                                                              \n"
     ]
    }
   ],
   "source": [
    "shap_values = explainer(valid_1,max_evals=2000)"
   ]
  },
  {
   "cell_type": "code",
   "execution_count": 106,
   "metadata": {},
   "outputs": [
    {
     "data": {
      "image/png": "[encoded data removed]",
      "text/plain": [
       "<Figure size 800x2200 with 1 Axes>"
      ]
     },
     "metadata": {},
     "output_type": "display_data"
    }
   ],
   "source": [
    "shap.plots.bar(shap_values[:,:-1],max_display=60)"
   ]
  },
  {
   "cell_type": "code",
   "execution_count": 108,
   "metadata": {},
   "outputs": [],
   "source": [
    "cols = features['cols'].values"
   ]
  },
  {
   "cell_type": "code",
   "execution_count": 109,
   "metadata": {},
   "outputs": [],
   "source": [
    "shap_cols = cols[np.abs(shap_values[:,:-1].values).mean(axis=0)>0.000]"
   ]
  },
  {
   "cell_type": "code",
   "execution_count": 114,
   "metadata": {},
   "outputs": [],
   "source": [
    "start_dates = [pd.to_datetime('2001-01-01') + pd.DateOffset(months = 3 * i) for i in range(57)]\n",
    "end_dates = [d + pd.DateOffset(months = 36) for d in start_dates]\n",
    "\n",
    "training_frames = [data.loc[d:d+pd.DateOffset(months = 36)] for d in start_dates]\n",
    "valid_frames = [data.loc[d + pd.DateOffset(months=3):d+pd.DateOffset(months = 6)] for d in end_dates]\n",
    "test_frames = [data.loc[d + pd.DateOffset(months=6):d+pd.DateOffset(months = 9)] for d in end_dates]\n",
    "\n",
    "training_data = [d.reset_index().drop\n",
    "                                 (['ticker','date',\n",
    "                                   'next_period_return',\n",
    "                                   'spy_next_period_return',\n",
    "                                   'rel_performance','pred_rel_return',\n",
    "                                  'return', 'cum_ret', 'spy_cum_ret'],axis=1) for d in training_frames]\n",
    "valid_data = [d.reset_index().drop(['ticker','date',\n",
    "                                   'next_period_return',\n",
    "                                   'spy_next_period_return',\n",
    "                                   'rel_performance','pred_rel_return',\n",
    "                                  'return', 'cum_ret', 'spy_cum_ret'],axis=1) for d in valid_frames]\n",
    "test_data = [d.reset_index().drop(['ticker','date',\n",
    "                                   'next_period_return',\n",
    "                                   'spy_next_period_return',\n",
    "                                   'rel_performance','pred_rel_return',\n",
    "                                  'return', 'cum_ret', 'spy_cum_ret'],axis=1) for d in test_frames]\n",
    "\n",
    "training_labels = [d['rel_performance'].values for d in training_frames]\n",
    "validation_labels = [d['rel_performance'].values for d in test_frames]"
   ]
  },
  {
   "cell_type": "code",
   "execution_count": 115,
   "metadata": {},
   "outputs": [],
   "source": [
    "from sklearn.preprocessing import StandardScaler"
   ]
  },
  {
   "cell_type": "code",
   "execution_count": 116,
   "metadata": {},
   "outputs": [],
   "source": [
    "scalers = [StandardScaler() for _ in range(len(training_data))]\n",
    "           \n",
    "opt_training_data = [pd.DataFrame(scalers[i].fit_transform(training_frames[i][shap_cols].values),columns=shap_cols) for i in range(len(training_data))]\n",
    "opt_valid_data = [pd.DataFrame(scalers[i].transform(valid_frames[i][shap_cols].values),columns=shap_cols) for i in range(len(valid_data))]\n",
    "opt_test_data = [pd.DataFrame(scalers[i].transform(test_frames[i][shap_cols].values),columns=shap_cols) for i in range(len(test_data))]"
   ]
  },
  {
   "cell_type": "code",
   "execution_count": 119,
   "metadata": {},
   "outputs": [],
   "source": [
    "x = [1]\n",
    "ret = []\n",
    "\n",
    "for i in range(len(start_dates)-1):\n",
    "        rf_clf.fit(opt_training_data[i],training_labels[i])\n",
    "\n",
    "        preds = rf_clf.predict(opt_test_data[i])\n",
    "        profit_i = (preds*test_frames[i]['next_period_return']).sum()\n",
    "        ret.append(profit_i)\n",
    "        num_names = len(opt_test_data[i])\n",
    "        x.append(x[i] + (x[i]/num_names)*profit_i)\n"
   ]
  },
  {
   "cell_type": "code",
   "execution_count": 120,
   "metadata": {},
   "outputs": [
    {
     "data": {
      "image/png": "[encoded data removed]",
      "text/plain": [
       "<Figure size 640x480 with 1 Axes>"
      ]
     },
     "metadata": {},
     "output_type": "display_data"
    }
   ],
   "source": [
    "plt.plot(x);"
   ]
  },
  {
   "cell_type": "code",
   "execution_count": 121,
   "metadata": {},
   "outputs": [],
   "source": [
    "SPY = pd.read_pickle(r'C:\\Users\\niels\\OneDrive\\Machine Learning 2022\\Lecture 2\\SPY_cum_ret.pkl')\n",
    "SPY = SPY.loc['2004-07-01':'2018-09-30']\n",
    "SPY = SPY.resample('Q').ffill()\n",
    "SPY['spy_cum_ret'] = (SPY['spy_cum_ret'] - SPY['spy_cum_ret'][0]+1)\n",
    "SPY['strategy'] = x"
   ]
  },
  {
   "cell_type": "code",
   "execution_count": 122,
   "metadata": {},
   "outputs": [
    {
     "data": {
      "image/png": "[encoded data removed]",
      "text/plain": [
       "<Figure size 640x480 with 1 Axes>"
      ]
     },
     "metadata": {},
     "output_type": "display_data"
    }
   ],
   "source": [
    "SPY.plot();"
   ]
  },
  {
   "cell_type": "code",
   "execution_count": 123,
   "metadata": {},
   "outputs": [
    {
     "data": {
      "image/png": "[encoded data removed]",
      "text/plain": [
       "<Figure size 640x480 with 1 Axes>"
      ]
     },
     "metadata": {},
     "output_type": "display_data"
    }
   ],
   "source": [
    "SPY = SPY.resample('Y').ffill()\n",
    "SPY.plot();"
   ]
  },
  {
   "cell_type": "code",
   "execution_count": 124,
   "metadata": {},
   "outputs": [
    {
     "name": "stdout",
     "output_type": "stream",
     "text": [
      "Strategy Sharpe Ratio:  0.7681998278716772\n"
     ]
    }
   ],
   "source": [
    "strategy_mean_ret = (SPY['strategy'] - 1).diff().mean()\n",
    "strategy_std = (SPY['strategy'] - 1).diff().std()\n",
    "strategy_sr = strategy_mean_ret/strategy_std\n",
    "print('Strategy Sharpe Ratio: ',strategy_sr)"
   ]
  },
  {
   "cell_type": "code",
   "execution_count": 125,
   "metadata": {},
   "outputs": [
    {
     "data": {
      "text/plain": [
       "0.31657502637590057"
      ]
     },
     "execution_count": 125,
     "metadata": {},
     "output_type": "execute_result"
    }
   ],
   "source": [
    "strategy_std = (SPY['strategy'] - 1).diff().std()\n",
    "strategy_std"
   ]
  },
  {
   "cell_type": "code",
   "execution_count": 126,
   "metadata": {},
   "outputs": [
    {
     "name": "stdout",
     "output_type": "stream",
     "text": [
      "SP Sharpe Ratio:  0.6324646748042165\n"
     ]
    }
   ],
   "source": [
    "(SPY['spy_cum_ret'] - 1).diff().mean()\n",
    "(SPY['spy_cum_ret'] - 1).diff().std()\n",
    "print('SP Sharpe Ratio: ',(SPY['spy_cum_ret'] - 1).diff().mean()/(SPY['spy_cum_ret'] - 1).diff().std())"
   ]
  },
  {
   "cell_type": "code",
   "execution_count": 127,
   "metadata": {},
   "outputs": [
    {
     "data": {
      "text/plain": [
       "4.48876121654914"
      ]
     },
     "execution_count": 127,
     "metadata": {},
     "output_type": "execute_result"
    }
   ],
   "source": [
    "x[-1]"
   ]
  },
  {
   "cell_type": "code",
   "execution_count": 128,
   "metadata": {},
   "outputs": [
    {
     "data": {
      "text/plain": [
       "2.0903086806437146"
      ]
     },
     "execution_count": 128,
     "metadata": {},
     "output_type": "execute_result"
    }
   ],
   "source": [
    "strategy_ret = (SPY['strategy'] - 1).diff().values[1:]\n",
    "spy_ret = (SPY['spy_cum_ret'] - 1).diff().values[1:]\n",
    "\n",
    "beta = (np.cov(spy_ret,strategy_ret)/np.var(spy_ret))[1,0]\n",
    "beta"
   ]
  },
  {
   "cell_type": "code",
   "execution_count": 129,
   "metadata": {},
   "outputs": [
    {
     "data": {
      "text/plain": [
       "0.4165987159751874"
      ]
     },
     "execution_count": 129,
     "metadata": {},
     "output_type": "execute_result"
    }
   ],
   "source": [
    "residual_ret = strategy_ret - beta * spy_ret\n",
    "IR = np.mean(residual_ret)/np.std(residual_ret)\n",
    "IR"
   ]
  },
  {
   "cell_type": "code",
   "execution_count": 130,
   "metadata": {},
   "outputs": [
    {
     "data": {
      "text/plain": [
       "0.035572523142212764"
      ]
     },
     "execution_count": 130,
     "metadata": {},
     "output_type": "execute_result"
    }
   ],
   "source": [
    "alpha = np.mean(residual_ret)\n",
    "alpha"
   ]
  },
  {
   "cell_type": "code",
   "execution_count": 35,
   "metadata": {
    "ExecuteTime": {
     "end_time": "2020-02-09T18:42:30.850795Z",
     "start_time": "2020-02-09T18:42:30.843799Z"
    }
   },
   "outputs": [],
   "source": [
    "def profit_importance(m,df,rets):\n",
    "#     np.random.seed(123)\n",
    "    profit = []\n",
    "    for col in df.columns:\n",
    "        prof = []\n",
    "        for _ in range(100):\n",
    "            X = df.copy()\n",
    "            X[col] = np.random.permutation(df[col].values)\n",
    "            prediction = m.predict(X)\n",
    "            prof.append((prediction * rets).sum())\n",
    "        profit.append(np.mean(prof))\n",
    "    return profit"
   ]
  },
  {
   "cell_type": "code",
   "execution_count": null,
   "metadata": {},
   "outputs": [],
   "source": []
  },
  {
   "cell_type": "code",
   "execution_count": null,
   "metadata": {},
   "outputs": [],
   "source": []
  },
  {
   "cell_type": "code",
   "execution_count": 36,
   "metadata": {
    "ExecuteTime": {
     "end_time": "2020-02-11T00:48:51.812297Z",
     "start_time": "2020-02-11T00:48:51.806329Z"
    }
   },
   "outputs": [],
   "source": [
    "def randomforest_profit_importance(m, df,rets):\n",
    "    return pd.DataFrame({'cols':df.columns, 'pi_imp':profit_importance(m,df,rets)}\n",
    "                       ).sort_values('pi_imp', ascending=True)"
   ]
  },
  {
   "cell_type": "code",
   "execution_count": 37,
   "metadata": {
    "ExecuteTime": {
     "end_time": "2020-02-11T00:58:52.576470Z",
     "start_time": "2020-02-11T00:48:55.605627Z"
    }
   },
   "outputs": [
    {
     "data": {
      "text/html": [
       "<div>\n",
       "<style scoped>\n",
       "    .dataframe tbody tr th:only-of-type {\n",
       "        vertical-align: middle;\n",
       "    }\n",
       "\n",
       "    .dataframe tbody tr th {\n",
       "        vertical-align: top;\n",
       "    }\n",
       "\n",
       "    .dataframe thead th {\n",
       "        text-align: right;\n",
       "    }\n",
       "</style>\n",
       "<table border=\"1\" class=\"dataframe\">\n",
       "  <thead>\n",
       "    <tr style=\"text-align: right;\">\n",
       "      <th></th>\n",
       "      <th>cols</th>\n",
       "      <th>pi_imp</th>\n",
       "    </tr>\n",
       "  </thead>\n",
       "  <tbody>\n",
       "    <tr>\n",
       "      <th>7</th>\n",
       "      <td>apq</td>\n",
       "      <td>134.606708</td>\n",
       "    </tr>\n",
       "    <tr>\n",
       "      <th>1</th>\n",
       "      <td>revty</td>\n",
       "      <td>135.072005</td>\n",
       "    </tr>\n",
       "    <tr>\n",
       "      <th>10</th>\n",
       "      <td>ibcomy</td>\n",
       "      <td>135.564950</td>\n",
       "    </tr>\n",
       "    <tr>\n",
       "      <th>35</th>\n",
       "      <td>xinty</td>\n",
       "      <td>135.577748</td>\n",
       "    </tr>\n",
       "    <tr>\n",
       "      <th>20</th>\n",
       "      <td>niq</td>\n",
       "      <td>135.579390</td>\n",
       "    </tr>\n",
       "    <tr>\n",
       "      <th>23</th>\n",
       "      <td>cshiq</td>\n",
       "      <td>135.579390</td>\n",
       "    </tr>\n",
       "    <tr>\n",
       "      <th>24</th>\n",
       "      <td>lagppent_alt4</td>\n",
       "      <td>135.579390</td>\n",
       "    </tr>\n",
       "    <tr>\n",
       "      <th>25</th>\n",
       "      <td>intcovq</td>\n",
       "      <td>135.579390</td>\n",
       "    </tr>\n",
       "    <tr>\n",
       "      <th>26</th>\n",
       "      <td>epsfxq</td>\n",
       "      <td>135.579390</td>\n",
       "    </tr>\n",
       "    <tr>\n",
       "      <th>27</th>\n",
       "      <td>epspxq</td>\n",
       "      <td>135.579390</td>\n",
       "    </tr>\n",
       "    <tr>\n",
       "      <th>28</th>\n",
       "      <td>dltry</td>\n",
       "      <td>135.579390</td>\n",
       "    </tr>\n",
       "    <tr>\n",
       "      <th>29</th>\n",
       "      <td>lt_ppentq</td>\n",
       "      <td>135.579390</td>\n",
       "    </tr>\n",
       "    <tr>\n",
       "      <th>32</th>\n",
       "      <td>dpq</td>\n",
       "      <td>135.579390</td>\n",
       "    </tr>\n",
       "    <tr>\n",
       "      <th>33</th>\n",
       "      <td>ceq4</td>\n",
       "      <td>135.579390</td>\n",
       "    </tr>\n",
       "    <tr>\n",
       "      <th>34</th>\n",
       "      <td>ibcomq</td>\n",
       "      <td>135.579390</td>\n",
       "    </tr>\n",
       "    <tr>\n",
       "      <th>36</th>\n",
       "      <td>ocf_lctq</td>\n",
       "      <td>135.579390</td>\n",
       "    </tr>\n",
       "    <tr>\n",
       "      <th>37</th>\n",
       "      <td>prcraq</td>\n",
       "      <td>135.579390</td>\n",
       "    </tr>\n",
       "    <tr>\n",
       "      <th>21</th>\n",
       "      <td>capital_ratioq</td>\n",
       "      <td>135.579390</td>\n",
       "    </tr>\n",
       "    <tr>\n",
       "      <th>39</th>\n",
       "      <td>lagbe4</td>\n",
       "      <td>135.579390</td>\n",
       "    </tr>\n",
       "    <tr>\n",
       "      <th>40</th>\n",
       "      <td>ibcy</td>\n",
       "      <td>135.579390</td>\n",
       "    </tr>\n",
       "    <tr>\n",
       "      <th>18</th>\n",
       "      <td>cshoq</td>\n",
       "      <td>135.579390</td>\n",
       "    </tr>\n",
       "    <tr>\n",
       "      <th>5</th>\n",
       "      <td>aftret_invcapxq</td>\n",
       "      <td>135.579390</td>\n",
       "    </tr>\n",
       "    <tr>\n",
       "      <th>16</th>\n",
       "      <td>oeps12</td>\n",
       "      <td>135.579390</td>\n",
       "    </tr>\n",
       "    <tr>\n",
       "      <th>15</th>\n",
       "      <td>cstkq</td>\n",
       "      <td>135.579390</td>\n",
       "    </tr>\n",
       "    <tr>\n",
       "      <th>14</th>\n",
       "      <td>dpcy</td>\n",
       "      <td>135.579390</td>\n",
       "    </tr>\n",
       "    <tr>\n",
       "      <th>13</th>\n",
       "      <td>xoprq</td>\n",
       "      <td>135.579390</td>\n",
       "    </tr>\n",
       "    <tr>\n",
       "      <th>6</th>\n",
       "      <td>seqq</td>\n",
       "      <td>135.579390</td>\n",
       "    </tr>\n",
       "    <tr>\n",
       "      <th>8</th>\n",
       "      <td>rectq</td>\n",
       "      <td>135.579390</td>\n",
       "    </tr>\n",
       "    <tr>\n",
       "      <th>9</th>\n",
       "      <td>sale_nwcq</td>\n",
       "      <td>135.579390</td>\n",
       "    </tr>\n",
       "    <tr>\n",
       "      <th>2</th>\n",
       "      <td>fcf_csfhdq</td>\n",
       "      <td>135.618515</td>\n",
       "    </tr>\n",
       "    <tr>\n",
       "      <th>11</th>\n",
       "      <td>npmq</td>\n",
       "      <td>135.678699</td>\n",
       "    </tr>\n",
       "    <tr>\n",
       "      <th>22</th>\n",
       "      <td>fqtr_1</td>\n",
       "      <td>136.137118</td>\n",
       "    </tr>\n",
       "    <tr>\n",
       "      <th>12</th>\n",
       "      <td>ltq</td>\n",
       "      <td>136.207648</td>\n",
       "    </tr>\n",
       "    <tr>\n",
       "      <th>4</th>\n",
       "      <td>int_debtq</td>\n",
       "      <td>136.251632</td>\n",
       "    </tr>\n",
       "    <tr>\n",
       "      <th>3</th>\n",
       "      <td>oancfy</td>\n",
       "      <td>136.394675</td>\n",
       "    </tr>\n",
       "    <tr>\n",
       "      <th>31</th>\n",
       "      <td>capxq</td>\n",
       "      <td>136.402076</td>\n",
       "    </tr>\n",
       "    <tr>\n",
       "      <th>19</th>\n",
       "      <td>capxy</td>\n",
       "      <td>136.499616</td>\n",
       "    </tr>\n",
       "    <tr>\n",
       "      <th>30</th>\n",
       "      <td>at5</td>\n",
       "      <td>136.748184</td>\n",
       "    </tr>\n",
       "    <tr>\n",
       "      <th>17</th>\n",
       "      <td>lagseq4</td>\n",
       "      <td>136.987427</td>\n",
       "    </tr>\n",
       "    <tr>\n",
       "      <th>38</th>\n",
       "      <td>pcfq</td>\n",
       "      <td>137.171583</td>\n",
       "    </tr>\n",
       "    <tr>\n",
       "      <th>0</th>\n",
       "      <td>fcf_yield</td>\n",
       "      <td>137.447947</td>\n",
       "    </tr>\n",
       "  </tbody>\n",
       "</table>\n",
       "</div>"
      ],
      "text/plain": [
       "               cols      pi_imp\n",
       "7               apq  134.606708\n",
       "1             revty  135.072005\n",
       "10           ibcomy  135.564950\n",
       "35            xinty  135.577748\n",
       "20              niq  135.579390\n",
       "23            cshiq  135.579390\n",
       "24    lagppent_alt4  135.579390\n",
       "25          intcovq  135.579390\n",
       "26           epsfxq  135.579390\n",
       "27           epspxq  135.579390\n",
       "28            dltry  135.579390\n",
       "29        lt_ppentq  135.579390\n",
       "32              dpq  135.579390\n",
       "33             ceq4  135.579390\n",
       "34           ibcomq  135.579390\n",
       "36         ocf_lctq  135.579390\n",
       "37           prcraq  135.579390\n",
       "21   capital_ratioq  135.579390\n",
       "39           lagbe4  135.579390\n",
       "40             ibcy  135.579390\n",
       "18            cshoq  135.579390\n",
       "5   aftret_invcapxq  135.579390\n",
       "16           oeps12  135.579390\n",
       "15            cstkq  135.579390\n",
       "14             dpcy  135.579390\n",
       "13            xoprq  135.579390\n",
       "6              seqq  135.579390\n",
       "8             rectq  135.579390\n",
       "9         sale_nwcq  135.579390\n",
       "2        fcf_csfhdq  135.618515\n",
       "11             npmq  135.678699\n",
       "22           fqtr_1  136.137118\n",
       "12              ltq  136.207648\n",
       "4         int_debtq  136.251632\n",
       "3            oancfy  136.394675\n",
       "31            capxq  136.402076\n",
       "19            capxy  136.499616\n",
       "30              at5  136.748184\n",
       "17          lagseq4  136.987427\n",
       "38             pcfq  137.171583\n",
       "0         fcf_yield  137.447947"
      ]
     },
     "execution_count": 37,
     "metadata": {},
     "output_type": "execute_result"
    }
   ],
   "source": [
    "pi = randomforest_profit_importance(rf_clf,valid,valid_stock_returns)\n",
    "pi"
   ]
  },
  {
   "cell_type": "code",
   "execution_count": 39,
   "metadata": {
    "ExecuteTime": {
     "end_time": "2020-02-09T20:39:56.078663Z",
     "start_time": "2020-02-09T18:46:17.429778Z"
    }
   },
   "outputs": [
    {
     "name": "stdout",
     "output_type": "stream",
     "text": [
      "137.40346\n",
      "138.72886599999998\n",
      "138.067744\n",
      "139.604926\n",
      "139.058768\n",
      "139.09534200000002\n",
      "137.284692\n",
      "139.25095199999998\n",
      "138.124122\n",
      "139.814968\n",
      "139.435354\n",
      "138.188328\n",
      "138.414004\n",
      "129.24946\n",
      "138.941658\n",
      "139.41010599999998\n",
      "139.205442\n",
      "139.483124\n",
      "139.843296\n",
      "139.483124\n",
      "139.483124\n",
      "139.483124\n",
      "134.259258\n",
      "139.23499999999999\n",
      "140.166302\n",
      "139.483124\n",
      "140.211378\n",
      "139.483124\n",
      "137.820146\n",
      "139.960378\n",
      "139.483124\n",
      "133.23485999999997\n",
      "139.483124\n",
      "139.483124\n",
      "139.483124\n",
      "108.06061800000003\n",
      "90.51759400000002\n",
      "139.483124\n",
      "38.50209200000003\n",
      "139.483124\n",
      "CPU times: total: 3min 7s\n",
      "Wall time: 9min 46s\n"
     ]
    }
   ],
   "source": [
    "%%time\n",
    "profits = []\n",
    "feat=[]\n",
    "\n",
    "train = train_1.copy()\n",
    "validation = valid.copy()\n",
    "\n",
    "while len(train.columns)>1:\n",
    "\n",
    "    col_to_drop = pi.iloc[-1]['cols']\n",
    "    train.drop(col_to_drop,axis=1,inplace=True)\n",
    "    validation.drop(col_to_drop,axis=1,inplace=True)\n",
    "        \n",
    "    rf_clf.fit(train,y_1)\n",
    "    pi = randomforest_profit_importance(rf_clf,validation,df_valid['next_period_return'])\n",
    "\n",
    "    pred_valid = rf_clf.predict(validation)\n",
    "        \n",
    "    print((pred_valid * df_valid['next_period_return']).sum())\n",
    "    profits.append((pred_valid * df_valid['next_period_return']).sum())\n",
    "    feat.append(train.columns)"
   ]
  },
  {
   "cell_type": "code",
   "execution_count": 40,
   "metadata": {
    "ExecuteTime": {
     "end_time": "2020-02-09T20:40:58.562802Z",
     "start_time": "2020-02-09T20:40:58.382807Z"
    }
   },
   "outputs": [
    {
     "data": {
      "image/png": "[encoded data removed]",
      "text/plain": [
       "<Figure size 640x480 with 1 Axes>"
      ]
     },
     "metadata": {},
     "output_type": "display_data"
    }
   ],
   "source": [
    "plt.plot(profits);"
   ]
  },
  {
   "cell_type": "code",
   "execution_count": 41,
   "metadata": {
    "ExecuteTime": {
     "end_time": "2020-02-11T00:58:52.579476Z",
     "start_time": "2020-02-11T00:54:19.646Z"
    }
   },
   "outputs": [
    {
     "data": {
      "text/plain": [
       "140.211378"
      ]
     },
     "execution_count": 41,
     "metadata": {},
     "output_type": "execute_result"
    }
   ],
   "source": [
    "n = np.argmax(profits)\n",
    "profits[n]"
   ]
  },
  {
   "cell_type": "code",
   "execution_count": 42,
   "metadata": {
    "ExecuteTime": {
     "end_time": "2020-02-11T00:58:52.581472Z",
     "start_time": "2020-02-11T00:54:23.942Z"
    }
   },
   "outputs": [
    {
     "data": {
      "text/plain": [
       "26"
      ]
     },
     "execution_count": 42,
     "metadata": {},
     "output_type": "execute_result"
    }
   ],
   "source": [
    "n"
   ]
  },
  {
   "cell_type": "code",
   "execution_count": 43,
   "metadata": {
    "ExecuteTime": {
     "end_time": "2020-02-09T20:41:12.758275Z",
     "start_time": "2020-02-09T20:41:12.752241Z"
    }
   },
   "outputs": [
    {
     "data": {
      "text/plain": [
       "Index(['fcf_yield', 'oancfy', 'aftret_invcapxq', 'seqq', 'sale_nwcq', 'xoprq',\n",
       "       'cstkq', 'oeps12', 'niq', 'cshiq', 'dltry', 'lt_ppentq', 'capxq',\n",
       "       'ceq4'],\n",
       "      dtype='object')"
      ]
     },
     "execution_count": 43,
     "metadata": {},
     "output_type": "execute_result"
    }
   ],
   "source": [
    "optim_feats = feat[n]\n",
    "optim_feats\n"
   ]
  },
  {
   "cell_type": "code",
   "execution_count": 44,
   "metadata": {
    "ExecuteTime": {
     "end_time": "2020-02-11T00:58:52.583473Z",
     "start_time": "2020-02-11T00:55:04.793Z"
    }
   },
   "outputs": [
    {
     "name": "stdout",
     "output_type": "stream",
     "text": [
      "0.494973060045548\n",
      "0.5125714285714286\n"
     ]
    },
    {
     "data": {
      "text/plain": [
       "139.483124"
      ]
     },
     "execution_count": 44,
     "metadata": {},
     "output_type": "execute_result"
    }
   ],
   "source": [
    "train_1_optim = train_1[optim_feats]\n",
    "valid_optim = valid[optim_feats]\n",
    "\n",
    "\n",
    "rf_clf.fit(train_1_optim,y_1)\n",
    "print(rf_clf.score(train_1_optim,y_1))\n",
    "pred_valid = rf_clf.predict(valid_optim)\n",
    "print(rf_clf.score(valid_optim,y_valid))\n",
    "(pred_valid * valid_stock_returns).sum()"
   ]
  },
  {
   "cell_type": "code",
   "execution_count": 45,
   "metadata": {},
   "outputs": [
    {
     "data": {
      "text/plain": [
       "array([[  0,   0,   0],\n",
       "       [  0,   0,   0],\n",
       "       [739, 114, 897]], dtype=int64)"
      ]
     },
     "execution_count": 45,
     "metadata": {},
     "output_type": "execute_result"
    }
   ],
   "source": [
    "confusion_matrix(pred_valid,y_valid)"
   ]
  },
  {
   "cell_type": "code",
   "execution_count": 46,
   "metadata": {},
   "outputs": [
    {
     "data": {
      "text/plain": [
       "Counter({1: 897, -1: 739, 0: 114})"
      ]
     },
     "execution_count": 46,
     "metadata": {},
     "output_type": "execute_result"
    }
   ],
   "source": [
    "Counter(y_valid)"
   ]
  },
  {
   "cell_type": "code",
   "execution_count": 47,
   "metadata": {},
   "outputs": [
    {
     "data": {
      "text/plain": [
       "Counter({1: 1750})"
      ]
     },
     "execution_count": 47,
     "metadata": {},
     "output_type": "execute_result"
    }
   ],
   "source": [
    "Counter(pred_valid)"
   ]
  },
  {
   "cell_type": "markdown",
   "metadata": {},
   "source": [
    "## Long term performance with Random Forest Classifier, optimal hyper-parameters"
   ]
  },
  {
   "cell_type": "code",
   "execution_count": 48,
   "metadata": {
    "ExecuteTime": {
     "end_time": "2020-02-11T00:59:21.882803Z",
     "start_time": "2020-02-11T00:59:21.859799Z"
    }
   },
   "outputs": [],
   "source": [
    "start_dates = [pd.to_datetime('2000-01-01') + pd.DateOffset(months = 3 * i) for i in range(62)]\n",
    "end_dates = [d + pd.DateOffset(months = 36) for d in start_dates]"
   ]
  },
  {
   "cell_type": "code",
   "execution_count": 49,
   "metadata": {
    "ExecuteTime": {
     "end_time": "2020-02-11T01:00:06.107690Z",
     "start_time": "2020-02-11T01:00:06.050640Z"
    }
   },
   "outputs": [],
   "source": [
    "training_frames = [data.loc[d:d+pd.DateOffset(months = 36)] for d in start_dates]\n",
    "valid_frames = [data.loc[d:d+pd.DateOffset(months = 3)] for d in end_dates]\n",
    "test_frames = [data.loc[d+pd.DateOffset(months = 6):d+pd.DateOffset(months = 9)] for d in end_dates]"
   ]
  },
  {
   "cell_type": "code",
   "execution_count": 50,
   "metadata": {
    "ExecuteTime": {
     "end_time": "2020-02-11T01:00:20.984116Z",
     "start_time": "2020-02-11T01:00:11.072616Z"
    }
   },
   "outputs": [],
   "source": [
    "training_data = [d.reset_index().drop\n",
    "                                 (['ticker','date',\n",
    "                                   'next_period_return',\n",
    "                                   'spy_next_period_return',\n",
    "                                   'rel_performance','pred_rel_return',\n",
    "                                  'return', 'cum_ret', 'spy_cum_ret'],axis=1) for d in training_frames]"
   ]
  },
  {
   "cell_type": "code",
   "execution_count": 51,
   "metadata": {
    "ExecuteTime": {
     "end_time": "2020-02-11T01:00:22.138142Z",
     "start_time": "2020-02-11T01:00:20.986086Z"
    }
   },
   "outputs": [],
   "source": [
    "test_data = [d.reset_index().drop(['ticker','date',\n",
    "                                   'next_period_return',\n",
    "                                   'spy_next_period_return',\n",
    "                                   'rel_performance','pred_rel_return',\n",
    "                                  'return', 'cum_ret', 'spy_cum_ret'],axis=1) for d in test_frames]"
   ]
  },
  {
   "cell_type": "code",
   "execution_count": 52,
   "metadata": {
    "ExecuteTime": {
     "end_time": "2020-02-11T01:00:28.172336Z",
     "start_time": "2020-02-11T01:00:28.162322Z"
    }
   },
   "outputs": [],
   "source": [
    "training_labels = [d['rel_performance'].values for d in training_frames]"
   ]
  },
  {
   "cell_type": "code",
   "execution_count": 53,
   "metadata": {
    "ExecuteTime": {
     "end_time": "2020-02-11T01:00:33.994294Z",
     "start_time": "2020-02-11T01:00:33.869286Z"
    }
   },
   "outputs": [],
   "source": [
    "opt_training_data = [t[optim_feats] for t in training_data]\n",
    "opt_test_data = [v[optim_feats] for v in test_data]"
   ]
  },
  {
   "cell_type": "code",
   "execution_count": 59,
   "metadata": {
    "ExecuteTime": {
     "end_time": "2020-02-11T01:01:15.387898Z",
     "start_time": "2020-02-11T01:00:58.271824Z"
    }
   },
   "outputs": [],
   "source": [
    "P_L = []\n",
    "x = [1]\n",
    "ret = []\n",
    "\n",
    "for i in range(len(training_labels)):\n",
    "        rf_clf.fit(opt_training_data[i],training_labels[i])\n",
    "        pred_i = rf_clf.predict(opt_test_data[i])\n",
    "        profit_i = (pred_i * test_frames[i]['next_period_return']).sum()\n",
    "        P_L.append(profit_i)\n",
    "        num_positions = len(pred_i)\n",
    "        ret.append((1.0/num_positions) * profit_i)\n",
    "        x.append(x[i] + (x[i]/num_positions) * profit_i)"
   ]
  },
  {
   "cell_type": "code",
   "execution_count": 60,
   "metadata": {
    "ExecuteTime": {
     "end_time": "2020-02-11T01:01:20.294124Z",
     "start_time": "2020-02-11T01:01:20.107095Z"
    }
   },
   "outputs": [
    {
     "data": {
      "image/png": "[encoded data removed]",
      "text/plain": [
       "<Figure size 640x480 with 1 Axes>"
      ]
     },
     "metadata": {},
     "output_type": "display_data"
    }
   ],
   "source": [
    "plt.plot(x);"
   ]
  },
  {
   "cell_type": "code",
   "execution_count": 61,
   "metadata": {},
   "outputs": [
    {
     "data": {
      "text/plain": [
       "63"
      ]
     },
     "execution_count": 61,
     "metadata": {},
     "output_type": "execute_result"
    }
   ],
   "source": [
    "len(x)"
   ]
  },
  {
   "cell_type": "code",
   "execution_count": 62,
   "metadata": {
    "ExecuteTime": {
     "end_time": "2020-02-11T01:01:37.494042Z",
     "start_time": "2020-02-11T01:01:37.445007Z"
    }
   },
   "outputs": [],
   "source": [
    "SPY = pd.read_pickle(r'C:\\Users\\niels\\OneDrive\\Machine Learning 2022\\Lecture 2\\SPY_cum_ret.pkl')\n",
    "SPY = SPY.loc['2003-01-01':'2018-09-30']\n",
    "SPY = SPY.resample('Q').ffill()\n",
    "SPY['spy_cum_ret'] = (SPY['spy_cum_ret'] - SPY['spy_cum_ret'][0] + 1)\n",
    "SPY['strategy'] = x"
   ]
  },
  {
   "cell_type": "code",
   "execution_count": 63,
   "metadata": {
    "ExecuteTime": {
     "end_time": "2020-02-11T01:01:41.397432Z",
     "start_time": "2020-02-11T01:01:41.198433Z"
    }
   },
   "outputs": [
    {
     "data": {
      "image/png": "[encoded data removed]",
      "text/plain": [
       "<Figure size 640x480 with 1 Axes>"
      ]
     },
     "metadata": {},
     "output_type": "display_data"
    }
   ],
   "source": [
    "SPY.plot();"
   ]
  },
  {
   "cell_type": "code",
   "execution_count": 64,
   "metadata": {
    "ExecuteTime": {
     "end_time": "2020-02-11T01:01:46.417678Z",
     "start_time": "2020-02-11T01:01:46.157159Z"
    }
   },
   "outputs": [
    {
     "data": {
      "image/png": "[encoded data removed]",
      "text/plain": [
       "<Figure size 640x480 with 1 Axes>"
      ]
     },
     "metadata": {},
     "output_type": "display_data"
    }
   ],
   "source": [
    "SPY = SPY.resample('Y').ffill()\n",
    "SPY.plot();"
   ]
  },
  {
   "cell_type": "code",
   "execution_count": 65,
   "metadata": {
    "ExecuteTime": {
     "end_time": "2020-02-11T01:01:54.486712Z",
     "start_time": "2020-02-11T01:01:54.468721Z"
    }
   },
   "outputs": [
    {
     "name": "stdout",
     "output_type": "stream",
     "text": [
      "Strategy Sharpe Ratio:  0.7652305368798082\n"
     ]
    }
   ],
   "source": [
    "strategy_mean_ret = (SPY['strategy'] - 1).diff().mean()\n",
    "strategy_std = (SPY['strategy'] - 1).diff().std()\n",
    "strategy_sr = strategy_mean_ret/strategy_std\n",
    "print('Strategy Sharpe Ratio: ',strategy_sr)"
   ]
  },
  {
   "cell_type": "code",
   "execution_count": 66,
   "metadata": {
    "ExecuteTime": {
     "end_time": "2020-02-11T01:02:00.792517Z",
     "start_time": "2020-02-11T01:02:00.786515Z"
    }
   },
   "outputs": [
    {
     "data": {
      "text/plain": [
       "4.700468818938073"
      ]
     },
     "execution_count": 66,
     "metadata": {},
     "output_type": "execute_result"
    }
   ],
   "source": [
    "x[-1]"
   ]
  },
  {
   "cell_type": "code",
   "execution_count": 67,
   "metadata": {
    "ExecuteTime": {
     "end_time": "2020-02-09T20:42:54.524395Z",
     "start_time": "2020-02-09T20:42:54.519365Z"
    }
   },
   "outputs": [
    {
     "data": {
      "text/plain": [
       "2.7904169999999997"
      ]
     },
     "execution_count": 67,
     "metadata": {},
     "output_type": "execute_result"
    }
   ],
   "source": [
    "SPY['spy_cum_ret'][-1]"
   ]
  },
  {
   "cell_type": "code",
   "execution_count": 68,
   "metadata": {
    "ExecuteTime": {
     "end_time": "2020-02-09T20:42:59.954056Z",
     "start_time": "2020-02-09T20:42:59.949042Z"
    }
   },
   "outputs": [],
   "source": [
    "strategy_ret = (SPY['strategy'] - 1).diff().values[1:]\n",
    "spy_ret = (SPY['spy_cum_ret'] - 1).diff().values[1:]"
   ]
  },
  {
   "cell_type": "code",
   "execution_count": 69,
   "metadata": {
    "ExecuteTime": {
     "end_time": "2020-02-09T20:43:01.135837Z",
     "start_time": "2020-02-09T20:43:01.130715Z"
    }
   },
   "outputs": [],
   "source": [
    "beta = (np.cov(spy_ret,strategy_ret)/np.var(spy_ret))[1,0]"
   ]
  },
  {
   "cell_type": "code",
   "execution_count": 70,
   "metadata": {
    "ExecuteTime": {
     "end_time": "2020-02-09T20:43:02.086883Z",
     "start_time": "2020-02-09T20:43:02.081733Z"
    }
   },
   "outputs": [
    {
     "data": {
      "text/plain": [
       "1.8456606739354624"
      ]
     },
     "execution_count": 70,
     "metadata": {},
     "output_type": "execute_result"
    }
   ],
   "source": [
    "beta"
   ]
  },
  {
   "cell_type": "code",
   "execution_count": 71,
   "metadata": {
    "ExecuteTime": {
     "end_time": "2020-02-09T20:43:03.343715Z",
     "start_time": "2020-02-09T20:43:03.340714Z"
    }
   },
   "outputs": [],
   "source": [
    "residual_ret = strategy_ret - beta * spy_ret"
   ]
  },
  {
   "cell_type": "code",
   "execution_count": 72,
   "metadata": {
    "ExecuteTime": {
     "end_time": "2020-02-09T20:43:04.279350Z",
     "start_time": "2020-02-09T20:43:04.274357Z"
    }
   },
   "outputs": [],
   "source": [
    "IR = np.mean(residual_ret)/np.std(residual_ret)"
   ]
  },
  {
   "cell_type": "code",
   "execution_count": 73,
   "metadata": {
    "ExecuteTime": {
     "end_time": "2020-02-09T20:43:04.957387Z",
     "start_time": "2020-02-09T20:43:04.952353Z"
    }
   },
   "outputs": [
    {
     "data": {
      "text/plain": [
       "0.3165990948906682"
      ]
     },
     "execution_count": 73,
     "metadata": {},
     "output_type": "execute_result"
    }
   ],
   "source": [
    "IR"
   ]
  },
  {
   "cell_type": "code",
   "execution_count": 74,
   "metadata": {
    "ExecuteTime": {
     "end_time": "2020-02-09T20:43:08.280790Z",
     "start_time": "2020-02-09T20:43:08.275790Z"
    }
   },
   "outputs": [],
   "source": [
    "alpha = np.mean(residual_ret)"
   ]
  },
  {
   "cell_type": "code",
   "execution_count": 75,
   "metadata": {
    "ExecuteTime": {
     "end_time": "2020-02-09T20:43:09.378792Z",
     "start_time": "2020-02-09T20:43:09.373790Z"
    }
   },
   "outputs": [
    {
     "data": {
      "text/plain": [
       "0.04781528619349313"
      ]
     },
     "execution_count": 75,
     "metadata": {},
     "output_type": "execute_result"
    }
   ],
   "source": [
    "alpha"
   ]
  },
  {
   "cell_type": "markdown",
   "metadata": {},
   "source": [
    "## Compute optimal features each quarter"
   ]
  },
  {
   "cell_type": "code",
   "execution_count": 132,
   "metadata": {},
   "outputs": [],
   "source": [
    "import _pickle as cPickle"
   ]
  },
  {
   "cell_type": "code",
   "execution_count": 133,
   "metadata": {},
   "outputs": [],
   "source": [
    "with open(r'C:\\Users\\niels\\OneDrive\\Machine Learning 2022\\Lecture 5\\opt_feat_4.pkl','rb') as f:\n",
    "    optimal_features = cPickle.load(f)"
   ]
  },
  {
   "cell_type": "code",
   "execution_count": 134,
   "metadata": {},
   "outputs": [
    {
     "data": {
      "text/plain": [
       "[Index(['opepsq', 'oepsxq', 'ibcomy', 'oibdpq', 'capeiq', 'nopiq', 'niq',\n",
       "        'oepsxy', 'cogsy', 'yearly_sales', 'ibadjq', 'revty', 'ibq', 'ltq',\n",
       "        'aftret_equityq', 'bmq', 'oepf12', 'oeps12', 'dvpspq', 'evmq', 'epspiq',\n",
       "        'pe_exiq', 'epsfi12', 'epsf12', 'fcf_csfhdq', 'fcf_yield', 'opcfq',\n",
       "        'cfo-per-share', 'xintq'],\n",
       "       dtype='object'),\n",
       " Index(['opepsq', 'oepsxq', 'niq', 'cash_ratioq', 'capeiq', 'oepf12',\n",
       "        'oancfy_q', 'ibadjq', 'ibq', 'evmq', 'yearly_sales', 'aftret_equityq',\n",
       "        'ltq', 'oeps12', 'nopiq', 'oibdpq', 'dvpspq', 'revty', 'oibdpy',\n",
       "        'fcf_yield', 'fcf_csfhdq', 'pe_exiq', 'book_value_yield', 'epspiq',\n",
       "        'epsfi12', 'cfo-per-share', 'opcfq', 'dlttq', 'epsf12', 'cogsy',\n",
       "        'epsfiq'],\n",
       "       dtype='object'),\n",
       " Index(['oepsxq', 'opepsq', 'oibdpq', 'capeiq', 'nopiq', 'oepf12', 'ibcq',\n",
       "        'yearly_sales', 'ibq', 'ltq', 'niq', 'oeps12', 'oiadpq', 'epspiq',\n",
       "        'xsgay', 'cash_conversionq', 'oibdpy', 'cash_ratioq', 'fcf_yield',\n",
       "        'fcf_csfhdq', 'chechy', 'ibadjq', 'bmq', 'cogsy', 'opcfq', 'pe_exiq',\n",
       "        'epsfiq', 'epsfi12', 'epsf12', 'cfo-per-share'],\n",
       "       dtype='object'),\n",
       " Index(['cash_ratioq', 'opepsq', 'oepsxq', 'rect_actq', 'ibcomy', 'xsgay',\n",
       "        'epsfiq', 'oibdpq', 'niq', 'ltq', 'oiadpq', 'ibq', 'at5', 'oepf12',\n",
       "        'prccq', 'cash_conversionq', 'epspiq', 'oepsxy', 'curr_debtq', 'oeps12',\n",
       "        'epsfi12', 'yearly_sales', 'cogsy', 'fcf_csfhdq', 'pe_exiq', 'capeiq'],\n",
       "       dtype='object'),\n",
       " Index(['fcf_csfhdq', 'cash_ratioq', 'fcf_yield', 'opepsq', 'epsfiq', 'oepsxq',\n",
       "        'quick_ratioq', 'ibq', 'capxy', 'niq', 'txpdy', 'oibdpq', 'piq',\n",
       "        'curr_ratioq', 'epspiq', 'oancfy', 'de_ratioq', 'debt_capitalq',\n",
       "        'debt_assetsq', 'int_debtq', 'capxq', 'book_value_per_share',\n",
       "        'sale_equityq', 'capeiq', 'oancfy_q', 'market_cap', 'cfo-per-share',\n",
       "        'apq'],\n",
       "       dtype='object'),\n",
       " Index(['fcf_csfhdq', 'oepsxq', 'epsfiq', 'cash_ratioq', 'quick_ratioq',\n",
       "        'opepsq', 'oancfy_q', 'oibdpq', 'aftret_equityq', 'rd_saleq', 'niq',\n",
       "        'oepf12', 'sale_invcapq', 'curr_ratioq', 'ibq', 'int_totdebtq',\n",
       "        'de_ratioq', 'seqq', 'dvy', 'lt_ppentq', 'fcf_yield', 'xsgay', 'ltq',\n",
       "        'capxy', 'market_cap', 'efftaxq', 'roceq', 'cfo-per-share', 'apq',\n",
       "        'ibcq', 'capeiq'],\n",
       "       dtype='object'),\n",
       " Index(['oepsxq', 'fcf_csfhdq', 'cash_ratioq', 'opepsq', 'quick_ratioq',\n",
       "        'sale_invcapq', 'market_cap', 'book_value_per_share', 'bmq', 'rd_saleq',\n",
       "        'aftret_equityq', 'oepf12', 'oancfy_q', 'epspi12', 'revty', 'de_ratioq',\n",
       "        'saleq', 'int_totdebtq', 'dvy', 'evmq', 'ltq', 'efftaxq', 'ibcq',\n",
       "        'epsfiq', 'psq', 'dlcq', 'capeiq', 'dprq', 'apq', 'epsfi12'],\n",
       "       dtype='object'),\n",
       " Index(['fcf_csfhdq', 'oepf12', 'capeiq', 'bmq', 'oepsxq', 'apq', 'oancfy_q',\n",
       "        'debt_capitalq', 'rd_saleq', 'oeps12', 'opepsq', 'quick_ratioq',\n",
       "        'cash_ratioq', 'intcovq', 'de_ratioq', 'txtq', 'cash_debtq', 'ibq',\n",
       "        'chechy', 'dltry', 'dvy', 'ibcy', 'int_totdebtq', 'xinty',\n",
       "        'aftret_equityq', 'cfo-per-share', 'dprq', 'at5', 'ibcq', 'epsfi12',\n",
       "        'epspi12', 'ibcomq'],\n",
       "       dtype='object'),\n",
       " Index(['fcf_csfhdq', 'oepsxq', 'opepsq', 'oeps12', 'oepf12', 'capeiq', 'bmq',\n",
       "        'apq', 'niq', 'xinty', 'rd_saleq', 'at5', 'epsfiq', 'cash_ratioq',\n",
       "        'ibcomq', 'book_value_per_share', 'epspiq', 'oibdpq', 'debt_capitalq',\n",
       "        'epsfi12', 'int_totdebtq', 'ibcq', 'cfo-per-share', 'dltisy', 'pe_exiq',\n",
       "        'capxq', 'lt_ppentq'],\n",
       "       dtype='object'),\n",
       " Index(['fcf_csfhdq', 'oepsxq', 'oepf12', 'xinty', 'opepsq', 'oancfy_q',\n",
       "        'oibdpq', 'ibq', 'book_value_per_share', 'bmq', 'niq', 'oeps12', 'at5',\n",
       "        'rd_saleq', 'ibadjq', 'piq', 'revty', 'cash_ratioq', 'ibcq', 'txtq',\n",
       "        'debt_capitalq', 'debt_assetsq', 'ibcomq', 'capxq', 'apq', 'capeiq',\n",
       "        'epspi12', 'cfo-per-share', 'epsfxq', 'epsfiq', 'epsfi12'],\n",
       "       dtype='object'),\n",
       " Index(['oepsxq', 'fcf_csfhdq', 'opepsq', 'dltry', 'chechy', 'pretret_noaq',\n",
       "        'icaptq', 'book_value_per_share', 'capxq', 'gprofq', 'equity_invcapq',\n",
       "        'oepf12', 'oeps12', 'accrualq', 'dltt_beq', 'ibadjq', 'at5', 'rd_saleq',\n",
       "        'quick_ratioq', 'oancfy', 'debt_capitalq', 'xintq', 'debt_assetsq',\n",
       "        'ibcomq', 'cfo-per-share', 'bmq', 'capeiq', 'evmq', 'ibcq', 'ptpmq',\n",
       "        'oancfy_q', 'apq', 'be4', 'epsfi12', 'ltq', 'book_value_yield',\n",
       "        'pe_exiq'],\n",
       "       dtype='object'),\n",
       " Index(['pretret_earnatq', 'fcf_csfhdq', 'oancfy', 'pretret_noaq', 'oepsxq',\n",
       "        'opepsq', 'xintq', 'bmq', 'gprofq', 'epsfiq', 'ibq', 'ibcomq',\n",
       "        'int_totdebtq', 'oeps12', 'pe_exiq', 'accrualq', 'at5', 'epsfxq',\n",
       "        'epsfi12', 'oepsxy', 'rd_saleq', 'oancfy_q', 'xsgay', 'efftaxq',\n",
       "        'profit_lctq', 'txditcq', 'seqq', 'book_value_per_share',\n",
       "        'cfo-per-share', 'apq', 'chechy', 'oepf12', 'int_debtq', 'pay_turnq',\n",
       "        'lagbe4', 'lagseq4', 'cf_yield'],\n",
       "       dtype='object'),\n",
       " Index(['ibcq', 'ibadjq', 'opepsq', 'fcf_csfhdq', 'oepsxq', 'epsfi12',\n",
       "        'book_value_yield', 'bmq', 'pe_exiq', 'epsfxq', 'ibcomq', 'oeps12',\n",
       "        'piq', 'at5', 'xintq', 'chechy', 'epsfiq', 'oancfy', 'ptpmq', 'evmq',\n",
       "        'cfo-per-share', 'oepf12', 'niq', 'dvpspq', 'book_value_per_share',\n",
       "        'ibq', 'rd_saleq', 'capeiq', 'cf_yield', 'oiadpq', 'txtq', 'epspi12',\n",
       "        'oancfy_q', 'cshfdq', 'dvy', 'pay_turnq', 'pretret_earnatq', 'epspxq',\n",
       "        'gprofq', 'xsgay', 'accrualq', 'gpmq', 'rect_turnq', 'pe_op_basicq',\n",
       "        'debt_assetsq'],\n",
       "       dtype='object'),\n",
       " Index(['oepsxq', 'fcf_csfhdq', 'opepsq', 'epsfxq', 'epspi12', 'epsfi12',\n",
       "        'pe_exiq', 'oancfy_q', 'int_debtq', 'txtq', 'at5', 'capeiq',\n",
       "        'int_totdebtq', 'chechy', 'dpcq', 'cash_ratioq', 'book_value_yield',\n",
       "        'book_value_per_share', 'epsfiq', 'lagppent4', 'cash_ltq', 'niq',\n",
       "        'oepf12', 'bmq', 'pe_incq', 'epspxq', 'capital_ratioq', 'ppentq',\n",
       "        'oiadpq', 'opcfq', 'cshfdq', 'ibcomq', 'debt_assetsq', 'oeps12',\n",
       "        'dlttq', 'oancfy', 'opmadq', 'txditcq', 'cfo-per-share', 'inv_turnq',\n",
       "        'ltq', 'aftret_equityq', 'xinty', 'lt_ppentq', 'aftret_eqq',\n",
       "        'cash_conversionq', 'totdebt_invcapq', 'debt_atq', 'xsgay',\n",
       "        'pay_turnq'],\n",
       "       dtype='object'),\n",
       " Index(['oepsxq', 'fcf_csfhdq', 'xinty', 'book_value_per_share', 'opepsq',\n",
       "        'oancfy_q', 'epsfxq', 'oancfy', 'cash_ratioq', 'dltisy', 'chechy',\n",
       "        'epspi12', 'capeiq', 'cf_yield', 'book_value_yield', 'ibq', 'gprofq',\n",
       "        'at5', 'epsfiq', 'niq', 'ibadjq', 'de_ratioq', 'xintq', 'opcfq', 'ibcq',\n",
       "        'pe_op_basicq', 'debt_invcapq', 'piq', 'debt_capitalq', 'capxy',\n",
       "        'int_totdebtq', 'debt_assetsq', 'ltq', 'epspxq', 'prccq', 'epsf12',\n",
       "        'ibcomq', 'txditcq', 'pretret_earnatq', 'rect_actq', 'lt_ppentq',\n",
       "        'accrualq', 'pretret_noaq', 'opmbdq'],\n",
       "       dtype='object'),\n",
       " Index(['fcf_csfhdq', 'oepsxq', 'bmq', 'opepsq', 'book_value_yield', 'xinty',\n",
       "        'book_value_per_share', 'oancfy', 'epsfiq', 'cash_ratioq', 'de_ratioq',\n",
       "        'epsfi12', 'cash_ltq', 'oancfy_q', 'chechy', 'ibcq', 'ibcomq',\n",
       "        'epspi12', 'lt_ppentq', 'oeps12', 'ibadjq', 'at5', 'cf_yield', 'ibq',\n",
       "        'equity_invcapq', 'niq', 'xintq', 'cfo-per-share', 'inv_turnq', 'prccq',\n",
       "        'oepf12', 'int_totdebtq', 'opcfq', 'epsfxq', 'ltq', 'evmq', 'epspxq',\n",
       "        'oibdpq', 'dltt_beq', 'roceq', 'csh12q', 'rect_actq', 'lagicapt4',\n",
       "        'pretret_earnatq', 'lctq'],\n",
       "       dtype='object'),\n",
       " Index(['fcf_csfhdq', 'oepsxq', 'book_value_per_share', 'xinty', 'oancfy',\n",
       "        'quick_ratioq', 'ltq', 'dltt_beq', 'book_value_yield', 'cf_yield',\n",
       "        'buy_back_yield', 'dltry', 'ppentq', 'lt_debtq', 'intcovq', 'ibcy',\n",
       "        'revty', 'debt_assetsq', 'oancfy_q', 'cash_ltq', 'cash_ratioq',\n",
       "        'de_ratioq', 'epsfi12', 'equity_invcapq', 'cogsy', 'epspi12', 'opepsq',\n",
       "        'int_totdebtq', 'niq', 'opcfq', 'sale_nwcq', 'at5', 'beq', 'xsgay',\n",
       "        'ibq', 'ibcomq', 'cfo-per-share', 'fcf_yield', 'cheq', 'lt_ppentq',\n",
       "        'epsfiq', 'prcraq', 'cstkq', 'profit_lctq', 'chechy'],\n",
       "       dtype='object'),\n",
       " Index(['oepsxq', 'xinty', 'book_value_per_share', 'revty', 'epsfiq', 'opcfq',\n",
       "        'dpcq', 'int_totdebtq', 'lt_ppentq', 'bmq', 'niq', 'prcraq', 'lt_debtq',\n",
       "        'ppentq', 'dltt_beq', 'actq', 'ibcq', 'epsfxq', 'oancfy', 'ibadjq',\n",
       "        'oancfy_q', 'oepsxy', 'icaptq', 'cogsq', 'cfo-per-share', 'epsfi12',\n",
       "        'cash_ltq', 'lctq4', 'lagicapt4', 'intcovq', 'oiadpq', 'ibcomq',\n",
       "        'buy_back_yield', 'cshopq', 'oeps12', 'book_value_yield', 'epspxq',\n",
       "        'accrualq', 'fcf_yield', 'rect_actq', 'evmq', 'totdebt_invcapq',\n",
       "        'capxy', 'fcf_ocfq', 'dvy', 'roceq'],\n",
       "       dtype='object'),\n",
       " Index(['revty', 'xinty'], dtype='object'),\n",
       " Index(['intcovq', 'rect_actq', 'epsfxq', 'cogsy', 'ocf_lctq', 'dltt_beq',\n",
       "        'txpq', 'bmq', 'ibcq', 'ibq', 'totdebt_invcapq', 'ibcomq', 'epsfiq',\n",
       "        'chechy', 'epspi12', 'debt_capitalq', 'dpcq'],\n",
       "       dtype='object'),\n",
       " Index(['lctq4', 'lctq'], dtype='object'),\n",
       " Index(['oancfy_q'], dtype='object'),\n",
       " Index(['ocf_lctq', 'intcovq', 'lagppent_alt4', 'lctq', 'sale_nwcq',\n",
       "        'debt_ebitdaq', 'pe_op_basicq', 'at5', 'gprofq', 'xinty',\n",
       "        'intcov_ratioq', 'dpq', 'dltt_beq', 'debt_capitalq'],\n",
       "       dtype='object'),\n",
       " Index(['xinty', 'oepsxq', 'chechy', 'fcf_ocfq', 'rectq', 'apq', 'dltisy',\n",
       "        'buy_back_yield'],\n",
       "       dtype='object'),\n",
       " Index(['chechy', 'cshiq', 'csh12q', 'fcf_ocfq', 'nopiq', 'dvpspq',\n",
       "        'sale_invcapq', 'totdebt_invcapq'],\n",
       "       dtype='object'),\n",
       " Index(['capxy', 'fcf_csfhdq', 'fqtr_3', 'roeq', 'pcfq', 'csh12q', 'oepsxq',\n",
       "        'oibdpy', 'dpcy', 'epsfi12', 'chechy', 'dpq', 'cshprq', 'pe_op_basicq'],\n",
       "       dtype='object'),\n",
       " Index(['roaq', 'sale_nwcq', 'rect_actq', 'quick_ratioq', 'cf_yield', 'lctq4',\n",
       "        'de_ratioq', 'pretret_noaq', 'accrualq', 'book_value_yield',\n",
       "        'fcf_yield', 'lctq', 'beq', 'intcovq', 'capxy', 'pretret_earnatq',\n",
       "        'cash_ratioq', 'roeq', 'debt_capitalq', 'roceq', 'opcfq', 'fcf_ocfq',\n",
       "        'debt_invcapq', 'debt_assetsq', 'fcf_csfhdq', 'revty', 'gprofq',\n",
       "        'cshoq', 'fqtr_3', 'oancfy_q', 'pe_op_basicq', 'cash_debtq',\n",
       "        'buy_back_yield', 'lagicapt4', 'prccq', 'mibq', 'icaptq', 'at5',\n",
       "        'cfo-per-share'],\n",
       "       dtype='object'),\n",
       " Index(['ocf_lctq', 'lagppent4', 'rect_actq', 'intcovq', 'lctq', 'roaq',\n",
       "        'fcf_csfhdq', 'pretret_noaq', 'pretret_earnatq', 'ibcy', 'debt_atq',\n",
       "        'oancfy_q', 'capxy', 'fcf_yield', 'oancfy', 'opcfq', 'lctq4', 'bmq',\n",
       "        'totdebt_invcapq', 'curr_debtq', 'cash_debtq', 'curr_ratioq', 'beq',\n",
       "        'pe_op_basicq', 'cash_ratioq', 'roeq', 'miiy', 'debt_invcapq',\n",
       "        'de_ratioq', 'accrualq', 'fcf_ocfq', 'be4', 'invt_actq', 'debt_assetsq',\n",
       "        'xinty', 'oepf12', 'epsfxq', 'req', 'txpdy', 'sale_nwcq', 'epspi12',\n",
       "        'cogsy', 'yearly_sales', 'seq4', 'atq', 'lagicapt4'],\n",
       "       dtype='object'),\n",
       " Index(['ocf_lctq', 'fcf_yield', 'rect_actq', 'cf_yield'], dtype='object'),\n",
       " Index(['ocf_lctq', 'prccq', 'fcf_yield', 'fcf_csfhdq', 'teqq', 'debt_invcapq',\n",
       "        'ibcy', 'invt_actq', 'quick_ratioq', 'cash_ltq', 'seq4', 'lctq4',\n",
       "        'accrualq', 'cshprq', 'debt_capitalq', 'ibcq', 'pretret_earnatq',\n",
       "        'capital_ratioq', 'oancfy', 'roaq', 'cf_yield', 'pcfq', 'fcf_ocfq',\n",
       "        'nopiq', 'capxy', 'oepf12', 'pe_op_basicq', 'miiy', 'cshfdq', 'lctq',\n",
       "        'ltq', 'roceq', 'buy_back_yield', 'oancfy_q', 'pretret_noaq', 'gprofq',\n",
       "        'pe_exiq', 'apq', 'xrdy', 'pay_turnq', 'gpmq', 'rect_turnq', 'xsgay',\n",
       "        'niq', 'be4', 'oeps12', 'txpq', 'book_value_yield', 'lt_ppentq',\n",
       "        'epsfxq'],\n",
       "       dtype='object'),\n",
       " Index(['ocf_lctq', 'fcf_yield', 'accrualq', 'book_value_yield', 'prccq',\n",
       "        'dpcq', 'teqq', 'fcf_csfhdq', 'aftret_invcapxq', 'opmadq', 'bmq',\n",
       "        'chechy', 'cf_yield', 'miiy', 'pcfq', 'capxy', 'txpq', 'lagppent4',\n",
       "        'dprq', 'pretret_noaq', 'int_debtq', 'xsgaq', 'epspi12', 'epsx12',\n",
       "        'beq', 'epsfxq', 'xinty', 'opepsq', 'invt_actq', 'cshoq', 'roeq',\n",
       "        'oepsxq', 'curr_debtq', 'capital_ratioq', 'rectq', 'dltt_beq',\n",
       "        'profit_lctq', 'lt_ppentq', 'rect_turnq', 'rect_actq', 'oancfy_q',\n",
       "        'lctq4', 'buy_back_yield', 'fcf_ocfq', 'dvy', 'dltisy', 'cshiq',\n",
       "        'gprofq', 'roaq', 'oibdpq', 'xoprq', 'cash_ltq'],\n",
       "       dtype='object'),\n",
       " Index(['ocf_lctq', 'fcf_yield', 'prccq', 'xinty', 'book_value_yield',\n",
       "        'lagicapt4', 'accrualq', 'aftret_invcapxq', 'rectq', 'txditcq',\n",
       "        'oancfy', 'dltt_beq', 'txpdy', 'intcovq', 'teqq', 'opcfq', 'epsfiq',\n",
       "        'cf_yield', 'bmq', 'fcf_csfhdq', 'beq', 'cfo-per-share', 'market_cap',\n",
       "        'lt_debtq', 'pcfq', 'dpcq', 'roeq', 'be4', 'capxq', 'gpmq', 'ptpmq',\n",
       "        'xoprq', 'invtq', 'yearly_sales', 'buy_back_yield', 'invt_actq',\n",
       "        'oiadpq', 'dltisy', 'oancfy_q', 'dvy', 'debt_capitalq', 'ceq4',\n",
       "        'curr_debtq', 'lt_ppentq', 'ibq', 'dvpspq', 'oibdpq', 'lagbe4',\n",
       "        'curr_ratioq', 'ltq', 'ppentq', 'debt_assetsq', 'csh12q'],\n",
       "       dtype='object'),\n",
       " Index(['prccq', 'fcf_yield', 'accrualq', 'ocf_lctq', 'atq', 'lagicapt4',\n",
       "        'oepsxq', 'fcf_csfhdq', 'cshprq', 'cash_conversionq', 'dpcq', 'dltry',\n",
       "        'lt_debtq', 'oibdpq', 'inv_turnq', 'oancfy', 'epsfxq', 'cf_yield',\n",
       "        'sale_invcapq', 'icaptq', 'lagbe4', 'debt_atq', 'xrdy', 'epsfiq', 'ltq',\n",
       "        'epspxq', 'oancfy_q', 'dpcy', 'revty', 'debt_ebitdaq', 'ibcy',\n",
       "        'capital_ratioq', 'cshopq', 'de_ratioq', 'xoprq', 'dpq', 'ibcq',\n",
       "        'epsfi12', 'curr_ratioq', 'ibadjq', 'cash_ratioq', 'evmq', 'be4',\n",
       "        'cheq', 'lctq4', 'debt_assetsq', 'ceqq', 'market_cap', 'at_turnq',\n",
       "        'capxq', 'invtq'],\n",
       "       dtype='object'),\n",
       " Index(['prccq', 'fcf_yield', 'accrualq', 'rectq', 'epsfxq', 'prcraq', 'oepsxq',\n",
       "        'ltq', 'fcf_csfhdq', 'cf_yield', 'intcovq', 'lt_debtq',\n",
       "        'cash_conversionq', 'capxq', 'npmq', 'opepsq', 'apq', 'sale_invcapq',\n",
       "        'cash_debtq', 'spiq', 'xoprq', 'oancfy_q', 'lagicapt4', 'actq', 'xsgay',\n",
       "        'sale_nwcq', 'dpcq', 'gprofq', 'niq', 'dlcq', 'oancfy', 'ocf_lctq',\n",
       "        'sale_equityq', 'ceqq', 'epspxq', 'roceq', 'lctq4', 'curr_ratioq',\n",
       "        'cheq', 'ppentq', 'xsgaq', 'ibcq', 'cfo-per-share', 'cash_ratioq',\n",
       "        'inv_turnq', 'fcf_ocfq', 'book_value_yield', 'revty', 'market_cap',\n",
       "        'dltt_beq', 'aftret_equityq', 'oibdpy', 'intcov_ratioq', 'xinty'],\n",
       "       dtype='object'),\n",
       " Index(['ocf_lctq', 'prccq', 'capxy', 'cf_yield', 'book_value_yield', 'oancfy',\n",
       "        'accrualq', 'rectq', 'aftret_invcapxq', 'int_totdebtq', 'fcf_csfhdq',\n",
       "        'cash_debtq', 'bmq', 'gpmq', 'req', 'oancfy_q', 'dpcq', 'opcfq',\n",
       "        'revty', 'sale_invcapq', 'lagicapt4', 'xsgay', 'cshiq', 'sale_equityq',\n",
       "        'beq', 'xinty', 'ltq', 'cfo-per-share', 'lagbe4', 'equity_invcapq',\n",
       "        'fcf_yield', 'cshprq', 'roeq', 'epsfiq', 'capital_ratioq', 'dvy',\n",
       "        'invtq', 'short_debtq', 'debt_assetsq', 'lt_ppentq', 'lctq4',\n",
       "        'market_cap', 'dltt_beq', 'opepsq', 'piq', 'oibdpy', 'pe_op_basicq',\n",
       "        'csh12q', 'dlcq', 'actq', 'epspxq', 'gprofq', 'txtq', 'epsfi12', 'dpq'],\n",
       "       dtype='object'),\n",
       " Index(['ocf_lctq', 'xinty', 'rectq', 'ltq', 'oancfy', 'fcf_yield', 'lagbe4',\n",
       "        'roaq', 'niq', 'prccq', 'oancfy_q', 'lctq4', 'revty', 'sale_equityq',\n",
       "        'profit_lctq', 'int_totdebtq', 'lt_debtq', 'cogsy', 'aftret_invcapxq',\n",
       "        'oibdpq', 'bmq', 'cash_ratioq', 'dpcy', 'fqtr_2', 'req',\n",
       "        'totdebt_invcapq', 'sale_invcapq', 'short_debtq', 'prcraq', 'ibq',\n",
       "        'fcf_csfhdq', 'cf_yield', 'txtq', 'dpcq', 'pretret_noaq', 'teqq',\n",
       "        'lagppent4', 'oibdpy', 'book_value_yield', 'cash_ltq', 'xsgay',\n",
       "        'lt_ppentq', 'ibadjq', 'dpq', 'epsfiq', 'market_cap', 'seqq', 'xoprq',\n",
       "        'invt_actq', 'cheq', 'txditcq', 'atq'],\n",
       "       dtype='object'),\n",
       " Index(['ocf_lctq', 'rectq', 'xinty', 'npmq', 'oibdpq', 'oancfy', 'oancfy_q',\n",
       "        'fcf_yield', 'prccq', 'ibq', 'ibadjq', 'ltq', 'sale_nwcq', 'niq',\n",
       "        'short_debtq', 'aftret_invcapxq', 'cshoq', 'atq', 'fqtr_4', 'apq',\n",
       "        'cshprq', 'cheq', 'dpcq', 'req', 'pay_turnq', 'dpcy', 'cogsy',\n",
       "        'cfo-per-share', 'lt_ppentq', 'gprofq', 'ibcq', 'dlcq', 'xsgay',\n",
       "        'ibcomy', 'cf_yield', 'prcraq', 'epsfiq', 'int_totdebtq', 'dpq',\n",
       "        'lagicapt4', 'market_cap', 'cash_debtq', 'dvpspq', 'roceq', 'invt_actq',\n",
       "        'saleq', 'cfmq', 'roaq', 'lctq4', 'revty', 'seq4', 'profit_lctq',\n",
       "        'capxy', 'pretret_earnatq'],\n",
       "       dtype='object'),\n",
       " Index(['rectq', 'capxq', 'xinty', 'ibcomy', 'fcf_yield', 'lagbe4', 'niq',\n",
       "        'accrualq', 'fcf_ocfq', 'apq', 'cshoq', 'npmq', 'cshprq', 'atq', 'pcfq',\n",
       "        'pay_turnq', 'chechy', 'invt_actq', 'ceq4', 'sale_invcapq', 'xsgaq',\n",
       "        'sale_nwcq', 'xoprq', 'ltq', 'at4', 'ocf_lctq', 'cfo-per-share',\n",
       "        'short_debtq', 'oibdpq', 'dpcq', 'ibcq', 'pe_op_basicq', 'lagicapt4',\n",
       "        'revty', 'rect_turnq', 'cogsy', 'capital_ratioq', 'profit_lctq'],\n",
       "       dtype='object'),\n",
       " Index(['lt_debtq', 'xinty', 'epsfiq', 'capital_ratioq', 'oepf12', 'oepsxq',\n",
       "        'dvy', 'book_value_per_share', 'cf_yield', 'curr_ratioq', 'fcf_ocfq',\n",
       "        'ibcq', 'req', 'dpcq', 'ibcy', 'lagbe4', 'lctq4'],\n",
       "       dtype='object'),\n",
       " Index(['fcf_csfhdq', 'lt_debtq', 'cstkq', 'at_turnq', 'capxq'], dtype='object'),\n",
       " Index(['xinty', 'ocf_lctq', 'oepsxq', 'capxq', 'dlcq', 'cshoq', 'sale_equityq',\n",
       "        'cf_yield', 'prcraq', 'capital_ratioq', 'xsgay', 'buy_back_yield',\n",
       "        'cogsy', 'epsfxq', 'cstkq'],\n",
       "       dtype='object'),\n",
       " Index(['ibcy', 'debt_assetsq', 'at_turnq', 'equity_invcapq'], dtype='object'),\n",
       " Index(['fcf_yield', 'buy_back_yield', 'ppentq', 'debt_assetsq', 'ocf_lctq',\n",
       "        'totdebt_invcapq', 'sale_invcapq', 'xsgay', 'intcovq', 'at4', 'rectq',\n",
       "        'fqtr_3', 'pretret_noaq', 'atq', 'oancfy_q', 'cash_ratioq', 'debt_atq',\n",
       "        'dvy', 'oibdpq', 'xoprq', 'dpcq'],\n",
       "       dtype='object'),\n",
       " Index(['fcf_yield', 'sale_nwcq', 'buy_back_yield', 'cogsy', 'cf_yield',\n",
       "        'epspxq', 'xinty', 'cfo-per-share'],\n",
       "       dtype='object'),\n",
       " Index(['ibcy', 'de_ratioq', 'cash_debtq', 'npmq', 'capxy', 'opmbdq', 'roeq',\n",
       "        'txpq', 'fqtr_3', 'at5', 'quick_ratioq', 'niq', 'dvq', 'efftaxq',\n",
       "        'xintq', 'lctq4', 'bmq', 'oeps12', 'xsgay', 'sale_nwcq', 'at4'],\n",
       "       dtype='object'),\n",
       " Index(['fcf_csfhdq', 'prcraq', 'fcf_yield', 'dvq', 'xsgaq', 'epsfxq', 'oepf12',\n",
       "        'de_ratioq', 'fqtr_4', 'fqtr_3', 'pretret_noaq', 'roceq', 'ibq',\n",
       "        'int_totdebtq', 'capital_ratioq', 'dltt_beq', 'ibcomq', 'fcf_ocfq',\n",
       "        'curr_debtq', 'lt_ppentq', 'buy_back_yield', 'prccq', 'dpcy', 'ceqq',\n",
       "        'ibadjq', 'at5', 'quick_ratioq', 'ptpmq', 'lctq', 'rectq', 'ceq4'],\n",
       "       dtype='object'),\n",
       " Index(['cshopq', 'fcf_yield', 'fcf_ocfq', 'miiq', 'dvq', 'lt_ppentq', 'capxq',\n",
       "        'req', 'fqtr_4', 'curr_debtq', 'txpq', 'roceq', 'epsfxq',\n",
       "        'sale_invcapq', 'seq4', 'opmbdq', 'ceq4', 'int_totdebtq', 'dpcy',\n",
       "        'prcraq', 'lagppent_alt4', 'at5', 'xsgaq', 'dprq', 'csh12q', 'icaptq',\n",
       "        'spiq', 'xrdq', 'cash_debtq', 'roeq', 'opmadq', 'evmq'],\n",
       "       dtype='object'),\n",
       " Index(['lt_ppentq', 'fqtr_3', 'ocf_lctq', 'miiq', 'fqtr_4', 'invt_actq',\n",
       "        'rd_saleq', 'de_ratioq', 'dprq', 'buy_back_yield', 'lctq4', 'oibdpy',\n",
       "        'icaptq', 'capeiq'],\n",
       "       dtype='object'),\n",
       " Index(['fcf_csfhdq', 'cshopq', 'fcf_ocfq', 'xinty', 'capxq', 'oepsxq',\n",
       "        'sale_nwcq', 'pretret_earnatq', 'icaptq', 'teqq', 'ibq', 'xsgaq',\n",
       "        'prcraq', 'pretret_noaq', 'opcfq', 'cfmq', 'capeiq', 'de_ratioq',\n",
       "        'oiadpq', 'oepf12', 'ppentq', 'at5', 'pe_op_basicq', 'lctq', 'rd_saleq',\n",
       "        'cshprq', 'ibcomy', 'book_value_per_share', 'epsfxq', 'invt_actq',\n",
       "        'dlcq', 'txditcq', 'invtq', 'capxy'],\n",
       "       dtype='object'),\n",
       " Index(['fcf_yield'], dtype='object'),\n",
       " Index(['fcf_yield'], dtype='object'),\n",
       " Index(['fcf_yield', 'fcf_ocfq', 'xrdy', 'nopiq'], dtype='object'),\n",
       " Index(['fcf_csfhdq', 'fcf_ocfq', 'fcf_yield', 'evmq'], dtype='object'),\n",
       " Index(['cogsy', 'capxq', 'txpdy', 'cshopq', 'xsgay', 'miiy', 'miiq', 'nopiq',\n",
       "        'fcf_yield', 'cfmq', 'icaptq', 'xrdq', 'oepf12', 'revty', 'epspi12',\n",
       "        'fqtr_4', 'cfo-per-share', 'cshprq', 'fqtr_2', 'dvpspq', 'xsgaq', 'bmq',\n",
       "        'debt_atq', 'ibq', 'invtq', 'equity_invcapq', 'lctq', 'cogsq', 'oepsxy',\n",
       "        'oancfy'],\n",
       "       dtype='object'),\n",
       " Index(['capxq', 'fcf_yield', 'txpdy', 'fqtr_2', 'cogsy', 'evmq', 'req', 'xrdq',\n",
       "        'saleq', 'efftaxq', 'invt_actq', 'cshprq', 'book_value_per_share',\n",
       "        'bmq', 'cfmq'],\n",
       "       dtype='object'),\n",
       " Index(['debt_atq', 'txpdy', 'lt_ppentq', 'oepf12', 'oepsxq', 'xrdy', 'apq',\n",
       "        'curr_debtq', 'short_debtq', 'txdbq', 'atq', 'opmbdq'],\n",
       "       dtype='object'),\n",
       " Index(['fcf_ocfq', 'ppentq', 'fqtr_2', 'evmq', 'xsgay', 'txpdy', 'oepsxy',\n",
       "        'invt_actq', 'dpcy', 'pe_op_basicq', 'curr_ratioq', 'curr_debtq',\n",
       "        'ibcomy', 'xrdy', 'cash_ltq', 'dprq', 'cash_debtq'],\n",
       "       dtype='object'),\n",
       " Index(['epsfxq'], dtype='object'),\n",
       " Index(['sale_invcapq', 'lt_ppentq', 'txpdy', 'fqtr_2', 'epspxq', 'opmadq',\n",
       "        'dvq', 'sale_equityq', 'rect_actq', 'cshopq', 'xrdq', 'ltq', 'dltry',\n",
       "        'oancfy_q', 'lagbe4', 'txtq', 'ocf_lctq', 'dvpspq', 'chechy', 'oepf12',\n",
       "        'dprq', 'miiq', 'xsgaq', 'fqtr_4', 'icaptq', 'debt_assetsq', 'oibdpq',\n",
       "        'capeiq'],\n",
       "       dtype='object'),\n",
       " Index(['icaptq', 'lagbe4', 'lagicapt4', 'dvq', 'ibcy', 'lagppent4',\n",
       "        'totdebt_invcapq', 'epsfiq', 'fqtr_4', 'epspi12'],\n",
       "       dtype='object'),\n",
       " Index(['evmq', 'dprq', 'xrdy', 'cshopq', 'cshfdq', 'cshoq', 'buy_back_yield',\n",
       "        'atq'],\n",
       "       dtype='object'),\n",
       " Index(['evmq', 'fqtr_4', 'fcf_csfhdq', 'gprofq', 'apq', 'lagppent4', 'invtq',\n",
       "        'inv_turnq', 'book_value_yield'],\n",
       "       dtype='object')]"
      ]
     },
     "execution_count": 134,
     "metadata": {},
     "output_type": "execute_result"
    }
   ],
   "source": [
    "optimal_features"
   ]
  },
  {
   "cell_type": "code",
   "execution_count": 135,
   "metadata": {},
   "outputs": [],
   "source": [
    "training_data = [d.reset_index().drop\n",
    "                                 (['ticker','date',\n",
    "                                   'next_period_return',\n",
    "                                   'spy_next_period_return',\n",
    "                                   'rel_performance','pred_rel_return',\n",
    "                                  'return', 'cum_ret', 'spy_cum_ret'],axis=1) for d in training_frames]"
   ]
  },
  {
   "cell_type": "code",
   "execution_count": 136,
   "metadata": {},
   "outputs": [],
   "source": [
    "test_data = [d.reset_index().drop(['ticker','date',\n",
    "                                   'next_period_return',\n",
    "                                   'spy_next_period_return',\n",
    "                                   'rel_performance','pred_rel_return',\n",
    "                                  'return', 'cum_ret', 'spy_cum_ret'],axis=1) for d in valid_frames]"
   ]
  },
  {
   "cell_type": "code",
   "execution_count": 137,
   "metadata": {},
   "outputs": [
    {
     "data": {
      "text/plain": [
       "[Index(['opepsq', 'oepsxq', 'ibcomy', 'oibdpq', 'capeiq', 'nopiq', 'niq',\n",
       "        'oepsxy', 'cogsy', 'yearly_sales', 'ibadjq', 'revty', 'ibq', 'ltq',\n",
       "        'aftret_equityq', 'bmq', 'oepf12', 'oeps12', 'dvpspq', 'evmq', 'epspiq',\n",
       "        'pe_exiq', 'epsfi12', 'epsf12', 'fcf_csfhdq', 'fcf_yield', 'opcfq',\n",
       "        'cfo-per-share', 'xintq'],\n",
       "       dtype='object'),\n",
       " Index(['opepsq', 'oepsxq', 'niq', 'cash_ratioq', 'capeiq', 'oepf12',\n",
       "        'oancfy_q', 'ibadjq', 'ibq', 'evmq', 'yearly_sales', 'aftret_equityq',\n",
       "        'ltq', 'oeps12', 'nopiq', 'oibdpq', 'dvpspq', 'revty', 'oibdpy',\n",
       "        'fcf_yield', 'fcf_csfhdq', 'pe_exiq', 'book_value_yield', 'epspiq',\n",
       "        'epsfi12', 'cfo-per-share', 'opcfq', 'dlttq', 'epsf12', 'cogsy',\n",
       "        'epsfiq'],\n",
       "       dtype='object'),\n",
       " Index(['oepsxq', 'opepsq', 'oibdpq', 'capeiq', 'nopiq', 'oepf12', 'ibcq',\n",
       "        'yearly_sales', 'ibq', 'ltq', 'niq', 'oeps12', 'oiadpq', 'epspiq',\n",
       "        'xsgay', 'cash_conversionq', 'oibdpy', 'cash_ratioq', 'fcf_yield',\n",
       "        'fcf_csfhdq', 'chechy', 'ibadjq', 'bmq', 'cogsy', 'opcfq', 'pe_exiq',\n",
       "        'epsfiq', 'epsfi12', 'epsf12', 'cfo-per-share'],\n",
       "       dtype='object'),\n",
       " Index(['cash_ratioq', 'opepsq', 'oepsxq', 'rect_actq', 'ibcomy', 'xsgay',\n",
       "        'epsfiq', 'oibdpq', 'niq', 'ltq', 'oiadpq', 'ibq', 'at5', 'oepf12',\n",
       "        'prccq', 'cash_conversionq', 'epspiq', 'oepsxy', 'curr_debtq', 'oeps12',\n",
       "        'epsfi12', 'yearly_sales', 'cogsy', 'fcf_csfhdq', 'pe_exiq', 'capeiq'],\n",
       "       dtype='object'),\n",
       " Index(['fcf_csfhdq', 'cash_ratioq', 'fcf_yield', 'opepsq', 'epsfiq', 'oepsxq',\n",
       "        'quick_ratioq', 'ibq', 'capxy', 'niq', 'txpdy', 'oibdpq', 'piq',\n",
       "        'curr_ratioq', 'epspiq', 'oancfy', 'de_ratioq', 'debt_capitalq',\n",
       "        'debt_assetsq', 'int_debtq', 'capxq', 'book_value_per_share',\n",
       "        'sale_equityq', 'capeiq', 'oancfy_q', 'market_cap', 'cfo-per-share',\n",
       "        'apq'],\n",
       "       dtype='object'),\n",
       " Index(['fcf_csfhdq', 'oepsxq', 'epsfiq', 'cash_ratioq', 'quick_ratioq',\n",
       "        'opepsq', 'oancfy_q', 'oibdpq', 'aftret_equityq', 'rd_saleq', 'niq',\n",
       "        'oepf12', 'sale_invcapq', 'curr_ratioq', 'ibq', 'int_totdebtq',\n",
       "        'de_ratioq', 'seqq', 'dvy', 'lt_ppentq', 'fcf_yield', 'xsgay', 'ltq',\n",
       "        'capxy', 'market_cap', 'efftaxq', 'roceq', 'cfo-per-share', 'apq',\n",
       "        'ibcq', 'capeiq'],\n",
       "       dtype='object'),\n",
       " Index(['oepsxq', 'fcf_csfhdq', 'cash_ratioq', 'opepsq', 'quick_ratioq',\n",
       "        'sale_invcapq', 'market_cap', 'book_value_per_share', 'bmq', 'rd_saleq',\n",
       "        'aftret_equityq', 'oepf12', 'oancfy_q', 'epspi12', 'revty', 'de_ratioq',\n",
       "        'saleq', 'int_totdebtq', 'dvy', 'evmq', 'ltq', 'efftaxq', 'ibcq',\n",
       "        'epsfiq', 'psq', 'dlcq', 'capeiq', 'dprq', 'apq', 'epsfi12'],\n",
       "       dtype='object'),\n",
       " Index(['fcf_csfhdq', 'oepf12', 'capeiq', 'bmq', 'oepsxq', 'apq', 'oancfy_q',\n",
       "        'debt_capitalq', 'rd_saleq', 'oeps12', 'opepsq', 'quick_ratioq',\n",
       "        'cash_ratioq', 'intcovq', 'de_ratioq', 'txtq', 'cash_debtq', 'ibq',\n",
       "        'chechy', 'dltry', 'dvy', 'ibcy', 'int_totdebtq', 'xinty',\n",
       "        'aftret_equityq', 'cfo-per-share', 'dprq', 'at5', 'ibcq', 'epsfi12',\n",
       "        'epspi12', 'ibcomq'],\n",
       "       dtype='object'),\n",
       " Index(['fcf_csfhdq', 'oepsxq', 'opepsq', 'oeps12', 'oepf12', 'capeiq', 'bmq',\n",
       "        'apq', 'niq', 'xinty', 'rd_saleq', 'at5', 'epsfiq', 'cash_ratioq',\n",
       "        'ibcomq', 'book_value_per_share', 'epspiq', 'oibdpq', 'debt_capitalq',\n",
       "        'epsfi12', 'int_totdebtq', 'ibcq', 'cfo-per-share', 'dltisy', 'pe_exiq',\n",
       "        'capxq', 'lt_ppentq'],\n",
       "       dtype='object'),\n",
       " Index(['fcf_csfhdq', 'oepsxq', 'oepf12', 'xinty', 'opepsq', 'oancfy_q',\n",
       "        'oibdpq', 'ibq', 'book_value_per_share', 'bmq', 'niq', 'oeps12', 'at5',\n",
       "        'rd_saleq', 'ibadjq', 'piq', 'revty', 'cash_ratioq', 'ibcq', 'txtq',\n",
       "        'debt_capitalq', 'debt_assetsq', 'ibcomq', 'capxq', 'apq', 'capeiq',\n",
       "        'epspi12', 'cfo-per-share', 'epsfxq', 'epsfiq', 'epsfi12'],\n",
       "       dtype='object'),\n",
       " Index(['oepsxq', 'fcf_csfhdq', 'opepsq', 'dltry', 'chechy', 'pretret_noaq',\n",
       "        'icaptq', 'book_value_per_share', 'capxq', 'gprofq', 'equity_invcapq',\n",
       "        'oepf12', 'oeps12', 'accrualq', 'dltt_beq', 'ibadjq', 'at5', 'rd_saleq',\n",
       "        'quick_ratioq', 'oancfy', 'debt_capitalq', 'xintq', 'debt_assetsq',\n",
       "        'ibcomq', 'cfo-per-share', 'bmq', 'capeiq', 'evmq', 'ibcq', 'ptpmq',\n",
       "        'oancfy_q', 'apq', 'be4', 'epsfi12', 'ltq', 'book_value_yield',\n",
       "        'pe_exiq'],\n",
       "       dtype='object'),\n",
       " Index(['pretret_earnatq', 'fcf_csfhdq', 'oancfy', 'pretret_noaq', 'oepsxq',\n",
       "        'opepsq', 'xintq', 'bmq', 'gprofq', 'epsfiq', 'ibq', 'ibcomq',\n",
       "        'int_totdebtq', 'oeps12', 'pe_exiq', 'accrualq', 'at5', 'epsfxq',\n",
       "        'epsfi12', 'oepsxy', 'rd_saleq', 'oancfy_q', 'xsgay', 'efftaxq',\n",
       "        'profit_lctq', 'txditcq', 'seqq', 'book_value_per_share',\n",
       "        'cfo-per-share', 'apq', 'chechy', 'oepf12', 'int_debtq', 'pay_turnq',\n",
       "        'lagbe4', 'lagseq4', 'cf_yield'],\n",
       "       dtype='object'),\n",
       " Index(['ibcq', 'ibadjq', 'opepsq', 'fcf_csfhdq', 'oepsxq', 'epsfi12',\n",
       "        'book_value_yield', 'bmq', 'pe_exiq', 'epsfxq', 'ibcomq', 'oeps12',\n",
       "        'piq', 'at5', 'xintq', 'chechy', 'epsfiq', 'oancfy', 'ptpmq', 'evmq',\n",
       "        'cfo-per-share', 'oepf12', 'niq', 'dvpspq', 'book_value_per_share',\n",
       "        'ibq', 'rd_saleq', 'capeiq', 'cf_yield', 'oiadpq', 'txtq', 'epspi12',\n",
       "        'oancfy_q', 'cshfdq', 'dvy', 'pay_turnq', 'pretret_earnatq', 'epspxq',\n",
       "        'gprofq', 'xsgay', 'accrualq', 'gpmq', 'rect_turnq', 'pe_op_basicq',\n",
       "        'debt_assetsq'],\n",
       "       dtype='object'),\n",
       " Index(['oepsxq', 'fcf_csfhdq', 'opepsq', 'epsfxq', 'epspi12', 'epsfi12',\n",
       "        'pe_exiq', 'oancfy_q', 'int_debtq', 'txtq', 'at5', 'capeiq',\n",
       "        'int_totdebtq', 'chechy', 'dpcq', 'cash_ratioq', 'book_value_yield',\n",
       "        'book_value_per_share', 'epsfiq', 'lagppent4', 'cash_ltq', 'niq',\n",
       "        'oepf12', 'bmq', 'pe_incq', 'epspxq', 'capital_ratioq', 'ppentq',\n",
       "        'oiadpq', 'opcfq', 'cshfdq', 'ibcomq', 'debt_assetsq', 'oeps12',\n",
       "        'dlttq', 'oancfy', 'opmadq', 'txditcq', 'cfo-per-share', 'inv_turnq',\n",
       "        'ltq', 'aftret_equityq', 'xinty', 'lt_ppentq', 'aftret_eqq',\n",
       "        'cash_conversionq', 'totdebt_invcapq', 'debt_atq', 'xsgay',\n",
       "        'pay_turnq'],\n",
       "       dtype='object'),\n",
       " Index(['oepsxq', 'fcf_csfhdq', 'xinty', 'book_value_per_share', 'opepsq',\n",
       "        'oancfy_q', 'epsfxq', 'oancfy', 'cash_ratioq', 'dltisy', 'chechy',\n",
       "        'epspi12', 'capeiq', 'cf_yield', 'book_value_yield', 'ibq', 'gprofq',\n",
       "        'at5', 'epsfiq', 'niq', 'ibadjq', 'de_ratioq', 'xintq', 'opcfq', 'ibcq',\n",
       "        'pe_op_basicq', 'debt_invcapq', 'piq', 'debt_capitalq', 'capxy',\n",
       "        'int_totdebtq', 'debt_assetsq', 'ltq', 'epspxq', 'prccq', 'epsf12',\n",
       "        'ibcomq', 'txditcq', 'pretret_earnatq', 'rect_actq', 'lt_ppentq',\n",
       "        'accrualq', 'pretret_noaq', 'opmbdq'],\n",
       "       dtype='object'),\n",
       " Index(['fcf_csfhdq', 'oepsxq', 'bmq', 'opepsq', 'book_value_yield', 'xinty',\n",
       "        'book_value_per_share', 'oancfy', 'epsfiq', 'cash_ratioq', 'de_ratioq',\n",
       "        'epsfi12', 'cash_ltq', 'oancfy_q', 'chechy', 'ibcq', 'ibcomq',\n",
       "        'epspi12', 'lt_ppentq', 'oeps12', 'ibadjq', 'at5', 'cf_yield', 'ibq',\n",
       "        'equity_invcapq', 'niq', 'xintq', 'cfo-per-share', 'inv_turnq', 'prccq',\n",
       "        'oepf12', 'int_totdebtq', 'opcfq', 'epsfxq', 'ltq', 'evmq', 'epspxq',\n",
       "        'oibdpq', 'dltt_beq', 'roceq', 'csh12q', 'rect_actq', 'lagicapt4',\n",
       "        'pretret_earnatq', 'lctq'],\n",
       "       dtype='object'),\n",
       " Index(['fcf_csfhdq', 'oepsxq', 'book_value_per_share', 'xinty', 'oancfy',\n",
       "        'quick_ratioq', 'ltq', 'dltt_beq', 'book_value_yield', 'cf_yield',\n",
       "        'buy_back_yield', 'dltry', 'ppentq', 'lt_debtq', 'intcovq', 'ibcy',\n",
       "        'revty', 'debt_assetsq', 'oancfy_q', 'cash_ltq', 'cash_ratioq',\n",
       "        'de_ratioq', 'epsfi12', 'equity_invcapq', 'cogsy', 'epspi12', 'opepsq',\n",
       "        'int_totdebtq', 'niq', 'opcfq', 'sale_nwcq', 'at5', 'beq', 'xsgay',\n",
       "        'ibq', 'ibcomq', 'cfo-per-share', 'fcf_yield', 'cheq', 'lt_ppentq',\n",
       "        'epsfiq', 'prcraq', 'cstkq', 'profit_lctq', 'chechy'],\n",
       "       dtype='object'),\n",
       " Index(['oepsxq', 'xinty', 'book_value_per_share', 'revty', 'epsfiq', 'opcfq',\n",
       "        'dpcq', 'int_totdebtq', 'lt_ppentq', 'bmq', 'niq', 'prcraq', 'lt_debtq',\n",
       "        'ppentq', 'dltt_beq', 'actq', 'ibcq', 'epsfxq', 'oancfy', 'ibadjq',\n",
       "        'oancfy_q', 'oepsxy', 'icaptq', 'cogsq', 'cfo-per-share', 'epsfi12',\n",
       "        'cash_ltq', 'lctq4', 'lagicapt4', 'intcovq', 'oiadpq', 'ibcomq',\n",
       "        'buy_back_yield', 'cshopq', 'oeps12', 'book_value_yield', 'epspxq',\n",
       "        'accrualq', 'fcf_yield', 'rect_actq', 'evmq', 'totdebt_invcapq',\n",
       "        'capxy', 'fcf_ocfq', 'dvy', 'roceq'],\n",
       "       dtype='object'),\n",
       " Index(['revty', 'xinty'], dtype='object'),\n",
       " Index(['intcovq', 'rect_actq', 'epsfxq', 'cogsy', 'ocf_lctq', 'dltt_beq',\n",
       "        'txpq', 'bmq', 'ibcq', 'ibq', 'totdebt_invcapq', 'ibcomq', 'epsfiq',\n",
       "        'chechy', 'epspi12', 'debt_capitalq', 'dpcq'],\n",
       "       dtype='object'),\n",
       " Index(['lctq4', 'lctq'], dtype='object'),\n",
       " Index(['oancfy_q'], dtype='object'),\n",
       " Index(['ocf_lctq', 'intcovq', 'lagppent_alt4', 'lctq', 'sale_nwcq',\n",
       "        'debt_ebitdaq', 'pe_op_basicq', 'at5', 'gprofq', 'xinty',\n",
       "        'intcov_ratioq', 'dpq', 'dltt_beq', 'debt_capitalq'],\n",
       "       dtype='object'),\n",
       " Index(['xinty', 'oepsxq', 'chechy', 'fcf_ocfq', 'rectq', 'apq', 'dltisy',\n",
       "        'buy_back_yield'],\n",
       "       dtype='object'),\n",
       " Index(['chechy', 'cshiq', 'csh12q', 'fcf_ocfq', 'nopiq', 'dvpspq',\n",
       "        'sale_invcapq', 'totdebt_invcapq'],\n",
       "       dtype='object'),\n",
       " Index(['capxy', 'fcf_csfhdq', 'fqtr_3', 'roeq', 'pcfq', 'csh12q', 'oepsxq',\n",
       "        'oibdpy', 'dpcy', 'epsfi12', 'chechy', 'dpq', 'cshprq', 'pe_op_basicq'],\n",
       "       dtype='object'),\n",
       " Index(['roaq', 'sale_nwcq', 'rect_actq', 'quick_ratioq', 'cf_yield', 'lctq4',\n",
       "        'de_ratioq', 'pretret_noaq', 'accrualq', 'book_value_yield',\n",
       "        'fcf_yield', 'lctq', 'beq', 'intcovq', 'capxy', 'pretret_earnatq',\n",
       "        'cash_ratioq', 'roeq', 'debt_capitalq', 'roceq', 'opcfq', 'fcf_ocfq',\n",
       "        'debt_invcapq', 'debt_assetsq', 'fcf_csfhdq', 'revty', 'gprofq',\n",
       "        'cshoq', 'fqtr_3', 'oancfy_q', 'pe_op_basicq', 'cash_debtq',\n",
       "        'buy_back_yield', 'lagicapt4', 'prccq', 'mibq', 'icaptq', 'at5',\n",
       "        'cfo-per-share'],\n",
       "       dtype='object'),\n",
       " Index(['ocf_lctq', 'lagppent4', 'rect_actq', 'intcovq', 'lctq', 'roaq',\n",
       "        'fcf_csfhdq', 'pretret_noaq', 'pretret_earnatq', 'ibcy', 'debt_atq',\n",
       "        'oancfy_q', 'capxy', 'fcf_yield', 'oancfy', 'opcfq', 'lctq4', 'bmq',\n",
       "        'totdebt_invcapq', 'curr_debtq', 'cash_debtq', 'curr_ratioq', 'beq',\n",
       "        'pe_op_basicq', 'cash_ratioq', 'roeq', 'miiy', 'debt_invcapq',\n",
       "        'de_ratioq', 'accrualq', 'fcf_ocfq', 'be4', 'invt_actq', 'debt_assetsq',\n",
       "        'xinty', 'oepf12', 'epsfxq', 'req', 'txpdy', 'sale_nwcq', 'epspi12',\n",
       "        'cogsy', 'yearly_sales', 'seq4', 'atq', 'lagicapt4'],\n",
       "       dtype='object'),\n",
       " Index(['ocf_lctq', 'fcf_yield', 'rect_actq', 'cf_yield'], dtype='object'),\n",
       " Index(['ocf_lctq', 'prccq', 'fcf_yield', 'fcf_csfhdq', 'teqq', 'debt_invcapq',\n",
       "        'ibcy', 'invt_actq', 'quick_ratioq', 'cash_ltq', 'seq4', 'lctq4',\n",
       "        'accrualq', 'cshprq', 'debt_capitalq', 'ibcq', 'pretret_earnatq',\n",
       "        'capital_ratioq', 'oancfy', 'roaq', 'cf_yield', 'pcfq', 'fcf_ocfq',\n",
       "        'nopiq', 'capxy', 'oepf12', 'pe_op_basicq', 'miiy', 'cshfdq', 'lctq',\n",
       "        'ltq', 'roceq', 'buy_back_yield', 'oancfy_q', 'pretret_noaq', 'gprofq',\n",
       "        'pe_exiq', 'apq', 'xrdy', 'pay_turnq', 'gpmq', 'rect_turnq', 'xsgay',\n",
       "        'niq', 'be4', 'oeps12', 'txpq', 'book_value_yield', 'lt_ppentq',\n",
       "        'epsfxq'],\n",
       "       dtype='object'),\n",
       " Index(['ocf_lctq', 'fcf_yield', 'accrualq', 'book_value_yield', 'prccq',\n",
       "        'dpcq', 'teqq', 'fcf_csfhdq', 'aftret_invcapxq', 'opmadq', 'bmq',\n",
       "        'chechy', 'cf_yield', 'miiy', 'pcfq', 'capxy', 'txpq', 'lagppent4',\n",
       "        'dprq', 'pretret_noaq', 'int_debtq', 'xsgaq', 'epspi12', 'epsx12',\n",
       "        'beq', 'epsfxq', 'xinty', 'opepsq', 'invt_actq', 'cshoq', 'roeq',\n",
       "        'oepsxq', 'curr_debtq', 'capital_ratioq', 'rectq', 'dltt_beq',\n",
       "        'profit_lctq', 'lt_ppentq', 'rect_turnq', 'rect_actq', 'oancfy_q',\n",
       "        'lctq4', 'buy_back_yield', 'fcf_ocfq', 'dvy', 'dltisy', 'cshiq',\n",
       "        'gprofq', 'roaq', 'oibdpq', 'xoprq', 'cash_ltq'],\n",
       "       dtype='object'),\n",
       " Index(['ocf_lctq', 'fcf_yield', 'prccq', 'xinty', 'book_value_yield',\n",
       "        'lagicapt4', 'accrualq', 'aftret_invcapxq', 'rectq', 'txditcq',\n",
       "        'oancfy', 'dltt_beq', 'txpdy', 'intcovq', 'teqq', 'opcfq', 'epsfiq',\n",
       "        'cf_yield', 'bmq', 'fcf_csfhdq', 'beq', 'cfo-per-share', 'market_cap',\n",
       "        'lt_debtq', 'pcfq', 'dpcq', 'roeq', 'be4', 'capxq', 'gpmq', 'ptpmq',\n",
       "        'xoprq', 'invtq', 'yearly_sales', 'buy_back_yield', 'invt_actq',\n",
       "        'oiadpq', 'dltisy', 'oancfy_q', 'dvy', 'debt_capitalq', 'ceq4',\n",
       "        'curr_debtq', 'lt_ppentq', 'ibq', 'dvpspq', 'oibdpq', 'lagbe4',\n",
       "        'curr_ratioq', 'ltq', 'ppentq', 'debt_assetsq', 'csh12q'],\n",
       "       dtype='object'),\n",
       " Index(['prccq', 'fcf_yield', 'accrualq', 'ocf_lctq', 'atq', 'lagicapt4',\n",
       "        'oepsxq', 'fcf_csfhdq', 'cshprq', 'cash_conversionq', 'dpcq', 'dltry',\n",
       "        'lt_debtq', 'oibdpq', 'inv_turnq', 'oancfy', 'epsfxq', 'cf_yield',\n",
       "        'sale_invcapq', 'icaptq', 'lagbe4', 'debt_atq', 'xrdy', 'epsfiq', 'ltq',\n",
       "        'epspxq', 'oancfy_q', 'dpcy', 'revty', 'debt_ebitdaq', 'ibcy',\n",
       "        'capital_ratioq', 'cshopq', 'de_ratioq', 'xoprq', 'dpq', 'ibcq',\n",
       "        'epsfi12', 'curr_ratioq', 'ibadjq', 'cash_ratioq', 'evmq', 'be4',\n",
       "        'cheq', 'lctq4', 'debt_assetsq', 'ceqq', 'market_cap', 'at_turnq',\n",
       "        'capxq', 'invtq'],\n",
       "       dtype='object'),\n",
       " Index(['prccq', 'fcf_yield', 'accrualq', 'rectq', 'epsfxq', 'prcraq', 'oepsxq',\n",
       "        'ltq', 'fcf_csfhdq', 'cf_yield', 'intcovq', 'lt_debtq',\n",
       "        'cash_conversionq', 'capxq', 'npmq', 'opepsq', 'apq', 'sale_invcapq',\n",
       "        'cash_debtq', 'spiq', 'xoprq', 'oancfy_q', 'lagicapt4', 'actq', 'xsgay',\n",
       "        'sale_nwcq', 'dpcq', 'gprofq', 'niq', 'dlcq', 'oancfy', 'ocf_lctq',\n",
       "        'sale_equityq', 'ceqq', 'epspxq', 'roceq', 'lctq4', 'curr_ratioq',\n",
       "        'cheq', 'ppentq', 'xsgaq', 'ibcq', 'cfo-per-share', 'cash_ratioq',\n",
       "        'inv_turnq', 'fcf_ocfq', 'book_value_yield', 'revty', 'market_cap',\n",
       "        'dltt_beq', 'aftret_equityq', 'oibdpy', 'intcov_ratioq', 'xinty'],\n",
       "       dtype='object'),\n",
       " Index(['ocf_lctq', 'prccq', 'capxy', 'cf_yield', 'book_value_yield', 'oancfy',\n",
       "        'accrualq', 'rectq', 'aftret_invcapxq', 'int_totdebtq', 'fcf_csfhdq',\n",
       "        'cash_debtq', 'bmq', 'gpmq', 'req', 'oancfy_q', 'dpcq', 'opcfq',\n",
       "        'revty', 'sale_invcapq', 'lagicapt4', 'xsgay', 'cshiq', 'sale_equityq',\n",
       "        'beq', 'xinty', 'ltq', 'cfo-per-share', 'lagbe4', 'equity_invcapq',\n",
       "        'fcf_yield', 'cshprq', 'roeq', 'epsfiq', 'capital_ratioq', 'dvy',\n",
       "        'invtq', 'short_debtq', 'debt_assetsq', 'lt_ppentq', 'lctq4',\n",
       "        'market_cap', 'dltt_beq', 'opepsq', 'piq', 'oibdpy', 'pe_op_basicq',\n",
       "        'csh12q', 'dlcq', 'actq', 'epspxq', 'gprofq', 'txtq', 'epsfi12', 'dpq'],\n",
       "       dtype='object'),\n",
       " Index(['ocf_lctq', 'xinty', 'rectq', 'ltq', 'oancfy', 'fcf_yield', 'lagbe4',\n",
       "        'roaq', 'niq', 'prccq', 'oancfy_q', 'lctq4', 'revty', 'sale_equityq',\n",
       "        'profit_lctq', 'int_totdebtq', 'lt_debtq', 'cogsy', 'aftret_invcapxq',\n",
       "        'oibdpq', 'bmq', 'cash_ratioq', 'dpcy', 'fqtr_2', 'req',\n",
       "        'totdebt_invcapq', 'sale_invcapq', 'short_debtq', 'prcraq', 'ibq',\n",
       "        'fcf_csfhdq', 'cf_yield', 'txtq', 'dpcq', 'pretret_noaq', 'teqq',\n",
       "        'lagppent4', 'oibdpy', 'book_value_yield', 'cash_ltq', 'xsgay',\n",
       "        'lt_ppentq', 'ibadjq', 'dpq', 'epsfiq', 'market_cap', 'seqq', 'xoprq',\n",
       "        'invt_actq', 'cheq', 'txditcq', 'atq'],\n",
       "       dtype='object'),\n",
       " Index(['ocf_lctq', 'rectq', 'xinty', 'npmq', 'oibdpq', 'oancfy', 'oancfy_q',\n",
       "        'fcf_yield', 'prccq', 'ibq', 'ibadjq', 'ltq', 'sale_nwcq', 'niq',\n",
       "        'short_debtq', 'aftret_invcapxq', 'cshoq', 'atq', 'fqtr_4', 'apq',\n",
       "        'cshprq', 'cheq', 'dpcq', 'req', 'pay_turnq', 'dpcy', 'cogsy',\n",
       "        'cfo-per-share', 'lt_ppentq', 'gprofq', 'ibcq', 'dlcq', 'xsgay',\n",
       "        'ibcomy', 'cf_yield', 'prcraq', 'epsfiq', 'int_totdebtq', 'dpq',\n",
       "        'lagicapt4', 'market_cap', 'cash_debtq', 'dvpspq', 'roceq', 'invt_actq',\n",
       "        'saleq', 'cfmq', 'roaq', 'lctq4', 'revty', 'seq4', 'profit_lctq',\n",
       "        'capxy', 'pretret_earnatq'],\n",
       "       dtype='object'),\n",
       " Index(['rectq', 'capxq', 'xinty', 'ibcomy', 'fcf_yield', 'lagbe4', 'niq',\n",
       "        'accrualq', 'fcf_ocfq', 'apq', 'cshoq', 'npmq', 'cshprq', 'atq', 'pcfq',\n",
       "        'pay_turnq', 'chechy', 'invt_actq', 'ceq4', 'sale_invcapq', 'xsgaq',\n",
       "        'sale_nwcq', 'xoprq', 'ltq', 'at4', 'ocf_lctq', 'cfo-per-share',\n",
       "        'short_debtq', 'oibdpq', 'dpcq', 'ibcq', 'pe_op_basicq', 'lagicapt4',\n",
       "        'revty', 'rect_turnq', 'cogsy', 'capital_ratioq', 'profit_lctq'],\n",
       "       dtype='object'),\n",
       " Index(['lt_debtq', 'xinty', 'epsfiq', 'capital_ratioq', 'oepf12', 'oepsxq',\n",
       "        'dvy', 'book_value_per_share', 'cf_yield', 'curr_ratioq', 'fcf_ocfq',\n",
       "        'ibcq', 'req', 'dpcq', 'ibcy', 'lagbe4', 'lctq4'],\n",
       "       dtype='object'),\n",
       " Index(['fcf_csfhdq', 'lt_debtq', 'cstkq', 'at_turnq', 'capxq'], dtype='object'),\n",
       " Index(['xinty', 'ocf_lctq', 'oepsxq', 'capxq', 'dlcq', 'cshoq', 'sale_equityq',\n",
       "        'cf_yield', 'prcraq', 'capital_ratioq', 'xsgay', 'buy_back_yield',\n",
       "        'cogsy', 'epsfxq', 'cstkq'],\n",
       "       dtype='object'),\n",
       " Index(['ibcy', 'debt_assetsq', 'at_turnq', 'equity_invcapq'], dtype='object'),\n",
       " Index(['fcf_yield', 'buy_back_yield', 'ppentq', 'debt_assetsq', 'ocf_lctq',\n",
       "        'totdebt_invcapq', 'sale_invcapq', 'xsgay', 'intcovq', 'at4', 'rectq',\n",
       "        'fqtr_3', 'pretret_noaq', 'atq', 'oancfy_q', 'cash_ratioq', 'debt_atq',\n",
       "        'dvy', 'oibdpq', 'xoprq', 'dpcq'],\n",
       "       dtype='object'),\n",
       " Index(['fcf_yield', 'sale_nwcq', 'buy_back_yield', 'cogsy', 'cf_yield',\n",
       "        'epspxq', 'xinty', 'cfo-per-share'],\n",
       "       dtype='object'),\n",
       " Index(['ibcy', 'de_ratioq', 'cash_debtq', 'npmq', 'capxy', 'opmbdq', 'roeq',\n",
       "        'txpq', 'fqtr_3', 'at5', 'quick_ratioq', 'niq', 'dvq', 'efftaxq',\n",
       "        'xintq', 'lctq4', 'bmq', 'oeps12', 'xsgay', 'sale_nwcq', 'at4'],\n",
       "       dtype='object'),\n",
       " Index(['fcf_csfhdq', 'prcraq', 'fcf_yield', 'dvq', 'xsgaq', 'epsfxq', 'oepf12',\n",
       "        'de_ratioq', 'fqtr_4', 'fqtr_3', 'pretret_noaq', 'roceq', 'ibq',\n",
       "        'int_totdebtq', 'capital_ratioq', 'dltt_beq', 'ibcomq', 'fcf_ocfq',\n",
       "        'curr_debtq', 'lt_ppentq', 'buy_back_yield', 'prccq', 'dpcy', 'ceqq',\n",
       "        'ibadjq', 'at5', 'quick_ratioq', 'ptpmq', 'lctq', 'rectq', 'ceq4'],\n",
       "       dtype='object'),\n",
       " Index(['cshopq', 'fcf_yield', 'fcf_ocfq', 'miiq', 'dvq', 'lt_ppentq', 'capxq',\n",
       "        'req', 'fqtr_4', 'curr_debtq', 'txpq', 'roceq', 'epsfxq',\n",
       "        'sale_invcapq', 'seq4', 'opmbdq', 'ceq4', 'int_totdebtq', 'dpcy',\n",
       "        'prcraq', 'lagppent_alt4', 'at5', 'xsgaq', 'dprq', 'csh12q', 'icaptq',\n",
       "        'spiq', 'xrdq', 'cash_debtq', 'roeq', 'opmadq', 'evmq'],\n",
       "       dtype='object'),\n",
       " Index(['lt_ppentq', 'fqtr_3', 'ocf_lctq', 'miiq', 'fqtr_4', 'invt_actq',\n",
       "        'rd_saleq', 'de_ratioq', 'dprq', 'buy_back_yield', 'lctq4', 'oibdpy',\n",
       "        'icaptq', 'capeiq'],\n",
       "       dtype='object'),\n",
       " Index(['fcf_csfhdq', 'cshopq', 'fcf_ocfq', 'xinty', 'capxq', 'oepsxq',\n",
       "        'sale_nwcq', 'pretret_earnatq', 'icaptq', 'teqq', 'ibq', 'xsgaq',\n",
       "        'prcraq', 'pretret_noaq', 'opcfq', 'cfmq', 'capeiq', 'de_ratioq',\n",
       "        'oiadpq', 'oepf12', 'ppentq', 'at5', 'pe_op_basicq', 'lctq', 'rd_saleq',\n",
       "        'cshprq', 'ibcomy', 'book_value_per_share', 'epsfxq', 'invt_actq',\n",
       "        'dlcq', 'txditcq', 'invtq', 'capxy'],\n",
       "       dtype='object'),\n",
       " Index(['fcf_yield'], dtype='object'),\n",
       " Index(['fcf_yield'], dtype='object'),\n",
       " Index(['fcf_yield', 'fcf_ocfq', 'xrdy', 'nopiq'], dtype='object'),\n",
       " Index(['fcf_csfhdq', 'fcf_ocfq', 'fcf_yield', 'evmq'], dtype='object'),\n",
       " Index(['cogsy', 'capxq', 'txpdy', 'cshopq', 'xsgay', 'miiy', 'miiq', 'nopiq',\n",
       "        'fcf_yield', 'cfmq', 'icaptq', 'xrdq', 'oepf12', 'revty', 'epspi12',\n",
       "        'fqtr_4', 'cfo-per-share', 'cshprq', 'fqtr_2', 'dvpspq', 'xsgaq', 'bmq',\n",
       "        'debt_atq', 'ibq', 'invtq', 'equity_invcapq', 'lctq', 'cogsq', 'oepsxy',\n",
       "        'oancfy'],\n",
       "       dtype='object'),\n",
       " Index(['capxq', 'fcf_yield', 'txpdy', 'fqtr_2', 'cogsy', 'evmq', 'req', 'xrdq',\n",
       "        'saleq', 'efftaxq', 'invt_actq', 'cshprq', 'book_value_per_share',\n",
       "        'bmq', 'cfmq'],\n",
       "       dtype='object'),\n",
       " Index(['debt_atq', 'txpdy', 'lt_ppentq', 'oepf12', 'oepsxq', 'xrdy', 'apq',\n",
       "        'curr_debtq', 'short_debtq', 'txdbq', 'atq', 'opmbdq'],\n",
       "       dtype='object'),\n",
       " Index(['fcf_ocfq', 'ppentq', 'fqtr_2', 'evmq', 'xsgay', 'txpdy', 'oepsxy',\n",
       "        'invt_actq', 'dpcy', 'pe_op_basicq', 'curr_ratioq', 'curr_debtq',\n",
       "        'ibcomy', 'xrdy', 'cash_ltq', 'dprq', 'cash_debtq'],\n",
       "       dtype='object'),\n",
       " Index(['epsfxq'], dtype='object'),\n",
       " Index(['sale_invcapq', 'lt_ppentq', 'txpdy', 'fqtr_2', 'epspxq', 'opmadq',\n",
       "        'dvq', 'sale_equityq', 'rect_actq', 'cshopq', 'xrdq', 'ltq', 'dltry',\n",
       "        'oancfy_q', 'lagbe4', 'txtq', 'ocf_lctq', 'dvpspq', 'chechy', 'oepf12',\n",
       "        'dprq', 'miiq', 'xsgaq', 'fqtr_4', 'icaptq', 'debt_assetsq', 'oibdpq',\n",
       "        'capeiq'],\n",
       "       dtype='object'),\n",
       " Index(['icaptq', 'lagbe4', 'lagicapt4', 'dvq', 'ibcy', 'lagppent4',\n",
       "        'totdebt_invcapq', 'epsfiq', 'fqtr_4', 'epspi12'],\n",
       "       dtype='object'),\n",
       " Index(['evmq', 'dprq', 'xrdy', 'cshopq', 'cshfdq', 'cshoq', 'buy_back_yield',\n",
       "        'atq'],\n",
       "       dtype='object'),\n",
       " Index(['evmq', 'fqtr_4', 'fcf_csfhdq', 'gprofq', 'apq', 'lagppent4', 'invtq',\n",
       "        'inv_turnq', 'book_value_yield'],\n",
       "       dtype='object')]"
      ]
     },
     "execution_count": 137,
     "metadata": {},
     "output_type": "execute_result"
    }
   ],
   "source": [
    "optimal_features"
   ]
  },
  {
   "cell_type": "code",
   "execution_count": 138,
   "metadata": {},
   "outputs": [
    {
     "data": {
      "text/plain": [
       "62"
      ]
     },
     "execution_count": 138,
     "metadata": {},
     "output_type": "execute_result"
    }
   ],
   "source": [
    "len(optimal_features)"
   ]
  },
  {
   "cell_type": "code",
   "execution_count": 139,
   "metadata": {},
   "outputs": [],
   "source": [
    "rf_clf = RandomForestClassifier(**{'n_estimators': 20,\n",
    " 'max_features': 'sqrt',\n",
    " 'min_samples_leaf': 1600,\n",
    " 'max_depth': 10})"
   ]
  },
  {
   "cell_type": "code",
   "execution_count": 140,
   "metadata": {},
   "outputs": [
    {
     "ename": "ValueError",
     "evalue": "operands could not be broadcast together with shapes (1155,) (1173,) ",
     "output_type": "error",
     "traceback": [
      "\u001b[1;31m---------------------------------------------------------------------------\u001b[0m",
      "\u001b[1;31mValueError\u001b[0m                                Traceback (most recent call last)",
      "Cell \u001b[1;32mIn[140], line 8\u001b[0m\n\u001b[0;32m      6\u001b[0m rf_clf\u001b[38;5;241m.\u001b[39mfit(training_data[i][optimal_features[i\u001b[38;5;241m-\u001b[39m\u001b[38;5;241m1\u001b[39m]],training_labels[i])\n\u001b[0;32m      7\u001b[0m pred_i \u001b[38;5;241m=\u001b[39m rf_clf\u001b[38;5;241m.\u001b[39mpredict(test_data[i][optimal_features[i\u001b[38;5;241m-\u001b[39m\u001b[38;5;241m1\u001b[39m]])\n\u001b[1;32m----> 8\u001b[0m profit_i \u001b[38;5;241m=\u001b[39m (pred_i \u001b[38;5;241m*\u001b[39m test_frames[i][\u001b[38;5;124m'\u001b[39m\u001b[38;5;124mnext_period_return\u001b[39m\u001b[38;5;124m'\u001b[39m])\u001b[38;5;241m.\u001b[39msum()\n\u001b[0;32m      9\u001b[0m P_L\u001b[38;5;241m.\u001b[39mappend(profit_i)\n\u001b[0;32m     10\u001b[0m num_positions \u001b[38;5;241m=\u001b[39m \u001b[38;5;28mlen\u001b[39m(pred_i)\n",
      "File \u001b[1;32m~\\anaconda3\\Lib\\site-packages\\pandas\\core\\generic.py:2016\u001b[0m, in \u001b[0;36mNDFrame.__array_ufunc__\u001b[1;34m(self, ufunc, method, *inputs, **kwargs)\u001b[0m\n\u001b[0;32m   2012\u001b[0m \u001b[38;5;129m@final\u001b[39m\n\u001b[0;32m   2013\u001b[0m \u001b[38;5;28;01mdef\u001b[39;00m \u001b[38;5;21m__array_ufunc__\u001b[39m(\n\u001b[0;32m   2014\u001b[0m     \u001b[38;5;28mself\u001b[39m, ufunc: np\u001b[38;5;241m.\u001b[39mufunc, method: \u001b[38;5;28mstr\u001b[39m, \u001b[38;5;241m*\u001b[39minputs: Any, \u001b[38;5;241m*\u001b[39m\u001b[38;5;241m*\u001b[39mkwargs: Any\n\u001b[0;32m   2015\u001b[0m ):\n\u001b[1;32m-> 2016\u001b[0m     \u001b[38;5;28;01mreturn\u001b[39;00m arraylike\u001b[38;5;241m.\u001b[39marray_ufunc(\u001b[38;5;28mself\u001b[39m, ufunc, method, \u001b[38;5;241m*\u001b[39minputs, \u001b[38;5;241m*\u001b[39m\u001b[38;5;241m*\u001b[39mkwargs)\n",
      "File \u001b[1;32m~\\anaconda3\\Lib\\site-packages\\pandas\\core\\arraylike.py:273\u001b[0m, in \u001b[0;36marray_ufunc\u001b[1;34m(self, ufunc, method, *inputs, **kwargs)\u001b[0m\n\u001b[0;32m    270\u001b[0m kwargs \u001b[38;5;241m=\u001b[39m _standardize_out_kwarg(\u001b[38;5;241m*\u001b[39m\u001b[38;5;241m*\u001b[39mkwargs)\n\u001b[0;32m    272\u001b[0m \u001b[38;5;66;03m# for binary ops, use our custom dunder methods\u001b[39;00m\n\u001b[1;32m--> 273\u001b[0m result \u001b[38;5;241m=\u001b[39m maybe_dispatch_ufunc_to_dunder_op(\u001b[38;5;28mself\u001b[39m, ufunc, method, \u001b[38;5;241m*\u001b[39minputs, \u001b[38;5;241m*\u001b[39m\u001b[38;5;241m*\u001b[39mkwargs)\n\u001b[0;32m    274\u001b[0m \u001b[38;5;28;01mif\u001b[39;00m result \u001b[38;5;129;01mis\u001b[39;00m \u001b[38;5;129;01mnot\u001b[39;00m \u001b[38;5;28mNotImplemented\u001b[39m:\n\u001b[0;32m    275\u001b[0m     \u001b[38;5;28;01mreturn\u001b[39;00m result\n",
      "File \u001b[1;32m~\\anaconda3\\Lib\\site-packages\\pandas\\_libs\\ops_dispatch.pyx:113\u001b[0m, in \u001b[0;36mpandas._libs.ops_dispatch.maybe_dispatch_ufunc_to_dunder_op\u001b[1;34m()\u001b[0m\n",
      "File \u001b[1;32m~\\anaconda3\\Lib\\site-packages\\pandas\\core\\ops\\common.py:81\u001b[0m, in \u001b[0;36m_unpack_zerodim_and_defer.<locals>.new_method\u001b[1;34m(self, other)\u001b[0m\n\u001b[0;32m     77\u001b[0m             \u001b[38;5;28;01mreturn\u001b[39;00m \u001b[38;5;28mNotImplemented\u001b[39m\n\u001b[0;32m     79\u001b[0m other \u001b[38;5;241m=\u001b[39m item_from_zerodim(other)\n\u001b[1;32m---> 81\u001b[0m \u001b[38;5;28;01mreturn\u001b[39;00m method(\u001b[38;5;28mself\u001b[39m, other)\n",
      "File \u001b[1;32m~\\anaconda3\\Lib\\site-packages\\pandas\\core\\arraylike.py:206\u001b[0m, in \u001b[0;36mOpsMixin.__rmul__\u001b[1;34m(self, other)\u001b[0m\n\u001b[0;32m    204\u001b[0m \u001b[38;5;129m@unpack_zerodim_and_defer\u001b[39m(\u001b[38;5;124m\"\u001b[39m\u001b[38;5;124m__rmul__\u001b[39m\u001b[38;5;124m\"\u001b[39m)\n\u001b[0;32m    205\u001b[0m \u001b[38;5;28;01mdef\u001b[39;00m \u001b[38;5;21m__rmul__\u001b[39m(\u001b[38;5;28mself\u001b[39m, other):\n\u001b[1;32m--> 206\u001b[0m     \u001b[38;5;28;01mreturn\u001b[39;00m \u001b[38;5;28mself\u001b[39m\u001b[38;5;241m.\u001b[39m_arith_method(other, roperator\u001b[38;5;241m.\u001b[39mrmul)\n",
      "File \u001b[1;32m~\\anaconda3\\Lib\\site-packages\\pandas\\core\\series.py:6112\u001b[0m, in \u001b[0;36mSeries._arith_method\u001b[1;34m(self, other, op)\u001b[0m\n\u001b[0;32m   6110\u001b[0m \u001b[38;5;28;01mdef\u001b[39;00m \u001b[38;5;21m_arith_method\u001b[39m(\u001b[38;5;28mself\u001b[39m, other, op):\n\u001b[0;32m   6111\u001b[0m     \u001b[38;5;28mself\u001b[39m, other \u001b[38;5;241m=\u001b[39m ops\u001b[38;5;241m.\u001b[39malign_method_SERIES(\u001b[38;5;28mself\u001b[39m, other)\n\u001b[1;32m-> 6112\u001b[0m     \u001b[38;5;28;01mreturn\u001b[39;00m base\u001b[38;5;241m.\u001b[39mIndexOpsMixin\u001b[38;5;241m.\u001b[39m_arith_method(\u001b[38;5;28mself\u001b[39m, other, op)\n",
      "File \u001b[1;32m~\\anaconda3\\Lib\\site-packages\\pandas\\core\\base.py:1348\u001b[0m, in \u001b[0;36mIndexOpsMixin._arith_method\u001b[1;34m(self, other, op)\u001b[0m\n\u001b[0;32m   1345\u001b[0m rvalues \u001b[38;5;241m=\u001b[39m ensure_wrapped_if_datetimelike(rvalues)\n\u001b[0;32m   1347\u001b[0m \u001b[38;5;28;01mwith\u001b[39;00m np\u001b[38;5;241m.\u001b[39merrstate(\u001b[38;5;28mall\u001b[39m\u001b[38;5;241m=\u001b[39m\u001b[38;5;124m\"\u001b[39m\u001b[38;5;124mignore\u001b[39m\u001b[38;5;124m\"\u001b[39m):\n\u001b[1;32m-> 1348\u001b[0m     result \u001b[38;5;241m=\u001b[39m ops\u001b[38;5;241m.\u001b[39marithmetic_op(lvalues, rvalues, op)\n\u001b[0;32m   1350\u001b[0m \u001b[38;5;28;01mreturn\u001b[39;00m \u001b[38;5;28mself\u001b[39m\u001b[38;5;241m.\u001b[39m_construct_result(result, name\u001b[38;5;241m=\u001b[39mres_name)\n",
      "File \u001b[1;32m~\\anaconda3\\Lib\\site-packages\\pandas\\core\\ops\\array_ops.py:232\u001b[0m, in \u001b[0;36marithmetic_op\u001b[1;34m(left, right, op)\u001b[0m\n\u001b[0;32m    228\u001b[0m     _bool_arith_check(op, left, right)\n\u001b[0;32m    230\u001b[0m     \u001b[38;5;66;03m# error: Argument 1 to \"_na_arithmetic_op\" has incompatible type\u001b[39;00m\n\u001b[0;32m    231\u001b[0m     \u001b[38;5;66;03m# \"Union[ExtensionArray, ndarray[Any, Any]]\"; expected \"ndarray[Any, Any]\"\u001b[39;00m\n\u001b[1;32m--> 232\u001b[0m     res_values \u001b[38;5;241m=\u001b[39m _na_arithmetic_op(left, right, op)  \u001b[38;5;66;03m# type: ignore[arg-type]\u001b[39;00m\n\u001b[0;32m    234\u001b[0m \u001b[38;5;28;01mreturn\u001b[39;00m res_values\n",
      "File \u001b[1;32m~\\anaconda3\\Lib\\site-packages\\pandas\\core\\ops\\array_ops.py:171\u001b[0m, in \u001b[0;36m_na_arithmetic_op\u001b[1;34m(left, right, op, is_cmp)\u001b[0m\n\u001b[0;32m    168\u001b[0m     func \u001b[38;5;241m=\u001b[39m partial(expressions\u001b[38;5;241m.\u001b[39mevaluate, op)\n\u001b[0;32m    170\u001b[0m \u001b[38;5;28;01mtry\u001b[39;00m:\n\u001b[1;32m--> 171\u001b[0m     result \u001b[38;5;241m=\u001b[39m func(left, right)\n\u001b[0;32m    172\u001b[0m \u001b[38;5;28;01mexcept\u001b[39;00m \u001b[38;5;167;01mTypeError\u001b[39;00m:\n\u001b[0;32m    173\u001b[0m     \u001b[38;5;28;01mif\u001b[39;00m \u001b[38;5;129;01mnot\u001b[39;00m is_cmp \u001b[38;5;129;01mand\u001b[39;00m (is_object_dtype(left\u001b[38;5;241m.\u001b[39mdtype) \u001b[38;5;129;01mor\u001b[39;00m is_object_dtype(right)):\n\u001b[0;32m    174\u001b[0m         \u001b[38;5;66;03m# For object dtype, fallback to a masked operation (only operating\u001b[39;00m\n\u001b[0;32m    175\u001b[0m         \u001b[38;5;66;03m#  on the non-missing values)\u001b[39;00m\n\u001b[0;32m    176\u001b[0m         \u001b[38;5;66;03m# Don't do this for comparisons, as that will handle complex numbers\u001b[39;00m\n\u001b[0;32m    177\u001b[0m         \u001b[38;5;66;03m#  incorrectly, see GH#32047\u001b[39;00m\n",
      "File \u001b[1;32m~\\anaconda3\\Lib\\site-packages\\pandas\\core\\computation\\expressions.py:239\u001b[0m, in \u001b[0;36mevaluate\u001b[1;34m(op, a, b, use_numexpr)\u001b[0m\n\u001b[0;32m    236\u001b[0m \u001b[38;5;28;01mif\u001b[39;00m op_str \u001b[38;5;129;01mis\u001b[39;00m \u001b[38;5;129;01mnot\u001b[39;00m \u001b[38;5;28;01mNone\u001b[39;00m:\n\u001b[0;32m    237\u001b[0m     \u001b[38;5;28;01mif\u001b[39;00m use_numexpr:\n\u001b[0;32m    238\u001b[0m         \u001b[38;5;66;03m# error: \"None\" not callable\u001b[39;00m\n\u001b[1;32m--> 239\u001b[0m         \u001b[38;5;28;01mreturn\u001b[39;00m _evaluate(op, op_str, a, b)  \u001b[38;5;66;03m# type: ignore[misc]\u001b[39;00m\n\u001b[0;32m    240\u001b[0m \u001b[38;5;28;01mreturn\u001b[39;00m _evaluate_standard(op, op_str, a, b)\n",
      "File \u001b[1;32m~\\anaconda3\\Lib\\site-packages\\pandas\\core\\computation\\expressions.py:128\u001b[0m, in \u001b[0;36m_evaluate_numexpr\u001b[1;34m(op, op_str, a, b)\u001b[0m\n\u001b[0;32m    125\u001b[0m     _store_test_result(result \u001b[38;5;129;01mis\u001b[39;00m \u001b[38;5;129;01mnot\u001b[39;00m \u001b[38;5;28;01mNone\u001b[39;00m)\n\u001b[0;32m    127\u001b[0m \u001b[38;5;28;01mif\u001b[39;00m result \u001b[38;5;129;01mis\u001b[39;00m \u001b[38;5;28;01mNone\u001b[39;00m:\n\u001b[1;32m--> 128\u001b[0m     result \u001b[38;5;241m=\u001b[39m _evaluate_standard(op, op_str, a, b)\n\u001b[0;32m    130\u001b[0m \u001b[38;5;28;01mreturn\u001b[39;00m result\n",
      "File \u001b[1;32m~\\anaconda3\\Lib\\site-packages\\pandas\\core\\computation\\expressions.py:70\u001b[0m, in \u001b[0;36m_evaluate_standard\u001b[1;34m(op, op_str, a, b)\u001b[0m\n\u001b[0;32m     68\u001b[0m \u001b[38;5;28;01mif\u001b[39;00m _TEST_MODE:\n\u001b[0;32m     69\u001b[0m     _store_test_result(\u001b[38;5;28;01mFalse\u001b[39;00m)\n\u001b[1;32m---> 70\u001b[0m \u001b[38;5;28;01mreturn\u001b[39;00m op(a, b)\n",
      "File \u001b[1;32m~\\anaconda3\\Lib\\site-packages\\pandas\\core\\roperator.py:19\u001b[0m, in \u001b[0;36mrmul\u001b[1;34m(left, right)\u001b[0m\n\u001b[0;32m     18\u001b[0m \u001b[38;5;28;01mdef\u001b[39;00m \u001b[38;5;21mrmul\u001b[39m(left, right):\n\u001b[1;32m---> 19\u001b[0m     \u001b[38;5;28;01mreturn\u001b[39;00m right \u001b[38;5;241m*\u001b[39m left\n",
      "\u001b[1;31mValueError\u001b[0m: operands could not be broadcast together with shapes (1155,) (1173,) "
     ]
    }
   ],
   "source": [
    "P_L = []\n",
    "x = [1]\n",
    "ret = []\n",
    "\n",
    "for i in range(len(optimal_features)-1):\n",
    "        rf_clf.fit(training_data[i][optimal_features[i-1]],training_labels[i])\n",
    "        pred_i = rf_clf.predict(test_data[i][optimal_features[i-1]])\n",
    "        profit_i = (pred_i * test_frames[i]['next_period_return']).sum()\n",
    "        P_L.append(profit_i)\n",
    "        num_positions = len(pred_i)\n",
    "        ret.append((1.0/num_positions) * profit_i)\n",
    "        x.append(x[i] + (x[i]/num_positions) * profit_i)"
   ]
  },
  {
   "cell_type": "code",
   "execution_count": 32,
   "metadata": {},
   "outputs": [
    {
     "data": {
      "image/png": "[encoded data removed]",
      "text/plain": [
       "<Figure size 432x288 with 1 Axes>"
      ]
     },
     "metadata": {
      "needs_background": "light"
     },
     "output_type": "display_data"
    }
   ],
   "source": [
    "plt.plot(x[1:]);"
   ]
  },
  {
   "cell_type": "code",
   "execution_count": 34,
   "metadata": {},
   "outputs": [],
   "source": [
    "SPY = pd.read_pickle(r'C:\\Users\\niels\\OneDrive\\Machine Learning 2022\\Lecture 2\\SPY_cum_ret.pkl')\n",
    "SPY = SPY.loc['2003-07-01':]\n",
    "SPY = SPY.resample('Q').ffill()\n",
    "SPY['spy_cum_ret'] = (SPY['spy_cum_ret'] - SPY['spy_cum_ret'][0] + 1)\n",
    "SPY['strategy'] = x"
   ]
  },
  {
   "cell_type": "code",
   "execution_count": 35,
   "metadata": {},
   "outputs": [
    {
     "data": {
      "image/png": "[encoded data removed]",
      "text/plain": [
       "<Figure size 432x288 with 1 Axes>"
      ]
     },
     "metadata": {
      "needs_background": "light"
     },
     "output_type": "display_data"
    }
   ],
   "source": [
    "SPY.plot();"
   ]
  },
  {
   "cell_type": "code",
   "execution_count": 36,
   "metadata": {},
   "outputs": [
    {
     "data": {
      "image/png": "[encoded data removed]",
      "text/plain": [
       "<Figure size 432x288 with 1 Axes>"
      ]
     },
     "metadata": {
      "needs_background": "light"
     },
     "output_type": "display_data"
    }
   ],
   "source": [
    "SPY = SPY.resample('Y').ffill()\n",
    "SPY.plot();"
   ]
  },
  {
   "cell_type": "code",
   "execution_count": 37,
   "metadata": {},
   "outputs": [
    {
     "name": "stdout",
     "output_type": "stream",
     "text": [
      "Strategy Sharpe Ratio:  0.819374440211871\n"
     ]
    }
   ],
   "source": [
    "strategy_mean_ret = (SPY['strategy'] - 1).diff().mean()\n",
    "strategy_std = (SPY['strategy'] - 1).diff().std()\n",
    "strategy_sr = strategy_mean_ret/strategy_std\n",
    "print('Strategy Sharpe Ratio: ',strategy_sr)"
   ]
  },
  {
   "cell_type": "code",
   "execution_count": 38,
   "metadata": {},
   "outputs": [],
   "source": [
    "strategy_ret = (SPY['strategy'] - 1).diff().values[1:]\n",
    "spy_ret = (SPY['spy_cum_ret'] - 1).diff().values[1:]"
   ]
  },
  {
   "cell_type": "code",
   "execution_count": 39,
   "metadata": {},
   "outputs": [
    {
     "data": {
      "text/plain": [
       "2.075464274764884"
      ]
     },
     "execution_count": 39,
     "metadata": {},
     "output_type": "execute_result"
    }
   ],
   "source": [
    "beta = (np.cov(spy_ret,strategy_ret)/np.var(spy_ret))[1,0]\n",
    "beta"
   ]
  },
  {
   "cell_type": "markdown",
   "metadata": {},
   "source": [
    "## Compute both optimal hyper-parameters and optimal features at each quarter"
   ]
  },
  {
   "cell_type": "code",
   "execution_count": 40,
   "metadata": {},
   "outputs": [],
   "source": [
    "start_dates = [pd.to_datetime('2000-01-01') + pd.DateOffset(months = 3 * i) for i in range(62)]\n",
    "end_dates = [d + pd.DateOffset(months = 35) for d in start_dates]\n",
    "\n",
    "training_frames = [data.loc[d:d+pd.DateOffset(months = 36)] for d in start_dates]\n",
    "validation_frames = [data.loc[d:d+pd.DateOffset(months = 3)] for d in end_dates]\n",
    "test_frames = [data.loc[d + pd.DateOffset(months=6):d+pd.DateOffset(months = 9)] for d in end_dates]\n",
    "\n",
    "training_data = [d.reset_index().drop\n",
    "                                 (['ticker','date',\n",
    "                                   'next_period_return',\n",
    "                                   'spy_next_period_return',\n",
    "                                   'rel_performance','pred_rel_return',\n",
    "                                  'return', 'cum_ret', 'spy_cum_ret'],axis=1) for d in training_frames]\n",
    "validation_data = test_data = [d.reset_index().drop(['ticker','date',\n",
    "                                   'next_period_return',\n",
    "                                   'spy_next_period_return',\n",
    "                                   'rel_performance','pred_rel_return',\n",
    "                                  'return', 'cum_ret', 'spy_cum_ret'],axis=1) for d in validation_frames]\n",
    "test_data = [d.reset_index().drop(['ticker','date',\n",
    "                                   'next_period_return',\n",
    "                                   'spy_next_period_return',\n",
    "                                   'rel_performance','pred_rel_return',\n",
    "                                  'return', 'cum_ret', 'spy_cum_ret'],axis=1) for d in test_frames]\n",
    "\n",
    "training_labels = [d['rel_performance'].values for d in training_frames]\n",
    "validation_labels = [d['rel_performance'].values for d in validation_frames]"
   ]
  },
  {
   "cell_type": "code",
   "execution_count": 41,
   "metadata": {},
   "outputs": [
    {
     "data": {
      "text/plain": [
       "733"
      ]
     },
     "execution_count": 41,
     "metadata": {},
     "output_type": "execute_result"
    }
   ],
   "source": [
    "len(data.columns)"
   ]
  },
  {
   "cell_type": "code",
   "execution_count": 98,
   "metadata": {},
   "outputs": [
    {
     "name": "stdout",
     "output_type": "stream",
     "text": [
      "0\n",
      "{'n_estimators': 25, 'max_features': 'log2', 'min_samples_leaf': 1600, 'max_depth': 7}\n",
      "Index(['epsfxq', 'oepf12', 'oibdpy', 'roceq', 'rd_saleq', 'ibadj12', 'oeps12',\n",
      "       'cf_yield', 'oepsxq', 'npmq', 'epsx12', 'opcfq', 'dlttq', 'oepsxy',\n",
      "       'txtq', 'epspxq', 'epsfi12', 'cash_ratioq', 'ibcq', 'at5', 'capxq',\n",
      "       'curr_ratioq', 'seq4', 'cash_ltq', 'capeiq', 'cheq', 'cshiq',\n",
      "       'book_value_yield', 'debt_capitalq', 'cfo-per-share', 'roeq',\n",
      "       'debt_assetsq'],\n",
      "      dtype='object')\n",
      "94.055294\n",
      "1\n",
      "{'n_estimators': 10, 'max_features': 'log2', 'min_samples_leaf': 1600, 'max_depth': 9}\n",
      "Index(['oepsxy', 'fcf_csfhdq', 'lctq', 'intcovq', 'req', 'totdebt_invcapq',\n",
      "       'epsfxq', 'cf_yield', 'dlcq', 'gpmq', 'actq', 'rectq', 'xinty', 'seq4',\n",
      "       'inv_turnq'],\n",
      "      dtype='object')\n",
      "128.40326800000003\n",
      "2\n",
      "{'n_estimators': 30, 'max_features': 'sqrt', 'min_samples_leaf': 800, 'max_depth': 6}\n",
      "Index(['oancfy_q', 'ibadj12', 'epsx12', 'xintq', 'fqtr_2', 'capeiq', 'nopiq',\n",
      "       'invt_actq', 'int_totdebtq', 'cf_yield', 'rect_actq', 'at5', 'xoprq',\n",
      "       'curr_ratioq', 'pay_turnq', 'sale_equityq', 'lctq', 'actq', 'chechy',\n",
      "       'cfmq', 'txditcq', 'market_cap', 'xinty', 'capxq', 'opmadq', 'cshoq',\n",
      "       'cash_debtq', 'cstkq', 'lagppent_alt4', 'ocf_lctq', 'lctq4', 'ceqq'],\n",
      "      dtype='object')\n",
      "103.06336099999999\n",
      "3\n",
      "{'n_estimators': 10, 'max_features': 'log2', 'min_samples_leaf': 2400, 'max_depth': 7}\n",
      "Index(['pe_exiq', 'bmq', 'xintq', 'cstkq', 'txditcq', 'oepsxq',\n",
      "       'debt_capitalq'],\n",
      "      dtype='object')\n",
      "112.84986799999999\n",
      "4\n",
      "{'n_estimators': 10, 'max_features': 'log2', 'min_samples_leaf': 800, 'max_depth': 9}\n",
      "Index(['rd_saleq', 'lctq4', 'at5', 'ocf_lctq', 'seqq', 'pay_turnq', 'prccq',\n",
      "       'cogsq', 'aftret_equityq', 'actq', 'dpq', 'lt_ppentq', 'cshprq',\n",
      "       'opepsq', 'beq', 'capital_ratioq', 'ibcy', 'txditcq', 'fcf_csfhdq',\n",
      "       'oibdpy', 'cshfdq', 'niq', 'lagbe4', 'roeq', 'pe_incq', 'revty',\n",
      "       'opcfq', 'cfmq', 'dltry', 'xsgay', 'nopiq', 'cstkq', 'int_debtq',\n",
      "       'profit_lctq', 'ppentq', 'debt_assetsq', 'spcsrc_B+'],\n",
      "      dtype='object')\n",
      "-7.39795800000001\n",
      "5\n",
      "{'n_estimators': 20, 'max_features': 'log2', 'min_samples_leaf': 1600, 'max_depth': 8}\n",
      "Index(['oancfy_q', 'de_ratioq', 'oepf12', 'oeps12', 'aftret_equityq', 'oancfy',\n",
      "       'xsgaq', 'epspi12', 'ptpmq', 'debt_assetsq', 'yearly_sales', 'epsf12',\n",
      "       'ibcomy', 'txpdy', 'epspxq', 'cfo-per-share', 'cash_ltq', 'revty',\n",
      "       'saleq', 'dpcq', 'pcfq', 'dvq', 'inv_turnq', 'efftaxq', 'debt_capitalq',\n",
      "       'dlttq', 'csh12q', 'pretret_earnatq', 'ibcq', 'ceqq',\n",
      "       'cash_conversionq', 'rect_turnq', 'actq', 'at_turnq'],\n",
      "      dtype='object')\n",
      "-26.068305999999993\n",
      "6\n",
      "{'n_estimators': 20, 'max_features': 'sqrt', 'min_samples_leaf': 800, 'max_depth': 10}\n",
      "Index(['oepf12', 'cash_ltq', 'epspxq', 'oibdpy', 'dvpspq', 'pe_incq', 'dvy',\n",
      "       'cshoq', 'int_totdebtq', 'seq4', 'int_debtq', 'evmq', 'cshprq', 'ceqq',\n",
      "       'debt_capitalq', 'inv_turnq', 'fcf_yield', 'opcfq', 'sale_equityq',\n",
      "       'cshfdq', 'lagicapt4', 'cshiq', 'apq', 'atq', 'opepsq', 'ibq', 'req',\n",
      "       'aftret_eqq'],\n",
      "      dtype='object')\n",
      "99.21173700000003\n",
      "7\n",
      "{'n_estimators': 15, 'max_features': 'log2', 'min_samples_leaf': 2400, 'max_depth': 5}\n",
      "Index(['lagppent4', 'equity_invcapq', 'epsfiq', 'at5', 'cash_ratioq',\n",
      "       'market_cap', 'epspi12', 'xsgay', 'dvq', 'ibcomy', 'oepsxy',\n",
      "       'de_ratioq', 'curr_debtq', 'psq', 'cshiq', 'capxy'],\n",
      "      dtype='object')\n",
      "89.62323700000002\n",
      "8\n",
      "{'n_estimators': 10, 'max_features': 'sqrt', 'min_samples_leaf': 800, 'max_depth': 5}\n",
      "Index(['oeps12', 'cfo-per-share', 'cf_yield', 'epsfxq', 'oepsxq', 'xinty',\n",
      "       'epsf12', 'oancfy_q'],\n",
      "      dtype='object')\n",
      "-0.4862050000000071\n",
      "9\n",
      "{'n_estimators': 25, 'max_features': 'sqrt', 'min_samples_leaf': 800, 'max_depth': 9}\n",
      "Index(['epsfiq', 'fcf_yield', 'lt_ppentq', 'csh12q', 'rect_turnq'], dtype='object')\n",
      "140.679746\n",
      "10\n",
      "{'n_estimators': 20, 'max_features': 'log2', 'min_samples_leaf': 800, 'max_depth': 12}\n",
      "Index(['epspi12', 'cash_ltq', 'txditcq', 'ltq', 'cfo-per-share', 'lt_ppentq',\n",
      "       'cf_yield', 'psq', 'epsfiq', 'totdebt_invcapq', 'capeiq', 'atq',\n",
      "       'oepf12', 'book_value_per_share', 'book_value_yield', 'ibcomy',\n",
      "       'efftaxq', 'rd_saleq', 'pe_incq', 'pe_exiq', 'capxq', 'curr_debtq',\n",
      "       'pretret_earnatq', 'opmadq', 'lagppent_alt4', 'mibq', 'icaptq', 'dprq',\n",
      "       'actq', 'quick_ratioq', 'req', 'pretret_noaq', 'ibq', 'oancfy_q',\n",
      "       'roceq', 'oibdpy', 'aftret_invcapxq', 'dvy', 'be4', 'xsgaq', 'opmbdq',\n",
      "       'cshprq', 'nopiq', 'pe_op_basicq', 'epsfi12', 'lctq', 'epsf12',\n",
      "       'ppentq', 'dlcq', 'ibcq', 'debt_capitalq', 'yearly_sales', 'xintq'],\n",
      "      dtype='object')\n",
      "-19.677365999999992\n",
      "11\n",
      "{'n_estimators': 10, 'max_features': 'sqrt', 'min_samples_leaf': 800, 'max_depth': 15}\n",
      "Index(['cfo-per-share', 'epspi12', 'csh12q', 'fcf_yield', 'pretret_noaq',\n",
      "       'epsfiq', 'rd_saleq', 'dprq', 'ltq', 'xsgay', 'gprofq', 'saleq', 'at4',\n",
      "       'epsx12', 'capeiq', 'evmq', 'int_totdebtq', 'book_value_per_share',\n",
      "       'seq4', 'xsgaq', 'efftaxq', 'oepsxq', 'xinty', 'npmq', 'market_cap',\n",
      "       'epsf12', 'niq', 'cf_yield', 'pcfq', 'lagbe4', 'beq', 'cshfdq', 'dpcq',\n",
      "       'dpcy', 'fcf_csfhdq', 'oancfy', 'lt_debtq', 'ibcy', 'cshoq',\n",
      "       'aftret_equityq', 'debt_assetsq'],\n",
      "      dtype='object')\n",
      "141.11796399999997\n",
      "12\n",
      "{'n_estimators': 10, 'max_features': 'log2', 'min_samples_leaf': 800, 'max_depth': 15}\n",
      "Index(['fcf_yield', 'oancfy_q', 'intcovq', 'cf_yield', 'aftret_eqq', 'xintq',\n",
      "       'cfo-per-share', 'fqtr_1', 'lagseq4', 'epsx12', 'cogsq', 'oancfy',\n",
      "       'icaptq', 'epsf12', 'debt_capitalq', 'cfmq', 'pretret_earnatq', 'lctq',\n",
      "       'pe_incq', 'market_cap', 'cshiq', 'dvq', 'epspi12', 'rd_saleq',\n",
      "       'rect_actq', 'ptpmq', 'roaq', 'actq', 'epspxq', 'revtq', 'cshoq',\n",
      "       'dltisy', 'capeiq', 'ibcomy', 'ocf_lctq', 'pstkq', 'chechy', 'ibq',\n",
      "       'accrualq', 'fqtr_3', 'dltt_beq', 'debt_ebitdaq', 'dpcy', 'ibadj12',\n",
      "       'xsgaq'],\n",
      "      dtype='object')\n",
      "70.549942\n",
      "13\n",
      "{'n_estimators': 20, 'max_features': 'log2', 'min_samples_leaf': 2400, 'max_depth': 10}\n",
      "Index(['fcf_csfhdq', 'fcf_yield', 'saleq', 'xsgaq', 'dlcq', 'dltry', 'epsfi12',\n",
      "       'cheq', 'rd_saleq', 'cfmq', 'ibadj12', 'invt_actq', 'lagppent_alt4',\n",
      "       'epsx12', 'evmq', 'piq', 'rect_turnq', 'capital_ratioq', 'lt_ppentq',\n",
      "       'rect_actq', 'capxq', 'at5'],\n",
      "      dtype='object')\n",
      "-70.38134600000001\n",
      "14\n",
      "{'n_estimators': 10, 'max_features': 'log2', 'min_samples_leaf': 800, 'max_depth': 8}\n",
      "Index(['pretret_noaq', 'intcov_ratioq', 'dpcq', 'pretret_earnatq', 'ibcy',\n",
      "       'cheq', 'be4', 'short_debtq', 'opmbdq', 'evmq', 'book_value_per_share',\n",
      "       'pay_turnq', 'rect_turnq', 'ptpmq', 'lagppent4', 'inv_turnq', 'dvq',\n",
      "       'lctq', 'miiq', 'lagbe4'],\n",
      "      dtype='object')\n",
      "129.14347699999996\n",
      "15\n",
      "{'n_estimators': 20, 'max_features': 'sqrt', 'min_samples_leaf': 800, 'max_depth': 11}\n",
      "Index(['book_value_yield', 'mibq', 'chechy', 'capxq', 'miiq', 'lagppent_alt4',\n",
      "       'at_turnq', 'ppentq', 'dvq', 'gprofq', 'cshopq', 'seq4', 'txtq', 'gpmq',\n",
      "       'cshfdq', 'lctq'],\n",
      "      dtype='object')\n",
      "98.829227\n",
      "16\n",
      "{'n_estimators': 20, 'max_features': 'sqrt', 'min_samples_leaf': 800, 'max_depth': 8}\n",
      "Index(['dltt_beq', 'int_totdebtq', 'cshopq', 'book_value_per_share',\n",
      "       'sale_invcapq', 'xsgaq', 'short_debtq', 'rectq', 'intcovq', 'inv_turnq',\n",
      "       'cshoq', 'lt_ppentq', 'roaq', 'fqtr_2', 'profit_lctq', 'lagicapt4'],\n",
      "      dtype='object')\n",
      "86.226899\n",
      "17\n",
      "{'n_estimators': 30, 'max_features': 'sqrt', 'min_samples_leaf': 800, 'max_depth': 7}\n",
      "Index(['cfo-per-share', 'oancfy_q', 'cf_yield', 'book_value_per_share', 'ibq',\n",
      "       'epsfiq', 'dpcy', 'opcfq'],\n",
      "      dtype='object')\n",
      "-12.000405999999991\n",
      "18\n",
      "{'n_estimators': 35, 'max_features': 'log2', 'min_samples_leaf': 800, 'max_depth': 15}\n",
      "Index(['rect_turnq', 'lt_debtq', 'inv_turnq', 'nopiq', 'txpq', 'dpq', 'epsfiq',\n",
      "       'short_debtq', 'opmadq', 'dlcq', 'rect_actq', 'dvq', 'totdebt_invcapq',\n",
      "       'req', 'cash_debtq', 'lt_ppentq', 'lagppent4', 'cshoq'],\n",
      "      dtype='object')\n",
      "50.883129\n",
      "19\n",
      "{'n_estimators': 25, 'max_features': 'sqrt', 'min_samples_leaf': 800, 'max_depth': 8}\n",
      "Index(['ibadjq', 'oepsxy', 'oancfy_q', 'epspxq', 'lagppent_alt4',\n",
      "       'int_totdebtq', 'book_value_per_share', 'ibq', 'epsfxq', 'fcf_yield',\n",
      "       'cf_yield', 'rect_actq', 'lctq4', 'lctq', 'dlttq', 'market_cap'],\n",
      "      dtype='object')\n",
      "-47.833176999999985\n",
      "20\n"
     ]
    },
    {
     "name": "stdout",
     "output_type": "stream",
     "text": [
      "{'n_estimators': 30, 'max_features': 'sqrt', 'min_samples_leaf': 800, 'max_depth': 10}\n",
      "Index(['lt_ppentq', 'debt_assetsq', 'chechy', 'evmq', 'xsgaq', 'fcf_yield',\n",
      "       'dpcy', 'dpcq', 'inv_turnq', 'pe_op_dilq', 'gprofq'],\n",
      "      dtype='object')\n",
      "70.371964\n",
      "21\n",
      "{'n_estimators': 25, 'max_features': 'sqrt', 'min_samples_leaf': 800, 'max_depth': 6}\n",
      "Index(['epspxq', 'quick_ratioq', 'actq', 'epspiq', 'ibcomy', 'de_ratioq',\n",
      "       'opepsq', 'lagppent_alt4', 'oancfy', 'epsfxq'],\n",
      "      dtype='object')\n",
      "-9.114612999999936\n",
      "22\n",
      "{'n_estimators': 10, 'max_features': 'log2', 'min_samples_leaf': 2400, 'max_depth': 6}\n",
      "Index(['lagppent4', 'actq'], dtype='object')\n",
      "-342.962676\n",
      "23\n",
      "{'n_estimators': 35, 'max_features': 'log2', 'min_samples_leaf': 1600, 'max_depth': 8}\n",
      "Index(['cf_yield', 'ocf_lctq', 'lctq', 'ibcy', 'debt_capitalq',\n",
      "       'aftret_equityq', 'cash_debtq', 'epsfi12', 'debt_assetsq', 'actq',\n",
      "       'capital_ratioq'],\n",
      "      dtype='object')\n",
      "41.534623000000025\n",
      "24\n",
      "{'n_estimators': 30, 'max_features': 'log2', 'min_samples_leaf': 2400, 'max_depth': 14}\n",
      "Index(['seqq', 'cogsq', 'fcf_yield', 'debt_ebitdaq', 'book_value_yield', 'apq',\n",
      "       'dvpspq', 'totdebt_invcapq', 'capxy', 'ptpmq', 'dltisy', 'cheq',\n",
      "       'cshiq', 'opmadq', 'ppentq', 'epsfiq'],\n",
      "      dtype='object')\n",
      "232.644548\n",
      "25\n",
      "{'n_estimators': 25, 'max_features': 'log2', 'min_samples_leaf': 1600, 'max_depth': 8}\n",
      "Index(['oibdpq', 'txpdy', 'debt_capitalq', 'fqtr_2', 'cheq', 'miiy', 'at4',\n",
      "       'xintq', 'epsf12', 'cash_ltq', 'cstkq', 'dlcq', 'short_debtq', 'epspiq',\n",
      "       'csh12q', 'rd_saleq', 'dltry', 'xoprq'],\n",
      "      dtype='object')\n",
      "160.931694\n",
      "26\n",
      "{'n_estimators': 30, 'max_features': 'log2', 'min_samples_leaf': 800, 'max_depth': 9}\n",
      "Index(['epspxq', 'fcf_csfhdq', 'ibq', 'ceqq', 'seqq', 'dltisy', 'npmq',\n",
      "       'inv_turnq', 'capeiq', 'cshfdq', 'ceq4', 'evmq', 'at5', 'dpq', 'cstkq',\n",
      "       'invt_actq', 'pcfq', 'aftret_eqq', 'capxq', 'dlcq'],\n",
      "      dtype='object')\n",
      "123.69548799999998\n",
      "27\n",
      "{'n_estimators': 10, 'max_features': 'log2', 'min_samples_leaf': 1600, 'max_depth': 13}\n",
      "Index(['cshprq', 'txpq', 'fqtr_2', 'epsfi12', 'epspxq', 'ceqq', 'dvpspq',\n",
      "       'equity_invcapq'],\n",
      "      dtype='object')\n",
      "85.740614\n",
      "28\n",
      "{'n_estimators': 15, 'max_features': 'log2', 'min_samples_leaf': 2400, 'max_depth': 9}\n",
      "Index(['ocf_lctq', 'dpq', 'ibcy', 'lagppent4', 'profit_lctq', 'actq',\n",
      "       'lt_ppentq', 'yearly_sales', 'book_value_yield', 'lctq',\n",
      "       'totdebt_invcapq', 'at_turnq', 'debt_invcapq', 'curr_debtq', 'niq',\n",
      "       'aftret_eqq', 'txpdy', 'intcov_ratioq', 'fcf_ocfq', 'prccq', 'prcraq',\n",
      "       'pe_incq', 'txtq', 'dltt_beq', 'dprq'],\n",
      "      dtype='object')\n",
      "142.586748\n",
      "29\n",
      "{'n_estimators': 35, 'max_features': 'sqrt', 'min_samples_leaf': 800, 'max_depth': 7}\n",
      "Index(['cf_yield', 'ocf_lctq', 'de_ratioq', 'totdebt_invcapq', 'oancfy',\n",
      "       'rect_actq', 'fcf_yield', 'pretret_noaq', 'cash_ratioq'],\n",
      "      dtype='object')\n",
      "-28.162687000000044\n",
      "30\n",
      "{'n_estimators': 10, 'max_features': 'sqrt', 'min_samples_leaf': 800, 'max_depth': 13}\n",
      "Index(['lt_ppentq', 'prccq', 'bmq', 'fcf_csfhdq', 'cogsq', 'cfo-per-share',\n",
      "       'rectq', 'capxq', 'dltisy', 'evmq', 'lt_debtq', 'lagppent4',\n",
      "       'book_value_per_share', 'ibadjq', 'dprq', 'dvy', 'beq', 'teqq', 'npmq',\n",
      "       'int_debtq', 'profit_lctq', 'inv_turnq', 'ibcomq', 'pay_turnq', 'cheq',\n",
      "       'xsgay', 'psq', 'debt_assetsq', 'at5', 'ibadj12', 'sale_invcapq',\n",
      "       'roceq', 'dltry', 'curr_debtq', 'oancfy', 'miiy', 'cshprq', 'gprofq',\n",
      "       'cash_ltq', 'revtq', 'debt_invcapq', 'xinty', 'cfmq', 'aftret_equityq',\n",
      "       'oibdpq', 'pretret_noaq'],\n",
      "      dtype='object')\n",
      "148.73999499999996\n",
      "31\n",
      "{'n_estimators': 10, 'max_features': 'log2', 'min_samples_leaf': 2400, 'max_depth': 8}\n",
      "Index(['opepsq', 'dlttq', 'cf_yield', 'oancfy_q', 'book_value_yield',\n",
      "       'debt_assetsq', 'cash_debtq', 'ibcomy', 'cshfdq', 'roeq', 'intcovq',\n",
      "       'opmbdq', 'actq', 'market_cap', 'cash_conversionq', 'pe_incq',\n",
      "       'epsfi12'],\n",
      "      dtype='object')\n",
      "170.927752\n",
      "32\n",
      "{'n_estimators': 20, 'max_features': 'log2', 'min_samples_leaf': 1600, 'max_depth': 10}\n",
      "Index(['lctq4', 'curr_ratioq', 'lt_ppentq', 'fcf_ocfq', 'oibdpy', 'fcf_yield',\n",
      "       'be4', 'fqtr_4', 'cshiq', 'chechy', 'dltt_beq', 'ibcy', 'dltry', 'xrdq',\n",
      "       'apq', 'quick_ratioq', 'oancfy', 'revty', 'epsfxq', 'sale_nwcq',\n",
      "       'fcf_csfhdq', 'saleq', 'xoprq', 'book_value_per_share', 'piq', 'xintq',\n",
      "       'debt_atq', 'seq4', 'oepsxy', 'icaptq', 'cogsy', 'epspi12', 'lagicapt4',\n",
      "       'int_totdebtq', 'ocf_lctq', 'ibcomy', 'epsfiq', 'actq'],\n",
      "      dtype='object')\n",
      "64.70880299999999\n",
      "33\n",
      "{'n_estimators': 10, 'max_features': 'log2', 'min_samples_leaf': 1600, 'max_depth': 4}\n",
      "Index(['lctq', 'prccq', 'at_turnq', 'ptpmq', 'pcfq', 'cshfdq', 'pe_incq',\n",
      "       'fcf_yield', 'cash_conversionq', 'ibcomq', 'oeps12', 'opmadq', 'roeq',\n",
      "       'debt_invcapq', 'ibcq', 'cheq', 'dpcy', 'lt_ppentq', 'ceq4', 'roceq',\n",
      "       'cash_ltq', 'ppentq'],\n",
      "      dtype='object')\n",
      "-141.14953199999997\n",
      "34\n",
      "{'n_estimators': 10, 'max_features': 'sqrt', 'min_samples_leaf': 800, 'max_depth': 7}\n",
      "Index(['at_turnq', 'cash_debtq', 'fqtr_4', 'apq', 'npmq', 'dlcchy',\n",
      "       'pe_op_dilq', 'ibadj12', 'gpmq', 'aftret_invcapxq'],\n",
      "      dtype='object')\n",
      "19.730097000000026\n",
      "35\n",
      "{'n_estimators': 20, 'max_features': 'log2', 'min_samples_leaf': 2400, 'max_depth': 8}\n",
      "Index(['oancfy', 'sale_equityq', 'quick_ratioq', 'gpmq', 'psq', 'dpcy',\n",
      "       'pretret_noaq', 'intcovq', 'bmq', 'icaptq', 'fcf_csfhdq', 'dlcq', 'atq',\n",
      "       'xinty', 'cash_debtq', 'fqtr_4', 'cfo-per-share', 'dltt_beq', 'at5',\n",
      "       'equity_invcapq', 'debt_invcapq', 'ibcomq', 'profit_lctq', 'lagbe4',\n",
      "       'book_value_per_share', 'ibadj12', 'txpq', 'book_value_yield', 'opmbdq',\n",
      "       'pe_incq', 'cstkq', 'cogsq', 'debt_assetsq', 'int_debtq', 'cshoq',\n",
      "       'seq4'],\n",
      "      dtype='object')\n",
      "157.68136500000003\n",
      "36\n",
      "{'n_estimators': 30, 'max_features': 'sqrt', 'min_samples_leaf': 800, 'max_depth': 12}\n"
     ]
    },
    {
     "ename": "KeyboardInterrupt",
     "evalue": "",
     "output_type": "error",
     "traceback": [
      "\u001b[1;31m---------------------------------------------------------------------------\u001b[0m",
      "\u001b[1;31mKeyboardInterrupt\u001b[0m                         Traceback (most recent call last)",
      "File \u001b[1;32m<timed exec>:37\u001b[0m, in \u001b[0;36m<module>\u001b[1;34m\u001b[0m\n",
      "Input \u001b[1;32mIn [37]\u001b[0m, in \u001b[0;36mrandomforest_profit_importance\u001b[1;34m(m, df, rets)\u001b[0m\n\u001b[0;32m      1\u001b[0m \u001b[38;5;28;01mdef\u001b[39;00m \u001b[38;5;21mrandomforest_profit_importance\u001b[39m(m, df,rets):\n\u001b[1;32m----> 2\u001b[0m     \u001b[38;5;28;01mreturn\u001b[39;00m pd\u001b[38;5;241m.\u001b[39mDataFrame({\u001b[38;5;124m'\u001b[39m\u001b[38;5;124mcols\u001b[39m\u001b[38;5;124m'\u001b[39m:df\u001b[38;5;241m.\u001b[39mcolumns, \u001b[38;5;124m'\u001b[39m\u001b[38;5;124mpi_imp\u001b[39m\u001b[38;5;124m'\u001b[39m:\u001b[43mprofit_importance\u001b[49m\u001b[43m(\u001b[49m\u001b[43mm\u001b[49m\u001b[43m,\u001b[49m\u001b[43mdf\u001b[49m\u001b[43m,\u001b[49m\u001b[43mrets\u001b[49m\u001b[43m)\u001b[49m}\n\u001b[0;32m      3\u001b[0m                        )\u001b[38;5;241m.\u001b[39msort_values(\u001b[38;5;124m'\u001b[39m\u001b[38;5;124mpi_imp\u001b[39m\u001b[38;5;124m'\u001b[39m, ascending\u001b[38;5;241m=\u001b[39m\u001b[38;5;28;01mTrue\u001b[39;00m)\n",
      "Input \u001b[1;32mIn [36]\u001b[0m, in \u001b[0;36mprofit_importance\u001b[1;34m(m, df, rets)\u001b[0m\n\u001b[0;32m      7\u001b[0m     X \u001b[38;5;241m=\u001b[39m df\u001b[38;5;241m.\u001b[39mcopy()\n\u001b[0;32m      8\u001b[0m     X[col] \u001b[38;5;241m=\u001b[39m np\u001b[38;5;241m.\u001b[39mrandom\u001b[38;5;241m.\u001b[39mpermutation(df[col]\u001b[38;5;241m.\u001b[39mvalues)\n\u001b[1;32m----> 9\u001b[0m     prediction \u001b[38;5;241m=\u001b[39m \u001b[43mm\u001b[49m\u001b[38;5;241;43m.\u001b[39;49m\u001b[43mpredict\u001b[49m\u001b[43m(\u001b[49m\u001b[43mX\u001b[49m\u001b[43m)\u001b[49m\n\u001b[0;32m     10\u001b[0m     prof\u001b[38;5;241m.\u001b[39mappend((prediction \u001b[38;5;241m*\u001b[39m rets)\u001b[38;5;241m.\u001b[39msum())\n\u001b[0;32m     11\u001b[0m profit\u001b[38;5;241m.\u001b[39mappend(np\u001b[38;5;241m.\u001b[39mmean(prof))\n",
      "File \u001b[1;32m~\\anaconda3\\envs\\ai\\lib\\site-packages\\sklearn\\ensemble\\_forest.py:832\u001b[0m, in \u001b[0;36mForestClassifier.predict\u001b[1;34m(self, X)\u001b[0m\n\u001b[0;32m    811\u001b[0m \u001b[38;5;28;01mdef\u001b[39;00m \u001b[38;5;21mpredict\u001b[39m(\u001b[38;5;28mself\u001b[39m, X):\n\u001b[0;32m    812\u001b[0m     \u001b[38;5;124;03m\"\"\"\u001b[39;00m\n\u001b[0;32m    813\u001b[0m \u001b[38;5;124;03m    Predict class for X.\u001b[39;00m\n\u001b[0;32m    814\u001b[0m \n\u001b[1;32m   (...)\u001b[0m\n\u001b[0;32m    830\u001b[0m \u001b[38;5;124;03m        The predicted classes.\u001b[39;00m\n\u001b[0;32m    831\u001b[0m \u001b[38;5;124;03m    \"\"\"\u001b[39;00m\n\u001b[1;32m--> 832\u001b[0m     proba \u001b[38;5;241m=\u001b[39m \u001b[38;5;28;43mself\u001b[39;49m\u001b[38;5;241;43m.\u001b[39;49m\u001b[43mpredict_proba\u001b[49m\u001b[43m(\u001b[49m\u001b[43mX\u001b[49m\u001b[43m)\u001b[49m\n\u001b[0;32m    834\u001b[0m     \u001b[38;5;28;01mif\u001b[39;00m \u001b[38;5;28mself\u001b[39m\u001b[38;5;241m.\u001b[39mn_outputs_ \u001b[38;5;241m==\u001b[39m \u001b[38;5;241m1\u001b[39m:\n\u001b[0;32m    835\u001b[0m         \u001b[38;5;28;01mreturn\u001b[39;00m \u001b[38;5;28mself\u001b[39m\u001b[38;5;241m.\u001b[39mclasses_\u001b[38;5;241m.\u001b[39mtake(np\u001b[38;5;241m.\u001b[39margmax(proba, axis\u001b[38;5;241m=\u001b[39m\u001b[38;5;241m1\u001b[39m), axis\u001b[38;5;241m=\u001b[39m\u001b[38;5;241m0\u001b[39m)\n",
      "File \u001b[1;32m~\\anaconda3\\envs\\ai\\lib\\site-packages\\sklearn\\ensemble\\_forest.py:885\u001b[0m, in \u001b[0;36mForestClassifier.predict_proba\u001b[1;34m(self, X)\u001b[0m\n\u001b[0;32m    880\u001b[0m all_proba \u001b[38;5;241m=\u001b[39m [\n\u001b[0;32m    881\u001b[0m     np\u001b[38;5;241m.\u001b[39mzeros((X\u001b[38;5;241m.\u001b[39mshape[\u001b[38;5;241m0\u001b[39m], j), dtype\u001b[38;5;241m=\u001b[39mnp\u001b[38;5;241m.\u001b[39mfloat64)\n\u001b[0;32m    882\u001b[0m     \u001b[38;5;28;01mfor\u001b[39;00m j \u001b[38;5;129;01min\u001b[39;00m np\u001b[38;5;241m.\u001b[39matleast_1d(\u001b[38;5;28mself\u001b[39m\u001b[38;5;241m.\u001b[39mn_classes_)\n\u001b[0;32m    883\u001b[0m ]\n\u001b[0;32m    884\u001b[0m lock \u001b[38;5;241m=\u001b[39m threading\u001b[38;5;241m.\u001b[39mLock()\n\u001b[1;32m--> 885\u001b[0m \u001b[43mParallel\u001b[49m\u001b[43m(\u001b[49m\u001b[43mn_jobs\u001b[49m\u001b[38;5;241;43m=\u001b[39;49m\u001b[43mn_jobs\u001b[49m\u001b[43m,\u001b[49m\u001b[43m \u001b[49m\u001b[43mverbose\u001b[49m\u001b[38;5;241;43m=\u001b[39;49m\u001b[38;5;28;43mself\u001b[39;49m\u001b[38;5;241;43m.\u001b[39;49m\u001b[43mverbose\u001b[49m\u001b[43m,\u001b[49m\u001b[43m \u001b[49m\u001b[43mrequire\u001b[49m\u001b[38;5;241;43m=\u001b[39;49m\u001b[38;5;124;43m\"\u001b[39;49m\u001b[38;5;124;43msharedmem\u001b[39;49m\u001b[38;5;124;43m\"\u001b[39;49m\u001b[43m)\u001b[49m\u001b[43m(\u001b[49m\n\u001b[0;32m    886\u001b[0m \u001b[43m    \u001b[49m\u001b[43mdelayed\u001b[49m\u001b[43m(\u001b[49m\u001b[43m_accumulate_prediction\u001b[49m\u001b[43m)\u001b[49m\u001b[43m(\u001b[49m\u001b[43me\u001b[49m\u001b[38;5;241;43m.\u001b[39;49m\u001b[43mpredict_proba\u001b[49m\u001b[43m,\u001b[49m\u001b[43m \u001b[49m\u001b[43mX\u001b[49m\u001b[43m,\u001b[49m\u001b[43m \u001b[49m\u001b[43mall_proba\u001b[49m\u001b[43m,\u001b[49m\u001b[43m \u001b[49m\u001b[43mlock\u001b[49m\u001b[43m)\u001b[49m\n\u001b[0;32m    887\u001b[0m \u001b[43m    \u001b[49m\u001b[38;5;28;43;01mfor\u001b[39;49;00m\u001b[43m \u001b[49m\u001b[43me\u001b[49m\u001b[43m \u001b[49m\u001b[38;5;129;43;01min\u001b[39;49;00m\u001b[43m \u001b[49m\u001b[38;5;28;43mself\u001b[39;49m\u001b[38;5;241;43m.\u001b[39;49m\u001b[43mestimators_\u001b[49m\n\u001b[0;32m    888\u001b[0m \u001b[43m\u001b[49m\u001b[43m)\u001b[49m\n\u001b[0;32m    890\u001b[0m \u001b[38;5;28;01mfor\u001b[39;00m proba \u001b[38;5;129;01min\u001b[39;00m all_proba:\n\u001b[0;32m    891\u001b[0m     proba \u001b[38;5;241m/\u001b[39m\u001b[38;5;241m=\u001b[39m \u001b[38;5;28mlen\u001b[39m(\u001b[38;5;28mself\u001b[39m\u001b[38;5;241m.\u001b[39mestimators_)\n",
      "File \u001b[1;32m~\\anaconda3\\envs\\ai\\lib\\site-packages\\joblib\\parallel.py:1043\u001b[0m, in \u001b[0;36mParallel.__call__\u001b[1;34m(self, iterable)\u001b[0m\n\u001b[0;32m   1034\u001b[0m \u001b[38;5;28;01mtry\u001b[39;00m:\n\u001b[0;32m   1035\u001b[0m     \u001b[38;5;66;03m# Only set self._iterating to True if at least a batch\u001b[39;00m\n\u001b[0;32m   1036\u001b[0m     \u001b[38;5;66;03m# was dispatched. In particular this covers the edge\u001b[39;00m\n\u001b[1;32m   (...)\u001b[0m\n\u001b[0;32m   1040\u001b[0m     \u001b[38;5;66;03m# was very quick and its callback already dispatched all the\u001b[39;00m\n\u001b[0;32m   1041\u001b[0m     \u001b[38;5;66;03m# remaining jobs.\u001b[39;00m\n\u001b[0;32m   1042\u001b[0m     \u001b[38;5;28mself\u001b[39m\u001b[38;5;241m.\u001b[39m_iterating \u001b[38;5;241m=\u001b[39m \u001b[38;5;28;01mFalse\u001b[39;00m\n\u001b[1;32m-> 1043\u001b[0m     \u001b[38;5;28;01mif\u001b[39;00m \u001b[38;5;28;43mself\u001b[39;49m\u001b[38;5;241;43m.\u001b[39;49m\u001b[43mdispatch_one_batch\u001b[49m\u001b[43m(\u001b[49m\u001b[43miterator\u001b[49m\u001b[43m)\u001b[49m:\n\u001b[0;32m   1044\u001b[0m         \u001b[38;5;28mself\u001b[39m\u001b[38;5;241m.\u001b[39m_iterating \u001b[38;5;241m=\u001b[39m \u001b[38;5;28mself\u001b[39m\u001b[38;5;241m.\u001b[39m_original_iterator \u001b[38;5;129;01mis\u001b[39;00m \u001b[38;5;129;01mnot\u001b[39;00m \u001b[38;5;28;01mNone\u001b[39;00m\n\u001b[0;32m   1046\u001b[0m     \u001b[38;5;28;01mwhile\u001b[39;00m \u001b[38;5;28mself\u001b[39m\u001b[38;5;241m.\u001b[39mdispatch_one_batch(iterator):\n",
      "File \u001b[1;32m~\\anaconda3\\envs\\ai\\lib\\site-packages\\joblib\\parallel.py:861\u001b[0m, in \u001b[0;36mParallel.dispatch_one_batch\u001b[1;34m(self, iterator)\u001b[0m\n\u001b[0;32m    859\u001b[0m     \u001b[38;5;28;01mreturn\u001b[39;00m \u001b[38;5;28;01mFalse\u001b[39;00m\n\u001b[0;32m    860\u001b[0m \u001b[38;5;28;01melse\u001b[39;00m:\n\u001b[1;32m--> 861\u001b[0m     \u001b[38;5;28;43mself\u001b[39;49m\u001b[38;5;241;43m.\u001b[39;49m\u001b[43m_dispatch\u001b[49m\u001b[43m(\u001b[49m\u001b[43mtasks\u001b[49m\u001b[43m)\u001b[49m\n\u001b[0;32m    862\u001b[0m     \u001b[38;5;28;01mreturn\u001b[39;00m \u001b[38;5;28;01mTrue\u001b[39;00m\n",
      "File \u001b[1;32m~\\anaconda3\\envs\\ai\\lib\\site-packages\\joblib\\parallel.py:779\u001b[0m, in \u001b[0;36mParallel._dispatch\u001b[1;34m(self, batch)\u001b[0m\n\u001b[0;32m    777\u001b[0m \u001b[38;5;28;01mwith\u001b[39;00m \u001b[38;5;28mself\u001b[39m\u001b[38;5;241m.\u001b[39m_lock:\n\u001b[0;32m    778\u001b[0m     job_idx \u001b[38;5;241m=\u001b[39m \u001b[38;5;28mlen\u001b[39m(\u001b[38;5;28mself\u001b[39m\u001b[38;5;241m.\u001b[39m_jobs)\n\u001b[1;32m--> 779\u001b[0m     job \u001b[38;5;241m=\u001b[39m \u001b[38;5;28;43mself\u001b[39;49m\u001b[38;5;241;43m.\u001b[39;49m\u001b[43m_backend\u001b[49m\u001b[38;5;241;43m.\u001b[39;49m\u001b[43mapply_async\u001b[49m\u001b[43m(\u001b[49m\u001b[43mbatch\u001b[49m\u001b[43m,\u001b[49m\u001b[43m \u001b[49m\u001b[43mcallback\u001b[49m\u001b[38;5;241;43m=\u001b[39;49m\u001b[43mcb\u001b[49m\u001b[43m)\u001b[49m\n\u001b[0;32m    780\u001b[0m     \u001b[38;5;66;03m# A job can complete so quickly than its callback is\u001b[39;00m\n\u001b[0;32m    781\u001b[0m     \u001b[38;5;66;03m# called before we get here, causing self._jobs to\u001b[39;00m\n\u001b[0;32m    782\u001b[0m     \u001b[38;5;66;03m# grow. To ensure correct results ordering, .insert is\u001b[39;00m\n\u001b[0;32m    783\u001b[0m     \u001b[38;5;66;03m# used (rather than .append) in the following line\u001b[39;00m\n\u001b[0;32m    784\u001b[0m     \u001b[38;5;28mself\u001b[39m\u001b[38;5;241m.\u001b[39m_jobs\u001b[38;5;241m.\u001b[39minsert(job_idx, job)\n",
      "File \u001b[1;32m~\\anaconda3\\envs\\ai\\lib\\site-packages\\joblib\\_parallel_backends.py:208\u001b[0m, in \u001b[0;36mSequentialBackend.apply_async\u001b[1;34m(self, func, callback)\u001b[0m\n\u001b[0;32m    206\u001b[0m \u001b[38;5;28;01mdef\u001b[39;00m \u001b[38;5;21mapply_async\u001b[39m(\u001b[38;5;28mself\u001b[39m, func, callback\u001b[38;5;241m=\u001b[39m\u001b[38;5;28;01mNone\u001b[39;00m):\n\u001b[0;32m    207\u001b[0m     \u001b[38;5;124;03m\"\"\"Schedule a func to be run\"\"\"\u001b[39;00m\n\u001b[1;32m--> 208\u001b[0m     result \u001b[38;5;241m=\u001b[39m \u001b[43mImmediateResult\u001b[49m\u001b[43m(\u001b[49m\u001b[43mfunc\u001b[49m\u001b[43m)\u001b[49m\n\u001b[0;32m    209\u001b[0m     \u001b[38;5;28;01mif\u001b[39;00m callback:\n\u001b[0;32m    210\u001b[0m         callback(result)\n",
      "File \u001b[1;32m~\\anaconda3\\envs\\ai\\lib\\site-packages\\joblib\\_parallel_backends.py:572\u001b[0m, in \u001b[0;36mImmediateResult.__init__\u001b[1;34m(self, batch)\u001b[0m\n\u001b[0;32m    569\u001b[0m \u001b[38;5;28;01mdef\u001b[39;00m \u001b[38;5;21m__init__\u001b[39m(\u001b[38;5;28mself\u001b[39m, batch):\n\u001b[0;32m    570\u001b[0m     \u001b[38;5;66;03m# Don't delay the application, to avoid keeping the input\u001b[39;00m\n\u001b[0;32m    571\u001b[0m     \u001b[38;5;66;03m# arguments in memory\u001b[39;00m\n\u001b[1;32m--> 572\u001b[0m     \u001b[38;5;28mself\u001b[39m\u001b[38;5;241m.\u001b[39mresults \u001b[38;5;241m=\u001b[39m \u001b[43mbatch\u001b[49m\u001b[43m(\u001b[49m\u001b[43m)\u001b[49m\n",
      "File \u001b[1;32m~\\anaconda3\\envs\\ai\\lib\\site-packages\\joblib\\parallel.py:262\u001b[0m, in \u001b[0;36mBatchedCalls.__call__\u001b[1;34m(self)\u001b[0m\n\u001b[0;32m    258\u001b[0m \u001b[38;5;28;01mdef\u001b[39;00m \u001b[38;5;21m__call__\u001b[39m(\u001b[38;5;28mself\u001b[39m):\n\u001b[0;32m    259\u001b[0m     \u001b[38;5;66;03m# Set the default nested backend to self._backend but do not set the\u001b[39;00m\n\u001b[0;32m    260\u001b[0m     \u001b[38;5;66;03m# change the default number of processes to -1\u001b[39;00m\n\u001b[0;32m    261\u001b[0m     \u001b[38;5;28;01mwith\u001b[39;00m parallel_backend(\u001b[38;5;28mself\u001b[39m\u001b[38;5;241m.\u001b[39m_backend, n_jobs\u001b[38;5;241m=\u001b[39m\u001b[38;5;28mself\u001b[39m\u001b[38;5;241m.\u001b[39m_n_jobs):\n\u001b[1;32m--> 262\u001b[0m         \u001b[38;5;28;01mreturn\u001b[39;00m [func(\u001b[38;5;241m*\u001b[39margs, \u001b[38;5;241m*\u001b[39m\u001b[38;5;241m*\u001b[39mkwargs)\n\u001b[0;32m    263\u001b[0m                 \u001b[38;5;28;01mfor\u001b[39;00m func, args, kwargs \u001b[38;5;129;01min\u001b[39;00m \u001b[38;5;28mself\u001b[39m\u001b[38;5;241m.\u001b[39mitems]\n",
      "File \u001b[1;32m~\\anaconda3\\envs\\ai\\lib\\site-packages\\joblib\\parallel.py:262\u001b[0m, in \u001b[0;36m<listcomp>\u001b[1;34m(.0)\u001b[0m\n\u001b[0;32m    258\u001b[0m \u001b[38;5;28;01mdef\u001b[39;00m \u001b[38;5;21m__call__\u001b[39m(\u001b[38;5;28mself\u001b[39m):\n\u001b[0;32m    259\u001b[0m     \u001b[38;5;66;03m# Set the default nested backend to self._backend but do not set the\u001b[39;00m\n\u001b[0;32m    260\u001b[0m     \u001b[38;5;66;03m# change the default number of processes to -1\u001b[39;00m\n\u001b[0;32m    261\u001b[0m     \u001b[38;5;28;01mwith\u001b[39;00m parallel_backend(\u001b[38;5;28mself\u001b[39m\u001b[38;5;241m.\u001b[39m_backend, n_jobs\u001b[38;5;241m=\u001b[39m\u001b[38;5;28mself\u001b[39m\u001b[38;5;241m.\u001b[39m_n_jobs):\n\u001b[1;32m--> 262\u001b[0m         \u001b[38;5;28;01mreturn\u001b[39;00m [func(\u001b[38;5;241m*\u001b[39margs, \u001b[38;5;241m*\u001b[39m\u001b[38;5;241m*\u001b[39mkwargs)\n\u001b[0;32m    263\u001b[0m                 \u001b[38;5;28;01mfor\u001b[39;00m func, args, kwargs \u001b[38;5;129;01min\u001b[39;00m \u001b[38;5;28mself\u001b[39m\u001b[38;5;241m.\u001b[39mitems]\n",
      "File \u001b[1;32m~\\anaconda3\\envs\\ai\\lib\\site-packages\\sklearn\\utils\\fixes.py:117\u001b[0m, in \u001b[0;36m_FuncWrapper.__call__\u001b[1;34m(self, *args, **kwargs)\u001b[0m\n\u001b[0;32m    115\u001b[0m \u001b[38;5;28;01mdef\u001b[39;00m \u001b[38;5;21m__call__\u001b[39m(\u001b[38;5;28mself\u001b[39m, \u001b[38;5;241m*\u001b[39margs, \u001b[38;5;241m*\u001b[39m\u001b[38;5;241m*\u001b[39mkwargs):\n\u001b[0;32m    116\u001b[0m     \u001b[38;5;28;01mwith\u001b[39;00m config_context(\u001b[38;5;241m*\u001b[39m\u001b[38;5;241m*\u001b[39m\u001b[38;5;28mself\u001b[39m\u001b[38;5;241m.\u001b[39mconfig):\n\u001b[1;32m--> 117\u001b[0m         \u001b[38;5;28;01mreturn\u001b[39;00m \u001b[38;5;28mself\u001b[39m\u001b[38;5;241m.\u001b[39mfunction(\u001b[38;5;241m*\u001b[39margs, \u001b[38;5;241m*\u001b[39m\u001b[38;5;241m*\u001b[39mkwargs)\n",
      "File \u001b[1;32m~\\anaconda3\\envs\\ai\\lib\\site-packages\\sklearn\\ensemble\\_forest.py:664\u001b[0m, in \u001b[0;36m_accumulate_prediction\u001b[1;34m(predict, X, out, lock)\u001b[0m\n\u001b[0;32m    657\u001b[0m \u001b[38;5;28;01mdef\u001b[39;00m \u001b[38;5;21m_accumulate_prediction\u001b[39m(predict, X, out, lock):\n\u001b[0;32m    658\u001b[0m     \u001b[38;5;124;03m\"\"\"\u001b[39;00m\n\u001b[0;32m    659\u001b[0m \u001b[38;5;124;03m    This is a utility function for joblib's Parallel.\u001b[39;00m\n\u001b[0;32m    660\u001b[0m \n\u001b[0;32m    661\u001b[0m \u001b[38;5;124;03m    It can't go locally in ForestClassifier or ForestRegressor, because joblib\u001b[39;00m\n\u001b[0;32m    662\u001b[0m \u001b[38;5;124;03m    complains that it cannot pickle it when placed there.\u001b[39;00m\n\u001b[0;32m    663\u001b[0m \u001b[38;5;124;03m    \"\"\"\u001b[39;00m\n\u001b[1;32m--> 664\u001b[0m     prediction \u001b[38;5;241m=\u001b[39m \u001b[43mpredict\u001b[49m\u001b[43m(\u001b[49m\u001b[43mX\u001b[49m\u001b[43m,\u001b[49m\u001b[43m \u001b[49m\u001b[43mcheck_input\u001b[49m\u001b[38;5;241;43m=\u001b[39;49m\u001b[38;5;28;43;01mFalse\u001b[39;49;00m\u001b[43m)\u001b[49m\n\u001b[0;32m    665\u001b[0m     \u001b[38;5;28;01mwith\u001b[39;00m lock:\n\u001b[0;32m    666\u001b[0m         \u001b[38;5;28;01mif\u001b[39;00m \u001b[38;5;28mlen\u001b[39m(out) \u001b[38;5;241m==\u001b[39m \u001b[38;5;241m1\u001b[39m:\n",
      "File \u001b[1;32m~\\anaconda3\\envs\\ai\\lib\\site-packages\\sklearn\\tree\\_classes.py:1003\u001b[0m, in \u001b[0;36mDecisionTreeClassifier.predict_proba\u001b[1;34m(self, X, check_input)\u001b[0m\n\u001b[0;32m   1001\u001b[0m check_is_fitted(\u001b[38;5;28mself\u001b[39m)\n\u001b[0;32m   1002\u001b[0m X \u001b[38;5;241m=\u001b[39m \u001b[38;5;28mself\u001b[39m\u001b[38;5;241m.\u001b[39m_validate_X_predict(X, check_input)\n\u001b[1;32m-> 1003\u001b[0m proba \u001b[38;5;241m=\u001b[39m \u001b[38;5;28;43mself\u001b[39;49m\u001b[38;5;241;43m.\u001b[39;49m\u001b[43mtree_\u001b[49m\u001b[38;5;241;43m.\u001b[39;49m\u001b[43mpredict\u001b[49m\u001b[43m(\u001b[49m\u001b[43mX\u001b[49m\u001b[43m)\u001b[49m\n\u001b[0;32m   1005\u001b[0m \u001b[38;5;28;01mif\u001b[39;00m \u001b[38;5;28mself\u001b[39m\u001b[38;5;241m.\u001b[39mn_outputs_ \u001b[38;5;241m==\u001b[39m \u001b[38;5;241m1\u001b[39m:\n\u001b[0;32m   1006\u001b[0m     proba \u001b[38;5;241m=\u001b[39m proba[:, : \u001b[38;5;28mself\u001b[39m\u001b[38;5;241m.\u001b[39mn_classes_]\n",
      "\u001b[1;31mKeyboardInterrupt\u001b[0m: "
     ]
    }
   ],
   "source": [
    "%%time\n",
    "optimal_features = []\n",
    "classifiers = []\n",
    "\n",
    "for i in range(len(training_data)):\n",
    "    print(i)\n",
    "    \n",
    "    study = optuna.create_study(direction=\"maximize\")\n",
    "    study.optimize(partial(objective,train=training_data[i],\n",
    "                           labels=training_labels[i],\n",
    "                           val=validation_data[i],\n",
    "                           val_labels=validation_labels[i],\n",
    "                           val_rets = validation_frames[i]['next_period_return']),\n",
    "                           n_trials=100,n_jobs=-1)\n",
    "    params = study.best_params\n",
    "    \n",
    "    print(params)\n",
    "    \n",
    "    rf_clf = RandomForestClassifier(**params)\n",
    "\n",
    "    classifiers.append(rf_clf)\n",
    "    \n",
    "    rf_clf.fit(training_data[i],training_labels[i])\n",
    "    fi = randomforest_feat_importances(rf_clf,training_data[i])\n",
    "    features = fi[fi['feat_imp'] > 0.005]\n",
    "    \n",
    "    train = training_data[i][features['cols'].values].copy()\n",
    "    validation = validation_data[i][features['cols'].values].copy()\n",
    "    \n",
    "    \n",
    "    profits = []\n",
    "    feat=[]\n",
    "    \n",
    "    rf_clf.fit(train,training_labels[i])\n",
    "    \n",
    "    while len(train.columns)>1:\n",
    "        \n",
    "        pi = randomforest_profit_importance(rf_clf,validation,validation_frames[i]['next_period_return'])\n",
    "\n",
    "        col_to_drop = pi.iloc[-1]['cols']\n",
    "        train.drop(col_to_drop,axis=1,inplace=True)\n",
    "        validation.drop(col_to_drop,axis=1,inplace=True)\n",
    "        \n",
    "        rf_clf.fit(train,training_labels[i])\n",
    "        pred_valid = rf_clf.predict(validation)\n",
    "        profits.append((pred_valid * validation_frames[i]['next_period_return']).sum())\n",
    "        feat.append(train.columns)\n",
    "        \n",
    "    n = np.argmax(profits)\n",
    "\n",
    "    max_profits = profits[n]\n",
    "\n",
    "    optim_feats = feat[n]\n",
    "    \n",
    "    print(optim_feats)\n",
    "    print(max_profits)\n",
    "\n",
    "    optimal_features.append(optim_feats)"
   ]
  },
  {
   "cell_type": "code",
   "execution_count": 42,
   "metadata": {},
   "outputs": [],
   "source": [
    "with open('opt_feat_11.pkl','rb') as f:\n",
    "    optimal_features = pickle.load(f)"
   ]
  },
  {
   "cell_type": "code",
   "execution_count": 43,
   "metadata": {},
   "outputs": [],
   "source": [
    "with open('classifiers_11.pkl','rb') as f:\n",
    "    classifiers = pickle.load(f)"
   ]
  },
  {
   "cell_type": "code",
   "execution_count": 45,
   "metadata": {},
   "outputs": [],
   "source": [
    "P_L = []\n",
    "x = [1]\n",
    "ret = []\n",
    "\n",
    "for i in range(len(optimal_features)-1):\n",
    "\n",
    "        classifiers[i-1].fit(training_data[i][optimal_features[i-1]],training_labels[i])\n",
    "        pred_i = classifiers[i-1].predict(test_data[i][optimal_features[i-1]])\n",
    "        \n",
    "        profit_i = (pred_i * test_frames[i]['next_period_return']).sum()\n",
    "        P_L.append(profit_i)\n",
    "        positions = np.sum(np.abs(pred_i))\n",
    "        \n",
    "        ret.append((1.0/positions) * profit_i)\n",
    "        x.append(x[i] + (x[i]/positions) * profit_i)"
   ]
  },
  {
   "cell_type": "code",
   "execution_count": 46,
   "metadata": {},
   "outputs": [
    {
     "data": {
      "image/png": "[encoded data removed]",
      "text/plain": [
       "<Figure size 432x288 with 1 Axes>"
      ]
     },
     "metadata": {
      "needs_background": "light"
     },
     "output_type": "display_data"
    }
   ],
   "source": [
    "plt.plot(x);"
   ]
  },
  {
   "cell_type": "code",
   "execution_count": 47,
   "metadata": {},
   "outputs": [],
   "source": [
    "SPY = pd.read_pickle(r'C:\\Users\\niels\\OneDrive\\Machine Learning 2022\\Lecture 2\\SPY_cum_ret.pkl')\n",
    "SPY = SPY.loc['2003-07-01':]\n",
    "SPY = SPY.resample('Q').ffill()\n",
    "SPY['spy_cum_ret'] = (SPY['spy_cum_ret'] - SPY['spy_cum_ret'][0] + 1)\n",
    "SPY['strategy'] = x"
   ]
  },
  {
   "cell_type": "code",
   "execution_count": 48,
   "metadata": {},
   "outputs": [
    {
     "data": {
      "image/png": "[encoded data removed]",
      "text/plain": [
       "<Figure size 432x288 with 1 Axes>"
      ]
     },
     "metadata": {
      "needs_background": "light"
     },
     "output_type": "display_data"
    }
   ],
   "source": [
    "SPY.plot();"
   ]
  },
  {
   "cell_type": "code",
   "execution_count": null,
   "metadata": {},
   "outputs": [],
   "source": [
    "SPY.tail()"
   ]
  },
  {
   "cell_type": "code",
   "execution_count": 49,
   "metadata": {},
   "outputs": [],
   "source": [
    "SPY = SPY.resample('A').bfill()"
   ]
  },
  {
   "cell_type": "code",
   "execution_count": 50,
   "metadata": {},
   "outputs": [
    {
     "data": {
      "image/png": "[encoded data removed]",
      "text/plain": [
       "<Figure size 432x288 with 1 Axes>"
      ]
     },
     "metadata": {
      "needs_background": "light"
     },
     "output_type": "display_data"
    }
   ],
   "source": [
    "SPY.plot();"
   ]
  },
  {
   "cell_type": "code",
   "execution_count": 51,
   "metadata": {},
   "outputs": [
    {
     "name": "stdout",
     "output_type": "stream",
     "text": [
      "Strategy Sharpe Ratio:  0.9144699316297671\n"
     ]
    }
   ],
   "source": [
    "strategy_mean_ret = (SPY['strategy'] - 1).diff().mean()\n",
    "strategy_std = (SPY['strategy'] - 1).diff().std()\n",
    "strategy_sr = strategy_mean_ret/strategy_std\n",
    "print('Strategy Sharpe Ratio: ',strategy_sr)"
   ]
  },
  {
   "cell_type": "code",
   "execution_count": 52,
   "metadata": {},
   "outputs": [
    {
     "name": "stdout",
     "output_type": "stream",
     "text": [
      "SP Sharpe Ratio:  0.5846194645603066\n"
     ]
    }
   ],
   "source": [
    "(SPY['spy_cum_ret'] - 1).diff().mean()\n",
    "(SPY['spy_cum_ret'] - 1).diff().std()\n",
    "print('SP Sharpe Ratio: ',(SPY['spy_cum_ret'] - 1).diff().mean()/(SPY['spy_cum_ret'] - 1).diff().std())"
   ]
  },
  {
   "cell_type": "code",
   "execution_count": 53,
   "metadata": {},
   "outputs": [
    {
     "name": "stdout",
     "output_type": "stream",
     "text": [
      "Average annual return:  0.11967031942918016\n",
      "SPY average annual return:  0.062242328832750715\n"
     ]
    }
   ],
   "source": [
    "avr = np.exp(np.log(x[-1])/15.) - 1\n",
    "print('Average annual return: ',avr)\n",
    "sp_avr = np.exp(np.log(SPY['spy_cum_ret'][-1])/15) - 1\n",
    "print('SPY average annual return: ', sp_avr)"
   ]
  },
  {
   "cell_type": "code",
   "execution_count": 54,
   "metadata": {},
   "outputs": [
    {
     "name": "stdout",
     "output_type": "stream",
     "text": [
      "beta:  1.9522019947736728\n",
      "Information Ratio:  0.8080517264594937\n"
     ]
    }
   ],
   "source": [
    "strategy_ret = (SPY['strategy'] - 1).diff().values[1:]\n",
    "spy_ret = (SPY['spy_cum_ret'] - 1).diff().values[1:]\n",
    "beta = (np.cov(spy_ret,strategy_ret)/np.var(spy_ret))[1,0]\n",
    "print('beta: ',beta)\n",
    "residual_ret = strategy_ret - beta * spy_ret\n",
    "IR = np.mean(residual_ret)/np.std(residual_ret)\n",
    "print('Information Ratio: ',IR)"
   ]
  },
  {
   "cell_type": "code",
   "execution_count": 55,
   "metadata": {},
   "outputs": [
    {
     "name": "stdout",
     "output_type": "stream",
     "text": [
      "Strategy alpha:  0.11248307076698998\n"
     ]
    }
   ],
   "source": [
    "alpha = np.mean(residual_ret)\n",
    "print('Strategy alpha: ',alpha)"
   ]
  },
  {
   "cell_type": "code",
   "execution_count": 56,
   "metadata": {},
   "outputs": [
    {
     "data": {
      "image/png": "[encoded data removed]",
      "text/plain": [
       "<Figure size 432x288 with 1 Axes>"
      ]
     },
     "metadata": {
      "needs_background": "light"
     },
     "output_type": "display_data"
    }
   ],
   "source": [
    "starting_year='2010'\n",
    "a = SPY.loc[starting_year]['spy_cum_ret'].values\n",
    "b = SPY.loc[starting_year]['strategy'].values\n",
    "plt.plot(SPY.loc[starting_year:]['spy_cum_ret'] - a + 1);\n",
    "plt.plot(SPY.loc[starting_year:]['strategy'] - b + 1);"
   ]
  },
  {
   "cell_type": "code",
   "execution_count": 57,
   "metadata": {},
   "outputs": [],
   "source": [
    "def max_drawdown(returns):\n",
    "        local_max = [n for n in range(len(returns)-1) if ((n==0) and (returns[0] > returns[1])) or \n",
    "           ((n > 0) and  (returns[n-1]<returns[n]) and (returns[n+1]<returns[n]))] \n",
    "        \n",
    "        local_min = [n for n in range(1,len(returns)) if ((n == len(returns)-1) and (returns[-1] < returns[-2])) or\n",
    "                (returns[n-1]>returns[n]) and (returns[n+1]>returns[n])]\n",
    "        \n",
    "        def next_local_min(n):\n",
    "            if [m for m in local_min if m > n]:\n",
    "                return [m for m in local_min if m > n][0]\n",
    "            else: return None\n",
    "        \n",
    "        drawdowns = [(n,next_local_min(n)) for n in local_max]\n",
    "        drawdown_values = [returns[n] - returns[m] for (n,m) in drawdowns if m != None]\n",
    "        if drawdown_values:\n",
    "            return  np.max(drawdown_values)\n",
    "        else: return 0.0"
   ]
  },
  {
   "cell_type": "code",
   "execution_count": 58,
   "metadata": {},
   "outputs": [
    {
     "data": {
      "text/plain": [
       "0.5260198172805728"
      ]
     },
     "execution_count": 58,
     "metadata": {},
     "output_type": "execute_result"
    }
   ],
   "source": [
    "max_drawdown(SPY['strategy'])"
   ]
  },
  {
   "cell_type": "code",
   "execution_count": 59,
   "metadata": {},
   "outputs": [
    {
     "data": {
      "text/plain": [
       "0.37378500000000003"
      ]
     },
     "execution_count": 59,
     "metadata": {},
     "output_type": "execute_result"
    }
   ],
   "source": [
    "max_drawdown(SPY['spy_cum_ret'])"
   ]
  },
  {
   "cell_type": "code",
   "execution_count": null,
   "metadata": {},
   "outputs": [],
   "source": []
  }
 ],
 "metadata": {
  "kernelspec": {
   "display_name": "Python 3 (ipykernel)",
   "language": "python",
   "name": "python3"
  },
  "language_info": {
   "codemirror_mode": {
    "name": "ipython",
    "version": 3
   },
   "file_extension": ".py",
   "mimetype": "text/x-python",
   "name": "python",
   "nbconvert_exporter": "python",
   "pygments_lexer": "ipython3",
   "version": "3.11.5"
  },
  "latex_envs": {
   "LaTeX_envs_menu_present": true,
   "autoclose": false,
   "autocomplete": true,
   "bibliofile": "biblio.bib",
   "cite_by": "apalike",
   "current_citInitial": 1,
   "eqLabelWithNumbers": true,
   "eqNumInitial": 1,
   "hotkeys": {
    "equation": "Ctrl-E",
    "itemize": "Ctrl-I"
   },
   "labels_anchors": false,
   "latex_user_defs": false,
   "report_style_numbering": false,
   "user_envs_cfg": false
  }
 },
 "nbformat": 4,
 "nbformat_minor": 2
}
