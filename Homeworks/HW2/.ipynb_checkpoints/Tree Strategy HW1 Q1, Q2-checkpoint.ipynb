{
 "cells": [
  {
   "cell_type": "markdown",
   "metadata": {},
   "source": [
    "## Imports"
   ]
  },
  {
   "cell_type": "code",
   "execution_count": 1,
   "metadata": {},
   "outputs": [
    {
     "name": "stderr",
     "output_type": "stream",
     "text": [
      "/var/folders/sp/wlr6xm2979l8vx6kjh2z1dk00000gn/T/ipykernel_58828/2166773765.py:6: FutureWarning: use_inf_as_na option is deprecated and will be removed in a future version. Convert inf values to NaN before operating instead.\n",
      "  pd.set_option('use_inf_as_na', True)\n"
     ]
    }
   ],
   "source": [
    "import pandas as pd\n",
    "import numpy as np\n",
    "import matplotlib.pyplot as plt\n",
    "%matplotlib inline\n",
    "from sklearn.metrics import accuracy_score, confusion_matrix\n",
    "pd.set_option('use_inf_as_na', True)\n",
    "from collections import Counter"
   ]
  },
  {
   "cell_type": "markdown",
   "metadata": {},
   "source": [
    "## Loading the Data Set (you need to put in the file where you have stored the data)"
   ]
  },
  {
   "cell_type": "code",
   "execution_count": 2,
   "metadata": {},
   "outputs": [],
   "source": [
    "raw_data = pd.read_pickle('dataset.pkl')"
   ]
  },
  {
   "cell_type": "code",
   "execution_count": 4,
   "metadata": {},
   "outputs": [],
   "source": [
    "raw_data = raw_data.drop([x  for x in raw_data.columns if 'fqtr' in x],axis=1)"
   ]
  },
  {
   "cell_type": "markdown",
   "metadata": {},
   "source": [
    "## Restricting to Companies with Market Cap > 1 Billion"
   ]
  },
  {
   "cell_type": "code",
   "execution_count": 5,
   "metadata": {},
   "outputs": [],
   "source": [
    "data = raw_data[raw_data['market_cap'] > 1000.0]"
   ]
  },
  {
   "cell_type": "markdown",
   "metadata": {},
   "source": [
    "## The Total Number of Companies w/ Market Cap > 1 Billion that appear during our time horizon"
   ]
  },
  {
   "cell_type": "code",
   "execution_count": 6,
   "metadata": {},
   "outputs": [
    {
     "data": {
      "text/plain": [
       "4076"
      ]
     },
     "execution_count": 6,
     "metadata": {},
     "output_type": "execute_result"
    }
   ],
   "source": [
    "len(data.index.get_level_values(1).unique())"
   ]
  },
  {
   "cell_type": "markdown",
   "metadata": {},
   "source": [
    "## Filling in Missing Values"
   ]
  },
  {
   "cell_type": "code",
   "execution_count": 8,
   "metadata": {
    "scrolled": true
   },
   "outputs": [
    {
     "name": "stderr",
     "output_type": "stream",
     "text": [
      "/var/folders/sp/wlr6xm2979l8vx6kjh2z1dk00000gn/T/ipykernel_58828/970161762.py:3: FutureWarning: DataFrame.fillna with 'method' is deprecated and will raise in a future version. Use obj.ffill() or obj.bfill() instead.\n",
      "  data = data.fillna(method='ffill')\n"
     ]
    }
   ],
   "source": [
    "data = data.copy()\n",
    "data.replace([np.inf,-np.inf],np.nan,inplace=True)\n",
    "data = data.fillna(method='ffill')"
   ]
  },
  {
   "cell_type": "code",
   "execution_count": 9,
   "metadata": {},
   "outputs": [],
   "source": [
    "data = data.fillna(0)"
   ]
  },
  {
   "cell_type": "code",
   "execution_count": 10,
   "metadata": {},
   "outputs": [
    {
     "data": {
      "text/plain": [
       "date        ticker\n",
       "2000-02-09  CSCO     -0.025923\n",
       "            ROP       0.066175\n",
       "2000-02-10  CMOS      0.241345\n",
       "2000-02-11  DELL      0.306035\n",
       "2000-02-15  VAL       0.043852\n",
       "                        ...   \n",
       "2018-12-21  NKE      -0.100100\n",
       "            SAFM     -0.100100\n",
       "            SCHL     -0.100100\n",
       "            WBA      -0.100100\n",
       "2018-12-24  KMX      -0.100100\n",
       "Name: pred_rel_return, Length: 111468, dtype: float64"
      ]
     },
     "execution_count": 10,
     "metadata": {},
     "output_type": "execute_result"
    }
   ],
   "source": [
    "data['pred_rel_return']"
   ]
  },
  {
   "cell_type": "markdown",
   "metadata": {},
   "source": [
    "## HW Question 1\n",
    "Inserting a column in the dataset where entries are 1 if stock outperforms SPY in the earnings period, and -1 otherwise:"
   ]
  },
  {
   "cell_type": "code",
   "execution_count": 11,
   "metadata": {},
   "outputs": [],
   "source": [
    "# function to return appropriate values based on performance\n",
    "def f_1(x):\n",
    "    if x > 0:\n",
    "        return 1\n",
    "    else:\n",
    "        return -1"
   ]
  },
  {
   "cell_type": "code",
   "execution_count": 12,
   "metadata": {},
   "outputs": [],
   "source": [
    "# apply the function to the column of relative returns\n",
    "data = data.copy()\n",
    "data['rel_performance_1'] = data['pred_rel_return'].apply(f_1)"
   ]
  },
  {
   "cell_type": "markdown",
   "metadata": {},
   "source": [
    "This is the column of labels next to the original relative returns:"
   ]
  },
  {
   "cell_type": "code",
   "execution_count": 13,
   "metadata": {},
   "outputs": [
    {
     "data": {
      "text/html": [
       "<div>\n",
       "<style scoped>\n",
       "    .dataframe tbody tr th:only-of-type {\n",
       "        vertical-align: middle;\n",
       "    }\n",
       "\n",
       "    .dataframe tbody tr th {\n",
       "        vertical-align: top;\n",
       "    }\n",
       "\n",
       "    .dataframe thead th {\n",
       "        text-align: right;\n",
       "    }\n",
       "</style>\n",
       "<table border=\"1\" class=\"dataframe\">\n",
       "  <thead>\n",
       "    <tr style=\"text-align: right;\">\n",
       "      <th></th>\n",
       "      <th></th>\n",
       "      <th>pred_rel_return</th>\n",
       "      <th>rel_performance_1</th>\n",
       "    </tr>\n",
       "    <tr>\n",
       "      <th>date</th>\n",
       "      <th>ticker</th>\n",
       "      <th></th>\n",
       "      <th></th>\n",
       "    </tr>\n",
       "  </thead>\n",
       "  <tbody>\n",
       "    <tr>\n",
       "      <th rowspan=\"2\" valign=\"top\">2000-02-09</th>\n",
       "      <th>CSCO</th>\n",
       "      <td>-0.025923</td>\n",
       "      <td>-1</td>\n",
       "    </tr>\n",
       "    <tr>\n",
       "      <th>ROP</th>\n",
       "      <td>0.066175</td>\n",
       "      <td>1</td>\n",
       "    </tr>\n",
       "    <tr>\n",
       "      <th>2000-02-10</th>\n",
       "      <th>CMOS</th>\n",
       "      <td>0.241345</td>\n",
       "      <td>1</td>\n",
       "    </tr>\n",
       "    <tr>\n",
       "      <th>2000-02-11</th>\n",
       "      <th>DELL</th>\n",
       "      <td>0.306035</td>\n",
       "      <td>1</td>\n",
       "    </tr>\n",
       "    <tr>\n",
       "      <th>2000-02-15</th>\n",
       "      <th>VAL</th>\n",
       "      <td>0.043852</td>\n",
       "      <td>1</td>\n",
       "    </tr>\n",
       "    <tr>\n",
       "      <th>...</th>\n",
       "      <th>...</th>\n",
       "      <td>...</td>\n",
       "      <td>...</td>\n",
       "    </tr>\n",
       "    <tr>\n",
       "      <th rowspan=\"4\" valign=\"top\">2018-12-21</th>\n",
       "      <th>NKE</th>\n",
       "      <td>-0.100100</td>\n",
       "      <td>-1</td>\n",
       "    </tr>\n",
       "    <tr>\n",
       "      <th>SAFM</th>\n",
       "      <td>-0.100100</td>\n",
       "      <td>-1</td>\n",
       "    </tr>\n",
       "    <tr>\n",
       "      <th>SCHL</th>\n",
       "      <td>-0.100100</td>\n",
       "      <td>-1</td>\n",
       "    </tr>\n",
       "    <tr>\n",
       "      <th>WBA</th>\n",
       "      <td>-0.100100</td>\n",
       "      <td>-1</td>\n",
       "    </tr>\n",
       "    <tr>\n",
       "      <th>2018-12-24</th>\n",
       "      <th>KMX</th>\n",
       "      <td>-0.100100</td>\n",
       "      <td>-1</td>\n",
       "    </tr>\n",
       "  </tbody>\n",
       "</table>\n",
       "<p>111468 rows × 2 columns</p>\n",
       "</div>"
      ],
      "text/plain": [
       "                   pred_rel_return  rel_performance_1\n",
       "date       ticker                                    \n",
       "2000-02-09 CSCO          -0.025923                 -1\n",
       "           ROP            0.066175                  1\n",
       "2000-02-10 CMOS           0.241345                  1\n",
       "2000-02-11 DELL           0.306035                  1\n",
       "2000-02-15 VAL            0.043852                  1\n",
       "...                            ...                ...\n",
       "2018-12-21 NKE           -0.100100                 -1\n",
       "           SAFM          -0.100100                 -1\n",
       "           SCHL          -0.100100                 -1\n",
       "           WBA           -0.100100                 -1\n",
       "2018-12-24 KMX           -0.100100                 -1\n",
       "\n",
       "[111468 rows x 2 columns]"
      ]
     },
     "execution_count": 13,
     "metadata": {},
     "output_type": "execute_result"
    }
   ],
   "source": [
    "data[['pred_rel_return', 'rel_performance_1']]"
   ]
  },
  {
   "cell_type": "markdown",
   "metadata": {},
   "source": [
    "Thus we can observe that the labels for the stocks whose relative returns are postive (i.e. indiciating it outperformed the SPY) have label 1 (e.g CMOS has label 1).  \n",
    "Otherwise if they are negative or zero, the label is -1 (e.g. NKE has label -1)."
   ]
  },
  {
   "cell_type": "markdown",
   "metadata": {},
   "source": [
    "## HW Question 2\n",
    "Inserting a column in the dataset where entries are:  \n",
    "- 2 if the stock return is more than 5% higher than the SPY return  \n",
    "- 1 if it is between 1% and 5% higher than the SPY return  \n",
    "- 0 if it is between -1% and 1% relative to the SPY return  \n",
    "- -1 if it is between -1% and -5% relative to the SPY return  "
   ]
  },
  {
   "cell_type": "code",
   "execution_count": 14,
   "metadata": {},
   "outputs": [],
   "source": [
    "# function to return appropriate values based on performance as detailed above\n",
    "def f_2(x):\n",
    "    if x > 0.05:\n",
    "        return 2\n",
    "    elif x > 0.01:\n",
    "        return 1\n",
    "    elif x > -0.01:\n",
    "        return 0\n",
    "    elif x > -0.05:\n",
    "        return -1"
   ]
  },
  {
   "cell_type": "code",
   "execution_count": 15,
   "metadata": {},
   "outputs": [],
   "source": [
    "# apply the function to the column of relative returns\n",
    "data = data.copy()\n",
    "data['rel_performance_2'] = data['pred_rel_return'].apply(f_2)"
   ]
  },
  {
   "cell_type": "markdown",
   "metadata": {},
   "source": [
    "This is the column of labels next to the original relative returns:"
   ]
  },
  {
   "cell_type": "code",
   "execution_count": 16,
   "metadata": {},
   "outputs": [
    {
     "data": {
      "text/html": [
       "<div>\n",
       "<style scoped>\n",
       "    .dataframe tbody tr th:only-of-type {\n",
       "        vertical-align: middle;\n",
       "    }\n",
       "\n",
       "    .dataframe tbody tr th {\n",
       "        vertical-align: top;\n",
       "    }\n",
       "\n",
       "    .dataframe thead th {\n",
       "        text-align: right;\n",
       "    }\n",
       "</style>\n",
       "<table border=\"1\" class=\"dataframe\">\n",
       "  <thead>\n",
       "    <tr style=\"text-align: right;\">\n",
       "      <th></th>\n",
       "      <th></th>\n",
       "      <th>pred_rel_return</th>\n",
       "      <th>rel_performance_2</th>\n",
       "    </tr>\n",
       "    <tr>\n",
       "      <th>date</th>\n",
       "      <th>ticker</th>\n",
       "      <th></th>\n",
       "      <th></th>\n",
       "    </tr>\n",
       "  </thead>\n",
       "  <tbody>\n",
       "    <tr>\n",
       "      <th rowspan=\"2\" valign=\"top\">2000-02-09</th>\n",
       "      <th>CSCO</th>\n",
       "      <td>-0.025923</td>\n",
       "      <td>-1.0</td>\n",
       "    </tr>\n",
       "    <tr>\n",
       "      <th>ROP</th>\n",
       "      <td>0.066175</td>\n",
       "      <td>2.0</td>\n",
       "    </tr>\n",
       "    <tr>\n",
       "      <th>2000-02-10</th>\n",
       "      <th>CMOS</th>\n",
       "      <td>0.241345</td>\n",
       "      <td>2.0</td>\n",
       "    </tr>\n",
       "    <tr>\n",
       "      <th>2000-02-11</th>\n",
       "      <th>DELL</th>\n",
       "      <td>0.306035</td>\n",
       "      <td>2.0</td>\n",
       "    </tr>\n",
       "    <tr>\n",
       "      <th>2000-02-15</th>\n",
       "      <th>VAL</th>\n",
       "      <td>0.043852</td>\n",
       "      <td>1.0</td>\n",
       "    </tr>\n",
       "    <tr>\n",
       "      <th>...</th>\n",
       "      <th>...</th>\n",
       "      <td>...</td>\n",
       "      <td>...</td>\n",
       "    </tr>\n",
       "    <tr>\n",
       "      <th rowspan=\"4\" valign=\"top\">2018-12-21</th>\n",
       "      <th>NKE</th>\n",
       "      <td>-0.100100</td>\n",
       "      <td>NaN</td>\n",
       "    </tr>\n",
       "    <tr>\n",
       "      <th>SAFM</th>\n",
       "      <td>-0.100100</td>\n",
       "      <td>NaN</td>\n",
       "    </tr>\n",
       "    <tr>\n",
       "      <th>SCHL</th>\n",
       "      <td>-0.100100</td>\n",
       "      <td>NaN</td>\n",
       "    </tr>\n",
       "    <tr>\n",
       "      <th>WBA</th>\n",
       "      <td>-0.100100</td>\n",
       "      <td>NaN</td>\n",
       "    </tr>\n",
       "    <tr>\n",
       "      <th>2018-12-24</th>\n",
       "      <th>KMX</th>\n",
       "      <td>-0.100100</td>\n",
       "      <td>NaN</td>\n",
       "    </tr>\n",
       "  </tbody>\n",
       "</table>\n",
       "<p>111468 rows × 2 columns</p>\n",
       "</div>"
      ],
      "text/plain": [
       "                   pred_rel_return  rel_performance_2\n",
       "date       ticker                                    \n",
       "2000-02-09 CSCO          -0.025923               -1.0\n",
       "           ROP            0.066175                2.0\n",
       "2000-02-10 CMOS           0.241345                2.0\n",
       "2000-02-11 DELL           0.306035                2.0\n",
       "2000-02-15 VAL            0.043852                1.0\n",
       "...                            ...                ...\n",
       "2018-12-21 NKE           -0.100100                NaN\n",
       "           SAFM          -0.100100                NaN\n",
       "           SCHL          -0.100100                NaN\n",
       "           WBA           -0.100100                NaN\n",
       "2018-12-24 KMX           -0.100100                NaN\n",
       "\n",
       "[111468 rows x 2 columns]"
      ]
     },
     "execution_count": 16,
     "metadata": {},
     "output_type": "execute_result"
    }
   ],
   "source": [
    "data[['pred_rel_return', 'rel_performance_2']]"
   ]
  },
  {
   "cell_type": "markdown",
   "metadata": {},
   "source": [
    "Thus we can observe that the labels were applied correctly:  \n",
    "- CMOS had a relative return of 0.24135 (i.e. ~ 24.1% higher than the SPY) so its label is 2  \n",
    "- VAL had a relative return of 0.043852\t(i.e. ~ 4.3% higher than the SPY) so its label is 1  \n",
    "- CSCO had a relative return of -0.025923 (i.e. ~ -2.5% relative to the SPY) so its label is -1  \n",
    "- NKE had a relative return of -0.100100 (i.e. ~ -10% relative to the SPY) so its label is NaN (as we have not assigned a label for those stocks with relative performance less than 5% compared to the SPY."
   ]
  },
  {
   "cell_type": "code",
   "execution_count": 17,
   "metadata": {},
   "outputs": [
    {
     "data": {
      "text/html": [
       "<div>\n",
       "<style scoped>\n",
       "    .dataframe tbody tr th:only-of-type {\n",
       "        vertical-align: middle;\n",
       "    }\n",
       "\n",
       "    .dataframe tbody tr th {\n",
       "        vertical-align: top;\n",
       "    }\n",
       "\n",
       "    .dataframe thead th {\n",
       "        text-align: right;\n",
       "    }\n",
       "</style>\n",
       "<table border=\"1\" class=\"dataframe\">\n",
       "  <thead>\n",
       "    <tr style=\"text-align: right;\">\n",
       "      <th></th>\n",
       "      <th></th>\n",
       "      <th>pred_rel_return</th>\n",
       "      <th>rel_performance_2</th>\n",
       "    </tr>\n",
       "    <tr>\n",
       "      <th>date</th>\n",
       "      <th>ticker</th>\n",
       "      <th></th>\n",
       "      <th></th>\n",
       "    </tr>\n",
       "  </thead>\n",
       "  <tbody>\n",
       "    <tr>\n",
       "      <th rowspan=\"2\" valign=\"top\">2000-02-24</th>\n",
       "      <th>MDT</th>\n",
       "      <td>0.005511</td>\n",
       "      <td>0.0</td>\n",
       "    </tr>\n",
       "    <tr>\n",
       "      <th>ORTL</th>\n",
       "      <td>0.005511</td>\n",
       "      <td>0.0</td>\n",
       "    </tr>\n",
       "    <tr>\n",
       "      <th>2000-03-08</th>\n",
       "      <th>DDS</th>\n",
       "      <td>-0.004425</td>\n",
       "      <td>0.0</td>\n",
       "    </tr>\n",
       "    <tr>\n",
       "      <th>2000-04-13</th>\n",
       "      <th>DJ</th>\n",
       "      <td>-0.009937</td>\n",
       "      <td>0.0</td>\n",
       "    </tr>\n",
       "    <tr>\n",
       "      <th>2000-04-14</th>\n",
       "      <th>CYN</th>\n",
       "      <td>-0.003053</td>\n",
       "      <td>0.0</td>\n",
       "    </tr>\n",
       "    <tr>\n",
       "      <th>...</th>\n",
       "      <th>...</th>\n",
       "      <td>...</td>\n",
       "      <td>...</td>\n",
       "    </tr>\n",
       "    <tr>\n",
       "      <th>2018-09-20</th>\n",
       "      <th>CPRT</th>\n",
       "      <td>-0.004948</td>\n",
       "      <td>0.0</td>\n",
       "    </tr>\n",
       "    <tr>\n",
       "      <th>2018-09-27</th>\n",
       "      <th>KMX</th>\n",
       "      <td>-0.008830</td>\n",
       "      <td>0.0</td>\n",
       "    </tr>\n",
       "    <tr>\n",
       "      <th>2018-10-01</th>\n",
       "      <th>MTN</th>\n",
       "      <td>0.004993</td>\n",
       "      <td>0.0</td>\n",
       "    </tr>\n",
       "    <tr>\n",
       "      <th rowspan=\"2\" valign=\"top\">2018-10-02</th>\n",
       "      <th>CALM</th>\n",
       "      <td>0.004993</td>\n",
       "      <td>0.0</td>\n",
       "    </tr>\n",
       "    <tr>\n",
       "      <th>KMG</th>\n",
       "      <td>0.004993</td>\n",
       "      <td>0.0</td>\n",
       "    </tr>\n",
       "  </tbody>\n",
       "</table>\n",
       "<p>7647 rows × 2 columns</p>\n",
       "</div>"
      ],
      "text/plain": [
       "                   pred_rel_return  rel_performance_2\n",
       "date       ticker                                    \n",
       "2000-02-24 MDT            0.005511                0.0\n",
       "           ORTL           0.005511                0.0\n",
       "2000-03-08 DDS           -0.004425                0.0\n",
       "2000-04-13 DJ            -0.009937                0.0\n",
       "2000-04-14 CYN           -0.003053                0.0\n",
       "...                            ...                ...\n",
       "2018-09-20 CPRT          -0.004948                0.0\n",
       "2018-09-27 KMX           -0.008830                0.0\n",
       "2018-10-01 MTN            0.004993                0.0\n",
       "2018-10-02 CALM           0.004993                0.0\n",
       "           KMG            0.004993                0.0\n",
       "\n",
       "[7647 rows x 2 columns]"
      ]
     },
     "execution_count": 17,
     "metadata": {},
     "output_type": "execute_result"
    }
   ],
   "source": [
    "# Find those stocks whose relative performance 2 label is 0\n",
    "data[['pred_rel_return', 'rel_performance_2']].loc[data['rel_performance_2'] == 0]"
   ]
  },
  {
   "cell_type": "markdown",
   "metadata": {},
   "source": [
    "It remains to check that if we can observe that the label 0 was applied correctly:  \n",
    "- MDT had a relative return of 0.005511 (i.e. ~ 0.55% higher than the SPY) so its label is 0 as this is between -1% and 1%\n",
    "\n",
    "Thus all labels have been applied appropriately."
   ]
  }
 ],
 "metadata": {
  "kernelspec": {
   "display_name": "Python 3 (ipykernel)",
   "language": "python",
   "name": "python3"
  },
  "language_info": {
   "codemirror_mode": {
    "name": "ipython",
    "version": 3
   },
   "file_extension": ".py",
   "mimetype": "text/x-python",
   "name": "python",
   "nbconvert_exporter": "python",
   "pygments_lexer": "ipython3",
   "version": "3.11.4"
  },
  "latex_envs": {
   "LaTeX_envs_menu_present": true,
   "autoclose": false,
   "autocomplete": true,
   "bibliofile": "biblio.bib",
   "cite_by": "apalike",
   "current_citInitial": 1,
   "eqLabelWithNumbers": true,
   "eqNumInitial": 1,
   "hotkeys": {
    "equation": "Ctrl-E",
    "itemize": "Ctrl-I"
   },
   "labels_anchors": false,
   "latex_user_defs": false,
   "report_style_numbering": false,
   "user_envs_cfg": false
  }
 },
 "nbformat": 4,
 "nbformat_minor": 4
}
